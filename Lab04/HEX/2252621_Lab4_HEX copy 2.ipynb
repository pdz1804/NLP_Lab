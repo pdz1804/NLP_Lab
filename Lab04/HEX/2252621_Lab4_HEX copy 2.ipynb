{
 "cells": [
  {
   "cell_type": "markdown",
   "metadata": {},
   "source": [
    "# Sentiment Analysis Exercise  "
   ]
  },
  {
   "cell_type": "markdown",
   "metadata": {},
   "source": [
    "The goal of the Sentiment Analysis (SA) task is to classify the sentiment within a piece of text. This sentiment can be either binary (positive-negative) or multi-class (a rating scale from 1 to 5).\n",
    " \n",
    "Data: http://snap.stanford.edu/data/amazon/productGraph/categoryFiles/reviews_Digital_Music_5.json.gz\n",
    " \n",
    "Steps to Solve This Exercise\n",
    "1. Load data into a pandas DataFrame\n",
    "2. Preprocessing & Vectorizing \n",
    "3. Building Model\n",
    "4. Evaluation\n",
    "\n",
    "Note: Submit only a single Jupyter Notebook file that can handle all tasks, including data downloading, preprocessing, and model training. (Submissions that do not follow the guidelines will receive a score of 0.)"
   ]
  },
  {
   "cell_type": "markdown",
   "metadata": {},
   "source": [
    "# Install and Import"
   ]
  },
  {
   "cell_type": "code",
   "execution_count": 1,
   "metadata": {},
   "outputs": [
    {
     "name": "stdout",
     "output_type": "stream",
     "text": [
      "Requirement already satisfied: gdown in c:\\python312\\lib\\site-packages (5.2.0)\n",
      "Requirement already satisfied: pandas in c:\\python312\\lib\\site-packages (2.2.3)\n",
      "Requirement already satisfied: numpy in c:\\python312\\lib\\site-packages (1.26.4)\n",
      "Requirement already satisfied: seaborn in c:\\python312\\lib\\site-packages (0.13.2)\n",
      "Requirement already satisfied: matplotlib in c:\\python312\\lib\\site-packages (3.9.2)\n",
      "Requirement already satisfied: scikit-learn in c:\\python312\\lib\\site-packages (1.5.2)\n",
      "Requirement already satisfied: nltk in c:\\python312\\lib\\site-packages (3.9.1)\n",
      "Requirement already satisfied: tqdm in c:\\python312\\lib\\site-packages (4.67.1)\n",
      "Requirement already satisfied: xgboost in c:\\python312\\lib\\site-packages (2.1.3)\n",
      "Requirement already satisfied: joblib in c:\\python312\\lib\\site-packages (1.4.2)\n",
      "Requirement already satisfied: wget in c:\\python312\\lib\\site-packages (3.2)\n",
      "Requirement already satisfied: beautifulsoup4 in c:\\python312\\lib\\site-packages (from gdown) (4.12.3)\n",
      "Requirement already satisfied: filelock in c:\\python312\\lib\\site-packages (from gdown) (3.16.1)\n",
      "Requirement already satisfied: requests[socks] in c:\\python312\\lib\\site-packages (from gdown) (2.32.3)\n",
      "Requirement already satisfied: python-dateutil>=2.8.2 in c:\\users\\user\\appdata\\roaming\\python\\python312\\site-packages (from pandas) (2.9.0.post0)\n",
      "Requirement already satisfied: pytz>=2020.1 in c:\\python312\\lib\\site-packages (from pandas) (2024.2)\n",
      "Requirement already satisfied: tzdata>=2022.7 in c:\\python312\\lib\\site-packages (from pandas) (2024.2)\n",
      "Requirement already satisfied: contourpy>=1.0.1 in c:\\python312\\lib\\site-packages (from matplotlib) (1.3.0)\n",
      "Requirement already satisfied: cycler>=0.10 in c:\\python312\\lib\\site-packages (from matplotlib) (0.12.1)\n",
      "Requirement already satisfied: fonttools>=4.22.0 in c:\\python312\\lib\\site-packages (from matplotlib) (4.54.1)\n",
      "Requirement already satisfied: kiwisolver>=1.3.1 in c:\\python312\\lib\\site-packages (from matplotlib) (1.4.7)\n",
      "Requirement already satisfied: packaging>=20.0 in c:\\users\\user\\appdata\\roaming\\python\\python312\\site-packages (from matplotlib) (24.2)\n",
      "Requirement already satisfied: pillow>=8 in c:\\python312\\lib\\site-packages (from matplotlib) (10.4.0)\n",
      "Requirement already satisfied: pyparsing>=2.3.1 in c:\\python312\\lib\\site-packages (from matplotlib) (3.2.0)\n",
      "Requirement already satisfied: scipy>=1.6.0 in c:\\python312\\lib\\site-packages (from scikit-learn) (1.13.1)\n",
      "Requirement already satisfied: threadpoolctl>=3.1.0 in c:\\python312\\lib\\site-packages (from scikit-learn) (3.5.0)\n",
      "Requirement already satisfied: click in c:\\python312\\lib\\site-packages (from nltk) (8.1.8)\n",
      "Requirement already satisfied: regex>=2021.8.3 in c:\\python312\\lib\\site-packages (from nltk) (2024.11.6)\n",
      "Requirement already satisfied: colorama in c:\\users\\user\\appdata\\roaming\\python\\python312\\site-packages (from tqdm) (0.4.6)\n",
      "Requirement already satisfied: six>=1.5 in c:\\users\\user\\appdata\\roaming\\python\\python312\\site-packages (from python-dateutil>=2.8.2->pandas) (1.16.0)\n",
      "Requirement already satisfied: soupsieve>1.2 in c:\\python312\\lib\\site-packages (from beautifulsoup4->gdown) (2.6)\n",
      "Requirement already satisfied: charset-normalizer<4,>=2 in c:\\python312\\lib\\site-packages (from requests[socks]->gdown) (3.4.0)\n",
      "Requirement already satisfied: idna<4,>=2.5 in c:\\python312\\lib\\site-packages (from requests[socks]->gdown) (3.10)\n",
      "Requirement already satisfied: urllib3<3,>=1.21.1 in c:\\python312\\lib\\site-packages (from requests[socks]->gdown) (2.2.3)\n",
      "Requirement already satisfied: certifi>=2017.4.17 in c:\\python312\\lib\\site-packages (from requests[socks]->gdown) (2024.8.30)\n",
      "Requirement already satisfied: PySocks!=1.5.7,>=1.5.6 in c:\\python312\\lib\\site-packages (from requests[socks]->gdown) (1.7.1)\n",
      "Note: you may need to restart the kernel to use updated packages.\n"
     ]
    },
    {
     "name": "stderr",
     "output_type": "stream",
     "text": [
      "\n",
      "[notice] A new release of pip is available: 24.3.1 -> 25.0.1\n",
      "[notice] To update, run: python.exe -m pip install --upgrade pip\n"
     ]
    }
   ],
   "source": [
    "%pip install gdown pandas numpy seaborn matplotlib scikit-learn nltk tqdm xgboost joblib wget"
   ]
  },
  {
   "cell_type": "code",
   "execution_count": 2,
   "metadata": {},
   "outputs": [],
   "source": [
    "# Import libraries\n",
    "import sys\n",
    "import os\n",
    "import platform\n",
    "import gzip\n",
    "import re\n",
    "import joblib\n",
    "import json\n",
    "import pandas as pd\n",
    "import requests\n",
    "import numpy as np\n",
    "import seaborn as sns\n",
    "import matplotlib.pyplot as plt\n",
    "from tqdm import tqdm\n",
    "\n",
    "from sklearn.model_selection import train_test_split\n",
    "from sklearn.feature_extraction.text import TfidfVectorizer\n",
    "from sklearn.naive_bayes import MultinomialNB\n",
    "from sklearn.linear_model import LogisticRegression\n",
    "from sklearn.svm import SVC\n",
    "import xgboost as xgb\n",
    "from sklearn.ensemble import RandomForestClassifier\n",
    "from sklearn.metrics import classification_report, roc_auc_score, accuracy_score, f1_score\n",
    "\n",
    "from nltk.corpus import stopwords\n",
    "from nltk.tokenize import word_tokenize\n",
    "from nltk.tokenize import sent_tokenize"
   ]
  },
  {
   "cell_type": "code",
   "execution_count": 3,
   "metadata": {},
   "outputs": [],
   "source": [
    "tqdm.pandas(desc=\"Processing text\")"
   ]
  },
  {
   "cell_type": "code",
   "execution_count": 4,
   "metadata": {},
   "outputs": [],
   "source": [
    "# pd.set_option(\"max_colwidth\", None)"
   ]
  },
  {
   "cell_type": "code",
   "execution_count": 5,
   "metadata": {},
   "outputs": [
    {
     "name": "stdout",
     "output_type": "stream",
     "text": [
      "Python executable being used: c:\\Python312\\python.exe\n",
      "Python version: 3.12.6 (tags/v3.12.6:a4a2d2b, Sep  6 2024, 20:11:23) [MSC v.1940 64 bit (AMD64)]\n",
      "Operating System: Windows\n",
      "OS Version: 10.0.19045\n",
      "OS Release: 10\n",
      "Machine: AMD64\n",
      "Running in Visual Studio Code\n"
     ]
    }
   ],
   "source": [
    "# Python environment details\n",
    "print(\"Python executable being used:\", sys.executable)\n",
    "print(\"Python version:\", sys.version)\n",
    "\n",
    "# Operating System details\n",
    "print(\"Operating System:\", platform.system())\n",
    "print(\"OS Version:\", platform.version())\n",
    "print(\"OS Release:\", platform.release())\n",
    "\n",
    "# Machine and architecture details\n",
    "print(\"Machine:\", platform.machine())\n",
    "\n",
    "# Visual Studio Code details (based on environment variable)\n",
    "vscode_info = os.environ.get('VSCODE_PID', None)\n",
    "if vscode_info:\n",
    "    print(\"Running in Visual Studio Code\")\n",
    "else:\n",
    "    print(\"Not running in Visual Studio Code\")"
   ]
  },
  {
   "cell_type": "markdown",
   "metadata": {},
   "source": [
    "# Load data"
   ]
  },
  {
   "cell_type": "code",
   "execution_count": 6,
   "metadata": {},
   "outputs": [
    {
     "name": "stdout",
     "output_type": "stream",
     "text": [
      "File already exists: reviews_Digital_Music_5.json.gz\n"
     ]
    }
   ],
   "source": [
    "# Download the dataset\n",
    "url = \"http://snap.stanford.edu/data/amazon/productGraph/categoryFiles/reviews_Digital_Music_5.json.gz\"\n",
    "filename = \"reviews_Digital_Music_5.json.gz\"\n",
    "\n",
    "# Check if the file already exists\n",
    "if not os.path.exists(filename):\n",
    "    print(\"Downloading dataset...\")\n",
    "    response = requests.get(url, stream=True)\n",
    "    if response.status_code == 200:\n",
    "        with open(filename, \"wb\") as f:\n",
    "            for chunk in response.iter_content(chunk_size=1024):\n",
    "                f.write(chunk)\n",
    "        print(f\"Dataset downloaded and saved as {filename}\")\n",
    "    else:\n",
    "        print(f\"Failed to download the file. Status code: {response.status_code}\")\n",
    "else:\n",
    "    print(f\"File already exists: {filename}\")\n"
   ]
  },
  {
   "cell_type": "code",
   "execution_count": 7,
   "metadata": {},
   "outputs": [
    {
     "name": "stdout",
     "output_type": "stream",
     "text": [
      "\n",
      "Dataset Sample:\n",
      "       reviewerID        asin          reviewerName helpful  \\\n",
      "0  A3EBHHCZO6V2A4  5555991584  Amaranth \"music fan\"  [3, 3]   \n",
      "1   AZPWAXJG9OJXV  5555991584             bethtexas  [0, 0]   \n",
      "2  A38IRL0X2T4DPF  5555991584           bob turnley  [2, 2]   \n",
      "3  A22IK3I6U76GX0  5555991584                 Calle  [1, 1]   \n",
      "4  A1AISPOIIHTHXX  5555991584           Cloud \"...\"  [1, 1]   \n",
      "\n",
      "                                          reviewText  overall  \\\n",
      "0  It's hard to believe \"Memory of Trees\" came ou...      5.0   \n",
      "1  A clasically-styled and introverted album, Mem...      5.0   \n",
      "2  I never thought Enya would reach the sublime h...      5.0   \n",
      "3  This is the third review of an irish album I w...      5.0   \n",
      "4  Enya, despite being a successful recording art...      4.0   \n",
      "\n",
      "                        summary  unixReviewTime   reviewTime  \n",
      "0       Enya's last great album      1158019200  09 12, 2006  \n",
      "1      Enya at her most elegant       991526400   06 3, 2001  \n",
      "2               The best so far      1058140800  07 14, 2003  \n",
      "3  Ireland produces good music.       957312000   05 3, 2000  \n",
      "4        4.5; music to dream to      1200528000  01 17, 2008  \n"
     ]
    }
   ],
   "source": [
    "# Load JSON file\n",
    "def load_data(file_path):\n",
    "    data = []\n",
    "    with gzip.open(file_path, 'rt', encoding='utf-8') as f:\n",
    "        for line in f:\n",
    "            data.append(json.loads(line))\n",
    "    return pd.DataFrame(data)\n",
    "\n",
    "# Load the dataset into a DataFrame\n",
    "df = load_data(filename)\n",
    "\n",
    "# Display basic info\n",
    "print(\"\\nDataset Sample:\")\n",
    "print(df.head())"
   ]
  },
  {
   "cell_type": "markdown",
   "metadata": {},
   "source": [
    "# Preprocess"
   ]
  },
  {
   "cell_type": "code",
   "execution_count": 8,
   "metadata": {},
   "outputs": [
    {
     "data": {
      "text/html": [
       "<div>\n",
       "<style scoped>\n",
       "    .dataframe tbody tr th:only-of-type {\n",
       "        vertical-align: middle;\n",
       "    }\n",
       "\n",
       "    .dataframe tbody tr th {\n",
       "        vertical-align: top;\n",
       "    }\n",
       "\n",
       "    .dataframe thead th {\n",
       "        text-align: right;\n",
       "    }\n",
       "</style>\n",
       "<table border=\"1\" class=\"dataframe\">\n",
       "  <thead>\n",
       "    <tr style=\"text-align: right;\">\n",
       "      <th></th>\n",
       "      <th>reviewText</th>\n",
       "      <th>overall</th>\n",
       "    </tr>\n",
       "  </thead>\n",
       "  <tbody>\n",
       "    <tr>\n",
       "      <th>0</th>\n",
       "      <td>It's hard to believe \"Memory of Trees\" came ou...</td>\n",
       "      <td>5.0</td>\n",
       "    </tr>\n",
       "    <tr>\n",
       "      <th>1</th>\n",
       "      <td>A clasically-styled and introverted album, Mem...</td>\n",
       "      <td>5.0</td>\n",
       "    </tr>\n",
       "    <tr>\n",
       "      <th>2</th>\n",
       "      <td>I never thought Enya would reach the sublime h...</td>\n",
       "      <td>5.0</td>\n",
       "    </tr>\n",
       "    <tr>\n",
       "      <th>3</th>\n",
       "      <td>This is the third review of an irish album I w...</td>\n",
       "      <td>5.0</td>\n",
       "    </tr>\n",
       "    <tr>\n",
       "      <th>4</th>\n",
       "      <td>Enya, despite being a successful recording art...</td>\n",
       "      <td>4.0</td>\n",
       "    </tr>\n",
       "  </tbody>\n",
       "</table>\n",
       "</div>"
      ],
      "text/plain": [
       "                                          reviewText  overall\n",
       "0  It's hard to believe \"Memory of Trees\" came ou...      5.0\n",
       "1  A clasically-styled and introverted album, Mem...      5.0\n",
       "2  I never thought Enya would reach the sublime h...      5.0\n",
       "3  This is the third review of an irish album I w...      5.0\n",
       "4  Enya, despite being a successful recording art...      4.0"
      ]
     },
     "execution_count": 8,
     "metadata": {},
     "output_type": "execute_result"
    }
   ],
   "source": [
    "df1 = df[['reviewText', 'overall']]\n",
    "df1.head()"
   ]
  },
  {
   "cell_type": "code",
   "execution_count": 9,
   "metadata": {},
   "outputs": [
    {
     "name": "stdout",
     "output_type": "stream",
     "text": [
      "<class 'pandas.core.frame.DataFrame'>\n",
      "RangeIndex: 64706 entries, 0 to 64705\n",
      "Data columns (total 2 columns):\n",
      " #   Column      Non-Null Count  Dtype  \n",
      "---  ------      --------------  -----  \n",
      " 0   reviewText  64706 non-null  object \n",
      " 1   overall     64706 non-null  float64\n",
      "dtypes: float64(1), object(1)\n",
      "memory usage: 1011.2+ KB\n"
     ]
    }
   ],
   "source": [
    "df1.info()\n"
   ]
  },
  {
   "cell_type": "code",
   "execution_count": 10,
   "metadata": {},
   "outputs": [
    {
     "data": {
      "text/plain": [
       "array([5., 4., 3., 1., 2.])"
      ]
     },
     "execution_count": 10,
     "metadata": {},
     "output_type": "execute_result"
    }
   ],
   "source": [
    "df1['overall'].unique()"
   ]
  },
  {
   "cell_type": "code",
   "execution_count": 11,
   "metadata": {},
   "outputs": [
    {
     "name": "stdout",
     "output_type": "stream",
     "text": [
      "overall\n",
      "5.0    35580\n",
      "4.0    16536\n",
      "3.0     6789\n",
      "2.0     3010\n",
      "1.0     2791\n",
      "Name: count, dtype: int64\n"
     ]
    }
   ],
   "source": [
    "value_counts = df1['overall'].value_counts()\n",
    "print(value_counts)"
   ]
  },
  {
   "cell_type": "code",
   "execution_count": 12,
   "metadata": {},
   "outputs": [
    {
     "name": "stderr",
     "output_type": "stream",
     "text": [
      "C:\\Users\\User\\AppData\\Local\\Temp\\ipykernel_15668\\3116498781.py:2: SettingWithCopyWarning: \n",
      "A value is trying to be set on a copy of a slice from a DataFrame.\n",
      "Try using .loc[row_indexer,col_indexer] = value instead\n",
      "\n",
      "See the caveats in the documentation: https://pandas.pydata.org/pandas-docs/stable/user_guide/indexing.html#returning-a-view-versus-a-copy\n",
      "  df1['sentiment'] = df1['overall'].apply(lambda x: 1 if x > 3 else 0)\n"
     ]
    }
   ],
   "source": [
    "# Convert ratings to binary sentiment (1-3 = negative, 4-5 = positive)\n",
    "df1['sentiment'] = df1['overall'].apply(lambda x: 1 if x > 3 else 0)\n"
   ]
  },
  {
   "cell_type": "code",
   "execution_count": 13,
   "metadata": {},
   "outputs": [
    {
     "name": "stdout",
     "output_type": "stream",
     "text": [
      "sentiment\n",
      "1    52116\n",
      "0    12590\n",
      "Name: count, dtype: int64\n"
     ]
    }
   ],
   "source": [
    "value_counts = df1['sentiment'].value_counts()\n",
    "print(value_counts)"
   ]
  },
  {
   "cell_type": "code",
   "execution_count": 14,
   "metadata": {},
   "outputs": [],
   "source": [
    "def remove_special_characters(text):\n",
    "    \"\"\"\n",
    "    Remove special characters and punctuation from text.\n",
    "    \"\"\"\n",
    "    text = re.sub(r\"[^a-zA-Z0-9\\s]\", \"\", text)\n",
    "    text = re.sub(r'http\\S+|https?://\\S+|www\\.\\S+', '', text)\n",
    "    text = re.sub(r'\\[.*?\\]', '', text)\n",
    "    text = re.sub(r'<.*?>+', '', text)\n",
    "    text = re.sub(r'\\n|\\t|\\r|\\f|\\b', '', text)\n",
    "    text = re.sub(r'\\w*\\d\\w*', '', text)\n",
    "    return text.strip()\n",
    "\n",
    "def lowercase_text(text):\n",
    "    \"\"\"\n",
    "    Convert text to lowercase.\n",
    "    \"\"\"\n",
    "    return text.lower()\n",
    "\n",
    "def tokenize_text(text):\n",
    "    \"\"\"\n",
    "    Tokenize text into words.\n",
    "    \"\"\"\n",
    "    return word_tokenize(text)\n",
    "\n",
    "def remove_stopwords(words, language=\"english\"):\n",
    "    \"\"\"\n",
    "    Remove stopwords from a list of words.\n",
    "    \"\"\"\n",
    "    stop_words = set(stopwords.words(language))\n",
    "    return [word for word in words if word not in stop_words]\n",
    "\n",
    "def stem_words(words):\n",
    "    \"\"\"\n",
    "    Apply stemming to a list of words.\n",
    "    Stemming reduces words to their base form using rule-based heuristics.\n",
    "    \"\"\"\n",
    "    from nltk.stem import PorterStemmer\n",
    "    stemmer = PorterStemmer()\n",
    "    return [stemmer.stem(word) for word in words]\n",
    "\n",
    "def lemmatize_words(words):\n",
    "    \"\"\"\n",
    "    Apply lemmatization to a list of words.\n",
    "    Lemmatization reduces words to their dictionary form using linguistic rules.\n",
    "    \"\"\"\n",
    "    from nltk.stem import WordNetLemmatizer\n",
    "    lemmatizer = WordNetLemmatizer()\n",
    "    return [lemmatizer.lemmatize(word) for word in words]\n",
    "\n",
    "def remove_html_tags(text):\n",
    "    \"\"\" \n",
    "    Remove html tags from text\n",
    "    \"\"\"\n",
    "    clean_text = re.sub(r'<.*?>', '', text)\n",
    "    return clean_text\n",
    "\n",
    "def remove_mention(text):\n",
    "    \"\"\" \n",
    "    Remove @mentions\n",
    "    \"\"\"\n",
    "    # Remove @mentions\n",
    "    clean_text = re.sub(r'@\\w+', '', text)\n",
    "    return clean_text\n",
    "\n",
    "def remove_urls(text):\n",
    "    \"\"\" \n",
    "    Remove urls from text\n",
    "    \"\"\"\n",
    "    clean_text = re.sub(r'http\\S+', '', text)\n",
    "    return clean_text\n",
    "\n",
    "def replace_chat_words(text):\n",
    "    chat_words = {\n",
    "        \"BRB\": \"Be right back\",\n",
    "        \"BTW\": \"By the way\",\n",
    "        \"OMG\": \"Oh my God/goodness\",\n",
    "        \"TTYL\": \"Talk to you later\",\n",
    "        \"OMW\": \"On my way\",\n",
    "        \"SMH/SMDH\": \"Shaking my head/shaking my darn head\",\n",
    "        \"LOL\": \"Laugh out loud\",\n",
    "        \"TBD\": \"To be determined\", \n",
    "        \"IMHO/IMO\": \"In my humble opinion\",\n",
    "        \"HMU\": \"Hit me up\",\n",
    "        \"IIRC\": \"If I remember correctly\",\n",
    "        \"LMK\": \"Let me know\", \n",
    "        \"OG\": \"Original gangsters (used for old friends)\",\n",
    "        \"FTW\": \"For the win\", \n",
    "        \"NVM\": \"Nevermind\",\n",
    "        \"OOTD\": \"Outfit of the day\", \n",
    "        \"Ngl\": \"Not gonna lie\",\n",
    "        \"Rq\": \"real quick\", \n",
    "        \"Iykyk\": \"If you know, you know\",\n",
    "        \"Ong\": \"On god (I swear)\", \n",
    "        \"YAAAS\": \"Yes!\", \n",
    "        \"Brt\": \"Be right there\",\n",
    "        \"Sm\": \"So much\",\n",
    "        \"Ig\": \"I guess\",\n",
    "        \"Wya\": \"Where you at\",\n",
    "        \"Istg\": \"I swear to god\",\n",
    "        \"Hbu\": \"How about you\",\n",
    "        \"Atm\": \"At the moment\",\n",
    "        \"Asap\": \"As soon as possible\",\n",
    "        \"Fyi\": \"For your information\",\n",
    "        \"Tbh\": \"To be honest\",\n",
    "        \"Wtf\": \"What the fuck\",\n",
    "        \"Idk\": \"I don't know\"\n",
    "    }\n",
    "    for word, expanded_form in chat_words.items():\n",
    "        text = text.replace(word, expanded_form)\n",
    "    return text\n",
    "\n",
    "def text_preprocessing(\n",
    "    text,\n",
    "    remove_special=True,\n",
    "    to_lowercase=True,\n",
    "    remove_stopwords_flag=True,\n",
    "    stem_flag=False,\n",
    "    lemmatize_flag=False,\n",
    "    tokenize_flag=True,\n",
    "    language=\"english\",\n",
    "):\n",
    "    \"\"\"\n",
    "    Perform text preprocessing with multiple configurable steps.\n",
    "\n",
    "    :param text: The input text string to preprocess.\n",
    "    :param remove_special: Whether to remove special characters.\n",
    "    :param to_lowercase: Whether to convert the text to lowercase.\n",
    "    :param remove_stopwords_flag: Whether to remove stopwords from the text.\n",
    "    :param stem_flag: Whether to apply stemming.\n",
    "    :param lemmatize_flag: Whether to apply lemmatization.\n",
    "    :param tokenize_flag: Whether to tokenize the text into words.\n",
    "    :param language: Language to use for stopwords and tokenization.\n",
    "    :return: Preprocessed text.\n",
    "    \"\"\"\n",
    "    from nltk.tokenize import sent_tokenize\n",
    "    \n",
    "    # Split the text into sentences for better handling of long texts\n",
    "    sentences = sent_tokenize(text)\n",
    "\n",
    "    processed_sentences = []\n",
    "    for sentence in sentences:\n",
    "        # Step 1: Remove special characters\n",
    "        sentence = remove_mention(sentence)\n",
    "        sentence = remove_html_tags(sentence)\n",
    "        sentence = remove_urls(sentence)\n",
    "        sentence = replace_chat_words(sentence)\n",
    "        \n",
    "        if remove_special:\n",
    "            sentence = remove_special_characters(sentence)\n",
    "        \n",
    "        # Step 2: Convert to lowercase\n",
    "        if to_lowercase:\n",
    "            sentence = lowercase_text(sentence)\n",
    "        \n",
    "        # Step 3: Tokenize the sentence into words\n",
    "        words = tokenize_text(sentence)\n",
    "        \n",
    "        # Step 4: Remove stopwords\n",
    "        if remove_stopwords_flag:\n",
    "            words = remove_stopwords(words, language)\n",
    "        \n",
    "        # Step 5: Apply stemming\n",
    "        if stem_flag:\n",
    "            words = stem_words(words)\n",
    "        \n",
    "        # Step 6: Apply lemmatization\n",
    "        if lemmatize_flag:\n",
    "            words = lemmatize_words(words)\n",
    "        \n",
    "        # Step 7: Reconstruct the sentence from words\n",
    "        processed_sentences.append(\" \".join(words))\n",
    "\n",
    "    # Merge sentences back into text\n",
    "    return \" \".join(processed_sentences)\n",
    "\n"
   ]
  },
  {
   "cell_type": "code",
   "execution_count": 15,
   "metadata": {},
   "outputs": [
    {
     "name": "stdout",
     "output_type": "stream",
     "text": [
      "Original Text:\n",
      " \n",
      "This is an example sentence to demonstrate text preprocessing!\n",
      "It includes punctuation, CAPITALIZED words, and stopwords.\n",
      "\n",
      "Processed Text:\n",
      " this is an example sentence to demonstrate text preprocessing it includes punctuation capitalized word and stopwords\n"
     ]
    }
   ],
   "source": [
    "# Example text\n",
    "text = \"\"\"\n",
    "This is an example sentence to demonstrate text preprocessing!\n",
    "It includes punctuation, CAPITALIZED words, and stopwords.\n",
    "\"\"\"\n",
    "\n",
    "processed_text = text_preprocessing(\n",
    "    text,\n",
    "    remove_special=True,\n",
    "    to_lowercase=True,\n",
    "    remove_stopwords_flag=False,\n",
    "    stem_flag=False,\n",
    "    lemmatize_flag=True,\n",
    ")\n",
    "\n",
    "print(\"Original Text:\\n\", text)\n",
    "print(\"Processed Text:\\n\", processed_text)"
   ]
  },
  {
   "cell_type": "code",
   "execution_count": 16,
   "metadata": {},
   "outputs": [],
   "source": [
    "# # Convert ratings to binary sentiment (1-3 = negative, 4-5 = positive)\n",
    "# df1.head()"
   ]
  },
  {
   "cell_type": "code",
   "execution_count": 17,
   "metadata": {},
   "outputs": [],
   "source": [
    "# df1.info()"
   ]
  },
  {
   "cell_type": "code",
   "execution_count": 18,
   "metadata": {},
   "outputs": [],
   "source": [
    "# # Rename 'text' to 'reviewText' safely\n",
    "# df1 = df1.rename(columns={\"text\": \"reviewText\"})\n",
    "\n",
    "# # Check if 'reviewText' column exists after renaming\n",
    "# if \"reviewText\" not in df1.columns:\n",
    "#     raise KeyError(\"Column 'text' was not found in the DataFrame.\")\n",
    "\n",
    "# # Apply text preprocessing\n",
    "# df1['text_clean'] = df1['reviewText'].astype(str).progress_apply(lambda x: text_preprocessing(\n",
    "#     text=x,\n",
    "#     remove_special=True,\n",
    "#     to_lowercase=True,\n",
    "#     remove_stopwords_flag=False,\n",
    "#     tokenize_flag=True,\n",
    "#     stem_flag=False,\n",
    "#     lemmatize_flag=True\n",
    "# ))"
   ]
  },
  {
   "cell_type": "code",
   "execution_count": 19,
   "metadata": {},
   "outputs": [
    {
     "data": {
      "text/html": [
       "<div>\n",
       "<style scoped>\n",
       "    .dataframe tbody tr th:only-of-type {\n",
       "        vertical-align: middle;\n",
       "    }\n",
       "\n",
       "    .dataframe tbody tr th {\n",
       "        vertical-align: top;\n",
       "    }\n",
       "\n",
       "    .dataframe thead th {\n",
       "        text-align: right;\n",
       "    }\n",
       "</style>\n",
       "<table border=\"1\" class=\"dataframe\">\n",
       "  <thead>\n",
       "    <tr style=\"text-align: right;\">\n",
       "      <th></th>\n",
       "      <th>reviewText</th>\n",
       "      <th>overall</th>\n",
       "      <th>sentiment</th>\n",
       "    </tr>\n",
       "  </thead>\n",
       "  <tbody>\n",
       "    <tr>\n",
       "      <th>0</th>\n",
       "      <td>It's hard to believe \"Memory of Trees\" came ou...</td>\n",
       "      <td>5.0</td>\n",
       "      <td>1</td>\n",
       "    </tr>\n",
       "    <tr>\n",
       "      <th>1</th>\n",
       "      <td>A clasically-styled and introverted album, Mem...</td>\n",
       "      <td>5.0</td>\n",
       "      <td>1</td>\n",
       "    </tr>\n",
       "    <tr>\n",
       "      <th>2</th>\n",
       "      <td>I never thought Enya would reach the sublime h...</td>\n",
       "      <td>5.0</td>\n",
       "      <td>1</td>\n",
       "    </tr>\n",
       "    <tr>\n",
       "      <th>3</th>\n",
       "      <td>This is the third review of an irish album I w...</td>\n",
       "      <td>5.0</td>\n",
       "      <td>1</td>\n",
       "    </tr>\n",
       "    <tr>\n",
       "      <th>4</th>\n",
       "      <td>Enya, despite being a successful recording art...</td>\n",
       "      <td>4.0</td>\n",
       "      <td>1</td>\n",
       "    </tr>\n",
       "  </tbody>\n",
       "</table>\n",
       "</div>"
      ],
      "text/plain": [
       "                                          reviewText  overall  sentiment\n",
       "0  It's hard to believe \"Memory of Trees\" came ou...      5.0          1\n",
       "1  A clasically-styled and introverted album, Mem...      5.0          1\n",
       "2  I never thought Enya would reach the sublime h...      5.0          1\n",
       "3  This is the third review of an irish album I w...      5.0          1\n",
       "4  Enya, despite being a successful recording art...      4.0          1"
      ]
     },
     "execution_count": 19,
     "metadata": {},
     "output_type": "execute_result"
    }
   ],
   "source": [
    "df1.head()"
   ]
  },
  {
   "cell_type": "code",
   "execution_count": 20,
   "metadata": {},
   "outputs": [
    {
     "name": "stdout",
     "output_type": "stream",
     "text": [
      "<class 'pandas.core.frame.DataFrame'>\n",
      "RangeIndex: 64706 entries, 0 to 64705\n",
      "Data columns (total 3 columns):\n",
      " #   Column      Non-Null Count  Dtype  \n",
      "---  ------      --------------  -----  \n",
      " 0   reviewText  64706 non-null  object \n",
      " 1   overall     64706 non-null  float64\n",
      " 2   sentiment   64706 non-null  int64  \n",
      "dtypes: float64(1), int64(1), object(1)\n",
      "memory usage: 1.5+ MB\n"
     ]
    }
   ],
   "source": [
    "df1.info()"
   ]
  },
  {
   "cell_type": "markdown",
   "metadata": {},
   "source": [
    "# Vectorizer"
   ]
  },
  {
   "cell_type": "code",
   "execution_count": 21,
   "metadata": {},
   "outputs": [],
   "source": [
    "# # Adjust overall ratings to start from 0\n",
    "# df1['overall'] = df1['overall'] - 1  # Shifts [1,2,3,4,5] -> [0,1,2,3,4]\n"
   ]
  },
  {
   "cell_type": "code",
   "execution_count": 22,
   "metadata": {},
   "outputs": [],
   "source": [
    "# df1.head()"
   ]
  },
  {
   "cell_type": "code",
   "execution_count": 23,
   "metadata": {},
   "outputs": [],
   "source": [
    "# # Save DataFrame to CSV\n",
    "# csv_save_path = \"df1.csv\"\n",
    "# df1.to_csv(csv_save_path, index=False)\n",
    "\n",
    "# print(f\"✅ Results saved to {csv_save_path}\")"
   ]
  },
  {
   "cell_type": "code",
   "execution_count": 24,
   "metadata": {},
   "outputs": [
    {
     "data": {
      "text/html": [
       "<div>\n",
       "<style scoped>\n",
       "    .dataframe tbody tr th:only-of-type {\n",
       "        vertical-align: middle;\n",
       "    }\n",
       "\n",
       "    .dataframe tbody tr th {\n",
       "        vertical-align: top;\n",
       "    }\n",
       "\n",
       "    .dataframe thead th {\n",
       "        text-align: right;\n",
       "    }\n",
       "</style>\n",
       "<table border=\"1\" class=\"dataframe\">\n",
       "  <thead>\n",
       "    <tr style=\"text-align: right;\">\n",
       "      <th></th>\n",
       "      <th>reviewText</th>\n",
       "      <th>overall</th>\n",
       "      <th>sentiment</th>\n",
       "      <th>text_clean</th>\n",
       "    </tr>\n",
       "  </thead>\n",
       "  <tbody>\n",
       "    <tr>\n",
       "      <th>0</th>\n",
       "      <td>It's hard to believe \"Memory of Trees\" came ou...</td>\n",
       "      <td>4.0</td>\n",
       "      <td>1</td>\n",
       "      <td>it hard to believe memory of tree came out yea...</td>\n",
       "    </tr>\n",
       "    <tr>\n",
       "      <th>1</th>\n",
       "      <td>A clasically-styled and introverted album, Mem...</td>\n",
       "      <td>4.0</td>\n",
       "      <td>1</td>\n",
       "      <td>a clasicallystyled and introverted album memor...</td>\n",
       "    </tr>\n",
       "    <tr>\n",
       "      <th>2</th>\n",
       "      <td>I never thought Enya would reach the sublime h...</td>\n",
       "      <td>4.0</td>\n",
       "      <td>1</td>\n",
       "      <td>i never thought enya would reach the sublime h...</td>\n",
       "    </tr>\n",
       "    <tr>\n",
       "      <th>3</th>\n",
       "      <td>This is the third review of an irish album I w...</td>\n",
       "      <td>4.0</td>\n",
       "      <td>1</td>\n",
       "      <td>this is the third review of an irish album i w...</td>\n",
       "    </tr>\n",
       "    <tr>\n",
       "      <th>4</th>\n",
       "      <td>Enya, despite being a successful recording art...</td>\n",
       "      <td>3.0</td>\n",
       "      <td>1</td>\n",
       "      <td>enya despite being a successful recording arti...</td>\n",
       "    </tr>\n",
       "  </tbody>\n",
       "</table>\n",
       "</div>"
      ],
      "text/plain": [
       "                                          reviewText  overall  sentiment  \\\n",
       "0  It's hard to believe \"Memory of Trees\" came ou...      4.0          1   \n",
       "1  A clasically-styled and introverted album, Mem...      4.0          1   \n",
       "2  I never thought Enya would reach the sublime h...      4.0          1   \n",
       "3  This is the third review of an irish album I w...      4.0          1   \n",
       "4  Enya, despite being a successful recording art...      3.0          1   \n",
       "\n",
       "                                          text_clean  \n",
       "0  it hard to believe memory of tree came out yea...  \n",
       "1  a clasicallystyled and introverted album memor...  \n",
       "2  i never thought enya would reach the sublime h...  \n",
       "3  this is the third review of an irish album i w...  \n",
       "4  enya despite being a successful recording arti...  "
      ]
     },
     "execution_count": 24,
     "metadata": {},
     "output_type": "execute_result"
    }
   ],
   "source": [
    "df1 = pd.read_csv(\"df1.csv\")\n",
    "df1.head()"
   ]
  },
  {
   "cell_type": "code",
   "execution_count": 25,
   "metadata": {},
   "outputs": [
    {
     "name": "stdout",
     "output_type": "stream",
     "text": [
      "<class 'pandas.core.frame.DataFrame'>\n",
      "RangeIndex: 64706 entries, 0 to 64705\n",
      "Data columns (total 4 columns):\n",
      " #   Column      Non-Null Count  Dtype  \n",
      "---  ------      --------------  -----  \n",
      " 0   reviewText  64705 non-null  object \n",
      " 1   overall     64706 non-null  float64\n",
      " 2   sentiment   64706 non-null  int64  \n",
      " 3   text_clean  64705 non-null  object \n",
      "dtypes: float64(1), int64(1), object(2)\n",
      "memory usage: 2.0+ MB\n"
     ]
    }
   ],
   "source": [
    "df1.info()"
   ]
  },
  {
   "cell_type": "code",
   "execution_count": 26,
   "metadata": {},
   "outputs": [
    {
     "name": "stdout",
     "output_type": "stream",
     "text": [
      "<class 'pandas.core.frame.DataFrame'>\n",
      "Index: 64705 entries, 0 to 64705\n",
      "Data columns (total 4 columns):\n",
      " #   Column      Non-Null Count  Dtype  \n",
      "---  ------      --------------  -----  \n",
      " 0   reviewText  64705 non-null  object \n",
      " 1   overall     64705 non-null  float64\n",
      " 2   sentiment   64705 non-null  int64  \n",
      " 3   text_clean  64705 non-null  object \n",
      "dtypes: float64(1), int64(1), object(2)\n",
      "memory usage: 2.5+ MB\n",
      "None\n"
     ]
    }
   ],
   "source": [
    "df_cleaned = df1.dropna(subset=['reviewText'])\n",
    "print(df_cleaned.info())\n",
    "df1 = df_cleaned"
   ]
  },
  {
   "cell_type": "code",
   "execution_count": 29,
   "metadata": {},
   "outputs": [],
   "source": [
    "# Transform text data using TF-IDF\n",
    "vectorizer_sentiment = TfidfVectorizer(max_features=10000)\n",
    "X_sentiment_tfidf = vectorizer_sentiment.fit_transform(df_cleaned['text_clean'])\n",
    "\n",
    "# Split data for `sentiment` prediction\n",
    "X_train_sentiment_tfidf, X_test_sentiment_tfidf, y_train_sentiment, y_test_sentiment = train_test_split(\n",
    "    X_sentiment_tfidf, df1['sentiment'], test_size=0.2, random_state=42\n",
    ")\n"
   ]
  },
  {
   "cell_type": "code",
   "execution_count": 30,
   "metadata": {},
   "outputs": [
    {
     "name": "stdout",
     "output_type": "stream",
     "text": [
      "(51764, 10000)\n",
      "(12941, 10000)\n"
     ]
    }
   ],
   "source": [
    "print(X_train_sentiment_tfidf.shape)\n",
    "print(X_test_sentiment_tfidf.shape)"
   ]
  },
  {
   "cell_type": "markdown",
   "metadata": {},
   "source": [
    "# Build Model"
   ]
  },
  {
   "cell_type": "markdown",
   "metadata": {},
   "source": [
    "I have read here on the link and get the information about models used for multiclass classification and then i try to run all of them\n",
    "\n",
    "https://scikit-learn.org/stable/modules/multiclass.html"
   ]
  },
  {
   "cell_type": "code",
   "execution_count": null,
   "metadata": {},
   "outputs": [
    {
     "name": "stdout",
     "output_type": "stream",
     "text": [
      "Training and evaluating LogisticRegression...\n"
     ]
    },
    {
     "name": "stderr",
     "output_type": "stream",
     "text": [
      "K-Fold Progress: 100%|██████████| 5/5 [00:18<00:00,  3.72s/it]\n"
     ]
    },
    {
     "name": "stdout",
     "output_type": "stream",
     "text": [
      "Training and evaluating BernoulliNB...\n"
     ]
    },
    {
     "name": "stderr",
     "output_type": "stream",
     "text": [
      "K-Fold Progress: 100%|██████████| 5/5 [00:02<00:00,  2.36it/s]\n"
     ]
    },
    {
     "name": "stdout",
     "output_type": "stream",
     "text": [
      "Training and evaluating DecisionTreeClassifier...\n"
     ]
    },
    {
     "name": "stderr",
     "output_type": "stream",
     "text": [
      "K-Fold Progress: 100%|██████████| 5/5 [02:15<00:00, 27.07s/it]\n"
     ]
    },
    {
     "name": "stdout",
     "output_type": "stream",
     "text": [
      "Training and evaluating ExtraTreeClassifier...\n"
     ]
    },
    {
     "name": "stderr",
     "output_type": "stream",
     "text": [
      "K-Fold Progress: 100%|██████████| 5/5 [00:02<00:00,  1.73it/s]\n"
     ]
    },
    {
     "name": "stdout",
     "output_type": "stream",
     "text": [
      "Training and evaluating ExtraTreesClassifier...\n"
     ]
    },
    {
     "name": "stderr",
     "output_type": "stream",
     "text": [
      "K-Fold Progress: 100%|██████████| 5/5 [00:47<00:00,  9.55s/it]\n"
     ]
    },
    {
     "name": "stdout",
     "output_type": "stream",
     "text": [
      "Training and evaluating GaussianNB...\n"
     ]
    },
    {
     "name": "stderr",
     "output_type": "stream",
     "text": [
      "K-Fold Progress:   0%|          | 0/5 [00:00<?, ?it/s]"
     ]
    }
   ],
   "source": [
    "from sklearn.model_selection import KFold\n",
    "from sklearn.linear_model import LogisticRegression, RidgeClassifier\n",
    "from sklearn.naive_bayes import BernoulliNB, GaussianNB\n",
    "from sklearn.tree import DecisionTreeClassifier, ExtraTreeClassifier\n",
    "from sklearn.ensemble import ExtraTreesClassifier, RandomForestClassifier\n",
    "from sklearn.neighbors import KNeighborsClassifier, NearestCentroid, RadiusNeighborsClassifier\n",
    "from sklearn.svm import LinearSVC\n",
    "from sklearn.neural_network import MLPClassifier\n",
    "from sklearn.metrics import accuracy_score, roc_auc_score, f1_score\n",
    "from sklearn.feature_extraction.text import TfidfVectorizer\n",
    "from sklearn.preprocessing import StandardScaler\n",
    "from tqdm import tqdm\n",
    "import numpy as np\n",
    "from scipy.sparse import issparse\n",
    "from xgboost import XGBClassifier\n",
    "\n",
    "# Define models for sentiment classification\n",
    "models_sentiment = {\n",
    "    \"LogisticRegression\": LogisticRegression(max_iter=1000, solver=\"saga\", tol=1e-3, random_state=42),\n",
    "    \"BernoulliNB\": BernoulliNB(),\n",
    "    \"DecisionTreeClassifier\": DecisionTreeClassifier(max_depth=10, random_state=42),\n",
    "    \"ExtraTreeClassifier\": ExtraTreeClassifier(max_depth=10, random_state=42),\n",
    "    \"ExtraTreesClassifier\": ExtraTreesClassifier(n_estimators=100, max_depth=10, max_features=\"sqrt\", random_state=42),\n",
    "    \"GaussianNB\": GaussianNB(var_smoothing=1e-9),\n",
    "    \"LinearSVC\": LinearSVC(multi_class=\"crammer_singer\", max_iter=2000, tol=1e-3, dual=False, random_state=42),\n",
    "    \"NearestCentroid\": NearestCentroid(),\n",
    "    \"RidgeClassifier\": RidgeClassifier(),\n",
    "    \"RandomForestClassifier\": RandomForestClassifier(n_estimators=100, max_depth=10, max_features=\"sqrt\", random_state=42),\n",
    "    \"MLPClassifier\": MLPClassifier(hidden_layer_sizes=(50,), max_iter=500, learning_rate_init=0.01, early_stopping=True, random_state=42)\n",
    "    # \"RidgeClassifierCV\": RidgeClassifierCV(), - ok but 5mins / fold\n",
    "    # \"KNeighborsClassifier\": KNeighborsClassifier(n_neighbors=5, leaf_size=30),\n",
    "    # \"QuadraticDiscriminantAnalysis\": QuadraticDiscriminantAnalysis(tol=1e-3, reg_param=0.1), # so long\n",
    "    # \"NearestCentroid\": NearestCentroid(),\n",
    "    # \"RandomForestClassifier\": RandomForestClassifier(n_estimators=100, max_depth=10, max_features=\"sqrt\", random_state=42),\n",
    "    # \"XGBoost\": XGBClassifier(use_label_encoder=False, eval_metric='logloss', random_state=42)\n",
    "}\n",
    "\n",
    "# Train and evaluate models using K-Fold Cross-Validation\n",
    "results_sentiment = {}\n",
    "best_model_sentiment = None\n",
    "best_accuracy = 0\n",
    "\n",
    "trained_models_sentiment = {}  # Store trained models\n",
    "\n",
    "for model_name, model in models_sentiment.items():\n",
    "    print(f\"Training and evaluating {model_name}...\")\n",
    "\n",
    "    # K-Fold Cross-Validation\n",
    "    accuracy_scores, roc_auc_scores, f1_scores = [], [], []\n",
    "    k_fold = KFold(n_splits=5, shuffle=True, random_state=42)\n",
    "\n",
    "    for train_index, val_index in tqdm(k_fold.split(X_train_sentiment_tfidf), total=k_fold.get_n_splits(), desc=\"K-Fold Progress\"):\n",
    "        X_train, X_val = X_train_sentiment_tfidf[train_index], X_train_sentiment_tfidf[val_index]\n",
    "        y_train, y_val = y_train_sentiment.iloc[train_index], y_train_sentiment.iloc[val_index]\n",
    "\n",
    "        # Convert to dense format for models that require it\n",
    "        if isinstance(model, (GaussianNB, MLPClassifier, NearestCentroid)):\n",
    "            if issparse(X_train):  # Check if it's sparse\n",
    "                X_train = X_train.toarray()\n",
    "                X_val = X_val.toarray()\n",
    "\n",
    "        # Scale data for distance-based models\n",
    "        if isinstance(model, (RadiusNeighborsClassifier, KNeighborsClassifier)):\n",
    "            scaler = StandardScaler(with_mean=False)  # Handle sparse matrix\n",
    "            X_train = scaler.fit_transform(X_train)\n",
    "            X_val = scaler.transform(X_val)\n",
    "\n",
    "        model.fit(X_train, y_train)\n",
    "        val_preds = model.predict(X_val)\n",
    " \n",
    "        accuracy_scores.append(accuracy_score(y_val, val_preds))\n",
    "\n",
    "        if hasattr(model, \"predict_proba\"):  \n",
    "            val_probs = model.predict_proba(X_val)\n",
    "            # Check probability sum validity before calculating ROC AUC\n",
    "            if not np.allclose(1, val_probs.sum(axis=1)):\n",
    "                print(f\"⚠️ Skipping ROC AUC for {model_name} due to invalid probabilities.\")\n",
    "                roc_auc = None\n",
    "            else:\n",
    "                # roc_auc = roc_auc_score(y_val, val_probs, multi_class='ovr')\n",
    "                \n",
    "                if val_probs.ndim > 1:\n",
    "                    val_probs = val_probs.argmax(axis=1)\n",
    "\n",
    "                # Compute ROC AUC score\n",
    "                roc_auc = roc_auc_score(y_val, val_probs, multi_class='ovr', average='weighted')\n",
    "\n",
    "        else:\n",
    "            roc_auc = None  \n",
    "\n",
    "        f1_scores.append(f1_score(y_val, val_preds, average='weighted'))\n",
    "        if roc_auc is not None:\n",
    "            roc_auc_scores.append(roc_auc)\n",
    "\n",
    "    # Compute average scores\n",
    "    avg_acc = np.mean(accuracy_scores)\n",
    "    avg_f1 = np.mean(f1_scores)\n",
    "    avg_roc_auc = np.mean(roc_auc_scores) if roc_auc_scores else None\n",
    "\n",
    "    # Store trained model\n",
    "    trained_models_sentiment[model_name] = model  # ✅ Save trained model\n",
    "    results_sentiment[model_name] = {\n",
    "        \"Accuracy\": avg_acc,\n",
    "        \"F1 Score\": avg_f1,\n",
    "        \"ROC AUC\": avg_roc_auc,\n",
    "        \"Accuracy Scores\": accuracy_scores,\n",
    "        \"F1 Scores\": f1_scores,\n",
    "        \"ROC AUC Scores\": roc_auc_scores\n",
    "    }\n",
    "\n",
    "    # Update Best Model\n",
    "    if avg_acc > best_accuracy:\n",
    "        best_accuracy = avg_acc\n",
    "        best_model_sentiment = model_name\n",
    "\n",
    "print(f\"\\n🏆 Best Model: {best_model_sentiment} with Accuracy: {best_accuracy:.3f}\")"
   ]
  },
  {
   "cell_type": "markdown",
   "metadata": {},
   "source": [
    "Training and evaluating LogisticRegression...\n",
    "\n",
    "K-Fold Progress:   0%|          | 0/5 [00:00<?, ?it/s]K-Fold Progress: 100%|██████████| 5/5 [00:54<00:00, 10.88s/it]\n",
    "\n",
    "Training and evaluating BernoulliNB...\n",
    "\n",
    "K-Fold Progress: 100%|██████████| 5/5 [00:03<00:00,  1.27it/s]\n",
    "\n",
    "Training and evaluating DecisionTreeClassifier...\n",
    "\n",
    "K-Fold Progress: 100%|██████████| 5/5 [08:41<00:00, 104.33s/it]\n",
    "\n",
    "Training and evaluating ExtraTreesClassifier...\n",
    "\n",
    "K-Fold Progress: 100%|██████████| 5/5 [04:33<00:00, 54.62s/it]\n",
    "\n",
    "Training and evaluating GaussianNB...\n",
    "\n",
    "K-Fold Progress: 100%|██████████| 5/5 [06:05<00:00, 73.18s/it] \n",
    "\n",
    "Training and evaluating KNeighborsClassifier...\n",
    "\n",
    "K-Fold Progress: 100%|██████████| 5/5 [45:57<00:00, 551.41s/it]\n",
    "\n",
    "Training and evaluating LinearSVC...\n",
    "\n",
    "K-Fold Progress:  40%|████      | 2/5 [00:13<00:20,  6.90s/it]c:\\Python312\\Lib\\site-packages\\sklearn\\svm\\_base.py:1235: ConvergenceWarning: Liblinear failed to converge, increase the number of iterations.\n",
    "\n",
    "  warnings.warn(\n",
    "\n",
    "K-Fold Progress: 100%|██████████| 5/5 [00:51<00:00, 10.23s/it]\n",
    "\n",
    "Training and evaluating MLPClassifier...\n",
    "\n",
    "K-Fold Progress: 100%|██████████| 5/5 [11:09<00:00, 133.87s/it]\n",
    "\n",
    "Training and evaluating NearestCentroid...\n",
    "\n",
    "K-Fold Progress: 100%|██████████| 5/5 [00:47<00:00,  9.43s/it]\n",
    "\n",
    "🏆 Best Model: LinearSVC with Accuracy: 0.877\n",
    "\n"
   ]
  },
  {
   "cell_type": "markdown",
   "metadata": {},
   "source": [
    "# Evaluate the model"
   ]
  },
  {
   "cell_type": "code",
   "execution_count": null,
   "metadata": {},
   "outputs": [
    {
     "name": "stdout",
     "output_type": "stream",
     "text": [
      "Result of Training and evaluating LogisticRegression...\n",
      "📊 LogisticRegression - Average Accuracy: 0.874\n",
      "📊 LogisticRegression - Average F1 Score: 0.861\n",
      "📊 LogisticRegression - Average ROC AUC: 0.722\n",
      "Result of Training and evaluating BernoulliNB...\n",
      "📊 BernoulliNB - Average Accuracy: 0.692\n",
      "📊 BernoulliNB - Average F1 Score: 0.723\n",
      "📊 BernoulliNB - Average ROC AUC: 0.718\n",
      "Result of Training and evaluating DecisionTreeClassifier...\n",
      "📊 DecisionTreeClassifier - Average Accuracy: 0.818\n",
      "📊 DecisionTreeClassifier - Average F1 Score: 0.772\n",
      "📊 DecisionTreeClassifier - Average ROC AUC: 0.569\n",
      "Result of Training and evaluating ExtraTreeClassifier...\n",
      "📊 ExtraTreeClassifier - Average Accuracy: 0.805\n",
      "📊 ExtraTreeClassifier - Average F1 Score: 0.725\n",
      "📊 ExtraTreeClassifier - Average ROC AUC: 0.506\n",
      "Result of Training and evaluating ExtraTreesClassifier...\n",
      "📊 ExtraTreesClassifier - Average Accuracy: 0.806\n",
      "📊 ExtraTreesClassifier - Average F1 Score: 0.719\n",
      "📊 ExtraTreesClassifier - Average ROC AUC: 0.500\n",
      "Result of Training and evaluating GaussianNB...\n",
      "📊 GaussianNB - Average Accuracy: 0.766\n",
      "📊 GaussianNB - Average F1 Score: 0.785\n",
      "📊 GaussianNB - Average ROC AUC: 0.759\n",
      "Result of Training and evaluating LinearSVC...\n",
      "📊 LinearSVC - Average Accuracy: 0.877\n",
      "📊 LinearSVC - Average F1 Score: 0.869\n",
      "📊 LinearSVC - Average ROC AUC: N/A\n",
      "Result of Training and evaluating NearestCentroid...\n",
      "📊 NearestCentroid - Average Accuracy: 0.728\n",
      "📊 NearestCentroid - Average F1 Score: 0.753\n",
      "📊 NearestCentroid - Average ROC AUC: N/A\n",
      "Result of Training and evaluating RidgeClassifier...\n",
      "📊 RidgeClassifier - Average Accuracy: 0.876\n",
      "📊 RidgeClassifier - Average F1 Score: 0.864\n",
      "📊 RidgeClassifier - Average ROC AUC: N/A\n",
      "Result of Training and evaluating RandomForestClassifier...\n",
      "📊 RandomForestClassifier - Average Accuracy: 0.806\n",
      "📊 RandomForestClassifier - Average F1 Score: 0.720\n",
      "📊 RandomForestClassifier - Average ROC AUC: 0.500\n",
      "Result of Training and evaluating MLPClassifier...\n",
      "📊 MLPClassifier - Average Accuracy: 0.873\n",
      "📊 MLPClassifier - Average F1 Score: 0.867\n",
      "📊 MLPClassifier - Average ROC AUC: 0.753\n"
     ]
    },
    {
     "data": {
      "image/png": "[encoded data removed]",
      "text/plain": [
       "<Figure size 1200x600 with 1 Axes>"
      ]
     },
     "metadata": {},
     "output_type": "display_data"
    }
   ],
   "source": [
    "# Define color map for different models\n",
    "num_models = len(models_sentiment)\n",
    "colors = plt.cm.tab10(np.linspace(0, 1, num_models))  # Generate unique colors\n",
    "\n",
    "# Create a figure for Accuracy\n",
    "plt.figure(figsize=(12, 6))\n",
    "plt.title(\"Validation Accuracy Across K-Folds for All Models\")\n",
    "plt.xlabel(\"Fold Number\")\n",
    "plt.ylabel(\"Accuracy\")\n",
    "plt.grid(True)\n",
    "\n",
    "# Iterate over each model and assign a unique color for Accuracy\n",
    "for idx, (model_name, model) in enumerate(trained_models_sentiment.items()):\n",
    "    color = colors[idx]\n",
    "\n",
    "    # Print evaluation results\n",
    "    print(f\"Result of Training and evaluating {model_name}...\")\n",
    "    print(f'📊 {model_name} - Average Accuracy: {results_sentiment[model_name][\"Accuracy\"]:.3f}')\n",
    "    print(f'📊 {model_name} - Average F1 Score: {results_sentiment[model_name][\"F1 Score\"]:.3f}')\n",
    "    if results_sentiment[model_name][\"ROC AUC\"]:\n",
    "        print(f'📊 {model_name} - Average ROC AUC: {results_sentiment[model_name][\"ROC AUC\"]:.3f}')\n",
    "    else:\n",
    "        print(f'📊 {model_name} - Average ROC AUC: N/A')\n",
    "\n",
    "    # Plot Accuracy\n",
    "    plt.plot(range(1, len(results_sentiment[model_name][\"Accuracy Scores\"]) + 1), \n",
    "             results_sentiment[model_name][\"Accuracy Scores\"], \n",
    "             label=f\"{model_name}\", marker='o', linestyle='-', color=color)\n",
    "\n",
    "# Add legend and show Accuracy plot\n",
    "plt.legend(title=\"Models\", bbox_to_anchor=(1.05, 1), loc='upper left')\n",
    "plt.show()\n"
   ]
  },
  {
   "cell_type": "code",
   "execution_count": null,
   "metadata": {},
   "outputs": [
    {
     "name": "stdout",
     "output_type": "stream",
     "text": [
      "📊 LogisticRegression - Average ROC AUC: 0.722\n",
      "📊 BernoulliNB - Average ROC AUC: 0.718\n",
      "📊 DecisionTreeClassifier - Average ROC AUC: 0.569\n",
      "📊 ExtraTreeClassifier - Average ROC AUC: 0.506\n",
      "📊 ExtraTreesClassifier - Average ROC AUC: 0.500\n",
      "📊 GaussianNB - Average ROC AUC: 0.759\n",
      "📊 LinearSVC - Average ROC AUC: N/A\n",
      "📊 NearestCentroid - Average ROC AUC: N/A\n",
      "📊 RidgeClassifier - Average ROC AUC: N/A\n",
      "📊 RandomForestClassifier - Average ROC AUC: 0.500\n",
      "📊 MLPClassifier - Average ROC AUC: 0.753\n"
     ]
    },
    {
     "data": {
      "image/png": "[encoded data removed]",
      "text/plain": [
       "<Figure size 1200x600 with 1 Axes>"
      ]
     },
     "metadata": {},
     "output_type": "display_data"
    }
   ],
   "source": [
    "# ---------------------- ROC AUC PLOT ----------------------\n",
    "\n",
    "# Create a figure for ROC AUC\n",
    "plt.figure(figsize=(12, 6))\n",
    "plt.title(\"Validation ROC AUC Across K-Folds for All Models\")\n",
    "plt.xlabel(\"Fold Number\")\n",
    "plt.ylabel(\"ROC AUC Score\")\n",
    "plt.grid(True)\n",
    "\n",
    "# Iterate over models again for ROC AUC\n",
    "for idx, (model_name, model) in enumerate(trained_models_sentiment.items()):\n",
    "    color = colors[idx]\n",
    "    \n",
    "    # Handle ROC AUC None values\n",
    "    roc_auc = results_sentiment[model_name][\"ROC AUC\"]\n",
    "    roc_auc_str = f\"{roc_auc:.3f}\" if roc_auc is not None else \"N/A\"\n",
    "    print(f'📊 {model_name} - Average ROC AUC: {roc_auc_str}')\n",
    "    \n",
    "    # Plot ROC AUC only if it exists\n",
    "    if results_sentiment[model_name][\"ROC AUC Scores\"]:\n",
    "        plt.plot(range(1, len(results_sentiment[model_name][\"ROC AUC Scores\"]) + 1), \n",
    "                 results_sentiment[model_name][\"ROC AUC Scores\"], \n",
    "                 label=f\"{model_name}\", marker='s', linestyle='--', color=color)\n",
    "\n",
    "# Add legend and show ROC AUC plot\n",
    "plt.legend(title=\"Models\", bbox_to_anchor=(1.05, 1), loc='upper left')\n",
    "plt.show()\n",
    "\n",
    "# Print the best model\n",
    "# print(f\"\\n🏆 Best Model: {best_model_sentiment} with Accuracy: {best_accuracy:.3f}\")\n"
   ]
  },
  {
   "cell_type": "code",
   "execution_count": null,
   "metadata": {},
   "outputs": [
    {
     "name": "stdout",
     "output_type": "stream",
     "text": [
      "\n",
      "🔍 Testing LogisticRegression on Test Data...\n",
      "📊 LogisticRegression - Test Accuracy: 0.876, Test F1 Score: 0.863\n",
      "\n",
      "🔍 Testing BernoulliNB on Test Data...\n",
      "📊 BernoulliNB - Test Accuracy: 0.694, Test F1 Score: 0.724\n",
      "\n",
      "🔍 Testing DecisionTreeClassifier on Test Data...\n",
      "📊 DecisionTreeClassifier - Test Accuracy: 0.816, Test F1 Score: 0.769\n",
      "\n",
      "🔍 Testing ExtraTreeClassifier on Test Data...\n",
      "📊 ExtraTreeClassifier - Test Accuracy: 0.801, Test F1 Score: 0.725\n",
      "\n",
      "🔍 Testing ExtraTreesClassifier on Test Data...\n",
      "📊 ExtraTreesClassifier - Test Accuracy: 0.803, Test F1 Score: 0.715\n",
      "\n",
      "🔍 Testing GaussianNB on Test Data...\n",
      "📊 GaussianNB - Test Accuracy: 0.774, Test F1 Score: 0.792\n",
      "\n",
      "🔍 Testing LinearSVC on Test Data...\n",
      "📊 LinearSVC - Test Accuracy: 0.874, Test F1 Score: 0.867\n",
      "\n",
      "🔍 Testing NearestCentroid on Test Data...\n",
      "📊 NearestCentroid - Test Accuracy: 0.734, Test F1 Score: 0.757\n",
      "\n",
      "🔍 Testing RidgeClassifier on Test Data...\n",
      "📊 RidgeClassifier - Test Accuracy: 0.877, Test F1 Score: 0.866\n",
      "\n",
      "🔍 Testing RandomForestClassifier on Test Data...\n",
      "📊 RandomForestClassifier - Test Accuracy: 0.803, Test F1 Score: 0.716\n",
      "\n",
      "🔍 Testing MLPClassifier on Test Data...\n",
      "📊 MLPClassifier - Test Accuracy: 0.871, Test F1 Score: 0.864\n"
     ]
    }
   ],
   "source": [
    "# ✅ Use the trained models to test on X_test_tfidf\n",
    "test_results = {}\n",
    "\n",
    "for model_name, model in trained_models_sentiment.items():\n",
    "    print(f\"\\n🔍 Testing {model_name} on Test Data...\")\n",
    "\n",
    "    # Convert to dense format ONLY for models that require it\n",
    "    if isinstance(model, (GaussianNB, MLPClassifier, NearestCentroid)):\n",
    "        if issparse(X_test_sentiment_tfidf):  # Check if sparse\n",
    "            X_test_sentiment_tfidf = X_test_sentiment_tfidf.toarray()\n",
    "\n",
    "    # Scale data ONLY for distance-based models\n",
    "    if isinstance(model, (RadiusNeighborsClassifier, KNeighborsClassifier)):\n",
    "        scaler = StandardScaler()\n",
    "        X_test_sentiment_tfidf = scaler.fit_transform(X_test_sentiment_tfidf)\n",
    "\n",
    "    # Make Predictions\n",
    "    y_test_pred = model.predict(X_test_sentiment_tfidf)\n",
    "\n",
    "    # Compute Metrics\n",
    "    test_accuracy = accuracy_score(y_test_sentiment, y_test_pred)\n",
    "    test_f1 = f1_score(y_test_sentiment, y_test_pred, average='weighted')\n",
    "    \n",
    "    if hasattr(model, \"predict_proba\"):\n",
    "        y_test_probs = model.predict_proba(X_test_sentiment_tfidf)\n",
    "        if y_test_probs.ndim > 1:\n",
    "            y_test_probs = y_test_probs.argmax(axis=1)\n",
    "        test_roc_auc = roc_auc_score(y_test_sentiment, y_test_probs, multi_class='ovr')\n",
    "    else:\n",
    "        test_roc_auc = None  # Skip if model does not support probability prediction\n",
    "    \n",
    "    # Store Results\n",
    "    test_results[model_name] = {\n",
    "        \"Test Accuracy\": test_accuracy,\n",
    "        \"Test F1 Score\": test_f1,\n",
    "        \"Test ROC AUC\": test_roc_auc if test_roc_auc else \"N/A\"\n",
    "    }\n",
    "    \n",
    "    print(f\"📊 {model_name} - Test Accuracy: {test_accuracy:.3f}, Test F1 Score: {test_f1:.3f}\")\n"
   ]
  }
 ],
 "metadata": {
  "kernelspec": {
   "display_name": "Python 3",
   "language": "python",
   "name": "python3"
  },
  "language_info": {
   "codemirror_mode": {
    "name": "ipython",
    "version": 3
   },
   "file_extension": ".py",
   "mimetype": "text/x-python",
   "name": "python",
   "nbconvert_exporter": "python",
   "pygments_lexer": "ipython3",
   "version": "3.12.6"
  }
 },
 "nbformat": 4,
 "nbformat_minor": 2
}
