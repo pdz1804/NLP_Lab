{
 "cells": [
  {
   "cell_type": "markdown",
   "metadata": {},
   "source": [
    "# Sentiment Analysis Exercise  "
   ]
  },
  {
   "cell_type": "markdown",
   "metadata": {},
   "source": [
    "The goal of the Sentiment Analysis (SA) task is to classify the sentiment within a piece of text. This sentiment can be either binary (positive-negative) or multi-class (a rating scale from 1 to 5).\n",
    " \n",
    "**Data**: http://snap.stanford.edu/data/amazon/productGraph/categoryFiles/reviews_Digital_Music_5.json.gz\n",
    " \n",
    "**Steps to Solve This Exercise**\n",
    "1. Load data into a pandas DataFrame\n",
    "2. Preprocessing & Vectorizing \n",
    "3. Building Model\n",
    "4. Evaluation\n",
    "\n",
    "**Note**: Submit only a single Jupyter Notebook file that can handle all tasks, including data downloading, preprocessing, and model training. (Submissions that do not follow the guidelines will receive a score of 0.)"
   ]
  },
  {
   "cell_type": "markdown",
   "metadata": {},
   "source": [
    "# Install and Import"
   ]
  },
  {
   "cell_type": "code",
   "execution_count": 1,
   "metadata": {},
   "outputs": [
    {
     "name": "stdout",
     "output_type": "stream",
     "text": [
      "Requirement already satisfied: gdown in e:\\anaconda3\\envs\\ml_env_test\\lib\\site-packages (5.2.0)\n",
      "Requirement already satisfied: pandas in e:\\anaconda3\\envs\\ml_env_test\\lib\\site-packages (2.2.3)\n",
      "Requirement already satisfied: numpy in e:\\anaconda3\\envs\\ml_env_test\\lib\\site-packages (1.26.4)\n",
      "Requirement already satisfied: seaborn in e:\\anaconda3\\envs\\ml_env_test\\lib\\site-packages (0.13.2)\n",
      "Requirement already satisfied: matplotlib in e:\\anaconda3\\envs\\ml_env_test\\lib\\site-packages (3.10.0)\n",
      "Requirement already satisfied: scikit-learn in e:\\anaconda3\\envs\\ml_env_test\\lib\\site-packages (1.5.2)\n",
      "Requirement already satisfied: nltk in e:\\anaconda3\\envs\\ml_env_test\\lib\\site-packages (3.9.1)\n",
      "Requirement already satisfied: tqdm in e:\\anaconda3\\envs\\ml_env_test\\lib\\site-packages (4.66.5)\n",
      "Requirement already satisfied: xgboost in e:\\anaconda3\\envs\\ml_env_test\\lib\\site-packages (2.1.1)\n",
      "Requirement already satisfied: joblib in e:\\anaconda3\\envs\\ml_env_test\\lib\\site-packages (1.4.2)\n",
      "Requirement already satisfied: wget in e:\\anaconda3\\envs\\ml_env_test\\lib\\site-packages (3.2)\n",
      "Requirement already satisfied: plotly in e:\\anaconda3\\envs\\ml_env_test\\lib\\site-packages (6.0.0)\n",
      "Requirement already satisfied: requests in e:\\anaconda3\\envs\\ml_env_test\\lib\\site-packages (2.32.3)\n",
      "Requirement already satisfied: scipy in e:\\anaconda3\\envs\\ml_env_test\\lib\\site-packages (1.13.1)\n",
      "Requirement already satisfied: beautifulsoup4 in e:\\anaconda3\\envs\\ml_env_test\\lib\\site-packages (from gdown) (4.13.3)\n",
      "Requirement already satisfied: filelock in e:\\anaconda3\\envs\\ml_env_test\\lib\\site-packages (from gdown) (3.13.1)\n",
      "Requirement already satisfied: python-dateutil>=2.8.2 in c:\\users\\user\\appdata\\roaming\\python\\python312\\site-packages (from pandas) (2.9.0.post0)\n",
      "Requirement already satisfied: pytz>=2020.1 in e:\\anaconda3\\envs\\ml_env_test\\lib\\site-packages (from pandas) (2024.1)\n",
      "Requirement already satisfied: tzdata>=2022.7 in e:\\anaconda3\\envs\\ml_env_test\\lib\\site-packages (from pandas) (2023.3)\n",
      "Requirement already satisfied: contourpy>=1.0.1 in e:\\anaconda3\\envs\\ml_env_test\\lib\\site-packages (from matplotlib) (1.3.1)\n",
      "Requirement already satisfied: cycler>=0.10 in e:\\anaconda3\\envs\\ml_env_test\\lib\\site-packages (from matplotlib) (0.11.0)\n",
      "Requirement already satisfied: fonttools>=4.22.0 in e:\\anaconda3\\envs\\ml_env_test\\lib\\site-packages (from matplotlib) (4.55.3)\n",
      "Requirement already satisfied: kiwisolver>=1.3.1 in e:\\anaconda3\\envs\\ml_env_test\\lib\\site-packages (from matplotlib) (1.4.8)\n",
      "Requirement already satisfied: packaging>=20.0 in c:\\users\\user\\appdata\\roaming\\python\\python312\\site-packages (from matplotlib) (24.2)\n",
      "Requirement already satisfied: pillow>=8 in e:\\anaconda3\\envs\\ml_env_test\\lib\\site-packages (from matplotlib) (11.0.0)\n",
      "Requirement already satisfied: pyparsing>=2.3.1 in e:\\anaconda3\\envs\\ml_env_test\\lib\\site-packages (from matplotlib) (3.2.0)\n",
      "Requirement already satisfied: threadpoolctl>=3.1.0 in e:\\anaconda3\\envs\\ml_env_test\\lib\\site-packages (from scikit-learn) (3.5.0)\n",
      "Requirement already satisfied: click in e:\\anaconda3\\envs\\ml_env_test\\lib\\site-packages (from nltk) (8.1.8)\n",
      "Requirement already satisfied: regex>=2021.8.3 in e:\\anaconda3\\envs\\ml_env_test\\lib\\site-packages (from nltk) (2024.11.6)\n",
      "Requirement already satisfied: colorama in c:\\users\\user\\appdata\\roaming\\python\\python312\\site-packages (from tqdm) (0.4.6)\n",
      "Requirement already satisfied: narwhals>=1.15.1 in e:\\anaconda3\\envs\\ml_env_test\\lib\\site-packages (from plotly) (1.25.2)\n",
      "Requirement already satisfied: charset-normalizer<4,>=2 in e:\\anaconda3\\envs\\ml_env_test\\lib\\site-packages (from requests) (3.3.2)\n",
      "Requirement already satisfied: idna<4,>=2.5 in e:\\anaconda3\\envs\\ml_env_test\\lib\\site-packages (from requests) (3.10)\n",
      "Requirement already satisfied: urllib3<3,>=1.21.1 in e:\\anaconda3\\envs\\ml_env_test\\lib\\site-packages (from requests) (2.3.0)\n",
      "Requirement already satisfied: certifi>=2017.4.17 in e:\\anaconda3\\envs\\ml_env_test\\lib\\site-packages (from requests) (2024.12.14)\n",
      "Requirement already satisfied: six>=1.5 in c:\\users\\user\\appdata\\roaming\\python\\python312\\site-packages (from python-dateutil>=2.8.2->pandas) (1.16.0)\n",
      "Requirement already satisfied: soupsieve>1.2 in e:\\anaconda3\\envs\\ml_env_test\\lib\\site-packages (from beautifulsoup4->gdown) (2.6)\n",
      "Requirement already satisfied: typing-extensions>=4.0.0 in e:\\anaconda3\\envs\\ml_env_test\\lib\\site-packages (from beautifulsoup4->gdown) (4.12.2)\n",
      "Requirement already satisfied: PySocks!=1.5.7,>=1.5.6 in e:\\anaconda3\\envs\\ml_env_test\\lib\\site-packages (from requests[socks]->gdown) (1.7.1)\n",
      "Note: you may need to restart the kernel to use updated packages.\n"
     ]
    },
    {
     "name": "stderr",
     "output_type": "stream",
     "text": [
      "WARNING: Ignoring invalid distribution ~cipy (e:\\anaconda3\\envs\\ml_env_test\\Lib\\site-packages)\n",
      "WARNING: Ignoring invalid distribution ~cipy (e:\\anaconda3\\envs\\ml_env_test\\Lib\\site-packages)\n",
      "WARNING: Ignoring invalid distribution ~cipy (e:\\anaconda3\\envs\\ml_env_test\\Lib\\site-packages)\n"
     ]
    }
   ],
   "source": [
    "%pip install gdown pandas numpy seaborn matplotlib scikit-learn nltk tqdm xgboost joblib wget plotly requests scipy"
   ]
  },
  {
   "cell_type": "code",
   "execution_count": 2,
   "metadata": {},
   "outputs": [],
   "source": [
    "# Import libraries\n",
    "import sys\n",
    "import os\n",
    "import platform\n",
    "import gzip\n",
    "import re\n",
    "import joblib\n",
    "import json\n",
    "import pandas as pd\n",
    "import requests\n",
    "import numpy as np\n",
    "import seaborn as sns\n",
    "import matplotlib.pyplot as plt\n",
    "from tqdm import tqdm\n",
    "\n",
    "import plotly.express as px\n",
    "\n",
    "from nltk.corpus import stopwords\n",
    "from nltk.tokenize import word_tokenize\n",
    "from nltk.tokenize import sent_tokenize\n",
    "\n",
    "from sklearn.model_selection import train_test_split\n",
    "from sklearn.feature_extraction.text import TfidfVectorizer\n",
    "from sklearn.ensemble import RandomForestClassifier\n",
    "from sklearn.metrics import classification_report, roc_auc_score, accuracy_score, f1_score\n",
    "from sklearn.model_selection import KFold\n",
    "from sklearn.naive_bayes import BernoulliNB, GaussianNB\n",
    "from sklearn.tree import DecisionTreeClassifier, ExtraTreeClassifier\n",
    "from sklearn.ensemble import ExtraTreesClassifier, RandomForestClassifier\n",
    "from sklearn.neighbors import KNeighborsClassifier, NearestCentroid, RadiusNeighborsClassifier\n",
    "from sklearn.svm import LinearSVC\n",
    "from sklearn.linear_model import LogisticRegression, RidgeClassifier\n",
    "from sklearn.neural_network import MLPClassifier\n",
    "from sklearn.metrics import accuracy_score, roc_auc_score, f1_score\n",
    "from sklearn.preprocessing import StandardScaler\n",
    "\n",
    "from scipy.sparse import issparse"
   ]
  },
  {
   "cell_type": "code",
   "execution_count": 3,
   "metadata": {},
   "outputs": [],
   "source": [
    "tqdm.pandas(desc=\"Processing text\")"
   ]
  },
  {
   "cell_type": "code",
   "execution_count": 4,
   "metadata": {},
   "outputs": [],
   "source": [
    "pd.set_option(\"max_colwidth\", None)"
   ]
  },
  {
   "cell_type": "code",
   "execution_count": 5,
   "metadata": {},
   "outputs": [
    {
     "name": "stdout",
     "output_type": "stream",
     "text": [
      "Python executable being used: e:\\anaconda3\\envs\\ml_env_test\\python.exe\n",
      "Python version: 3.12.8 | packaged by Anaconda, Inc. | (main, Dec 11 2024, 16:48:34) [MSC v.1929 64 bit (AMD64)]\n",
      "Operating System: Windows\n",
      "OS Version: 10.0.19045\n",
      "OS Release: 10\n",
      "Machine: AMD64\n",
      "Running in Visual Studio Code\n"
     ]
    }
   ],
   "source": [
    "# Python environment details\n",
    "print(\"Python executable being used:\", sys.executable)\n",
    "print(\"Python version:\", sys.version)\n",
    "\n",
    "# Operating System details\n",
    "print(\"Operating System:\", platform.system())\n",
    "print(\"OS Version:\", platform.version())\n",
    "print(\"OS Release:\", platform.release())\n",
    "\n",
    "# Machine and architecture details\n",
    "print(\"Machine:\", platform.machine())\n",
    "\n",
    "# Visual Studio Code details (based on environment variable)\n",
    "vscode_info = os.environ.get('VSCODE_PID', None)\n",
    "if vscode_info:\n",
    "    print(\"Running in Visual Studio Code\")\n",
    "else:\n",
    "    print(\"Not running in Visual Studio Code\")"
   ]
  },
  {
   "cell_type": "markdown",
   "metadata": {},
   "source": [
    "# Load data"
   ]
  },
  {
   "cell_type": "code",
   "execution_count": 49,
   "metadata": {},
   "outputs": [
    {
     "name": "stdout",
     "output_type": "stream",
     "text": [
      "Downloading dataset...\n",
      "Dataset downloaded and saved as reviews_Digital_Music_5.json.gz\n"
     ]
    }
   ],
   "source": [
    "# Download the dataset\n",
    "url = \"http://snap.stanford.edu/data/amazon/productGraph/categoryFiles/reviews_Digital_Music_5.json.gz\"\n",
    "filename = \"reviews_Digital_Music_5.json.gz\"\n",
    "\n",
    "# Check if the file already exists\n",
    "if not os.path.exists(filename):\n",
    "    print(\"Downloading dataset...\")\n",
    "    response = requests.get(url, stream=True)\n",
    "    if response.status_code == 200:\n",
    "        with open(filename, \"wb\") as f:\n",
    "            for chunk in response.iter_content(chunk_size=1024):\n",
    "                f.write(chunk)\n",
    "        print(f\"Dataset downloaded and saved as {filename}\")\n",
    "    else:\n",
    "        print(f\"Failed to download the file. Status code: {response.status_code}\")\n",
    "else:\n",
    "    print(f\"File already exists: {filename}\")\n"
   ]
  },
  {
   "cell_type": "code",
   "execution_count": 7,
   "metadata": {},
   "outputs": [
    {
     "name": "stdout",
     "output_type": "stream",
     "text": [
      "\n",
      "Dataset Sample:\n",
      "       reviewerID        asin          reviewerName helpful  \\\n",
      "0  A3EBHHCZO6V2A4  5555991584  Amaranth \"music fan\"  [3, 3]   \n",
      "1   AZPWAXJG9OJXV  5555991584             bethtexas  [0, 0]   \n",
      "2  A38IRL0X2T4DPF  5555991584           bob turnley  [2, 2]   \n",
      "3  A22IK3I6U76GX0  5555991584                 Calle  [1, 1]   \n",
      "4  A1AISPOIIHTHXX  5555991584           Cloud \"...\"  [1, 1]   \n",
      "\n",
      "                                                                                                                                                                                                                                                                                                                                                                                                                                                                                                                                                                                                                                                                                                                                                                                                                                                                                                                                                                                                                                                                                                                                                                                                                                                                                                                                                                                                                                                                                                                                                                                                                                                                                                                                                                                                                                                                                                                                                                                                                                                                                                                                                                                                                                                                                                                                                                                                                                                                                                                                                                                                                                                                                                                                                                                                                                                                                                                                                                                                                                                                                                                                                                                                                                                                                                                                                                                                                                                                                                                                                                                                                                                                                                                                                                                                                                                                                                                                                                                                                                                                                                                                                                                                                     reviewText  \\\n",
      "0                                                                                                                                                                                                                                                                                                                                                                                                                                                                                                                                                                                                                                                                                                                                                                                                                                                                                                                                                                                                                                                                                                                                                                                                                                                                                                                                                                                                                                                                                                                                                                                                                                                                                                                                                                                                                                                                                                                                                                                                                                                                                                                                                                                                                                                                                                                                                                                                                                                                                                                                                                                                                                                                                                                                                                                                                                                                                                                                                                                                                                                                                                                                                                                                                                        It's hard to believe \"Memory of Trees\" came out 11 years ago;it has held up well over the passage of time.It's Enya's last great album before the New Age/pop of \"Amarantine\" and \"Day without rain.\" Back in 1995,Enya still had her creative spark,her own voice.I agree with the reviewer who said that this is her saddest album;it is melancholy,bittersweet,from the opening title song.\"Memory of Trees\" is elegaic&majestic.;\"Pax Deorum\" sounds like it is from a Requiem Mass,it is a dark threnody.Unlike the reviewer who said that this has a \"disconcerting\" blend of spirituality&sensuality;,I don't find it disconcerting at all.\"Anywhere is\" is a hopeful song,looking to possibilities.\"Hope has a place\" is about love,but it is up to the listener to decide if it is romantic,platonic,etc.I've always had a soft spot for this song.\"On my way home\" is a triumphant ending about return.This is truly a masterpiece of New Age music,a must for any Enya fan!   \n",
      "1                                                                                                                                                                                                                                                                                                                                                                                                                                                                                                                                                                                                                                                                                                                                                                                                                                                                                                                                                                                                                                                                                                                                                                                                                                                                                                                                                                                                                                                                                                                                                                                                                                                                                                                                                                                                                                                                                                                                                                                                                                                                                                                                                                                                                                                                                                                                                                                                                                                                                                                                                                                                                                                                                                                                                                                                                                                                                                                                                                                                                                                                                                                                                                                                                                                                                                                                                                                                                                                                                                                                                                                                                                A clasically-styled and introverted album, Memory of Trees is a masterpiece of subtlety.  Many of the songs have an endearing shyness to them - soft piano and a lovely, quiet voice.  But within every introvert is an inferno, and Enya lets that fire explode on a couple of songs that absolutely burst with an expected raw power.If you've never heard Enya before, you might want to start with one of her more popularized works, like Watermark, just to play it safe.  But if you're already a fan, then your collection is not complete without this beautiful work of musical art.   \n",
      "2                                                                                                                                                                                                                                                                                                                                                                                                                                                                                                                                                                                                                                                                                                                                                                                                                                                                                                                                                                                                                                                                                                                                                                                                                                                                                                                                                                                                                                                                                                                                                                                                                                                                                                                                                                                                                                                                                                                                                                                                                                                                                                                                                                                                                                                                                                                                                                                                                                                                                                                                                                                                                                                                                                                                                                                                                                                                                                                                                                                                                                                                                                                                                                                                                                                                                                                                                                                                                                                                                                                                                                                                                                                                                                           I never thought Enya would reach the sublime heights of Evacuee or Marble Halls from 'Shepherd Moons.' 'The Celts, Watermark and Day...' were all pleasant and admirable throughout, but are less ambitious both lyrically and musically. But Hope Has a Place from 'Memory...' reaches those heights and beyond. It is Enya at her most inspirational and comforting. I'm actually glad that this song didn't get overexposed the way Only Time did. It makes it that much more special to all who own this album.   \n",
      "3                                                                                                                                                                                                                                                                                                                                                                                                                                                                                                                                                                                                                                                                                                                                                                                                                                                                                                                                                                                                                                                                                                                                                                                                                                                                                                                                                                                                                                                                                                                                                                                                                                                                                                                                                                                                                                                                                                                                                                                                                                                                                                                                                                                                                                                                                                                                                                                                                                                                                                                                                                                                                                                                                                                                                                                                                                                                                                                                                                                                                                                                                                                                                                                                                                                                                                                                                                                                                                                                                                                                                                                                                                                                                                   This is the third review of an irish album I write today (the others were Cranberries) and now I'm sure about that Ireland is one of the countries producing the best music in the world. And not just commercial pop-music in the Spice Girls way. Okay, I just wanted to say something about Irish  music. Now let's say something about this album. It's great. it's  beautiful. Very good, easy listened music. If you like Enya or you just  want some easy-listened relaxing music. This is the album for you to buy!   \n",
      "4  Enya, despite being a successful recording artist, doesn't have the broad appeal as other artists; one reason might be that her kind of music is not very pop station friendly while another reason could be people think they're too \"macho\" for music that she makes. But people with open minds could find there's some beautiful melodies and harmonies as well as lively, upbeat tunes that are a joy to put on. I find the Memory of Trees to be one of her most consistent albums; plus it helps it has probably one of my top 5 favorite songs ever.The Memory of Trees: Like all of her records (except the recent Amarantine), the albums open with a wordless instrumental and this album's title track is probably my favorite with gentle piano arpeggios and a beautiful vocal track. I always like the sparse use of percussion. 9/10Anywhere Is: The lively single; it's actually a good sing-along with staccato beats and a great chorus. It's also a perfect length since it's under 3 minutes so whereas some pop songs drag after awhile, this one hooks you in then lets you go, leaving you wanting more. 9/10Pax Deorum: Another album, another ominous Latin-sung piece. The music sounds like something you'd hear in enemy territories in video games while Enya gives a low-voice, almost monotone performance over the music. Slightly repetitive until a 2nd higher voice comes in but the piece hits its stride halfway with a gorgeous bridge. 8/10Athair Ar Nearmh: There's some songs she does where it's more about the song itself rather than a poppy, catchy quality a la Only Time and this song's similar. Another ballad with some of her best singing, it's a more low-key track but it's also one of the album highlights. 8.5/10From Where I Am: Another instrumental; this one's a more piano-based piece that would be a nice song to learn for all pianists out there since it's not technically complex or fast but it's pleasant to listen to. 7.5/10China Roses: There's only a handful of songs I could have on repeat and never get sick of them and this is one of them. Everything from the vocals and background instrumentation, the lyrics and not to mention one of the most relaxing and almost tranquil ending codas I've ever heard, this is definately my favorite song on here, plus her whole career even. 15/10Hope Has a Place: For me, any song after China Roses will probably suffer a tad but this song doesn't do much for me. Granted, her vocals are as great as always and the song has a nice, relaxing mood but either this kind of track is too familiar (a kind of Athair part 2 if you will) or it's just not as memorable. 7/10Tea-House Moon: Very oriental in its instruments, it's another wordless song although it's more enjoyable than From Where I Am is, mainly because the melodies are more memorable and it's a bit more song-oriented. It's different but strangely likable. 8/10Once You Had Gold: We're getting into the album's final stretch and the problem is that with this one, it's a more quieter affair as you can feel the album almost winding down. With Enya's more higher vocals (for some reason, reminiscent of her Silent Night rendition), it's another beautiful track but it's also a bit...same-y? 8/10La Sonadora: Spanish lyrics for once, it's another slower paced track complete with \"aahs\" for background vocals and synths but again, the album could've benefited from a more perkier track. I do like what it does at the halfway point and gives the track a little boost. 7.5/10On My Way Home: A church organ opens the track and with a more bouncy synth, you'd think it was a bit more upbeat. While it's not as lively as her vocals on Anywhere Is, it does give the album a bit more memorable closer, especially when the chorus comes where the track gets more fuller in its arrangements. 9/10While A Day Without Rain or Watermark is usually marked as one of her best (probably because her big hits Only Time and Orinoco Flow were on them), I find the Memory of Trees a more likable album and despite a lack of more upbeat tracks, it's still one of her finest outings.   \n",
      "\n",
      "   overall                       summary  unixReviewTime   reviewTime  \n",
      "0      5.0       Enya's last great album      1158019200  09 12, 2006  \n",
      "1      5.0      Enya at her most elegant       991526400   06 3, 2001  \n",
      "2      5.0               The best so far      1058140800  07 14, 2003  \n",
      "3      5.0  Ireland produces good music.       957312000   05 3, 2000  \n",
      "4      4.0        4.5; music to dream to      1200528000  01 17, 2008  \n"
     ]
    }
   ],
   "source": [
    "# Load JSON file\n",
    "def load_data(file_path):\n",
    "    data = []\n",
    "    with gzip.open(file_path, 'rt', encoding='utf-8') as f:\n",
    "        for line in f:\n",
    "            data.append(json.loads(line))\n",
    "    return pd.DataFrame(data)\n",
    "\n",
    "# Load the dataset into a DataFrame\n",
    "df = load_data(filename)\n",
    "\n",
    "# Display basic info\n",
    "print(\"\\nDataset Sample:\")\n",
    "print(df.head())"
   ]
  },
  {
   "cell_type": "markdown",
   "metadata": {},
   "source": [
    "# Preprocess"
   ]
  },
  {
   "cell_type": "code",
   "execution_count": 8,
   "metadata": {},
   "outputs": [
    {
     "data": {
      "text/html": [
       "<div>\n",
       "<style scoped>\n",
       "    .dataframe tbody tr th:only-of-type {\n",
       "        vertical-align: middle;\n",
       "    }\n",
       "\n",
       "    .dataframe tbody tr th {\n",
       "        vertical-align: top;\n",
       "    }\n",
       "\n",
       "    .dataframe thead th {\n",
       "        text-align: right;\n",
       "    }\n",
       "</style>\n",
       "<table border=\"1\" class=\"dataframe\">\n",
       "  <thead>\n",
       "    <tr style=\"text-align: right;\">\n",
       "      <th></th>\n",
       "      <th>reviewText</th>\n",
       "      <th>overall</th>\n",
       "    </tr>\n",
       "  </thead>\n",
       "  <tbody>\n",
       "    <tr>\n",
       "      <th>0</th>\n",
       "      <td>It's hard to believe \"Memory of Trees\" came out 11 years ago;it has held up well over the passage of time.It's Enya's last great album before the New Age/pop of \"Amarantine\" and \"Day without rain.\" Back in 1995,Enya still had her creative spark,her own voice.I agree with the reviewer who said that this is her saddest album;it is melancholy,bittersweet,from the opening title song.\"Memory of Trees\" is elegaic&amp;majestic.;\"Pax Deorum\" sounds like it is from a Requiem Mass,it is a dark threnody.Unlike the reviewer who said that this has a \"disconcerting\" blend of spirituality&amp;sensuality;,I don't find it disconcerting at all.\"Anywhere is\" is a hopeful song,looking to possibilities.\"Hope has a place\" is about love,but it is up to the listener to decide if it is romantic,platonic,etc.I've always had a soft spot for this song.\"On my way home\" is a triumphant ending about return.This is truly a masterpiece of New Age music,a must for any Enya fan!</td>\n",
       "      <td>5.0</td>\n",
       "    </tr>\n",
       "    <tr>\n",
       "      <th>1</th>\n",
       "      <td>A clasically-styled and introverted album, Memory of Trees is a masterpiece of subtlety.  Many of the songs have an endearing shyness to them - soft piano and a lovely, quiet voice.  But within every introvert is an inferno, and Enya lets that fire explode on a couple of songs that absolutely burst with an expected raw power.If you've never heard Enya before, you might want to start with one of her more popularized works, like Watermark, just to play it safe.  But if you're already a fan, then your collection is not complete without this beautiful work of musical art.</td>\n",
       "      <td>5.0</td>\n",
       "    </tr>\n",
       "    <tr>\n",
       "      <th>2</th>\n",
       "      <td>I never thought Enya would reach the sublime heights of Evacuee or Marble Halls from 'Shepherd Moons.' 'The Celts, Watermark and Day...' were all pleasant and admirable throughout, but are less ambitious both lyrically and musically. But Hope Has a Place from 'Memory...' reaches those heights and beyond. It is Enya at her most inspirational and comforting. I'm actually glad that this song didn't get overexposed the way Only Time did. It makes it that much more special to all who own this album.</td>\n",
       "      <td>5.0</td>\n",
       "    </tr>\n",
       "    <tr>\n",
       "      <th>3</th>\n",
       "      <td>This is the third review of an irish album I write today (the others were Cranberries) and now I'm sure about that Ireland is one of the countries producing the best music in the world. And not just commercial pop-music in the Spice Girls way. Okay, I just wanted to say something about Irish  music. Now let's say something about this album. It's great. it's  beautiful. Very good, easy listened music. If you like Enya or you just  want some easy-listened relaxing music. This is the album for you to buy!</td>\n",
       "      <td>5.0</td>\n",
       "    </tr>\n",
       "    <tr>\n",
       "      <th>4</th>\n",
       "      <td>Enya, despite being a successful recording artist, doesn't have the broad appeal as other artists; one reason might be that her kind of music is not very pop station friendly while another reason could be people think they're too \"macho\" for music that she makes. But people with open minds could find there's some beautiful melodies and harmonies as well as lively, upbeat tunes that are a joy to put on. I find the Memory of Trees to be one of her most consistent albums; plus it helps it has probably one of my top 5 favorite songs ever.The Memory of Trees: Like all of her records (except the recent Amarantine), the albums open with a wordless instrumental and this album's title track is probably my favorite with gentle piano arpeggios and a beautiful vocal track. I always like the sparse use of percussion. 9/10Anywhere Is: The lively single; it's actually a good sing-along with staccato beats and a great chorus. It's also a perfect length since it's under 3 minutes so whereas some pop songs drag after awhile, this one hooks you in then lets you go, leaving you wanting more. 9/10Pax Deorum: Another album, another ominous Latin-sung piece. The music sounds like something you'd hear in enemy territories in video games while Enya gives a low-voice, almost monotone performance over the music. Slightly repetitive until a 2nd higher voice comes in but the piece hits its stride halfway with a gorgeous bridge. 8/10Athair Ar Nearmh: There's some songs she does where it's more about the song itself rather than a poppy, catchy quality a la Only Time and this song's similar. Another ballad with some of her best singing, it's a more low-key track but it's also one of the album highlights. 8.5/10From Where I Am: Another instrumental; this one's a more piano-based piece that would be a nice song to learn for all pianists out there since it's not technically complex or fast but it's pleasant to listen to. 7.5/10China Roses: There's only a handful of songs I could have on repeat and never get sick of them and this is one of them. Everything from the vocals and background instrumentation, the lyrics and not to mention one of the most relaxing and almost tranquil ending codas I've ever heard, this is definately my favorite song on here, plus her whole career even. 15/10Hope Has a Place: For me, any song after China Roses will probably suffer a tad but this song doesn't do much for me. Granted, her vocals are as great as always and the song has a nice, relaxing mood but either this kind of track is too familiar (a kind of Athair part 2 if you will) or it's just not as memorable. 7/10Tea-House Moon: Very oriental in its instruments, it's another wordless song although it's more enjoyable than From Where I Am is, mainly because the melodies are more memorable and it's a bit more song-oriented. It's different but strangely likable. 8/10Once You Had Gold: We're getting into the album's final stretch and the problem is that with this one, it's a more quieter affair as you can feel the album almost winding down. With Enya's more higher vocals (for some reason, reminiscent of her Silent Night rendition), it's another beautiful track but it's also a bit...same-y? 8/10La Sonadora: Spanish lyrics for once, it's another slower paced track complete with \"aahs\" for background vocals and synths but again, the album could've benefited from a more perkier track. I do like what it does at the halfway point and gives the track a little boost. 7.5/10On My Way Home: A church organ opens the track and with a more bouncy synth, you'd think it was a bit more upbeat. While it's not as lively as her vocals on Anywhere Is, it does give the album a bit more memorable closer, especially when the chorus comes where the track gets more fuller in its arrangements. 9/10While A Day Without Rain or Watermark is usually marked as one of her best (probably because her big hits Only Time and Orinoco Flow were on them), I find the Memory of Trees a more likable album and despite a lack of more upbeat tracks, it's still one of her finest outings.</td>\n",
       "      <td>4.0</td>\n",
       "    </tr>\n",
       "  </tbody>\n",
       "</table>\n",
       "</div>"
      ],
      "text/plain": [
       "                                                                                                                                                                                                                                                                                                                                                                                                                                                                                                                                                                                                                                                                                                                                                                                                                                                                                                                                                                                                                                                                                                                                                                                                                                                                                                                                                                                                                                                                                                                                                                                                                                                                                                                                                                                                                                                                                                                                                                                                                                                                                                                                                                                                                                                                                                                                                                                                                                                                                                                                                                                                                                                                                                                                                                                                                                                                                                                                                                                                                                                                                                                                                                                                                                                                                                                                                                                                                                                                                                                                                                                                                                                                                                                                                                                                                                                                                                                                                                                                                                                                                                                                                                                                                     reviewText  \\\n",
       "0                                                                                                                                                                                                                                                                                                                                                                                                                                                                                                                                                                                                                                                                                                                                                                                                                                                                                                                                                                                                                                                                                                                                                                                                                                                                                                                                                                                                                                                                                                                                                                                                                                                                                                                                                                                                                                                                                                                                                                                                                                                                                                                                                                                                                                                                                                                                                                                                                                                                                                                                                                                                                                                                                                                                                                                                                                                                                                                                                                                                                                                                                                                                                                                                                                        It's hard to believe \"Memory of Trees\" came out 11 years ago;it has held up well over the passage of time.It's Enya's last great album before the New Age/pop of \"Amarantine\" and \"Day without rain.\" Back in 1995,Enya still had her creative spark,her own voice.I agree with the reviewer who said that this is her saddest album;it is melancholy,bittersweet,from the opening title song.\"Memory of Trees\" is elegaic&majestic.;\"Pax Deorum\" sounds like it is from a Requiem Mass,it is a dark threnody.Unlike the reviewer who said that this has a \"disconcerting\" blend of spirituality&sensuality;,I don't find it disconcerting at all.\"Anywhere is\" is a hopeful song,looking to possibilities.\"Hope has a place\" is about love,but it is up to the listener to decide if it is romantic,platonic,etc.I've always had a soft spot for this song.\"On my way home\" is a triumphant ending about return.This is truly a masterpiece of New Age music,a must for any Enya fan!   \n",
       "1                                                                                                                                                                                                                                                                                                                                                                                                                                                                                                                                                                                                                                                                                                                                                                                                                                                                                                                                                                                                                                                                                                                                                                                                                                                                                                                                                                                                                                                                                                                                                                                                                                                                                                                                                                                                                                                                                                                                                                                                                                                                                                                                                                                                                                                                                                                                                                                                                                                                                                                                                                                                                                                                                                                                                                                                                                                                                                                                                                                                                                                                                                                                                                                                                                                                                                                                                                                                                                                                                                                                                                                                                                A clasically-styled and introverted album, Memory of Trees is a masterpiece of subtlety.  Many of the songs have an endearing shyness to them - soft piano and a lovely, quiet voice.  But within every introvert is an inferno, and Enya lets that fire explode on a couple of songs that absolutely burst with an expected raw power.If you've never heard Enya before, you might want to start with one of her more popularized works, like Watermark, just to play it safe.  But if you're already a fan, then your collection is not complete without this beautiful work of musical art.   \n",
       "2                                                                                                                                                                                                                                                                                                                                                                                                                                                                                                                                                                                                                                                                                                                                                                                                                                                                                                                                                                                                                                                                                                                                                                                                                                                                                                                                                                                                                                                                                                                                                                                                                                                                                                                                                                                                                                                                                                                                                                                                                                                                                                                                                                                                                                                                                                                                                                                                                                                                                                                                                                                                                                                                                                                                                                                                                                                                                                                                                                                                                                                                                                                                                                                                                                                                                                                                                                                                                                                                                                                                                                                                                                                                                                           I never thought Enya would reach the sublime heights of Evacuee or Marble Halls from 'Shepherd Moons.' 'The Celts, Watermark and Day...' were all pleasant and admirable throughout, but are less ambitious both lyrically and musically. But Hope Has a Place from 'Memory...' reaches those heights and beyond. It is Enya at her most inspirational and comforting. I'm actually glad that this song didn't get overexposed the way Only Time did. It makes it that much more special to all who own this album.   \n",
       "3                                                                                                                                                                                                                                                                                                                                                                                                                                                                                                                                                                                                                                                                                                                                                                                                                                                                                                                                                                                                                                                                                                                                                                                                                                                                                                                                                                                                                                                                                                                                                                                                                                                                                                                                                                                                                                                                                                                                                                                                                                                                                                                                                                                                                                                                                                                                                                                                                                                                                                                                                                                                                                                                                                                                                                                                                                                                                                                                                                                                                                                                                                                                                                                                                                                                                                                                                                                                                                                                                                                                                                                                                                                                                                   This is the third review of an irish album I write today (the others were Cranberries) and now I'm sure about that Ireland is one of the countries producing the best music in the world. And not just commercial pop-music in the Spice Girls way. Okay, I just wanted to say something about Irish  music. Now let's say something about this album. It's great. it's  beautiful. Very good, easy listened music. If you like Enya or you just  want some easy-listened relaxing music. This is the album for you to buy!   \n",
       "4  Enya, despite being a successful recording artist, doesn't have the broad appeal as other artists; one reason might be that her kind of music is not very pop station friendly while another reason could be people think they're too \"macho\" for music that she makes. But people with open minds could find there's some beautiful melodies and harmonies as well as lively, upbeat tunes that are a joy to put on. I find the Memory of Trees to be one of her most consistent albums; plus it helps it has probably one of my top 5 favorite songs ever.The Memory of Trees: Like all of her records (except the recent Amarantine), the albums open with a wordless instrumental and this album's title track is probably my favorite with gentle piano arpeggios and a beautiful vocal track. I always like the sparse use of percussion. 9/10Anywhere Is: The lively single; it's actually a good sing-along with staccato beats and a great chorus. It's also a perfect length since it's under 3 minutes so whereas some pop songs drag after awhile, this one hooks you in then lets you go, leaving you wanting more. 9/10Pax Deorum: Another album, another ominous Latin-sung piece. The music sounds like something you'd hear in enemy territories in video games while Enya gives a low-voice, almost monotone performance over the music. Slightly repetitive until a 2nd higher voice comes in but the piece hits its stride halfway with a gorgeous bridge. 8/10Athair Ar Nearmh: There's some songs she does where it's more about the song itself rather than a poppy, catchy quality a la Only Time and this song's similar. Another ballad with some of her best singing, it's a more low-key track but it's also one of the album highlights. 8.5/10From Where I Am: Another instrumental; this one's a more piano-based piece that would be a nice song to learn for all pianists out there since it's not technically complex or fast but it's pleasant to listen to. 7.5/10China Roses: There's only a handful of songs I could have on repeat and never get sick of them and this is one of them. Everything from the vocals and background instrumentation, the lyrics and not to mention one of the most relaxing and almost tranquil ending codas I've ever heard, this is definately my favorite song on here, plus her whole career even. 15/10Hope Has a Place: For me, any song after China Roses will probably suffer a tad but this song doesn't do much for me. Granted, her vocals are as great as always and the song has a nice, relaxing mood but either this kind of track is too familiar (a kind of Athair part 2 if you will) or it's just not as memorable. 7/10Tea-House Moon: Very oriental in its instruments, it's another wordless song although it's more enjoyable than From Where I Am is, mainly because the melodies are more memorable and it's a bit more song-oriented. It's different but strangely likable. 8/10Once You Had Gold: We're getting into the album's final stretch and the problem is that with this one, it's a more quieter affair as you can feel the album almost winding down. With Enya's more higher vocals (for some reason, reminiscent of her Silent Night rendition), it's another beautiful track but it's also a bit...same-y? 8/10La Sonadora: Spanish lyrics for once, it's another slower paced track complete with \"aahs\" for background vocals and synths but again, the album could've benefited from a more perkier track. I do like what it does at the halfway point and gives the track a little boost. 7.5/10On My Way Home: A church organ opens the track and with a more bouncy synth, you'd think it was a bit more upbeat. While it's not as lively as her vocals on Anywhere Is, it does give the album a bit more memorable closer, especially when the chorus comes where the track gets more fuller in its arrangements. 9/10While A Day Without Rain or Watermark is usually marked as one of her best (probably because her big hits Only Time and Orinoco Flow were on them), I find the Memory of Trees a more likable album and despite a lack of more upbeat tracks, it's still one of her finest outings.   \n",
       "\n",
       "   overall  \n",
       "0      5.0  \n",
       "1      5.0  \n",
       "2      5.0  \n",
       "3      5.0  \n",
       "4      4.0  "
      ]
     },
     "execution_count": 8,
     "metadata": {},
     "output_type": "execute_result"
    }
   ],
   "source": [
    "df1 = df[['reviewText', 'overall']]\n",
    "df1.head()"
   ]
  },
  {
   "cell_type": "code",
   "execution_count": 9,
   "metadata": {},
   "outputs": [
    {
     "name": "stdout",
     "output_type": "stream",
     "text": [
      "<class 'pandas.core.frame.DataFrame'>\n",
      "RangeIndex: 64706 entries, 0 to 64705\n",
      "Data columns (total 2 columns):\n",
      " #   Column      Non-Null Count  Dtype  \n",
      "---  ------      --------------  -----  \n",
      " 0   reviewText  64706 non-null  object \n",
      " 1   overall     64706 non-null  float64\n",
      "dtypes: float64(1), object(1)\n",
      "memory usage: 1011.2+ KB\n"
     ]
    }
   ],
   "source": [
    "df1.info()"
   ]
  },
  {
   "cell_type": "code",
   "execution_count": 10,
   "metadata": {},
   "outputs": [
    {
     "data": {
      "text/plain": [
       "array([5., 4., 3., 1., 2.])"
      ]
     },
     "execution_count": 10,
     "metadata": {},
     "output_type": "execute_result"
    }
   ],
   "source": [
    "df1['overall'].unique()"
   ]
  },
  {
   "cell_type": "code",
   "execution_count": 11,
   "metadata": {},
   "outputs": [
    {
     "name": "stdout",
     "output_type": "stream",
     "text": [
      "overall\n",
      "5.0    35580\n",
      "4.0    16536\n",
      "3.0     6789\n",
      "2.0     3010\n",
      "1.0     2791\n",
      "Name: count, dtype: int64\n"
     ]
    }
   ],
   "source": [
    "value_counts = df1['overall'].value_counts()\n",
    "print(value_counts)"
   ]
  },
  {
   "cell_type": "markdown",
   "metadata": {},
   "source": [
    "Here i define\n",
    "- sentiment by 0 (for overall score 1, 2, 3)\n",
    "- sentiment by 1 (for overall score 4, 5)\n",
    "\n",
    "One reason for me to do this is when i look at the count of them, the number of 4 and 4 are too much when compare with the rest."
   ]
  },
  {
   "cell_type": "code",
   "execution_count": 12,
   "metadata": {},
   "outputs": [
    {
     "name": "stderr",
     "output_type": "stream",
     "text": [
      "C:\\Users\\User\\AppData\\Local\\Temp\\ipykernel_13272\\3116498781.py:2: SettingWithCopyWarning: \n",
      "A value is trying to be set on a copy of a slice from a DataFrame.\n",
      "Try using .loc[row_indexer,col_indexer] = value instead\n",
      "\n",
      "See the caveats in the documentation: https://pandas.pydata.org/pandas-docs/stable/user_guide/indexing.html#returning-a-view-versus-a-copy\n",
      "  df1['sentiment'] = df1['overall'].apply(lambda x: 1 if x > 3 else 0)\n"
     ]
    }
   ],
   "source": [
    "# Convert ratings to binary sentiment (1-3 = negative, 4-5 = positive)\n",
    "df1['sentiment'] = df1['overall'].apply(lambda x: 1 if x > 3 else 0)\n"
   ]
  },
  {
   "cell_type": "code",
   "execution_count": 13,
   "metadata": {},
   "outputs": [
    {
     "name": "stdout",
     "output_type": "stream",
     "text": [
      "sentiment\n",
      "1    52116\n",
      "0    12590\n",
      "Name: count, dtype: int64\n"
     ]
    }
   ],
   "source": [
    "value_counts = df1['sentiment'].value_counts()\n",
    "print(value_counts)"
   ]
  },
  {
   "cell_type": "code",
   "execution_count": null,
   "metadata": {},
   "outputs": [],
   "source": [
    "def remove_special_characters(text):\n",
    "    \"\"\"\n",
    "    Remove special characters and punctuation from text.\n",
    "    \"\"\"\n",
    "    text = re.sub(r\"[^a-zA-Z0-9\\s]\", \"\", text)\n",
    "    text = re.sub(r'http\\S+|https?://\\S+|www\\.\\S+', '', text)\n",
    "    text = re.sub(r'\\[.*?\\]', '', text)\n",
    "    text = re.sub(r'<.*?>+', '', text)\n",
    "    text = re.sub(r'\\n|\\t|\\r|\\f|\\b', '', text)\n",
    "    text = re.sub(r'\\w*\\d\\w*', '', text)\n",
    "    return text.strip()\n",
    "\n",
    "def lowercase_text(text):\n",
    "    \"\"\"\n",
    "    Convert text to lowercase.\n",
    "    \"\"\"\n",
    "    return text.lower()\n",
    "\n",
    "def tokenize_text(text):\n",
    "    \"\"\"\n",
    "    Tokenize text into words.\n",
    "    \"\"\"\n",
    "    return word_tokenize(text)\n",
    "\n",
    "def remove_stopwords(words, language=\"english\"):\n",
    "    \"\"\"\n",
    "    Remove stopwords from a list of words.\n",
    "    \"\"\"\n",
    "    stop_words = set(stopwords.words(language))\n",
    "    return [word for word in words if word not in stop_words]\n",
    "\n",
    "def stem_words(words):\n",
    "    \"\"\"\n",
    "    Apply stemming to a list of words.\n",
    "    Stemming reduces words to their base form using rule-based heuristics.\n",
    "    \"\"\"\n",
    "    from nltk.stem import PorterStemmer\n",
    "    stemmer = PorterStemmer()\n",
    "    return [stemmer.stem(word) for word in words]\n",
    "\n",
    "def lemmatize_words(words):\n",
    "    \"\"\"\n",
    "    Apply lemmatization to a list of words.\n",
    "    Lemmatization reduces words to their dictionary form using linguistic rules.\n",
    "    \"\"\"\n",
    "    from nltk.stem import WordNetLemmatizer\n",
    "    lemmatizer = WordNetLemmatizer()\n",
    "    return [lemmatizer.lemmatize(word) for word in words]\n",
    "\n",
    "def remove_html_tags(text):\n",
    "    \"\"\" \n",
    "    Remove html tags from text\n",
    "    \"\"\"\n",
    "    clean_text = re.sub(r'<.*?>', '', text)\n",
    "    return clean_text\n",
    "\n",
    "def remove_mention(text):\n",
    "    \"\"\" \n",
    "    Remove @mentions\n",
    "    \"\"\"\n",
    "    # Remove @mentions\n",
    "    clean_text = re.sub(r'@\\w+', '', text)\n",
    "    return clean_text\n",
    "\n",
    "def remove_urls(text):\n",
    "    \"\"\" \n",
    "    Remove urls from text\n",
    "    \"\"\"\n",
    "    clean_text = re.sub(r'http\\S+', '', text)\n",
    "    return clean_text\n",
    "\n",
    "def replace_chat_words(text):\n",
    "    chat_words = {\n",
    "        \"BRB\": \"Be right back\",\n",
    "        \"BTW\": \"By the way\",\n",
    "        \"OMG\": \"Oh my God/goodness\",\n",
    "        \"TTYL\": \"Talk to you later\",\n",
    "        \"OMW\": \"On my way\",\n",
    "        \"SMH/SMDH\": \"Shaking my head/shaking my darn head\",\n",
    "        \"LOL\": \"Laugh out loud\",\n",
    "        \"TBD\": \"To be determined\", \n",
    "        \"IMHO/IMO\": \"In my humble opinion\",\n",
    "        \"HMU\": \"Hit me up\",\n",
    "        \"IIRC\": \"If I remember correctly\",\n",
    "        \"LMK\": \"Let me know\", \n",
    "        \"OG\": \"Original gangsters (used for old friends)\",\n",
    "        \"FTW\": \"For the win\", \n",
    "        \"NVM\": \"Nevermind\",\n",
    "        \"OOTD\": \"Outfit of the day\", \n",
    "        \"Ngl\": \"Not gonna lie\",\n",
    "        \"Rq\": \"real quick\", \n",
    "        \"Iykyk\": \"If you know, you know\",\n",
    "        \"Ong\": \"On god (I swear)\", \n",
    "        \"YAAAS\": \"Yes!\", \n",
    "        \"Brt\": \"Be right there\",\n",
    "        \"Sm\": \"So much\",\n",
    "        \"Ig\": \"I guess\",\n",
    "        \"Wya\": \"Where you at\",\n",
    "        \"Istg\": \"I swear to god\",\n",
    "        \"Hbu\": \"How about you\",\n",
    "        \"Atm\": \"At the moment\",\n",
    "        \"Asap\": \"As soon as possible\",\n",
    "        \"Fyi\": \"For your information\",\n",
    "        \"Tbh\": \"To be honest\",\n",
    "        \"Wtf\": \"What the fuck\",\n",
    "        \"Idk\": \"I don't know\"\n",
    "    }\n",
    "    for word, expanded_form in chat_words.items():\n",
    "        text = text.replace(word, expanded_form)\n",
    "    return text\n",
    "\n",
    "def text_preprocessing(\n",
    "    text,\n",
    "    remove_special=True,\n",
    "    to_lowercase=True,\n",
    "    remove_stopwords_flag=True,\n",
    "    stem_flag=False,\n",
    "    lemmatize_flag=False,\n",
    "    tokenize_flag=True,\n",
    "    language=\"english\",\n",
    "):\n",
    "    \"\"\"\n",
    "    Perform text preprocessing with multiple configurable steps.\n",
    "\n",
    "    :param text: The input text string to preprocess.\n",
    "    :param remove_special: Whether to remove special characters.\n",
    "    :param to_lowercase: Whether to convert the text to lowercase.\n",
    "    :param remove_stopwords_flag: Whether to remove stopwords from the text.\n",
    "    :param stem_flag: Whether to apply stemming.\n",
    "    :param lemmatize_flag: Whether to apply lemmatization.\n",
    "    :param tokenize_flag: Whether to tokenize the text into words.\n",
    "    :param language: Language to use for stopwords and tokenization.\n",
    "    :return: Preprocessed text.\n",
    "    \"\"\"\n",
    "    # Split the text into sentences for better handling of long texts\n",
    "    sentences = sent_tokenize(text)\n",
    "\n",
    "    processed_sentences = []\n",
    "    for sentence in sentences: # only one loop here cause we extract only 1 sentence\n",
    "        # Step 1: Remove special characters\n",
    "        sentence = remove_mention(sentence)\n",
    "        sentence = remove_html_tags(sentence)\n",
    "        sentence = remove_urls(sentence)\n",
    "        sentence = replace_chat_words(sentence)\n",
    "        \n",
    "        if remove_special:\n",
    "            sentence = remove_special_characters(sentence)\n",
    "        \n",
    "        # Step 2: Convert to lowercase\n",
    "        if to_lowercase:\n",
    "            sentence = lowercase_text(sentence)\n",
    "        \n",
    "        # Step 3: Tokenize the sentence into words\n",
    "        words = tokenize_text(sentence)\n",
    "        \n",
    "        # Step 4: Remove stopwords\n",
    "        if remove_stopwords_flag:\n",
    "            words = remove_stopwords(words, language)\n",
    "        \n",
    "        # Step 5: Apply stemming\n",
    "        if stem_flag:\n",
    "            words = stem_words(words)\n",
    "        \n",
    "        # Step 6: Apply lemmatization\n",
    "        if lemmatize_flag:\n",
    "            words = lemmatize_words(words)\n",
    "        \n",
    "        # Step 7: Reconstruct the sentence from words\n",
    "        processed_sentences.append(\" \".join(words))\n",
    "\n",
    "    # Merge sentences back into text\n",
    "    return \" \".join(processed_sentences)\n",
    "\n"
   ]
  },
  {
   "cell_type": "code",
   "execution_count": 15,
   "metadata": {},
   "outputs": [
    {
     "name": "stdout",
     "output_type": "stream",
     "text": [
      "Original Text:\n",
      " \n",
      "This is an example sentence to demonstrate text preprocessing!\n",
      "It includes punctuation, CAPITALIZED words, and stopwords.\n",
      "\n",
      "Processed Text:\n",
      " this is an example sentence to demonstrate text preprocessing it includes punctuation capitalized words and stopwords\n"
     ]
    }
   ],
   "source": [
    "# Example text\n",
    "text = \"\"\"\n",
    "This is an example sentence to demonstrate text preprocessing!\n",
    "It includes punctuation, CAPITALIZED words, and stopwords.\n",
    "\"\"\"\n",
    "\n",
    "processed_text = text_preprocessing(\n",
    "    text,\n",
    "    remove_special=True,\n",
    "    to_lowercase=True,\n",
    "    remove_stopwords_flag=False,\n",
    "    stem_flag=False,\n",
    "    lemmatize_flag=False,\n",
    ")\n",
    "\n",
    "print(\"Original Text:\\n\", text)\n",
    "print(\"Processed Text:\\n\", processed_text)"
   ]
  },
  {
   "cell_type": "code",
   "execution_count": 16,
   "metadata": {},
   "outputs": [
    {
     "data": {
      "text/html": [
       "<div>\n",
       "<style scoped>\n",
       "    .dataframe tbody tr th:only-of-type {\n",
       "        vertical-align: middle;\n",
       "    }\n",
       "\n",
       "    .dataframe tbody tr th {\n",
       "        vertical-align: top;\n",
       "    }\n",
       "\n",
       "    .dataframe thead th {\n",
       "        text-align: right;\n",
       "    }\n",
       "</style>\n",
       "<table border=\"1\" class=\"dataframe\">\n",
       "  <thead>\n",
       "    <tr style=\"text-align: right;\">\n",
       "      <th></th>\n",
       "      <th>reviewText</th>\n",
       "      <th>overall</th>\n",
       "      <th>sentiment</th>\n",
       "    </tr>\n",
       "  </thead>\n",
       "  <tbody>\n",
       "    <tr>\n",
       "      <th>0</th>\n",
       "      <td>It's hard to believe \"Memory of Trees\" came out 11 years ago;it has held up well over the passage of time.It's Enya's last great album before the New Age/pop of \"Amarantine\" and \"Day without rain.\" Back in 1995,Enya still had her creative spark,her own voice.I agree with the reviewer who said that this is her saddest album;it is melancholy,bittersweet,from the opening title song.\"Memory of Trees\" is elegaic&amp;majestic.;\"Pax Deorum\" sounds like it is from a Requiem Mass,it is a dark threnody.Unlike the reviewer who said that this has a \"disconcerting\" blend of spirituality&amp;sensuality;,I don't find it disconcerting at all.\"Anywhere is\" is a hopeful song,looking to possibilities.\"Hope has a place\" is about love,but it is up to the listener to decide if it is romantic,platonic,etc.I've always had a soft spot for this song.\"On my way home\" is a triumphant ending about return.This is truly a masterpiece of New Age music,a must for any Enya fan!</td>\n",
       "      <td>5.0</td>\n",
       "      <td>1</td>\n",
       "    </tr>\n",
       "    <tr>\n",
       "      <th>1</th>\n",
       "      <td>A clasically-styled and introverted album, Memory of Trees is a masterpiece of subtlety.  Many of the songs have an endearing shyness to them - soft piano and a lovely, quiet voice.  But within every introvert is an inferno, and Enya lets that fire explode on a couple of songs that absolutely burst with an expected raw power.If you've never heard Enya before, you might want to start with one of her more popularized works, like Watermark, just to play it safe.  But if you're already a fan, then your collection is not complete without this beautiful work of musical art.</td>\n",
       "      <td>5.0</td>\n",
       "      <td>1</td>\n",
       "    </tr>\n",
       "    <tr>\n",
       "      <th>2</th>\n",
       "      <td>I never thought Enya would reach the sublime heights of Evacuee or Marble Halls from 'Shepherd Moons.' 'The Celts, Watermark and Day...' were all pleasant and admirable throughout, but are less ambitious both lyrically and musically. But Hope Has a Place from 'Memory...' reaches those heights and beyond. It is Enya at her most inspirational and comforting. I'm actually glad that this song didn't get overexposed the way Only Time did. It makes it that much more special to all who own this album.</td>\n",
       "      <td>5.0</td>\n",
       "      <td>1</td>\n",
       "    </tr>\n",
       "    <tr>\n",
       "      <th>3</th>\n",
       "      <td>This is the third review of an irish album I write today (the others were Cranberries) and now I'm sure about that Ireland is one of the countries producing the best music in the world. And not just commercial pop-music in the Spice Girls way. Okay, I just wanted to say something about Irish  music. Now let's say something about this album. It's great. it's  beautiful. Very good, easy listened music. If you like Enya or you just  want some easy-listened relaxing music. This is the album for you to buy!</td>\n",
       "      <td>5.0</td>\n",
       "      <td>1</td>\n",
       "    </tr>\n",
       "    <tr>\n",
       "      <th>4</th>\n",
       "      <td>Enya, despite being a successful recording artist, doesn't have the broad appeal as other artists; one reason might be that her kind of music is not very pop station friendly while another reason could be people think they're too \"macho\" for music that she makes. But people with open minds could find there's some beautiful melodies and harmonies as well as lively, upbeat tunes that are a joy to put on. I find the Memory of Trees to be one of her most consistent albums; plus it helps it has probably one of my top 5 favorite songs ever.The Memory of Trees: Like all of her records (except the recent Amarantine), the albums open with a wordless instrumental and this album's title track is probably my favorite with gentle piano arpeggios and a beautiful vocal track. I always like the sparse use of percussion. 9/10Anywhere Is: The lively single; it's actually a good sing-along with staccato beats and a great chorus. It's also a perfect length since it's under 3 minutes so whereas some pop songs drag after awhile, this one hooks you in then lets you go, leaving you wanting more. 9/10Pax Deorum: Another album, another ominous Latin-sung piece. The music sounds like something you'd hear in enemy territories in video games while Enya gives a low-voice, almost monotone performance over the music. Slightly repetitive until a 2nd higher voice comes in but the piece hits its stride halfway with a gorgeous bridge. 8/10Athair Ar Nearmh: There's some songs she does where it's more about the song itself rather than a poppy, catchy quality a la Only Time and this song's similar. Another ballad with some of her best singing, it's a more low-key track but it's also one of the album highlights. 8.5/10From Where I Am: Another instrumental; this one's a more piano-based piece that would be a nice song to learn for all pianists out there since it's not technically complex or fast but it's pleasant to listen to. 7.5/10China Roses: There's only a handful of songs I could have on repeat and never get sick of them and this is one of them. Everything from the vocals and background instrumentation, the lyrics and not to mention one of the most relaxing and almost tranquil ending codas I've ever heard, this is definately my favorite song on here, plus her whole career even. 15/10Hope Has a Place: For me, any song after China Roses will probably suffer a tad but this song doesn't do much for me. Granted, her vocals are as great as always and the song has a nice, relaxing mood but either this kind of track is too familiar (a kind of Athair part 2 if you will) or it's just not as memorable. 7/10Tea-House Moon: Very oriental in its instruments, it's another wordless song although it's more enjoyable than From Where I Am is, mainly because the melodies are more memorable and it's a bit more song-oriented. It's different but strangely likable. 8/10Once You Had Gold: We're getting into the album's final stretch and the problem is that with this one, it's a more quieter affair as you can feel the album almost winding down. With Enya's more higher vocals (for some reason, reminiscent of her Silent Night rendition), it's another beautiful track but it's also a bit...same-y? 8/10La Sonadora: Spanish lyrics for once, it's another slower paced track complete with \"aahs\" for background vocals and synths but again, the album could've benefited from a more perkier track. I do like what it does at the halfway point and gives the track a little boost. 7.5/10On My Way Home: A church organ opens the track and with a more bouncy synth, you'd think it was a bit more upbeat. While it's not as lively as her vocals on Anywhere Is, it does give the album a bit more memorable closer, especially when the chorus comes where the track gets more fuller in its arrangements. 9/10While A Day Without Rain or Watermark is usually marked as one of her best (probably because her big hits Only Time and Orinoco Flow were on them), I find the Memory of Trees a more likable album and despite a lack of more upbeat tracks, it's still one of her finest outings.</td>\n",
       "      <td>4.0</td>\n",
       "      <td>1</td>\n",
       "    </tr>\n",
       "  </tbody>\n",
       "</table>\n",
       "</div>"
      ],
      "text/plain": [
       "                                                                                                                                                                                                                                                                                                                                                                                                                                                                                                                                                                                                                                                                                                                                                                                                                                                                                                                                                                                                                                                                                                                                                                                                                                                                                                                                                                                                                                                                                                                                                                                                                                                                                                                                                                                                                                                                                                                                                                                                                                                                                                                                                                                                                                                                                                                                                                                                                                                                                                                                                                                                                                                                                                                                                                                                                                                                                                                                                                                                                                                                                                                                                                                                                                                                                                                                                                                                                                                                                                                                                                                                                                                                                                                                                                                                                                                                                                                                                                                                                                                                                                                                                                                                                     reviewText  \\\n",
       "0                                                                                                                                                                                                                                                                                                                                                                                                                                                                                                                                                                                                                                                                                                                                                                                                                                                                                                                                                                                                                                                                                                                                                                                                                                                                                                                                                                                                                                                                                                                                                                                                                                                                                                                                                                                                                                                                                                                                                                                                                                                                                                                                                                                                                                                                                                                                                                                                                                                                                                                                                                                                                                                                                                                                                                                                                                                                                                                                                                                                                                                                                                                                                                                                                                        It's hard to believe \"Memory of Trees\" came out 11 years ago;it has held up well over the passage of time.It's Enya's last great album before the New Age/pop of \"Amarantine\" and \"Day without rain.\" Back in 1995,Enya still had her creative spark,her own voice.I agree with the reviewer who said that this is her saddest album;it is melancholy,bittersweet,from the opening title song.\"Memory of Trees\" is elegaic&majestic.;\"Pax Deorum\" sounds like it is from a Requiem Mass,it is a dark threnody.Unlike the reviewer who said that this has a \"disconcerting\" blend of spirituality&sensuality;,I don't find it disconcerting at all.\"Anywhere is\" is a hopeful song,looking to possibilities.\"Hope has a place\" is about love,but it is up to the listener to decide if it is romantic,platonic,etc.I've always had a soft spot for this song.\"On my way home\" is a triumphant ending about return.This is truly a masterpiece of New Age music,a must for any Enya fan!   \n",
       "1                                                                                                                                                                                                                                                                                                                                                                                                                                                                                                                                                                                                                                                                                                                                                                                                                                                                                                                                                                                                                                                                                                                                                                                                                                                                                                                                                                                                                                                                                                                                                                                                                                                                                                                                                                                                                                                                                                                                                                                                                                                                                                                                                                                                                                                                                                                                                                                                                                                                                                                                                                                                                                                                                                                                                                                                                                                                                                                                                                                                                                                                                                                                                                                                                                                                                                                                                                                                                                                                                                                                                                                                                                A clasically-styled and introverted album, Memory of Trees is a masterpiece of subtlety.  Many of the songs have an endearing shyness to them - soft piano and a lovely, quiet voice.  But within every introvert is an inferno, and Enya lets that fire explode on a couple of songs that absolutely burst with an expected raw power.If you've never heard Enya before, you might want to start with one of her more popularized works, like Watermark, just to play it safe.  But if you're already a fan, then your collection is not complete without this beautiful work of musical art.   \n",
       "2                                                                                                                                                                                                                                                                                                                                                                                                                                                                                                                                                                                                                                                                                                                                                                                                                                                                                                                                                                                                                                                                                                                                                                                                                                                                                                                                                                                                                                                                                                                                                                                                                                                                                                                                                                                                                                                                                                                                                                                                                                                                                                                                                                                                                                                                                                                                                                                                                                                                                                                                                                                                                                                                                                                                                                                                                                                                                                                                                                                                                                                                                                                                                                                                                                                                                                                                                                                                                                                                                                                                                                                                                                                                                                           I never thought Enya would reach the sublime heights of Evacuee or Marble Halls from 'Shepherd Moons.' 'The Celts, Watermark and Day...' were all pleasant and admirable throughout, but are less ambitious both lyrically and musically. But Hope Has a Place from 'Memory...' reaches those heights and beyond. It is Enya at her most inspirational and comforting. I'm actually glad that this song didn't get overexposed the way Only Time did. It makes it that much more special to all who own this album.   \n",
       "3                                                                                                                                                                                                                                                                                                                                                                                                                                                                                                                                                                                                                                                                                                                                                                                                                                                                                                                                                                                                                                                                                                                                                                                                                                                                                                                                                                                                                                                                                                                                                                                                                                                                                                                                                                                                                                                                                                                                                                                                                                                                                                                                                                                                                                                                                                                                                                                                                                                                                                                                                                                                                                                                                                                                                                                                                                                                                                                                                                                                                                                                                                                                                                                                                                                                                                                                                                                                                                                                                                                                                                                                                                                                                                   This is the third review of an irish album I write today (the others were Cranberries) and now I'm sure about that Ireland is one of the countries producing the best music in the world. And not just commercial pop-music in the Spice Girls way. Okay, I just wanted to say something about Irish  music. Now let's say something about this album. It's great. it's  beautiful. Very good, easy listened music. If you like Enya or you just  want some easy-listened relaxing music. This is the album for you to buy!   \n",
       "4  Enya, despite being a successful recording artist, doesn't have the broad appeal as other artists; one reason might be that her kind of music is not very pop station friendly while another reason could be people think they're too \"macho\" for music that she makes. But people with open minds could find there's some beautiful melodies and harmonies as well as lively, upbeat tunes that are a joy to put on. I find the Memory of Trees to be one of her most consistent albums; plus it helps it has probably one of my top 5 favorite songs ever.The Memory of Trees: Like all of her records (except the recent Amarantine), the albums open with a wordless instrumental and this album's title track is probably my favorite with gentle piano arpeggios and a beautiful vocal track. I always like the sparse use of percussion. 9/10Anywhere Is: The lively single; it's actually a good sing-along with staccato beats and a great chorus. It's also a perfect length since it's under 3 minutes so whereas some pop songs drag after awhile, this one hooks you in then lets you go, leaving you wanting more. 9/10Pax Deorum: Another album, another ominous Latin-sung piece. The music sounds like something you'd hear in enemy territories in video games while Enya gives a low-voice, almost monotone performance over the music. Slightly repetitive until a 2nd higher voice comes in but the piece hits its stride halfway with a gorgeous bridge. 8/10Athair Ar Nearmh: There's some songs she does where it's more about the song itself rather than a poppy, catchy quality a la Only Time and this song's similar. Another ballad with some of her best singing, it's a more low-key track but it's also one of the album highlights. 8.5/10From Where I Am: Another instrumental; this one's a more piano-based piece that would be a nice song to learn for all pianists out there since it's not technically complex or fast but it's pleasant to listen to. 7.5/10China Roses: There's only a handful of songs I could have on repeat and never get sick of them and this is one of them. Everything from the vocals and background instrumentation, the lyrics and not to mention one of the most relaxing and almost tranquil ending codas I've ever heard, this is definately my favorite song on here, plus her whole career even. 15/10Hope Has a Place: For me, any song after China Roses will probably suffer a tad but this song doesn't do much for me. Granted, her vocals are as great as always and the song has a nice, relaxing mood but either this kind of track is too familiar (a kind of Athair part 2 if you will) or it's just not as memorable. 7/10Tea-House Moon: Very oriental in its instruments, it's another wordless song although it's more enjoyable than From Where I Am is, mainly because the melodies are more memorable and it's a bit more song-oriented. It's different but strangely likable. 8/10Once You Had Gold: We're getting into the album's final stretch and the problem is that with this one, it's a more quieter affair as you can feel the album almost winding down. With Enya's more higher vocals (for some reason, reminiscent of her Silent Night rendition), it's another beautiful track but it's also a bit...same-y? 8/10La Sonadora: Spanish lyrics for once, it's another slower paced track complete with \"aahs\" for background vocals and synths but again, the album could've benefited from a more perkier track. I do like what it does at the halfway point and gives the track a little boost. 7.5/10On My Way Home: A church organ opens the track and with a more bouncy synth, you'd think it was a bit more upbeat. While it's not as lively as her vocals on Anywhere Is, it does give the album a bit more memorable closer, especially when the chorus comes where the track gets more fuller in its arrangements. 9/10While A Day Without Rain or Watermark is usually marked as one of her best (probably because her big hits Only Time and Orinoco Flow were on them), I find the Memory of Trees a more likable album and despite a lack of more upbeat tracks, it's still one of her finest outings.   \n",
       "\n",
       "   overall  sentiment  \n",
       "0      5.0          1  \n",
       "1      5.0          1  \n",
       "2      5.0          1  \n",
       "3      5.0          1  \n",
       "4      4.0          1  "
      ]
     },
     "execution_count": 16,
     "metadata": {},
     "output_type": "execute_result"
    }
   ],
   "source": [
    "# Convert ratings to binary sentiment (1-3 = negative, 4-5 = positive)\n",
    "df1.head()"
   ]
  },
  {
   "cell_type": "code",
   "execution_count": 17,
   "metadata": {},
   "outputs": [
    {
     "name": "stdout",
     "output_type": "stream",
     "text": [
      "<class 'pandas.core.frame.DataFrame'>\n",
      "RangeIndex: 64706 entries, 0 to 64705\n",
      "Data columns (total 3 columns):\n",
      " #   Column      Non-Null Count  Dtype  \n",
      "---  ------      --------------  -----  \n",
      " 0   reviewText  64706 non-null  object \n",
      " 1   overall     64706 non-null  float64\n",
      " 2   sentiment   64706 non-null  int64  \n",
      "dtypes: float64(1), int64(1), object(1)\n",
      "memory usage: 1.5+ MB\n"
     ]
    }
   ],
   "source": [
    "df1.info()"
   ]
  },
  {
   "cell_type": "markdown",
   "metadata": {},
   "source": [
    "Vi de notebook nay chay cho nhanh tien cho anh check, nen em set ```stem_flag=False``` (chay tam 4p30s tren may laptop local tren vsc). \n",
    "\n",
    "Khi set ```stem_flag=True``` thi co ve performance ok hon nhung ma lau hon lan anh (vai chuc phut @@)"
   ]
  },
  {
   "cell_type": "code",
   "execution_count": 18,
   "metadata": {},
   "outputs": [
    {
     "name": "stderr",
     "output_type": "stream",
     "text": [
      "Processing text: 100%|██████████| 64706/64706 [04:28<00:00, 240.60it/s]\n"
     ]
    }
   ],
   "source": [
    "# Rename 'text' to 'reviewText' safely\n",
    "df1 = df1.rename(columns={\"text\": \"reviewText\"})\n",
    "\n",
    "# Check if 'reviewText' column exists after renaming\n",
    "if \"reviewText\" not in df1.columns:\n",
    "    raise KeyError(\"Column 'text' was not found in the DataFrame.\")\n",
    "\n",
    "# Apply text preprocessing\n",
    "df1['text_clean'] = df1['reviewText'].astype(str).progress_apply(lambda x: text_preprocessing(\n",
    "    text=x,\n",
    "    remove_special=True,\n",
    "    to_lowercase=True,\n",
    "    remove_stopwords_flag=False,\n",
    "    stem_flag=False,\n",
    "    lemmatize_flag=False\n",
    "))"
   ]
  },
  {
   "cell_type": "code",
   "execution_count": 19,
   "metadata": {},
   "outputs": [],
   "source": [
    "# df1.head()"
   ]
  },
  {
   "cell_type": "code",
   "execution_count": 20,
   "metadata": {},
   "outputs": [],
   "source": [
    "# df1.info()"
   ]
  },
  {
   "cell_type": "markdown",
   "metadata": {},
   "source": [
    "# Vectorizer"
   ]
  },
  {
   "cell_type": "markdown",
   "metadata": {},
   "source": [
    "The reason for me to do this is that previously, i try to use XGBoost to see how it works (at that time overall range is from 1 to 5), but then i realize that the model requires that labels should be from 0 to upwards so i need to minus 1 here for all the overall score labels. \n",
    "\n",
    "But now i do not use XGBoost anymore cause it takes much more time then those models here in this notebook."
   ]
  },
  {
   "cell_type": "code",
   "execution_count": 21,
   "metadata": {},
   "outputs": [],
   "source": [
    "# Adjust overall ratings to start from 0\n",
    "df1['overall'] = df1['overall'] - 1  # Shifts [1,2,3,4,5] -> [0,1,2,3,4]\n"
   ]
  },
  {
   "cell_type": "code",
   "execution_count": 22,
   "metadata": {},
   "outputs": [
    {
     "data": {
      "text/html": [
       "<div>\n",
       "<style scoped>\n",
       "    .dataframe tbody tr th:only-of-type {\n",
       "        vertical-align: middle;\n",
       "    }\n",
       "\n",
       "    .dataframe tbody tr th {\n",
       "        vertical-align: top;\n",
       "    }\n",
       "\n",
       "    .dataframe thead th {\n",
       "        text-align: right;\n",
       "    }\n",
       "</style>\n",
       "<table border=\"1\" class=\"dataframe\">\n",
       "  <thead>\n",
       "    <tr style=\"text-align: right;\">\n",
       "      <th></th>\n",
       "      <th>reviewText</th>\n",
       "      <th>overall</th>\n",
       "      <th>sentiment</th>\n",
       "      <th>text_clean</th>\n",
       "    </tr>\n",
       "  </thead>\n",
       "  <tbody>\n",
       "    <tr>\n",
       "      <th>0</th>\n",
       "      <td>It's hard to believe \"Memory of Trees\" came out 11 years ago;it has held up well over the passage of time.It's Enya's last great album before the New Age/pop of \"Amarantine\" and \"Day without rain.\" Back in 1995,Enya still had her creative spark,her own voice.I agree with the reviewer who said that this is her saddest album;it is melancholy,bittersweet,from the opening title song.\"Memory of Trees\" is elegaic&amp;majestic.;\"Pax Deorum\" sounds like it is from a Requiem Mass,it is a dark threnody.Unlike the reviewer who said that this has a \"disconcerting\" blend of spirituality&amp;sensuality;,I don't find it disconcerting at all.\"Anywhere is\" is a hopeful song,looking to possibilities.\"Hope has a place\" is about love,but it is up to the listener to decide if it is romantic,platonic,etc.I've always had a soft spot for this song.\"On my way home\" is a triumphant ending about return.This is truly a masterpiece of New Age music,a must for any Enya fan!</td>\n",
       "      <td>4.0</td>\n",
       "      <td>1</td>\n",
       "      <td>its hard to believe memory of trees came out years agoit has held up well over the passage of timeits enyas last great album before the new agepop of amarantine and day without rain back in still had her creative sparkher own voicei agree with the reviewer who said that this is her saddest albumit is melancholybittersweetfrom the opening title song memory of trees is elegaicmajestic pax deorum sounds like it is from a requiem massit is a dark threnodyunlike the reviewer who said that this has a disconcerting blend of spiritualitysensualityi dont find it disconcerting at all anywhere is is a hopeful songlooking to possibilities hope has a place is about lovebut it is up to the listener to decide if it is romanticplatonicetcive always had a soft spot for this song on my way home is a triumphant ending about returnthis is truly a masterpiece of new age musica must for any enya fan</td>\n",
       "    </tr>\n",
       "    <tr>\n",
       "      <th>1</th>\n",
       "      <td>A clasically-styled and introverted album, Memory of Trees is a masterpiece of subtlety.  Many of the songs have an endearing shyness to them - soft piano and a lovely, quiet voice.  But within every introvert is an inferno, and Enya lets that fire explode on a couple of songs that absolutely burst with an expected raw power.If you've never heard Enya before, you might want to start with one of her more popularized works, like Watermark, just to play it safe.  But if you're already a fan, then your collection is not complete without this beautiful work of musical art.</td>\n",
       "      <td>4.0</td>\n",
       "      <td>1</td>\n",
       "      <td>a clasicallystyled and introverted album memory of trees is a masterpiece of subtlety many of the songs have an endearing shyness to them soft piano and a lovely quiet voice but within every introvert is an inferno and enya lets that fire explode on a couple of songs that absolutely burst with an expected raw powerif youve never heard enya before you might want to start with one of her more popularized works like watermark just to play it safe but if youre already a fan then your collection is not complete without this beautiful work of musical art</td>\n",
       "    </tr>\n",
       "    <tr>\n",
       "      <th>2</th>\n",
       "      <td>I never thought Enya would reach the sublime heights of Evacuee or Marble Halls from 'Shepherd Moons.' 'The Celts, Watermark and Day...' were all pleasant and admirable throughout, but are less ambitious both lyrically and musically. But Hope Has a Place from 'Memory...' reaches those heights and beyond. It is Enya at her most inspirational and comforting. I'm actually glad that this song didn't get overexposed the way Only Time did. It makes it that much more special to all who own this album.</td>\n",
       "      <td>4.0</td>\n",
       "      <td>1</td>\n",
       "      <td>i never thought enya would reach the sublime heights of evacuee or marble halls from shepherd moons the celts watermark and day were all pleasant and admirable throughout but are less ambitious both lyrically and musically but hope has a place from memory reaches those heights and beyond it is enya at her most inspirational and comforting im actually glad that this song didnt get overexposed the way only time did it makes it that much more special to all who own this album</td>\n",
       "    </tr>\n",
       "    <tr>\n",
       "      <th>3</th>\n",
       "      <td>This is the third review of an irish album I write today (the others were Cranberries) and now I'm sure about that Ireland is one of the countries producing the best music in the world. And not just commercial pop-music in the Spice Girls way. Okay, I just wanted to say something about Irish  music. Now let's say something about this album. It's great. it's  beautiful. Very good, easy listened music. If you like Enya or you just  want some easy-listened relaxing music. This is the album for you to buy!</td>\n",
       "      <td>4.0</td>\n",
       "      <td>1</td>\n",
       "      <td>this is the third review of an irish album i write today the others were cranberries and now im sure about that ireland is one of the countries producing the best music in the world and not just commercial popmusic in the spice girls way okay i just wanted to say something about irish music now lets say something about this album its great its beautiful very good easy listened music if you like enya or you just want some easylistened relaxing music this is the album for you to buy</td>\n",
       "    </tr>\n",
       "    <tr>\n",
       "      <th>4</th>\n",
       "      <td>Enya, despite being a successful recording artist, doesn't have the broad appeal as other artists; one reason might be that her kind of music is not very pop station friendly while another reason could be people think they're too \"macho\" for music that she makes. But people with open minds could find there's some beautiful melodies and harmonies as well as lively, upbeat tunes that are a joy to put on. I find the Memory of Trees to be one of her most consistent albums; plus it helps it has probably one of my top 5 favorite songs ever.The Memory of Trees: Like all of her records (except the recent Amarantine), the albums open with a wordless instrumental and this album's title track is probably my favorite with gentle piano arpeggios and a beautiful vocal track. I always like the sparse use of percussion. 9/10Anywhere Is: The lively single; it's actually a good sing-along with staccato beats and a great chorus. It's also a perfect length since it's under 3 minutes so whereas some pop songs drag after awhile, this one hooks you in then lets you go, leaving you wanting more. 9/10Pax Deorum: Another album, another ominous Latin-sung piece. The music sounds like something you'd hear in enemy territories in video games while Enya gives a low-voice, almost monotone performance over the music. Slightly repetitive until a 2nd higher voice comes in but the piece hits its stride halfway with a gorgeous bridge. 8/10Athair Ar Nearmh: There's some songs she does where it's more about the song itself rather than a poppy, catchy quality a la Only Time and this song's similar. Another ballad with some of her best singing, it's a more low-key track but it's also one of the album highlights. 8.5/10From Where I Am: Another instrumental; this one's a more piano-based piece that would be a nice song to learn for all pianists out there since it's not technically complex or fast but it's pleasant to listen to. 7.5/10China Roses: There's only a handful of songs I could have on repeat and never get sick of them and this is one of them. Everything from the vocals and background instrumentation, the lyrics and not to mention one of the most relaxing and almost tranquil ending codas I've ever heard, this is definately my favorite song on here, plus her whole career even. 15/10Hope Has a Place: For me, any song after China Roses will probably suffer a tad but this song doesn't do much for me. Granted, her vocals are as great as always and the song has a nice, relaxing mood but either this kind of track is too familiar (a kind of Athair part 2 if you will) or it's just not as memorable. 7/10Tea-House Moon: Very oriental in its instruments, it's another wordless song although it's more enjoyable than From Where I Am is, mainly because the melodies are more memorable and it's a bit more song-oriented. It's different but strangely likable. 8/10Once You Had Gold: We're getting into the album's final stretch and the problem is that with this one, it's a more quieter affair as you can feel the album almost winding down. With Enya's more higher vocals (for some reason, reminiscent of her Silent Night rendition), it's another beautiful track but it's also a bit...same-y? 8/10La Sonadora: Spanish lyrics for once, it's another slower paced track complete with \"aahs\" for background vocals and synths but again, the album could've benefited from a more perkier track. I do like what it does at the halfway point and gives the track a little boost. 7.5/10On My Way Home: A church organ opens the track and with a more bouncy synth, you'd think it was a bit more upbeat. While it's not as lively as her vocals on Anywhere Is, it does give the album a bit more memorable closer, especially when the chorus comes where the track gets more fuller in its arrangements. 9/10While A Day Without Rain or Watermark is usually marked as one of her best (probably because her big hits Only Time and Orinoco Flow were on them), I find the Memory of Trees a more likable album and despite a lack of more upbeat tracks, it's still one of her finest outings.</td>\n",
       "      <td>3.0</td>\n",
       "      <td>1</td>\n",
       "      <td>enya despite being a successful recording artist doesnt have the broad appeal as other artists one reason might be that her kind of music is not very pop station friendly while another reason could be people think theyre too macho for music that she makes but people with open minds could find theres some beautiful melodies and harmonies as well as lively upbeat tunes that are a joy to put on i find the memory of trees to be one of her most consistent albums plus it helps it has probably one of my top favorite songs everthe memory of trees like all of her records except the recent amarantine the albums open with a wordless instrumental and this albums title track is probably my favorite with gentle piano arpeggios and a beautiful vocal track i always like the sparse use of percussion is the lively single its actually a good singalong with staccato beats and a great chorus its also a perfect length since its under minutes so whereas some pop songs drag after awhile this one hooks you in then lets you go leaving you wanting more deorum another album another ominous latinsung piece the music sounds like something youd hear in enemy territories in video games while enya gives a lowvoice almost monotone performance over the music slightly repetitive until a higher voice comes in but the piece hits its stride halfway with a gorgeous bridge ar nearmh theres some songs she does where its more about the song itself rather than a poppy catchy quality a la only time and this songs similar another ballad with some of her best singing its a more lowkey track but its also one of the album highlights where i am another instrumental this ones a more pianobased piece that would be a nice song to learn for all pianists out there since its not technically complex or fast but its pleasant to listen to roses theres only a handful of songs i could have on repeat and never get sick of them and this is one of them everything from the vocals and background instrumentation the lyrics and not to mention one of the most relaxing and almost tranquil ending codas ive ever heard this is definately my favorite song on here plus her whole career even has a place for me any song after china roses will probably suffer a tad but this song doesnt do much for me granted her vocals are as great as always and the song has a nice relaxing mood but either this kind of track is too familiar a kind of athair part if you will or its just not as memorable moon very oriental in its instruments its another wordless song although its more enjoyable than from where i am is mainly because the melodies are more memorable and its a bit more songoriented its different but strangely likable you had gold were getting into the albums final stretch and the problem is that with this one its a more quieter affair as you can feel the album almost winding down with enyas more higher vocals for some reason reminiscent of her silent night rendition its another beautiful track but its also a bitsamey sonadora spanish lyrics for once its another slower paced track complete with aahs for background vocals and synths but again the album couldve benefited from a more perkier track i do like what it does at the halfway point and gives the track a little boost my way home a church organ opens the track and with a more bouncy synth youd think it was a bit more upbeat while its not as lively as her vocals on anywhere is it does give the album a bit more memorable closer especially when the chorus comes where the track gets more fuller in its arrangements a day without rain or watermark is usually marked as one of her best probably because her big hits only time and orinoco flow were on them i find the memory of trees a more likable album and despite a lack of more upbeat tracks its still one of her finest outings</td>\n",
       "    </tr>\n",
       "  </tbody>\n",
       "</table>\n",
       "</div>"
      ],
      "text/plain": [
       "                                                                                                                                                                                                                                                                                                                                                                                                                                                                                                                                                                                                                                                                                                                                                                                                                                                                                                                                                                                                                                                                                                                                                                                                                                                                                                                                                                                                                                                                                                                                                                                                                                                                                                                                                                                                                                                                                                                                                                                                                                                                                                                                                                                                                                                                                                                                                                                                                                                                                                                                                                                                                                                                                                                                                                                                                                                                                                                                                                                                                                                                                                                                                                                                                                                                                                                                                                                                                                                                                                                                                                                                                                                                                                                                                                                                                                                                                                                                                                                                                                                                                                                                                                                                                     reviewText  \\\n",
       "0                                                                                                                                                                                                                                                                                                                                                                                                                                                                                                                                                                                                                                                                                                                                                                                                                                                                                                                                                                                                                                                                                                                                                                                                                                                                                                                                                                                                                                                                                                                                                                                                                                                                                                                                                                                                                                                                                                                                                                                                                                                                                                                                                                                                                                                                                                                                                                                                                                                                                                                                                                                                                                                                                                                                                                                                                                                                                                                                                                                                                                                                                                                                                                                                                                        It's hard to believe \"Memory of Trees\" came out 11 years ago;it has held up well over the passage of time.It's Enya's last great album before the New Age/pop of \"Amarantine\" and \"Day without rain.\" Back in 1995,Enya still had her creative spark,her own voice.I agree with the reviewer who said that this is her saddest album;it is melancholy,bittersweet,from the opening title song.\"Memory of Trees\" is elegaic&majestic.;\"Pax Deorum\" sounds like it is from a Requiem Mass,it is a dark threnody.Unlike the reviewer who said that this has a \"disconcerting\" blend of spirituality&sensuality;,I don't find it disconcerting at all.\"Anywhere is\" is a hopeful song,looking to possibilities.\"Hope has a place\" is about love,but it is up to the listener to decide if it is romantic,platonic,etc.I've always had a soft spot for this song.\"On my way home\" is a triumphant ending about return.This is truly a masterpiece of New Age music,a must for any Enya fan!   \n",
       "1                                                                                                                                                                                                                                                                                                                                                                                                                                                                                                                                                                                                                                                                                                                                                                                                                                                                                                                                                                                                                                                                                                                                                                                                                                                                                                                                                                                                                                                                                                                                                                                                                                                                                                                                                                                                                                                                                                                                                                                                                                                                                                                                                                                                                                                                                                                                                                                                                                                                                                                                                                                                                                                                                                                                                                                                                                                                                                                                                                                                                                                                                                                                                                                                                                                                                                                                                                                                                                                                                                                                                                                                                                A clasically-styled and introverted album, Memory of Trees is a masterpiece of subtlety.  Many of the songs have an endearing shyness to them - soft piano and a lovely, quiet voice.  But within every introvert is an inferno, and Enya lets that fire explode on a couple of songs that absolutely burst with an expected raw power.If you've never heard Enya before, you might want to start with one of her more popularized works, like Watermark, just to play it safe.  But if you're already a fan, then your collection is not complete without this beautiful work of musical art.   \n",
       "2                                                                                                                                                                                                                                                                                                                                                                                                                                                                                                                                                                                                                                                                                                                                                                                                                                                                                                                                                                                                                                                                                                                                                                                                                                                                                                                                                                                                                                                                                                                                                                                                                                                                                                                                                                                                                                                                                                                                                                                                                                                                                                                                                                                                                                                                                                                                                                                                                                                                                                                                                                                                                                                                                                                                                                                                                                                                                                                                                                                                                                                                                                                                                                                                                                                                                                                                                                                                                                                                                                                                                                                                                                                                                                           I never thought Enya would reach the sublime heights of Evacuee or Marble Halls from 'Shepherd Moons.' 'The Celts, Watermark and Day...' were all pleasant and admirable throughout, but are less ambitious both lyrically and musically. But Hope Has a Place from 'Memory...' reaches those heights and beyond. It is Enya at her most inspirational and comforting. I'm actually glad that this song didn't get overexposed the way Only Time did. It makes it that much more special to all who own this album.   \n",
       "3                                                                                                                                                                                                                                                                                                                                                                                                                                                                                                                                                                                                                                                                                                                                                                                                                                                                                                                                                                                                                                                                                                                                                                                                                                                                                                                                                                                                                                                                                                                                                                                                                                                                                                                                                                                                                                                                                                                                                                                                                                                                                                                                                                                                                                                                                                                                                                                                                                                                                                                                                                                                                                                                                                                                                                                                                                                                                                                                                                                                                                                                                                                                                                                                                                                                                                                                                                                                                                                                                                                                                                                                                                                                                                   This is the third review of an irish album I write today (the others were Cranberries) and now I'm sure about that Ireland is one of the countries producing the best music in the world. And not just commercial pop-music in the Spice Girls way. Okay, I just wanted to say something about Irish  music. Now let's say something about this album. It's great. it's  beautiful. Very good, easy listened music. If you like Enya or you just  want some easy-listened relaxing music. This is the album for you to buy!   \n",
       "4  Enya, despite being a successful recording artist, doesn't have the broad appeal as other artists; one reason might be that her kind of music is not very pop station friendly while another reason could be people think they're too \"macho\" for music that she makes. But people with open minds could find there's some beautiful melodies and harmonies as well as lively, upbeat tunes that are a joy to put on. I find the Memory of Trees to be one of her most consistent albums; plus it helps it has probably one of my top 5 favorite songs ever.The Memory of Trees: Like all of her records (except the recent Amarantine), the albums open with a wordless instrumental and this album's title track is probably my favorite with gentle piano arpeggios and a beautiful vocal track. I always like the sparse use of percussion. 9/10Anywhere Is: The lively single; it's actually a good sing-along with staccato beats and a great chorus. It's also a perfect length since it's under 3 minutes so whereas some pop songs drag after awhile, this one hooks you in then lets you go, leaving you wanting more. 9/10Pax Deorum: Another album, another ominous Latin-sung piece. The music sounds like something you'd hear in enemy territories in video games while Enya gives a low-voice, almost monotone performance over the music. Slightly repetitive until a 2nd higher voice comes in but the piece hits its stride halfway with a gorgeous bridge. 8/10Athair Ar Nearmh: There's some songs she does where it's more about the song itself rather than a poppy, catchy quality a la Only Time and this song's similar. Another ballad with some of her best singing, it's a more low-key track but it's also one of the album highlights. 8.5/10From Where I Am: Another instrumental; this one's a more piano-based piece that would be a nice song to learn for all pianists out there since it's not technically complex or fast but it's pleasant to listen to. 7.5/10China Roses: There's only a handful of songs I could have on repeat and never get sick of them and this is one of them. Everything from the vocals and background instrumentation, the lyrics and not to mention one of the most relaxing and almost tranquil ending codas I've ever heard, this is definately my favorite song on here, plus her whole career even. 15/10Hope Has a Place: For me, any song after China Roses will probably suffer a tad but this song doesn't do much for me. Granted, her vocals are as great as always and the song has a nice, relaxing mood but either this kind of track is too familiar (a kind of Athair part 2 if you will) or it's just not as memorable. 7/10Tea-House Moon: Very oriental in its instruments, it's another wordless song although it's more enjoyable than From Where I Am is, mainly because the melodies are more memorable and it's a bit more song-oriented. It's different but strangely likable. 8/10Once You Had Gold: We're getting into the album's final stretch and the problem is that with this one, it's a more quieter affair as you can feel the album almost winding down. With Enya's more higher vocals (for some reason, reminiscent of her Silent Night rendition), it's another beautiful track but it's also a bit...same-y? 8/10La Sonadora: Spanish lyrics for once, it's another slower paced track complete with \"aahs\" for background vocals and synths but again, the album could've benefited from a more perkier track. I do like what it does at the halfway point and gives the track a little boost. 7.5/10On My Way Home: A church organ opens the track and with a more bouncy synth, you'd think it was a bit more upbeat. While it's not as lively as her vocals on Anywhere Is, it does give the album a bit more memorable closer, especially when the chorus comes where the track gets more fuller in its arrangements. 9/10While A Day Without Rain or Watermark is usually marked as one of her best (probably because her big hits Only Time and Orinoco Flow were on them), I find the Memory of Trees a more likable album and despite a lack of more upbeat tracks, it's still one of her finest outings.   \n",
       "\n",
       "   overall  sentiment  \\\n",
       "0      4.0          1   \n",
       "1      4.0          1   \n",
       "2      4.0          1   \n",
       "3      4.0          1   \n",
       "4      3.0          1   \n",
       "\n",
       "                                                                                                                                                                                                                                                                                                                                                                                                                                                                                                                                                                                                                                                                                                                                                                                                                                                                                                                                                                                                                                                                                                                                                                                                                                                                                                                                                                                                                                                                                                                                                                                                                                                                                                                                                                                                                                                                                                                                                                                                                                                                                                                                                                                                                                                                                                                                                                                                                                                                                                                                                                                                                                                                                                                                                                                                                                                                                                                                                                                                                                                                                                                                                                                                                                                                                                                                                                                                                                                                                                                                                                                                                                                                                                                                                                                                                                                                                                                                                           text_clean  \n",
       "0                                                                                                                                                                                                                                                                                                                                                                                                                                                                                                                                                                                                                                                                                                                                                                                                                                                                                                                                                                                                                                                                                                                                                                                                                                                                                                                                                                                                                                                                                                                                                                                                                                                                                                                                                                                                                                                                                                                                                                                                                                                                                                                                                                                                                                                                                                                                                                                                                                                                                                                                                                                                                                                                                                                                                                                                                                                                                                                                                                                                                                          its hard to believe memory of trees came out years agoit has held up well over the passage of timeits enyas last great album before the new agepop of amarantine and day without rain back in still had her creative sparkher own voicei agree with the reviewer who said that this is her saddest albumit is melancholybittersweetfrom the opening title song memory of trees is elegaicmajestic pax deorum sounds like it is from a requiem massit is a dark threnodyunlike the reviewer who said that this has a disconcerting blend of spiritualitysensualityi dont find it disconcerting at all anywhere is is a hopeful songlooking to possibilities hope has a place is about lovebut it is up to the listener to decide if it is romanticplatonicetcive always had a soft spot for this song on my way home is a triumphant ending about returnthis is truly a masterpiece of new age musica must for any enya fan  \n",
       "1                                                                                                                                                                                                                                                                                                                                                                                                                                                                                                                                                                                                                                                                                                                                                                                                                                                                                                                                                                                                                                                                                                                                                                                                                                                                                                                                                                                                                                                                                                                                                                                                                                                                                                                                                                                                                                                                                                                                                                                                                                                                                                                                                                                                                                                                                                                                                                                                                                                                                                                                                                                                                                                                                                                                                                                                                                                                                                                                                                                                                                                                                                                                                                                                                                                                                                                                                                                          a clasicallystyled and introverted album memory of trees is a masterpiece of subtlety many of the songs have an endearing shyness to them soft piano and a lovely quiet voice but within every introvert is an inferno and enya lets that fire explode on a couple of songs that absolutely burst with an expected raw powerif youve never heard enya before you might want to start with one of her more popularized works like watermark just to play it safe but if youre already a fan then your collection is not complete without this beautiful work of musical art  \n",
       "2                                                                                                                                                                                                                                                                                                                                                                                                                                                                                                                                                                                                                                                                                                                                                                                                                                                                                                                                                                                                                                                                                                                                                                                                                                                                                                                                                                                                                                                                                                                                                                                                                                                                                                                                                                                                                                                                                                                                                                                                                                                                                                                                                                                                                                                                                                                                                                                                                                                                                                                                                                                                                                                                                                                                                                                                                                                                                                                                                                                                                                                                                                                                                                                                                                                                                                                                                                                                                                                                       i never thought enya would reach the sublime heights of evacuee or marble halls from shepherd moons the celts watermark and day were all pleasant and admirable throughout but are less ambitious both lyrically and musically but hope has a place from memory reaches those heights and beyond it is enya at her most inspirational and comforting im actually glad that this song didnt get overexposed the way only time did it makes it that much more special to all who own this album  \n",
       "3                                                                                                                                                                                                                                                                                                                                                                                                                                                                                                                                                                                                                                                                                                                                                                                                                                                                                                                                                                                                                                                                                                                                                                                                                                                                                                                                                                                                                                                                                                                                                                                                                                                                                                                                                                                                                                                                                                                                                                                                                                                                                                                                                                                                                                                                                                                                                                                                                                                                                                                                                                                                                                                                                                                                                                                                                                                                                                                                                                                                                                                                                                                                                                                                                                                                                                                                                                                                                                                               this is the third review of an irish album i write today the others were cranberries and now im sure about that ireland is one of the countries producing the best music in the world and not just commercial popmusic in the spice girls way okay i just wanted to say something about irish music now lets say something about this album its great its beautiful very good easy listened music if you like enya or you just want some easylistened relaxing music this is the album for you to buy  \n",
       "4  enya despite being a successful recording artist doesnt have the broad appeal as other artists one reason might be that her kind of music is not very pop station friendly while another reason could be people think theyre too macho for music that she makes but people with open minds could find theres some beautiful melodies and harmonies as well as lively upbeat tunes that are a joy to put on i find the memory of trees to be one of her most consistent albums plus it helps it has probably one of my top favorite songs everthe memory of trees like all of her records except the recent amarantine the albums open with a wordless instrumental and this albums title track is probably my favorite with gentle piano arpeggios and a beautiful vocal track i always like the sparse use of percussion is the lively single its actually a good singalong with staccato beats and a great chorus its also a perfect length since its under minutes so whereas some pop songs drag after awhile this one hooks you in then lets you go leaving you wanting more deorum another album another ominous latinsung piece the music sounds like something youd hear in enemy territories in video games while enya gives a lowvoice almost monotone performance over the music slightly repetitive until a higher voice comes in but the piece hits its stride halfway with a gorgeous bridge ar nearmh theres some songs she does where its more about the song itself rather than a poppy catchy quality a la only time and this songs similar another ballad with some of her best singing its a more lowkey track but its also one of the album highlights where i am another instrumental this ones a more pianobased piece that would be a nice song to learn for all pianists out there since its not technically complex or fast but its pleasant to listen to roses theres only a handful of songs i could have on repeat and never get sick of them and this is one of them everything from the vocals and background instrumentation the lyrics and not to mention one of the most relaxing and almost tranquil ending codas ive ever heard this is definately my favorite song on here plus her whole career even has a place for me any song after china roses will probably suffer a tad but this song doesnt do much for me granted her vocals are as great as always and the song has a nice relaxing mood but either this kind of track is too familiar a kind of athair part if you will or its just not as memorable moon very oriental in its instruments its another wordless song although its more enjoyable than from where i am is mainly because the melodies are more memorable and its a bit more songoriented its different but strangely likable you had gold were getting into the albums final stretch and the problem is that with this one its a more quieter affair as you can feel the album almost winding down with enyas more higher vocals for some reason reminiscent of her silent night rendition its another beautiful track but its also a bitsamey sonadora spanish lyrics for once its another slower paced track complete with aahs for background vocals and synths but again the album couldve benefited from a more perkier track i do like what it does at the halfway point and gives the track a little boost my way home a church organ opens the track and with a more bouncy synth youd think it was a bit more upbeat while its not as lively as her vocals on anywhere is it does give the album a bit more memorable closer especially when the chorus comes where the track gets more fuller in its arrangements a day without rain or watermark is usually marked as one of her best probably because her big hits only time and orinoco flow were on them i find the memory of trees a more likable album and despite a lack of more upbeat tracks its still one of her finest outings  "
      ]
     },
     "execution_count": 22,
     "metadata": {},
     "output_type": "execute_result"
    }
   ],
   "source": [
    "df1.head()"
   ]
  },
  {
   "cell_type": "markdown",
   "metadata": {},
   "source": [
    "Em de save csv la do luc lam hay sai nen save file load len lai cho nhanh de khoi preprocess ben tren"
   ]
  },
  {
   "cell_type": "code",
   "execution_count": 23,
   "metadata": {},
   "outputs": [
    {
     "name": "stdout",
     "output_type": "stream",
     "text": [
      "✅ Results saved to df1.csv\n"
     ]
    }
   ],
   "source": [
    "# Save DataFrame to CSV\n",
    "csv_save_path = \"df1.csv\"\n",
    "df1.to_csv(csv_save_path, index=False)\n",
    "\n",
    "print(f\"✅ Results saved to {csv_save_path}\")"
   ]
  },
  {
   "cell_type": "code",
   "execution_count": 24,
   "metadata": {},
   "outputs": [],
   "source": [
    "# df1 = pd.read_csv(\"df1.csv\")\n",
    "# df1.head()"
   ]
  },
  {
   "cell_type": "code",
   "execution_count": 25,
   "metadata": {},
   "outputs": [
    {
     "name": "stdout",
     "output_type": "stream",
     "text": [
      "<class 'pandas.core.frame.DataFrame'>\n",
      "RangeIndex: 64706 entries, 0 to 64705\n",
      "Data columns (total 4 columns):\n",
      " #   Column      Non-Null Count  Dtype  \n",
      "---  ------      --------------  -----  \n",
      " 0   reviewText  64706 non-null  object \n",
      " 1   overall     64706 non-null  float64\n",
      " 2   sentiment   64706 non-null  int64  \n",
      " 3   text_clean  64706 non-null  object \n",
      "dtypes: float64(1), int64(1), object(2)\n",
      "memory usage: 2.0+ MB\n"
     ]
    }
   ],
   "source": [
    "df1.info()"
   ]
  },
  {
   "cell_type": "code",
   "execution_count": 26,
   "metadata": {},
   "outputs": [
    {
     "name": "stdout",
     "output_type": "stream",
     "text": [
      "<class 'pandas.core.frame.DataFrame'>\n",
      "RangeIndex: 64706 entries, 0 to 64705\n",
      "Data columns (total 4 columns):\n",
      " #   Column      Non-Null Count  Dtype  \n",
      "---  ------      --------------  -----  \n",
      " 0   reviewText  64706 non-null  object \n",
      " 1   overall     64706 non-null  float64\n",
      " 2   sentiment   64706 non-null  int64  \n",
      " 3   text_clean  64706 non-null  object \n",
      "dtypes: float64(1), int64(1), object(2)\n",
      "memory usage: 2.0+ MB\n",
      "None\n"
     ]
    }
   ],
   "source": [
    "df_cleaned = df1.dropna(subset=['reviewText'])\n",
    "print(df_cleaned.info())\n",
    "df1 = df_cleaned"
   ]
  },
  {
   "cell_type": "code",
   "execution_count": 27,
   "metadata": {},
   "outputs": [],
   "source": [
    "# Step 1: Vectorization using TF-IDF\n",
    "# vectorizer = TfidfVectorizer(max_features=5000)\n",
    "vectorizer = TfidfVectorizer(max_features=5678)\n",
    "TRAIN = vectorizer.fit_transform(df1['text_clean'])"
   ]
  },
  {
   "cell_type": "code",
   "execution_count": 28,
   "metadata": {},
   "outputs": [
    {
     "name": "stdout",
     "output_type": "stream",
     "text": [
      "X_train_tfidf shape: (51764, 5678)\n",
      "X_test_tfidf shape: (12942, 5678)\n",
      "y_train shape: (51764,)\n",
      "y_test shape: (12942,)\n"
     ]
    }
   ],
   "source": [
    "# Step 2: Train-Test Split for `overall` prediction\n",
    "X_train_tfidf, X_test_tfidf, y_train_overall, y_test_overall = train_test_split(\n",
    "    TRAIN, df1['overall'], test_size=0.2, random_state=42\n",
    ")\n",
    "\n",
    "print(\"X_train_tfidf shape:\", X_train_tfidf.shape)\n",
    "print(\"X_test_tfidf shape:\", X_test_tfidf.shape)\n",
    "print(\"y_train shape:\", y_train_overall.shape)\n",
    "print(\"y_test shape:\", y_test_overall.shape)"
   ]
  },
  {
   "cell_type": "markdown",
   "metadata": {},
   "source": [
    "# Build Models for 2 Tasks (classification on overall score and classification on sentiment - sentiment analysis)"
   ]
  },
  {
   "cell_type": "markdown",
   "metadata": {},
   "source": [
    "I have read here on the link and get the information about models used for multiclass classification and then i try to run all of them\n",
    "\n",
    "https://scikit-learn.org/stable/modules/multiclass.html\n",
    "\n",
    "**Select or Comment the Models here to choose the ones to use on the 2 tasks**\n",
    "\n",
    "**Suggestions**:\n",
    "\n",
    "Sau khi chạy chay ~ model bên duoi thi em thay nhung thang nay chay kha lau so voi cac thang con lai \n",
    "- DecisionTreeClassifier\n",
    "- ExtraTreesClassifier\n",
    "- RandomForestClassifier\n",
    "- MLPClassifier\n",
    "\n",
    "Nen notebook em submit la sau khi chay full (ke ca nhung thang chay lau), sau do em comment 3/4 thg chay lau lai de anh \"Run All\" nhanh hon"
   ]
  },
  {
   "cell_type": "code",
   "execution_count": null,
   "metadata": {},
   "outputs": [],
   "source": [
    "# Define models for multiclass classification\n",
    "models_chosen = {\n",
    "    \"LogisticRegression\": LogisticRegression(max_iter=1234, solver=\"saga\", tol=1e-3, random_state=42),\n",
    "    \"BernoulliNB\": BernoulliNB(),\n",
    "    #\"DecisionTreeClassifier\": DecisionTreeClassifier(max_depth=20, random_state=42),\n",
    "    #\"ExtraTreeClassifier\": ExtraTreeClassifier(max_depth=20, random_state=42),\n",
    "    \"ExtraTreesClassifier\": ExtraTreesClassifier(n_estimators=100, max_depth=20, max_features=\"sqrt\", random_state=42),\n",
    "    \"GaussianNB\": GaussianNB(var_smoothing=1e-9),\n",
    "    \"LinearSVC\": LinearSVC(multi_class=\"crammer_singer\", max_iter=3456, tol=1e-3, dual=False, random_state=42),\n",
    "    \"NearestCentroid\": NearestCentroid(),\n",
    "    \"RidgeClassifier\": RidgeClassifier(),\n",
    "    #\"RandomForestClassifier\": RandomForestClassifier(n_estimators=100, max_depth=20, max_features=\"sqrt\", random_state=42),\n",
    "    \"MLPClassifier\": MLPClassifier(hidden_layer_sizes=(50,), max_iter=500, learning_rate_init=0.01, early_stopping=True, random_state=42)\n",
    "}"
   ]
  },
  {
   "cell_type": "markdown",
   "metadata": {},
   "source": [
    "## Build Model for classification by overall score"
   ]
  },
  {
   "cell_type": "markdown",
   "metadata": {},
   "source": [
    "### Train the Model for classify text by their overall score"
   ]
  },
  {
   "cell_type": "code",
   "execution_count": 30,
   "metadata": {},
   "outputs": [],
   "source": [
    "# Define models for multiclass classification\n",
    "models_overall = models_chosen"
   ]
  },
  {
   "cell_type": "code",
   "execution_count": 31,
   "metadata": {},
   "outputs": [],
   "source": [
    "# For overall score classification\n",
    "results_overall = {}\n",
    "best_model_overall = None\n",
    "best_accuracy_overall_score = 0\n",
    "trained_models_overall_score = {}  \n"
   ]
  },
  {
   "cell_type": "code",
   "execution_count": 32,
   "metadata": {},
   "outputs": [
    {
     "name": "stdout",
     "output_type": "stream",
     "text": [
      "Training and evaluating LogisticRegression...\n"
     ]
    },
    {
     "name": "stderr",
     "output_type": "stream",
     "text": [
      "K-Fold Progress: 100%|██████████| 5/5 [00:23<00:00,  4.68s/it]\n"
     ]
    },
    {
     "name": "stdout",
     "output_type": "stream",
     "text": [
      "Training and evaluating BernoulliNB...\n"
     ]
    },
    {
     "name": "stderr",
     "output_type": "stream",
     "text": [
      "K-Fold Progress: 100%|██████████| 5/5 [00:01<00:00,  4.41it/s]\n"
     ]
    },
    {
     "name": "stdout",
     "output_type": "stream",
     "text": [
      "Training and evaluating DecisionTreeClassifier...\n"
     ]
    },
    {
     "name": "stderr",
     "output_type": "stream",
     "text": [
      "K-Fold Progress: 100%|██████████| 5/5 [08:34<00:00, 102.92s/it]\n"
     ]
    },
    {
     "name": "stdout",
     "output_type": "stream",
     "text": [
      "Training and evaluating ExtraTreeClassifier...\n"
     ]
    },
    {
     "name": "stderr",
     "output_type": "stream",
     "text": [
      "K-Fold Progress: 100%|██████████| 5/5 [00:11<00:00,  2.26s/it]\n"
     ]
    },
    {
     "name": "stdout",
     "output_type": "stream",
     "text": [
      "Training and evaluating ExtraTreesClassifier...\n"
     ]
    },
    {
     "name": "stderr",
     "output_type": "stream",
     "text": [
      "K-Fold Progress: 100%|██████████| 5/5 [07:03<00:00, 84.67s/it]\n"
     ]
    },
    {
     "name": "stdout",
     "output_type": "stream",
     "text": [
      "Training and evaluating GaussianNB...\n"
     ]
    },
    {
     "name": "stderr",
     "output_type": "stream",
     "text": [
      "K-Fold Progress: 100%|██████████| 5/5 [03:32<00:00, 42.45s/it]\n"
     ]
    },
    {
     "name": "stdout",
     "output_type": "stream",
     "text": [
      "Training and evaluating LinearSVC...\n"
     ]
    },
    {
     "name": "stderr",
     "output_type": "stream",
     "text": [
      "K-Fold Progress:   0%|          | 0/5 [00:00<?, ?it/s]e:\\anaconda3\\envs\\ml_env_test\\Lib\\site-packages\\sklearn\\svm\\_base.py:1235: ConvergenceWarning: Liblinear failed to converge, increase the number of iterations.\n",
      "  warnings.warn(\n",
      "K-Fold Progress:  20%|██        | 1/5 [00:37<02:29, 37.27s/it]e:\\anaconda3\\envs\\ml_env_test\\Lib\\site-packages\\sklearn\\svm\\_base.py:1235: ConvergenceWarning: Liblinear failed to converge, increase the number of iterations.\n",
      "  warnings.warn(\n",
      "K-Fold Progress:  40%|████      | 2/5 [01:38<02:34, 51.49s/it]e:\\anaconda3\\envs\\ml_env_test\\Lib\\site-packages\\sklearn\\svm\\_base.py:1235: ConvergenceWarning: Liblinear failed to converge, increase the number of iterations.\n",
      "  warnings.warn(\n",
      "K-Fold Progress:  60%|██████    | 3/5 [02:17<01:30, 45.48s/it]e:\\anaconda3\\envs\\ml_env_test\\Lib\\site-packages\\sklearn\\svm\\_base.py:1235: ConvergenceWarning: Liblinear failed to converge, increase the number of iterations.\n",
      "  warnings.warn(\n",
      "K-Fold Progress:  80%|████████  | 4/5 [02:43<00:37, 37.90s/it]e:\\anaconda3\\envs\\ml_env_test\\Lib\\site-packages\\sklearn\\svm\\_base.py:1235: ConvergenceWarning: Liblinear failed to converge, increase the number of iterations.\n",
      "  warnings.warn(\n",
      "K-Fold Progress: 100%|██████████| 5/5 [03:13<00:00, 38.67s/it]\n"
     ]
    },
    {
     "name": "stdout",
     "output_type": "stream",
     "text": [
      "Training and evaluating NearestCentroid...\n"
     ]
    },
    {
     "name": "stderr",
     "output_type": "stream",
     "text": [
      "K-Fold Progress: 100%|██████████| 5/5 [00:58<00:00, 11.78s/it]\n"
     ]
    },
    {
     "name": "stdout",
     "output_type": "stream",
     "text": [
      "Training and evaluating RidgeClassifier...\n"
     ]
    },
    {
     "name": "stderr",
     "output_type": "stream",
     "text": [
      "K-Fold Progress: 100%|██████████| 5/5 [01:00<00:00, 12.13s/it]\n"
     ]
    },
    {
     "name": "stdout",
     "output_type": "stream",
     "text": [
      "Training and evaluating RandomForestClassifier...\n"
     ]
    },
    {
     "name": "stderr",
     "output_type": "stream",
     "text": [
      "K-Fold Progress: 100%|██████████| 5/5 [14:39<00:00, 175.84s/it]\n"
     ]
    },
    {
     "name": "stdout",
     "output_type": "stream",
     "text": [
      "Training and evaluating MLPClassifier...\n"
     ]
    },
    {
     "name": "stderr",
     "output_type": "stream",
     "text": [
      "K-Fold Progress: 100%|██████████| 5/5 [17:37<00:00, 211.45s/it]"
     ]
    },
    {
     "name": "stdout",
     "output_type": "stream",
     "text": [
      "\n",
      "🏆 Best Model: MLPClassifier with Accuracy: 0.636\n"
     ]
    },
    {
     "name": "stderr",
     "output_type": "stream",
     "text": [
      "\n"
     ]
    }
   ],
   "source": [
    "for model_name, model in models_overall.items():\n",
    "    print(f\"Training and evaluating {model_name}...\")\n",
    "\n",
    "    # K-Fold Cross-Validation\n",
    "    accuracy_scores, roc_auc_scores, f1_scores = [], [], []\n",
    "    k_fold = KFold(n_splits=5, shuffle=True, random_state=42)\n",
    "\n",
    "    for train_index, val_index in tqdm(k_fold.split(X_train_tfidf), total=k_fold.get_n_splits(), desc=\"K-Fold Progress\"):\n",
    "        X_train, X_val = X_train_tfidf[train_index], X_train_tfidf[val_index]\n",
    "        y_train, y_val = y_train_overall.iloc[train_index], y_train_overall.iloc[val_index]\n",
    "\n",
    "        # Convert to dense format ONLY for models that require it\n",
    "        if isinstance(model, (GaussianNB, MLPClassifier, NearestCentroid)):\n",
    "            if issparse(X_train):  # Check if it's sparse\n",
    "                X_train = X_train.toarray()\n",
    "                X_val = X_val.toarray()\n",
    "\n",
    "        # Scale data ONLY for distance-based models\n",
    "        if isinstance(model, (RadiusNeighborsClassifier, KNeighborsClassifier)):\n",
    "            scaler = StandardScaler(with_mean=False) # handle sparse matrix\n",
    "            X_train = scaler.fit_transform(X_train)\n",
    "            X_val = scaler.transform(X_val)\n",
    "\n",
    "        model.fit(X_train, y_train)\n",
    "        val_preds = model.predict(X_val)\n",
    "\n",
    "        accuracy_scores.append(accuracy_score(y_val, val_preds))\n",
    "        \n",
    "        if hasattr(model, \"predict_proba\"):  \n",
    "            val_probs = model.predict_proba(X_val)\n",
    "            # roc_auc = roc_auc_score(y_val, val_probs, multi_class='ovr')\n",
    "            # Skip ROC AUC calculation if probabilities don't sum to 1\n",
    "            if not np.allclose(1, val_probs.sum(axis=1)):\n",
    "                print(f\"⚠️ Skipping ROC AUC for {model_name} due to invalid probabilities.\")\n",
    "                roc_auc = None\n",
    "            else:\n",
    "                roc_auc = roc_auc_score(y_val, val_probs, multi_class='ovr')\n",
    "        else:\n",
    "            roc_auc = None  \n",
    "\n",
    "        f1_scores.append(f1_score(y_val, val_preds, average='weighted'))\n",
    "        if roc_auc is not None:\n",
    "            roc_auc_scores.append(roc_auc)\n",
    "\n",
    "    # Compute average scores\n",
    "    avg_acc = np.mean(accuracy_scores)\n",
    "    avg_f1 = np.mean(f1_scores)\n",
    "    avg_roc_auc = np.mean(roc_auc_scores) if roc_auc_scores else None\n",
    "\n",
    "    # Store trained model\n",
    "    trained_models_overall_score[model_name] = model  # ✅ Save trained model\n",
    "    results_overall[model_name] = {\n",
    "        \"Accuracy\": avg_acc,\n",
    "        \"F1 Score\": avg_f1,\n",
    "        \"ROC AUC\": avg_roc_auc,\n",
    "        \"Accuracy Scores\": accuracy_scores,\n",
    "        \"F1 Scores\": f1_scores,\n",
    "        \"ROC AUC Scores\": roc_auc_scores\n",
    "    }\n",
    "\n",
    "    # Update Best Model\n",
    "    if avg_acc > best_accuracy_overall_score:\n",
    "        best_accuracy_overall_score = avg_acc\n",
    "        best_model_overall = model_name\n",
    "\n",
    "print(f\"\\n🏆 Best Model: {best_model_overall} with Accuracy: {best_accuracy_overall_score:.3f}\")"
   ]
  },
  {
   "cell_type": "markdown",
   "metadata": {},
   "source": [
    "### Visualize some performance metrics of the models for classify the text overall score"
   ]
  },
  {
   "cell_type": "code",
   "execution_count": 33,
   "metadata": {},
   "outputs": [
    {
     "name": "stdout",
     "output_type": "stream",
     "text": [
      "Result of Training and evaluating LogisticRegression...\n",
      "📊 LogisticRegression - Average Accuracy: 0.636\n",
      "📊 LogisticRegression - Average F1 Score: 0.605\n",
      "📊 LogisticRegression - Average ROC AUC: 0.845\n",
      "Result of Training and evaluating BernoulliNB...\n",
      "📊 BernoulliNB - Average Accuracy: 0.349\n",
      "📊 BernoulliNB - Average F1 Score: 0.393\n",
      "📊 BernoulliNB - Average ROC AUC: 0.680\n",
      "Result of Training and evaluating DecisionTreeClassifier...\n",
      "📊 DecisionTreeClassifier - Average Accuracy: 0.522\n",
      "📊 DecisionTreeClassifier - Average F1 Score: 0.484\n",
      "📊 DecisionTreeClassifier - Average ROC AUC: 0.578\n",
      "Result of Training and evaluating ExtraTreeClassifier...\n",
      "📊 ExtraTreeClassifier - Average Accuracy: 0.547\n",
      "📊 ExtraTreeClassifier - Average F1 Score: 0.442\n",
      "📊 ExtraTreeClassifier - Average ROC AUC: 0.588\n",
      "Result of Training and evaluating ExtraTreesClassifier...\n",
      "📊 ExtraTreesClassifier - Average Accuracy: 0.549\n",
      "📊 ExtraTreesClassifier - Average F1 Score: 0.389\n",
      "📊 ExtraTreesClassifier - Average ROC AUC: 0.786\n",
      "Result of Training and evaluating GaussianNB...\n",
      "📊 GaussianNB - Average Accuracy: 0.297\n",
      "📊 GaussianNB - Average F1 Score: 0.352\n",
      "📊 GaussianNB - Average ROC AUC: 0.585\n",
      "Result of Training and evaluating LinearSVC...\n",
      "📊 LinearSVC - Average Accuracy: 0.623\n",
      "📊 LinearSVC - Average F1 Score: 0.595\n",
      "📊 LinearSVC - Average ROC AUC: N/A\n",
      "Result of Training and evaluating NearestCentroid...\n",
      "📊 NearestCentroid - Average Accuracy: 0.405\n",
      "📊 NearestCentroid - Average F1 Score: 0.443\n",
      "📊 NearestCentroid - Average ROC AUC: N/A\n",
      "Result of Training and evaluating RidgeClassifier...\n",
      "📊 RidgeClassifier - Average Accuracy: 0.623\n",
      "📊 RidgeClassifier - Average F1 Score: 0.583\n",
      "📊 RidgeClassifier - Average ROC AUC: N/A\n",
      "Result of Training and evaluating RandomForestClassifier...\n",
      "📊 RandomForestClassifier - Average Accuracy: 0.554\n",
      "📊 RandomForestClassifier - Average F1 Score: 0.402\n",
      "📊 RandomForestClassifier - Average ROC AUC: 0.784\n",
      "Result of Training and evaluating MLPClassifier...\n",
      "📊 MLPClassifier - Average Accuracy: 0.636\n",
      "📊 MLPClassifier - Average F1 Score: 0.609\n",
      "📊 MLPClassifier - Average ROC AUC: 0.849\n"
     ]
    },
    {
     "data": {
      "image/png": "[encoded data removed]",
      "text/plain": [
       "<Figure size 1200x600 with 1 Axes>"
      ]
     },
     "metadata": {},
     "output_type": "display_data"
    }
   ],
   "source": [
    "# Define color map for different models\n",
    "num_models = len(models_overall)\n",
    "colors = plt.cm.tab10(np.linspace(0, 1, num_models))  # Generate unique colors\n",
    "\n",
    "# Create a figure for Accuracy\n",
    "plt.figure(figsize=(12, 6))\n",
    "plt.title(\"Validation Accuracy Across K-Folds for All Models\")\n",
    "plt.xlabel(\"Fold Number\")\n",
    "plt.ylabel(\"Accuracy\")\n",
    "plt.grid(True)\n",
    "\n",
    "# Iterate over each model and assign a unique color for Accuracy\n",
    "for idx, (model_name, model) in enumerate(models_overall.items()):\n",
    "    color = colors[idx]\n",
    "\n",
    "    # Print evaluation results\n",
    "    print(f\"Result of Training and evaluating {model_name}...\")\n",
    "    print(f'📊 {model_name} - Average Accuracy: {results_overall[model_name][\"Accuracy\"]:.3f}')\n",
    "    print(f'📊 {model_name} - Average F1 Score: {results_overall[model_name][\"F1 Score\"]:.3f}')\n",
    "    if results_overall[model_name][\"ROC AUC\"]:\n",
    "        print(f'📊 {model_name} - Average ROC AUC: {results_overall[model_name][\"ROC AUC\"]:.3f}')\n",
    "    else:\n",
    "        print(f'📊 {model_name} - Average ROC AUC: N/A')\n",
    "\n",
    "    # Plot Accuracy\n",
    "    plt.plot(range(1, len(results_overall[model_name][\"Accuracy Scores\"]) + 1), \n",
    "             results_overall[model_name][\"Accuracy Scores\"], \n",
    "             label=f\"{model_name}\", marker='o', linestyle='-', color=color)\n",
    "\n",
    "# Add legend and show Accuracy plot\n",
    "plt.legend(title=\"Models\", bbox_to_anchor=(1.05, 1), loc='upper left')\n",
    "plt.show()\n"
   ]
  },
  {
   "cell_type": "code",
   "execution_count": 34,
   "metadata": {},
   "outputs": [
    {
     "name": "stdout",
     "output_type": "stream",
     "text": [
      "📊 LogisticRegression - Average ROC AUC: 0.845\n",
      "📊 BernoulliNB - Average ROC AUC: 0.680\n",
      "📊 DecisionTreeClassifier - Average ROC AUC: 0.578\n",
      "📊 ExtraTreeClassifier - Average ROC AUC: 0.588\n",
      "📊 ExtraTreesClassifier - Average ROC AUC: 0.786\n",
      "📊 GaussianNB - Average ROC AUC: 0.585\n",
      "📊 LinearSVC - Average ROC AUC: N/A\n",
      "📊 NearestCentroid - Average ROC AUC: N/A\n",
      "📊 RidgeClassifier - Average ROC AUC: N/A\n",
      "📊 RandomForestClassifier - Average ROC AUC: 0.784\n",
      "📊 MLPClassifier - Average ROC AUC: 0.849\n"
     ]
    },
    {
     "data": {
      "image/png": "[encoded data removed]",
      "text/plain": [
       "<Figure size 1200x600 with 1 Axes>"
      ]
     },
     "metadata": {},
     "output_type": "display_data"
    }
   ],
   "source": [
    "# ---------------------- ROC AUC PLOT ----------------------\n",
    "\n",
    "# Create a figure for ROC AUC\n",
    "plt.figure(figsize=(12, 6))\n",
    "plt.title(\"Validation ROC AUC Across K-Folds for All Models\")\n",
    "plt.xlabel(\"Fold Number\")\n",
    "plt.ylabel(\"ROC AUC Score\")\n",
    "plt.grid(True)\n",
    "\n",
    "# Iterate over models again for ROC AUC\n",
    "for idx, (model_name, model) in enumerate(models_overall.items()):\n",
    "    color = colors[idx]\n",
    "    \n",
    "    # Handle ROC AUC None values\n",
    "    roc_auc = results_overall[model_name][\"ROC AUC\"]\n",
    "    roc_auc_str = f\"{roc_auc:.3f}\" if roc_auc is not None else \"N/A\"\n",
    "    print(f'📊 {model_name} - Average ROC AUC: {roc_auc_str}')\n",
    "    \n",
    "    # Plot ROC AUC only if it exists\n",
    "    if results_overall[model_name][\"ROC AUC Scores\"]:\n",
    "        plt.plot(range(1, len(results_overall[model_name][\"ROC AUC Scores\"]) + 1), \n",
    "                 results_overall[model_name][\"ROC AUC Scores\"], \n",
    "                 label=f\"{model_name}\", marker='s', linestyle='--', color=color)\n",
    "\n",
    "# Add legend and show ROC AUC plot\n",
    "plt.legend(title=\"Models\", bbox_to_anchor=(1.05, 1), loc='upper left')\n",
    "plt.show()\n",
    "\n",
    "# Print the best model\n",
    "# print(f\"\\n🏆 Best Model: {best_model_overall} with Accuracy: {best_accuracy_overall_score:.3f}\")\n"
   ]
  },
  {
   "cell_type": "markdown",
   "metadata": {},
   "source": [
    "### Test the Model on the Test Set"
   ]
  },
  {
   "cell_type": "code",
   "execution_count": 35,
   "metadata": {},
   "outputs": [
    {
     "name": "stdout",
     "output_type": "stream",
     "text": [
      "\n",
      "🔍 Testing LogisticRegression on Test Data...\n",
      "📊 LogisticRegression - Test Accuracy: 0.637, Test F1 Score: 0.607\n",
      "\n",
      "🔍 Testing BernoulliNB on Test Data...\n",
      "📊 BernoulliNB - Test Accuracy: 0.355, Test F1 Score: 0.400\n",
      "\n",
      "🔍 Testing DecisionTreeClassifier on Test Data...\n",
      "📊 DecisionTreeClassifier - Test Accuracy: 0.516, Test F1 Score: 0.479\n",
      "\n",
      "🔍 Testing ExtraTreeClassifier on Test Data...\n",
      "📊 ExtraTreeClassifier - Test Accuracy: 0.550, Test F1 Score: 0.443\n",
      "\n",
      "🔍 Testing ExtraTreesClassifier on Test Data...\n",
      "📊 ExtraTreesClassifier - Test Accuracy: 0.554, Test F1 Score: 0.395\n",
      "\n",
      "🔍 Testing GaussianNB on Test Data...\n",
      "📊 GaussianNB - Test Accuracy: 0.310, Test F1 Score: 0.364\n",
      "\n",
      "🔍 Testing LinearSVC on Test Data...\n",
      "📊 LinearSVC - Test Accuracy: 0.624, Test F1 Score: 0.597\n",
      "\n",
      "🔍 Testing NearestCentroid on Test Data...\n",
      "📊 NearestCentroid - Test Accuracy: 0.408, Test F1 Score: 0.445\n",
      "\n",
      "🔍 Testing RidgeClassifier on Test Data...\n",
      "📊 RidgeClassifier - Test Accuracy: 0.624, Test F1 Score: 0.586\n",
      "\n",
      "🔍 Testing RandomForestClassifier on Test Data...\n",
      "📊 RandomForestClassifier - Test Accuracy: 0.557, Test F1 Score: 0.406\n",
      "\n",
      "🔍 Testing MLPClassifier on Test Data...\n",
      "📊 MLPClassifier - Test Accuracy: 0.637, Test F1 Score: 0.625\n"
     ]
    }
   ],
   "source": [
    "# ✅ Use the trained models to test on X_test_tfidf\n",
    "test_results_ovr_score = {}\n",
    "\n",
    "for model_name, model in trained_models_overall_score.items():\n",
    "    print(f\"\\n🔍 Testing {model_name} on Test Data...\")\n",
    "\n",
    "    # Convert to dense format ONLY for models that require it\n",
    "    if isinstance(model, (GaussianNB, MLPClassifier, NearestCentroid)):\n",
    "        if issparse(X_test_tfidf):  # Check if sparse\n",
    "            X_test_tfidf = X_test_tfidf.toarray()\n",
    "\n",
    "    # Scale data ONLY for distance-based models\n",
    "    if isinstance(model, (RadiusNeighborsClassifier, KNeighborsClassifier)):\n",
    "        scaler = StandardScaler()\n",
    "        X_test_tfidf = scaler.fit_transform(X_test_tfidf)\n",
    "\n",
    "    # Make Predictions\n",
    "    y_test_pred = model.predict(X_test_tfidf)\n",
    "\n",
    "    # Compute Metrics\n",
    "    test_accuracy = accuracy_score(y_test_overall, y_test_pred)\n",
    "    test_f1 = f1_score(y_test_overall, y_test_pred, average='weighted')\n",
    "    \n",
    "    if hasattr(model, \"predict_proba\"):\n",
    "        y_test_probs = model.predict_proba(X_test_tfidf)\n",
    "        test_roc_auc = roc_auc_score(y_test_overall, y_test_probs, multi_class='ovr')\n",
    "    else:\n",
    "        test_roc_auc = None  # Skip if model does not support probability prediction\n",
    "    \n",
    "    # Store Results\n",
    "    test_results_ovr_score[model_name] = {\n",
    "        \"Test Accuracy\": test_accuracy,\n",
    "        \"Test F1 Score\": test_f1,\n",
    "        \"Test ROC AUC\": test_roc_auc if test_roc_auc else \"N/A\"\n",
    "    }\n",
    "    \n",
    "    print(f\"📊 {model_name} - Test Accuracy: {test_accuracy:.3f}, Test F1 Score: {test_f1:.3f}\")\n"
   ]
  },
  {
   "cell_type": "markdown",
   "metadata": {},
   "source": [
    "### Comparison of the test models"
   ]
  },
  {
   "cell_type": "code",
   "execution_count": 36,
   "metadata": {},
   "outputs": [],
   "source": [
    "# Create a DataFrame to store the comparison of ROC-AUC scores for different vectorizers\n",
    "# Format:\n",
    "# test_results_ovr_score[model_name] = {\n",
    "#     \"Test Accuracy\": test_accuracy,\n",
    "#     \"Test F1 Score\": test_f1,\n",
    "#     \"Test ROC AUC\": test_roc_auc if test_roc_auc else \"N/A\"\n",
    "# }\n",
    "comparison_df_ovr_score = pd.DataFrame({\n",
    "    \"Model\": models_overall.keys(),\n",
    "    \"Test Accuracy\": [test_results_ovr_score[model][\"Test Accuracy\"] for model in models_overall.keys()],\n",
    "    \"Test F1 Score\": [test_results_ovr_score[model][\"Test F1 Score\"] for model in models_overall.keys()],\n",
    "    \"Test ROC AUC\": [test_results_ovr_score[model][\"Test ROC AUC\"] for model in models_overall.keys()]\n",
    "})\n",
    "\n",
    "# Transpose the DataFrame\n",
    "# comparison_df_ovr_score = comparison_df_ovr_score.set_index(\"Model\").T\n",
    "\n",
    "# Convert columns to numeric and fill NaN with a very small value (so they don't affect idxmax)\n",
    "comparison_df_ovr_score[[\"Test Accuracy\", \"Test F1 Score\", \"Test ROC AUC\"]] = (\n",
    "    comparison_df_ovr_score[[\"Test Accuracy\", \"Test F1 Score\", \"Test ROC AUC\"]]\n",
    "    .apply(pd.to_numeric, errors='coerce')  # Convert to numeric (coerce errors to NaN)\n",
    "    .fillna(0)  # Fill NaNs with 0 \n",
    ")\n",
    "\n",
    "# Set \"Model\" as index\n",
    "comparison_df_ovr_score.set_index(\"Model\", inplace=True)\n",
    "best_models_per_metric = comparison_df_ovr_score.idxmax(axis=0)\n",
    "best_models_df = pd.DataFrame(best_models_per_metric, columns=[\"Best Model\"])\n"
   ]
  },
  {
   "cell_type": "code",
   "execution_count": 37,
   "metadata": {},
   "outputs": [
    {
     "name": "stdout",
     "output_type": "stream",
     "text": [
      "Overall Model Comparison\n",
      "                        Test Accuracy  Test F1 Score  Test ROC AUC\n",
      "Model                                                             \n",
      "LogisticRegression           0.637150       0.606991      0.846655\n",
      "BernoulliNB                  0.355432       0.399970      0.684250\n",
      "DecisionTreeClassifier       0.516304       0.479057      0.580467\n",
      "ExtraTreeClassifier          0.549760       0.443458      0.591271\n",
      "ExtraTreesClassifier         0.553624       0.394600      0.789602\n",
      "GaussianNB                   0.309535       0.364496      0.589588\n",
      "LinearSVC                    0.624478       0.597203      0.000000\n",
      "NearestCentroid              0.408129       0.445072      0.000000\n",
      "RidgeClassifier              0.624324       0.585786      0.000000\n",
      "RandomForestClassifier       0.557410       0.405592      0.785721\n",
      "MLPClassifier                0.636609       0.624500      0.850396\n",
      "\n",
      "\n",
      "Best Models Per Metric\n",
      "                       Best Model\n",
      "Test Accuracy  LogisticRegression\n",
      "Test F1 Score       MLPClassifier\n",
      "Test ROC AUC        MLPClassifier\n"
     ]
    }
   ],
   "source": [
    "# Display both DataFrames\n",
    "print(\"Overall Model Comparison\")\n",
    "print(comparison_df_ovr_score)\n",
    "print(\"\\n\")\n",
    "print(\"Best Models Per Metric\")\n",
    "print(best_models_df)"
   ]
  },
  {
   "cell_type": "code",
   "execution_count": 38,
   "metadata": {},
   "outputs": [
    {
     "data": {
      "application/vnd.plotly.v1+json": {
       "config": {
        "plotlyServerURL": "https://plot.ly"
       },
       "data": [
        {
         "alignmentgroup": "True",
         "hovertemplate": "Model=LogisticRegression<br>Metric=%{x}<br>Score=%{y}<extra></extra>",
         "legendgroup": "LogisticRegression",
         "marker": {
          "color": "#636efa",
          "pattern": {
           "shape": ""
          }
         },
         "name": "LogisticRegression",
         "offsetgroup": "LogisticRegression",
         "orientation": "v",
         "showlegend": true,
         "textposition": "auto",
         "type": "bar",
         "x": [
          "Test Accuracy",
          "Test F1 Score",
          "Test ROC AUC"
         ],
         "xaxis": "x",
         "y": {
          "bdata": "bNaMKIlj5D/VuNWBd2zjP8jW+BjMF+s/",
          "dtype": "f8"
         },
         "yaxis": "y"
        },
        {
         "alignmentgroup": "True",
         "hovertemplate": "Model=BernoulliNB<br>Metric=%{x}<br>Score=%{y}<extra></extra>",
         "legendgroup": "BernoulliNB",
         "marker": {
          "color": "#EF553B",
          "pattern": {
           "shape": ""
          }
         },
         "name": "BernoulliNB",
         "offsetgroup": "BernoulliNB",
         "orientation": "v",
         "showlegend": true,
         "textposition": "auto",
         "type": "bar",
         "x": [
          "Test Accuracy",
          "Test F1 Score",
          "Test ROC AUC"
         ],
         "xaxis": "x",
         "y": {
          "bdata": "EhqrjWW/1j8ckRqtHJnZP+6yEkRh5eU/",
          "dtype": "f8"
         },
         "yaxis": "y"
        },
        {
         "alignmentgroup": "True",
         "hovertemplate": "Model=DecisionTreeClassifier<br>Metric=%{x}<br>Score=%{y}<extra></extra>",
         "legendgroup": "DecisionTreeClassifier",
         "marker": {
          "color": "#00cc96",
          "pattern": {
           "shape": ""
          }
         },
         "name": "DecisionTreeClassifier",
         "offsetgroup": "DecisionTreeClassifier",
         "orientation": "v",
         "showlegend": true,
         "textposition": "auto",
         "type": "bar",
         "x": [
          "Test Accuracy",
          "Test F1 Score",
          "Test ROC AUC"
         ],
         "xaxis": "x",
         "y": {
          "bdata": "EsAv746F4D+N2kNZ4KjePz4k510wk+I/",
          "dtype": "f8"
         },
         "yaxis": "y"
        },
        {
         "alignmentgroup": "True",
         "hovertemplate": "Model=ExtraTreeClassifier<br>Metric=%{x}<br>Score=%{y}<extra></extra>",
         "legendgroup": "ExtraTreeClassifier",
         "marker": {
          "color": "#ab63fa",
          "pattern": {
           "shape": ""
          }
         },
         "name": "ExtraTreeClassifier",
         "offsetgroup": "ExtraTreeClassifier",
         "orientation": "v",
         "showlegend": true,
         "textposition": "auto",
         "type": "bar",
         "x": [
          "Test Accuracy",
          "Test F1 Score",
          "Test ROC AUC"
         ],
         "xaxis": "x",
         "y": {
          "bdata": "JfrLRKOX4T/XMDIJnGHcP/PHvaGx6+I/",
          "dtype": "f8"
         },
         "yaxis": "y"
        },
        {
         "alignmentgroup": "True",
         "hovertemplate": "Model=ExtraTreesClassifier<br>Metric=%{x}<br>Score=%{y}<extra></extra>",
         "legendgroup": "ExtraTreesClassifier",
         "marker": {
          "color": "#FFA15A",
          "pattern": {
           "shape": ""
          }
         },
         "name": "ExtraTreesClassifier",
         "offsetgroup": "ExtraTreesClassifier",
         "orientation": "v",
         "showlegend": true,
         "textposition": "auto",
         "type": "bar",
         "x": [
          "Test Accuracy",
          "Test F1 Score",
          "Test ROC AUC"
         ],
         "xaxis": "x",
         "y": {
          "bdata": "rrvIYkm34T/r8ye3H0HZPx6S7t5rROk/",
          "dtype": "f8"
         },
         "yaxis": "y"
        },
        {
         "alignmentgroup": "True",
         "hovertemplate": "Model=GaussianNB<br>Metric=%{x}<br>Score=%{y}<extra></extra>",
         "legendgroup": "GaussianNB",
         "marker": {
          "color": "#19d3f3",
          "pattern": {
           "shape": ""
          }
         },
         "name": "GaussianNB",
         "offsetgroup": "GaussianNB",
         "orientation": "v",
         "showlegend": true,
         "textposition": "auto",
         "type": "bar",
         "x": [
          "Test Accuracy",
          "Test F1 Score",
          "Test ROC AUC"
         ],
         "xaxis": "x",
         "y": {
          "bdata": "2agMQGvP0z9vnk6+6FPXP0rFDvrm3eI/",
          "dtype": "f8"
         },
         "yaxis": "y"
        },
        {
         "alignmentgroup": "True",
         "hovertemplate": "Model=LinearSVC<br>Metric=%{x}<br>Score=%{y}<extra></extra>",
         "legendgroup": "LinearSVC",
         "marker": {
          "color": "#FF6692",
          "pattern": {
           "shape": ""
          }
         },
         "name": "LinearSVC",
         "offsetgroup": "LinearSVC",
         "orientation": "v",
         "showlegend": true,
         "textposition": "auto",
         "type": "bar",
         "x": [
          "Test Accuracy",
          "Test F1 Score",
          "Test ROC AUC"
         ],
         "xaxis": "x",
         "y": {
          "bdata": "/urUNrr74z9i4jCDShzjPwAAAAAAAAAA",
          "dtype": "f8"
         },
         "yaxis": "y"
        },
        {
         "alignmentgroup": "True",
         "hovertemplate": "Model=NearestCentroid<br>Metric=%{x}<br>Score=%{y}<extra></extra>",
         "legendgroup": "NearestCentroid",
         "marker": {
          "color": "#B6E880",
          "pattern": {
           "shape": ""
          }
         },
         "name": "NearestCentroid",
         "offsetgroup": "NearestCentroid",
         "orientation": "v",
         "showlegend": true,
         "textposition": "auto",
         "type": "bar",
         "x": [
          "Test Accuracy",
          "Test F1 Score",
          "Test ROC AUC"
         ],
         "xaxis": "x",
         "y": {
          "bdata": "SioVT8ce2j/1RumUEHzcPwAAAAAAAAAA",
          "dtype": "f8"
         },
         "yaxis": "y"
        },
        {
         "alignmentgroup": "True",
         "hovertemplate": "Model=RidgeClassifier<br>Metric=%{x}<br>Score=%{y}<extra></extra>",
         "legendgroup": "RidgeClassifier",
         "marker": {
          "color": "#FF97FF",
          "pattern": {
           "shape": ""
          }
         },
         "name": "RidgeClassifier",
         "offsetgroup": "RidgeClassifier",
         "orientation": "v",
         "showlegend": true,
         "textposition": "auto",
         "type": "bar",
         "x": [
          "Test Accuracy",
          "Test F1 Score",
          "Test ROC AUC"
         ],
         "xaxis": "x",
         "y": {
          "bdata": "u/cmIXb64z9h6Cu/wb7iPwAAAAAAAAAA",
          "dtype": "f8"
         },
         "yaxis": "y"
        },
        {
         "alignmentgroup": "True",
         "hovertemplate": "Model=RandomForestClassifier<br>Metric=%{x}<br>Score=%{y}<extra></extra>",
         "legendgroup": "RandomForestClassifier",
         "marker": {
          "color": "#FECB52",
          "pattern": {
           "shape": ""
          }
         },
         "name": "RandomForestClassifier",
         "offsetgroup": "RandomForestClassifier",
         "orientation": "v",
         "showlegend": true,
         "textposition": "auto",
         "type": "bar",
         "x": [
          "Test Accuracy",
          "Test F1 Score",
          "Test ROC AUC"
         ],
         "xaxis": "x",
         "y": {
          "bdata": "lYPudU3W4T9xhaE/N/XZP+odhBuhJOk/",
          "dtype": "f8"
         },
         "yaxis": "y"
        },
        {
         "alignmentgroup": "True",
         "hovertemplate": "Model=MLPClassifier<br>Metric=%{x}<br>Score=%{y}<extra></extra>",
         "legendgroup": "MLPClassifier",
         "marker": {
          "color": "#636efa",
          "pattern": {
           "shape": ""
          }
         },
         "name": "MLPClassifier",
         "offsetgroup": "MLPClassifier",
         "orientation": "v",
         "showlegend": true,
         "textposition": "auto",
         "type": "bar",
         "x": [
          "Test Accuracy",
          "Test F1 Score",
          "Test ROC AUC"
         ],
         "xaxis": "x",
         "y": {
          "bdata": "AgOs3Bpf5D/R35XG5/vjP/ABe7hxNus/",
          "dtype": "f8"
         },
         "yaxis": "y"
        }
       ],
       "layout": {
        "barmode": "group",
        "hovermode": "x unified",
        "legend": {
         "title": {
          "text": "Model"
         },
         "tracegroupgap": 0
        },
        "template": {
         "data": {
          "bar": [
           {
            "error_x": {
             "color": "#2a3f5f"
            },
            "error_y": {
             "color": "#2a3f5f"
            },
            "marker": {
             "line": {
              "color": "#E5ECF6",
              "width": 0.5
             },
             "pattern": {
              "fillmode": "overlay",
              "size": 10,
              "solidity": 0.2
             }
            },
            "type": "bar"
           }
          ],
          "barpolar": [
           {
            "marker": {
             "line": {
              "color": "#E5ECF6",
              "width": 0.5
             },
             "pattern": {
              "fillmode": "overlay",
              "size": 10,
              "solidity": 0.2
             }
            },
            "type": "barpolar"
           }
          ],
          "carpet": [
           {
            "aaxis": {
             "endlinecolor": "#2a3f5f",
             "gridcolor": "white",
             "linecolor": "white",
             "minorgridcolor": "white",
             "startlinecolor": "#2a3f5f"
            },
            "baxis": {
             "endlinecolor": "#2a3f5f",
             "gridcolor": "white",
             "linecolor": "white",
             "minorgridcolor": "white",
             "startlinecolor": "#2a3f5f"
            },
            "type": "carpet"
           }
          ],
          "choropleth": [
           {
            "colorbar": {
             "outlinewidth": 0,
             "ticks": ""
            },
            "type": "choropleth"
           }
          ],
          "contour": [
           {
            "colorbar": {
             "outlinewidth": 0,
             "ticks": ""
            },
            "colorscale": [
             [
              0,
              "#0d0887"
             ],
             [
              0.1111111111111111,
              "#46039f"
             ],
             [
              0.2222222222222222,
              "#7201a8"
             ],
             [
              0.3333333333333333,
              "#9c179e"
             ],
             [
              0.4444444444444444,
              "#bd3786"
             ],
             [
              0.5555555555555556,
              "#d8576b"
             ],
             [
              0.6666666666666666,
              "#ed7953"
             ],
             [
              0.7777777777777778,
              "#fb9f3a"
             ],
             [
              0.8888888888888888,
              "#fdca26"
             ],
             [
              1,
              "#f0f921"
             ]
            ],
            "type": "contour"
           }
          ],
          "contourcarpet": [
           {
            "colorbar": {
             "outlinewidth": 0,
             "ticks": ""
            },
            "type": "contourcarpet"
           }
          ],
          "heatmap": [
           {
            "colorbar": {
             "outlinewidth": 0,
             "ticks": ""
            },
            "colorscale": [
             [
              0,
              "#0d0887"
             ],
             [
              0.1111111111111111,
              "#46039f"
             ],
             [
              0.2222222222222222,
              "#7201a8"
             ],
             [
              0.3333333333333333,
              "#9c179e"
             ],
             [
              0.4444444444444444,
              "#bd3786"
             ],
             [
              0.5555555555555556,
              "#d8576b"
             ],
             [
              0.6666666666666666,
              "#ed7953"
             ],
             [
              0.7777777777777778,
              "#fb9f3a"
             ],
             [
              0.8888888888888888,
              "#fdca26"
             ],
             [
              1,
              "#f0f921"
             ]
            ],
            "type": "heatmap"
           }
          ],
          "histogram": [
           {
            "marker": {
             "pattern": {
              "fillmode": "overlay",
              "size": 10,
              "solidity": 0.2
             }
            },
            "type": "histogram"
           }
          ],
          "histogram2d": [
           {
            "colorbar": {
             "outlinewidth": 0,
             "ticks": ""
            },
            "colorscale": [
             [
              0,
              "#0d0887"
             ],
             [
              0.1111111111111111,
              "#46039f"
             ],
             [
              0.2222222222222222,
              "#7201a8"
             ],
             [
              0.3333333333333333,
              "#9c179e"
             ],
             [
              0.4444444444444444,
              "#bd3786"
             ],
             [
              0.5555555555555556,
              "#d8576b"
             ],
             [
              0.6666666666666666,
              "#ed7953"
             ],
             [
              0.7777777777777778,
              "#fb9f3a"
             ],
             [
              0.8888888888888888,
              "#fdca26"
             ],
             [
              1,
              "#f0f921"
             ]
            ],
            "type": "histogram2d"
           }
          ],
          "histogram2dcontour": [
           {
            "colorbar": {
             "outlinewidth": 0,
             "ticks": ""
            },
            "colorscale": [
             [
              0,
              "#0d0887"
             ],
             [
              0.1111111111111111,
              "#46039f"
             ],
             [
              0.2222222222222222,
              "#7201a8"
             ],
             [
              0.3333333333333333,
              "#9c179e"
             ],
             [
              0.4444444444444444,
              "#bd3786"
             ],
             [
              0.5555555555555556,
              "#d8576b"
             ],
             [
              0.6666666666666666,
              "#ed7953"
             ],
             [
              0.7777777777777778,
              "#fb9f3a"
             ],
             [
              0.8888888888888888,
              "#fdca26"
             ],
             [
              1,
              "#f0f921"
             ]
            ],
            "type": "histogram2dcontour"
           }
          ],
          "mesh3d": [
           {
            "colorbar": {
             "outlinewidth": 0,
             "ticks": ""
            },
            "type": "mesh3d"
           }
          ],
          "parcoords": [
           {
            "line": {
             "colorbar": {
              "outlinewidth": 0,
              "ticks": ""
             }
            },
            "type": "parcoords"
           }
          ],
          "pie": [
           {
            "automargin": true,
            "type": "pie"
           }
          ],
          "scatter": [
           {
            "fillpattern": {
             "fillmode": "overlay",
             "size": 10,
             "solidity": 0.2
            },
            "type": "scatter"
           }
          ],
          "scatter3d": [
           {
            "line": {
             "colorbar": {
              "outlinewidth": 0,
              "ticks": ""
             }
            },
            "marker": {
             "colorbar": {
              "outlinewidth": 0,
              "ticks": ""
             }
            },
            "type": "scatter3d"
           }
          ],
          "scattercarpet": [
           {
            "marker": {
             "colorbar": {
              "outlinewidth": 0,
              "ticks": ""
             }
            },
            "type": "scattercarpet"
           }
          ],
          "scattergeo": [
           {
            "marker": {
             "colorbar": {
              "outlinewidth": 0,
              "ticks": ""
             }
            },
            "type": "scattergeo"
           }
          ],
          "scattergl": [
           {
            "marker": {
             "colorbar": {
              "outlinewidth": 0,
              "ticks": ""
             }
            },
            "type": "scattergl"
           }
          ],
          "scattermap": [
           {
            "marker": {
             "colorbar": {
              "outlinewidth": 0,
              "ticks": ""
             }
            },
            "type": "scattermap"
           }
          ],
          "scattermapbox": [
           {
            "marker": {
             "colorbar": {
              "outlinewidth": 0,
              "ticks": ""
             }
            },
            "type": "scattermapbox"
           }
          ],
          "scatterpolar": [
           {
            "marker": {
             "colorbar": {
              "outlinewidth": 0,
              "ticks": ""
             }
            },
            "type": "scatterpolar"
           }
          ],
          "scatterpolargl": [
           {
            "marker": {
             "colorbar": {
              "outlinewidth": 0,
              "ticks": ""
             }
            },
            "type": "scatterpolargl"
           }
          ],
          "scatterternary": [
           {
            "marker": {
             "colorbar": {
              "outlinewidth": 0,
              "ticks": ""
             }
            },
            "type": "scatterternary"
           }
          ],
          "surface": [
           {
            "colorbar": {
             "outlinewidth": 0,
             "ticks": ""
            },
            "colorscale": [
             [
              0,
              "#0d0887"
             ],
             [
              0.1111111111111111,
              "#46039f"
             ],
             [
              0.2222222222222222,
              "#7201a8"
             ],
             [
              0.3333333333333333,
              "#9c179e"
             ],
             [
              0.4444444444444444,
              "#bd3786"
             ],
             [
              0.5555555555555556,
              "#d8576b"
             ],
             [
              0.6666666666666666,
              "#ed7953"
             ],
             [
              0.7777777777777778,
              "#fb9f3a"
             ],
             [
              0.8888888888888888,
              "#fdca26"
             ],
             [
              1,
              "#f0f921"
             ]
            ],
            "type": "surface"
           }
          ],
          "table": [
           {
            "cells": {
             "fill": {
              "color": "#EBF0F8"
             },
             "line": {
              "color": "white"
             }
            },
            "header": {
             "fill": {
              "color": "#C8D4E3"
             },
             "line": {
              "color": "white"
             }
            },
            "type": "table"
           }
          ]
         },
         "layout": {
          "annotationdefaults": {
           "arrowcolor": "#2a3f5f",
           "arrowhead": 0,
           "arrowwidth": 1
          },
          "autotypenumbers": "strict",
          "coloraxis": {
           "colorbar": {
            "outlinewidth": 0,
            "ticks": ""
           }
          },
          "colorscale": {
           "diverging": [
            [
             0,
             "#8e0152"
            ],
            [
             0.1,
             "#c51b7d"
            ],
            [
             0.2,
             "#de77ae"
            ],
            [
             0.3,
             "#f1b6da"
            ],
            [
             0.4,
             "#fde0ef"
            ],
            [
             0.5,
             "#f7f7f7"
            ],
            [
             0.6,
             "#e6f5d0"
            ],
            [
             0.7,
             "#b8e186"
            ],
            [
             0.8,
             "#7fbc41"
            ],
            [
             0.9,
             "#4d9221"
            ],
            [
             1,
             "#276419"
            ]
           ],
           "sequential": [
            [
             0,
             "#0d0887"
            ],
            [
             0.1111111111111111,
             "#46039f"
            ],
            [
             0.2222222222222222,
             "#7201a8"
            ],
            [
             0.3333333333333333,
             "#9c179e"
            ],
            [
             0.4444444444444444,
             "#bd3786"
            ],
            [
             0.5555555555555556,
             "#d8576b"
            ],
            [
             0.6666666666666666,
             "#ed7953"
            ],
            [
             0.7777777777777778,
             "#fb9f3a"
            ],
            [
             0.8888888888888888,
             "#fdca26"
            ],
            [
             1,
             "#f0f921"
            ]
           ],
           "sequentialminus": [
            [
             0,
             "#0d0887"
            ],
            [
             0.1111111111111111,
             "#46039f"
            ],
            [
             0.2222222222222222,
             "#7201a8"
            ],
            [
             0.3333333333333333,
             "#9c179e"
            ],
            [
             0.4444444444444444,
             "#bd3786"
            ],
            [
             0.5555555555555556,
             "#d8576b"
            ],
            [
             0.6666666666666666,
             "#ed7953"
            ],
            [
             0.7777777777777778,
             "#fb9f3a"
            ],
            [
             0.8888888888888888,
             "#fdca26"
            ],
            [
             1,
             "#f0f921"
            ]
           ]
          },
          "colorway": [
           "#636efa",
           "#EF553B",
           "#00cc96",
           "#ab63fa",
           "#FFA15A",
           "#19d3f3",
           "#FF6692",
           "#B6E880",
           "#FF97FF",
           "#FECB52"
          ],
          "font": {
           "color": "#2a3f5f"
          },
          "geo": {
           "bgcolor": "white",
           "lakecolor": "white",
           "landcolor": "#E5ECF6",
           "showlakes": true,
           "showland": true,
           "subunitcolor": "white"
          },
          "hoverlabel": {
           "align": "left"
          },
          "hovermode": "closest",
          "mapbox": {
           "style": "light"
          },
          "paper_bgcolor": "white",
          "plot_bgcolor": "#E5ECF6",
          "polar": {
           "angularaxis": {
            "gridcolor": "white",
            "linecolor": "white",
            "ticks": ""
           },
           "bgcolor": "#E5ECF6",
           "radialaxis": {
            "gridcolor": "white",
            "linecolor": "white",
            "ticks": ""
           }
          },
          "scene": {
           "xaxis": {
            "backgroundcolor": "#E5ECF6",
            "gridcolor": "white",
            "gridwidth": 2,
            "linecolor": "white",
            "showbackground": true,
            "ticks": "",
            "zerolinecolor": "white"
           },
           "yaxis": {
            "backgroundcolor": "#E5ECF6",
            "gridcolor": "white",
            "gridwidth": 2,
            "linecolor": "white",
            "showbackground": true,
            "ticks": "",
            "zerolinecolor": "white"
           },
           "zaxis": {
            "backgroundcolor": "#E5ECF6",
            "gridcolor": "white",
            "gridwidth": 2,
            "linecolor": "white",
            "showbackground": true,
            "ticks": "",
            "zerolinecolor": "white"
           }
          },
          "shapedefaults": {
           "line": {
            "color": "#2a3f5f"
           }
          },
          "ternary": {
           "aaxis": {
            "gridcolor": "white",
            "linecolor": "white",
            "ticks": ""
           },
           "baxis": {
            "gridcolor": "white",
            "linecolor": "white",
            "ticks": ""
           },
           "bgcolor": "#E5ECF6",
           "caxis": {
            "gridcolor": "white",
            "linecolor": "white",
            "ticks": ""
           }
          },
          "title": {
           "x": 0.05
          },
          "xaxis": {
           "automargin": true,
           "gridcolor": "white",
           "linecolor": "white",
           "ticks": "",
           "title": {
            "standoff": 15
           },
           "zerolinecolor": "white",
           "zerolinewidth": 2
          },
          "yaxis": {
           "automargin": true,
           "gridcolor": "white",
           "linecolor": "white",
           "ticks": "",
           "title": {
            "standoff": 15
           },
           "zerolinecolor": "white",
           "zerolinewidth": 2
          }
         }
        },
        "title": {
         "text": "Comparison of Model Performance Across Metrics"
        },
        "xaxis": {
         "anchor": "y",
         "domain": [
          0,
          1
         ],
         "title": {
          "text": "Metrics"
         }
        },
        "yaxis": {
         "anchor": "x",
         "domain": [
          0,
          1
         ],
         "title": {
          "text": "Score"
         }
        }
       }
      }
     },
     "metadata": {},
     "output_type": "display_data"
    }
   ],
   "source": [
    "# Reset index so \"Model\" becomes a column\n",
    "comparison_melted = comparison_df_ovr_score.reset_index().melt(id_vars=\"Model\", var_name=\"Metric\", value_name=\"Score\")\n",
    "\n",
    "# Create an interactive 3D bar chart\n",
    "fig = px.bar(comparison_melted, \n",
    "             x=\"Metric\", \n",
    "             y=\"Score\", \n",
    "             color=\"Model\", \n",
    "             barmode=\"group\",\n",
    "             title=\"Comparison of Model Performance Across Metrics\")\n",
    "\n",
    "fig.update_layout(xaxis_title=\"Metrics\", \n",
    "                  yaxis_title=\"Score\", \n",
    "                  legend_title=\"Model\",\n",
    "                  hovermode=\"x unified\")\n",
    "\n",
    "fig.show()\n"
   ]
  },
  {
   "cell_type": "markdown",
   "metadata": {},
   "source": [
    "## Build Model for classification by sentiment\n",
    "\n",
    "Here previously, i defined \n",
    "- sentiment by 0 (for overall score 1, 2, 3)\n",
    "- sentiment by 1 (for overall score 4, 5)\n",
    "\n",
    "One reason for me to do this is when i look at the count of them, the number of 4 and 4 are too much when compare with the rest."
   ]
  },
  {
   "cell_type": "markdown",
   "metadata": {},
   "source": [
    "### Train the Model for classify text by sentiment"
   ]
  },
  {
   "cell_type": "code",
   "execution_count": 39,
   "metadata": {},
   "outputs": [
    {
     "name": "stdout",
     "output_type": "stream",
     "text": [
      "X_train_tfidf shape: (51764, 5678)\n",
      "X_test_tfidf shape: (12942, 5678)\n",
      "y_train shape: (51764,)\n",
      "y_test shape: (12942,)\n"
     ]
    }
   ],
   "source": [
    "# Step 2: Train-Test Split for `overall` prediction\n",
    "X_train_sent, X_test_sent, y_train_overall_sent, y_test_overall_sent = train_test_split(\n",
    "    TRAIN, df1['sentiment'], test_size=0.2, random_state=42\n",
    ")\n",
    "\n",
    "print(\"X_train_tfidf shape:\", X_train_tfidf.shape)\n",
    "print(\"X_test_tfidf shape:\", X_test_tfidf.shape)\n",
    "print(\"y_train shape:\", y_train_overall.shape)\n",
    "print(\"y_test shape:\", y_test_overall.shape)"
   ]
  },
  {
   "cell_type": "code",
   "execution_count": 40,
   "metadata": {},
   "outputs": [],
   "source": [
    "# Define models for sentiment classification\n",
    "models_sentiment = models_chosen"
   ]
  },
  {
   "cell_type": "code",
   "execution_count": 41,
   "metadata": {},
   "outputs": [],
   "source": [
    "# Train and evaluate models using K-Fold Cross-Validation\n",
    "results_sentiment = {}\n",
    "best_model_sentiment = None\n",
    "best_accuracy_sent = 0\n",
    "trained_models_sentiment = {}  "
   ]
  },
  {
   "cell_type": "code",
   "execution_count": 42,
   "metadata": {},
   "outputs": [
    {
     "name": "stdout",
     "output_type": "stream",
     "text": [
      "Training and evaluating LogisticRegression...\n"
     ]
    },
    {
     "name": "stderr",
     "output_type": "stream",
     "text": [
      "K-Fold Progress:   0%|          | 0/5 [00:00<?, ?it/s]"
     ]
    },
    {
     "name": "stderr",
     "output_type": "stream",
     "text": [
      "K-Fold Progress: 100%|██████████| 5/5 [00:31<00:00,  6.30s/it]\n"
     ]
    },
    {
     "name": "stdout",
     "output_type": "stream",
     "text": [
      "Training and evaluating BernoulliNB...\n"
     ]
    },
    {
     "name": "stderr",
     "output_type": "stream",
     "text": [
      "K-Fold Progress: 100%|██████████| 5/5 [00:03<00:00,  1.34it/s]\n"
     ]
    },
    {
     "name": "stdout",
     "output_type": "stream",
     "text": [
      "Training and evaluating DecisionTreeClassifier...\n"
     ]
    },
    {
     "name": "stderr",
     "output_type": "stream",
     "text": [
      "K-Fold Progress: 100%|██████████| 5/5 [08:52<00:00, 106.58s/it]\n"
     ]
    },
    {
     "name": "stdout",
     "output_type": "stream",
     "text": [
      "Training and evaluating ExtraTreeClassifier...\n"
     ]
    },
    {
     "name": "stderr",
     "output_type": "stream",
     "text": [
      "K-Fold Progress: 100%|██████████| 5/5 [00:08<00:00,  1.66s/it]\n"
     ]
    },
    {
     "name": "stdout",
     "output_type": "stream",
     "text": [
      "Training and evaluating ExtraTreesClassifier...\n"
     ]
    },
    {
     "name": "stderr",
     "output_type": "stream",
     "text": [
      "K-Fold Progress: 100%|██████████| 5/5 [03:29<00:00, 41.91s/it]\n"
     ]
    },
    {
     "name": "stdout",
     "output_type": "stream",
     "text": [
      "Training and evaluating GaussianNB...\n"
     ]
    },
    {
     "name": "stderr",
     "output_type": "stream",
     "text": [
      "K-Fold Progress: 100%|██████████| 5/5 [04:22<00:00, 52.55s/it]\n"
     ]
    },
    {
     "name": "stdout",
     "output_type": "stream",
     "text": [
      "Training and evaluating LinearSVC...\n"
     ]
    },
    {
     "name": "stderr",
     "output_type": "stream",
     "text": [
      "K-Fold Progress: 100%|██████████| 5/5 [00:33<00:00,  6.79s/it]\n"
     ]
    },
    {
     "name": "stdout",
     "output_type": "stream",
     "text": [
      "Training and evaluating NearestCentroid...\n"
     ]
    },
    {
     "name": "stderr",
     "output_type": "stream",
     "text": [
      "K-Fold Progress: 100%|██████████| 5/5 [00:45<00:00,  9.07s/it]\n"
     ]
    },
    {
     "name": "stdout",
     "output_type": "stream",
     "text": [
      "Training and evaluating RidgeClassifier...\n"
     ]
    },
    {
     "name": "stderr",
     "output_type": "stream",
     "text": [
      "K-Fold Progress: 100%|██████████| 5/5 [00:13<00:00,  2.62s/it]\n"
     ]
    },
    {
     "name": "stdout",
     "output_type": "stream",
     "text": [
      "Training and evaluating RandomForestClassifier...\n"
     ]
    },
    {
     "name": "stderr",
     "output_type": "stream",
     "text": [
      "K-Fold Progress: 100%|██████████| 5/5 [07:01<00:00, 84.20s/it]\n"
     ]
    },
    {
     "name": "stdout",
     "output_type": "stream",
     "text": [
      "Training and evaluating MLPClassifier...\n"
     ]
    },
    {
     "name": "stderr",
     "output_type": "stream",
     "text": [
      "K-Fold Progress: 100%|██████████| 5/5 [12:56<00:00, 155.33s/it]\n"
     ]
    },
    {
     "name": "stdout",
     "output_type": "stream",
     "text": [
      "\n",
      "🏆 Best Model: LinearSVC with Accuracy: 0.873\n"
     ]
    }
   ],
   "source": [
    "for model_name, model in models_sentiment.items():\n",
    "    print(f\"Training and evaluating {model_name}...\")\n",
    "\n",
    "    # K-Fold Cross-Validation\n",
    "    accuracy_scores, roc_auc_scores, f1_scores = [], [], []\n",
    "    k_fold = KFold(n_splits=5, shuffle=True, random_state=42)\n",
    "\n",
    "    for train_index, val_index in tqdm(k_fold.split(X_train_sent), total=k_fold.get_n_splits(), desc=\"K-Fold Progress\"):\n",
    "        X_train, X_val = X_train_sent[train_index], X_train_sent[val_index]\n",
    "        y_train, y_val = y_train_overall_sent.iloc[train_index], y_train_overall_sent.iloc[val_index]\n",
    "\n",
    "        # Convert to dense format for models that require it\n",
    "        if isinstance(model, (GaussianNB, MLPClassifier, NearestCentroid)):\n",
    "            if issparse(X_train):  # Check if it's sparse\n",
    "                X_train = X_train.toarray()\n",
    "                X_val = X_val.toarray()\n",
    "\n",
    "        # Scale data for distance-based models\n",
    "        if isinstance(model, (RadiusNeighborsClassifier, KNeighborsClassifier)):\n",
    "            scaler = StandardScaler(with_mean=False)  # Handle sparse matrix\n",
    "            X_train = scaler.fit_transform(X_train)\n",
    "            X_val = scaler.transform(X_val)\n",
    "\n",
    "        model.fit(X_train, y_train)\n",
    "        val_preds = model.predict(X_val)\n",
    " \n",
    "        accuracy_scores.append(accuracy_score(y_val, val_preds))\n",
    "\n",
    "        if hasattr(model, \"predict_proba\"):  \n",
    "            val_probs = model.predict_proba(X_val)\n",
    "            # Check probability sum validity before calculating ROC AUC\n",
    "            if not np.allclose(1, val_probs.sum(axis=1)):\n",
    "                print(f\"⚠️ Skipping ROC AUC for {model_name} due to invalid probabilities.\")\n",
    "                roc_auc = None\n",
    "            else:\n",
    "                # roc_auc = roc_auc_score(y_val, val_probs, multi_class='ovr')\n",
    "                \n",
    "                if val_probs.ndim > 1:\n",
    "                    val_probs = val_probs.argmax(axis=1)\n",
    "\n",
    "                # Compute ROC AUC score\n",
    "                roc_auc = roc_auc_score(y_val, val_probs, multi_class='ovr', average='weighted')\n",
    "\n",
    "        else:\n",
    "            roc_auc = None  \n",
    "\n",
    "        f1_scores.append(f1_score(y_val, val_preds, average='weighted'))\n",
    "        if roc_auc is not None:\n",
    "            roc_auc_scores.append(roc_auc)\n",
    "\n",
    "    # Compute average scores\n",
    "    avg_acc = np.mean(accuracy_scores)\n",
    "    avg_f1 = np.mean(f1_scores)\n",
    "    avg_roc_auc = np.mean(roc_auc_scores) if roc_auc_scores else None\n",
    "\n",
    "    # Store trained model\n",
    "    trained_models_sentiment[model_name] = model \n",
    "    results_sentiment[model_name] = {\n",
    "        \"Accuracy\": avg_acc,\n",
    "        \"F1 Score\": avg_f1,\n",
    "        \"ROC AUC\": avg_roc_auc,\n",
    "        \"Accuracy Scores\": accuracy_scores,\n",
    "        \"F1 Scores\": f1_scores,\n",
    "        \"ROC AUC Scores\": roc_auc_scores\n",
    "    }\n",
    "\n",
    "    # Update Best Model\n",
    "    if avg_acc > best_accuracy_sent:\n",
    "        best_accuracy_sent = avg_acc\n",
    "        best_model_sentiment = model_name\n",
    "\n",
    "print(f\"\\n🏆 Best Model: {best_model_sentiment} with Accuracy: {best_accuracy_sent:.3f}\")"
   ]
  },
  {
   "cell_type": "markdown",
   "metadata": {},
   "source": [
    "### Visualize some performance metrics of the models for classify the text based on the sentiment"
   ]
  },
  {
   "cell_type": "code",
   "execution_count": 43,
   "metadata": {},
   "outputs": [
    {
     "name": "stdout",
     "output_type": "stream",
     "text": [
      "Result of Training and evaluating LogisticRegression...\n",
      "📊 LogisticRegression - Average Accuracy: 0.871\n",
      "📊 LogisticRegression - Average F1 Score: 0.857\n",
      "📊 LogisticRegression - Average ROC AUC: 0.715\n",
      "Result of Training and evaluating BernoulliNB...\n",
      "📊 BernoulliNB - Average Accuracy: 0.680\n",
      "📊 BernoulliNB - Average F1 Score: 0.712\n",
      "📊 BernoulliNB - Average ROC AUC: 0.703\n",
      "Result of Training and evaluating DecisionTreeClassifier...\n",
      "📊 DecisionTreeClassifier - Average Accuracy: 0.809\n",
      "📊 DecisionTreeClassifier - Average F1 Score: 0.784\n",
      "📊 DecisionTreeClassifier - Average ROC AUC: 0.604\n",
      "Result of Training and evaluating ExtraTreeClassifier...\n",
      "📊 ExtraTreeClassifier - Average Accuracy: 0.806\n",
      "📊 ExtraTreeClassifier - Average F1 Score: 0.735\n",
      "📊 ExtraTreeClassifier - Average ROC AUC: 0.517\n",
      "Result of Training and evaluating ExtraTreesClassifier...\n",
      "📊 ExtraTreesClassifier - Average Accuracy: 0.806\n",
      "📊 ExtraTreesClassifier - Average F1 Score: 0.719\n",
      "📊 ExtraTreesClassifier - Average ROC AUC: 0.500\n",
      "Result of Training and evaluating GaussianNB...\n",
      "📊 GaussianNB - Average Accuracy: 0.680\n",
      "📊 GaussianNB - Average F1 Score: 0.711\n",
      "📊 GaussianNB - Average ROC AUC: 0.679\n",
      "Result of Training and evaluating LinearSVC...\n",
      "📊 LinearSVC - Average Accuracy: 0.873\n",
      "📊 LinearSVC - Average F1 Score: 0.864\n",
      "📊 LinearSVC - Average ROC AUC: N/A\n",
      "Result of Training and evaluating NearestCentroid...\n",
      "📊 NearestCentroid - Average Accuracy: 0.729\n",
      "📊 NearestCentroid - Average F1 Score: 0.754\n",
      "📊 NearestCentroid - Average ROC AUC: N/A\n",
      "Result of Training and evaluating RidgeClassifier...\n",
      "📊 RidgeClassifier - Average Accuracy: 0.872\n",
      "📊 RidgeClassifier - Average F1 Score: 0.859\n",
      "📊 RidgeClassifier - Average ROC AUC: N/A\n",
      "Result of Training and evaluating RandomForestClassifier...\n",
      "📊 RandomForestClassifier - Average Accuracy: 0.808\n",
      "📊 RandomForestClassifier - Average F1 Score: 0.725\n",
      "📊 RandomForestClassifier - Average ROC AUC: 0.505\n",
      "Result of Training and evaluating MLPClassifier...\n",
      "📊 MLPClassifier - Average Accuracy: 0.870\n",
      "📊 MLPClassifier - Average F1 Score: 0.862\n",
      "📊 MLPClassifier - Average ROC AUC: 0.745\n"
     ]
    },
    {
     "data": {
      "image/png": "[encoded data removed]",
      "text/plain": [
       "<Figure size 1200x600 with 1 Axes>"
      ]
     },
     "metadata": {},
     "output_type": "display_data"
    }
   ],
   "source": [
    "# Define color map for different models\n",
    "num_models = len(models_sentiment)\n",
    "colors = plt.cm.tab10(np.linspace(0, 1, num_models))  # Generate unique colors\n",
    "\n",
    "# Create a figure for Accuracy\n",
    "plt.figure(figsize=(12, 6))\n",
    "plt.title(\"Validation Accuracy Across K-Folds for All Models\")\n",
    "plt.xlabel(\"Fold Number\")\n",
    "plt.ylabel(\"Accuracy\")\n",
    "plt.grid(True)\n",
    "\n",
    "# Iterate over each model and assign a unique color for Accuracy\n",
    "for idx, (model_name, model) in enumerate(trained_models_sentiment.items()):\n",
    "    color = colors[idx]\n",
    "\n",
    "    # Print evaluation results\n",
    "    print(f\"Result of Training and evaluating {model_name}...\")\n",
    "    print(f'📊 {model_name} - Average Accuracy: {results_sentiment[model_name][\"Accuracy\"]:.3f}')\n",
    "    print(f'📊 {model_name} - Average F1 Score: {results_sentiment[model_name][\"F1 Score\"]:.3f}')\n",
    "    if results_sentiment[model_name][\"ROC AUC\"]:\n",
    "        print(f'📊 {model_name} - Average ROC AUC: {results_sentiment[model_name][\"ROC AUC\"]:.3f}')\n",
    "    else:\n",
    "        print(f'📊 {model_name} - Average ROC AUC: N/A')\n",
    "\n",
    "    # Plot Accuracy\n",
    "    plt.plot(range(1, len(results_sentiment[model_name][\"Accuracy Scores\"]) + 1), \n",
    "             results_sentiment[model_name][\"Accuracy Scores\"], \n",
    "             label=f\"{model_name}\", marker='o', linestyle='-', color=color)\n",
    "\n",
    "# Add legend and show Accuracy plot\n",
    "plt.legend(title=\"Models\", bbox_to_anchor=(1.05, 1), loc='upper left')\n",
    "plt.show()\n"
   ]
  },
  {
   "cell_type": "code",
   "execution_count": 44,
   "metadata": {},
   "outputs": [
    {
     "name": "stdout",
     "output_type": "stream",
     "text": [
      "📊 LogisticRegression - Average ROC AUC: 0.715\n",
      "📊 BernoulliNB - Average ROC AUC: 0.703\n",
      "📊 DecisionTreeClassifier - Average ROC AUC: 0.604\n",
      "📊 ExtraTreeClassifier - Average ROC AUC: 0.517\n",
      "📊 ExtraTreesClassifier - Average ROC AUC: 0.500\n",
      "📊 GaussianNB - Average ROC AUC: 0.679\n",
      "📊 LinearSVC - Average ROC AUC: N/A\n",
      "📊 NearestCentroid - Average ROC AUC: N/A\n",
      "📊 RidgeClassifier - Average ROC AUC: N/A\n",
      "📊 RandomForestClassifier - Average ROC AUC: 0.505\n",
      "📊 MLPClassifier - Average ROC AUC: 0.745\n"
     ]
    },
    {
     "data": {
      "image/png": "[encoded data removed]",
      "text/plain": [
       "<Figure size 1200x600 with 1 Axes>"
      ]
     },
     "metadata": {},
     "output_type": "display_data"
    }
   ],
   "source": [
    "# ---------------------- ROC AUC PLOT ----------------------\n",
    "\n",
    "# Create a figure for ROC AUC\n",
    "plt.figure(figsize=(12, 6))\n",
    "plt.title(\"Validation ROC AUC Across K-Folds for All Models\")\n",
    "plt.xlabel(\"Fold Number\")\n",
    "plt.ylabel(\"ROC AUC Score\")\n",
    "plt.grid(True)\n",
    "\n",
    "# Iterate over models again for ROC AUC\n",
    "for idx, (model_name, model) in enumerate(trained_models_sentiment.items()):\n",
    "    color = colors[idx]\n",
    "    \n",
    "    # Handle ROC AUC None values\n",
    "    roc_auc = results_sentiment[model_name][\"ROC AUC\"]\n",
    "    roc_auc_str = f\"{roc_auc:.3f}\" if roc_auc is not None else \"N/A\"\n",
    "    print(f'📊 {model_name} - Average ROC AUC: {roc_auc_str}')\n",
    "    \n",
    "    # Plot ROC AUC only if it exists\n",
    "    if results_sentiment[model_name][\"ROC AUC Scores\"]:\n",
    "        plt.plot(range(1, len(results_sentiment[model_name][\"ROC AUC Scores\"]) + 1), \n",
    "                 results_sentiment[model_name][\"ROC AUC Scores\"], \n",
    "                 label=f\"{model_name}\", marker='s', linestyle='--', color=color)\n",
    "\n",
    "# Add legend and show ROC AUC plot\n",
    "plt.legend(title=\"Models\", bbox_to_anchor=(1.05, 1), loc='upper left')\n",
    "plt.show()\n",
    "\n",
    "# Print the best model\n",
    "# print(f\"\\n🏆 Best Model: {best_model_sentiment} with Accuracy: {best_accuracy:.3f}\")\n"
   ]
  },
  {
   "cell_type": "markdown",
   "metadata": {},
   "source": [
    "### Test the Model on the Test Set"
   ]
  },
  {
   "cell_type": "code",
   "execution_count": 45,
   "metadata": {},
   "outputs": [
    {
     "name": "stdout",
     "output_type": "stream",
     "text": [
      "\n",
      "🔍 Testing LogisticRegression on Test Data...\n",
      "📊 LogisticRegression - Test Accuracy: 0.869, Test F1 Score: 0.856\n",
      "\n",
      "🔍 Testing BernoulliNB on Test Data...\n",
      "📊 BernoulliNB - Test Accuracy: 0.682, Test F1 Score: 0.714\n",
      "\n",
      "🔍 Testing DecisionTreeClassifier on Test Data...\n",
      "📊 DecisionTreeClassifier - Test Accuracy: 0.804, Test F1 Score: 0.781\n",
      "\n",
      "🔍 Testing ExtraTreeClassifier on Test Data...\n",
      "📊 ExtraTreeClassifier - Test Accuracy: 0.802, Test F1 Score: 0.730\n",
      "\n",
      "🔍 Testing ExtraTreesClassifier on Test Data...\n",
      "📊 ExtraTreesClassifier - Test Accuracy: 0.803, Test F1 Score: 0.715\n",
      "\n",
      "🔍 Testing GaussianNB on Test Data...\n",
      "📊 GaussianNB - Test Accuracy: 0.686, Test F1 Score: 0.716\n",
      "\n",
      "🔍 Testing LinearSVC on Test Data...\n",
      "📊 LinearSVC - Test Accuracy: 0.868, Test F1 Score: 0.860\n",
      "\n",
      "🔍 Testing NearestCentroid on Test Data...\n",
      "📊 NearestCentroid - Test Accuracy: 0.734, Test F1 Score: 0.757\n",
      "\n",
      "🔍 Testing RidgeClassifier on Test Data...\n",
      "📊 RidgeClassifier - Test Accuracy: 0.871, Test F1 Score: 0.858\n",
      "\n",
      "🔍 Testing RandomForestClassifier on Test Data...\n",
      "📊 RandomForestClassifier - Test Accuracy: 0.805, Test F1 Score: 0.720\n",
      "\n",
      "🔍 Testing MLPClassifier on Test Data...\n",
      "📊 MLPClassifier - Test Accuracy: 0.870, Test F1 Score: 0.862\n"
     ]
    }
   ],
   "source": [
    "# ✅ Use the trained models to test on X_test_tfidf\n",
    "test_results_sent = {}\n",
    "\n",
    "for model_name, model in trained_models_sentiment.items():\n",
    "    print(f\"\\n🔍 Testing {model_name} on Test Data...\")\n",
    "\n",
    "    # Convert to dense format ONLY for models that require it\n",
    "    if isinstance(model, (GaussianNB, MLPClassifier, NearestCentroid)):\n",
    "        if issparse(X_test_sent):  # Check if sparse\n",
    "            X_test_sent = X_test_sent.toarray()\n",
    "\n",
    "    # Scale data ONLY for distance-based models\n",
    "    if isinstance(model, (RadiusNeighborsClassifier, KNeighborsClassifier)):\n",
    "        scaler = StandardScaler()\n",
    "        X_test_sent = scaler.fit_transform(X_test_sent)\n",
    "\n",
    "    # Make Predictions\n",
    "    y_test_pred = model.predict(X_test_sent)\n",
    "\n",
    "    # Compute Metrics\n",
    "    test_accuracy = accuracy_score(y_test_overall_sent, y_test_pred)\n",
    "    test_f1 = f1_score(y_test_overall_sent, y_test_pred, average='weighted')\n",
    "    \n",
    "    if hasattr(model, \"predict_proba\"):\n",
    "        y_test_probs = model.predict_proba(X_test_sent)\n",
    "        if y_test_probs.ndim > 1:\n",
    "            y_test_probs = y_test_probs.argmax(axis=1)\n",
    "        test_roc_auc = roc_auc_score(y_test_overall_sent, y_test_probs, multi_class='ovr')\n",
    "    else:\n",
    "        test_roc_auc = None  # Skip if model does not support probability prediction\n",
    "    \n",
    "    # Store Results\n",
    "    test_results_sent[model_name] = {\n",
    "        \"Test Accuracy\": test_accuracy,\n",
    "        \"Test F1 Score\": test_f1,\n",
    "        \"Test ROC AUC\": test_roc_auc if test_roc_auc else \"N/A\"\n",
    "    }\n",
    "    \n",
    "    print(f\"📊 {model_name} - Test Accuracy: {test_accuracy:.3f}, Test F1 Score: {test_f1:.3f}\")\n"
   ]
  },
  {
   "cell_type": "markdown",
   "metadata": {},
   "source": [
    "### Comparison of the test models"
   ]
  },
  {
   "cell_type": "code",
   "execution_count": 46,
   "metadata": {},
   "outputs": [],
   "source": [
    "# Create a DataFrame to store the comparison of ROC-AUC scores for different vectorizers\n",
    "# Format:\n",
    "# test_results_ovr_score[model_name] = {\n",
    "#     \"Test Accuracy\": test_accuracy,\n",
    "#     \"Test F1 Score\": test_f1,\n",
    "#     \"Test ROC AUC\": test_roc_auc if test_roc_auc else \"N/A\"\n",
    "# }\n",
    "comparison_df_sent = pd.DataFrame({\n",
    "    \"Model\": models_sentiment.keys(),\n",
    "    \"Test Accuracy\": [test_results_sent[model][\"Test Accuracy\"] for model in models_sentiment.keys()],\n",
    "    \"Test F1 Score\": [test_results_sent[model][\"Test F1 Score\"] for model in models_sentiment.keys()],\n",
    "    \"Test ROC AUC\": [test_results_sent[model][\"Test ROC AUC\"] for model in models_sentiment.keys()]\n",
    "})\n",
    "\n",
    "# Convert columns to numeric and fill NaN with a very small value (so they don't affect idxmax)\n",
    "comparison_df_sent[[\"Test Accuracy\", \"Test F1 Score\", \"Test ROC AUC\"]] = (\n",
    "    comparison_df_sent[[\"Test Accuracy\", \"Test F1 Score\", \"Test ROC AUC\"]]\n",
    "    .apply(pd.to_numeric, errors='coerce')  # Convert to numeric (coerce errors to NaN)\n",
    "    .fillna(0)  # Fill NaNs with 0 \n",
    ")\n",
    "\n",
    "# Set \"Model\" as index\n",
    "comparison_df_sent.set_index(\"Model\", inplace=True)\n",
    "best_models_per_metric_sent = comparison_df_sent.idxmax(axis=0)\n",
    "best_models_df_sent = pd.DataFrame(best_models_per_metric_sent, columns=[\"Best Model\"])\n"
   ]
  },
  {
   "cell_type": "code",
   "execution_count": 47,
   "metadata": {},
   "outputs": [
    {
     "name": "stdout",
     "output_type": "stream",
     "text": [
      "Overall Model Comparison\n",
      "                        Test Accuracy  Test F1 Score  Test ROC AUC\n",
      "Model                                                             \n",
      "LogisticRegression           0.869031       0.855534      0.716771\n",
      "BernoulliNB                  0.681888       0.713645      0.708549\n",
      "DecisionTreeClassifier       0.803817       0.780596      0.605436\n",
      "ExtraTreeClassifier          0.802194       0.730443      0.516831\n",
      "ExtraTreesClassifier         0.802967       0.715217      0.500000\n",
      "GaussianNB                   0.686061       0.715867      0.682590\n",
      "LinearSVC                    0.868490       0.860486      0.000000\n",
      "NearestCentroid              0.733890       0.757359      0.000000\n",
      "RidgeClassifier              0.870576       0.857948      0.000000\n",
      "RandomForestClassifier       0.804899       0.719810      0.504902\n",
      "MLPClassifier                0.870499       0.862251      0.743283\n",
      "\n",
      "\n",
      "Best Models Per Metric\n",
      "                    Best Model\n",
      "Test Accuracy  RidgeClassifier\n",
      "Test F1 Score    MLPClassifier\n",
      "Test ROC AUC     MLPClassifier\n"
     ]
    }
   ],
   "source": [
    "# Display both DataFrames\n",
    "print(\"Overall Model Comparison\")\n",
    "print(comparison_df_sent)\n",
    "print(\"\\n\")\n",
    "print(\"Best Models Per Metric\")\n",
    "print(best_models_df_sent)"
   ]
  },
  {
   "cell_type": "code",
   "execution_count": 48,
   "metadata": {},
   "outputs": [
    {
     "data": {
      "application/vnd.plotly.v1+json": {
       "config": {
        "plotlyServerURL": "https://plot.ly"
       },
       "data": [
        {
         "alignmentgroup": "True",
         "hovertemplate": "Model=LogisticRegression<br>Metric=%{x}<br>Score=%{y}<extra></extra>",
         "legendgroup": "LogisticRegression",
         "marker": {
          "color": "#636efa",
          "pattern": {
           "shape": ""
          }
         },
         "name": "LogisticRegression",
         "offsetgroup": "LogisticRegression",
         "orientation": "v",
         "showlegend": true,
         "textposition": "auto",
         "type": "bar",
         "x": [
          "Test Accuracy",
          "Test F1 Score",
          "Test ROC AUC"
         ],
         "xaxis": "x",
         "y": {
          "bdata": "CCyhOhrP6z/340vXh2DrP/YcgU7K7+Y/",
          "dtype": "f8"
         },
         "yaxis": "y"
        },
        {
         "alignmentgroup": "True",
         "hovertemplate": "Model=BernoulliNB<br>Metric=%{x}<br>Score=%{y}<extra></extra>",
         "legendgroup": "BernoulliNB",
         "marker": {
          "color": "#EF553B",
          "pattern": {
           "shape": ""
          }
         },
         "name": "BernoulliNB",
         "offsetgroup": "BernoulliNB",
         "orientation": "v",
         "showlegend": true,
         "textposition": "auto",
         "type": "bar",
         "x": [
          "Test Accuracy",
          "Test F1 Score",
          "Test ROC AUC"
         ],
         "xaxis": "x",
         "y": {
          "bdata": "k27DrAfS5T9LwJhHLdbmP+q5iKhvrOY/",
          "dtype": "f8"
         },
         "yaxis": "y"
        },
        {
         "alignmentgroup": "True",
         "hovertemplate": "Model=DecisionTreeClassifier<br>Metric=%{x}<br>Score=%{y}<extra></extra>",
         "legendgroup": "DecisionTreeClassifier",
         "marker": {
          "color": "#00cc96",
          "pattern": {
           "shape": ""
          }
         },
         "name": "DecisionTreeClassifier",
         "offsetgroup": "DecisionTreeClassifier",
         "orientation": "v",
         "showlegend": true,
         "textposition": "auto",
         "type": "bar",
         "x": [
          "Test Accuracy",
          "Test F1 Score",
          "Test ROC AUC"
         ],
         "xaxis": "x",
         "y": {
          "bdata": "wSvifd646T+4aL6WpProP/qyh327X+M/",
          "dtype": "f8"
         },
         "yaxis": "y"
        },
        {
         "alignmentgroup": "True",
         "hovertemplate": "Model=ExtraTreeClassifier<br>Metric=%{x}<br>Score=%{y}<extra></extra>",
         "legendgroup": "ExtraTreeClassifier",
         "marker": {
          "color": "#ab63fa",
          "pattern": {
           "shape": ""
          }
         },
         "name": "ExtraTreeClassifier",
         "offsetgroup": "ExtraTreeClassifier",
         "orientation": "v",
         "showlegend": true,
         "textposition": "auto",
         "type": "bar",
         "x": [
          "Test Accuracy",
          "Test F1 Score",
          "Test ROC AUC"
         ],
         "xaxis": "x",
         "y": {
          "bdata": "g7E/mpOr6T+2aQnWyl/nP4iW84zgieA/",
          "dtype": "f8"
         },
         "yaxis": "y"
        },
        {
         "alignmentgroup": "True",
         "hovertemplate": "Model=ExtraTreesClassifier<br>Metric=%{x}<br>Score=%{y}<extra></extra>",
         "legendgroup": "ExtraTreesClassifier",
         "marker": {
          "color": "#FFA15A",
          "pattern": {
           "shape": ""
          }
         },
         "name": "ExtraTreesClassifier",
         "offsetgroup": "ExtraTreesClassifier",
         "orientation": "v",
         "showlegend": true,
         "textposition": "auto",
         "type": "bar",
         "x": [
          "Test Accuracy",
          "Test F1 Score",
          "Test ROC AUC"
         ],
         "xaxis": "x",
         "y": {
          "bdata": "0XGlBuix6T8R5hVCDuPmPwAAAAAAAOA/",
          "dtype": "f8"
         },
         "yaxis": "y"
        },
        {
         "alignmentgroup": "True",
         "hovertemplate": "Model=GaussianNB<br>Metric=%{x}<br>Score=%{y}<extra></extra>",
         "legendgroup": "GaussianNB",
         "marker": {
          "color": "#19d3f3",
          "pattern": {
           "shape": ""
          }
         },
         "name": "GaussianNB",
         "offsetgroup": "GaussianNB",
         "orientation": "v",
         "showlegend": true,
         "textposition": "auto",
         "type": "bar",
         "x": [
          "Test Accuracy",
          "Test F1 Score",
          "Test ROC AUC"
         ],
         "xaxis": "x",
         "y": {
          "bdata": "oRYc9jX05T8egsxGYujmP/Q/47LH1+U/",
          "dtype": "f8"
         },
         "yaxis": "y"
        },
        {
         "alignmentgroup": "True",
         "hovertemplate": "Model=LinearSVC<br>Metric=%{x}<br>Score=%{y}<extra></extra>",
         "legendgroup": "LinearSVC",
         "marker": {
          "color": "#FF6692",
          "pattern": {
           "shape": ""
          }
         },
         "name": "LinearSVC",
         "offsetgroup": "LinearSVC",
         "orientation": "v",
         "showlegend": true,
         "textposition": "auto",
         "type": "bar",
         "x": [
          "Test Accuracy",
          "Test F1 Score",
          "Test ROC AUC"
         ],
         "xaxis": "x",
         "y": {
          "bdata": "nljA7qvK6z8dbuAcGYnrPwAAAAAAAAAA",
          "dtype": "f8"
         },
         "yaxis": "y"
        },
        {
         "alignmentgroup": "True",
         "hovertemplate": "Model=NearestCentroid<br>Metric=%{x}<br>Score=%{y}<extra></extra>",
         "legendgroup": "NearestCentroid",
         "marker": {
          "color": "#B6E880",
          "pattern": {
           "shape": ""
          }
         },
         "name": "NearestCentroid",
         "offsetgroup": "NearestCentroid",
         "orientation": "v",
         "showlegend": true,
         "textposition": "auto",
         "type": "bar",
         "x": [
          "Test Accuracy",
          "Test F1 Score",
          "Test ROC AUC"
         ],
         "xaxis": "x",
         "y": {
          "bdata": "ArDpKwZ85z8bi+h7SDzoPwAAAAAAAAAA",
          "dtype": "f8"
         },
         "yaxis": "y"
        },
        {
         "alignmentgroup": "True",
         "hovertemplate": "Model=RidgeClassifier<br>Metric=%{x}<br>Score=%{y}<extra></extra>",
         "legendgroup": "RidgeClassifier",
         "marker": {
          "color": "#FF97FF",
          "pattern": {
           "shape": ""
          }
         },
         "name": "RidgeClassifier",
         "offsetgroup": "RidgeClassifier",
         "orientation": "v",
         "showlegend": true,
         "textposition": "auto",
         "type": "bar",
         "x": [
          "Test Accuracy",
          "Test F1 Score",
          "Test ROC AUC"
         ],
         "xaxis": "x",
         "y": {
          "bdata": "paxsE8Pb6z95wboQT3TrPwAAAAAAAAAA",
          "dtype": "f8"
         },
         "yaxis": "y"
        },
        {
         "alignmentgroup": "True",
         "hovertemplate": "Model=RandomForestClassifier<br>Metric=%{x}<br>Score=%{y}<extra></extra>",
         "legendgroup": "RandomForestClassifier",
         "marker": {
          "color": "#FECB52",
          "pattern": {
           "shape": ""
          }
         },
         "name": "RandomForestClassifier",
         "offsetgroup": "RandomForestClassifier",
         "orientation": "v",
         "showlegend": true,
         "textposition": "auto",
         "type": "bar",
         "x": [
          "Test Accuracy",
          "Test F1 Score",
          "Test ROC AUC"
         ],
         "xaxis": "x",
         "y": {
          "bdata": "ldKjFbvB6T+al2hyrgjnPygoKCgoKOA/",
          "dtype": "f8"
         },
         "yaxis": "y"
        },
        {
         "alignmentgroup": "True",
         "hovertemplate": "Model=MLPClassifier<br>Metric=%{x}<br>Score=%{y}<extra></extra>",
         "legendgroup": "MLPClassifier",
         "marker": {
          "color": "#636efa",
          "pattern": {
           "shape": ""
          }
         },
         "name": "MLPClassifier",
         "offsetgroup": "MLPClassifier",
         "orientation": "v",
         "showlegend": true,
         "textposition": "auto",
         "type": "bar",
         "x": [
          "Test Accuracy",
          "Test F1 Score",
          "Test ROC AUC"
         ],
         "xaxis": "x",
         "y": {
          "bdata": "BLOVCCHb6z/ons59j5frP4FUYAz6yOc/",
          "dtype": "f8"
         },
         "yaxis": "y"
        }
       ],
       "layout": {
        "barmode": "group",
        "hovermode": "x unified",
        "legend": {
         "title": {
          "text": "Model"
         },
         "tracegroupgap": 0
        },
        "template": {
         "data": {
          "bar": [
           {
            "error_x": {
             "color": "#2a3f5f"
            },
            "error_y": {
             "color": "#2a3f5f"
            },
            "marker": {
             "line": {
              "color": "#E5ECF6",
              "width": 0.5
             },
             "pattern": {
              "fillmode": "overlay",
              "size": 10,
              "solidity": 0.2
             }
            },
            "type": "bar"
           }
          ],
          "barpolar": [
           {
            "marker": {
             "line": {
              "color": "#E5ECF6",
              "width": 0.5
             },
             "pattern": {
              "fillmode": "overlay",
              "size": 10,
              "solidity": 0.2
             }
            },
            "type": "barpolar"
           }
          ],
          "carpet": [
           {
            "aaxis": {
             "endlinecolor": "#2a3f5f",
             "gridcolor": "white",
             "linecolor": "white",
             "minorgridcolor": "white",
             "startlinecolor": "#2a3f5f"
            },
            "baxis": {
             "endlinecolor": "#2a3f5f",
             "gridcolor": "white",
             "linecolor": "white",
             "minorgridcolor": "white",
             "startlinecolor": "#2a3f5f"
            },
            "type": "carpet"
           }
          ],
          "choropleth": [
           {
            "colorbar": {
             "outlinewidth": 0,
             "ticks": ""
            },
            "type": "choropleth"
           }
          ],
          "contour": [
           {
            "colorbar": {
             "outlinewidth": 0,
             "ticks": ""
            },
            "colorscale": [
             [
              0,
              "#0d0887"
             ],
             [
              0.1111111111111111,
              "#46039f"
             ],
             [
              0.2222222222222222,
              "#7201a8"
             ],
             [
              0.3333333333333333,
              "#9c179e"
             ],
             [
              0.4444444444444444,
              "#bd3786"
             ],
             [
              0.5555555555555556,
              "#d8576b"
             ],
             [
              0.6666666666666666,
              "#ed7953"
             ],
             [
              0.7777777777777778,
              "#fb9f3a"
             ],
             [
              0.8888888888888888,
              "#fdca26"
             ],
             [
              1,
              "#f0f921"
             ]
            ],
            "type": "contour"
           }
          ],
          "contourcarpet": [
           {
            "colorbar": {
             "outlinewidth": 0,
             "ticks": ""
            },
            "type": "contourcarpet"
           }
          ],
          "heatmap": [
           {
            "colorbar": {
             "outlinewidth": 0,
             "ticks": ""
            },
            "colorscale": [
             [
              0,
              "#0d0887"
             ],
             [
              0.1111111111111111,
              "#46039f"
             ],
             [
              0.2222222222222222,
              "#7201a8"
             ],
             [
              0.3333333333333333,
              "#9c179e"
             ],
             [
              0.4444444444444444,
              "#bd3786"
             ],
             [
              0.5555555555555556,
              "#d8576b"
             ],
             [
              0.6666666666666666,
              "#ed7953"
             ],
             [
              0.7777777777777778,
              "#fb9f3a"
             ],
             [
              0.8888888888888888,
              "#fdca26"
             ],
             [
              1,
              "#f0f921"
             ]
            ],
            "type": "heatmap"
           }
          ],
          "histogram": [
           {
            "marker": {
             "pattern": {
              "fillmode": "overlay",
              "size": 10,
              "solidity": 0.2
             }
            },
            "type": "histogram"
           }
          ],
          "histogram2d": [
           {
            "colorbar": {
             "outlinewidth": 0,
             "ticks": ""
            },
            "colorscale": [
             [
              0,
              "#0d0887"
             ],
             [
              0.1111111111111111,
              "#46039f"
             ],
             [
              0.2222222222222222,
              "#7201a8"
             ],
             [
              0.3333333333333333,
              "#9c179e"
             ],
             [
              0.4444444444444444,
              "#bd3786"
             ],
             [
              0.5555555555555556,
              "#d8576b"
             ],
             [
              0.6666666666666666,
              "#ed7953"
             ],
             [
              0.7777777777777778,
              "#fb9f3a"
             ],
             [
              0.8888888888888888,
              "#fdca26"
             ],
             [
              1,
              "#f0f921"
             ]
            ],
            "type": "histogram2d"
           }
          ],
          "histogram2dcontour": [
           {
            "colorbar": {
             "outlinewidth": 0,
             "ticks": ""
            },
            "colorscale": [
             [
              0,
              "#0d0887"
             ],
             [
              0.1111111111111111,
              "#46039f"
             ],
             [
              0.2222222222222222,
              "#7201a8"
             ],
             [
              0.3333333333333333,
              "#9c179e"
             ],
             [
              0.4444444444444444,
              "#bd3786"
             ],
             [
              0.5555555555555556,
              "#d8576b"
             ],
             [
              0.6666666666666666,
              "#ed7953"
             ],
             [
              0.7777777777777778,
              "#fb9f3a"
             ],
             [
              0.8888888888888888,
              "#fdca26"
             ],
             [
              1,
              "#f0f921"
             ]
            ],
            "type": "histogram2dcontour"
           }
          ],
          "mesh3d": [
           {
            "colorbar": {
             "outlinewidth": 0,
             "ticks": ""
            },
            "type": "mesh3d"
           }
          ],
          "parcoords": [
           {
            "line": {
             "colorbar": {
              "outlinewidth": 0,
              "ticks": ""
             }
            },
            "type": "parcoords"
           }
          ],
          "pie": [
           {
            "automargin": true,
            "type": "pie"
           }
          ],
          "scatter": [
           {
            "fillpattern": {
             "fillmode": "overlay",
             "size": 10,
             "solidity": 0.2
            },
            "type": "scatter"
           }
          ],
          "scatter3d": [
           {
            "line": {
             "colorbar": {
              "outlinewidth": 0,
              "ticks": ""
             }
            },
            "marker": {
             "colorbar": {
              "outlinewidth": 0,
              "ticks": ""
             }
            },
            "type": "scatter3d"
           }
          ],
          "scattercarpet": [
           {
            "marker": {
             "colorbar": {
              "outlinewidth": 0,
              "ticks": ""
             }
            },
            "type": "scattercarpet"
           }
          ],
          "scattergeo": [
           {
            "marker": {
             "colorbar": {
              "outlinewidth": 0,
              "ticks": ""
             }
            },
            "type": "scattergeo"
           }
          ],
          "scattergl": [
           {
            "marker": {
             "colorbar": {
              "outlinewidth": 0,
              "ticks": ""
             }
            },
            "type": "scattergl"
           }
          ],
          "scattermap": [
           {
            "marker": {
             "colorbar": {
              "outlinewidth": 0,
              "ticks": ""
             }
            },
            "type": "scattermap"
           }
          ],
          "scattermapbox": [
           {
            "marker": {
             "colorbar": {
              "outlinewidth": 0,
              "ticks": ""
             }
            },
            "type": "scattermapbox"
           }
          ],
          "scatterpolar": [
           {
            "marker": {
             "colorbar": {
              "outlinewidth": 0,
              "ticks": ""
             }
            },
            "type": "scatterpolar"
           }
          ],
          "scatterpolargl": [
           {
            "marker": {
             "colorbar": {
              "outlinewidth": 0,
              "ticks": ""
             }
            },
            "type": "scatterpolargl"
           }
          ],
          "scatterternary": [
           {
            "marker": {
             "colorbar": {
              "outlinewidth": 0,
              "ticks": ""
             }
            },
            "type": "scatterternary"
           }
          ],
          "surface": [
           {
            "colorbar": {
             "outlinewidth": 0,
             "ticks": ""
            },
            "colorscale": [
             [
              0,
              "#0d0887"
             ],
             [
              0.1111111111111111,
              "#46039f"
             ],
             [
              0.2222222222222222,
              "#7201a8"
             ],
             [
              0.3333333333333333,
              "#9c179e"
             ],
             [
              0.4444444444444444,
              "#bd3786"
             ],
             [
              0.5555555555555556,
              "#d8576b"
             ],
             [
              0.6666666666666666,
              "#ed7953"
             ],
             [
              0.7777777777777778,
              "#fb9f3a"
             ],
             [
              0.8888888888888888,
              "#fdca26"
             ],
             [
              1,
              "#f0f921"
             ]
            ],
            "type": "surface"
           }
          ],
          "table": [
           {
            "cells": {
             "fill": {
              "color": "#EBF0F8"
             },
             "line": {
              "color": "white"
             }
            },
            "header": {
             "fill": {
              "color": "#C8D4E3"
             },
             "line": {
              "color": "white"
             }
            },
            "type": "table"
           }
          ]
         },
         "layout": {
          "annotationdefaults": {
           "arrowcolor": "#2a3f5f",
           "arrowhead": 0,
           "arrowwidth": 1
          },
          "autotypenumbers": "strict",
          "coloraxis": {
           "colorbar": {
            "outlinewidth": 0,
            "ticks": ""
           }
          },
          "colorscale": {
           "diverging": [
            [
             0,
             "#8e0152"
            ],
            [
             0.1,
             "#c51b7d"
            ],
            [
             0.2,
             "#de77ae"
            ],
            [
             0.3,
             "#f1b6da"
            ],
            [
             0.4,
             "#fde0ef"
            ],
            [
             0.5,
             "#f7f7f7"
            ],
            [
             0.6,
             "#e6f5d0"
            ],
            [
             0.7,
             "#b8e186"
            ],
            [
             0.8,
             "#7fbc41"
            ],
            [
             0.9,
             "#4d9221"
            ],
            [
             1,
             "#276419"
            ]
           ],
           "sequential": [
            [
             0,
             "#0d0887"
            ],
            [
             0.1111111111111111,
             "#46039f"
            ],
            [
             0.2222222222222222,
             "#7201a8"
            ],
            [
             0.3333333333333333,
             "#9c179e"
            ],
            [
             0.4444444444444444,
             "#bd3786"
            ],
            [
             0.5555555555555556,
             "#d8576b"
            ],
            [
             0.6666666666666666,
             "#ed7953"
            ],
            [
             0.7777777777777778,
             "#fb9f3a"
            ],
            [
             0.8888888888888888,
             "#fdca26"
            ],
            [
             1,
             "#f0f921"
            ]
           ],
           "sequentialminus": [
            [
             0,
             "#0d0887"
            ],
            [
             0.1111111111111111,
             "#46039f"
            ],
            [
             0.2222222222222222,
             "#7201a8"
            ],
            [
             0.3333333333333333,
             "#9c179e"
            ],
            [
             0.4444444444444444,
             "#bd3786"
            ],
            [
             0.5555555555555556,
             "#d8576b"
            ],
            [
             0.6666666666666666,
             "#ed7953"
            ],
            [
             0.7777777777777778,
             "#fb9f3a"
            ],
            [
             0.8888888888888888,
             "#fdca26"
            ],
            [
             1,
             "#f0f921"
            ]
           ]
          },
          "colorway": [
           "#636efa",
           "#EF553B",
           "#00cc96",
           "#ab63fa",
           "#FFA15A",
           "#19d3f3",
           "#FF6692",
           "#B6E880",
           "#FF97FF",
           "#FECB52"
          ],
          "font": {
           "color": "#2a3f5f"
          },
          "geo": {
           "bgcolor": "white",
           "lakecolor": "white",
           "landcolor": "#E5ECF6",
           "showlakes": true,
           "showland": true,
           "subunitcolor": "white"
          },
          "hoverlabel": {
           "align": "left"
          },
          "hovermode": "closest",
          "mapbox": {
           "style": "light"
          },
          "paper_bgcolor": "white",
          "plot_bgcolor": "#E5ECF6",
          "polar": {
           "angularaxis": {
            "gridcolor": "white",
            "linecolor": "white",
            "ticks": ""
           },
           "bgcolor": "#E5ECF6",
           "radialaxis": {
            "gridcolor": "white",
            "linecolor": "white",
            "ticks": ""
           }
          },
          "scene": {
           "xaxis": {
            "backgroundcolor": "#E5ECF6",
            "gridcolor": "white",
            "gridwidth": 2,
            "linecolor": "white",
            "showbackground": true,
            "ticks": "",
            "zerolinecolor": "white"
           },
           "yaxis": {
            "backgroundcolor": "#E5ECF6",
            "gridcolor": "white",
            "gridwidth": 2,
            "linecolor": "white",
            "showbackground": true,
            "ticks": "",
            "zerolinecolor": "white"
           },
           "zaxis": {
            "backgroundcolor": "#E5ECF6",
            "gridcolor": "white",
            "gridwidth": 2,
            "linecolor": "white",
            "showbackground": true,
            "ticks": "",
            "zerolinecolor": "white"
           }
          },
          "shapedefaults": {
           "line": {
            "color": "#2a3f5f"
           }
          },
          "ternary": {
           "aaxis": {
            "gridcolor": "white",
            "linecolor": "white",
            "ticks": ""
           },
           "baxis": {
            "gridcolor": "white",
            "linecolor": "white",
            "ticks": ""
           },
           "bgcolor": "#E5ECF6",
           "caxis": {
            "gridcolor": "white",
            "linecolor": "white",
            "ticks": ""
           }
          },
          "title": {
           "x": 0.05
          },
          "xaxis": {
           "automargin": true,
           "gridcolor": "white",
           "linecolor": "white",
           "ticks": "",
           "title": {
            "standoff": 15
           },
           "zerolinecolor": "white",
           "zerolinewidth": 2
          },
          "yaxis": {
           "automargin": true,
           "gridcolor": "white",
           "linecolor": "white",
           "ticks": "",
           "title": {
            "standoff": 15
           },
           "zerolinecolor": "white",
           "zerolinewidth": 2
          }
         }
        },
        "title": {
         "text": "Comparison of Model Performance Across Metrics for Sentiment Analysis"
        },
        "xaxis": {
         "anchor": "y",
         "domain": [
          0,
          1
         ],
         "title": {
          "text": "Metrics"
         }
        },
        "yaxis": {
         "anchor": "x",
         "domain": [
          0,
          1
         ],
         "title": {
          "text": "Score"
         }
        }
       }
      }
     },
     "metadata": {},
     "output_type": "display_data"
    }
   ],
   "source": [
    "# Reset index so \"Model\" becomes a column\n",
    "comparison_melted_sent = comparison_df_sent.reset_index().melt(id_vars=\"Model\", var_name=\"Metric\", value_name=\"Score\")\n",
    "\n",
    "# Create an interactive 3D bar chart\n",
    "fig = px.bar(comparison_melted_sent, \n",
    "             x=\"Metric\", \n",
    "             y=\"Score\", \n",
    "             color=\"Model\", \n",
    "             barmode=\"group\",\n",
    "             title=\"Comparison of Model Performance Across Metrics for Sentiment Analysis\")\n",
    "\n",
    "fig.update_layout(xaxis_title=\"Metrics\", \n",
    "                  yaxis_title=\"Score\", \n",
    "                  legend_title=\"Model\",\n",
    "                  hovermode=\"x unified\")\n",
    "\n",
    "fig.show()\n"
   ]
  }
 ],
 "metadata": {
  "kernelspec": {
   "display_name": "ml_env_test",
   "language": "python",
   "name": "python3"
  },
  "language_info": {
   "codemirror_mode": {
    "name": "ipython",
    "version": 3
   },
   "file_extension": ".py",
   "mimetype": "text/x-python",
   "name": "python",
   "nbconvert_exporter": "python",
   "pygments_lexer": "ipython3",
   "version": "3.12.8"
  }
 },
 "nbformat": 4,
 "nbformat_minor": 2
}
