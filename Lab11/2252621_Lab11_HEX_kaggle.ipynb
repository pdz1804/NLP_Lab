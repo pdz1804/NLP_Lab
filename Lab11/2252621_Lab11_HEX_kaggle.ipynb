{
 "cells": [
  {
   "cell_type": "markdown",
   "id": "60c1f515",
   "metadata": {},
   "source": [
    "# 2252621 - Nguyen Quang Phu \n",
    "\n",
    "This notebook is run on Python10"
   ]
  },
  {
   "cell_type": "markdown",
   "id": "5a000856",
   "metadata": {
    "papermill": {
     "duration": 0.012101,
     "end_time": "2025-03-28T23:25:08.209988",
     "exception": false,
     "start_time": "2025-03-28T23:25:08.197887",
     "status": "completed"
    },
    "tags": []
   },
   "source": [
    "# Home Exercise on Language Modeling\n",
    "\n",
    "Implement a **transformer** to solve the **Language Modeling** task.\n",
    "\n",
    "- **Data**: [wikitext-103](https://huggingface.co/datasets/Salesforce/wikitext)\n",
    "- **Loading with Hugging Face Datasets**:\n",
    "  ```python\n",
    "  from datasets import load_dataset\n",
    "  dataset = load_dataset(\"wikitext\", \"wikitext-103-v1\")\n",
    "  ```\n",
    "\n",
    "**Note**: Submit only a **single Jupyter Notebook file** that can handle all tasks, including **data downloading, preprocessing, model training, and model evaluation**. (Submissions that do not follow the guidelines will receive a score of 0.)\n",
    "\n",
    "## Grading Criteria\n",
    "\n",
    "For valid submissions, scores will be assigned based on the **leaderboard ranking** (**strictly greater**):\n",
    "\n",
    "- **Top 25%** → **10 points**\n",
    "- **25% - 50%** → **9.0 points**\n",
    "- **50% - 75%** → **8.0 points**\n",
    "- **75% - 100%** → **7.0 points**\n"
   ]
  },
  {
   "cell_type": "markdown",
   "id": "b226bf39",
   "metadata": {
    "papermill": {
     "duration": 0.010789,
     "end_time": "2025-03-28T23:25:08.232428",
     "exception": false,
     "start_time": "2025-03-28T23:25:08.221639",
     "status": "completed"
    },
    "tags": []
   },
   "source": [
    "# Import"
   ]
  },
  {
   "cell_type": "code",
   "execution_count": null,
   "id": "6c347476",
   "metadata": {
    "execution": {
     "iopub.execute_input": "2025-03-28T23:25:08.255318Z",
     "iopub.status.busy": "2025-03-28T23:25:08.254977Z",
     "iopub.status.idle": "2025-03-28T23:25:12.993042Z",
     "shell.execute_reply": "2025-03-28T23:25:12.991867Z"
    },
    "papermill": {
     "duration": 4.751052,
     "end_time": "2025-03-28T23:25:12.994579",
     "exception": false,
     "start_time": "2025-03-28T23:25:08.243527",
     "status": "completed"
    },
    "tags": []
   },
   "outputs": [
    {
     "name": "stdout",
     "output_type": "stream",
     "text": [
      "Requirement already satisfied: torch in /usr/local/lib/python3.10/dist-packages (2.5.1+cu121)\r\n",
      "Requirement already satisfied: numpy in /usr/local/lib/python3.10/dist-packages (1.26.4)\r\n",
      "Requirement already satisfied: pandas in /usr/local/lib/python3.10/dist-packages (2.2.3)\r\n",
      "Requirement already satisfied: gdown in /usr/local/lib/python3.10/dist-packages (5.2.0)\r\n",
      "Requirement already satisfied: datasets in /usr/local/lib/python3.10/dist-packages (3.3.1)\r\n",
      "Collecting rouge\r\n",
      "  Downloading rouge-1.0.1-py3-none-any.whl.metadata (4.1 kB)\r\n",
      "Requirement already satisfied: filelock in /usr/local/lib/python3.10/dist-packages (from torch) (3.17.0)\r\n",
      "Requirement already satisfied: typing-extensions>=4.8.0 in /usr/local/lib/python3.10/dist-packages (from torch) (4.12.2)\r\n",
      "Requirement already satisfied: networkx in /usr/local/lib/python3.10/dist-packages (from torch) (3.4.2)\r\n",
      "Requirement already satisfied: jinja2 in /usr/local/lib/python3.10/dist-packages (from torch) (3.1.4)\r\n",
      "Requirement already satisfied: fsspec in /usr/local/lib/python3.10/dist-packages (from torch) (2024.12.0)\r\n",
      "Requirement already satisfied: sympy==1.13.1 in /usr/local/lib/python3.10/dist-packages (from torch) (1.13.1)\r\n",
      "Requirement already satisfied: mpmath<1.4,>=1.1.0 in /usr/local/lib/python3.10/dist-packages (from sympy==1.13.1->torch) (1.3.0)\r\n",
      "Requirement already satisfied: mkl_fft in /usr/local/lib/python3.10/dist-packages (from numpy) (1.3.8)\r\n",
      "Requirement already satisfied: mkl_random in /usr/local/lib/python3.10/dist-packages (from numpy) (1.2.4)\r\n",
      "Requirement already satisfied: mkl_umath in /usr/local/lib/python3.10/dist-packages (from numpy) (0.1.1)\r\n",
      "Requirement already satisfied: mkl in /usr/local/lib/python3.10/dist-packages (from numpy) (2025.0.1)\r\n",
      "Requirement already satisfied: tbb4py in /usr/local/lib/python3.10/dist-packages (from numpy) (2022.0.0)\r\n",
      "Requirement already satisfied: mkl-service in /usr/local/lib/python3.10/dist-packages (from numpy) (2.4.1)\r\n",
      "Requirement already satisfied: python-dateutil>=2.8.2 in /usr/local/lib/python3.10/dist-packages (from pandas) (2.9.0.post0)\r\n",
      "Requirement already satisfied: pytz>=2020.1 in /usr/local/lib/python3.10/dist-packages (from pandas) (2025.1)\r\n",
      "Requirement already satisfied: tzdata>=2022.7 in /usr/local/lib/python3.10/dist-packages (from pandas) (2025.1)\r\n",
      "Requirement already satisfied: beautifulsoup4 in /usr/local/lib/python3.10/dist-packages (from gdown) (4.12.3)\r\n",
      "Requirement already satisfied: requests[socks] in /usr/local/lib/python3.10/dist-packages (from gdown) (2.32.3)\r\n",
      "Requirement already satisfied: tqdm in /usr/local/lib/python3.10/dist-packages (from gdown) (4.67.1)\r\n",
      "Requirement already satisfied: pyarrow>=15.0.0 in /usr/local/lib/python3.10/dist-packages (from datasets) (19.0.1)\r\n",
      "Requirement already satisfied: dill<0.3.9,>=0.3.0 in /usr/local/lib/python3.10/dist-packages (from datasets) (0.3.8)\r\n",
      "Requirement already satisfied: xxhash in /usr/local/lib/python3.10/dist-packages (from datasets) (3.5.0)\r\n",
      "Requirement already satisfied: multiprocess<0.70.17 in /usr/local/lib/python3.10/dist-packages (from datasets) (0.70.16)\r\n",
      "Requirement already satisfied: aiohttp in /usr/local/lib/python3.10/dist-packages (from datasets) (3.11.12)\r\n",
      "Requirement already satisfied: huggingface-hub>=0.24.0 in /usr/local/lib/python3.10/dist-packages (from datasets) (0.29.0)\r\n",
      "Requirement already satisfied: packaging in /usr/local/lib/python3.10/dist-packages (from datasets) (24.2)\r\n",
      "Requirement already satisfied: pyyaml>=5.1 in /usr/local/lib/python3.10/dist-packages (from datasets) (6.0.2)\r\n",
      "Requirement already satisfied: six in /usr/local/lib/python3.10/dist-packages (from rouge) (1.17.0)\r\n",
      "Requirement already satisfied: aiohappyeyeballs>=2.3.0 in /usr/local/lib/python3.10/dist-packages (from aiohttp->datasets) (2.4.6)\r\n",
      "Requirement already satisfied: aiosignal>=1.1.2 in /usr/local/lib/python3.10/dist-packages (from aiohttp->datasets) (1.3.2)\r\n",
      "Requirement already satisfied: async-timeout<6.0,>=4.0 in /usr/local/lib/python3.10/dist-packages (from aiohttp->datasets) (5.0.1)\r\n",
      "Requirement already satisfied: attrs>=17.3.0 in /usr/local/lib/python3.10/dist-packages (from aiohttp->datasets) (25.1.0)\r\n",
      "Requirement already satisfied: frozenlist>=1.1.1 in /usr/local/lib/python3.10/dist-packages (from aiohttp->datasets) (1.5.0)\r\n",
      "Requirement already satisfied: multidict<7.0,>=4.5 in /usr/local/lib/python3.10/dist-packages (from aiohttp->datasets) (6.1.0)\r\n",
      "Requirement already satisfied: propcache>=0.2.0 in /usr/local/lib/python3.10/dist-packages (from aiohttp->datasets) (0.2.1)\r\n",
      "Requirement already satisfied: yarl<2.0,>=1.17.0 in /usr/local/lib/python3.10/dist-packages (from aiohttp->datasets) (1.18.3)\r\n",
      "Requirement already satisfied: charset-normalizer<4,>=2 in /usr/local/lib/python3.10/dist-packages (from requests[socks]->gdown) (3.4.1)\r\n",
      "Requirement already satisfied: idna<4,>=2.5 in /usr/local/lib/python3.10/dist-packages (from requests[socks]->gdown) (3.10)\r\n",
      "Requirement already satisfied: urllib3<3,>=1.21.1 in /usr/local/lib/python3.10/dist-packages (from requests[socks]->gdown) (2.3.0)\r\n",
      "Requirement already satisfied: certifi>=2017.4.17 in /usr/local/lib/python3.10/dist-packages (from requests[socks]->gdown) (2025.1.31)\r\n",
      "Requirement already satisfied: soupsieve>1.2 in /usr/local/lib/python3.10/dist-packages (from beautifulsoup4->gdown) (2.6)\r\n",
      "Requirement already satisfied: MarkupSafe>=2.0 in /usr/local/lib/python3.10/dist-packages (from jinja2->torch) (3.0.2)\r\n",
      "Requirement already satisfied: intel-openmp>=2024 in /usr/local/lib/python3.10/dist-packages (from mkl->numpy) (2024.2.0)\r\n",
      "Requirement already satisfied: tbb==2022.* in /usr/local/lib/python3.10/dist-packages (from mkl->numpy) (2022.0.0)\r\n",
      "Requirement already satisfied: tcmlib==1.* in /usr/local/lib/python3.10/dist-packages (from tbb==2022.*->mkl->numpy) (1.2.0)\r\n",
      "Requirement already satisfied: intel-cmplr-lib-rt in /usr/local/lib/python3.10/dist-packages (from mkl_umath->numpy) (2024.2.0)\r\n",
      "Requirement already satisfied: PySocks!=1.5.7,>=1.5.6 in /usr/local/lib/python3.10/dist-packages (from requests[socks]->gdown) (1.7.1)\r\n",
      "Requirement already satisfied: intel-cmplr-lib-ur==2024.2.0 in /usr/local/lib/python3.10/dist-packages (from intel-openmp>=2024->mkl->numpy) (2024.2.0)\r\n",
      "Downloading rouge-1.0.1-py3-none-any.whl (13 kB)\r\n",
      "Installing collected packages: rouge\r\n",
      "Successfully installed rouge-1.0.1\r\n",
      "Note: you may need to restart the kernel to use updated packages.\n"
     ]
    }
   ],
   "source": [
    "# %pip install torch numpy pandas gdown datasets rouge\n",
    "\n",
    "!pip install pandas==2.2.3\n",
    "!pip install numpy==1.26.4\n",
    "!pip install seaborn==0.12.2\n",
    "!pip install nltk==3.2.4\n",
    "!pip install torch==2.5.1+cu121 -f https://download.pytorch.org/whl/torch_stable.html\n",
    "!pip install rouge\n",
    "!pip install tqdm\n",
    "!pip install matplotlib  # uncomment if you want version output\n",
    "!pip install scikit-learn  # uncomment if you want sklearn version\n",
    "!pip install tensorflow  # for keras Tokenizer and pad_sequences\n",
    "!pip install datasets \n",
    "!pip install gdown\n"
   ]
  },
  {
   "cell_type": "markdown",
   "id": "a37e91c6",
   "metadata": {},
   "source": [
    "===== Library Versions =====\n",
    "\n",
    "Python:        3.10.12\n",
    "\n",
    "Torch:         2.5.1+cu121\n",
    "\n",
    "NumPy:         1.26.4\n",
    "\n",
    "Pandas:        2.2.3\n",
    "\n",
    "gdown:         5.2.0\n",
    "\n",
    "datasets:      3.3.1\n",
    "\n",
    "nltk:          3.2.4\n",
    "\n",
    "matplotlib:    3.7.5\n",
    "\n",
    "seaborn:       0.12.2\n",
    "\n",
    "scikit-learn:  1.2.2\n",
    "\n",
    "TensorFlow:    2.17.1\n",
    "\n",
    "transformers:  4.47.0\n",
    "\n",
    "rouge:         <module 'rouge' from '/usr/local/lib/python3.10/dist-packages/rouge/__init__.py'>\n",
    "\n",
    "============================"
   ]
  },
  {
   "cell_type": "code",
   "execution_count": null,
   "id": "93099f6f",
   "metadata": {},
   "outputs": [],
   "source": [
    "# ===============================\n",
    "# Print Versions of Key Libraries\n",
    "# ===============================\n",
    "import sys\n",
    "import torch\n",
    "import numpy as np\n",
    "import pandas as pd\n",
    "import gdown\n",
    "import datasets\n",
    "import nltk\n",
    "import matplotlib\n",
    "import seaborn\n",
    "import sklearn\n",
    "import tensorflow\n",
    "import transformers\n",
    "import rouge\n",
    "\n",
    "print(\"\\n===== Library Versions =====\")\n",
    "print(f\"Python:        {sys.version.split()[0]}\")\n",
    "print(f\"Torch:         {torch.__version__}\")\n",
    "print(f\"NumPy:         {np.__version__}\")\n",
    "print(f\"Pandas:        {pd.__version__}\")\n",
    "print(f\"gdown:         {gdown.__version__}\")\n",
    "print(f\"datasets:      {datasets.__version__}\")\n",
    "print(f\"nltk:          {nltk.__version__}\")\n",
    "print(f\"matplotlib:    {matplotlib.__version__}\")\n",
    "print(f\"seaborn:       {seaborn.__version__}\")\n",
    "print(f\"scikit-learn:  {sklearn.__version__}\")\n",
    "print(f\"TensorFlow:    {tensorflow.__version__}\")\n",
    "print(f\"transformers:  {transformers.__version__}\")\n",
    "print(f\"rouge:         {rouge}\")\n",
    "print(\"============================\\n\")"
   ]
  },
  {
   "cell_type": "code",
   "execution_count": null,
   "id": "57c25d3c",
   "metadata": {
    "execution": {
     "iopub.execute_input": "2025-03-28T23:25:13.018865Z",
     "iopub.status.busy": "2025-03-28T23:25:13.018616Z",
     "iopub.status.idle": "2025-03-28T23:25:37.515021Z",
     "shell.execute_reply": "2025-03-28T23:25:37.514128Z"
    },
    "papermill": {
     "duration": 24.509898,
     "end_time": "2025-03-28T23:25:37.516462",
     "exception": false,
     "start_time": "2025-03-28T23:25:13.006564",
     "status": "completed"
    },
    "tags": []
   },
   "outputs": [
    {
     "name": "stdout",
     "output_type": "stream",
     "text": [
      "[nltk_data] Downloading package stopwords to /usr/share/nltk_data...\n",
      "[nltk_data]   Unzipping corpora/stopwords.zip.\n",
      "[nltk_data] Downloading package punkt to /usr/share/nltk_data...\n",
      "[nltk_data]   Package punkt is already up-to-date!\n",
      "Using device: cuda\n"
     ]
    }
   ],
   "source": [
    "# ====================================\n",
    "# Import necessary libraries\n",
    "# ====================================\n",
    "\n",
    "# Standard Libraries\n",
    "import os\n",
    "import re\n",
    "import math\n",
    "import random\n",
    "import itertools\n",
    "import warnings\n",
    "from math import ceil\n",
    "\n",
    "# Data Handling & Processing\n",
    "import numpy as np\n",
    "import pandas as pd\n",
    "import torch\n",
    "import torch.nn as nn\n",
    "import torch.nn.functional as F\n",
    "import nltk\n",
    "from nltk.corpus import stopwords\n",
    "from nltk.tokenize import word_tokenize, sent_tokenize\n",
    "from tqdm import tqdm\n",
    "from sklearn.model_selection import train_test_split\n",
    "from sklearn.feature_extraction.text import TfidfVectorizer\n",
    "from sklearn.metrics.pairwise import cosine_similarity\n",
    "\n",
    "# NLP Libraries & Tokenizers\n",
    "from tensorflow.keras.preprocessing.text import Tokenizer as KerasTokenizer\n",
    "from tensorflow.keras.preprocessing.sequence import pad_sequences\n",
    "from transformers import AutoTokenizer\n",
    "\n",
    "# Evaluation Metrics\n",
    "from nltk.translate.bleu_score import sentence_bleu\n",
    "from rouge import Rouge\n",
    "\n",
    "# PyTorch Utilities\n",
    "from torch.optim.lr_scheduler import StepLR\n",
    "from torch.nn.utils.rnn import pad_sequence\n",
    "from torch.utils.data import DataLoader, Dataset\n",
    "\n",
    "# Visualization\n",
    "import matplotlib.pyplot as plt\n",
    "import seaborn as sns\n",
    "\n",
    "# External Data Handling\n",
    "import gdown\n",
    "from datasets import load_dataset\n",
    "\n",
    "# Warnings and Display Settings\n",
    "warnings.filterwarnings('ignore')\n",
    "pd.set_option('display.max_colwidth', None)\n",
    "tqdm.pandas()\n",
    "\n",
    "# ====================================\n",
    "# Download NLTK Data\n",
    "# ====================================\n",
    "nltk.download(\"stopwords\")\n",
    "nltk.download(\"punkt\")\n",
    "\n",
    "# ====================================\n",
    "# Check if GPU is available\n",
    "# ====================================\n",
    "device = torch.device(\"cuda\" if torch.cuda.is_available() else \"cpu\")\n",
    "print(f\"Using device: {device}\")\n",
    "\n",
    "import torch\n",
    "import time\n",
    "import os\n",
    "import numpy as np\n",
    "import matplotlib.pyplot as plt\n",
    "from torch.nn.utils.rnn import pad_sequence\n",
    "from tqdm import tqdm\n",
    "\n",
    "from transformers import get_cosine_schedule_with_warmup"
   ]
  },
  {
   "cell_type": "code",
   "execution_count": 3,
   "id": "9d72ed99",
   "metadata": {
    "execution": {
     "iopub.execute_input": "2025-03-28T23:25:37.540918Z",
     "iopub.status.busy": "2025-03-28T23:25:37.540353Z",
     "iopub.status.idle": "2025-03-28T23:25:37.572265Z",
     "shell.execute_reply": "2025-03-28T23:25:37.571455Z"
    },
    "papermill": {
     "duration": 0.045001,
     "end_time": "2025-03-28T23:25:37.573562",
     "exception": false,
     "start_time": "2025-03-28T23:25:37.528561",
     "status": "completed"
    },
    "tags": []
   },
   "outputs": [
    {
     "name": "stdout",
     "output_type": "stream",
     "text": [
      "|===========================================================================|\n",
      "|                  PyTorch CUDA memory summary, device ID 0                 |\n",
      "|---------------------------------------------------------------------------|\n",
      "|            CUDA OOMs: 0            |        cudaMalloc retries: 0         |\n",
      "|===========================================================================|\n",
      "|        Metric         | Cur Usage  | Peak Usage | Tot Alloc  | Tot Freed  |\n",
      "|---------------------------------------------------------------------------|\n",
      "| Allocated memory      |      0 B   |      0 B   |      0 B   |      0 B   |\n",
      "|       from large pool |      0 B   |      0 B   |      0 B   |      0 B   |\n",
      "|       from small pool |      0 B   |      0 B   |      0 B   |      0 B   |\n",
      "|---------------------------------------------------------------------------|\n",
      "| Active memory         |      0 B   |      0 B   |      0 B   |      0 B   |\n",
      "|       from large pool |      0 B   |      0 B   |      0 B   |      0 B   |\n",
      "|       from small pool |      0 B   |      0 B   |      0 B   |      0 B   |\n",
      "|---------------------------------------------------------------------------|\n",
      "| Requested memory      |      0 B   |      0 B   |      0 B   |      0 B   |\n",
      "|       from large pool |      0 B   |      0 B   |      0 B   |      0 B   |\n",
      "|       from small pool |      0 B   |      0 B   |      0 B   |      0 B   |\n",
      "|---------------------------------------------------------------------------|\n",
      "| GPU reserved memory   |      0 B   |      0 B   |      0 B   |      0 B   |\n",
      "|       from large pool |      0 B   |      0 B   |      0 B   |      0 B   |\n",
      "|       from small pool |      0 B   |      0 B   |      0 B   |      0 B   |\n",
      "|---------------------------------------------------------------------------|\n",
      "| Non-releasable memory |      0 B   |      0 B   |      0 B   |      0 B   |\n",
      "|       from large pool |      0 B   |      0 B   |      0 B   |      0 B   |\n",
      "|       from small pool |      0 B   |      0 B   |      0 B   |      0 B   |\n",
      "|---------------------------------------------------------------------------|\n",
      "| Allocations           |       0    |       0    |       0    |       0    |\n",
      "|       from large pool |       0    |       0    |       0    |       0    |\n",
      "|       from small pool |       0    |       0    |       0    |       0    |\n",
      "|---------------------------------------------------------------------------|\n",
      "| Active allocs         |       0    |       0    |       0    |       0    |\n",
      "|       from large pool |       0    |       0    |       0    |       0    |\n",
      "|       from small pool |       0    |       0    |       0    |       0    |\n",
      "|---------------------------------------------------------------------------|\n",
      "| GPU reserved segments |       0    |       0    |       0    |       0    |\n",
      "|       from large pool |       0    |       0    |       0    |       0    |\n",
      "|       from small pool |       0    |       0    |       0    |       0    |\n",
      "|---------------------------------------------------------------------------|\n",
      "| Non-releasable allocs |       0    |       0    |       0    |       0    |\n",
      "|       from large pool |       0    |       0    |       0    |       0    |\n",
      "|       from small pool |       0    |       0    |       0    |       0    |\n",
      "|---------------------------------------------------------------------------|\n",
      "| Oversize allocations  |       0    |       0    |       0    |       0    |\n",
      "|---------------------------------------------------------------------------|\n",
      "| Oversize GPU segments |       0    |       0    |       0    |       0    |\n",
      "|===========================================================================|\n",
      "\n"
     ]
    }
   ],
   "source": [
    "os.environ[\"PYTORCH_CUDA_ALLOC_CONF\"] = \"expandable_segments:True\"\n",
    "\n",
    "torch.cuda.empty_cache()\n",
    "torch.cuda.reset_peak_memory_stats()\n",
    "\n",
    "print(torch.cuda.memory_summary())\n"
   ]
  },
  {
   "cell_type": "code",
   "execution_count": 4,
   "id": "957908ff",
   "metadata": {
    "execution": {
     "iopub.execute_input": "2025-03-28T23:25:37.653934Z",
     "iopub.status.busy": "2025-03-28T23:25:37.653658Z",
     "iopub.status.idle": "2025-03-28T23:25:37.656665Z",
     "shell.execute_reply": "2025-03-28T23:25:37.655927Z"
    },
    "papermill": {
     "duration": 0.016704,
     "end_time": "2025-03-28T23:25:37.657895",
     "exception": false,
     "start_time": "2025-03-28T23:25:37.641191",
     "status": "completed"
    },
    "tags": []
   },
   "outputs": [],
   "source": [
    "# # https://drive.google.com/drive/folders/12QPunWPqA9U457jhcK8GyBmjsKvdPdCL?usp=sharing\n",
    "# # URL of the shared folder\n",
    "# folder_url = \"https://drive.google.com/drive/folders/12QPunWPqA9U457jhcK8GyBmjsKvdPdCL?usp=sharing\"\n",
    "\n",
    "# # Output directory where the folder will be saved\n",
    "# # output_dir = \"Lab11\"\n",
    "\n",
    "# # Download the folder\n",
    "# gdown.download_folder(folder_url, quiet=False)"
   ]
  },
  {
   "cell_type": "markdown",
   "id": "24c21603",
   "metadata": {
    "papermill": {
     "duration": 0.010851,
     "end_time": "2025-03-28T23:25:37.680324",
     "exception": false,
     "start_time": "2025-03-28T23:25:37.669473",
     "status": "completed"
    },
    "tags": []
   },
   "source": [
    "# Get dataset"
   ]
  },
  {
   "cell_type": "code",
   "execution_count": 5,
   "id": "580c996f",
   "metadata": {
    "execution": {
     "iopub.execute_input": "2025-03-28T23:25:37.703843Z",
     "iopub.status.busy": "2025-03-28T23:25:37.703609Z",
     "iopub.status.idle": "2025-03-28T23:25:47.268593Z",
     "shell.execute_reply": "2025-03-28T23:25:47.267716Z"
    },
    "papermill": {
     "duration": 9.578508,
     "end_time": "2025-03-28T23:25:47.270359",
     "exception": false,
     "start_time": "2025-03-28T23:25:37.691851",
     "status": "completed"
    },
    "tags": []
   },
   "outputs": [
    {
     "data": {
      "application/vnd.jupyter.widget-view+json": {
       "model_id": "77538aedd4ed43c8b228cf70e3604989",
       "version_major": 2,
       "version_minor": 0
      },
      "text/plain": [
       "README.md:   0%|          | 0.00/10.5k [00:00<?, ?B/s]"
      ]
     },
     "metadata": {},
     "output_type": "display_data"
    },
    {
     "data": {
      "application/vnd.jupyter.widget-view+json": {
       "model_id": "996b1779e0c2438589ba5a3d77c59a55",
       "version_major": 2,
       "version_minor": 0
      },
      "text/plain": [
       "test-00000-of-00001.parquet:   0%|          | 0.00/722k [00:00<?, ?B/s]"
      ]
     },
     "metadata": {},
     "output_type": "display_data"
    },
    {
     "data": {
      "application/vnd.jupyter.widget-view+json": {
       "model_id": "b0fa456c20a44384a642dd4208abc925",
       "version_major": 2,
       "version_minor": 0
      },
      "text/plain": [
       "train-00000-of-00002.parquet:   0%|          | 0.00/156M [00:00<?, ?B/s]"
      ]
     },
     "metadata": {},
     "output_type": "display_data"
    },
    {
     "data": {
      "application/vnd.jupyter.widget-view+json": {
       "model_id": "5f691107b38e48508340b797de2108cb",
       "version_major": 2,
       "version_minor": 0
      },
      "text/plain": [
       "train-00001-of-00002.parquet:   0%|          | 0.00/156M [00:00<?, ?B/s]"
      ]
     },
     "metadata": {},
     "output_type": "display_data"
    },
    {
     "data": {
      "application/vnd.jupyter.widget-view+json": {
       "model_id": "cfba62f146244e2a8fa992693a4aeb1a",
       "version_major": 2,
       "version_minor": 0
      },
      "text/plain": [
       "validation-00000-of-00001.parquet:   0%|          | 0.00/655k [00:00<?, ?B/s]"
      ]
     },
     "metadata": {},
     "output_type": "display_data"
    },
    {
     "data": {
      "application/vnd.jupyter.widget-view+json": {
       "model_id": "cbffd4b2f30b4400a8300afbbd7c391f",
       "version_major": 2,
       "version_minor": 0
      },
      "text/plain": [
       "Generating test split:   0%|          | 0/4358 [00:00<?, ? examples/s]"
      ]
     },
     "metadata": {},
     "output_type": "display_data"
    },
    {
     "data": {
      "application/vnd.jupyter.widget-view+json": {
       "model_id": "0e6a29e878684876836967576ee29016",
       "version_major": 2,
       "version_minor": 0
      },
      "text/plain": [
       "Generating train split:   0%|          | 0/1801350 [00:00<?, ? examples/s]"
      ]
     },
     "metadata": {},
     "output_type": "display_data"
    },
    {
     "data": {
      "application/vnd.jupyter.widget-view+json": {
       "model_id": "bebccd7108ff43dfb2f41962b6f8e3c3",
       "version_major": 2,
       "version_minor": 0
      },
      "text/plain": [
       "Generating validation split:   0%|          | 0/3760 [00:00<?, ? examples/s]"
      ]
     },
     "metadata": {},
     "output_type": "display_data"
    }
   ],
   "source": [
    "dataset = load_dataset(\"wikitext\", \"wikitext-103-v1\")\n",
    "train_texts = [line for line in dataset['train']['text'] if line.strip()]\n",
    "val_texts   = [line for line in dataset['validation']['text'] if line.strip()]\n",
    "test_texts  = [line for line in dataset['test']['text'] if line.strip()]\n"
   ]
  },
  {
   "cell_type": "code",
   "execution_count": 6,
   "id": "f9c20eef",
   "metadata": {
    "execution": {
     "iopub.execute_input": "2025-03-28T23:25:47.297792Z",
     "iopub.status.busy": "2025-03-28T23:25:47.297519Z",
     "iopub.status.idle": "2025-03-28T23:25:47.302516Z",
     "shell.execute_reply": "2025-03-28T23:25:47.301642Z"
    },
    "papermill": {
     "duration": 0.02036,
     "end_time": "2025-03-28T23:25:47.303938",
     "exception": false,
     "start_time": "2025-03-28T23:25:47.283578",
     "status": "completed"
    },
    "tags": []
   },
   "outputs": [
    {
     "data": {
      "text/plain": [
       "DatasetDict({\n",
       "    test: Dataset({\n",
       "        features: ['text'],\n",
       "        num_rows: 4358\n",
       "    })\n",
       "    train: Dataset({\n",
       "        features: ['text'],\n",
       "        num_rows: 1801350\n",
       "    })\n",
       "    validation: Dataset({\n",
       "        features: ['text'],\n",
       "        num_rows: 3760\n",
       "    })\n",
       "})"
      ]
     },
     "execution_count": 6,
     "metadata": {},
     "output_type": "execute_result"
    }
   ],
   "source": [
    "dataset"
   ]
  },
  {
   "cell_type": "code",
   "execution_count": 7,
   "id": "09689786",
   "metadata": {
    "execution": {
     "iopub.execute_input": "2025-03-28T23:25:47.330575Z",
     "iopub.status.busy": "2025-03-28T23:25:47.330351Z",
     "iopub.status.idle": "2025-03-28T23:25:47.334696Z",
     "shell.execute_reply": "2025-03-28T23:25:47.333980Z"
    },
    "papermill": {
     "duration": 0.019184,
     "end_time": "2025-03-28T23:25:47.335858",
     "exception": false,
     "start_time": "2025-03-28T23:25:47.316674",
     "status": "completed"
    },
    "tags": []
   },
   "outputs": [
    {
     "data": {
      "text/plain": [
       "(1165029, 2461, 2891)"
      ]
     },
     "execution_count": 7,
     "metadata": {},
     "output_type": "execute_result"
    }
   ],
   "source": [
    "len(train_texts), len(val_texts), len(test_texts)"
   ]
  },
  {
   "cell_type": "code",
   "execution_count": 8,
   "id": "0238c2c0",
   "metadata": {
    "execution": {
     "iopub.execute_input": "2025-03-28T23:25:47.362515Z",
     "iopub.status.busy": "2025-03-28T23:25:47.362230Z",
     "iopub.status.idle": "2025-03-28T23:25:47.366915Z",
     "shell.execute_reply": "2025-03-28T23:25:47.366108Z"
    },
    "papermill": {
     "duration": 0.019607,
     "end_time": "2025-03-28T23:25:47.368206",
     "exception": false,
     "start_time": "2025-03-28T23:25:47.348599",
     "status": "completed"
    },
    "tags": []
   },
   "outputs": [
    {
     "data": {
      "text/plain": [
       "[' = Valkyria Chronicles III = \\n',\n",
       " ' Senjō no Valkyria 3 : <unk> Chronicles ( Japanese : 戦場のヴァルキュリア3 , lit . Valkyria of the Battlefield 3 ) , commonly referred to as Valkyria Chronicles III outside Japan , is a tactical role @-@ playing video game developed by Sega and Media.Vision for the PlayStation Portable . Released in January 2011 in Japan , it is the third game in the Valkyria series . Employing the same fusion of tactical and real @-@ time gameplay as its predecessors , the story runs parallel to the first game and follows the \" Nameless \" , a penal military unit serving the nation of Gallia during the Second Europan War who perform secret black operations and are pitted against the Imperial unit \" <unk> Raven \" . \\n',\n",
       " \" The game began development in 2010 , carrying over a large portion of the work done on Valkyria Chronicles II . While it retained the standard features of the series , it also underwent multiple adjustments , such as making the game more forgiving for series newcomers . Character designer <unk> Honjou and composer Hitoshi Sakimoto both returned from previous entries , along with Valkyria Chronicles II director Takeshi Ozawa . A large team of writers handled the script . The game 's opening theme was sung by May 'n . \\n\",\n",
       " \" It met with positive sales in Japan , and was praised by both Japanese and western critics . After release , it received downloadable content , along with an expanded edition in November of that year . It was also adapted into manga and an original video animation series . Due to low sales of Valkyria Chronicles II , Valkyria Chronicles III was not localized , but a fan translation compatible with the game 's expanded edition was released in 2014 . Media.Vision would return to the franchise with the development of Valkyria : Azure Revolution for the PlayStation 4 . \\n\",\n",
       " ' = = Gameplay = = \\n']"
      ]
     },
     "execution_count": 8,
     "metadata": {},
     "output_type": "execute_result"
    }
   ],
   "source": [
    "train_texts[:5]"
   ]
  },
  {
   "cell_type": "markdown",
   "id": "7f97436e",
   "metadata": {},
   "source": [
    "# Analyze data"
   ]
  },
  {
   "cell_type": "code",
   "execution_count": 9,
   "id": "a612ea68",
   "metadata": {
    "execution": {
     "iopub.execute_input": "2025-03-28T23:25:47.395662Z",
     "iopub.status.busy": "2025-03-28T23:25:47.395402Z",
     "iopub.status.idle": "2025-03-28T23:25:47.401814Z",
     "shell.execute_reply": "2025-03-28T23:25:47.400963Z"
    },
    "papermill": {
     "duration": 0.021969,
     "end_time": "2025-03-28T23:25:47.403049",
     "exception": false,
     "start_time": "2025-03-28T23:25:47.381080",
     "status": "completed"
    },
    "tags": []
   },
   "outputs": [],
   "source": [
    "def visualize_sentence_lengths(data, split='None', max_bins=100):\n",
    "    \"\"\"\n",
    "    Visualizes the distribution of sentence lengths (in words).\n",
    "    \n",
    "    Args:\n",
    "        data (DatasetDict or list): Either Hugging Face DatasetDict or list of strings.\n",
    "        split (str): Dataset split to analyze (e.g., 'train', 'test', 'validation', or 'None').\n",
    "        max_bins (int): Max number of bins in the histogram.\n",
    "    \"\"\"\n",
    "    if isinstance(data, dict) or \"DatasetDict\" in str(type(data)):\n",
    "        dataset = data[split] if split != 'None' else data\n",
    "        texts = [row['text'] for row in dataset if row['text'].strip()]\n",
    "    elif isinstance(data, list):\n",
    "        texts = [text for text in data if text.strip()]\n",
    "    else:\n",
    "        raise ValueError(\"Unsupported input type: must be list of strings or DatasetDict\")\n",
    "\n",
    "    word_counts = [len(text.split()) for text in texts]\n",
    "\n",
    "    # Plot histogram\n",
    "    plt.figure(figsize=(12, 6))\n",
    "    plt.hist(word_counts, bins=max_bins, color='skyblue', edgecolor='black')\n",
    "    plt.title(f\"Distribution of Sentence Lengths in `{split}` Split\")\n",
    "    plt.xlabel(\"Number of Words per Sentence\")\n",
    "    plt.ylabel(\"Frequency\")\n",
    "    plt.grid(True)\n",
    "    plt.show()\n",
    "\n",
    "    # Print stats\n",
    "    print(f\"📈 Stats for `{split}` split:\")\n",
    "    print(f\"  - Total samples: {len(word_counts)}\")\n",
    "    print(f\"  - Mean sentence length: {sum(word_counts)/len(word_counts):.2f}\")\n",
    "    print(f\"  - Max sentence length: {max(word_counts)}\")\n",
    "    print(f\"  - Min sentence length: {min(word_counts)}\")\n"
   ]
  },
  {
   "cell_type": "code",
   "execution_count": 10,
   "id": "1165c6dc",
   "metadata": {
    "execution": {
     "iopub.execute_input": "2025-03-28T23:25:47.434239Z",
     "iopub.status.busy": "2025-03-28T23:25:47.433941Z",
     "iopub.status.idle": "2025-03-28T23:26:26.234670Z",
     "shell.execute_reply": "2025-03-28T23:26:26.233617Z"
    },
    "papermill": {
     "duration": 38.817367,
     "end_time": "2025-03-28T23:26:26.236389",
     "exception": false,
     "start_time": "2025-03-28T23:25:47.419022",
     "status": "completed"
    },
    "tags": []
   },
   "outputs": [
    {
     "data": {
      "image/png": "[encoded data removed]",
      "text/plain": [
       "<Figure size 1200x600 with 1 Axes>"
      ]
     },
     "metadata": {},
     "output_type": "display_data"
    },
    {
     "name": "stdout",
     "output_type": "stream",
     "text": [
      "📈 Stats for `train` split:\n",
      "  - Total samples: 1165029\n",
      "  - Mean sentence length: 87.06\n",
      "  - Max sentence length: 1417\n",
      "  - Min sentence length: 1\n"
     ]
    }
   ],
   "source": [
    "visualize_sentence_lengths(dataset, split='train')"
   ]
  },
  {
   "cell_type": "code",
   "execution_count": 11,
   "id": "b40eab7b",
   "metadata": {
    "execution": {
     "iopub.execute_input": "2025-03-28T23:26:26.273218Z",
     "iopub.status.busy": "2025-03-28T23:26:26.272874Z",
     "iopub.status.idle": "2025-03-28T23:26:26.666358Z",
     "shell.execute_reply": "2025-03-28T23:26:26.665534Z"
    },
    "papermill": {
     "duration": 0.409681,
     "end_time": "2025-03-28T23:26:26.667682",
     "exception": false,
     "start_time": "2025-03-28T23:26:26.258001",
     "status": "completed"
    },
    "tags": []
   },
   "outputs": [
    {
     "data": {
      "image/png": "[encoded data removed]",
      "text/plain": [
       "<Figure size 1200x600 with 1 Axes>"
      ]
     },
     "metadata": {},
     "output_type": "display_data"
    },
    {
     "name": "stdout",
     "output_type": "stream",
     "text": [
      "📈 Stats for `validation` split:\n",
      "  - Total samples: 2461\n",
      "  - Mean sentence length: 86.91\n",
      "  - Max sentence length: 429\n",
      "  - Min sentence length: 1\n"
     ]
    }
   ],
   "source": [
    "visualize_sentence_lengths(dataset, split='validation')"
   ]
  },
  {
   "cell_type": "code",
   "execution_count": 12,
   "id": "07f0a320",
   "metadata": {
    "execution": {
     "iopub.execute_input": "2025-03-28T23:26:26.697529Z",
     "iopub.status.busy": "2025-03-28T23:26:26.697257Z",
     "iopub.status.idle": "2025-03-28T23:26:27.077198Z",
     "shell.execute_reply": "2025-03-28T23:26:27.076212Z"
    },
    "papermill": {
     "duration": 0.396493,
     "end_time": "2025-03-28T23:26:27.078565",
     "exception": false,
     "start_time": "2025-03-28T23:26:26.682072",
     "status": "completed"
    },
    "tags": []
   },
   "outputs": [
    {
     "data": {
      "image/png": "[encoded data removed]",
      "text/plain": [
       "<Figure size 1200x600 with 1 Axes>"
      ]
     },
     "metadata": {},
     "output_type": "display_data"
    },
    {
     "name": "stdout",
     "output_type": "stream",
     "text": [
      "📈 Stats for `test` split:\n",
      "  - Total samples: 2891\n",
      "  - Mean sentence length: 83.44\n",
      "  - Max sentence length: 481\n",
      "  - Min sentence length: 1\n"
     ]
    }
   ],
   "source": [
    "visualize_sentence_lengths(dataset, split='test')"
   ]
  },
  {
   "cell_type": "code",
   "execution_count": 13,
   "id": "7a92b4e7",
   "metadata": {
    "execution": {
     "iopub.execute_input": "2025-03-28T23:26:27.111527Z",
     "iopub.status.busy": "2025-03-28T23:26:27.111221Z",
     "iopub.status.idle": "2025-03-28T23:26:27.116780Z",
     "shell.execute_reply": "2025-03-28T23:26:27.116098Z"
    },
    "papermill": {
     "duration": 0.02313,
     "end_time": "2025-03-28T23:26:27.117935",
     "exception": false,
     "start_time": "2025-03-28T23:26:27.094805",
     "status": "completed"
    },
    "tags": []
   },
   "outputs": [],
   "source": [
    "def compute_length_coverage(data, split='None', max_len=512):\n",
    "    \"\"\"\n",
    "    Compute what % of rows have word count <= max_len.\n",
    "\n",
    "    Args:\n",
    "        data (DatasetDict or list): Either HF DatasetDict or list of strings\n",
    "        split (str): 'train', 'validation', 'test' (if HF dataset), or 'None' if list\n",
    "        max_len (int): Word count threshold\n",
    "\n",
    "    Returns:\n",
    "        float: percentage of samples with length <= max_len\n",
    "    \"\"\"\n",
    "    if isinstance(data, dict) or \"DatasetDict\" in str(type(data)):\n",
    "        dataset = data[split] if split != 'None' else data\n",
    "        texts = [row['text'] for row in dataset if row['text'].strip()]\n",
    "    elif isinstance(data, list):\n",
    "        texts = [text for text in data if text.strip()]\n",
    "    else:\n",
    "        raise ValueError(\"Unsupported input type: must be list of strings or DatasetDict\")\n",
    "\n",
    "    word_counts = [len(text.split()) for text in texts]\n",
    "    total = len(word_counts)\n",
    "    within_limit = sum(wc <= max_len for wc in word_counts)\n",
    "    percentage = (within_limit / total) * 100\n",
    "\n",
    "    print(f\"✅ {within_limit}/{total} samples (≈ {percentage:.2f}%) in `{split}` are ≤ {max_len} words.\")\n",
    "    return percentage\n"
   ]
  },
  {
   "cell_type": "code",
   "execution_count": 14,
   "id": "75b41955",
   "metadata": {
    "execution": {
     "iopub.execute_input": "2025-03-28T23:26:27.149273Z",
     "iopub.status.busy": "2025-03-28T23:26:27.148996Z",
     "iopub.status.idle": "2025-03-28T23:27:01.241096Z",
     "shell.execute_reply": "2025-03-28T23:27:01.240221Z"
    },
    "papermill": {
     "duration": 34.12393,
     "end_time": "2025-03-28T23:27:01.257041",
     "exception": false,
     "start_time": "2025-03-28T23:26:27.133111",
     "status": "completed"
    },
    "tags": []
   },
   "outputs": [
    {
     "name": "stdout",
     "output_type": "stream",
     "text": [
      "✅ 1121912/1165029 samples (≈ 96.30%) in `train` are ≤ 256 words.\n",
      "✅ 2389/2461 samples (≈ 97.07%) in `validation` are ≤ 256 words.\n",
      "✅ 2788/2891 samples (≈ 96.44%) in `test` are ≤ 256 words.\n"
     ]
    },
    {
     "data": {
      "text/plain": [
       "96.43721895537875"
      ]
     },
     "execution_count": 14,
     "metadata": {},
     "output_type": "execute_result"
    }
   ],
   "source": [
    "compute_length_coverage(dataset, split='train', max_len=256)\n",
    "compute_length_coverage(dataset, split='validation', max_len=256)\n",
    "compute_length_coverage(dataset, split='test', max_len=256)\n"
   ]
  },
  {
   "cell_type": "code",
   "execution_count": 15,
   "id": "453ca67c",
   "metadata": {
    "execution": {
     "iopub.execute_input": "2025-03-28T23:27:01.290256Z",
     "iopub.status.busy": "2025-03-28T23:27:01.289796Z",
     "iopub.status.idle": "2025-03-28T23:27:35.928826Z",
     "shell.execute_reply": "2025-03-28T23:27:35.927798Z"
    },
    "papermill": {
     "duration": 34.674672,
     "end_time": "2025-03-28T23:27:35.946797",
     "exception": false,
     "start_time": "2025-03-28T23:27:01.272125",
     "status": "completed"
    },
    "tags": []
   },
   "outputs": [
    {
     "name": "stdout",
     "output_type": "stream",
     "text": [
      "✅ 121161/1165029 samples (≈ 10.40%) in `train` are ≤ 5 words.\n",
      "✅ 256/2461 samples (≈ 10.40%) in `validation` are ≤ 5 words.\n",
      "✅ 353/2891 samples (≈ 12.21%) in `test` are ≤ 5 words.\n"
     ]
    },
    {
     "data": {
      "text/plain": [
       "12.210307851954342"
      ]
     },
     "execution_count": 15,
     "metadata": {},
     "output_type": "execute_result"
    }
   ],
   "source": [
    "compute_length_coverage(dataset, split='train', max_len=5)\n",
    "compute_length_coverage(dataset, split='validation', max_len=5)\n",
    "compute_length_coverage(dataset, split='test', max_len=5)\n"
   ]
  },
  {
   "cell_type": "code",
   "execution_count": 16,
   "id": "4f3d855a",
   "metadata": {
    "execution": {
     "iopub.execute_input": "2025-03-28T23:27:35.979714Z",
     "iopub.status.busy": "2025-03-28T23:27:35.979395Z",
     "iopub.status.idle": "2025-03-28T23:27:35.982680Z",
     "shell.execute_reply": "2025-03-28T23:27:35.981955Z"
    },
    "papermill": {
     "duration": 0.021172,
     "end_time": "2025-03-28T23:27:35.983907",
     "exception": false,
     "start_time": "2025-03-28T23:27:35.962735",
     "status": "completed"
    },
    "tags": []
   },
   "outputs": [],
   "source": [
    "MAX_LEN = 256 "
   ]
  },
  {
   "cell_type": "code",
   "execution_count": 17,
   "id": "bc0ecc29",
   "metadata": {
    "execution": {
     "iopub.execute_input": "2025-03-28T23:27:36.015464Z",
     "iopub.status.busy": "2025-03-28T23:27:36.015166Z",
     "iopub.status.idle": "2025-03-28T23:27:36.020907Z",
     "shell.execute_reply": "2025-03-28T23:27:36.020229Z"
    },
    "papermill": {
     "duration": 0.023488,
     "end_time": "2025-03-28T23:27:36.022367",
     "exception": false,
     "start_time": "2025-03-28T23:27:35.998879",
     "status": "completed"
    },
    "tags": []
   },
   "outputs": [],
   "source": [
    "def remove_headers_and_markups(text):\n",
    "    # Remove wiki-style headers like == Header ==\n",
    "    text = re.sub(r\"=+\\s*[^=]+?\\s*=+\", \"\", text)\n",
    "    # Remove <unk> tokens\n",
    "    text = re.sub(r\"<unk>\", \"\", text)\n",
    "    return text\n",
    "\n",
    "def remove_links_and_tags(text):\n",
    "    # Remove URLs\n",
    "    text = re.sub(r\"http\\S+|www\\S+|https\\S+\", \"\", text)\n",
    "    # Remove HTML/XML tags\n",
    "    text = re.sub(r\"<.*?>\", \"\", text)\n",
    "    # Remove @mentions or hashtags\n",
    "    text = re.sub(r\"[@#]\\w+\", \"\", text)\n",
    "    return text\n",
    "\n",
    "def remove_special_characters(text):\n",
    "    # Keep only letters, numbers, and selected punctuation\n",
    "    return re.sub(r\"[^a-zA-Z0-9\\s.,;!?\\\"'\\[\\]\\-]\", \"\", text)\n",
    "\n",
    "def normalize_whitespace(text):\n",
    "    return re.sub(r\"\\s+\", \" \", text).strip()\n",
    "\n",
    "def to_lower(text):\n",
    "    return text.lower()\n",
    "\n",
    "def length_filter(text, min_len=5, max_len=MAX_LEN):\n",
    "    return min_len <= len(text.split()) <= max_len\n",
    "\n",
    "def preprocess_text(text):\n",
    "    text = remove_headers_and_markups(text)\n",
    "    text = remove_links_and_tags(text)\n",
    "    text = remove_special_characters(text)\n",
    "    text = normalize_whitespace(text)\n",
    "    text = to_lower(text)\n",
    "    return text"
   ]
  },
  {
   "cell_type": "code",
   "execution_count": 18,
   "id": "d23f4591",
   "metadata": {
    "execution": {
     "iopub.execute_input": "2025-03-28T23:27:36.056079Z",
     "iopub.status.busy": "2025-03-28T23:27:36.055798Z",
     "iopub.status.idle": "2025-03-28T23:28:40.263185Z",
     "shell.execute_reply": "2025-03-28T23:28:40.262325Z"
    },
    "papermill": {
     "duration": 64.226389,
     "end_time": "2025-03-28T23:28:40.265018",
     "exception": false,
     "start_time": "2025-03-28T23:27:36.038629",
     "status": "completed"
    },
    "tags": []
   },
   "outputs": [],
   "source": [
    "train_texts = [preprocess_text(line) for line in dataset['train']['text'] if line.strip()]\n",
    "val_texts   = [preprocess_text(line) for line in dataset['validation']['text'] if line.strip()]\n",
    "test_texts  = [preprocess_text(line) for line in dataset['test']['text'] if line.strip()]\n"
   ]
  },
  {
   "cell_type": "code",
   "execution_count": 19,
   "id": "70d77dca",
   "metadata": {
    "execution": {
     "iopub.execute_input": "2025-03-28T23:28:40.299255Z",
     "iopub.status.busy": "2025-03-28T23:28:40.298929Z",
     "iopub.status.idle": "2025-03-28T23:28:40.304743Z",
     "shell.execute_reply": "2025-03-28T23:28:40.303849Z"
    },
    "papermill": {
     "duration": 0.023975,
     "end_time": "2025-03-28T23:28:40.306025",
     "exception": false,
     "start_time": "2025-03-28T23:28:40.282050",
     "status": "completed"
    },
    "tags": []
   },
   "outputs": [
    {
     "data": {
      "text/plain": [
       "['',\n",
       " 'senj no valkyria 3 chronicles japanese 3 , lit . valkyria of the battlefield 3 , commonly referred to as valkyria chronicles iii outside japan , is a tactical role - playing video game developed by sega and media.vision for the playstation portable . released in january 2011 in japan , it is the third game in the valkyria series . employing the same fusion of tactical and real - time gameplay as its predecessors , the story runs parallel to the first game and follows the \" nameless \" , a penal military unit serving the nation of gallia during the second europan war who perform secret black operations and are pitted against the imperial unit \" raven \" .',\n",
       " \"the game began development in 2010 , carrying over a large portion of the work done on valkyria chronicles ii . while it retained the standard features of the series , it also underwent multiple adjustments , such as making the game more forgiving for series newcomers . character designer honjou and composer hitoshi sakimoto both returned from previous entries , along with valkyria chronicles ii director takeshi ozawa . a large team of writers handled the script . the game 's opening theme was sung by may 'n .\",\n",
       " \"it met with positive sales in japan , and was praised by both japanese and western critics . after release , it received downloadable content , along with an expanded edition in november of that year . it was also adapted into manga and an original video animation series . due to low sales of valkyria chronicles ii , valkyria chronicles iii was not localized , but a fan translation compatible with the game 's expanded edition was released in 2014 . media.vision would return to the franchise with the development of valkyria azure revolution for the playstation 4 .\",\n",
       " 'gameplay']"
      ]
     },
     "execution_count": 19,
     "metadata": {},
     "output_type": "execute_result"
    }
   ],
   "source": [
    "train_texts[:5]"
   ]
  },
  {
   "cell_type": "code",
   "execution_count": 20,
   "id": "c70b1846",
   "metadata": {
    "execution": {
     "iopub.execute_input": "2025-03-28T23:28:40.339301Z",
     "iopub.status.busy": "2025-03-28T23:28:40.338967Z",
     "iopub.status.idle": "2025-03-28T23:28:40.343870Z",
     "shell.execute_reply": "2025-03-28T23:28:40.343121Z"
    },
    "papermill": {
     "duration": 0.023239,
     "end_time": "2025-03-28T23:28:40.345302",
     "exception": false,
     "start_time": "2025-03-28T23:28:40.322063",
     "status": "completed"
    },
    "tags": []
   },
   "outputs": [
    {
     "data": {
      "text/plain": [
       "['',\n",
       " 'homarus gammarus , known as the european lobster or common lobster , is a species of clawed lobster from the eastern atlantic ocean , mediterranean sea and parts of the black sea . it is closely related to the american lobster , h. americanus . it may grow to a length of 60 cm 24 in and a mass of 6 kilograms 13 lb , and bears a conspicuous pair of claws . in life , the lobsters are blue , only becoming \" lobster red \" on cooking . mating occurs in the summer , producing eggs which are carried by the females for up to a year before hatching into planktonic larvae . homarus gammarus is a highly esteemed food , and is widely caught using lobster pots , mostly around the british isles .',\n",
       " 'description',\n",
       " 'homarus gammarus is a large crustacean , with a body length up to 60 centimetres 24 in and weighing up to 5 6 kilograms 11 13 lb , although the lobsters caught in lobster pots are usually 23 38 cm 9 15 in long and weigh 0 . 7 2 . 2 kg 1 . 5 4 . 9 lb . like other crustaceans , lobsters have a hard exoskeleton which they must shed in order to grow , in a process called ecdysis moulting . this may occur several times a year for young lobsters , but decreases to once every 1 2 years for larger animals .',\n",
       " 'the first pair of pereiopods is armed with a large , asymmetrical pair of claws . the larger one is the \" crusher \" , and has rounded nodules used for crushing prey ; the other is the \" cutter \" , which has sharp inner edges , and is used for holding or tearing the prey . usually , the left claw is the crusher , and the right is the cutter .']"
      ]
     },
     "execution_count": 20,
     "metadata": {},
     "output_type": "execute_result"
    }
   ],
   "source": [
    "val_texts[:5]"
   ]
  },
  {
   "cell_type": "code",
   "execution_count": 21,
   "id": "754f69ef",
   "metadata": {
    "execution": {
     "iopub.execute_input": "2025-03-28T23:28:40.377885Z",
     "iopub.status.busy": "2025-03-28T23:28:40.377596Z",
     "iopub.status.idle": "2025-03-28T23:28:40.382971Z",
     "shell.execute_reply": "2025-03-28T23:28:40.382033Z"
    },
    "papermill": {
     "duration": 0.023319,
     "end_time": "2025-03-28T23:28:40.384506",
     "exception": false,
     "start_time": "2025-03-28T23:28:40.361187",
     "status": "completed"
    },
    "tags": []
   },
   "outputs": [
    {
     "data": {
      "text/plain": [
       "['',\n",
       " 'robert boulter is an english film , television and theatre actor . he had a guest - starring role on the television series the bill in 2000 . this was followed by a starring role in the play herons written by simon stephens , which was performed in 2001 at the royal court theatre . he had a guest role in the television series judge john deed in 2002 . in 2004 boulter landed a role as \" craig \" in the episode \" teddy \\'s story \" of the television series the long firm ; he starred alongside actors mark strong and derek jacobi . he was cast in the 2005 theatre productions of the philip ridley play mercury fur , which was performed at the drum theatre in plymouth and the chocolate factory in london . he was directed by john tiffany and starred alongside ben whishaw , shane zaza , harry kent , fraser ayres , sophie stanton and dominic hall .',\n",
       " 'in 2006 , boulter starred alongside whishaw in the play citizenship written by mark ravenhill . he appeared on a 2006 episode of the television series , doctors , followed by a role in the 2007 theatre production of how to curse directed by josie rourke . how to curse was performed at bush theatre in the london borough of hammersmith and fulham . boulter starred in two films in 2008 , daylight robbery by filmmaker paris , and donkey punch directed by olly blackburn . in may 2008 , boulter made a guest appearance on a two - part episode arc of the television series waking the dead , followed by an appearance on the television series survivors in november 2008 . he had a recurring role in ten episodes of the television series casualty in 2010 , as \" kieron fletcher \" . boulter starred in the 2011 film mercenaries directed by paris .',\n",
       " 'career',\n",
       " '']"
      ]
     },
     "execution_count": 21,
     "metadata": {},
     "output_type": "execute_result"
    }
   ],
   "source": [
    "test_texts[:5]"
   ]
  },
  {
   "cell_type": "code",
   "execution_count": 22,
   "id": "c0e4767a",
   "metadata": {
    "execution": {
     "iopub.execute_input": "2025-03-28T23:28:40.416834Z",
     "iopub.status.busy": "2025-03-28T23:28:40.416599Z",
     "iopub.status.idle": "2025-03-28T23:28:46.243400Z",
     "shell.execute_reply": "2025-03-28T23:28:46.242430Z"
    },
    "papermill": {
     "duration": 5.844574,
     "end_time": "2025-03-28T23:28:46.244883",
     "exception": false,
     "start_time": "2025-03-28T23:28:40.400309",
     "status": "completed"
    },
    "tags": []
   },
   "outputs": [
    {
     "name": "stdout",
     "output_type": "stream",
     "text": [
      "✅ 973187/1012275 samples (≈ 96.14%) in `None` are ≤ 256 words.\n",
      "✅ 2099/2162 samples (≈ 97.09%) in `None` are ≤ 256 words.\n",
      "✅ 2424/2517 samples (≈ 96.31%) in `None` are ≤ 256 words.\n"
     ]
    },
    {
     "data": {
      "text/plain": [
       "96.30512514898689"
      ]
     },
     "execution_count": 22,
     "metadata": {},
     "output_type": "execute_result"
    }
   ],
   "source": [
    "compute_length_coverage(train_texts, split='None', max_len=256)\n",
    "compute_length_coverage(val_texts, split='None', max_len=256)\n",
    "compute_length_coverage(test_texts, split='None', max_len=256)\n"
   ]
  },
  {
   "cell_type": "code",
   "execution_count": 23,
   "id": "4d565f08",
   "metadata": {
    "execution": {
     "iopub.execute_input": "2025-03-28T23:28:46.331520Z",
     "iopub.status.busy": "2025-03-28T23:28:46.331161Z",
     "iopub.status.idle": "2025-03-28T23:28:52.095650Z",
     "shell.execute_reply": "2025-03-28T23:28:52.094664Z"
    },
    "papermill": {
     "duration": 5.834747,
     "end_time": "2025-03-28T23:28:52.097096",
     "exception": false,
     "start_time": "2025-03-28T23:28:46.262349",
     "status": "completed"
    },
    "tags": []
   },
   "outputs": [
    {
     "name": "stdout",
     "output_type": "stream",
     "text": [
      "✅ 193447/1012275 samples (≈ 19.11%) in `None` are ≤ 5 words.\n",
      "✅ 398/2162 samples (≈ 18.41%) in `None` are ≤ 5 words.\n",
      "✅ 521/2517 samples (≈ 20.70%) in `None` are ≤ 5 words.\n"
     ]
    },
    {
     "data": {
      "text/plain": [
       "20.699245133094955"
      ]
     },
     "execution_count": 23,
     "metadata": {},
     "output_type": "execute_result"
    }
   ],
   "source": [
    "compute_length_coverage(train_texts, split='None', max_len=5)\n",
    "compute_length_coverage(val_texts, split='None', max_len=5)\n",
    "compute_length_coverage(test_texts, split='None', max_len=5)\n"
   ]
  },
  {
   "cell_type": "markdown",
   "id": "366cd651",
   "metadata": {},
   "source": [
    "Base on all the analysis, we see that the train and val data in length [5, 256] could be anough for train, if use more we could exceed the limit of 12 hours of training on kaggle"
   ]
  },
  {
   "cell_type": "code",
   "execution_count": 24,
   "id": "bfcbaa9f",
   "metadata": {
    "execution": {
     "iopub.execute_input": "2025-03-28T23:28:52.131524Z",
     "iopub.status.busy": "2025-03-28T23:28:52.131278Z",
     "iopub.status.idle": "2025-03-28T23:28:57.685433Z",
     "shell.execute_reply": "2025-03-28T23:28:57.684601Z"
    },
    "papermill": {
     "duration": 5.573105,
     "end_time": "2025-03-28T23:28:57.687160",
     "exception": false,
     "start_time": "2025-03-28T23:28:52.114055",
     "status": "completed"
    },
    "tags": []
   },
   "outputs": [
    {
     "data": {
      "text/plain": [
       "(793362, 1733, 1936)"
      ]
     },
     "execution_count": 24,
     "metadata": {},
     "output_type": "execute_result"
    }
   ],
   "source": [
    "MAX_LEN_WORDS = 256\n",
    "MIN_LEN_WORDS = 5\n",
    "\n",
    "def filter_texts_by_word_length(texts, min_len=5, max_len=100):\n",
    "    return [\n",
    "        line for line in texts \n",
    "        if line.strip() and min_len <= len(line.strip().split()) <= max_len\n",
    "    ]\n",
    "\n",
    "# Apply filtering\n",
    "train_texts = filter_texts_by_word_length(train_texts, min_len=MIN_LEN_WORDS, max_len=MAX_LEN_WORDS)\n",
    "val_texts   = filter_texts_by_word_length(val_texts, min_len=MIN_LEN_WORDS, max_len=MAX_LEN_WORDS)\n",
    "test_texts  = filter_texts_by_word_length(test_texts, min_len=MIN_LEN_WORDS, max_len=MAX_LEN_WORDS)\n",
    "# test_texts = test_texts\n",
    "\n",
    "# Show sizes of filtered splits\n",
    "len(train_texts), len(val_texts), len(test_texts)"
   ]
  },
  {
   "cell_type": "code",
   "execution_count": 25,
   "id": "2007fc37",
   "metadata": {
    "execution": {
     "iopub.execute_input": "2025-03-28T23:28:57.722246Z",
     "iopub.status.busy": "2025-03-28T23:28:57.721926Z",
     "iopub.status.idle": "2025-03-28T23:28:57.726107Z",
     "shell.execute_reply": "2025-03-28T23:28:57.725191Z"
    },
    "papermill": {
     "duration": 0.023188,
     "end_time": "2025-03-28T23:28:57.727624",
     "exception": false,
     "start_time": "2025-03-28T23:28:57.704436",
     "status": "completed"
    },
    "tags": []
   },
   "outputs": [],
   "source": [
    "# Parameters\n",
    "MAX_LEN = 256\n",
    "MAX_VOCAB_SIZE = 30000\n",
    "BATCH_SIZE = 64 # 64 - OOM\n",
    "SPECIAL_TOKENS = [\"_START_\", \"_END_\"]\n",
    "filters = '!\"#$%&()*+,-./:;<=>?@[\\\\]^`{|}~\\t\\n'\n",
    "DEVICE = torch.device('cuda' if torch.cuda.is_available() else 'cpu')\n"
   ]
  },
  {
   "cell_type": "code",
   "execution_count": null,
   "id": "018ae78e",
   "metadata": {
    "execution": {
     "iopub.execute_input": "2025-03-28T23:28:57.760801Z",
     "iopub.status.busy": "2025-03-28T23:28:57.760563Z",
     "iopub.status.idle": "2025-03-28T23:28:57.766314Z",
     "shell.execute_reply": "2025-03-28T23:28:57.765607Z"
    },
    "papermill": {
     "duration": 0.024064,
     "end_time": "2025-03-28T23:28:57.767584",
     "exception": false,
     "start_time": "2025-03-28T23:28:57.743520",
     "status": "completed"
    },
    "tags": []
   },
   "outputs": [],
   "source": [
    "def get_collate_fn(tokenizer, tokenizer_type=\"word\", pad_token_id=0, max_len=150):\n",
    "    \"\"\"\n",
    "    Returns the appropriate collate_fn based on tokenizer type.\n",
    "    \"\"\"\n",
    "    \n",
    "    if tokenizer_type == \"word\":\n",
    "        def word_level_collate_fn(batch):\n",
    "            # Each sample is a torch.LongTensor of token ids\n",
    "            padded_batch = pad_sequence(batch, batch_first=True, padding_value=pad_token_id)\n",
    "            x = padded_batch[:, :-1]\n",
    "            y = padded_batch[:, 1:]\n",
    "            return {\n",
    "                \"input_ids\": x.to(DEVICE),\n",
    "                \"labels\": y.to(DEVICE)\n",
    "            }\n",
    "        return word_level_collate_fn\n",
    "\n",
    "    elif tokenizer_type == \"subword\":\n",
    "        def subword_level_collate_fn(batch):\n",
    "            # batch is a list of raw text samples\n",
    "            text_batch = batch\n",
    "            tokenized = tokenizer(\n",
    "                text_batch,\n",
    "                padding=\"max_length\",\n",
    "                truncation=True,\n",
    "                max_length=max_len,\n",
    "                return_tensors=\"pt\"\n",
    "            )\n",
    "            x = tokenized[\"input_ids\"][:, :-1]\n",
    "            y = tokenized[\"input_ids\"][:, 1:]\n",
    "            return {\n",
    "                \"input_ids\": x.to(DEVICE),\n",
    "                \"labels\": y.to(DEVICE)\n",
    "            }\n",
    "        return subword_level_collate_fn\n",
    "\n",
    "    else:\n",
    "        raise ValueError(\"tokenizer_type must be 'word' or 'subword'\")\n"
   ]
  },
  {
   "cell_type": "code",
   "execution_count": 27,
   "id": "10bc9b33",
   "metadata": {
    "execution": {
     "iopub.execute_input": "2025-03-28T23:28:57.800190Z",
     "iopub.status.busy": "2025-03-28T23:28:57.799959Z",
     "iopub.status.idle": "2025-03-28T23:28:57.804480Z",
     "shell.execute_reply": "2025-03-28T23:28:57.803768Z"
    },
    "papermill": {
     "duration": 0.022311,
     "end_time": "2025-03-28T23:28:57.805847",
     "exception": false,
     "start_time": "2025-03-28T23:28:57.783536",
     "status": "completed"
    },
    "tags": []
   },
   "outputs": [],
   "source": [
    "def get_tokenizer(tokenizer_type=\"word\", max_vocab_size=30000, filters=None):\n",
    "    \"\"\"\n",
    "    Returns tokenizer object and associated settings based on the tokenizer type.\n",
    "    \n",
    "    Args:\n",
    "        tokenizer_type (str): 'word' or 'subword'\n",
    "        max_vocab_size (int): Used only for word tokenizer\n",
    "        filters (str): Filters to apply in word tokenizer\n",
    "        \n",
    "    Returns:\n",
    "        tokenizer, tokenizer_type, vocab_size, pad_token_id\n",
    "    \"\"\"\n",
    "    if tokenizer_type == \"word\":\n",
    "        assert filters is not None, \"You must specify filters for the word tokenizer.\"\n",
    "        keras_tokenizer = KerasTokenizer(num_words=max_vocab_size, oov_token=\"<OOV>\", filters=filters)\n",
    "        return {\n",
    "            \"type\": \"word\",\n",
    "            \"tokenizer\": keras_tokenizer,\n",
    "            \"vocab_size\": max_vocab_size + 1,\n",
    "            \"pad_token_id\": max_vocab_size\n",
    "        }\n",
    "    \n",
    "    elif tokenizer_type == \"subword\":\n",
    "        hf_tokenizer = AutoTokenizer.from_pretrained(\"bert-base-uncased\")\n",
    "        # hf_tokenizer = AutoTokenizer.from_pretrained(\"gpt2\")\n",
    "        # hf_tokenizer.pad_token = hf_tokenizer.eos_token  # Important for padding!\n",
    "        return {\n",
    "            \"type\": \"subword\",\n",
    "            \"tokenizer\": hf_tokenizer,\n",
    "            \"vocab_size\": hf_tokenizer.vocab_size,\n",
    "            \"pad_token_id\": hf_tokenizer.pad_token_id\n",
    "        }\n",
    "    \n",
    "    else:\n",
    "        raise ValueError(\"tokenizer_type must be either 'word' or 'subword'\")\n"
   ]
  },
  {
   "cell_type": "code",
   "execution_count": null,
   "id": "1dd93a93",
   "metadata": {
    "execution": {
     "iopub.execute_input": "2025-03-28T23:28:57.838157Z",
     "iopub.status.busy": "2025-03-28T23:28:57.837901Z",
     "iopub.status.idle": "2025-03-28T23:28:58.936865Z",
     "shell.execute_reply": "2025-03-28T23:28:58.935923Z"
    },
    "papermill": {
     "duration": 1.117028,
     "end_time": "2025-03-28T23:28:58.938645",
     "exception": false,
     "start_time": "2025-03-28T23:28:57.821617",
     "status": "completed"
    },
    "tags": []
   },
   "outputs": [
    {
     "data": {
      "application/vnd.jupyter.widget-view+json": {
       "model_id": "491ed183699c41d1bce7135f79475d48",
       "version_major": 2,
       "version_minor": 0
      },
      "text/plain": [
       "tokenizer_config.json:   0%|          | 0.00/48.0 [00:00<?, ?B/s]"
      ]
     },
     "metadata": {},
     "output_type": "display_data"
    },
    {
     "data": {
      "application/vnd.jupyter.widget-view+json": {
       "model_id": "64ed778f66d84255a4a41e8a575bbfac",
       "version_major": 2,
       "version_minor": 0
      },
      "text/plain": [
       "config.json:   0%|          | 0.00/570 [00:00<?, ?B/s]"
      ]
     },
     "metadata": {},
     "output_type": "display_data"
    },
    {
     "data": {
      "application/vnd.jupyter.widget-view+json": {
       "model_id": "46cfdd16ba964133abd0d8db5249287a",
       "version_major": 2,
       "version_minor": 0
      },
      "text/plain": [
       "vocab.txt:   0%|          | 0.00/232k [00:00<?, ?B/s]"
      ]
     },
     "metadata": {},
     "output_type": "display_data"
    },
    {
     "data": {
      "application/vnd.jupyter.widget-view+json": {
       "model_id": "51c3b63700bd4d22b28ebbfec740a2df",
       "version_major": 2,
       "version_minor": 0
      },
      "text/plain": [
       "tokenizer.json:   0%|          | 0.00/466k [00:00<?, ?B/s]"
      ]
     },
     "metadata": {},
     "output_type": "display_data"
    }
   ],
   "source": [
    "# Step 1: Define tokenizer\n",
    "tokenizer_type = 'subword'\n",
    "tok_data = get_tokenizer(tokenizer_type=tokenizer_type, max_vocab_size=MAX_VOCAB_SIZE, filters=filters)\n",
    "tokenizer = tok_data[\"tokenizer\"]\n",
    "pad_token_id = tok_data[\"pad_token_id\"]\n",
    "vocab_size = tok_data[\"vocab_size\"]\n",
    "\n",
    "# Fit tokenizer ONLY if it's word-level\n",
    "if tokenizer_type == \"word\":\n",
    "    tokenizer.fit_on_texts(train_texts)\n",
    "    tokenizer.word_index[tokenizer.oov_token] = MAX_VOCAB_SIZE\n",
    "\n",
    "# Get correct collate_fn\n",
    "collate_fn = get_collate_fn(tokenizer=tokenizer, tokenizer_type=tokenizer_type, pad_token_id=pad_token_id, max_len=MAX_LEN)"
   ]
  },
  {
   "cell_type": "code",
   "execution_count": null,
   "id": "656a291c",
   "metadata": {
    "execution": {
     "iopub.execute_input": "2025-03-28T23:28:58.976398Z",
     "iopub.status.busy": "2025-03-28T23:28:58.976035Z",
     "iopub.status.idle": "2025-03-28T23:28:59.052468Z",
     "shell.execute_reply": "2025-03-28T23:28:59.051614Z"
    },
    "papermill": {
     "duration": 0.096584,
     "end_time": "2025-03-28T23:28:59.053913",
     "exception": false,
     "start_time": "2025-03-28T23:28:58.957329",
     "status": "completed"
    },
    "tags": []
   },
   "outputs": [
    {
     "name": "stdout",
     "output_type": "stream",
     "text": [
      "\n",
      "Padded Sequences:\n",
      "tensor([[  101,  1996,  4248,  2829,  4419, 14523,  2058,  1996, 13971,  3899,\n",
      "          1012,   102,     0,     0,     0,     0,     0,     0,     0,     0,\n",
      "             0,     0,     0,     0,     0,     0,     0,     0,     0,     0,\n",
      "             0,     0,     0,     0,     0,     0,     0,     0,     0,     0,\n",
      "             0,     0,     0,     0,     0,     0,     0,     0,     0,     0,\n",
      "             0,     0,     0,     0,     0,     0,     0,     0,     0,     0,\n",
      "             0,     0,     0,     0,     0,     0,     0,     0,     0,     0,\n",
      "             0,     0,     0,     0,     0,     0,     0,     0,     0,     0,\n",
      "             0,     0,     0,     0,     0,     0,     0,     0,     0,     0,\n",
      "             0,     0,     0,     0,     0,     0,     0,     0,     0,     0,\n",
      "             0,     0,     0,     0,     0,     0,     0,     0,     0,     0,\n",
      "             0,     0,     0,     0,     0,     0,     0,     0,     0,     0,\n",
      "             0,     0,     0,     0,     0,     0,     0,     0,     0,     0,\n",
      "             0,     0,     0,     0,     0,     0,     0,     0,     0,     0,\n",
      "             0,     0,     0,     0,     0,     0,     0,     0,     0,     0,\n",
      "             0,     0,     0,     0,     0,     0,     0,     0,     0,     0,\n",
      "             0,     0,     0,     0,     0,     0,     0,     0,     0,     0,\n",
      "             0,     0,     0,     0,     0,     0,     0,     0,     0,     0,\n",
      "             0,     0,     0,     0,     0,     0,     0,     0,     0,     0,\n",
      "             0,     0,     0,     0,     0,     0,     0,     0,     0,     0,\n",
      "             0,     0,     0,     0,     0,     0,     0,     0,     0,     0,\n",
      "             0,     0,     0,     0,     0,     0,     0,     0,     0,     0,\n",
      "             0,     0,     0,     0,     0,     0,     0,     0,     0,     0,\n",
      "             0,     0,     0,     0,     0,     0,     0,     0,     0,     0,\n",
      "             0,     0,     0,     0,     0,     0,     0,     0,     0,     0,\n",
      "             0,     0,     0,     0,     0,     0],\n",
      "        [  101, 14246,  2102,  4275,  2024,  6429,  2005, 11717,  3793,   999,\n",
      "           102,     0,     0,     0,     0,     0,     0,     0,     0,     0,\n",
      "             0,     0,     0,     0,     0,     0,     0,     0,     0,     0,\n",
      "             0,     0,     0,     0,     0,     0,     0,     0,     0,     0,\n",
      "             0,     0,     0,     0,     0,     0,     0,     0,     0,     0,\n",
      "             0,     0,     0,     0,     0,     0,     0,     0,     0,     0,\n",
      "             0,     0,     0,     0,     0,     0,     0,     0,     0,     0,\n",
      "             0,     0,     0,     0,     0,     0,     0,     0,     0,     0,\n",
      "             0,     0,     0,     0,     0,     0,     0,     0,     0,     0,\n",
      "             0,     0,     0,     0,     0,     0,     0,     0,     0,     0,\n",
      "             0,     0,     0,     0,     0,     0,     0,     0,     0,     0,\n",
      "             0,     0,     0,     0,     0,     0,     0,     0,     0,     0,\n",
      "             0,     0,     0,     0,     0,     0,     0,     0,     0,     0,\n",
      "             0,     0,     0,     0,     0,     0,     0,     0,     0,     0,\n",
      "             0,     0,     0,     0,     0,     0,     0,     0,     0,     0,\n",
      "             0,     0,     0,     0,     0,     0,     0,     0,     0,     0,\n",
      "             0,     0,     0,     0,     0,     0,     0,     0,     0,     0,\n",
      "             0,     0,     0,     0,     0,     0,     0,     0,     0,     0,\n",
      "             0,     0,     0,     0,     0,     0,     0,     0,     0,     0,\n",
      "             0,     0,     0,     0,     0,     0,     0,     0,     0,     0,\n",
      "             0,     0,     0,     0,     0,     0,     0,     0,     0,     0,\n",
      "             0,     0,     0,     0,     0,     0,     0,     0,     0,     0,\n",
      "             0,     0,     0,     0,     0,     0,     0,     0,     0,     0,\n",
      "             0,     0,     0,     0,     0,     0,     0,     0,     0,     0,\n",
      "             0,     0,     0,     0,     0,     0,     0,     0,     0,     0,\n",
      "             0,     0,     0,     0,     0,     0],\n",
      "        [  101,  2023,  6251,  2038,  3294,  1035,  4242,  1035,  2616,  1035,\n",
      "          2000,  1035,  3231,  1035,  1051,  4492,   102,     0,     0,     0,\n",
      "             0,     0,     0,     0,     0,     0,     0,     0,     0,     0,\n",
      "             0,     0,     0,     0,     0,     0,     0,     0,     0,     0,\n",
      "             0,     0,     0,     0,     0,     0,     0,     0,     0,     0,\n",
      "             0,     0,     0,     0,     0,     0,     0,     0,     0,     0,\n",
      "             0,     0,     0,     0,     0,     0,     0,     0,     0,     0,\n",
      "             0,     0,     0,     0,     0,     0,     0,     0,     0,     0,\n",
      "             0,     0,     0,     0,     0,     0,     0,     0,     0,     0,\n",
      "             0,     0,     0,     0,     0,     0,     0,     0,     0,     0,\n",
      "             0,     0,     0,     0,     0,     0,     0,     0,     0,     0,\n",
      "             0,     0,     0,     0,     0,     0,     0,     0,     0,     0,\n",
      "             0,     0,     0,     0,     0,     0,     0,     0,     0,     0,\n",
      "             0,     0,     0,     0,     0,     0,     0,     0,     0,     0,\n",
      "             0,     0,     0,     0,     0,     0,     0,     0,     0,     0,\n",
      "             0,     0,     0,     0,     0,     0,     0,     0,     0,     0,\n",
      "             0,     0,     0,     0,     0,     0,     0,     0,     0,     0,\n",
      "             0,     0,     0,     0,     0,     0,     0,     0,     0,     0,\n",
      "             0,     0,     0,     0,     0,     0,     0,     0,     0,     0,\n",
      "             0,     0,     0,     0,     0,     0,     0,     0,     0,     0,\n",
      "             0,     0,     0,     0,     0,     0,     0,     0,     0,     0,\n",
      "             0,     0,     0,     0,     0,     0,     0,     0,     0,     0,\n",
      "             0,     0,     0,     0,     0,     0,     0,     0,     0,     0,\n",
      "             0,     0,     0,     0,     0,     0,     0,     0,     0,     0,\n",
      "             0,     0,     0,     0,     0,     0,     0,     0,     0,     0,\n",
      "             0,     0,     0,     0,     0,     0]])\n"
     ]
    }
   ],
   "source": [
    "test_sentences = [\n",
    "    \"The quick brown fox jumps over the lazy dog.\",\n",
    "    \"GPT models are amazing for generating text!\",\n",
    "    \"This sentence has completely_unknown_words_to_test_OOV\"\n",
    "]\n",
    "\n",
    "if tokenizer_type == \"word\":\n",
    "    sequences = tokenizer.texts_to_sequences(test_sentences)  \n",
    "    padded_sequences = pad_sequences(\n",
    "        sequences,\n",
    "        maxlen=MAX_LEN,\n",
    "        padding='post',\n",
    "        truncating='post',\n",
    "        value=pad_token_id\n",
    "    )\n",
    "\n",
    "else:  # subword\n",
    "    tokenized = tokenizer(\n",
    "        test_sentences,\n",
    "        padding=\"max_length\",\n",
    "        max_length=MAX_LEN,\n",
    "        truncation=True,\n",
    "        return_tensors=\"pt\"\n",
    "    )\n",
    "    padded_sequences = tokenized[\"input_ids\"]\n",
    "\n",
    "print(\"\\nPadded Sequences:\")\n",
    "print(padded_sequences)\n"
   ]
  },
  {
   "cell_type": "code",
   "execution_count": 30,
   "id": "1cc27b62",
   "metadata": {
    "execution": {
     "iopub.execute_input": "2025-03-28T23:28:59.088125Z",
     "iopub.status.busy": "2025-03-28T23:28:59.087859Z",
     "iopub.status.idle": "2025-03-28T23:28:59.097378Z",
     "shell.execute_reply": "2025-03-28T23:28:59.096563Z"
    },
    "papermill": {
     "duration": 0.027961,
     "end_time": "2025-03-28T23:28:59.098699",
     "exception": false,
     "start_time": "2025-03-28T23:28:59.070738",
     "status": "completed"
    },
    "tags": []
   },
   "outputs": [
    {
     "name": "stdout",
     "output_type": "stream",
     "text": [
      "Original Sentences and Tokenization Details:\n",
      "\n",
      "Sentence 1: The quick brown fox jumps over the lazy dog.\n",
      "   Token IDs: [101, 1996, 4248, 2829, 4419, 14523, 2058, 1996, 13971, 3899, 1012, 102, 0, 0, 0, 0, 0, 0, 0, 0]...\n",
      "   Tokens: ['[CLS]', 'the', 'quick', 'brown', 'fox', 'jumps', 'over', 'the', 'lazy', 'dog', '.', '[SEP]', '[PAD]', '[PAD]', '[PAD]', '[PAD]', '[PAD]', '[PAD]', '[PAD]', '[PAD]']\n",
      "------------------------------------------------------------\n",
      "Sentence 2: GPT models are amazing for generating text!\n",
      "   Token IDs: [101, 14246, 2102, 4275, 2024, 6429, 2005, 11717, 3793, 999, 102, 0, 0, 0, 0, 0, 0, 0, 0, 0]...\n",
      "   Tokens: ['[CLS]', 'gp', '##t', 'models', 'are', 'amazing', 'for', 'generating', 'text', '!', '[SEP]', '[PAD]', '[PAD]', '[PAD]', '[PAD]', '[PAD]', '[PAD]', '[PAD]', '[PAD]', '[PAD]']\n",
      "------------------------------------------------------------\n",
      "Sentence 3: This sentence has completely_unknown_words_to_test_OOV\n",
      "   Token IDs: [101, 2023, 6251, 2038, 3294, 1035, 4242, 1035, 2616, 1035, 2000, 1035, 3231, 1035, 1051, 4492, 102, 0, 0, 0]...\n",
      "   Tokens: ['[CLS]', 'this', 'sentence', 'has', 'completely', '_', 'unknown', '_', 'words', '_', 'to', '_', 'test', '_', 'o', '##ov', '[SEP]', '[PAD]', '[PAD]', '[PAD]']\n",
      "------------------------------------------------------------\n"
     ]
    }
   ],
   "source": [
    "print(\"Original Sentences and Tokenization Details:\\n\")\n",
    "\n",
    "for i, sentence in enumerate(test_sentences):\n",
    "    print(f\"Sentence {i+1}: {sentence}\")\n",
    "    \n",
    "    if tokenizer_type == \"word\":\n",
    "        sequence = tokenizer.texts_to_sequences([sentence])[0]\n",
    "        padded = pad_sequences([sequence], maxlen=MAX_LEN, padding='post', truncating='post', value=pad_token_id)[0]\n",
    "        \n",
    "        print(f\"   Token IDs: {sequence}\")\n",
    "        print(f\"   Padded: {padded[:20]}...\")  # Show first 20 tokens\n",
    "        print(f\"   Token Mapping:\")\n",
    "        \n",
    "        inv_vocab = {v: k for k, v in tokenizer.word_index.items()}\n",
    "        for token_id in padded[:20]:\n",
    "            if token_id == pad_token_id:\n",
    "                token = \"<PAD>\"\n",
    "            elif token_id == tokenizer.word_index.get(tokenizer.oov_token):\n",
    "                token = \"<OOV>\"\n",
    "            else:\n",
    "                token = inv_vocab.get(token_id, \"<UNK>\")\n",
    "            print(f\"     {token_id} → {token}\")\n",
    "    \n",
    "    else:  # subword (e.g., GPT2)\n",
    "        encoded = tokenizer(sentence, padding=\"max_length\", max_length=MAX_LEN, truncation=True)\n",
    "        token_ids = encoded[\"input_ids\"]\n",
    "        tokens = tokenizer.convert_ids_to_tokens(token_ids)\n",
    "        \n",
    "        print(f\"   Token IDs: {token_ids[:20]}...\")\n",
    "        print(f\"   Tokens: {tokens[:20]}\")\n",
    "\n",
    "    print(\"-\" * 60)\n"
   ]
  },
  {
   "cell_type": "code",
   "execution_count": 31,
   "id": "aeaada49",
   "metadata": {
    "execution": {
     "iopub.execute_input": "2025-03-28T23:28:59.132660Z",
     "iopub.status.busy": "2025-03-28T23:28:59.132403Z",
     "iopub.status.idle": "2025-03-28T23:28:59.137957Z",
     "shell.execute_reply": "2025-03-28T23:28:59.137171Z"
    },
    "papermill": {
     "duration": 0.023908,
     "end_time": "2025-03-28T23:28:59.139254",
     "exception": false,
     "start_time": "2025-03-28T23:28:59.115346",
     "status": "completed"
    },
    "tags": []
   },
   "outputs": [],
   "source": [
    "class WordLevelDataset(torch.utils.data.Dataset):\n",
    "    def __init__(self, texts, tokenizer, max_len):\n",
    "        sequences = tokenizer.texts_to_sequences(texts)\n",
    "        self.sequences = [torch.tensor(seq[:max_len], dtype=torch.long) for seq in sequences if len(seq) > 1]\n",
    "\n",
    "    def __len__(self):\n",
    "        return len(self.sequences)\n",
    "\n",
    "    def __getitem__(self, idx):\n",
    "        return self.sequences[idx]\n",
    "\n",
    "class SubwordLevelDataset(torch.utils.data.Dataset):\n",
    "    def __init__(self, texts):\n",
    "        self.texts = [text.strip() for text in texts if text.strip()]\n",
    "\n",
    "    def __len__(self):\n",
    "        return len(self.texts)\n",
    "\n",
    "    def __getitem__(self, idx):\n",
    "        return self.texts[idx]\n"
   ]
  },
  {
   "cell_type": "code",
   "execution_count": 32,
   "id": "e3f4ef94",
   "metadata": {
    "execution": {
     "iopub.execute_input": "2025-03-28T23:28:59.173685Z",
     "iopub.status.busy": "2025-03-28T23:28:59.173450Z",
     "iopub.status.idle": "2025-03-28T23:28:59.178614Z",
     "shell.execute_reply": "2025-03-28T23:28:59.177891Z"
    },
    "papermill": {
     "duration": 0.023897,
     "end_time": "2025-03-28T23:28:59.179759",
     "exception": false,
     "start_time": "2025-03-28T23:28:59.155862",
     "status": "completed"
    },
    "tags": []
   },
   "outputs": [
    {
     "data": {
      "text/plain": [
       "['senj no valkyria 3 chronicles japanese 3 , lit . valkyria of the battlefield 3 , commonly referred to as valkyria chronicles iii outside japan , is a tactical role - playing video game developed by sega and media.vision for the playstation portable . released in january 2011 in japan , it is the third game in the valkyria series . employing the same fusion of tactical and real - time gameplay as its predecessors , the story runs parallel to the first game and follows the \" nameless \" , a penal military unit serving the nation of gallia during the second europan war who perform secret black operations and are pitted against the imperial unit \" raven \" .',\n",
       " \"the game began development in 2010 , carrying over a large portion of the work done on valkyria chronicles ii . while it retained the standard features of the series , it also underwent multiple adjustments , such as making the game more forgiving for series newcomers . character designer honjou and composer hitoshi sakimoto both returned from previous entries , along with valkyria chronicles ii director takeshi ozawa . a large team of writers handled the script . the game 's opening theme was sung by may 'n .\",\n",
       " \"it met with positive sales in japan , and was praised by both japanese and western critics . after release , it received downloadable content , along with an expanded edition in november of that year . it was also adapted into manga and an original video animation series . due to low sales of valkyria chronicles ii , valkyria chronicles iii was not localized , but a fan translation compatible with the game 's expanded edition was released in 2014 . media.vision would return to the franchise with the development of valkyria azure revolution for the playstation 4 .\",\n",
       " \"as with previous chronicles games , valkyria chronicles iii is a tactical role - playing game where players take control of a military unit and take part in missions against enemy forces . stories are told through comic book - like panels with animated character portraits , with characters speaking partially through voiced speech bubbles and partially through unvoiced text . the player progresses through a series of linear missions , gradually unlocked as maps that can be freely scanned through and replayed as they are unlocked . the route to each story location on the map varies depending on an individual player 's approach when one option is selected , the other is sealed off to the player . outside missions , the player characters rest in a camp , where units can be customized and character growth occurs . alongside the main story missions are character - specific sub missions relating to different squad members . after the game 's completion , additional episodes are unlocked , some of them having a higher difficulty than those found in the rest of the game . there are also love simulation elements related to the game 's two main heroines , although they take a very minor role .\",\n",
       " \"troops are divided into five classes scouts , , engineers , lancers and armored soldier . troopers can switch classes by changing their assigned weapon . changing class does not greatly affect the stats gained while in a previous class . with victory in battle , experience points are awarded to the squad , which are distributed into five different attributes shared by the entire squad , a feature differing from early games ' method of distributing to different unit types .\"]"
      ]
     },
     "execution_count": 32,
     "metadata": {},
     "output_type": "execute_result"
    }
   ],
   "source": [
    "train_texts[:5]"
   ]
  },
  {
   "cell_type": "code",
   "execution_count": 33,
   "id": "720d5a54",
   "metadata": {
    "execution": {
     "iopub.execute_input": "2025-03-28T23:28:59.215676Z",
     "iopub.status.busy": "2025-03-28T23:28:59.215398Z",
     "iopub.status.idle": "2025-03-28T23:28:59.413594Z",
     "shell.execute_reply": "2025-03-28T23:28:59.412691Z"
    },
    "papermill": {
     "duration": 0.217698,
     "end_time": "2025-03-28T23:28:59.415355",
     "exception": false,
     "start_time": "2025-03-28T23:28:59.197657",
     "status": "completed"
    },
    "tags": []
   },
   "outputs": [],
   "source": [
    "if tokenizer_type == \"word\":\n",
    "    train_dataset = WordLevelDataset(train_texts, tokenizer, MAX_LEN)\n",
    "    val_dataset = WordLevelDataset(val_texts, tokenizer, MAX_LEN)\n",
    "    test_dataset = WordLevelDataset(test_texts, tokenizer, MAX_LEN)\n",
    "else:\n",
    "    train_dataset = SubwordLevelDataset(train_texts)\n",
    "    val_dataset = SubwordLevelDataset(val_texts)\n",
    "    test_dataset = SubwordLevelDataset(test_texts)\n",
    "\n",
    "train_loader = torch.utils.data.DataLoader(train_dataset, batch_size=BATCH_SIZE, shuffle=True, collate_fn=collate_fn)\n",
    "val_loader   = torch.utils.data.DataLoader(val_dataset, batch_size=BATCH_SIZE, shuffle=False, collate_fn=collate_fn)\n",
    "test_loader  = torch.utils.data.DataLoader(test_dataset, batch_size=BATCH_SIZE, shuffle=False, collate_fn=collate_fn)\n"
   ]
  },
  {
   "cell_type": "code",
   "execution_count": 34,
   "id": "2d288190",
   "metadata": {
    "execution": {
     "iopub.execute_input": "2025-03-28T23:28:59.452369Z",
     "iopub.status.busy": "2025-03-28T23:28:59.452049Z",
     "iopub.status.idle": "2025-03-28T23:28:59.774512Z",
     "shell.execute_reply": "2025-03-28T23:28:59.773441Z"
    },
    "papermill": {
     "duration": 0.342522,
     "end_time": "2025-03-28T23:28:59.776172",
     "exception": false,
     "start_time": "2025-03-28T23:28:59.433650",
     "status": "completed"
    },
    "tags": []
   },
   "outputs": [
    {
     "name": "stdout",
     "output_type": "stream",
     "text": [
      "Dataloader Sizes:\n",
      "  Train batches     : 12397\n",
      "  Validation batches: 28\n",
      "  Test batches      : 31\n",
      "\n",
      "Sample batch shapes:\n",
      "  input_ids shape : torch.Size([64, 255])\n",
      "  labels shape    : torch.Size([64, 255])\n"
     ]
    }
   ],
   "source": [
    "print(\"Dataloader Sizes:\")\n",
    "print(f\"  Train batches     : {len(train_loader)}\")\n",
    "print(f\"  Validation batches: {len(val_loader)}\")\n",
    "print(f\"  Test batches      : {len(test_loader)}\\n\")\n",
    "\n",
    "# Check a sample batch shape\n",
    "print(\"Sample batch shapes:\")\n",
    "for batch in train_loader:\n",
    "    print(f\"  input_ids shape : {batch['input_ids'].shape}\")\n",
    "    print(f\"  labels shape    : {batch['labels'].shape}\")\n",
    "    break\n"
   ]
  },
  {
   "cell_type": "code",
   "execution_count": 35,
   "id": "52c79c96",
   "metadata": {
    "execution": {
     "iopub.execute_input": "2025-03-28T23:28:59.812251Z",
     "iopub.status.busy": "2025-03-28T23:28:59.811922Z",
     "iopub.status.idle": "2025-03-28T23:28:59.898671Z",
     "shell.execute_reply": "2025-03-28T23:28:59.897621Z"
    },
    "papermill": {
     "duration": 0.106501,
     "end_time": "2025-03-28T23:28:59.900173",
     "exception": false,
     "start_time": "2025-03-28T23:28:59.793672",
     "status": "completed"
    },
    "tags": []
   },
   "outputs": [
    {
     "name": "stdout",
     "output_type": "stream",
     "text": [
      "input_ids shape: torch.Size([64, 255])\n",
      "labels shape: torch.Size([64, 255])\n",
      "Sample input IDs: tensor([  101,  2951,  2013,  6393,  1010, 18531,  1060,  2497,  1011,  3963,\n",
      "         2755,  7123,  1038,  1011,  3963,  2948,  2817,   102,     0,     0],\n",
      "       device='cuda:0')\n"
     ]
    }
   ],
   "source": [
    "for batch in train_loader:\n",
    "    print(\"input_ids shape:\", batch[\"input_ids\"].shape)\n",
    "    print(\"labels shape:\", batch[\"labels\"].shape)\n",
    "    print(\"Sample input IDs:\", batch[\"input_ids\"][0][:20])\n",
    "    break\n"
   ]
  },
  {
   "cell_type": "markdown",
   "id": "4a19505f",
   "metadata": {
    "papermill": {
     "duration": 0.018509,
     "end_time": "2025-03-28T23:28:59.936217",
     "exception": false,
     "start_time": "2025-03-28T23:28:59.917708",
     "status": "completed"
    },
    "tags": []
   },
   "source": [
    "# Define Transformer Components"
   ]
  },
  {
   "cell_type": "code",
   "execution_count": 36,
   "id": "bb4a5e5c",
   "metadata": {
    "execution": {
     "iopub.execute_input": "2025-03-28T23:28:59.971733Z",
     "iopub.status.busy": "2025-03-28T23:28:59.971443Z",
     "iopub.status.idle": "2025-03-28T23:28:59.975777Z",
     "shell.execute_reply": "2025-03-28T23:28:59.974804Z"
    },
    "papermill": {
     "duration": 0.023702,
     "end_time": "2025-03-28T23:28:59.977209",
     "exception": false,
     "start_time": "2025-03-28T23:28:59.953507",
     "status": "completed"
    },
    "tags": []
   },
   "outputs": [],
   "source": [
    "def generate_causal_mask(seq_len, device):\n",
    "    mask = torch.triu(torch.ones(seq_len, seq_len, device=device), diagonal=1)\n",
    "    mask = mask.masked_fill(mask == 1, float('-inf'))\n",
    "    return mask  # Shape: [T, T]\n"
   ]
  },
  {
   "cell_type": "markdown",
   "id": "dde188a5",
   "metadata": {
    "papermill": {
     "duration": 0.017109,
     "end_time": "2025-03-28T23:29:00.011351",
     "exception": false,
     "start_time": "2025-03-28T23:28:59.994242",
     "status": "completed"
    },
    "tags": []
   },
   "source": [
    "## Positional Encoding"
   ]
  },
  {
   "cell_type": "code",
   "execution_count": null,
   "id": "222da996",
   "metadata": {
    "execution": {
     "iopub.execute_input": "2025-03-28T23:29:00.046315Z",
     "iopub.status.busy": "2025-03-28T23:29:00.045945Z",
     "iopub.status.idle": "2025-03-28T23:29:00.051884Z",
     "shell.execute_reply": "2025-03-28T23:29:00.051143Z"
    },
    "papermill": {
     "duration": 0.025308,
     "end_time": "2025-03-28T23:29:00.053238",
     "exception": false,
     "start_time": "2025-03-28T23:29:00.027930",
     "status": "completed"
    },
    "tags": []
   },
   "outputs": [],
   "source": [
    "class PositionalEncoding(nn.Module):\n",
    "    def __init__(self, d_model, max_len=5000):\n",
    "        super().__init__()\n",
    "        pe = torch.zeros(max_len, d_model)\n",
    "        position = torch.arange(0, max_len).unsqueeze(1).float()\n",
    "        div_term = torch.exp(torch.arange(0, d_model, 2).float() * (-math.log(10000.0) / d_model))\n",
    "\n",
    "        pe[:, 0::2] = torch.sin(position * div_term)  # even\n",
    "        pe[:, 1::2] = torch.cos(position * div_term)  # odd\n",
    "\n",
    "        pe = pe.unsqueeze(0)  # shape: [1, max_len, d_model]\n",
    "        self.register_buffer('pe', pe)\n",
    "\n",
    "    def forward(self, x):\n",
    "        return x + self.pe[:, :x.size(1)]"
   ]
  },
  {
   "cell_type": "markdown",
   "id": "26a962f1",
   "metadata": {
    "papermill": {
     "duration": 0.017439,
     "end_time": "2025-03-28T23:29:00.088471",
     "exception": false,
     "start_time": "2025-03-28T23:29:00.071032",
     "status": "completed"
    },
    "tags": []
   },
   "source": [
    "## Self attention head\n",
    "\n",
    "This is defined but not use yet cause in the multihead attention, i have included the calculation of those things here in there"
   ]
  },
  {
   "cell_type": "code",
   "execution_count": 38,
   "id": "c3e24760",
   "metadata": {
    "execution": {
     "iopub.execute_input": "2025-03-28T23:29:00.124065Z",
     "iopub.status.busy": "2025-03-28T23:29:00.123783Z",
     "iopub.status.idle": "2025-03-28T23:29:00.129879Z",
     "shell.execute_reply": "2025-03-28T23:29:00.128926Z"
    },
    "papermill": {
     "duration": 0.025429,
     "end_time": "2025-03-28T23:29:00.131272",
     "exception": false,
     "start_time": "2025-03-28T23:29:00.105843",
     "status": "completed"
    },
    "tags": []
   },
   "outputs": [],
   "source": [
    "class SelfAttentionHead(nn.Module):\n",
    "    def __init__(self, d_model):\n",
    "        super().__init__()\n",
    "        self.d_model = d_model\n",
    "        self.Q = nn.Linear(d_model, d_model)\n",
    "        self.K = nn.Linear(d_model, d_model)\n",
    "        self.V = nn.Linear(d_model, d_model)\n",
    "\n",
    "    def forward(self, x, attn_mask=None):\n",
    "        # x shape: [B, T, D]\n",
    "        Q = self.Q(x)\n",
    "        K = self.K(x)\n",
    "        V = self.V(x)\n",
    "\n",
    "        scores = torch.matmul(Q, K.transpose(-2, -1)) / math.sqrt(self.d_model)  # [B, T, T]\n",
    "\n",
    "        if attn_mask is not None:\n",
    "            scores = scores.masked_fill(attn_mask == float('-inf'), float('-inf'))\n",
    "\n",
    "        attn_weights = torch.softmax(scores, dim=-1)  # [B, T, T]\n",
    "        out = torch.matmul(attn_weights, V)  # [B, T, D]\n",
    "\n",
    "        return out\n"
   ]
  },
  {
   "cell_type": "markdown",
   "id": "19287fd9",
   "metadata": {
    "papermill": {
     "duration": 0.017402,
     "end_time": "2025-03-28T23:29:00.165896",
     "exception": false,
     "start_time": "2025-03-28T23:29:00.148494",
     "status": "completed"
    },
    "tags": []
   },
   "source": [
    "## MultiHead Attention"
   ]
  },
  {
   "cell_type": "code",
   "execution_count": 39,
   "id": "449680fb",
   "metadata": {
    "execution": {
     "iopub.execute_input": "2025-03-28T23:29:00.200899Z",
     "iopub.status.busy": "2025-03-28T23:29:00.200582Z",
     "iopub.status.idle": "2025-03-28T23:29:00.207935Z",
     "shell.execute_reply": "2025-03-28T23:29:00.207222Z"
    },
    "papermill": {
     "duration": 0.026507,
     "end_time": "2025-03-28T23:29:00.209311",
     "exception": false,
     "start_time": "2025-03-28T23:29:00.182804",
     "status": "completed"
    },
    "tags": []
   },
   "outputs": [],
   "source": [
    "class MultiHeadAttention(nn.Module):\n",
    "    def __init__(self, d_model, num_heads):\n",
    "        super().__init__()\n",
    "        assert d_model % num_heads == 0, \"d_model must be divisible by num_heads\"\n",
    "\n",
    "        self.num_heads = num_heads\n",
    "        self.head_dim = d_model // num_heads\n",
    "\n",
    "        self.Q = nn.Linear(d_model, d_model)\n",
    "        self.K = nn.Linear(d_model, d_model)\n",
    "        self.V = nn.Linear(d_model, d_model)\n",
    "\n",
    "        self.out_proj = nn.Linear(d_model, d_model)\n",
    "\n",
    "    def forward(self, x, attn_mask=None):\n",
    "        B, T, D = x.shape\n",
    "        Q = self.Q(x).view(B, T, self.num_heads, self.head_dim).transpose(1, 2)  # [B, H, T, D/H]\n",
    "        K = self.K(x).view(B, T, self.num_heads, self.head_dim).transpose(1, 2)\n",
    "        V = self.V(x).view(B, T, self.num_heads, self.head_dim).transpose(1, 2)\n",
    "\n",
    "        scores = torch.matmul(Q, K.transpose(-2, -1)) / math.sqrt(self.head_dim)  # [B, H, T, T]\n",
    "        if attn_mask is not None:\n",
    "            scores = scores.masked_fill(attn_mask == float('-inf'), float('-inf'))\n",
    "\n",
    "        attn_weights = torch.softmax(scores, dim=-1)\n",
    "        attn_output = torch.matmul(attn_weights, V)  # [B, H, T, D/H]\n",
    "        out = attn_output.transpose(1, 2).contiguous().view(B, T, D)  # [B, T, D]\n",
    "\n",
    "        return self.out_proj(out)\n"
   ]
  },
  {
   "cell_type": "markdown",
   "id": "bcf84bb0",
   "metadata": {
    "papermill": {
     "duration": 0.017108,
     "end_time": "2025-03-28T23:29:00.243865",
     "exception": false,
     "start_time": "2025-03-28T23:29:00.226757",
     "status": "completed"
    },
    "tags": []
   },
   "source": [
    "## Decoder Block"
   ]
  },
  {
   "cell_type": "code",
   "execution_count": null,
   "id": "91f9f191",
   "metadata": {
    "execution": {
     "iopub.execute_input": "2025-03-28T23:29:00.279512Z",
     "iopub.status.busy": "2025-03-28T23:29:00.279159Z",
     "iopub.status.idle": "2025-03-28T23:29:00.285088Z",
     "shell.execute_reply": "2025-03-28T23:29:00.284303Z"
    },
    "papermill": {
     "duration": 0.025342,
     "end_time": "2025-03-28T23:29:00.286456",
     "exception": false,
     "start_time": "2025-03-28T23:29:00.261114",
     "status": "completed"
    },
    "tags": []
   },
   "outputs": [],
   "source": [
    "class DecoderBlock(nn.Module):\n",
    "    def __init__(self, d_model, num_heads, ff_dim=2048, dropout=0.1):\n",
    "        super().__init__()\n",
    "        self.mha = MultiHeadAttention(d_model, num_heads)\n",
    "        self.attn_norm = nn.LayerNorm(d_model)\n",
    "\n",
    "        self.ff = nn.Sequential(\n",
    "            nn.Linear(d_model, ff_dim),\n",
    "            nn.ReLU(),\n",
    "            nn.Linear(ff_dim, d_model)\n",
    "        )\n",
    "        self.ff_norm = nn.LayerNorm(d_model)\n",
    "        self.dropout = nn.Dropout(dropout)\n",
    "\n",
    "    def forward(self, x, attn_mask=None):\n",
    "        attn_out = self.mha(x, attn_mask)\n",
    "        x = self.attn_norm(x + self.dropout(attn_out))\n",
    "\n",
    "        ff_out = self.ff(x)\n",
    "        x = self.ff_norm(x + self.dropout(ff_out))\n",
    "\n",
    "        return x\n"
   ]
  },
  {
   "cell_type": "markdown",
   "id": "eebefb88",
   "metadata": {
    "papermill": {
     "duration": 0.017116,
     "end_time": "2025-03-28T23:29:00.321005",
     "exception": false,
     "start_time": "2025-03-28T23:29:00.303889",
     "status": "completed"
    },
    "tags": []
   },
   "source": [
    "# Transformer LM"
   ]
  },
  {
   "cell_type": "code",
   "execution_count": 41,
   "id": "a78c7255",
   "metadata": {
    "execution": {
     "iopub.execute_input": "2025-03-28T23:29:00.355537Z",
     "iopub.status.busy": "2025-03-28T23:29:00.355230Z",
     "iopub.status.idle": "2025-03-28T23:29:00.361536Z",
     "shell.execute_reply": "2025-03-28T23:29:00.360668Z"
    },
    "papermill": {
     "duration": 0.025088,
     "end_time": "2025-03-28T23:29:00.362974",
     "exception": false,
     "start_time": "2025-03-28T23:29:00.337886",
     "status": "completed"
    },
    "tags": []
   },
   "outputs": [],
   "source": [
    "class TransformerLM(nn.Module):\n",
    "    def __init__(self, vocab_size, d_model=512, num_heads=8, num_layers=6, ff_dim=2048, dropout=0.1, max_len=512):\n",
    "        super().__init__()\n",
    "        self.token_embedding = nn.Embedding(vocab_size, d_model)\n",
    "        self.pos_encoding = PositionalEncoding(d_model, max_len)\n",
    "        self.layers = nn.ModuleList([\n",
    "            DecoderBlock(d_model, num_heads, ff_dim, dropout)\n",
    "            for _ in range(num_layers)\n",
    "        ])\n",
    "        self.ln = nn.LayerNorm(d_model)\n",
    "        self.output_head = nn.Linear(d_model, vocab_size)\n",
    "\n",
    "    def forward(self, x):\n",
    "        B, T = x.size()\n",
    "        mask = generate_causal_mask(T, x.device)  # [T, T]\n",
    "\n",
    "        x = self.token_embedding(x)\n",
    "        x = self.pos_encoding(x)\n",
    "\n",
    "        for layer in self.layers:\n",
    "            x = layer(x, attn_mask=mask)\n",
    "\n",
    "        x = self.ln(x)\n",
    "        logits = self.output_head(x)  # No softmax!\n",
    "        return logits\n"
   ]
  },
  {
   "cell_type": "markdown",
   "id": "d7b780ae",
   "metadata": {},
   "source": [
    "# Training"
   ]
  },
  {
   "cell_type": "code",
   "execution_count": 42,
   "id": "74a1e62d",
   "metadata": {
    "execution": {
     "iopub.execute_input": "2025-03-28T23:29:00.399385Z",
     "iopub.status.busy": "2025-03-28T23:29:00.399054Z",
     "iopub.status.idle": "2025-03-28T23:29:00.403342Z",
     "shell.execute_reply": "2025-03-28T23:29:00.402586Z"
    },
    "papermill": {
     "duration": 0.024258,
     "end_time": "2025-03-28T23:29:00.404681",
     "exception": false,
     "start_time": "2025-03-28T23:29:00.380423",
     "status": "completed"
    },
    "tags": []
   },
   "outputs": [],
   "source": [
    "D_MODEL = 256\n",
    "NUM_HEADS = 8\n",
    "NUM_LAYERS = 8\n",
    "FF_DIM = 512\n",
    "DROP_OUT = 0.1"
   ]
  },
  {
   "cell_type": "code",
   "execution_count": 43,
   "id": "217f747f",
   "metadata": {
    "execution": {
     "iopub.execute_input": "2025-03-28T23:29:00.442344Z",
     "iopub.status.busy": "2025-03-28T23:29:00.441991Z",
     "iopub.status.idle": "2025-03-28T23:29:00.654906Z",
     "shell.execute_reply": "2025-03-28T23:29:00.653983Z"
    },
    "papermill": {
     "duration": 0.234474,
     "end_time": "2025-03-28T23:29:00.656878",
     "exception": false,
     "start_time": "2025-03-28T23:29:00.422404",
     "status": "completed"
    },
    "tags": []
   },
   "outputs": [],
   "source": [
    "model = TransformerLM(\n",
    "    vocab_size=vocab_size,\n",
    "    d_model=D_MODEL,        # reduce model dimension\n",
    "    num_heads=NUM_HEADS,        # reduce heads (must divide d_model)\n",
    "    num_layers=NUM_LAYERS,       # fewer layers\n",
    "    ff_dim=FF_DIM,         # smaller feedforward network\n",
    "    dropout=DROP_OUT,\n",
    "    max_len=MAX_LEN\n",
    ").to(DEVICE)\n",
    "\n",
    "optimizer = torch.optim.AdamW(model.parameters(), lr=3e-4)\n",
    "loss_fn = nn.CrossEntropyLoss(ignore_index=pad_token_id, reduction='sum')\n",
    "\n",
    "EPOCHS = 8\n"
   ]
  },
  {
   "cell_type": "code",
   "execution_count": 44,
   "id": "2099ae1b",
   "metadata": {
    "execution": {
     "iopub.execute_input": "2025-03-28T23:29:00.693736Z",
     "iopub.status.busy": "2025-03-28T23:29:00.693413Z",
     "iopub.status.idle": "2025-03-28T23:29:00.697528Z",
     "shell.execute_reply": "2025-03-28T23:29:00.696537Z"
    },
    "papermill": {
     "duration": 0.023896,
     "end_time": "2025-03-28T23:29:00.698879",
     "exception": false,
     "start_time": "2025-03-28T23:29:00.674983",
     "status": "completed"
    },
    "tags": []
   },
   "outputs": [],
   "source": [
    "# Fix names\n",
    "transformer_model = model  # Match your model variable name\n",
    "sentences_loader = train_loader  # Fix from your DataLoader definition\n"
   ]
  },
  {
   "cell_type": "code",
   "execution_count": null,
   "id": "e0b43599",
   "metadata": {
    "execution": {
     "iopub.execute_input": "2025-03-28T23:29:00.734731Z",
     "iopub.status.busy": "2025-03-28T23:29:00.734470Z",
     "iopub.status.idle": "2025-03-28T23:29:00.767013Z",
     "shell.execute_reply": "2025-03-28T23:29:00.766282Z"
    },
    "papermill": {
     "duration": 0.051736,
     "end_time": "2025-03-28T23:29:00.768585",
     "exception": false,
     "start_time": "2025-03-28T23:29:00.716849",
     "status": "completed"
    },
    "tags": []
   },
   "outputs": [],
   "source": [
    "\n",
    "\n",
    "total_steps = len(sentences_loader) * EPOCHS\n",
    "warmup_steps = int(0.1 * total_steps)  # 10% warmup\n",
    "\n",
    "scheduler = get_cosine_schedule_with_warmup(\n",
    "    optimizer,\n",
    "    num_warmup_steps=warmup_steps,\n",
    "    num_training_steps=total_steps\n",
    ")\n"
   ]
  },
  {
   "cell_type": "code",
   "execution_count": 46,
   "id": "4fe079ae",
   "metadata": {
    "execution": {
     "iopub.execute_input": "2025-03-28T23:29:00.806055Z",
     "iopub.status.busy": "2025-03-28T23:29:00.805725Z",
     "iopub.status.idle": "2025-03-28T23:29:00.810871Z",
     "shell.execute_reply": "2025-03-28T23:29:00.810125Z"
    },
    "papermill": {
     "duration": 0.025112,
     "end_time": "2025-03-28T23:29:00.812196",
     "exception": false,
     "start_time": "2025-03-28T23:29:00.787084",
     "status": "completed"
    },
    "tags": []
   },
   "outputs": [
    {
     "name": "stdout",
     "output_type": "stream",
     "text": [
      "Our model size: 19.9M parameters\n"
     ]
    }
   ],
   "source": [
    "model_size = sum(t.numel() for t in model.parameters())\n",
    "print(f\"Our model size: {model_size/1000**2:.1f}M parameters\")"
   ]
  },
  {
   "cell_type": "code",
   "execution_count": null,
   "id": "3eb74c67",
   "metadata": {
    "execution": {
     "iopub.execute_input": "2025-03-28T23:29:00.847320Z",
     "iopub.status.busy": "2025-03-28T23:29:00.847002Z",
     "iopub.status.idle": "2025-03-28T23:29:00.850980Z",
     "shell.execute_reply": "2025-03-28T23:29:00.850187Z"
    },
    "papermill": {
     "duration": 0.022739,
     "end_time": "2025-03-28T23:29:00.852406",
     "exception": false,
     "start_time": "2025-03-28T23:29:00.829667",
     "status": "completed"
    },
    "tags": []
   },
   "outputs": [],
   "source": []
  },
  {
   "cell_type": "code",
   "execution_count": 48,
   "id": "25625b64",
   "metadata": {
    "execution": {
     "iopub.execute_input": "2025-03-28T23:29:00.887695Z",
     "iopub.status.busy": "2025-03-28T23:29:00.887404Z",
     "iopub.status.idle": "2025-03-28T23:29:00.894702Z",
     "shell.execute_reply": "2025-03-28T23:29:00.893981Z"
    },
    "papermill": {
     "duration": 0.026534,
     "end_time": "2025-03-28T23:29:00.895986",
     "exception": false,
     "start_time": "2025-03-28T23:29:00.869452",
     "status": "completed"
    },
    "tags": []
   },
   "outputs": [],
   "source": [
    "def get_square_subsequent_mask(seq_len):\n",
    "    mask = (torch.triu(torch.ones(seq_len, seq_len).to(device)) == 1).transpose(0, 1)\n",
    "    mask = mask.float().masked_fill(mask == 0, float('-inf')).masked_fill(mask == 1, float(0.0))\n",
    "    return mask\n",
    "\n",
    "def get_padding_mask(input, val1 = float('-inf'), val2 = float(0.0)):\n",
    "    mask = torch.ones(input.size()).to(device)\n",
    "    mask = mask.float().masked_fill(input == 0, val1).masked_fill(input > 0, val2)\n",
    "    return mask\n",
    "\n",
    "def get_one_hot(x, out_dim, mask):\n",
    "    tens = x.view(-1)\n",
    "    tens_one_hot = torch.zeros(list(tens.size()) + [out_dim]).to(device)\n",
    "    for i in range(len(tens)):\n",
    "        tens_one_hot[i,tens[i]] = 1\n",
    "\n",
    "    tens_one_hot = tens_one_hot.view(list(x.size()) + [out_dim])\n",
    "    tens_one_hot = tens_one_hot * mask.unsqueeze(-1)  # Make mask [B, T, 1] for broadcasting\n",
    "    return tens_one_hot.to(device)"
   ]
  },
  {
   "cell_type": "code",
   "execution_count": null,
   "id": "2fb2f88a",
   "metadata": {
    "execution": {
     "iopub.execute_input": "2025-03-28T23:29:00.933454Z",
     "iopub.status.busy": "2025-03-28T23:29:00.933115Z",
     "iopub.status.idle": "2025-03-28T23:29:00.942753Z",
     "shell.execute_reply": "2025-03-28T23:29:00.942028Z"
    },
    "papermill": {
     "duration": 0.030089,
     "end_time": "2025-03-28T23:29:00.944120",
     "exception": false,
     "start_time": "2025-03-28T23:29:00.914031",
     "status": "completed"
    },
    "tags": []
   },
   "outputs": [],
   "source": [
    "\n",
    "\n",
    "def compute_perplexity(total_loss, total_tokens):\n",
    "    avg_loss_per_token = total_loss / total_tokens\n",
    "    return torch.exp(torch.tensor(avg_loss_per_token)).item()\n",
    "\n",
    "def get_loss_and_masks(src, tgt, model, vocab_size, loss_fn, pad_token_id):\n",
    "    logits = model(src)\n",
    "    if isinstance(logits, tuple):  # Just in case model returns (logits, ...)\n",
    "        logits = logits[0]\n",
    "\n",
    "    # Flatten logits and targets for CrossEntropyLoss\n",
    "    logits = logits.view(-1, vocab_size)      # [B*T, vocab_size]\n",
    "    tgt = tgt.view(-1)                        # [B*T]\n",
    "    \n",
    "    loss = loss_fn(logits, tgt)\n",
    "\n",
    "    # Count non-padding tokens\n",
    "    token_count = (tgt != pad_token_id).sum().item()\n",
    "    return loss, token_count\n",
    "\n",
    "def generate_sentence(model, tokenizer, tokenizer_type, max_len=25, min_len=5):\n",
    "    model.eval()\n",
    "    with torch.no_grad():\n",
    "        if tokenizer_type == \"word\":\n",
    "            start_token_id = tokenizer.word_index.get(\"_START_\", 1)\n",
    "            end_token_id = tokenizer.word_index.get(\"_END_\", 2)\n",
    "            inv_vocab = {v: k for k, v in tokenizer.word_index.items()}\n",
    "        else:  # subword tokenizer like GPT2\n",
    "            # start_token_id = tokenizer.bos_token_id or tokenizer.eos_token_id\n",
    "            # end_token_id = tokenizer.eos_token_id\n",
    "            start_token_id = tokenizer.cls_token_id  # BERT uses [CLS] at the start\n",
    "            end_token_id = tokenizer.sep_token_id    # Use [SEP] to simulate EOS\n",
    "\n",
    "        # Initialize input with [B=1, T=1]\n",
    "        input_ids = torch.tensor([[start_token_id]], dtype=torch.long).to(DEVICE)\n",
    "        generated_ids = []\n",
    "\n",
    "        for _ in range(max_len):\n",
    "            logits = model(input_ids)\n",
    "            if isinstance(logits, tuple):  # if model returns (logits,)\n",
    "                logits = logits[0]\n",
    "\n",
    "            next_token_logits = logits[:, -1, :]  # shape [1, vocab_size]\n",
    "            probs = torch.softmax(next_token_logits, dim=-1).squeeze().cpu().numpy()\n",
    "\n",
    "            # Optional: prevent EOS too early\n",
    "            if len(generated_ids) < min_len:\n",
    "                probs[end_token_id] = 0\n",
    "                probs = probs / probs.sum()\n",
    "\n",
    "            next_token = np.random.choice(len(probs), p=probs)\n",
    "            generated_ids.append(next_token)\n",
    "\n",
    "            # Append to input for next time step\n",
    "            input_ids = torch.cat([input_ids, torch.tensor([[next_token]]).to(DEVICE)], dim=1)\n",
    "\n",
    "            if next_token == end_token_id and len(generated_ids) >= min_len:\n",
    "                break\n",
    "\n",
    "        if tokenizer_type == \"word\":\n",
    "            return ' '.join(inv_vocab.get(idx, \"<UNK>\") for idx in generated_ids)\n",
    "        else:\n",
    "            return tokenizer.decode(generated_ids, skip_special_tokens=True)\n"
   ]
  },
  {
   "cell_type": "code",
   "execution_count": 50,
   "id": "0dd65448",
   "metadata": {
    "execution": {
     "iopub.execute_input": "2025-03-28T23:29:00.979886Z",
     "iopub.status.busy": "2025-03-28T23:29:00.979594Z",
     "iopub.status.idle": "2025-03-28T23:29:00.986802Z",
     "shell.execute_reply": "2025-03-28T23:29:00.986020Z"
    },
    "papermill": {
     "duration": 0.026655,
     "end_time": "2025-03-28T23:29:00.988098",
     "exception": false,
     "start_time": "2025-03-28T23:29:00.961443",
     "status": "completed"
    },
    "tags": []
   },
   "outputs": [],
   "source": [
    "def train_one_epoch(model, loader, num_batches, optimizer, scheduler, vocab_size, device, epoch):\n",
    "    model.train()\n",
    "    total_loss = 0.0\n",
    "    total_tokens = 0.0\n",
    "    total_words = 0\n",
    "\n",
    "    progress = tqdm(loader, total=num_batches, desc=f\"Epoch {epoch + 1}\")\n",
    "\n",
    "    for step, batch in enumerate(progress):\n",
    "        input_ids = batch[\"input_ids\"].to(device)\n",
    "        labels = batch[\"labels\"].to(device)\n",
    "        # loss, token_count = get_loss_and_masks(input_ids, labels, model, vocab_size)\n",
    "        loss, token_count = get_loss_and_masks(input_ids, labels, model, vocab_size, loss_fn, pad_token_id)\n",
    "        \n",
    "        loss.backward()\n",
    "        optimizer.step()\n",
    "        scheduler.step()\n",
    "        optimizer.zero_grad()\n",
    "\n",
    "        total_loss += loss.item()\n",
    "        total_tokens += token_count\n",
    "        total_words += token_count\n",
    "\n",
    "        progress.set_postfix({\n",
    "            \"Loss\": f\"{loss.item() / token_count:.4f}\",\n",
    "            \"LR\": f\"{scheduler.get_last_lr()[0]:.2e}\"\n",
    "        })\n",
    "\n",
    "    return total_loss / total_tokens, compute_perplexity(total_loss, total_tokens)\n",
    "\n",
    "def evaluate_model(model, loader, num_batches, vocab_size, device):\n",
    "    model.eval()\n",
    "    val_loss = 0.0\n",
    "    total_tokens = 0.0\n",
    "\n",
    "    with torch.no_grad():\n",
    "        for batch in tqdm(loader, total=num_batches, desc=\"Validating\"):\n",
    "            input_ids = batch[\"input_ids\"].to(device)\n",
    "            labels = batch[\"labels\"].to(device)\n",
    "            # loss, token_count = get_loss_and_masks(input_ids, labels, model, vocab_size)\n",
    "            loss, token_count = get_loss_and_masks(input_ids, labels, model, vocab_size, loss_fn, pad_token_id)\n",
    "            \n",
    "            val_loss += loss.item()\n",
    "            total_tokens += token_count\n",
    "\n",
    "    return val_loss / total_tokens, compute_perplexity(val_loss, total_tokens)\n",
    "\n"
   ]
  },
  {
   "cell_type": "code",
   "execution_count": 51,
   "id": "683b0590",
   "metadata": {
    "execution": {
     "iopub.execute_input": "2025-03-28T23:29:01.022581Z",
     "iopub.status.busy": "2025-03-28T23:29:01.022105Z",
     "iopub.status.idle": "2025-03-28T23:29:01.026047Z",
     "shell.execute_reply": "2025-03-28T23:29:01.025202Z"
    },
    "papermill": {
     "duration": 0.022625,
     "end_time": "2025-03-28T23:29:01.027385",
     "exception": false,
     "start_time": "2025-03-28T23:29:01.004760",
     "status": "completed"
    },
    "tags": []
   },
   "outputs": [],
   "source": [
    "# Initialize logs\n",
    "losses_per_epoch = []\n",
    "perplexities_per_epoch = []\n",
    "val_losses_per_epoch = []\n",
    "val_perplexities_per_epoch = []\n",
    "best_val_ppl = float(\"inf\")\n"
   ]
  },
  {
   "cell_type": "code",
   "execution_count": 52,
   "id": "f44d2f96",
   "metadata": {
    "execution": {
     "iopub.execute_input": "2025-03-28T23:29:01.061842Z",
     "iopub.status.busy": "2025-03-28T23:29:01.061534Z",
     "iopub.status.idle": "2025-03-28T23:29:01.067518Z",
     "shell.execute_reply": "2025-03-28T23:29:01.066509Z"
    },
    "papermill": {
     "duration": 0.025086,
     "end_time": "2025-03-28T23:29:01.068983",
     "exception": false,
     "start_time": "2025-03-28T23:29:01.043897",
     "status": "completed"
    },
    "tags": []
   },
   "outputs": [
    {
     "name": "stdout",
     "output_type": "stream",
     "text": [
      "📦 Allocated Memory: 76.32 MB\n",
      "📦 Reserved Memory : 78.00 MB\n",
      "|===========================================================================|\n",
      "|                  PyTorch CUDA memory summary, device ID 0                 |\n",
      "|---------------------------------------------------------------------------|\n",
      "|            CUDA OOMs: 0            |        cudaMalloc retries: 0         |\n",
      "|===========================================================================|\n",
      "|        Metric         | Cur Usage  | Peak Usage | Tot Alloc  | Tot Freed  |\n",
      "|---------------------------------------------------------------------------|\n",
      "| Allocated memory      |  78148 KiB |  78148 KiB |  78403 KiB | 261120 B   |\n",
      "|       from large pool |  61044 KiB |  61044 KiB |  61044 KiB |      0 B   |\n",
      "|       from small pool |  17104 KiB |  17104 KiB |  17359 KiB | 261120 B   |\n",
      "|---------------------------------------------------------------------------|\n",
      "| Active memory         |  78148 KiB |  78148 KiB |  78403 KiB | 261120 B   |\n",
      "|       from large pool |  61044 KiB |  61044 KiB |  61044 KiB |      0 B   |\n",
      "|       from small pool |  17104 KiB |  17104 KiB |  17359 KiB | 261120 B   |\n",
      "|---------------------------------------------------------------------------|\n",
      "| Requested memory      |  78148 KiB |  78148 KiB |  78403 KiB | 261120 B   |\n",
      "|       from large pool |  61044 KiB |  61044 KiB |  61044 KiB |      0 B   |\n",
      "|       from small pool |  17104 KiB |  17104 KiB |  17359 KiB | 261120 B   |\n",
      "|---------------------------------------------------------------------------|\n",
      "| GPU reserved memory   |  79872 KiB |  79872 KiB |  79872 KiB |      0 B   |\n",
      "|       from large pool |  61440 KiB |  61440 KiB |  61440 KiB |      0 B   |\n",
      "|       from small pool |  18432 KiB |  18432 KiB |  18432 KiB |      0 B   |\n",
      "|---------------------------------------------------------------------------|\n",
      "| Non-releasable memory |      0 B   |      0 B   |      0 B   |      0 B   |\n",
      "|       from large pool |      0 B   |      0 B   |      0 B   |      0 B   |\n",
      "|       from small pool |      0 B   |      0 B   |      0 B   |      0 B   |\n",
      "|---------------------------------------------------------------------------|\n",
      "| Allocations           |     136    |     136    |     138    |       2    |\n",
      "|       from large pool |       2    |       2    |       2    |       0    |\n",
      "|       from small pool |     134    |     134    |     136    |       2    |\n",
      "|---------------------------------------------------------------------------|\n",
      "| Active allocs         |     136    |     136    |     138    |       2    |\n",
      "|       from large pool |       2    |       2    |       2    |       0    |\n",
      "|       from small pool |     134    |     134    |     136    |       2    |\n",
      "|---------------------------------------------------------------------------|\n",
      "| GPU reserved segments |       0    |       0    |       0    |       0    |\n",
      "|       from large pool |       0    |       0    |       0    |       0    |\n",
      "|       from small pool |       0    |       0    |       0    |       0    |\n",
      "|---------------------------------------------------------------------------|\n",
      "| Non-releasable allocs |       0    |       0    |       0    |       0    |\n",
      "|       from large pool |       0    |       0    |       0    |       0    |\n",
      "|       from small pool |       0    |       0    |       0    |       0    |\n",
      "|---------------------------------------------------------------------------|\n",
      "| Oversize allocations  |       0    |       0    |       0    |       0    |\n",
      "|---------------------------------------------------------------------------|\n",
      "| Oversize GPU segments |       0    |       0    |       0    |       0    |\n",
      "|===========================================================================|\n",
      "\n"
     ]
    }
   ],
   "source": [
    "allocated = torch.cuda.memory_allocated() / 1024 ** 2  # in MB\n",
    "reserved = torch.cuda.memory_reserved() / 1024 ** 2\n",
    "\n",
    "print(f\"📦 Allocated Memory: {allocated:.2f} MB\")\n",
    "print(f\"📦 Reserved Memory : {reserved:.2f} MB\")\n",
    "print(torch.cuda.memory_summary())"
   ]
  },
  {
   "cell_type": "markdown",
   "id": "f88bd3d3",
   "metadata": {},
   "source": [
    "This run after nearly 10 hours, on only 8 epochs and reach the perplexity of 53.16\n",
    "\n",
    "Epoch 1: 100%|██████████| 12397/12397 [1:13:04<00:00,  2.83it/s, Loss=4.7570, LR=2.99e-04]\n",
    "\n",
    "Validating: 100%|██████████| 28/28 [00:03<00:00,  7.58it/s]\n",
    "\n",
    "✅ Epoch 1 Complete in 4388.69s\n",
    "\n",
    "📉 Train Loss: 5.9113 | 🤯 Train Perplexity: 369.17\n",
    "\n",
    "🧪 Val   Loss: 4.7761 | 🤯 Val   Perplexity: 118.64\n",
    "\n",
    "🌟 New best model saved with perplexity: 118.64\n",
    "\n",
    "Epoch 2: 100%|██████████| 12397/12397 [1:12:55<00:00,  2.83it/s, Loss=4.5760, LR=2.80e-04]\n",
    "\n",
    "Validating: 100%|██████████| 28/28 [00:03<00:00,  7.51it/s]\n",
    "\n",
    "✅ Epoch 2 Complete in 4379.63s\n",
    "\n",
    "📉 Train Loss: 4.6465 | 🤯 Train Perplexity: 104.22\n",
    "\n",
    "🧪 Val   Loss: 4.3459 | 🤯 Val   Perplexity: 77.16\n",
    "\n",
    "🌟 New best model saved with perplexity: 77.16\n",
    "\n",
    "Epoch 3: 100%|██████████| 12397/12397 [1:12:59<00:00,  2.83it/s, Loss=4.0663, LR=2.36e-04]\n",
    "\n",
    "Validating: 100%|██████████| 28/28 [00:03<00:00,  7.58it/s]\n",
    "\n",
    "✅ Epoch 3 Complete in 4383.26s\n",
    "\n",
    "📉 Train Loss: 4.3652 | 🤯 Train Perplexity: 78.66\n",
    "\n",
    "🧪 Val   Loss: 4.1824 | 🤯 Val   Perplexity: 65.52\n",
    "\n",
    "🌟 New best model saved with perplexity: 65.52\n",
    "\n",
    "Epoch 4: 100%|██████████| 12397/12397 [1:13:00<00:00,  2.83it/s, Loss=4.3079, LR=1.76e-04]\n",
    "\n",
    "Validating: 100%|██████████| 28/28 [00:03<00:00,  7.38it/s]\n",
    "\n",
    "\n",
    "✅ Epoch 4 Complete in 4384.49s\n",
    "\n",
    "📉 Train Loss: 4.2355 | 🤯 Train Perplexity: 69.10\n",
    "\n",
    "🧪 Val   Loss: 4.0955 | 🤯 Val   Perplexity: 60.07\n",
    "\n",
    "🌟 New best model saved with perplexity: 60.07\n",
    "\n",
    "Epoch 5: 100%|██████████| 12397/12397 [1:13:00<00:00,  2.83it/s, Loss=4.2693, LR=1.11e-04]\n",
    "\n",
    "Validating: 100%|██████████| 28/28 [00:03<00:00,  7.58it/s]\n",
    "\n",
    "✅ Epoch 5 Complete in 4384.13s\n",
    "\n",
    "📉 Train Loss: 4.1524 | 🤯 Train Perplexity: 63.59\n",
    "\n",
    "🧪 Val   Loss: 4.0365 | 🤯 Val   Perplexity: 56.63\n",
    "\n",
    "🌟 New best model saved with perplexity: 56.63\n",
    "\n",
    "Epoch 6: 100%|██████████| 12397/12397 [1:12:53<00:00,  2.83it/s, Loss=4.3069, LR=5.36e-05]\n",
    "\n",
    "Validating: 100%|██████████| 28/28 [00:03<00:00,  7.60it/s]\n",
    "\n",
    "✅ Epoch 6 Complete in 4377.41s\n",
    "\n",
    "📉 Train Loss: 4.0922 | 🤯 Train Perplexity: 59.87\n",
    "\n",
    "🧪 Val   Loss: 3.9991 | 🤯 Val   Perplexity: 54.55\n",
    "\n",
    "🌟 New best model saved with perplexity: 54.55\n",
    "\n",
    "Epoch 7: 100%|██████████| 12397/12397 [1:12:55<00:00,  2.83it/s, Loss=3.9931, LR=1.41e-05]\n",
    "\n",
    "Validating: 100%|██████████| 28/28 [00:03<00:00,  7.47it/s]\n",
    "\n",
    "✅ Epoch 7 Complete in 4379.14s\n",
    "\n",
    "📉 Train Loss: 4.0511 | 🤯 Train Perplexity: 57.46\n",
    "\n",
    "🧪 Val   Loss: 3.9773 | 🤯 Val   Perplexity: 53.37\n",
    "\n",
    "🌟 New best model saved with perplexity: 53.37\n",
    "\n",
    "Epoch 8: 100%|██████████| 12397/12397 [1:13:03<00:00,  2.83it/s, Loss=4.1426, LR=0.00e+00]\n",
    "\n",
    "Validating: 100%|██████████| 28/28 [00:03<00:00,  7.54it/s]\n",
    "\n",
    "✅ Epoch 8 Complete in 4387.63s\n",
    "\n",
    "📉 Train Loss: 4.0294 | 🤯 Train Perplexity: 56.23\n",
    "\n",
    "🧪 Val   Loss: 3.9733 | 🤯 Val   Perplexity: 53.16\n",
    "\n",
    "🌟 New best model saved with perplexity: 53.16"
   ]
  },
  {
   "cell_type": "code",
   "execution_count": 53,
   "id": "2162b286",
   "metadata": {
    "execution": {
     "iopub.execute_input": "2025-03-28T23:29:01.104354Z",
     "iopub.status.busy": "2025-03-28T23:29:01.104024Z",
     "iopub.status.idle": "2025-03-29T09:13:27.050493Z",
     "shell.execute_reply": "2025-03-29T09:13:27.049478Z"
    },
    "papermill": {
     "duration": 35065.965982,
     "end_time": "2025-03-29T09:13:27.051949",
     "exception": false,
     "start_time": "2025-03-28T23:29:01.085967",
     "status": "completed"
    },
    "tags": []
   },
   "outputs": [
    {
     "name": "stderr",
     "output_type": "stream",
     "text": [
      "Epoch 1: 100%|██████████| 12397/12397 [1:13:04<00:00,  2.83it/s, Loss=4.7570, LR=2.99e-04]\n",
      "Validating: 100%|██████████| 28/28 [00:03<00:00,  7.58it/s]\n"
     ]
    },
    {
     "name": "stdout",
     "output_type": "stream",
     "text": [
      "\n",
      "✅ Epoch 1 Complete in 4388.69s\n",
      "📉 Train Loss: 5.9113 | 🤯 Train Perplexity: 369.17\n",
      "🧪 Val   Loss: 4.7761 | 🤯 Val   Perplexity: 118.64\n",
      "🌟 New best model saved with perplexity: 118.64\n"
     ]
    },
    {
     "name": "stderr",
     "output_type": "stream",
     "text": [
      "Epoch 2: 100%|██████████| 12397/12397 [1:12:55<00:00,  2.83it/s, Loss=4.5760, LR=2.80e-04]\n",
      "Validating: 100%|██████████| 28/28 [00:03<00:00,  7.51it/s]\n"
     ]
    },
    {
     "name": "stdout",
     "output_type": "stream",
     "text": [
      "\n",
      "✅ Epoch 2 Complete in 4379.63s\n",
      "📉 Train Loss: 4.6465 | 🤯 Train Perplexity: 104.22\n",
      "🧪 Val   Loss: 4.3459 | 🤯 Val   Perplexity: 77.16\n",
      "🌟 New best model saved with perplexity: 77.16\n"
     ]
    },
    {
     "name": "stderr",
     "output_type": "stream",
     "text": [
      "Epoch 3: 100%|██████████| 12397/12397 [1:12:59<00:00,  2.83it/s, Loss=4.0663, LR=2.36e-04]\n",
      "Validating: 100%|██████████| 28/28 [00:03<00:00,  7.58it/s]\n"
     ]
    },
    {
     "name": "stdout",
     "output_type": "stream",
     "text": [
      "\n",
      "✅ Epoch 3 Complete in 4383.26s\n",
      "📉 Train Loss: 4.3652 | 🤯 Train Perplexity: 78.66\n",
      "🧪 Val   Loss: 4.1824 | 🤯 Val   Perplexity: 65.52\n",
      "🌟 New best model saved with perplexity: 65.52\n"
     ]
    },
    {
     "name": "stderr",
     "output_type": "stream",
     "text": [
      "Epoch 4: 100%|██████████| 12397/12397 [1:13:00<00:00,  2.83it/s, Loss=4.3079, LR=1.76e-04]\n",
      "Validating: 100%|██████████| 28/28 [00:03<00:00,  7.38it/s]\n"
     ]
    },
    {
     "name": "stdout",
     "output_type": "stream",
     "text": [
      "\n",
      "✅ Epoch 4 Complete in 4384.49s\n",
      "📉 Train Loss: 4.2355 | 🤯 Train Perplexity: 69.10\n",
      "🧪 Val   Loss: 4.0955 | 🤯 Val   Perplexity: 60.07\n",
      "🌟 New best model saved with perplexity: 60.07\n"
     ]
    },
    {
     "name": "stderr",
     "output_type": "stream",
     "text": [
      "Epoch 5: 100%|██████████| 12397/12397 [1:13:00<00:00,  2.83it/s, Loss=4.2693, LR=1.11e-04]\n",
      "Validating: 100%|██████████| 28/28 [00:03<00:00,  7.58it/s]\n"
     ]
    },
    {
     "name": "stdout",
     "output_type": "stream",
     "text": [
      "\n",
      "✅ Epoch 5 Complete in 4384.13s\n",
      "📉 Train Loss: 4.1524 | 🤯 Train Perplexity: 63.59\n",
      "🧪 Val   Loss: 4.0365 | 🤯 Val   Perplexity: 56.63\n",
      "🌟 New best model saved with perplexity: 56.63\n"
     ]
    },
    {
     "name": "stderr",
     "output_type": "stream",
     "text": [
      "Epoch 6: 100%|██████████| 12397/12397 [1:12:53<00:00,  2.83it/s, Loss=4.3069, LR=5.36e-05]\n",
      "Validating: 100%|██████████| 28/28 [00:03<00:00,  7.60it/s]\n"
     ]
    },
    {
     "name": "stdout",
     "output_type": "stream",
     "text": [
      "\n",
      "✅ Epoch 6 Complete in 4377.41s\n",
      "📉 Train Loss: 4.0922 | 🤯 Train Perplexity: 59.87\n",
      "🧪 Val   Loss: 3.9991 | 🤯 Val   Perplexity: 54.55\n",
      "🌟 New best model saved with perplexity: 54.55\n"
     ]
    },
    {
     "name": "stderr",
     "output_type": "stream",
     "text": [
      "Epoch 7: 100%|██████████| 12397/12397 [1:12:55<00:00,  2.83it/s, Loss=3.9931, LR=1.41e-05]\n",
      "Validating: 100%|██████████| 28/28 [00:03<00:00,  7.47it/s]\n"
     ]
    },
    {
     "name": "stdout",
     "output_type": "stream",
     "text": [
      "\n",
      "✅ Epoch 7 Complete in 4379.14s\n",
      "📉 Train Loss: 4.0511 | 🤯 Train Perplexity: 57.46\n",
      "🧪 Val   Loss: 3.9773 | 🤯 Val   Perplexity: 53.37\n",
      "🌟 New best model saved with perplexity: 53.37\n"
     ]
    },
    {
     "name": "stderr",
     "output_type": "stream",
     "text": [
      "Epoch 8: 100%|██████████| 12397/12397 [1:13:03<00:00,  2.83it/s, Loss=4.1426, LR=0.00e+00]\n",
      "Validating: 100%|██████████| 28/28 [00:03<00:00,  7.54it/s]\n"
     ]
    },
    {
     "name": "stdout",
     "output_type": "stream",
     "text": [
      "\n",
      "✅ Epoch 8 Complete in 4387.63s\n",
      "📉 Train Loss: 4.0294 | 🤯 Train Perplexity: 56.23\n",
      "🧪 Val   Loss: 3.9733 | 🤯 Val   Perplexity: 53.16\n",
      "🌟 New best model saved with perplexity: 53.16\n"
     ]
    }
   ],
   "source": [
    "train_batches = ceil(1 * len(train_loader))\n",
    "val_batches = ceil(1 * len(val_loader))\n",
    "\n",
    "for epoch in range(EPOCHS):\n",
    "    start = time.time()\n",
    "\n",
    "    train_loss, train_ppl = train_one_epoch(\n",
    "        model=transformer_model,\n",
    "        loader=itertools.islice(train_loader, train_batches),\n",
    "        num_batches=train_batches,  # 👈 Pass this\n",
    "        optimizer=optimizer,\n",
    "        scheduler=scheduler,\n",
    "        vocab_size=vocab_size,\n",
    "        device=DEVICE,\n",
    "        epoch=epoch\n",
    "    )\n",
    "\n",
    "    val_loss, val_ppl = evaluate_model(\n",
    "        model=transformer_model,\n",
    "        loader=itertools.islice(val_loader, val_batches),\n",
    "        num_batches=val_batches,  # 👈 Pass this\n",
    "        vocab_size=vocab_size,\n",
    "        device=DEVICE\n",
    "    )\n",
    "\n",
    "    losses_per_epoch.append(train_loss)\n",
    "    perplexities_per_epoch.append(train_ppl)\n",
    "    val_losses_per_epoch.append(val_loss)\n",
    "    val_perplexities_per_epoch.append(val_ppl)\n",
    "\n",
    "    print(f\"\\n✅ Epoch {epoch + 1} Complete in {time.time() - start:.2f}s\")\n",
    "    print(f\"📉 Train Loss: {train_loss:.4f} | 🤯 Train Perplexity: {train_ppl:.2f}\")\n",
    "    print(f\"🧪 Val   Loss: {val_loss:.4f} | 🤯 Val   Perplexity: {val_ppl:.2f}\")\n",
    "\n",
    "    if val_ppl < best_val_ppl:\n",
    "        best_val_ppl = val_ppl\n",
    "        torch.save(transformer_model.state_dict(), \"best_model.pt\")\n",
    "        print(f\"🌟 New best model saved with perplexity: {val_ppl:.2f}\")\n"
   ]
  },
  {
   "cell_type": "code",
   "execution_count": 54,
   "id": "80e39da7",
   "metadata": {
    "execution": {
     "iopub.execute_input": "2025-03-29T09:13:47.047297Z",
     "iopub.status.busy": "2025-03-29T09:13:47.046966Z",
     "iopub.status.idle": "2025-03-29T09:13:47.052402Z",
     "shell.execute_reply": "2025-03-29T09:13:47.051577Z"
    },
    "papermill": {
     "duration": 10.016317,
     "end_time": "2025-03-29T09:13:47.053678",
     "exception": false,
     "start_time": "2025-03-29T09:13:37.037361",
     "status": "completed"
    },
    "tags": []
   },
   "outputs": [
    {
     "name": "stdout",
     "output_type": "stream",
     "text": [
      "📦 Allocated Memory: 244.20 MB\n",
      "📦 Reserved Memory : 8504.00 MB\n",
      "|===========================================================================|\n",
      "|                  PyTorch CUDA memory summary, device ID 0                 |\n",
      "|---------------------------------------------------------------------------|\n",
      "|            CUDA OOMs: 0            |        cudaMalloc retries: 0         |\n",
      "|===========================================================================|\n",
      "|        Metric         | Cur Usage  | Peak Usage | Tot Alloc  | Tot Freed  |\n",
      "|---------------------------------------------------------------------------|\n",
      "| Allocated memory      | 250063 KiB |   8334 MiB |   2265 TiB |   2265 TiB |\n",
      "|       from large pool | 199772 KiB |   8282 MiB |   2257 TiB |   2257 TiB |\n",
      "|       from small pool |  50291 KiB |     81 MiB |      8 TiB |      8 TiB |\n",
      "|---------------------------------------------------------------------------|\n",
      "| Active memory         | 250063 KiB |   8334 MiB |   2265 TiB |   2265 TiB |\n",
      "|       from large pool | 199772 KiB |   8282 MiB |   2257 TiB |   2257 TiB |\n",
      "|       from small pool |  50291 KiB |     81 MiB |      8 TiB |      8 TiB |\n",
      "|---------------------------------------------------------------------------|\n",
      "| Requested memory      | 250062 KiB |   8334 MiB |   2265 TiB |   2265 TiB |\n",
      "|       from large pool | 199772 KiB |   8282 MiB |   2257 TiB |   2257 TiB |\n",
      "|       from small pool |  50290 KiB |     81 MiB |      8 TiB |      8 TiB |\n",
      "|---------------------------------------------------------------------------|\n",
      "| GPU reserved memory   |   8504 MiB |   8504 MiB |   8504 MiB |      0 B   |\n",
      "|       from large pool |   8420 MiB |   8420 MiB |   8420 MiB |      0 B   |\n",
      "|       from small pool |     84 MiB |     84 MiB |     84 MiB |      0 B   |\n",
      "|---------------------------------------------------------------------------|\n",
      "| Non-releasable memory |      0 B   |      0 B   |      0 B   |      0 B   |\n",
      "|       from large pool |      0 B   |      0 B   |      0 B   |      0 B   |\n",
      "|       from small pool |      0 B   |      0 B   |      0 B   |      0 B   |\n",
      "|---------------------------------------------------------------------------|\n",
      "| Allocations           |     404    |     673    |   85748 K  |   85747 K  |\n",
      "|       from large pool |       8    |     109    |   43476 K  |   43476 K  |\n",
      "|       from small pool |     396    |     661    |   42272 K  |   42271 K  |\n",
      "|---------------------------------------------------------------------------|\n",
      "| Active allocs         |     404    |     673    |   85748 K  |   85747 K  |\n",
      "|       from large pool |       8    |     109    |   43476 K  |   43476 K  |\n",
      "|       from small pool |     396    |     661    |   42272 K  |   42271 K  |\n",
      "|---------------------------------------------------------------------------|\n",
      "| GPU reserved segments |       0    |       0    |       0    |       0    |\n",
      "|       from large pool |       0    |       0    |       0    |       0    |\n",
      "|       from small pool |       0    |       0    |       0    |       0    |\n",
      "|---------------------------------------------------------------------------|\n",
      "| Non-releasable allocs |       0    |       0    |       0    |       0    |\n",
      "|       from large pool |       0    |       0    |       0    |       0    |\n",
      "|       from small pool |       0    |       0    |       0    |       0    |\n",
      "|---------------------------------------------------------------------------|\n",
      "| Oversize allocations  |       0    |       0    |       0    |       0    |\n",
      "|---------------------------------------------------------------------------|\n",
      "| Oversize GPU segments |       0    |       0    |       0    |       0    |\n",
      "|===========================================================================|\n",
      "\n"
     ]
    }
   ],
   "source": [
    "allocated = torch.cuda.memory_allocated() / 1024 ** 2  # in MB\n",
    "reserved = torch.cuda.memory_reserved() / 1024 ** 2\n",
    "\n",
    "print(f\"📦 Allocated Memory: {allocated:.2f} MB\")\n",
    "print(f\"📦 Reserved Memory : {reserved:.2f} MB\")\n",
    "print(torch.cuda.memory_summary())"
   ]
  },
  {
   "cell_type": "code",
   "execution_count": 55,
   "id": "4c3174dc",
   "metadata": {
    "execution": {
     "iopub.execute_input": "2025-03-29T09:14:06.971766Z",
     "iopub.status.busy": "2025-03-29T09:14:06.971448Z",
     "iopub.status.idle": "2025-03-29T09:14:07.683071Z",
     "shell.execute_reply": "2025-03-29T09:14:07.682176Z"
    },
    "papermill": {
     "duration": 11.004435,
     "end_time": "2025-03-29T09:14:07.684804",
     "exception": false,
     "start_time": "2025-03-29T09:13:56.680369",
     "status": "completed"
    },
    "tags": []
   },
   "outputs": [
    {
     "data": {
      "image/png": "[encoded data removed]",
      "text/plain": [
       "<Figure size 1200x500 with 2 Axes>"
      ]
     },
     "metadata": {},
     "output_type": "display_data"
    }
   ],
   "source": [
    "plt.figure(figsize=(12, 5))\n",
    "\n",
    "# Loss Plot\n",
    "plt.subplot(1, 2, 1)\n",
    "plt.plot(losses_per_epoch, label='Train Loss', marker='o')\n",
    "plt.plot(val_losses_per_epoch, label='Val Loss', marker='x')\n",
    "plt.xlabel(\"Epoch\")\n",
    "plt.ylabel(\"Loss\")\n",
    "plt.title(\"Loss over Epochs\")\n",
    "plt.legend()\n",
    "\n",
    "# Perplexity Plot\n",
    "plt.subplot(1, 2, 2)\n",
    "plt.plot(perplexities_per_epoch, label='Train Perplexity', marker='o')\n",
    "plt.plot(val_perplexities_per_epoch, label='Val Perplexity', marker='x')\n",
    "plt.xlabel(\"Epoch\")\n",
    "plt.ylabel(\"Perplexity\")\n",
    "plt.title(\"Perplexity over Epochs\")\n",
    "plt.legend()\n",
    "\n",
    "plt.tight_layout()\n",
    "plt.savefig(\"loss_perplexity_plot.png\")\n",
    "plt.show()"
   ]
  },
  {
   "cell_type": "markdown",
   "id": "7edf0007",
   "metadata": {},
   "source": [
    "The above loss and perplexity over time seems good that the model generalizes well"
   ]
  },
  {
   "cell_type": "code",
   "execution_count": null,
   "id": "b0f64787",
   "metadata": {
    "papermill": {
     "duration": 10.138575,
     "end_time": "2025-03-29T09:14:27.537102",
     "exception": false,
     "start_time": "2025-03-29T09:14:17.398527",
     "status": "completed"
    },
    "tags": []
   },
   "outputs": [],
   "source": []
  },
  {
   "cell_type": "code",
   "execution_count": 56,
   "id": "1dc005bc",
   "metadata": {
    "execution": {
     "iopub.execute_input": "2025-03-29T09:14:47.399585Z",
     "iopub.status.busy": "2025-03-29T09:14:47.399273Z",
     "iopub.status.idle": "2025-03-29T09:14:47.406579Z",
     "shell.execute_reply": "2025-03-29T09:14:47.405840Z"
    },
    "papermill": {
     "duration": 9.937774,
     "end_time": "2025-03-29T09:14:47.407793",
     "exception": false,
     "start_time": "2025-03-29T09:14:37.470019",
     "status": "completed"
    },
    "tags": []
   },
   "outputs": [],
   "source": [
    "def test_model(model, test_loader, num_batches, vocab_size, device,\n",
    "               tokenizer=None, tokenizer_type=\"word\", num_samples_to_store=30):\n",
    "    model.eval()\n",
    "    test_loss = 0.0\n",
    "    total_tokens = 0\n",
    "\n",
    "    results = []\n",
    "\n",
    "    with torch.no_grad():\n",
    "        for batch in tqdm(test_loader, total=num_batches, desc=\"🧪 Testing\"):\n",
    "            input_ids = batch[\"input_ids\"].to(device)\n",
    "            labels = batch[\"labels\"].to(device)\n",
    "\n",
    "            # Compute loss and token count\n",
    "            # loss, token_count = get_loss_and_masks(input_ids, labels, model, vocab_size)\n",
    "            loss, token_count = get_loss_and_masks(input_ids, labels, model, vocab_size, loss_fn, pad_token_id)\n",
    "\n",
    "            test_loss += loss.item()\n",
    "            total_tokens += token_count\n",
    "\n",
    "            # Collect examples for analysis\n",
    "            if len(results) < num_samples_to_store:\n",
    "                for i in range(min(len(input_ids), num_samples_to_store - len(results))):\n",
    "                    input_seq = input_ids[i].tolist()\n",
    "                    label_seq = labels[i].tolist()\n",
    "\n",
    "                    # Decode label (target sentence)\n",
    "                    if tokenizer_type == \"word\":\n",
    "                        inv_vocab = {v: k for k, v in tokenizer.word_index.items()}\n",
    "                        target_text = ' '.join(inv_vocab.get(tok, \"<UNK>\") for tok in label_seq if tok != pad_token_id)\n",
    "                    else:\n",
    "                        target_text = tokenizer.decode(label_seq, skip_special_tokens=True)\n",
    "\n",
    "                    # Generate model prediction\n",
    "                    prediction = generate_sentence(model, tokenizer, tokenizer_type)\n",
    "\n",
    "                    results.append({\n",
    "                        \"ground_truth\": target_text,\n",
    "                        \"prediction\": prediction\n",
    "                    })\n",
    "\n",
    "    print(\"Test loss:\", test_loss)\n",
    "    print(\"Total tokens:\", total_tokens)\n",
    "\n",
    "    test_avg_loss = test_loss / total_tokens\n",
    "    test_ppl = compute_perplexity(test_loss, total_tokens)\n",
    "\n",
    "    return test_avg_loss, test_ppl, results\n"
   ]
  },
  {
   "cell_type": "code",
   "execution_count": 57,
   "id": "ea92bd9f",
   "metadata": {
    "execution": {
     "iopub.execute_input": "2025-03-29T09:15:06.920416Z",
     "iopub.status.busy": "2025-03-29T09:15:06.920039Z",
     "iopub.status.idle": "2025-03-29T09:15:08.494902Z",
     "shell.execute_reply": "2025-03-29T09:15:08.494119Z"
    },
    "papermill": {
     "duration": 11.368798,
     "end_time": "2025-03-29T09:15:08.496188",
     "exception": false,
     "start_time": "2025-03-29T09:14:57.127390",
     "status": "completed"
    },
    "tags": []
   },
   "outputs": [
    {
     "name": "stdout",
     "output_type": "stream",
     "text": [
      "\n",
      "Training Complete! Final Samples:\n",
      "📝 the nsb stopped at the war monuments, from which it had been built. it was so uncomfortable that large crowds were carried\n",
      "📝 another suggestion is to change the lives of samantass and patago. the method is to add the shoots of fairy tales\n",
      "📝 political economist joe harley wenns wrote that films such as the djbooth subplot and pisuds were not currently\n",
      "📝 the castle is built primarily as a regular passenger depot but still carries 15 passengers to passengers. since then, the castle has been\n",
      "📝 for most games skiago silva began the 2014 2005 season, ending in the top of the high playing field, which closed\n",
      "📝 during world war i, between the end of world war ii, the british admiralty brought forward coal to a double junction and the\n",
      "📝 in december, changing circumstances arose as the fall of alexander ' s wife, countess alexander, to whom osman was accused of ru\n",
      "📝 in 2013, huff won reelection to nbc. the republican presidential nominee of condolence commencement, joseph a. richard nixon,,\n",
      "📝 the house is located north of the russian border with the family ' s phoenician communities on the north keep in the\n",
      "📝 several other political feuds with sergio tralk won this match to make the future wwf world heavyweight championship in what was being\n"
     ]
    }
   ],
   "source": [
    "print(\"\\nTraining Complete! Final Samples:\")\n",
    "for _ in range(10):\n",
    "    print(\"📝\", generate_sentence(transformer_model, tokenizer, tokenizer_type))\n"
   ]
  },
  {
   "cell_type": "code",
   "execution_count": 58,
   "id": "8bcb0428",
   "metadata": {
    "execution": {
     "iopub.execute_input": "2025-03-29T09:15:28.616974Z",
     "iopub.status.busy": "2025-03-29T09:15:28.616681Z",
     "iopub.status.idle": "2025-03-29T09:15:28.619831Z",
     "shell.execute_reply": "2025-03-29T09:15:28.619188Z"
    },
    "papermill": {
     "duration": 10.015545,
     "end_time": "2025-03-29T09:15:28.621182",
     "exception": false,
     "start_time": "2025-03-29T09:15:18.605637",
     "status": "completed"
    },
    "tags": []
   },
   "outputs": [],
   "source": [
    "# D_MODEL = 256\n",
    "# NUM_HEADS = 8\n",
    "# NUM_LAYERS = 8\n",
    "# FF_DIM = 512\n",
    "# DROP_OUT = 0.1"
   ]
  },
  {
   "cell_type": "code",
   "execution_count": 59,
   "id": "94a53d45",
   "metadata": {
    "execution": {
     "iopub.execute_input": "2025-03-29T09:15:48.097215Z",
     "iopub.status.busy": "2025-03-29T09:15:48.096878Z",
     "iopub.status.idle": "2025-03-29T09:15:48.334798Z",
     "shell.execute_reply": "2025-03-29T09:15:48.333926Z"
    },
    "papermill": {
     "duration": 9.758924,
     "end_time": "2025-03-29T09:15:48.335994",
     "exception": false,
     "start_time": "2025-03-29T09:15:38.577070",
     "status": "completed"
    },
    "tags": []
   },
   "outputs": [
    {
     "name": "stdout",
     "output_type": "stream",
     "text": [
      "✅ Loaded best model for testing.\n"
     ]
    }
   ],
   "source": [
    "# Load best model for testing\n",
    "best_model = TransformerLM(\n",
    "    vocab_size=vocab_size,\n",
    "    d_model=D_MODEL,\n",
    "    num_heads=NUM_HEADS,\n",
    "    num_layers=NUM_LAYERS,\n",
    "    ff_dim=FF_DIM,\n",
    "    dropout=DROP_OUT,\n",
    "    max_len=MAX_LEN\n",
    ").to(DEVICE)\n",
    "\n",
    "best_model.load_state_dict(torch.load(\"best_model.pt\"))\n",
    "best_model.eval()\n",
    "print(\"✅ Loaded best model for testing.\")\n"
   ]
  },
  {
   "cell_type": "code",
   "execution_count": 60,
   "id": "2a054c05",
   "metadata": {
    "execution": {
     "iopub.execute_input": "2025-03-29T09:16:08.233636Z",
     "iopub.status.busy": "2025-03-29T09:16:08.233327Z",
     "iopub.status.idle": "2025-03-29T09:16:16.868928Z",
     "shell.execute_reply": "2025-03-29T09:16:16.867981Z"
    },
    "papermill": {
     "duration": 18.279436,
     "end_time": "2025-03-29T09:16:16.870418",
     "exception": false,
     "start_time": "2025-03-29T09:15:58.590982",
     "status": "completed"
    },
    "tags": []
   },
   "outputs": [
    {
     "name": "stderr",
     "output_type": "stream",
     "text": [
      "🧪 Testing: 100%|██████████| 31/31 [00:08<00:00,  3.59it/s]"
     ]
    },
    {
     "name": "stdout",
     "output_type": "stream",
     "text": [
      "Test loss: 871970.8515625\n",
      "Total tokens: 218838\n",
      "\n",
      "Final Test Results:\n",
      " Test Loss      : 3.9845\n",
      " Test Perplexity: 53.76\n"
     ]
    },
    {
     "name": "stderr",
     "output_type": "stream",
     "text": [
      "\n"
     ]
    }
   ],
   "source": [
    "test_batches = ceil(1.0 * len(test_loader))  # or just len(test_loader)\n",
    "\n",
    "test_loss, test_ppl, test_results = test_model(\n",
    "    model=best_model,\n",
    "    test_loader=itertools.islice(test_loader, test_batches),\n",
    "    num_batches=test_batches,\n",
    "    vocab_size=vocab_size,\n",
    "    device=DEVICE,\n",
    "    tokenizer=tokenizer,\n",
    "    tokenizer_type=tokenizer_type,\n",
    "    num_samples_to_store=30\n",
    ")\n",
    "\n",
    "print(\"\\nFinal Test Results:\")\n",
    "print(f\" Test Loss      : {test_loss:.4f}\")\n",
    "print(f\" Test Perplexity: {test_ppl:.2f}\")\n"
   ]
  },
  {
   "cell_type": "markdown",
   "id": "8fb8553f",
   "metadata": {},
   "source": [
    "Here is the current benchmark results\n",
    "\n",
    "| Model                                 | Perplexity |\n",
    "|---------------------------------------|------------|\n",
    "| Neural cache model (size = 2,000)     | 40.800     |\n",
    "| GCNN-8                                | 30.0       |\n",
    "| 4 layer QRNN                          | 28.0       |\n",
    "| LSTM (Hebbian, Cache, MbPA)           | 27.0       |\n",
    "| Transformer (Adaptive inputs)         | 18.7       |\n",
    "| kNN-LM w/ Adaptive Coefficient        | 17.1       |\n"
   ]
  },
  {
   "cell_type": "markdown",
   "metadata": {},
   "source": [
    "In those predictions sentences, cause i limit to the generate functions to generate be defaults just a sentence of max length 25 so you could see that they are shorter than the ground truth sentences, but the prediction quite ok i think"
   ]
  },
  {
   "cell_type": "code",
   "execution_count": 61,
   "id": "52deded3",
   "metadata": {
    "execution": {
     "iopub.execute_input": "2025-03-29T09:16:37.052943Z",
     "iopub.status.busy": "2025-03-29T09:16:37.052640Z",
     "iopub.status.idle": "2025-03-29T09:16:37.064074Z",
     "shell.execute_reply": "2025-03-29T09:16:37.063299Z"
    },
    "papermill": {
     "duration": 9.947206,
     "end_time": "2025-03-29T09:16:37.065812",
     "exception": false,
     "start_time": "2025-03-29T09:16:27.118606",
     "status": "completed"
    },
    "tags": []
   },
   "outputs": [
    {
     "name": "stdout",
     "output_type": "stream",
     "text": [
      "\n",
      "📜 Sample Predictions:\n",
      "\n",
      "🟩 Ground Truth 1: robert boulter is an english film, television and theatre actor. he had a guest - starring role on the television series the bill in 2000. this was followed by a starring role in the play herons written by simon stephens, which was performed in 2001 at the royal court theatre. he had a guest role in the television series judge john deed in 2002. in 2004 boulter landed a role as \" craig \" in the episode \" teddy ' s story \" of the television series the long firm ; he starred alongside actors mark strong and derek jacobi. he was cast in the 2005 theatre productions of the philip ridley play mercury fur, which was performed at the drum theatre in plymouth and the chocolate factory in london. he was directed by john tiffany and starred alongside ben whishaw, shane zaza, harry kent, fraser ayres, sophie stanton and dominic hall.\n",
      "🟨 Prediction   1: there were several nine different types in the rodrigues star wars adventure film, an action role directed by brian goodwin. the first\n",
      "\n",
      "🟩 Ground Truth 2: in 2006, boulter starred alongside whishaw in the play citizenship written by mark ravenhill. he appeared on a 2006 episode of the television series, doctors, followed by a role in the 2007 theatre production of how to curse directed by josie rourke. how to curse was performed at bush theatre in the london borough of hammersmith and fulham. boulter starred in two films in 2008, daylight robbery by filmmaker paris, and donkey punch directed by olly blackburn. in may 2008, boulter made a guest appearance on a two - part episode arc of the television series waking the dead, followed by an appearance on the television series survivors in november 2008. he had a recurring role in ten episodes of the television series casualty in 2010, as \" kieron fletcher \". boulter starred in the 2011 film mercenaries directed by paris.\n",
      "🟨 Prediction   2: the proposed freeway was a divided highway that ran m - 53 on open fields road that was first designated in 1926 for interstate 70\n",
      "\n",
      "🟩 Ground Truth 3: in 2000 boulter had a guest - starring role on the television series the bill ; he portrayed \" scott parry \" in the episode, \" in safe hands \". boulter starred as \" scott \" in the play herons written by simon stephens, which was performed in 2001 at the royal court theatre. a review of boulter ' s performance in the independent on sunday described him as \" horribly menacing \" in the role, and he received critical reviews in the herald, and evening standard. he appeared in the television series judge john deed in 2002 as \" armitage \" in the episode \" political \", and had a role as a different character \" toby steele \" on the bill.\n",
      "🟨 Prediction   3: there are nearly 240 undergraduates, of which 81 million of lithuanian education. the hill, baden, six georgian, and georgian\n",
      "\n",
      "🟩 Ground Truth 4: he had a recurring role in 2003 on two episodes of the bill, as character \" connor price \". in 2004 boulter landed a role as \" craig \" in the episode \" teddy ' s story \" of the television series the long firm ; he starred alongside actors mark strong and derek jacobi. boulter starred as \" darren \", in the 2005 theatre productions of the philip ridley play mercury fur. it was performed at the drum theatre in plymouth, and the chocolate factory in london. he was directed by john tiffany and starred alongside ben whishaw, shane zaza, harry kent, fraser ayres, sophie stanton and dominic hall. boulter received a favorable review in the daily telegraph \" the acting is shatteringly intense, with wired performances from ben whishaw now unrecognisable from his performance as trevor nunn ' s hamlet, robert boulter, shane zaza and fraser ayres. \" the guardian noted, \" ben whishaw and robert boulter offer tenderness amid the savagery. \"\n",
      "🟨 Prediction   4: the marriages of alfred v. barber, london smith, is particularly active in charitymaking. it is the most secular aspect of\n",
      "\n",
      "🟩 Ground Truth 5: in 2006 boulter starred in the play citizenship written by mark ravenhill. the play was part of a series which featured different playwrights, titled burn citizenship. in a 2006 interview, fellow actor ben whishaw identified boulter as one of his favorite co - stars \" i loved working with a guy called robert boulter, who was in the triple bill of burn, and citizenship at the national. he played my brother in mercury fur. \" he portrayed \" jason tyler \" on the 2006 episode of the television series, doctors, titled \" something i ate \". boulter starred as \" william \" in the 2007 production of how to curse directed by josie rourke. how to curse was performed at bush theatre in the london borough of hammersmith and fulham. in a review of the production for the daily telegraph, theatre critic charles spencer noted, \" robert boulter brings a touching vulnerability to the stage as william. \"\n",
      "🟨 Prediction   5: in the years before the start of the apartheid campaign, murray was not a firmly attached constituent. the english militia rn l '\n",
      "\n",
      "🟩 Ground Truth 6: boulter starred in two films in 2008, daylight robbery by filmmaker paris, and donkey punch directed by olly blackburn. boulter portrayed a character named \" sean \" in donkey punch, who tags along with character \" josh \" as the \" quiet brother... who hits it off with tammi \". boulter guest starred on a two - part episode arc \" wounds \" in may 2008 of the television series waking the dead as character \" jimmy dearden \". he appeared on the television series survivors as \" neil \" in november 2008. he had a recurring role in ten episodes of the television series casualty in 2010, as \" kieron fletcher \". he portrayed an emergency physician applying for a medical fellowship. he commented on the inherent difficulties in portraying a physician on television \" playing a doctor is a strange experience. pretending you know what you ' re talking about when you don ' t is very bizarre but there are advisers on set who are fantastic at taking you through procedures and giving you the confidence to stand there and look like you know what you ' re doing. \" boulter starred in the 2011 film mercenaries directed by paris.\n",
      "🟨 Prediction   6: another consequence, reported scholars highlight the details of cast, \" rou neh and an antagonism with chac radio\n",
      "\n",
      "🟩 Ground Truth 7: du fu wade giles tu fu ; chinese ; 712 770 was a prominent chinese poet of the tang dynasty. along with li bai li po, he is frequently called the greatest of the chinese poets. his greatest ambition was to serve his country as a successful civil servant, but he proved unable to make the necessary accommodations. his life, like the whole country, was devastated by the an lushan rebellion of 755, and his last 15 years were a time of almost constant unrest.\n",
      "🟨 Prediction   7: the gameplay and gameplay mechanics naoshi and disney are still available online to account for various scenes. in one you have received a\n",
      "\n",
      "🟩 Ground Truth 8: although initially he was little - known to other writers, his works came to be hugely influential in both chinese and japanese literary culture. of his poetic writing, nearly fifteen hundred poems have been preserved over the ages. he has been called the \" poet - historian \" and the \" poet - sage \" by chinese critics, while the range of his work has allowed him to be introduced to western readers as \" the chinese virgil, horace, ovid, shakespeare, milton, burns, wordsworth, branger, hugo or baudelaire \".\n",
      "🟨 Prediction   8: 2006 guide to orchestral programs\n",
      "\n",
      "🟩 Ground Truth 9: traditional chinese literary criticism emphasized the life of the author when interpreting a work, a practice which burton watson attributes to \" the close links that traditional chinese thought posits between art and morality \". since many of du fu ' s poems feature morality and history, this practice is particularly important. another reason, identified by the chinese historian william hung, is that chinese poems are typically concise, omitting context that might be relevant, but which an informed contemporary could be assumed to know. for modern western readers, \" the less accurately we know the time, the place and the circumstances in the background, the more liable we are to imagine it incorrectly, and the result will be that we either misunderstand the poem or fail to understand it altogether \". stephen owen suggests a third factor particular to du fu, arguing that the variety of the poet ' s work required consideration of his whole life, rather than the \" reductive \" categorizations used for more limited poets.\n",
      "🟨 Prediction   9: total belgian resistance and unfreeerentifiable force was more developed, and scientists in france began work thirty large masses in\n",
      "\n",
      "🟩 Ground Truth 10: most of what is known of du fu ' s life comes from his poems. his paternal grandfather was du, a noted politician and poet during the reign of empress wu. du fu was born in 712 ; the exact birthplace is unknown, except that it was near luoyang, henan province gong county is a favourite candidate. in later life, he considered himself to belong to the capital city of chang ' an, ancestral hometown of the du family.\n",
      "🟨 Prediction   10: like dna, pyramides can be found in the cephalopods. the fifth mega - aquatic lemur, almost three\n",
      "\n",
      "🟩 Ground Truth 11: du fu ' s mother died shortly after he was born, and he was partially raised by his aunt. he had an elder brother, who died young. he also had three half brothers and one half sister, to whom he frequently refers in his poems, although he never mentions his stepmother.\n",
      "🟨 Prediction   11: \" hero \" is the same episode first aired on the fox network in the united states on fox channel on april 18, 2011\n",
      "\n",
      "🟩 Ground Truth 12: the son of a minor scholar - official, his youth was spent on the standard education of a future civil servant study and memorisation of the confucian classics of philosophy, history and poetry. he later claimed to have produced creditable poems by his early teens, but these have been lost.\n",
      "🟨 Prediction   12: keith bennett won natalia for the seventh straight time trial at monaco and ensured to compete in the 2014 season to finish third on the\n",
      "\n",
      "🟩 Ground Truth 13: in the early 730s, he travelled in the jiangsu zhejiang area ; his earliest surviving poem, describing a poetry contest, is thought to date from the end of this period, around 735. in that year, he took the civil service exam, likely in chang ' an. he failed, to his surprise and that of centuries of later critics. hung concludes that he probably failed because his prose style at the time was too dense and obscure, while chou suggests his failure to cultivate connections in the capital may have been to blame. after this failure, he went back to traveling, this time around shandong and hebei.\n",
      "🟨 Prediction   13: on december 18, 2006, the cubans were sent from spain to bring an agreement in the disarmament federation emilio ba\n",
      "\n",
      "🟩 Ground Truth 14: his father died around 740. du fu would have been allowed to enter the civil service because of his father ' s rank, but he is thought to have given up the privilege in favour of one of his half brothers. he spent the next four years living in the luoyang area, fulfilling his duties in domestic affairs.\n",
      "🟨 Prediction   14: whereas the name was derived from the ancient greek goddess brautarth, the greek goddess mariscanhaya created the name linga\n",
      "\n",
      "🟩 Ground Truth 15: in the autumn of 744, he met li bai li po for the first time, and the two poets formed a friendship. david young describes this as \" the most significant formative element in du fu ' s artistic development \" because it gave him a living example of the reclusive poet - scholar life to which he was attracted after his failure in the civil service exam. the relationship was somewhat one - sided, however. du fu was by some years the younger, while li bai was already a poetic star. we have twelve poems to or about li bai from the younger poet, but only one in the other direction. they met again only once, in 745.\n",
      "🟨 Prediction   15: on 19 april 2015, it was announced that titana was introduced to titana airport be placed on the main deck pending review\n",
      "\n",
      "🟩 Ground Truth 16: in 746, he moved to the capital in an attempt to resurrect his official career. he took the civil service exam a second time during the following year, but all the candidates were failed by the prime minister apparently in order to prevent the emergence of possible rivals. he never again attempted the examinations, instead petitioning the emperor directly in 751, 754 and probably again in 755. he married around 752, and by 757 the couple had had five children three sons and two daughters but one of the sons died in infancy in 755. from 754 he began to have lung problems probably asthma, the first of a series of ailments which dogged him for the rest of his life. it was in that year that du fu was forced to move his family due to the turmoil of a famine brought about by massive floods in the region.\n",
      "🟨 Prediction   16: morris and nanden noted that not only neffle australians had received from commanders or men, they were much larger than a surgical\n",
      "\n",
      "🟩 Ground Truth 17: in 755, he received an appointment as registrar of the right commandant ' s office of the crown prince ' s palace. although this was a minor post, in normal times it would have been at least the start of an official career. even before he had begun work, however, the position was swept away by events.\n",
      "🟨 Prediction   17: the augustus medal is held at the royal shakespeare festival in october 1896, and known as the gold medal was disqualified with the nomination\n",
      "\n",
      "🟩 Ground Truth 18: the an lushan rebellion began in december 755, and was not completely suppressed for almost eight years. it caused enormous disruption to chinese society the census of 754 recorded 52. 9 million people, but ten years later, the census counted just 16. 9 million, the remainder having been displaced or killed. during this time, du fu led a largely itinerant life unsettled by wars, associated famines and imperial displeasure. this period of unhappiness was the making of du fu as a poet even shan chou has written that, \" what he saw around him the lives of his family, neighbors, and strangers what he heard, and what he hoped for or feared from the progress of various campaigns these became the enduring themes of his poetry \". even when he learned of the death of his youngest child, he turned to the suffering of others in his poetry instead of dwelling upon his own misfortunes. du fu wrote\n",
      "🟨 Prediction   18: teleorologist gabriel de, in 2015, also accounts for thousands of the period of spring inoculation with barrett pointing\n",
      "\n",
      "🟩 Ground Truth 19: brooding on what i have lived through, if even i know such suffering, the common man must surely be rattled by the winds.\n",
      "🟨 Prediction   19: \" continuing into the manor of all kinds besserching like about many, cock warne and leander and doctrinally\n",
      "\n",
      "🟩 Ground Truth 20: in 756, emperor xuanzong was forced to flee the capital and abdicate. du fu, who had been away from the city, took his family to a place of safety and attempted to join the court of the new emperor, but he was captured by the rebels and taken to chang ' an. in the autumn, his youngest son, du baby bear, was born. around this time du fu is thought to have contracted malaria.\n",
      "🟨 Prediction   20: emperor mesmeri was ruled by perpetuates of the representatives in the regency of d3 1685, of which\n",
      "\n",
      "🟩 Ground Truth 21: he escaped from chang ' an the following year, and was appointed reminder when he rejoined the court in may 757. this post gave access to the emperor but was largely ceremonial. du fu ' s conscientiousness compelled him to try to make use of it he caused trouble for himself by protesting the removal of his friend and patron fang guan on a petty charge. he was arrested but was pardoned in june. he was granted leave to visit his family in september, but he soon rejoined the court and on december 8, 757, he returned to chang ' an with the emperor following its recapture by government forces. however, his advice continued to be unappreciated, and in the summer of 758 he was demoted to a post as commissioner of education in. the position was not to his taste in one poem, he wrote\n",
      "🟨 Prediction   21: the only construction officials were executed by the confederates. these forts were placed under these terms, or laid street shields were constructed for\n",
      "\n",
      "🟩 Ground Truth 22: i am about to scream madly in the office especially when they bring more papers to pile higher on my desk.\n",
      "🟨 Prediction   22: the hurricane combined with cloudiness, including stage 7, to the north and west to the northwest into the middle of the storm\n",
      "\n",
      "🟩 Ground Truth 23: he moved on in the summer of 759 ; this has traditionally been ascribed to famine, but hung believes that frustration is a more likely reason. he next spent around six weeks in now tianshui, gansu province, where he wrote more than sixty poems.\n",
      "🟨 Prediction   23: the pozigeti spores are cylindrical and soft. their spore - framed skin texture is so spore that they are\n",
      "\n",
      "🟩 Ground Truth 24: in december 759, he briefly stayed in modern gansu. he departed on december 24 for chengdu sichuan province, where he was hosted by local prefect and fellow poet pei di. du subsequently based himself in sichuan for most of the next five years. by the autumn of that year he was in financial trouble, and sent poems begging help to various acquaintances. he was relieved by yan wu, a friend and former colleague who was appointed governor general at chengdu. despite his financial problems, this was one of the happiest and most peaceful periods of his life. many of du ' s poems from this period are peaceful depictions of his life at \" thatched hut \". in 762, he left the city to escape a rebellion, but he returned in summer 764 when he was appointed an advisor to yan, who was involved in campaigns against the tibetan empire.\n",
      "🟨 Prediction   24: the museum ' s research was carried out either as a classroom and director of equii merehouser, during his two\n",
      "\n",
      "🟩 Ground Truth 25: luoyang, the region of his birthplace, was recovered by government forces in the winter of 762, and in the spring of 765 du fu and his family sailed down the yangtze, apparently with the intention of making their way there. they traveled slowly, held up by his ill - health by this time he was suffering from poor eyesight, deafness and general old age in addition to his previous ailments. they stayed in in what is now, chongqing at the entrance to the three gorges for almost two years from late spring 766. this period was du fu ' s last great poetic flowering, and here he wrote 400 poems in his dense, late style. in autumn 766, bo became governor of the region he supported du fu financially and employed him as his unofficial secretary.\n",
      "🟨 Prediction   25: wendland participated in medium - sized explosives and shells during his stay in egyptian hands. in the following eighteen days morgan relied\n",
      "\n",
      "🟩 Ground Truth 26: in march 768, he began his journey again and got as far as hunan province, where he died in now changsha in november or december 770, in his 58th year. he was survived by his wife and two sons, who remained in the area for some years at least. his last known descendant is a grandson who requested a grave inscription for the poet from yuan zhen in 813.\n",
      "🟨 Prediction   26: in systems of the odis clubs won gold and gold ; or with the golden globes athletic association, the dukes did not\n",
      "\n",
      "🟩 Ground Truth 27: hung summarises his life by concluding that, \" he appeared to be a filial son, an affectionate father, a generous brother, a faithful husband, a loyal friend, a dutiful official, and a patriotic subject. \"\n",
      "🟨 Prediction   27: one of the contractors deployed in dubai was a canadian co - headed story from his first public harbour. by focusing on this film\n",
      "\n",
      "🟩 Ground Truth 28: below is an example of one of du fu ' s later works, to my retired friend wei chinese. like many other poems in the tang it featured the theme of a long parting between friends, which was often due to officials being frequently transferred to the provinces\n",
      "🟨 Prediction   28: the summit became clear, and the summit trail was opposite. netouk into the snake river allowed ridge to link up through the\n",
      "\n",
      "🟩 Ground Truth 29: criticism of du fu ' s works has focused on his strong sense of history, his moral engagement, and his technical excellence.\n",
      "🟨 Prediction   29: in 2002 the boston stars described offers of four types of colour, purple, brown, orange, and purple at elevations and outdoors\n",
      "\n",
      "🟩 Ground Truth 30: since the song dynasty, critics have called du fu the \" poet historian \". the most directly historical of his poems are those commenting on military tactics or the successes and failures of the government, or the poems of advice which he wrote to the emperor. indirectly, he wrote about the effect of the times in which he lived on himself, and on the ordinary people of china. as watson notes, this is information \" of a kind seldom found in the officially compiled histories of the era \".\n",
      "🟨 Prediction   30: minnesota ' s donkey kong is the third largest commercial airliner, by the 301, 737 - mile 420 km diamond alliance.\n"
     ]
    }
   ],
   "source": [
    "# Optional: Print stored samples\n",
    "print(\"\\n📜 Sample Predictions:\")\n",
    "for i, sample in enumerate(test_results):\n",
    "    print(f\"\\n🟩 Ground Truth {i+1}: {sample['ground_truth']}\")\n",
    "    print(f\"🟨 Prediction   {i+1}: {sample['prediction']}\")\n"
   ]
  },
  {
   "cell_type": "code",
   "execution_count": null,
   "id": "b18ea177",
   "metadata": {
    "papermill": {
     "duration": 10.209325,
     "end_time": "2025-03-29T09:16:56.855114",
     "exception": false,
     "start_time": "2025-03-29T09:16:46.645789",
     "status": "completed"
    },
    "tags": []
   },
   "outputs": [],
   "source": []
  },
  {
   "cell_type": "code",
   "execution_count": null,
   "id": "5d0b09a0",
   "metadata": {
    "papermill": {
     "duration": 10.044725,
     "end_time": "2025-03-29T09:17:16.528713",
     "exception": false,
     "start_time": "2025-03-29T09:17:06.483988",
     "status": "completed"
    },
    "tags": []
   },
   "outputs": [],
   "source": []
  }
 ],
 "metadata": {
  "kaggle": {
   "accelerator": "gpu",
   "dataSources": [],
   "dockerImageVersionId": 30919,
   "isGpuEnabled": true,
   "isInternetEnabled": true,
   "language": "python",
   "sourceType": "notebook"
  },
  "kernelspec": {
   "display_name": "ml_env_test",
   "language": "python",
   "name": "python3"
  },
  "language_info": {
   "codemirror_mode": {
    "name": "ipython",
    "version": 3
   },
   "file_extension": ".py",
   "mimetype": "text/x-python",
   "name": "python",
   "nbconvert_exporter": "python",
   "pygments_lexer": "ipython3",
   "version": "3.12.9"
  },
  "papermill": {
   "default_parameters": {},
   "duration": 35544.044124,
   "end_time": "2025-03-29T09:17:29.513939",
   "environment_variables": {},
   "exception": null,
   "input_path": "__notebook__.ipynb",
   "output_path": "__notebook__.ipynb",
   "parameters": {},
   "start_time": "2025-03-28T23:25:05.469815",
   "version": "2.6.0"
  },
  "widgets": {
   "application/vnd.jupyter.widget-state+json": {
    "state": {
     "02ff369344a3427589cded57d3995352": {
      "model_module": "@jupyter-widgets/controls",
      "model_module_version": "2.0.0",
      "model_name": "ProgressStyleModel",
      "state": {
       "_model_module": "@jupyter-widgets/controls",
       "_model_module_version": "2.0.0",
       "_model_name": "ProgressStyleModel",
       "_view_count": null,
       "_view_module": "@jupyter-widgets/base",
       "_view_module_version": "2.0.0",
       "_view_name": "StyleView",
       "bar_color": null,
       "description_width": ""
      }
     },
     "041356ea67d84d0fa9f5cae1d7f9a454": {
      "model_module": "@jupyter-widgets/controls",
      "model_module_version": "2.0.0",
      "model_name": "HTMLModel",
      "state": {
       "_dom_classes": [],
       "_model_module": "@jupyter-widgets/controls",
       "_model_module_version": "2.0.0",
       "_model_name": "HTMLModel",
       "_view_count": null,
       "_view_module": "@jupyter-widgets/controls",
       "_view_module_version": "2.0.0",
       "_view_name": "HTMLView",
       "description": "",
       "description_allow_html": false,
       "layout": "IPY_MODEL_8f817d1709bc40f6bd2eabd0577aabc3",
       "placeholder": "​",
       "style": "IPY_MODEL_a6f2892caf2f4e898def829c361f21f3",
       "tabbable": null,
       "tooltip": null,
       "value": " 10.5k/10.5k [00:00&lt;00:00, 959kB/s]"
      }
     },
     "04584be900ca41f1bee0e0076c8b13e6": {
      "model_module": "@jupyter-widgets/base",
      "model_module_version": "2.0.0",
      "model_name": "LayoutModel",
      "state": {
       "_model_module": "@jupyter-widgets/base",
       "_model_module_version": "2.0.0",
       "_model_name": "LayoutModel",
       "_view_count": null,
       "_view_module": "@jupyter-widgets/base",
       "_view_module_version": "2.0.0",
       "_view_name": "LayoutView",
       "align_content": null,
       "align_items": null,
       "align_self": null,
       "border_bottom": null,
       "border_left": null,
       "border_right": null,
       "border_top": null,
       "bottom": null,
       "display": null,
       "flex": null,
       "flex_flow": null,
       "grid_area": null,
       "grid_auto_columns": null,
       "grid_auto_flow": null,
       "grid_auto_rows": null,
       "grid_column": null,
       "grid_gap": null,
       "grid_row": null,
       "grid_template_areas": null,
       "grid_template_columns": null,
       "grid_template_rows": null,
       "height": null,
       "justify_content": null,
       "justify_items": null,
       "left": null,
       "margin": null,
       "max_height": null,
       "max_width": null,
       "min_height": null,
       "min_width": null,
       "object_fit": null,
       "object_position": null,
       "order": null,
       "overflow": null,
       "padding": null,
       "right": null,
       "top": null,
       "visibility": null,
       "width": null
      }
     },
     "061110392cb7426f954b0f6a9ddb7a47": {
      "model_module": "@jupyter-widgets/controls",
      "model_module_version": "2.0.0",
      "model_name": "HTMLModel",
      "state": {
       "_dom_classes": [],
       "_model_module": "@jupyter-widgets/controls",
       "_model_module_version": "2.0.0",
       "_model_name": "HTMLModel",
       "_view_count": null,
       "_view_module": "@jupyter-widgets/controls",
       "_view_module_version": "2.0.0",
       "_view_name": "HTMLView",
       "description": "",
       "description_allow_html": false,
       "layout": "IPY_MODEL_63f524c41e56460aac8154cc12b6a655",
       "placeholder": "​",
       "style": "IPY_MODEL_ab3d2392b6ad441991d34a3e38af6182",
       "tabbable": null,
       "tooltip": null,
       "value": "validation-00000-of-00001.parquet: 100%"
      }
     },
     "066c811d757b4041ab0850c35921e91b": {
      "model_module": "@jupyter-widgets/base",
      "model_module_version": "2.0.0",
      "model_name": "LayoutModel",
      "state": {
       "_model_module": "@jupyter-widgets/base",
       "_model_module_version": "2.0.0",
       "_model_name": "LayoutModel",
       "_view_count": null,
       "_view_module": "@jupyter-widgets/base",
       "_view_module_version": "2.0.0",
       "_view_name": "LayoutView",
       "align_content": null,
       "align_items": null,
       "align_self": null,
       "border_bottom": null,
       "border_left": null,
       "border_right": null,
       "border_top": null,
       "bottom": null,
       "display": null,
       "flex": null,
       "flex_flow": null,
       "grid_area": null,
       "grid_auto_columns": null,
       "grid_auto_flow": null,
       "grid_auto_rows": null,
       "grid_column": null,
       "grid_gap": null,
       "grid_row": null,
       "grid_template_areas": null,
       "grid_template_columns": null,
       "grid_template_rows": null,
       "height": null,
       "justify_content": null,
       "justify_items": null,
       "left": null,
       "margin": null,
       "max_height": null,
       "max_width": null,
       "min_height": null,
       "min_width": null,
       "object_fit": null,
       "object_position": null,
       "order": null,
       "overflow": null,
       "padding": null,
       "right": null,
       "top": null,
       "visibility": null,
       "width": null
      }
     },
     "0692dd249ebd4d5cb950cef79e07ec5c": {
      "model_module": "@jupyter-widgets/controls",
      "model_module_version": "2.0.0",
      "model_name": "FloatProgressModel",
      "state": {
       "_dom_classes": [],
       "_model_module": "@jupyter-widgets/controls",
       "_model_module_version": "2.0.0",
       "_model_name": "FloatProgressModel",
       "_view_count": null,
       "_view_module": "@jupyter-widgets/controls",
       "_view_module_version": "2.0.0",
       "_view_name": "ProgressView",
       "bar_style": "success",
       "description": "",
       "description_allow_html": false,
       "layout": "IPY_MODEL_34ee6395830a457b9a7064b6779f1de3",
       "max": 1801350,
       "min": 0,
       "orientation": "horizontal",
       "style": "IPY_MODEL_1c50b84449ad4b79b072d899ad203655",
       "tabbable": null,
       "tooltip": null,
       "value": 1801350
      }
     },
     "0741a51d592a45b0b5e7892be2dfc2a3": {
      "model_module": "@jupyter-widgets/base",
      "model_module_version": "2.0.0",
      "model_name": "LayoutModel",
      "state": {
       "_model_module": "@jupyter-widgets/base",
       "_model_module_version": "2.0.0",
       "_model_name": "LayoutModel",
       "_view_count": null,
       "_view_module": "@jupyter-widgets/base",
       "_view_module_version": "2.0.0",
       "_view_name": "LayoutView",
       "align_content": null,
       "align_items": null,
       "align_self": null,
       "border_bottom": null,
       "border_left": null,
       "border_right": null,
       "border_top": null,
       "bottom": null,
       "display": null,
       "flex": null,
       "flex_flow": null,
       "grid_area": null,
       "grid_auto_columns": null,
       "grid_auto_flow": null,
       "grid_auto_rows": null,
       "grid_column": null,
       "grid_gap": null,
       "grid_row": null,
       "grid_template_areas": null,
       "grid_template_columns": null,
       "grid_template_rows": null,
       "height": null,
       "justify_content": null,
       "justify_items": null,
       "left": null,
       "margin": null,
       "max_height": null,
       "max_width": null,
       "min_height": null,
       "min_width": null,
       "object_fit": null,
       "object_position": null,
       "order": null,
       "overflow": null,
       "padding": null,
       "right": null,
       "top": null,
       "visibility": null,
       "width": null
      }
     },
     "08c9299c50b7468c81ff59eb222548ed": {
      "model_module": "@jupyter-widgets/base",
      "model_module_version": "2.0.0",
      "model_name": "LayoutModel",
      "state": {
       "_model_module": "@jupyter-widgets/base",
       "_model_module_version": "2.0.0",
       "_model_name": "LayoutModel",
       "_view_count": null,
       "_view_module": "@jupyter-widgets/base",
       "_view_module_version": "2.0.0",
       "_view_name": "LayoutView",
       "align_content": null,
       "align_items": null,
       "align_self": null,
       "border_bottom": null,
       "border_left": null,
       "border_right": null,
       "border_top": null,
       "bottom": null,
       "display": null,
       "flex": null,
       "flex_flow": null,
       "grid_area": null,
       "grid_auto_columns": null,
       "grid_auto_flow": null,
       "grid_auto_rows": null,
       "grid_column": null,
       "grid_gap": null,
       "grid_row": null,
       "grid_template_areas": null,
       "grid_template_columns": null,
       "grid_template_rows": null,
       "height": null,
       "justify_content": null,
       "justify_items": null,
       "left": null,
       "margin": null,
       "max_height": null,
       "max_width": null,
       "min_height": null,
       "min_width": null,
       "object_fit": null,
       "object_position": null,
       "order": null,
       "overflow": null,
       "padding": null,
       "right": null,
       "top": null,
       "visibility": null,
       "width": null
      }
     },
     "0992dd6a577e46c2b7ea71816d61f942": {
      "model_module": "@jupyter-widgets/controls",
      "model_module_version": "2.0.0",
      "model_name": "FloatProgressModel",
      "state": {
       "_dom_classes": [],
       "_model_module": "@jupyter-widgets/controls",
       "_model_module_version": "2.0.0",
       "_model_name": "FloatProgressModel",
       "_view_count": null,
       "_view_module": "@jupyter-widgets/controls",
       "_view_module_version": "2.0.0",
       "_view_name": "ProgressView",
       "bar_style": "success",
       "description": "",
       "description_allow_html": false,
       "layout": "IPY_MODEL_502b382e66374bce95789826d8bb307b",
       "max": 4358,
       "min": 0,
       "orientation": "horizontal",
       "style": "IPY_MODEL_b99cea983c194a67a2a23e0ff4f3346f",
       "tabbable": null,
       "tooltip": null,
       "value": 4358
      }
     },
     "0af3364fa14047a59f770d131ff28abd": {
      "model_module": "@jupyter-widgets/controls",
      "model_module_version": "2.0.0",
      "model_name": "HTMLModel",
      "state": {
       "_dom_classes": [],
       "_model_module": "@jupyter-widgets/controls",
       "_model_module_version": "2.0.0",
       "_model_name": "HTMLModel",
       "_view_count": null,
       "_view_module": "@jupyter-widgets/controls",
       "_view_module_version": "2.0.0",
       "_view_name": "HTMLView",
       "description": "",
       "description_allow_html": false,
       "layout": "IPY_MODEL_de96c8fe91d241cda276874235ee8554",
       "placeholder": "​",
       "style": "IPY_MODEL_1c1ee9b49d6e4e3193133938fdbcd6b7",
       "tabbable": null,
       "tooltip": null,
       "value": " 4358/4358 [00:00&lt;00:00, 70840.28 examples/s]"
      }
     },
     "0b0bea6ec6df47fdb9699df3c3df39fa": {
      "model_module": "@jupyter-widgets/base",
      "model_module_version": "2.0.0",
      "model_name": "LayoutModel",
      "state": {
       "_model_module": "@jupyter-widgets/base",
       "_model_module_version": "2.0.0",
       "_model_name": "LayoutModel",
       "_view_count": null,
       "_view_module": "@jupyter-widgets/base",
       "_view_module_version": "2.0.0",
       "_view_name": "LayoutView",
       "align_content": null,
       "align_items": null,
       "align_self": null,
       "border_bottom": null,
       "border_left": null,
       "border_right": null,
       "border_top": null,
       "bottom": null,
       "display": null,
       "flex": null,
       "flex_flow": null,
       "grid_area": null,
       "grid_auto_columns": null,
       "grid_auto_flow": null,
       "grid_auto_rows": null,
       "grid_column": null,
       "grid_gap": null,
       "grid_row": null,
       "grid_template_areas": null,
       "grid_template_columns": null,
       "grid_template_rows": null,
       "height": null,
       "justify_content": null,
       "justify_items": null,
       "left": null,
       "margin": null,
       "max_height": null,
       "max_width": null,
       "min_height": null,
       "min_width": null,
       "object_fit": null,
       "object_position": null,
       "order": null,
       "overflow": null,
       "padding": null,
       "right": null,
       "top": null,
       "visibility": null,
       "width": null
      }
     },
     "0e6a29e878684876836967576ee29016": {
      "model_module": "@jupyter-widgets/controls",
      "model_module_version": "2.0.0",
      "model_name": "HBoxModel",
      "state": {
       "_dom_classes": [],
       "_model_module": "@jupyter-widgets/controls",
       "_model_module_version": "2.0.0",
       "_model_name": "HBoxModel",
       "_view_count": null,
       "_view_module": "@jupyter-widgets/controls",
       "_view_module_version": "2.0.0",
       "_view_name": "HBoxView",
       "box_style": "",
       "children": [
        "IPY_MODEL_473ad7858f5047e4ae37b4a95d940217",
        "IPY_MODEL_0692dd249ebd4d5cb950cef79e07ec5c",
        "IPY_MODEL_92aa74f6f6ba4a00bae9ea9696b7c4db"
       ],
       "layout": "IPY_MODEL_066c811d757b4041ab0850c35921e91b",
       "tabbable": null,
       "tooltip": null
      }
     },
     "11774caa198f4bbaacbf260c5c25f9cc": {
      "model_module": "@jupyter-widgets/controls",
      "model_module_version": "2.0.0",
      "model_name": "HTMLStyleModel",
      "state": {
       "_model_module": "@jupyter-widgets/controls",
       "_model_module_version": "2.0.0",
       "_model_name": "HTMLStyleModel",
       "_view_count": null,
       "_view_module": "@jupyter-widgets/base",
       "_view_module_version": "2.0.0",
       "_view_name": "StyleView",
       "background": null,
       "description_width": "",
       "font_size": null,
       "text_color": null
      }
     },
     "11a37416a6d14311b23df41958465116": {
      "model_module": "@jupyter-widgets/controls",
      "model_module_version": "2.0.0",
      "model_name": "HTMLModel",
      "state": {
       "_dom_classes": [],
       "_model_module": "@jupyter-widgets/controls",
       "_model_module_version": "2.0.0",
       "_model_name": "HTMLModel",
       "_view_count": null,
       "_view_module": "@jupyter-widgets/controls",
       "_view_module_version": "2.0.0",
       "_view_name": "HTMLView",
       "description": "",
       "description_allow_html": false,
       "layout": "IPY_MODEL_6696b5d3880648428f6818b347f6a535",
       "placeholder": "​",
       "style": "IPY_MODEL_1cb0009422ea429c932cc082593a283f",
       "tabbable": null,
       "tooltip": null,
       "value": " 655k/655k [00:00&lt;00:00, 52.7MB/s]"
      }
     },
     "1312de4571d44fd7b9f9b354d5a56f98": {
      "model_module": "@jupyter-widgets/controls",
      "model_module_version": "2.0.0",
      "model_name": "FloatProgressModel",
      "state": {
       "_dom_classes": [],
       "_model_module": "@jupyter-widgets/controls",
       "_model_module_version": "2.0.0",
       "_model_name": "FloatProgressModel",
       "_view_count": null,
       "_view_module": "@jupyter-widgets/controls",
       "_view_module_version": "2.0.0",
       "_view_name": "ProgressView",
       "bar_style": "success",
       "description": "",
       "description_allow_html": false,
       "layout": "IPY_MODEL_7cf19db827f441008226f35cc331e691",
       "max": 155788327,
       "min": 0,
       "orientation": "horizontal",
       "style": "IPY_MODEL_8d6e0ad520a1443aa6101d5b2e8c627b",
       "tabbable": null,
       "tooltip": null,
       "value": 155788327
      }
     },
     "13db73b945554653a3bafbb83bdcdd15": {
      "model_module": "@jupyter-widgets/controls",
      "model_module_version": "2.0.0",
      "model_name": "HTMLStyleModel",
      "state": {
       "_model_module": "@jupyter-widgets/controls",
       "_model_module_version": "2.0.0",
       "_model_name": "HTMLStyleModel",
       "_view_count": null,
       "_view_module": "@jupyter-widgets/base",
       "_view_module_version": "2.0.0",
       "_view_name": "StyleView",
       "background": null,
       "description_width": "",
       "font_size": null,
       "text_color": null
      }
     },
     "1463164d9297427ab09b6bc03d4c2aa4": {
      "model_module": "@jupyter-widgets/base",
      "model_module_version": "2.0.0",
      "model_name": "LayoutModel",
      "state": {
       "_model_module": "@jupyter-widgets/base",
       "_model_module_version": "2.0.0",
       "_model_name": "LayoutModel",
       "_view_count": null,
       "_view_module": "@jupyter-widgets/base",
       "_view_module_version": "2.0.0",
       "_view_name": "LayoutView",
       "align_content": null,
       "align_items": null,
       "align_self": null,
       "border_bottom": null,
       "border_left": null,
       "border_right": null,
       "border_top": null,
       "bottom": null,
       "display": null,
       "flex": null,
       "flex_flow": null,
       "grid_area": null,
       "grid_auto_columns": null,
       "grid_auto_flow": null,
       "grid_auto_rows": null,
       "grid_column": null,
       "grid_gap": null,
       "grid_row": null,
       "grid_template_areas": null,
       "grid_template_columns": null,
       "grid_template_rows": null,
       "height": null,
       "justify_content": null,
       "justify_items": null,
       "left": null,
       "margin": null,
       "max_height": null,
       "max_width": null,
       "min_height": null,
       "min_width": null,
       "object_fit": null,
       "object_position": null,
       "order": null,
       "overflow": null,
       "padding": null,
       "right": null,
       "top": null,
       "visibility": null,
       "width": null
      }
     },
     "15ea17fdf5dd48028479d593de8f05d2": {
      "model_module": "@jupyter-widgets/controls",
      "model_module_version": "2.0.0",
      "model_name": "HTMLStyleModel",
      "state": {
       "_model_module": "@jupyter-widgets/controls",
       "_model_module_version": "2.0.0",
       "_model_name": "HTMLStyleModel",
       "_view_count": null,
       "_view_module": "@jupyter-widgets/base",
       "_view_module_version": "2.0.0",
       "_view_name": "StyleView",
       "background": null,
       "description_width": "",
       "font_size": null,
       "text_color": null
      }
     },
     "1c1ee9b49d6e4e3193133938fdbcd6b7": {
      "model_module": "@jupyter-widgets/controls",
      "model_module_version": "2.0.0",
      "model_name": "HTMLStyleModel",
      "state": {
       "_model_module": "@jupyter-widgets/controls",
       "_model_module_version": "2.0.0",
       "_model_name": "HTMLStyleModel",
       "_view_count": null,
       "_view_module": "@jupyter-widgets/base",
       "_view_module_version": "2.0.0",
       "_view_name": "StyleView",
       "background": null,
       "description_width": "",
       "font_size": null,
       "text_color": null
      }
     },
     "1c50b84449ad4b79b072d899ad203655": {
      "model_module": "@jupyter-widgets/controls",
      "model_module_version": "2.0.0",
      "model_name": "ProgressStyleModel",
      "state": {
       "_model_module": "@jupyter-widgets/controls",
       "_model_module_version": "2.0.0",
       "_model_name": "ProgressStyleModel",
       "_view_count": null,
       "_view_module": "@jupyter-widgets/base",
       "_view_module_version": "2.0.0",
       "_view_name": "StyleView",
       "bar_color": null,
       "description_width": ""
      }
     },
     "1c6e152788414dd5b7124f82e12c7ec8": {
      "model_module": "@jupyter-widgets/controls",
      "model_module_version": "2.0.0",
      "model_name": "HTMLStyleModel",
      "state": {
       "_model_module": "@jupyter-widgets/controls",
       "_model_module_version": "2.0.0",
       "_model_name": "HTMLStyleModel",
       "_view_count": null,
       "_view_module": "@jupyter-widgets/base",
       "_view_module_version": "2.0.0",
       "_view_name": "StyleView",
       "background": null,
       "description_width": "",
       "font_size": null,
       "text_color": null
      }
     },
     "1cb0009422ea429c932cc082593a283f": {
      "model_module": "@jupyter-widgets/controls",
      "model_module_version": "2.0.0",
      "model_name": "HTMLStyleModel",
      "state": {
       "_model_module": "@jupyter-widgets/controls",
       "_model_module_version": "2.0.0",
       "_model_name": "HTMLStyleModel",
       "_view_count": null,
       "_view_module": "@jupyter-widgets/base",
       "_view_module_version": "2.0.0",
       "_view_name": "StyleView",
       "background": null,
       "description_width": "",
       "font_size": null,
       "text_color": null
      }
     },
     "201a279d938143859d09efe711b3d340": {
      "model_module": "@jupyter-widgets/base",
      "model_module_version": "2.0.0",
      "model_name": "LayoutModel",
      "state": {
       "_model_module": "@jupyter-widgets/base",
       "_model_module_version": "2.0.0",
       "_model_name": "LayoutModel",
       "_view_count": null,
       "_view_module": "@jupyter-widgets/base",
       "_view_module_version": "2.0.0",
       "_view_name": "LayoutView",
       "align_content": null,
       "align_items": null,
       "align_self": null,
       "border_bottom": null,
       "border_left": null,
       "border_right": null,
       "border_top": null,
       "bottom": null,
       "display": null,
       "flex": null,
       "flex_flow": null,
       "grid_area": null,
       "grid_auto_columns": null,
       "grid_auto_flow": null,
       "grid_auto_rows": null,
       "grid_column": null,
       "grid_gap": null,
       "grid_row": null,
       "grid_template_areas": null,
       "grid_template_columns": null,
       "grid_template_rows": null,
       "height": null,
       "justify_content": null,
       "justify_items": null,
       "left": null,
       "margin": null,
       "max_height": null,
       "max_width": null,
       "min_height": null,
       "min_width": null,
       "object_fit": null,
       "object_position": null,
       "order": null,
       "overflow": null,
       "padding": null,
       "right": null,
       "top": null,
       "visibility": null,
       "width": null
      }
     },
     "21dd10f75880482e93f95bd94c981e45": {
      "model_module": "@jupyter-widgets/base",
      "model_module_version": "2.0.0",
      "model_name": "LayoutModel",
      "state": {
       "_model_module": "@jupyter-widgets/base",
       "_model_module_version": "2.0.0",
       "_model_name": "LayoutModel",
       "_view_count": null,
       "_view_module": "@jupyter-widgets/base",
       "_view_module_version": "2.0.0",
       "_view_name": "LayoutView",
       "align_content": null,
       "align_items": null,
       "align_self": null,
       "border_bottom": null,
       "border_left": null,
       "border_right": null,
       "border_top": null,
       "bottom": null,
       "display": null,
       "flex": null,
       "flex_flow": null,
       "grid_area": null,
       "grid_auto_columns": null,
       "grid_auto_flow": null,
       "grid_auto_rows": null,
       "grid_column": null,
       "grid_gap": null,
       "grid_row": null,
       "grid_template_areas": null,
       "grid_template_columns": null,
       "grid_template_rows": null,
       "height": null,
       "justify_content": null,
       "justify_items": null,
       "left": null,
       "margin": null,
       "max_height": null,
       "max_width": null,
       "min_height": null,
       "min_width": null,
       "object_fit": null,
       "object_position": null,
       "order": null,
       "overflow": null,
       "padding": null,
       "right": null,
       "top": null,
       "visibility": null,
       "width": null
      }
     },
     "261444c3c5bb48bfa9bcf60c67c426c7": {
      "model_module": "@jupyter-widgets/controls",
      "model_module_version": "2.0.0",
      "model_name": "HTMLModel",
      "state": {
       "_dom_classes": [],
       "_model_module": "@jupyter-widgets/controls",
       "_model_module_version": "2.0.0",
       "_model_name": "HTMLModel",
       "_view_count": null,
       "_view_module": "@jupyter-widgets/controls",
       "_view_module_version": "2.0.0",
       "_view_name": "HTMLView",
       "description": "",
       "description_allow_html": false,
       "layout": "IPY_MODEL_949c5fa949af426a942cb20472e3048d",
       "placeholder": "​",
       "style": "IPY_MODEL_11774caa198f4bbaacbf260c5c25f9cc",
       "tabbable": null,
       "tooltip": null,
       "value": "Generating test split: 100%"
      }
     },
     "29f0940e909b4ecc8faaf7c6ebe268fa": {
      "model_module": "@jupyter-widgets/base",
      "model_module_version": "2.0.0",
      "model_name": "LayoutModel",
      "state": {
       "_model_module": "@jupyter-widgets/base",
       "_model_module_version": "2.0.0",
       "_model_name": "LayoutModel",
       "_view_count": null,
       "_view_module": "@jupyter-widgets/base",
       "_view_module_version": "2.0.0",
       "_view_name": "LayoutView",
       "align_content": null,
       "align_items": null,
       "align_self": null,
       "border_bottom": null,
       "border_left": null,
       "border_right": null,
       "border_top": null,
       "bottom": null,
       "display": null,
       "flex": null,
       "flex_flow": null,
       "grid_area": null,
       "grid_auto_columns": null,
       "grid_auto_flow": null,
       "grid_auto_rows": null,
       "grid_column": null,
       "grid_gap": null,
       "grid_row": null,
       "grid_template_areas": null,
       "grid_template_columns": null,
       "grid_template_rows": null,
       "height": null,
       "justify_content": null,
       "justify_items": null,
       "left": null,
       "margin": null,
       "max_height": null,
       "max_width": null,
       "min_height": null,
       "min_width": null,
       "object_fit": null,
       "object_position": null,
       "order": null,
       "overflow": null,
       "padding": null,
       "right": null,
       "top": null,
       "visibility": null,
       "width": null
      }
     },
     "2d7efb3f519b454b90094a619daa89c5": {
      "model_module": "@jupyter-widgets/base",
      "model_module_version": "2.0.0",
      "model_name": "LayoutModel",
      "state": {
       "_model_module": "@jupyter-widgets/base",
       "_model_module_version": "2.0.0",
       "_model_name": "LayoutModel",
       "_view_count": null,
       "_view_module": "@jupyter-widgets/base",
       "_view_module_version": "2.0.0",
       "_view_name": "LayoutView",
       "align_content": null,
       "align_items": null,
       "align_self": null,
       "border_bottom": null,
       "border_left": null,
       "border_right": null,
       "border_top": null,
       "bottom": null,
       "display": null,
       "flex": null,
       "flex_flow": null,
       "grid_area": null,
       "grid_auto_columns": null,
       "grid_auto_flow": null,
       "grid_auto_rows": null,
       "grid_column": null,
       "grid_gap": null,
       "grid_row": null,
       "grid_template_areas": null,
       "grid_template_columns": null,
       "grid_template_rows": null,
       "height": null,
       "justify_content": null,
       "justify_items": null,
       "left": null,
       "margin": null,
       "max_height": null,
       "max_width": null,
       "min_height": null,
       "min_width": null,
       "object_fit": null,
       "object_position": null,
       "order": null,
       "overflow": null,
       "padding": null,
       "right": null,
       "top": null,
       "visibility": null,
       "width": null
      }
     },
     "2d84f469b71a464baa305617664e773a": {
      "model_module": "@jupyter-widgets/base",
      "model_module_version": "2.0.0",
      "model_name": "LayoutModel",
      "state": {
       "_model_module": "@jupyter-widgets/base",
       "_model_module_version": "2.0.0",
       "_model_name": "LayoutModel",
       "_view_count": null,
       "_view_module": "@jupyter-widgets/base",
       "_view_module_version": "2.0.0",
       "_view_name": "LayoutView",
       "align_content": null,
       "align_items": null,
       "align_self": null,
       "border_bottom": null,
       "border_left": null,
       "border_right": null,
       "border_top": null,
       "bottom": null,
       "display": null,
       "flex": null,
       "flex_flow": null,
       "grid_area": null,
       "grid_auto_columns": null,
       "grid_auto_flow": null,
       "grid_auto_rows": null,
       "grid_column": null,
       "grid_gap": null,
       "grid_row": null,
       "grid_template_areas": null,
       "grid_template_columns": null,
       "grid_template_rows": null,
       "height": null,
       "justify_content": null,
       "justify_items": null,
       "left": null,
       "margin": null,
       "max_height": null,
       "max_width": null,
       "min_height": null,
       "min_width": null,
       "object_fit": null,
       "object_position": null,
       "order": null,
       "overflow": null,
       "padding": null,
       "right": null,
       "top": null,
       "visibility": null,
       "width": null
      }
     },
     "2e121d3d650d49be9755ada73c993801": {
      "model_module": "@jupyter-widgets/controls",
      "model_module_version": "2.0.0",
      "model_name": "HTMLStyleModel",
      "state": {
       "_model_module": "@jupyter-widgets/controls",
       "_model_module_version": "2.0.0",
       "_model_name": "HTMLStyleModel",
       "_view_count": null,
       "_view_module": "@jupyter-widgets/base",
       "_view_module_version": "2.0.0",
       "_view_name": "StyleView",
       "background": null,
       "description_width": "",
       "font_size": null,
       "text_color": null
      }
     },
     "2fa92809baa7498ca09362b055d4eacb": {
      "model_module": "@jupyter-widgets/base",
      "model_module_version": "2.0.0",
      "model_name": "LayoutModel",
      "state": {
       "_model_module": "@jupyter-widgets/base",
       "_model_module_version": "2.0.0",
       "_model_name": "LayoutModel",
       "_view_count": null,
       "_view_module": "@jupyter-widgets/base",
       "_view_module_version": "2.0.0",
       "_view_name": "LayoutView",
       "align_content": null,
       "align_items": null,
       "align_self": null,
       "border_bottom": null,
       "border_left": null,
       "border_right": null,
       "border_top": null,
       "bottom": null,
       "display": null,
       "flex": null,
       "flex_flow": null,
       "grid_area": null,
       "grid_auto_columns": null,
       "grid_auto_flow": null,
       "grid_auto_rows": null,
       "grid_column": null,
       "grid_gap": null,
       "grid_row": null,
       "grid_template_areas": null,
       "grid_template_columns": null,
       "grid_template_rows": null,
       "height": null,
       "justify_content": null,
       "justify_items": null,
       "left": null,
       "margin": null,
       "max_height": null,
       "max_width": null,
       "min_height": null,
       "min_width": null,
       "object_fit": null,
       "object_position": null,
       "order": null,
       "overflow": null,
       "padding": null,
       "right": null,
       "top": null,
       "visibility": null,
       "width": null
      }
     },
     "2fc5f8e44a1940d8bf8085b40a836ac7": {
      "model_module": "@jupyter-widgets/controls",
      "model_module_version": "2.0.0",
      "model_name": "HTMLModel",
      "state": {
       "_dom_classes": [],
       "_model_module": "@jupyter-widgets/controls",
       "_model_module_version": "2.0.0",
       "_model_name": "HTMLModel",
       "_view_count": null,
       "_view_module": "@jupyter-widgets/controls",
       "_view_module_version": "2.0.0",
       "_view_name": "HTMLView",
       "description": "",
       "description_allow_html": false,
       "layout": "IPY_MODEL_b1d3234dafe84294a2d2ece1294f0ae6",
       "placeholder": "​",
       "style": "IPY_MODEL_8cb377bbef264c469650ad75cdc83547",
       "tabbable": null,
       "tooltip": null,
       "value": " 570/570 [00:00&lt;00:00, 55.8kB/s]"
      }
     },
     "339ce37390d4407f80abec7c555c509a": {
      "model_module": "@jupyter-widgets/controls",
      "model_module_version": "2.0.0",
      "model_name": "HTMLModel",
      "state": {
       "_dom_classes": [],
       "_model_module": "@jupyter-widgets/controls",
       "_model_module_version": "2.0.0",
       "_model_name": "HTMLModel",
       "_view_count": null,
       "_view_module": "@jupyter-widgets/controls",
       "_view_module_version": "2.0.0",
       "_view_name": "HTMLView",
       "description": "",
       "description_allow_html": false,
       "layout": "IPY_MODEL_b44d2e779e2841d1bc0799aa1e7d3582",
       "placeholder": "​",
       "style": "IPY_MODEL_2e121d3d650d49be9755ada73c993801",
       "tabbable": null,
       "tooltip": null,
       "value": "test-00000-of-00001.parquet: 100%"
      }
     },
     "34ee6395830a457b9a7064b6779f1de3": {
      "model_module": "@jupyter-widgets/base",
      "model_module_version": "2.0.0",
      "model_name": "LayoutModel",
      "state": {
       "_model_module": "@jupyter-widgets/base",
       "_model_module_version": "2.0.0",
       "_model_name": "LayoutModel",
       "_view_count": null,
       "_view_module": "@jupyter-widgets/base",
       "_view_module_version": "2.0.0",
       "_view_name": "LayoutView",
       "align_content": null,
       "align_items": null,
       "align_self": null,
       "border_bottom": null,
       "border_left": null,
       "border_right": null,
       "border_top": null,
       "bottom": null,
       "display": null,
       "flex": null,
       "flex_flow": null,
       "grid_area": null,
       "grid_auto_columns": null,
       "grid_auto_flow": null,
       "grid_auto_rows": null,
       "grid_column": null,
       "grid_gap": null,
       "grid_row": null,
       "grid_template_areas": null,
       "grid_template_columns": null,
       "grid_template_rows": null,
       "height": null,
       "justify_content": null,
       "justify_items": null,
       "left": null,
       "margin": null,
       "max_height": null,
       "max_width": null,
       "min_height": null,
       "min_width": null,
       "object_fit": null,
       "object_position": null,
       "order": null,
       "overflow": null,
       "padding": null,
       "right": null,
       "top": null,
       "visibility": null,
       "width": null
      }
     },
     "3b66b275442644b0b1c157fa05c43e60": {
      "model_module": "@jupyter-widgets/controls",
      "model_module_version": "2.0.0",
      "model_name": "FloatProgressModel",
      "state": {
       "_dom_classes": [],
       "_model_module": "@jupyter-widgets/controls",
       "_model_module_version": "2.0.0",
       "_model_name": "FloatProgressModel",
       "_view_count": null,
       "_view_module": "@jupyter-widgets/controls",
       "_view_module_version": "2.0.0",
       "_view_name": "ProgressView",
       "bar_style": "success",
       "description": "",
       "description_allow_html": false,
       "layout": "IPY_MODEL_f917c571f29048b5a0c1630aab09d745",
       "max": 48,
       "min": 0,
       "orientation": "horizontal",
       "style": "IPY_MODEL_84fb83fe57fd4753a248f734f6724ea6",
       "tabbable": null,
       "tooltip": null,
       "value": 48
      }
     },
     "4027b77a9a8d46018e76dd51ffe2a9d6": {
      "model_module": "@jupyter-widgets/base",
      "model_module_version": "2.0.0",
      "model_name": "LayoutModel",
      "state": {
       "_model_module": "@jupyter-widgets/base",
       "_model_module_version": "2.0.0",
       "_model_name": "LayoutModel",
       "_view_count": null,
       "_view_module": "@jupyter-widgets/base",
       "_view_module_version": "2.0.0",
       "_view_name": "LayoutView",
       "align_content": null,
       "align_items": null,
       "align_self": null,
       "border_bottom": null,
       "border_left": null,
       "border_right": null,
       "border_top": null,
       "bottom": null,
       "display": null,
       "flex": null,
       "flex_flow": null,
       "grid_area": null,
       "grid_auto_columns": null,
       "grid_auto_flow": null,
       "grid_auto_rows": null,
       "grid_column": null,
       "grid_gap": null,
       "grid_row": null,
       "grid_template_areas": null,
       "grid_template_columns": null,
       "grid_template_rows": null,
       "height": null,
       "justify_content": null,
       "justify_items": null,
       "left": null,
       "margin": null,
       "max_height": null,
       "max_width": null,
       "min_height": null,
       "min_width": null,
       "object_fit": null,
       "object_position": null,
       "order": null,
       "overflow": null,
       "padding": null,
       "right": null,
       "top": null,
       "visibility": null,
       "width": null
      }
     },
     "449ded2dcbd4411b81705a4129b67792": {
      "model_module": "@jupyter-widgets/controls",
      "model_module_version": "2.0.0",
      "model_name": "HTMLStyleModel",
      "state": {
       "_model_module": "@jupyter-widgets/controls",
       "_model_module_version": "2.0.0",
       "_model_name": "HTMLStyleModel",
       "_view_count": null,
       "_view_module": "@jupyter-widgets/base",
       "_view_module_version": "2.0.0",
       "_view_name": "StyleView",
       "background": null,
       "description_width": "",
       "font_size": null,
       "text_color": null
      }
     },
     "44d926a0e7a14704b8ebc4f01c491340": {
      "model_module": "@jupyter-widgets/controls",
      "model_module_version": "2.0.0",
      "model_name": "HTMLModel",
      "state": {
       "_dom_classes": [],
       "_model_module": "@jupyter-widgets/controls",
       "_model_module_version": "2.0.0",
       "_model_name": "HTMLModel",
       "_view_count": null,
       "_view_module": "@jupyter-widgets/controls",
       "_view_module_version": "2.0.0",
       "_view_name": "HTMLView",
       "description": "",
       "description_allow_html": false,
       "layout": "IPY_MODEL_84fa93ec9a9742c0a608869d7428e99f",
       "placeholder": "​",
       "style": "IPY_MODEL_8f28bdcb2789445997c624f4f781dc4e",
       "tabbable": null,
       "tooltip": null,
       "value": " 3760/3760 [00:00&lt;00:00, 197901.63 examples/s]"
      }
     },
     "46cfdd16ba964133abd0d8db5249287a": {
      "model_module": "@jupyter-widgets/controls",
      "model_module_version": "2.0.0",
      "model_name": "HBoxModel",
      "state": {
       "_dom_classes": [],
       "_model_module": "@jupyter-widgets/controls",
       "_model_module_version": "2.0.0",
       "_model_name": "HBoxModel",
       "_view_count": null,
       "_view_module": "@jupyter-widgets/controls",
       "_view_module_version": "2.0.0",
       "_view_name": "HBoxView",
       "box_style": "",
       "children": [
        "IPY_MODEL_60a4dd7910764935baf3c5db1a3b1d59",
        "IPY_MODEL_a55345dfbb2c490dbc494182e0e55a5e",
        "IPY_MODEL_8dbb453b272d4c59a7012a561c217a11"
       ],
       "layout": "IPY_MODEL_aa99928a435e4f51a07f6984d8327aac",
       "tabbable": null,
       "tooltip": null
      }
     },
     "473ad7858f5047e4ae37b4a95d940217": {
      "model_module": "@jupyter-widgets/controls",
      "model_module_version": "2.0.0",
      "model_name": "HTMLModel",
      "state": {
       "_dom_classes": [],
       "_model_module": "@jupyter-widgets/controls",
       "_model_module_version": "2.0.0",
       "_model_name": "HTMLModel",
       "_view_count": null,
       "_view_module": "@jupyter-widgets/controls",
       "_view_module_version": "2.0.0",
       "_view_name": "HTMLView",
       "description": "",
       "description_allow_html": false,
       "layout": "IPY_MODEL_72986d2b4b8846d5b55a648975d7a2b1",
       "placeholder": "​",
       "style": "IPY_MODEL_5353afa42e20423cbd52372d7e3ab6cf",
       "tabbable": null,
       "tooltip": null,
       "value": "Generating train split: 100%"
      }
     },
     "47c015fbb85343b189ee5b23bbba3da9": {
      "model_module": "@jupyter-widgets/base",
      "model_module_version": "2.0.0",
      "model_name": "LayoutModel",
      "state": {
       "_model_module": "@jupyter-widgets/base",
       "_model_module_version": "2.0.0",
       "_model_name": "LayoutModel",
       "_view_count": null,
       "_view_module": "@jupyter-widgets/base",
       "_view_module_version": "2.0.0",
       "_view_name": "LayoutView",
       "align_content": null,
       "align_items": null,
       "align_self": null,
       "border_bottom": null,
       "border_left": null,
       "border_right": null,
       "border_top": null,
       "bottom": null,
       "display": null,
       "flex": null,
       "flex_flow": null,
       "grid_area": null,
       "grid_auto_columns": null,
       "grid_auto_flow": null,
       "grid_auto_rows": null,
       "grid_column": null,
       "grid_gap": null,
       "grid_row": null,
       "grid_template_areas": null,
       "grid_template_columns": null,
       "grid_template_rows": null,
       "height": null,
       "justify_content": null,
       "justify_items": null,
       "left": null,
       "margin": null,
       "max_height": null,
       "max_width": null,
       "min_height": null,
       "min_width": null,
       "object_fit": null,
       "object_position": null,
       "order": null,
       "overflow": null,
       "padding": null,
       "right": null,
       "top": null,
       "visibility": null,
       "width": null
      }
     },
     "491ed183699c41d1bce7135f79475d48": {
      "model_module": "@jupyter-widgets/controls",
      "model_module_version": "2.0.0",
      "model_name": "HBoxModel",
      "state": {
       "_dom_classes": [],
       "_model_module": "@jupyter-widgets/controls",
       "_model_module_version": "2.0.0",
       "_model_name": "HBoxModel",
       "_view_count": null,
       "_view_module": "@jupyter-widgets/controls",
       "_view_module_version": "2.0.0",
       "_view_name": "HBoxView",
       "box_style": "",
       "children": [
        "IPY_MODEL_9c1de12c3e2c4af68d7aa9a23db20542",
        "IPY_MODEL_3b66b275442644b0b1c157fa05c43e60",
        "IPY_MODEL_5c282d73421f4ac98177c0831dcc9ae1"
       ],
       "layout": "IPY_MODEL_2d7efb3f519b454b90094a619daa89c5",
       "tabbable": null,
       "tooltip": null
      }
     },
     "4a9cbe80ffc94549994978806338450e": {
      "model_module": "@jupyter-widgets/base",
      "model_module_version": "2.0.0",
      "model_name": "LayoutModel",
      "state": {
       "_model_module": "@jupyter-widgets/base",
       "_model_module_version": "2.0.0",
       "_model_name": "LayoutModel",
       "_view_count": null,
       "_view_module": "@jupyter-widgets/base",
       "_view_module_version": "2.0.0",
       "_view_name": "LayoutView",
       "align_content": null,
       "align_items": null,
       "align_self": null,
       "border_bottom": null,
       "border_left": null,
       "border_right": null,
       "border_top": null,
       "bottom": null,
       "display": null,
       "flex": null,
       "flex_flow": null,
       "grid_area": null,
       "grid_auto_columns": null,
       "grid_auto_flow": null,
       "grid_auto_rows": null,
       "grid_column": null,
       "grid_gap": null,
       "grid_row": null,
       "grid_template_areas": null,
       "grid_template_columns": null,
       "grid_template_rows": null,
       "height": null,
       "justify_content": null,
       "justify_items": null,
       "left": null,
       "margin": null,
       "max_height": null,
       "max_width": null,
       "min_height": null,
       "min_width": null,
       "object_fit": null,
       "object_position": null,
       "order": null,
       "overflow": null,
       "padding": null,
       "right": null,
       "top": null,
       "visibility": null,
       "width": null
      }
     },
     "500ae36a54e74a7d96018425060b0bd1": {
      "model_module": "@jupyter-widgets/controls",
      "model_module_version": "2.0.0",
      "model_name": "HTMLModel",
      "state": {
       "_dom_classes": [],
       "_model_module": "@jupyter-widgets/controls",
       "_model_module_version": "2.0.0",
       "_model_name": "HTMLModel",
       "_view_count": null,
       "_view_module": "@jupyter-widgets/controls",
       "_view_module_version": "2.0.0",
       "_view_name": "HTMLView",
       "description": "",
       "description_allow_html": false,
       "layout": "IPY_MODEL_992db32a1b3d4a84b9f46c47ff997ed3",
       "placeholder": "​",
       "style": "IPY_MODEL_b7bae056383c46f6b3cc50e850b1588d",
       "tabbable": null,
       "tooltip": null,
       "value": "README.md: 100%"
      }
     },
     "502b382e66374bce95789826d8bb307b": {
      "model_module": "@jupyter-widgets/base",
      "model_module_version": "2.0.0",
      "model_name": "LayoutModel",
      "state": {
       "_model_module": "@jupyter-widgets/base",
       "_model_module_version": "2.0.0",
       "_model_name": "LayoutModel",
       "_view_count": null,
       "_view_module": "@jupyter-widgets/base",
       "_view_module_version": "2.0.0",
       "_view_name": "LayoutView",
       "align_content": null,
       "align_items": null,
       "align_self": null,
       "border_bottom": null,
       "border_left": null,
       "border_right": null,
       "border_top": null,
       "bottom": null,
       "display": null,
       "flex": null,
       "flex_flow": null,
       "grid_area": null,
       "grid_auto_columns": null,
       "grid_auto_flow": null,
       "grid_auto_rows": null,
       "grid_column": null,
       "grid_gap": null,
       "grid_row": null,
       "grid_template_areas": null,
       "grid_template_columns": null,
       "grid_template_rows": null,
       "height": null,
       "justify_content": null,
       "justify_items": null,
       "left": null,
       "margin": null,
       "max_height": null,
       "max_width": null,
       "min_height": null,
       "min_width": null,
       "object_fit": null,
       "object_position": null,
       "order": null,
       "overflow": null,
       "padding": null,
       "right": null,
       "top": null,
       "visibility": null,
       "width": null
      }
     },
     "51c3b63700bd4d22b28ebbfec740a2df": {
      "model_module": "@jupyter-widgets/controls",
      "model_module_version": "2.0.0",
      "model_name": "HBoxModel",
      "state": {
       "_dom_classes": [],
       "_model_module": "@jupyter-widgets/controls",
       "_model_module_version": "2.0.0",
       "_model_name": "HBoxModel",
       "_view_count": null,
       "_view_module": "@jupyter-widgets/controls",
       "_view_module_version": "2.0.0",
       "_view_name": "HBoxView",
       "box_style": "",
       "children": [
        "IPY_MODEL_ef43dab6307746fea26f90dd4df4dbc8",
        "IPY_MODEL_7bfdae5b006e4c07af836c8fd2dd4dad",
        "IPY_MODEL_fe9f401ce3aa4e438fe70ff9a78e8b59"
       ],
       "layout": "IPY_MODEL_b535602abdb448dfbf3b3c3a71fd2377",
       "tabbable": null,
       "tooltip": null
      }
     },
     "5353afa42e20423cbd52372d7e3ab6cf": {
      "model_module": "@jupyter-widgets/controls",
      "model_module_version": "2.0.0",
      "model_name": "HTMLStyleModel",
      "state": {
       "_model_module": "@jupyter-widgets/controls",
       "_model_module_version": "2.0.0",
       "_model_name": "HTMLStyleModel",
       "_view_count": null,
       "_view_module": "@jupyter-widgets/base",
       "_view_module_version": "2.0.0",
       "_view_name": "StyleView",
       "background": null,
       "description_width": "",
       "font_size": null,
       "text_color": null
      }
     },
     "547b9df96f5a43ef946ed486334144b8": {
      "model_module": "@jupyter-widgets/controls",
      "model_module_version": "2.0.0",
      "model_name": "ProgressStyleModel",
      "state": {
       "_model_module": "@jupyter-widgets/controls",
       "_model_module_version": "2.0.0",
       "_model_name": "ProgressStyleModel",
       "_view_count": null,
       "_view_module": "@jupyter-widgets/base",
       "_view_module_version": "2.0.0",
       "_view_name": "StyleView",
       "bar_color": null,
       "description_width": ""
      }
     },
     "55465087aeca4fa9a433c8ea507ed8fc": {
      "model_module": "@jupyter-widgets/base",
      "model_module_version": "2.0.0",
      "model_name": "LayoutModel",
      "state": {
       "_model_module": "@jupyter-widgets/base",
       "_model_module_version": "2.0.0",
       "_model_name": "LayoutModel",
       "_view_count": null,
       "_view_module": "@jupyter-widgets/base",
       "_view_module_version": "2.0.0",
       "_view_name": "LayoutView",
       "align_content": null,
       "align_items": null,
       "align_self": null,
       "border_bottom": null,
       "border_left": null,
       "border_right": null,
       "border_top": null,
       "bottom": null,
       "display": null,
       "flex": null,
       "flex_flow": null,
       "grid_area": null,
       "grid_auto_columns": null,
       "grid_auto_flow": null,
       "grid_auto_rows": null,
       "grid_column": null,
       "grid_gap": null,
       "grid_row": null,
       "grid_template_areas": null,
       "grid_template_columns": null,
       "grid_template_rows": null,
       "height": null,
       "justify_content": null,
       "justify_items": null,
       "left": null,
       "margin": null,
       "max_height": null,
       "max_width": null,
       "min_height": null,
       "min_width": null,
       "object_fit": null,
       "object_position": null,
       "order": null,
       "overflow": null,
       "padding": null,
       "right": null,
       "top": null,
       "visibility": null,
       "width": null
      }
     },
     "5acf4c1bcf9843269afdb30c6bbc2cf0": {
      "model_module": "@jupyter-widgets/controls",
      "model_module_version": "2.0.0",
      "model_name": "ProgressStyleModel",
      "state": {
       "_model_module": "@jupyter-widgets/controls",
       "_model_module_version": "2.0.0",
       "_model_name": "ProgressStyleModel",
       "_view_count": null,
       "_view_module": "@jupyter-widgets/base",
       "_view_module_version": "2.0.0",
       "_view_name": "StyleView",
       "bar_color": null,
       "description_width": ""
      }
     },
     "5b67eb5e03de4ff68511d4c2e26c9274": {
      "model_module": "@jupyter-widgets/base",
      "model_module_version": "2.0.0",
      "model_name": "LayoutModel",
      "state": {
       "_model_module": "@jupyter-widgets/base",
       "_model_module_version": "2.0.0",
       "_model_name": "LayoutModel",
       "_view_count": null,
       "_view_module": "@jupyter-widgets/base",
       "_view_module_version": "2.0.0",
       "_view_name": "LayoutView",
       "align_content": null,
       "align_items": null,
       "align_self": null,
       "border_bottom": null,
       "border_left": null,
       "border_right": null,
       "border_top": null,
       "bottom": null,
       "display": null,
       "flex": null,
       "flex_flow": null,
       "grid_area": null,
       "grid_auto_columns": null,
       "grid_auto_flow": null,
       "grid_auto_rows": null,
       "grid_column": null,
       "grid_gap": null,
       "grid_row": null,
       "grid_template_areas": null,
       "grid_template_columns": null,
       "grid_template_rows": null,
       "height": null,
       "justify_content": null,
       "justify_items": null,
       "left": null,
       "margin": null,
       "max_height": null,
       "max_width": null,
       "min_height": null,
       "min_width": null,
       "object_fit": null,
       "object_position": null,
       "order": null,
       "overflow": null,
       "padding": null,
       "right": null,
       "top": null,
       "visibility": null,
       "width": null
      }
     },
     "5c282d73421f4ac98177c0831dcc9ae1": {
      "model_module": "@jupyter-widgets/controls",
      "model_module_version": "2.0.0",
      "model_name": "HTMLModel",
      "state": {
       "_dom_classes": [],
       "_model_module": "@jupyter-widgets/controls",
       "_model_module_version": "2.0.0",
       "_model_name": "HTMLModel",
       "_view_count": null,
       "_view_module": "@jupyter-widgets/controls",
       "_view_module_version": "2.0.0",
       "_view_name": "HTMLView",
       "description": "",
       "description_allow_html": false,
       "layout": "IPY_MODEL_2fa92809baa7498ca09362b055d4eacb",
       "placeholder": "​",
       "style": "IPY_MODEL_783c26b20ae7428888a4668aa2a62493",
       "tabbable": null,
       "tooltip": null,
       "value": " 48.0/48.0 [00:00&lt;00:00, 1.32kB/s]"
      }
     },
     "5da9792850234441a4b5d73176a1eeb3": {
      "model_module": "@jupyter-widgets/controls",
      "model_module_version": "2.0.0",
      "model_name": "ProgressStyleModel",
      "state": {
       "_model_module": "@jupyter-widgets/controls",
       "_model_module_version": "2.0.0",
       "_model_name": "ProgressStyleModel",
       "_view_count": null,
       "_view_module": "@jupyter-widgets/base",
       "_view_module_version": "2.0.0",
       "_view_name": "StyleView",
       "bar_color": null,
       "description_width": ""
      }
     },
     "5f691107b38e48508340b797de2108cb": {
      "model_module": "@jupyter-widgets/controls",
      "model_module_version": "2.0.0",
      "model_name": "HBoxModel",
      "state": {
       "_dom_classes": [],
       "_model_module": "@jupyter-widgets/controls",
       "_model_module_version": "2.0.0",
       "_model_name": "HBoxModel",
       "_view_count": null,
       "_view_module": "@jupyter-widgets/controls",
       "_view_module_version": "2.0.0",
       "_view_name": "HBoxView",
       "box_style": "",
       "children": [
        "IPY_MODEL_ad9170f3d37245279895d921d90b5914",
        "IPY_MODEL_712a9b9931a4420894a1ddb44624889e",
        "IPY_MODEL_ec3579b52e554e34a83d6808117d0381"
       ],
       "layout": "IPY_MODEL_ca1b0f93b8174d238612af46cc0a0dc3",
       "tabbable": null,
       "tooltip": null
      }
     },
     "5f7714e8a13043dca761dae71d86f108": {
      "model_module": "@jupyter-widgets/base",
      "model_module_version": "2.0.0",
      "model_name": "LayoutModel",
      "state": {
       "_model_module": "@jupyter-widgets/base",
       "_model_module_version": "2.0.0",
       "_model_name": "LayoutModel",
       "_view_count": null,
       "_view_module": "@jupyter-widgets/base",
       "_view_module_version": "2.0.0",
       "_view_name": "LayoutView",
       "align_content": null,
       "align_items": null,
       "align_self": null,
       "border_bottom": null,
       "border_left": null,
       "border_right": null,
       "border_top": null,
       "bottom": null,
       "display": null,
       "flex": null,
       "flex_flow": null,
       "grid_area": null,
       "grid_auto_columns": null,
       "grid_auto_flow": null,
       "grid_auto_rows": null,
       "grid_column": null,
       "grid_gap": null,
       "grid_row": null,
       "grid_template_areas": null,
       "grid_template_columns": null,
       "grid_template_rows": null,
       "height": null,
       "justify_content": null,
       "justify_items": null,
       "left": null,
       "margin": null,
       "max_height": null,
       "max_width": null,
       "min_height": null,
       "min_width": null,
       "object_fit": null,
       "object_position": null,
       "order": null,
       "overflow": null,
       "padding": null,
       "right": null,
       "top": null,
       "visibility": null,
       "width": null
      }
     },
     "60818a85cf604c0687544394f50e2ffe": {
      "model_module": "@jupyter-widgets/controls",
      "model_module_version": "2.0.0",
      "model_name": "ProgressStyleModel",
      "state": {
       "_model_module": "@jupyter-widgets/controls",
       "_model_module_version": "2.0.0",
       "_model_name": "ProgressStyleModel",
       "_view_count": null,
       "_view_module": "@jupyter-widgets/base",
       "_view_module_version": "2.0.0",
       "_view_name": "StyleView",
       "bar_color": null,
       "description_width": ""
      }
     },
     "60a4dd7910764935baf3c5db1a3b1d59": {
      "model_module": "@jupyter-widgets/controls",
      "model_module_version": "2.0.0",
      "model_name": "HTMLModel",
      "state": {
       "_dom_classes": [],
       "_model_module": "@jupyter-widgets/controls",
       "_model_module_version": "2.0.0",
       "_model_name": "HTMLModel",
       "_view_count": null,
       "_view_module": "@jupyter-widgets/controls",
       "_view_module_version": "2.0.0",
       "_view_name": "HTMLView",
       "description": "",
       "description_allow_html": false,
       "layout": "IPY_MODEL_b02dd3250f9f45179fdf5dacefcc3cf8",
       "placeholder": "​",
       "style": "IPY_MODEL_e9df96deeb214ff68cbe70b4632bbd1a",
       "tabbable": null,
       "tooltip": null,
       "value": "vocab.txt: 100%"
      }
     },
     "621ead691dd24015abf273ac1d8b6359": {
      "model_module": "@jupyter-widgets/controls",
      "model_module_version": "2.0.0",
      "model_name": "ProgressStyleModel",
      "state": {
       "_model_module": "@jupyter-widgets/controls",
       "_model_module_version": "2.0.0",
       "_model_name": "ProgressStyleModel",
       "_view_count": null,
       "_view_module": "@jupyter-widgets/base",
       "_view_module_version": "2.0.0",
       "_view_name": "StyleView",
       "bar_color": null,
       "description_width": ""
      }
     },
     "63f524c41e56460aac8154cc12b6a655": {
      "model_module": "@jupyter-widgets/base",
      "model_module_version": "2.0.0",
      "model_name": "LayoutModel",
      "state": {
       "_model_module": "@jupyter-widgets/base",
       "_model_module_version": "2.0.0",
       "_model_name": "LayoutModel",
       "_view_count": null,
       "_view_module": "@jupyter-widgets/base",
       "_view_module_version": "2.0.0",
       "_view_name": "LayoutView",
       "align_content": null,
       "align_items": null,
       "align_self": null,
       "border_bottom": null,
       "border_left": null,
       "border_right": null,
       "border_top": null,
       "bottom": null,
       "display": null,
       "flex": null,
       "flex_flow": null,
       "grid_area": null,
       "grid_auto_columns": null,
       "grid_auto_flow": null,
       "grid_auto_rows": null,
       "grid_column": null,
       "grid_gap": null,
       "grid_row": null,
       "grid_template_areas": null,
       "grid_template_columns": null,
       "grid_template_rows": null,
       "height": null,
       "justify_content": null,
       "justify_items": null,
       "left": null,
       "margin": null,
       "max_height": null,
       "max_width": null,
       "min_height": null,
       "min_width": null,
       "object_fit": null,
       "object_position": null,
       "order": null,
       "overflow": null,
       "padding": null,
       "right": null,
       "top": null,
       "visibility": null,
       "width": null
      }
     },
     "64973e99d9fe4c56a1ae9ebdbf95a3bf": {
      "model_module": "@jupyter-widgets/base",
      "model_module_version": "2.0.0",
      "model_name": "LayoutModel",
      "state": {
       "_model_module": "@jupyter-widgets/base",
       "_model_module_version": "2.0.0",
       "_model_name": "LayoutModel",
       "_view_count": null,
       "_view_module": "@jupyter-widgets/base",
       "_view_module_version": "2.0.0",
       "_view_name": "LayoutView",
       "align_content": null,
       "align_items": null,
       "align_self": null,
       "border_bottom": null,
       "border_left": null,
       "border_right": null,
       "border_top": null,
       "bottom": null,
       "display": null,
       "flex": null,
       "flex_flow": null,
       "grid_area": null,
       "grid_auto_columns": null,
       "grid_auto_flow": null,
       "grid_auto_rows": null,
       "grid_column": null,
       "grid_gap": null,
       "grid_row": null,
       "grid_template_areas": null,
       "grid_template_columns": null,
       "grid_template_rows": null,
       "height": null,
       "justify_content": null,
       "justify_items": null,
       "left": null,
       "margin": null,
       "max_height": null,
       "max_width": null,
       "min_height": null,
       "min_width": null,
       "object_fit": null,
       "object_position": null,
       "order": null,
       "overflow": null,
       "padding": null,
       "right": null,
       "top": null,
       "visibility": null,
       "width": null
      }
     },
     "64ed778f66d84255a4a41e8a575bbfac": {
      "model_module": "@jupyter-widgets/controls",
      "model_module_version": "2.0.0",
      "model_name": "HBoxModel",
      "state": {
       "_dom_classes": [],
       "_model_module": "@jupyter-widgets/controls",
       "_model_module_version": "2.0.0",
       "_model_name": "HBoxModel",
       "_view_count": null,
       "_view_module": "@jupyter-widgets/controls",
       "_view_module_version": "2.0.0",
       "_view_name": "HBoxView",
       "box_style": "",
       "children": [
        "IPY_MODEL_e4e27daebc294f8c8a6c88414ac99ef0",
        "IPY_MODEL_c30f50ae958947ea8695bb48e3b2ffb8",
        "IPY_MODEL_2fc5f8e44a1940d8bf8085b40a836ac7"
       ],
       "layout": "IPY_MODEL_6de129b8b438454c92273e470d091ced",
       "tabbable": null,
       "tooltip": null
      }
     },
     "651224fd5f0345e6ba042b65ca0e5e8b": {
      "model_module": "@jupyter-widgets/base",
      "model_module_version": "2.0.0",
      "model_name": "LayoutModel",
      "state": {
       "_model_module": "@jupyter-widgets/base",
       "_model_module_version": "2.0.0",
       "_model_name": "LayoutModel",
       "_view_count": null,
       "_view_module": "@jupyter-widgets/base",
       "_view_module_version": "2.0.0",
       "_view_name": "LayoutView",
       "align_content": null,
       "align_items": null,
       "align_self": null,
       "border_bottom": null,
       "border_left": null,
       "border_right": null,
       "border_top": null,
       "bottom": null,
       "display": null,
       "flex": null,
       "flex_flow": null,
       "grid_area": null,
       "grid_auto_columns": null,
       "grid_auto_flow": null,
       "grid_auto_rows": null,
       "grid_column": null,
       "grid_gap": null,
       "grid_row": null,
       "grid_template_areas": null,
       "grid_template_columns": null,
       "grid_template_rows": null,
       "height": null,
       "justify_content": null,
       "justify_items": null,
       "left": null,
       "margin": null,
       "max_height": null,
       "max_width": null,
       "min_height": null,
       "min_width": null,
       "object_fit": null,
       "object_position": null,
       "order": null,
       "overflow": null,
       "padding": null,
       "right": null,
       "top": null,
       "visibility": null,
       "width": null
      }
     },
     "65e4a790d8ed430a880103a9cded2961": {
      "model_module": "@jupyter-widgets/base",
      "model_module_version": "2.0.0",
      "model_name": "LayoutModel",
      "state": {
       "_model_module": "@jupyter-widgets/base",
       "_model_module_version": "2.0.0",
       "_model_name": "LayoutModel",
       "_view_count": null,
       "_view_module": "@jupyter-widgets/base",
       "_view_module_version": "2.0.0",
       "_view_name": "LayoutView",
       "align_content": null,
       "align_items": null,
       "align_self": null,
       "border_bottom": null,
       "border_left": null,
       "border_right": null,
       "border_top": null,
       "bottom": null,
       "display": null,
       "flex": null,
       "flex_flow": null,
       "grid_area": null,
       "grid_auto_columns": null,
       "grid_auto_flow": null,
       "grid_auto_rows": null,
       "grid_column": null,
       "grid_gap": null,
       "grid_row": null,
       "grid_template_areas": null,
       "grid_template_columns": null,
       "grid_template_rows": null,
       "height": null,
       "justify_content": null,
       "justify_items": null,
       "left": null,
       "margin": null,
       "max_height": null,
       "max_width": null,
       "min_height": null,
       "min_width": null,
       "object_fit": null,
       "object_position": null,
       "order": null,
       "overflow": null,
       "padding": null,
       "right": null,
       "top": null,
       "visibility": null,
       "width": null
      }
     },
     "6696b5d3880648428f6818b347f6a535": {
      "model_module": "@jupyter-widgets/base",
      "model_module_version": "2.0.0",
      "model_name": "LayoutModel",
      "state": {
       "_model_module": "@jupyter-widgets/base",
       "_model_module_version": "2.0.0",
       "_model_name": "LayoutModel",
       "_view_count": null,
       "_view_module": "@jupyter-widgets/base",
       "_view_module_version": "2.0.0",
       "_view_name": "LayoutView",
       "align_content": null,
       "align_items": null,
       "align_self": null,
       "border_bottom": null,
       "border_left": null,
       "border_right": null,
       "border_top": null,
       "bottom": null,
       "display": null,
       "flex": null,
       "flex_flow": null,
       "grid_area": null,
       "grid_auto_columns": null,
       "grid_auto_flow": null,
       "grid_auto_rows": null,
       "grid_column": null,
       "grid_gap": null,
       "grid_row": null,
       "grid_template_areas": null,
       "grid_template_columns": null,
       "grid_template_rows": null,
       "height": null,
       "justify_content": null,
       "justify_items": null,
       "left": null,
       "margin": null,
       "max_height": null,
       "max_width": null,
       "min_height": null,
       "min_width": null,
       "object_fit": null,
       "object_position": null,
       "order": null,
       "overflow": null,
       "padding": null,
       "right": null,
       "top": null,
       "visibility": null,
       "width": null
      }
     },
     "67d362558a41469c833fa130b0cced35": {
      "model_module": "@jupyter-widgets/base",
      "model_module_version": "2.0.0",
      "model_name": "LayoutModel",
      "state": {
       "_model_module": "@jupyter-widgets/base",
       "_model_module_version": "2.0.0",
       "_model_name": "LayoutModel",
       "_view_count": null,
       "_view_module": "@jupyter-widgets/base",
       "_view_module_version": "2.0.0",
       "_view_name": "LayoutView",
       "align_content": null,
       "align_items": null,
       "align_self": null,
       "border_bottom": null,
       "border_left": null,
       "border_right": null,
       "border_top": null,
       "bottom": null,
       "display": null,
       "flex": null,
       "flex_flow": null,
       "grid_area": null,
       "grid_auto_columns": null,
       "grid_auto_flow": null,
       "grid_auto_rows": null,
       "grid_column": null,
       "grid_gap": null,
       "grid_row": null,
       "grid_template_areas": null,
       "grid_template_columns": null,
       "grid_template_rows": null,
       "height": null,
       "justify_content": null,
       "justify_items": null,
       "left": null,
       "margin": null,
       "max_height": null,
       "max_width": null,
       "min_height": null,
       "min_width": null,
       "object_fit": null,
       "object_position": null,
       "order": null,
       "overflow": null,
       "padding": null,
       "right": null,
       "top": null,
       "visibility": null,
       "width": null
      }
     },
     "69f0594a05994219b34f353bd21e65fd": {
      "model_module": "@jupyter-widgets/controls",
      "model_module_version": "2.0.0",
      "model_name": "FloatProgressModel",
      "state": {
       "_dom_classes": [],
       "_model_module": "@jupyter-widgets/controls",
       "_model_module_version": "2.0.0",
       "_model_name": "FloatProgressModel",
       "_view_count": null,
       "_view_module": "@jupyter-widgets/controls",
       "_view_module_version": "2.0.0",
       "_view_name": "ProgressView",
       "bar_style": "success",
       "description": "",
       "description_allow_html": false,
       "layout": "IPY_MODEL_4027b77a9a8d46018e76dd51ffe2a9d6",
       "max": 10464,
       "min": 0,
       "orientation": "horizontal",
       "style": "IPY_MODEL_5da9792850234441a4b5d73176a1eeb3",
       "tabbable": null,
       "tooltip": null,
       "value": 10464
      }
     },
     "6de129b8b438454c92273e470d091ced": {
      "model_module": "@jupyter-widgets/base",
      "model_module_version": "2.0.0",
      "model_name": "LayoutModel",
      "state": {
       "_model_module": "@jupyter-widgets/base",
       "_model_module_version": "2.0.0",
       "_model_name": "LayoutModel",
       "_view_count": null,
       "_view_module": "@jupyter-widgets/base",
       "_view_module_version": "2.0.0",
       "_view_name": "LayoutView",
       "align_content": null,
       "align_items": null,
       "align_self": null,
       "border_bottom": null,
       "border_left": null,
       "border_right": null,
       "border_top": null,
       "bottom": null,
       "display": null,
       "flex": null,
       "flex_flow": null,
       "grid_area": null,
       "grid_auto_columns": null,
       "grid_auto_flow": null,
       "grid_auto_rows": null,
       "grid_column": null,
       "grid_gap": null,
       "grid_row": null,
       "grid_template_areas": null,
       "grid_template_columns": null,
       "grid_template_rows": null,
       "height": null,
       "justify_content": null,
       "justify_items": null,
       "left": null,
       "margin": null,
       "max_height": null,
       "max_width": null,
       "min_height": null,
       "min_width": null,
       "object_fit": null,
       "object_position": null,
       "order": null,
       "overflow": null,
       "padding": null,
       "right": null,
       "top": null,
       "visibility": null,
       "width": null
      }
     },
     "712a9b9931a4420894a1ddb44624889e": {
      "model_module": "@jupyter-widgets/controls",
      "model_module_version": "2.0.0",
      "model_name": "FloatProgressModel",
      "state": {
       "_dom_classes": [],
       "_model_module": "@jupyter-widgets/controls",
       "_model_module_version": "2.0.0",
       "_model_name": "FloatProgressModel",
       "_view_count": null,
       "_view_module": "@jupyter-widgets/controls",
       "_view_module_version": "2.0.0",
       "_view_name": "ProgressView",
       "bar_style": "success",
       "description": "",
       "description_allow_html": false,
       "layout": "IPY_MODEL_47c015fbb85343b189ee5b23bbba3da9",
       "max": 155928670,
       "min": 0,
       "orientation": "horizontal",
       "style": "IPY_MODEL_547b9df96f5a43ef946ed486334144b8",
       "tabbable": null,
       "tooltip": null,
       "value": 155928670
      }
     },
     "72986d2b4b8846d5b55a648975d7a2b1": {
      "model_module": "@jupyter-widgets/base",
      "model_module_version": "2.0.0",
      "model_name": "LayoutModel",
      "state": {
       "_model_module": "@jupyter-widgets/base",
       "_model_module_version": "2.0.0",
       "_model_name": "LayoutModel",
       "_view_count": null,
       "_view_module": "@jupyter-widgets/base",
       "_view_module_version": "2.0.0",
       "_view_name": "LayoutView",
       "align_content": null,
       "align_items": null,
       "align_self": null,
       "border_bottom": null,
       "border_left": null,
       "border_right": null,
       "border_top": null,
       "bottom": null,
       "display": null,
       "flex": null,
       "flex_flow": null,
       "grid_area": null,
       "grid_auto_columns": null,
       "grid_auto_flow": null,
       "grid_auto_rows": null,
       "grid_column": null,
       "grid_gap": null,
       "grid_row": null,
       "grid_template_areas": null,
       "grid_template_columns": null,
       "grid_template_rows": null,
       "height": null,
       "justify_content": null,
       "justify_items": null,
       "left": null,
       "margin": null,
       "max_height": null,
       "max_width": null,
       "min_height": null,
       "min_width": null,
       "object_fit": null,
       "object_position": null,
       "order": null,
       "overflow": null,
       "padding": null,
       "right": null,
       "top": null,
       "visibility": null,
       "width": null
      }
     },
     "73121b8598304351b827dba0f0b7413a": {
      "model_module": "@jupyter-widgets/controls",
      "model_module_version": "2.0.0",
      "model_name": "HTMLStyleModel",
      "state": {
       "_model_module": "@jupyter-widgets/controls",
       "_model_module_version": "2.0.0",
       "_model_name": "HTMLStyleModel",
       "_view_count": null,
       "_view_module": "@jupyter-widgets/base",
       "_view_module_version": "2.0.0",
       "_view_name": "StyleView",
       "background": null,
       "description_width": "",
       "font_size": null,
       "text_color": null
      }
     },
     "77538aedd4ed43c8b228cf70e3604989": {
      "model_module": "@jupyter-widgets/controls",
      "model_module_version": "2.0.0",
      "model_name": "HBoxModel",
      "state": {
       "_dom_classes": [],
       "_model_module": "@jupyter-widgets/controls",
       "_model_module_version": "2.0.0",
       "_model_name": "HBoxModel",
       "_view_count": null,
       "_view_module": "@jupyter-widgets/controls",
       "_view_module_version": "2.0.0",
       "_view_name": "HBoxView",
       "box_style": "",
       "children": [
        "IPY_MODEL_500ae36a54e74a7d96018425060b0bd1",
        "IPY_MODEL_69f0594a05994219b34f353bd21e65fd",
        "IPY_MODEL_041356ea67d84d0fa9f5cae1d7f9a454"
       ],
       "layout": "IPY_MODEL_f7cb1d6a694a43f5a943abe5e2c22bcb",
       "tabbable": null,
       "tooltip": null
      }
     },
     "777c3a64c521483f8b19d021dc2f0d2e": {
      "model_module": "@jupyter-widgets/base",
      "model_module_version": "2.0.0",
      "model_name": "LayoutModel",
      "state": {
       "_model_module": "@jupyter-widgets/base",
       "_model_module_version": "2.0.0",
       "_model_name": "LayoutModel",
       "_view_count": null,
       "_view_module": "@jupyter-widgets/base",
       "_view_module_version": "2.0.0",
       "_view_name": "LayoutView",
       "align_content": null,
       "align_items": null,
       "align_self": null,
       "border_bottom": null,
       "border_left": null,
       "border_right": null,
       "border_top": null,
       "bottom": null,
       "display": null,
       "flex": null,
       "flex_flow": null,
       "grid_area": null,
       "grid_auto_columns": null,
       "grid_auto_flow": null,
       "grid_auto_rows": null,
       "grid_column": null,
       "grid_gap": null,
       "grid_row": null,
       "grid_template_areas": null,
       "grid_template_columns": null,
       "grid_template_rows": null,
       "height": null,
       "justify_content": null,
       "justify_items": null,
       "left": null,
       "margin": null,
       "max_height": null,
       "max_width": null,
       "min_height": null,
       "min_width": null,
       "object_fit": null,
       "object_position": null,
       "order": null,
       "overflow": null,
       "padding": null,
       "right": null,
       "top": null,
       "visibility": null,
       "width": null
      }
     },
     "783c26b20ae7428888a4668aa2a62493": {
      "model_module": "@jupyter-widgets/controls",
      "model_module_version": "2.0.0",
      "model_name": "HTMLStyleModel",
      "state": {
       "_model_module": "@jupyter-widgets/controls",
       "_model_module_version": "2.0.0",
       "_model_name": "HTMLStyleModel",
       "_view_count": null,
       "_view_module": "@jupyter-widgets/base",
       "_view_module_version": "2.0.0",
       "_view_name": "StyleView",
       "background": null,
       "description_width": "",
       "font_size": null,
       "text_color": null
      }
     },
     "7a6de5607e8f468c87e644a1ff66cb0c": {
      "model_module": "@jupyter-widgets/controls",
      "model_module_version": "2.0.0",
      "model_name": "HTMLStyleModel",
      "state": {
       "_model_module": "@jupyter-widgets/controls",
       "_model_module_version": "2.0.0",
       "_model_name": "HTMLStyleModel",
       "_view_count": null,
       "_view_module": "@jupyter-widgets/base",
       "_view_module_version": "2.0.0",
       "_view_name": "StyleView",
       "background": null,
       "description_width": "",
       "font_size": null,
       "text_color": null
      }
     },
     "7bfdae5b006e4c07af836c8fd2dd4dad": {
      "model_module": "@jupyter-widgets/controls",
      "model_module_version": "2.0.0",
      "model_name": "FloatProgressModel",
      "state": {
       "_dom_classes": [],
       "_model_module": "@jupyter-widgets/controls",
       "_model_module_version": "2.0.0",
       "_model_name": "FloatProgressModel",
       "_view_count": null,
       "_view_module": "@jupyter-widgets/controls",
       "_view_module_version": "2.0.0",
       "_view_name": "ProgressView",
       "bar_style": "success",
       "description": "",
       "description_allow_html": false,
       "layout": "IPY_MODEL_a8dcb6f6e2db4425a68ee47738fdba16",
       "max": 466062,
       "min": 0,
       "orientation": "horizontal",
       "style": "IPY_MODEL_c4636dcf3fdb4a949fa663e806690a82",
       "tabbable": null,
       "tooltip": null,
       "value": 466062
      }
     },
     "7cf19db827f441008226f35cc331e691": {
      "model_module": "@jupyter-widgets/base",
      "model_module_version": "2.0.0",
      "model_name": "LayoutModel",
      "state": {
       "_model_module": "@jupyter-widgets/base",
       "_model_module_version": "2.0.0",
       "_model_name": "LayoutModel",
       "_view_count": null,
       "_view_module": "@jupyter-widgets/base",
       "_view_module_version": "2.0.0",
       "_view_name": "LayoutView",
       "align_content": null,
       "align_items": null,
       "align_self": null,
       "border_bottom": null,
       "border_left": null,
       "border_right": null,
       "border_top": null,
       "bottom": null,
       "display": null,
       "flex": null,
       "flex_flow": null,
       "grid_area": null,
       "grid_auto_columns": null,
       "grid_auto_flow": null,
       "grid_auto_rows": null,
       "grid_column": null,
       "grid_gap": null,
       "grid_row": null,
       "grid_template_areas": null,
       "grid_template_columns": null,
       "grid_template_rows": null,
       "height": null,
       "justify_content": null,
       "justify_items": null,
       "left": null,
       "margin": null,
       "max_height": null,
       "max_width": null,
       "min_height": null,
       "min_width": null,
       "object_fit": null,
       "object_position": null,
       "order": null,
       "overflow": null,
       "padding": null,
       "right": null,
       "top": null,
       "visibility": null,
       "width": null
      }
     },
     "84b6eda35f604015962e58fc826b9a8e": {
      "model_module": "@jupyter-widgets/controls",
      "model_module_version": "2.0.0",
      "model_name": "HBoxModel",
      "state": {
       "_dom_classes": [],
       "_model_module": "@jupyter-widgets/controls",
       "_model_module_version": "2.0.0",
       "_model_name": "HBoxModel",
       "_view_count": null,
       "_view_module": "@jupyter-widgets/controls",
       "_view_module_version": "2.0.0",
       "_view_name": "HBoxView",
       "box_style": "",
       "children": [
        "IPY_MODEL_b29555faa76d48f2b0f5affc684c1537",
        "IPY_MODEL_9ad71661240e4660a7279c187f368804",
        "IPY_MODEL_a4cc7dd9cf93452686abf4b9db2a26dd"
       ],
       "layout": "IPY_MODEL_0741a51d592a45b0b5e7892be2dfc2a3",
       "tabbable": null,
       "tooltip": null
      }
     },
     "84fa93ec9a9742c0a608869d7428e99f": {
      "model_module": "@jupyter-widgets/base",
      "model_module_version": "2.0.0",
      "model_name": "LayoutModel",
      "state": {
       "_model_module": "@jupyter-widgets/base",
       "_model_module_version": "2.0.0",
       "_model_name": "LayoutModel",
       "_view_count": null,
       "_view_module": "@jupyter-widgets/base",
       "_view_module_version": "2.0.0",
       "_view_name": "LayoutView",
       "align_content": null,
       "align_items": null,
       "align_self": null,
       "border_bottom": null,
       "border_left": null,
       "border_right": null,
       "border_top": null,
       "bottom": null,
       "display": null,
       "flex": null,
       "flex_flow": null,
       "grid_area": null,
       "grid_auto_columns": null,
       "grid_auto_flow": null,
       "grid_auto_rows": null,
       "grid_column": null,
       "grid_gap": null,
       "grid_row": null,
       "grid_template_areas": null,
       "grid_template_columns": null,
       "grid_template_rows": null,
       "height": null,
       "justify_content": null,
       "justify_items": null,
       "left": null,
       "margin": null,
       "max_height": null,
       "max_width": null,
       "min_height": null,
       "min_width": null,
       "object_fit": null,
       "object_position": null,
       "order": null,
       "overflow": null,
       "padding": null,
       "right": null,
       "top": null,
       "visibility": null,
       "width": null
      }
     },
     "84fb83fe57fd4753a248f734f6724ea6": {
      "model_module": "@jupyter-widgets/controls",
      "model_module_version": "2.0.0",
      "model_name": "ProgressStyleModel",
      "state": {
       "_model_module": "@jupyter-widgets/controls",
       "_model_module_version": "2.0.0",
       "_model_name": "ProgressStyleModel",
       "_view_count": null,
       "_view_module": "@jupyter-widgets/base",
       "_view_module_version": "2.0.0",
       "_view_name": "StyleView",
       "bar_color": null,
       "description_width": ""
      }
     },
     "8bbaa40099024db4b0cb42431a580a0f": {
      "model_module": "@jupyter-widgets/controls",
      "model_module_version": "2.0.0",
      "model_name": "HTMLStyleModel",
      "state": {
       "_model_module": "@jupyter-widgets/controls",
       "_model_module_version": "2.0.0",
       "_model_name": "HTMLStyleModel",
       "_view_count": null,
       "_view_module": "@jupyter-widgets/base",
       "_view_module_version": "2.0.0",
       "_view_name": "StyleView",
       "background": null,
       "description_width": "",
       "font_size": null,
       "text_color": null
      }
     },
     "8cb377bbef264c469650ad75cdc83547": {
      "model_module": "@jupyter-widgets/controls",
      "model_module_version": "2.0.0",
      "model_name": "HTMLStyleModel",
      "state": {
       "_model_module": "@jupyter-widgets/controls",
       "_model_module_version": "2.0.0",
       "_model_name": "HTMLStyleModel",
       "_view_count": null,
       "_view_module": "@jupyter-widgets/base",
       "_view_module_version": "2.0.0",
       "_view_name": "StyleView",
       "background": null,
       "description_width": "",
       "font_size": null,
       "text_color": null
      }
     },
     "8d6e0ad520a1443aa6101d5b2e8c627b": {
      "model_module": "@jupyter-widgets/controls",
      "model_module_version": "2.0.0",
      "model_name": "ProgressStyleModel",
      "state": {
       "_model_module": "@jupyter-widgets/controls",
       "_model_module_version": "2.0.0",
       "_model_name": "ProgressStyleModel",
       "_view_count": null,
       "_view_module": "@jupyter-widgets/base",
       "_view_module_version": "2.0.0",
       "_view_name": "StyleView",
       "bar_color": null,
       "description_width": ""
      }
     },
     "8dbb453b272d4c59a7012a561c217a11": {
      "model_module": "@jupyter-widgets/controls",
      "model_module_version": "2.0.0",
      "model_name": "HTMLModel",
      "state": {
       "_dom_classes": [],
       "_model_module": "@jupyter-widgets/controls",
       "_model_module_version": "2.0.0",
       "_model_name": "HTMLModel",
       "_view_count": null,
       "_view_module": "@jupyter-widgets/controls",
       "_view_module_version": "2.0.0",
       "_view_name": "HTMLView",
       "description": "",
       "description_allow_html": false,
       "layout": "IPY_MODEL_08c9299c50b7468c81ff59eb222548ed",
       "placeholder": "​",
       "style": "IPY_MODEL_7a6de5607e8f468c87e644a1ff66cb0c",
       "tabbable": null,
       "tooltip": null,
       "value": " 232k/232k [00:00&lt;00:00, 9.11MB/s]"
      }
     },
     "8f28bdcb2789445997c624f4f781dc4e": {
      "model_module": "@jupyter-widgets/controls",
      "model_module_version": "2.0.0",
      "model_name": "HTMLStyleModel",
      "state": {
       "_model_module": "@jupyter-widgets/controls",
       "_model_module_version": "2.0.0",
       "_model_name": "HTMLStyleModel",
       "_view_count": null,
       "_view_module": "@jupyter-widgets/base",
       "_view_module_version": "2.0.0",
       "_view_name": "StyleView",
       "background": null,
       "description_width": "",
       "font_size": null,
       "text_color": null
      }
     },
     "8f817d1709bc40f6bd2eabd0577aabc3": {
      "model_module": "@jupyter-widgets/base",
      "model_module_version": "2.0.0",
      "model_name": "LayoutModel",
      "state": {
       "_model_module": "@jupyter-widgets/base",
       "_model_module_version": "2.0.0",
       "_model_name": "LayoutModel",
       "_view_count": null,
       "_view_module": "@jupyter-widgets/base",
       "_view_module_version": "2.0.0",
       "_view_name": "LayoutView",
       "align_content": null,
       "align_items": null,
       "align_self": null,
       "border_bottom": null,
       "border_left": null,
       "border_right": null,
       "border_top": null,
       "bottom": null,
       "display": null,
       "flex": null,
       "flex_flow": null,
       "grid_area": null,
       "grid_auto_columns": null,
       "grid_auto_flow": null,
       "grid_auto_rows": null,
       "grid_column": null,
       "grid_gap": null,
       "grid_row": null,
       "grid_template_areas": null,
       "grid_template_columns": null,
       "grid_template_rows": null,
       "height": null,
       "justify_content": null,
       "justify_items": null,
       "left": null,
       "margin": null,
       "max_height": null,
       "max_width": null,
       "min_height": null,
       "min_width": null,
       "object_fit": null,
       "object_position": null,
       "order": null,
       "overflow": null,
       "padding": null,
       "right": null,
       "top": null,
       "visibility": null,
       "width": null
      }
     },
     "8f82bfc85f334576a560236588fff5fc": {
      "model_module": "@jupyter-widgets/controls",
      "model_module_version": "2.0.0",
      "model_name": "HTMLStyleModel",
      "state": {
       "_model_module": "@jupyter-widgets/controls",
       "_model_module_version": "2.0.0",
       "_model_name": "HTMLStyleModel",
       "_view_count": null,
       "_view_module": "@jupyter-widgets/base",
       "_view_module_version": "2.0.0",
       "_view_name": "StyleView",
       "background": null,
       "description_width": "",
       "font_size": null,
       "text_color": null
      }
     },
     "92aa74f6f6ba4a00bae9ea9696b7c4db": {
      "model_module": "@jupyter-widgets/controls",
      "model_module_version": "2.0.0",
      "model_name": "HTMLModel",
      "state": {
       "_dom_classes": [],
       "_model_module": "@jupyter-widgets/controls",
       "_model_module_version": "2.0.0",
       "_model_name": "HTMLModel",
       "_view_count": null,
       "_view_module": "@jupyter-widgets/controls",
       "_view_module_version": "2.0.0",
       "_view_name": "HTMLView",
       "description": "",
       "description_allow_html": false,
       "layout": "IPY_MODEL_d8c068014b3b427ca1d0165df54cf137",
       "placeholder": "​",
       "style": "IPY_MODEL_15ea17fdf5dd48028479d593de8f05d2",
       "tabbable": null,
       "tooltip": null,
       "value": " 1801350/1801350 [00:02&lt;00:00, 766120.86 examples/s]"
      }
     },
     "949c5fa949af426a942cb20472e3048d": {
      "model_module": "@jupyter-widgets/base",
      "model_module_version": "2.0.0",
      "model_name": "LayoutModel",
      "state": {
       "_model_module": "@jupyter-widgets/base",
       "_model_module_version": "2.0.0",
       "_model_name": "LayoutModel",
       "_view_count": null,
       "_view_module": "@jupyter-widgets/base",
       "_view_module_version": "2.0.0",
       "_view_name": "LayoutView",
       "align_content": null,
       "align_items": null,
       "align_self": null,
       "border_bottom": null,
       "border_left": null,
       "border_right": null,
       "border_top": null,
       "bottom": null,
       "display": null,
       "flex": null,
       "flex_flow": null,
       "grid_area": null,
       "grid_auto_columns": null,
       "grid_auto_flow": null,
       "grid_auto_rows": null,
       "grid_column": null,
       "grid_gap": null,
       "grid_row": null,
       "grid_template_areas": null,
       "grid_template_columns": null,
       "grid_template_rows": null,
       "height": null,
       "justify_content": null,
       "justify_items": null,
       "left": null,
       "margin": null,
       "max_height": null,
       "max_width": null,
       "min_height": null,
       "min_width": null,
       "object_fit": null,
       "object_position": null,
       "order": null,
       "overflow": null,
       "padding": null,
       "right": null,
       "top": null,
       "visibility": null,
       "width": null
      }
     },
     "9633326c27794895989de38e8b852b5c": {
      "model_module": "@jupyter-widgets/base",
      "model_module_version": "2.0.0",
      "model_name": "LayoutModel",
      "state": {
       "_model_module": "@jupyter-widgets/base",
       "_model_module_version": "2.0.0",
       "_model_name": "LayoutModel",
       "_view_count": null,
       "_view_module": "@jupyter-widgets/base",
       "_view_module_version": "2.0.0",
       "_view_name": "LayoutView",
       "align_content": null,
       "align_items": null,
       "align_self": null,
       "border_bottom": null,
       "border_left": null,
       "border_right": null,
       "border_top": null,
       "bottom": null,
       "display": null,
       "flex": null,
       "flex_flow": null,
       "grid_area": null,
       "grid_auto_columns": null,
       "grid_auto_flow": null,
       "grid_auto_rows": null,
       "grid_column": null,
       "grid_gap": null,
       "grid_row": null,
       "grid_template_areas": null,
       "grid_template_columns": null,
       "grid_template_rows": null,
       "height": null,
       "justify_content": null,
       "justify_items": null,
       "left": null,
       "margin": null,
       "max_height": null,
       "max_width": null,
       "min_height": null,
       "min_width": null,
       "object_fit": null,
       "object_position": null,
       "order": null,
       "overflow": null,
       "padding": null,
       "right": null,
       "top": null,
       "visibility": null,
       "width": null
      }
     },
     "992db32a1b3d4a84b9f46c47ff997ed3": {
      "model_module": "@jupyter-widgets/base",
      "model_module_version": "2.0.0",
      "model_name": "LayoutModel",
      "state": {
       "_model_module": "@jupyter-widgets/base",
       "_model_module_version": "2.0.0",
       "_model_name": "LayoutModel",
       "_view_count": null,
       "_view_module": "@jupyter-widgets/base",
       "_view_module_version": "2.0.0",
       "_view_name": "LayoutView",
       "align_content": null,
       "align_items": null,
       "align_self": null,
       "border_bottom": null,
       "border_left": null,
       "border_right": null,
       "border_top": null,
       "bottom": null,
       "display": null,
       "flex": null,
       "flex_flow": null,
       "grid_area": null,
       "grid_auto_columns": null,
       "grid_auto_flow": null,
       "grid_auto_rows": null,
       "grid_column": null,
       "grid_gap": null,
       "grid_row": null,
       "grid_template_areas": null,
       "grid_template_columns": null,
       "grid_template_rows": null,
       "height": null,
       "justify_content": null,
       "justify_items": null,
       "left": null,
       "margin": null,
       "max_height": null,
       "max_width": null,
       "min_height": null,
       "min_width": null,
       "object_fit": null,
       "object_position": null,
       "order": null,
       "overflow": null,
       "padding": null,
       "right": null,
       "top": null,
       "visibility": null,
       "width": null
      }
     },
     "996b1779e0c2438589ba5a3d77c59a55": {
      "model_module": "@jupyter-widgets/controls",
      "model_module_version": "2.0.0",
      "model_name": "HBoxModel",
      "state": {
       "_dom_classes": [],
       "_model_module": "@jupyter-widgets/controls",
       "_model_module_version": "2.0.0",
       "_model_name": "HBoxModel",
       "_view_count": null,
       "_view_module": "@jupyter-widgets/controls",
       "_view_module_version": "2.0.0",
       "_view_name": "HBoxView",
       "box_style": "",
       "children": [
        "IPY_MODEL_339ce37390d4407f80abec7c555c509a",
        "IPY_MODEL_fe9cadaf63284e70a4af22d022f67225",
        "IPY_MODEL_b1f979ebc2aa4dc085d1874a580f14d0"
       ],
       "layout": "IPY_MODEL_777c3a64c521483f8b19d021dc2f0d2e",
       "tabbable": null,
       "tooltip": null
      }
     },
     "9ad71661240e4660a7279c187f368804": {
      "model_module": "@jupyter-widgets/controls",
      "model_module_version": "2.0.0",
      "model_name": "FloatProgressModel",
      "state": {
       "_dom_classes": [],
       "_model_module": "@jupyter-widgets/controls",
       "_model_module_version": "2.0.0",
       "_model_name": "FloatProgressModel",
       "_view_count": null,
       "_view_module": "@jupyter-widgets/controls",
       "_view_module_version": "2.0.0",
       "_view_name": "ProgressView",
       "bar_style": "success",
       "description": "",
       "description_allow_html": false,
       "layout": "IPY_MODEL_5f7714e8a13043dca761dae71d86f108",
       "max": 4,
       "min": 0,
       "orientation": "horizontal",
       "style": "IPY_MODEL_621ead691dd24015abf273ac1d8b6359",
       "tabbable": null,
       "tooltip": null,
       "value": 4
      }
     },
     "9c1de12c3e2c4af68d7aa9a23db20542": {
      "model_module": "@jupyter-widgets/controls",
      "model_module_version": "2.0.0",
      "model_name": "HTMLModel",
      "state": {
       "_dom_classes": [],
       "_model_module": "@jupyter-widgets/controls",
       "_model_module_version": "2.0.0",
       "_model_name": "HTMLModel",
       "_view_count": null,
       "_view_module": "@jupyter-widgets/controls",
       "_view_module_version": "2.0.0",
       "_view_name": "HTMLView",
       "description": "",
       "description_allow_html": false,
       "layout": "IPY_MODEL_29f0940e909b4ecc8faaf7c6ebe268fa",
       "placeholder": "​",
       "style": "IPY_MODEL_449ded2dcbd4411b81705a4129b67792",
       "tabbable": null,
       "tooltip": null,
       "value": "tokenizer_config.json: 100%"
      }
     },
     "9cfb7447f096461cad99ceb34632e9c0": {
      "model_module": "@jupyter-widgets/controls",
      "model_module_version": "2.0.0",
      "model_name": "HTMLStyleModel",
      "state": {
       "_model_module": "@jupyter-widgets/controls",
       "_model_module_version": "2.0.0",
       "_model_name": "HTMLStyleModel",
       "_view_count": null,
       "_view_module": "@jupyter-widgets/base",
       "_view_module_version": "2.0.0",
       "_view_name": "StyleView",
       "background": null,
       "description_width": "",
       "font_size": null,
       "text_color": null
      }
     },
     "a25d9e4dee6b48ab9078de79e064fdcc": {
      "model_module": "@jupyter-widgets/controls",
      "model_module_version": "2.0.0",
      "model_name": "HTMLStyleModel",
      "state": {
       "_model_module": "@jupyter-widgets/controls",
       "_model_module_version": "2.0.0",
       "_model_name": "HTMLStyleModel",
       "_view_count": null,
       "_view_module": "@jupyter-widgets/base",
       "_view_module_version": "2.0.0",
       "_view_name": "StyleView",
       "background": null,
       "description_width": "",
       "font_size": null,
       "text_color": null
      }
     },
     "a46b41451c6c4e81ad48de17a75f91b6": {
      "model_module": "@jupyter-widgets/controls",
      "model_module_version": "2.0.0",
      "model_name": "HTMLStyleModel",
      "state": {
       "_model_module": "@jupyter-widgets/controls",
       "_model_module_version": "2.0.0",
       "_model_name": "HTMLStyleModel",
       "_view_count": null,
       "_view_module": "@jupyter-widgets/base",
       "_view_module_version": "2.0.0",
       "_view_name": "StyleView",
       "background": null,
       "description_width": "",
       "font_size": null,
       "text_color": null
      }
     },
     "a4cc7dd9cf93452686abf4b9db2a26dd": {
      "model_module": "@jupyter-widgets/controls",
      "model_module_version": "2.0.0",
      "model_name": "HTMLModel",
      "state": {
       "_dom_classes": [],
       "_model_module": "@jupyter-widgets/controls",
       "_model_module_version": "2.0.0",
       "_model_name": "HTMLModel",
       "_view_count": null,
       "_view_module": "@jupyter-widgets/controls",
       "_view_module_version": "2.0.0",
       "_view_name": "HTMLView",
       "description": "",
       "description_allow_html": false,
       "layout": "IPY_MODEL_2d84f469b71a464baa305617664e773a",
       "placeholder": "​",
       "style": "IPY_MODEL_8bbaa40099024db4b0cb42431a580a0f",
       "tabbable": null,
       "tooltip": null,
       "value": " 4/4 [00:00&lt;00:00, 613.07it/s]"
      }
     },
     "a55345dfbb2c490dbc494182e0e55a5e": {
      "model_module": "@jupyter-widgets/controls",
      "model_module_version": "2.0.0",
      "model_name": "FloatProgressModel",
      "state": {
       "_dom_classes": [],
       "_model_module": "@jupyter-widgets/controls",
       "_model_module_version": "2.0.0",
       "_model_name": "FloatProgressModel",
       "_view_count": null,
       "_view_module": "@jupyter-widgets/controls",
       "_view_module_version": "2.0.0",
       "_view_name": "ProgressView",
       "bar_style": "success",
       "description": "",
       "description_allow_html": false,
       "layout": "IPY_MODEL_67d362558a41469c833fa130b0cced35",
       "max": 231508,
       "min": 0,
       "orientation": "horizontal",
       "style": "IPY_MODEL_60818a85cf604c0687544394f50e2ffe",
       "tabbable": null,
       "tooltip": null,
       "value": 231508
      }
     },
     "a6f2892caf2f4e898def829c361f21f3": {
      "model_module": "@jupyter-widgets/controls",
      "model_module_version": "2.0.0",
      "model_name": "HTMLStyleModel",
      "state": {
       "_model_module": "@jupyter-widgets/controls",
       "_model_module_version": "2.0.0",
       "_model_name": "HTMLStyleModel",
       "_view_count": null,
       "_view_module": "@jupyter-widgets/base",
       "_view_module_version": "2.0.0",
       "_view_name": "StyleView",
       "background": null,
       "description_width": "",
       "font_size": null,
       "text_color": null
      }
     },
     "a8dcb6f6e2db4425a68ee47738fdba16": {
      "model_module": "@jupyter-widgets/base",
      "model_module_version": "2.0.0",
      "model_name": "LayoutModel",
      "state": {
       "_model_module": "@jupyter-widgets/base",
       "_model_module_version": "2.0.0",
       "_model_name": "LayoutModel",
       "_view_count": null,
       "_view_module": "@jupyter-widgets/base",
       "_view_module_version": "2.0.0",
       "_view_name": "LayoutView",
       "align_content": null,
       "align_items": null,
       "align_self": null,
       "border_bottom": null,
       "border_left": null,
       "border_right": null,
       "border_top": null,
       "bottom": null,
       "display": null,
       "flex": null,
       "flex_flow": null,
       "grid_area": null,
       "grid_auto_columns": null,
       "grid_auto_flow": null,
       "grid_auto_rows": null,
       "grid_column": null,
       "grid_gap": null,
       "grid_row": null,
       "grid_template_areas": null,
       "grid_template_columns": null,
       "grid_template_rows": null,
       "height": null,
       "justify_content": null,
       "justify_items": null,
       "left": null,
       "margin": null,
       "max_height": null,
       "max_width": null,
       "min_height": null,
       "min_width": null,
       "object_fit": null,
       "object_position": null,
       "order": null,
       "overflow": null,
       "padding": null,
       "right": null,
       "top": null,
       "visibility": null,
       "width": null
      }
     },
     "aa99928a435e4f51a07f6984d8327aac": {
      "model_module": "@jupyter-widgets/base",
      "model_module_version": "2.0.0",
      "model_name": "LayoutModel",
      "state": {
       "_model_module": "@jupyter-widgets/base",
       "_model_module_version": "2.0.0",
       "_model_name": "LayoutModel",
       "_view_count": null,
       "_view_module": "@jupyter-widgets/base",
       "_view_module_version": "2.0.0",
       "_view_name": "LayoutView",
       "align_content": null,
       "align_items": null,
       "align_self": null,
       "border_bottom": null,
       "border_left": null,
       "border_right": null,
       "border_top": null,
       "bottom": null,
       "display": null,
       "flex": null,
       "flex_flow": null,
       "grid_area": null,
       "grid_auto_columns": null,
       "grid_auto_flow": null,
       "grid_auto_rows": null,
       "grid_column": null,
       "grid_gap": null,
       "grid_row": null,
       "grid_template_areas": null,
       "grid_template_columns": null,
       "grid_template_rows": null,
       "height": null,
       "justify_content": null,
       "justify_items": null,
       "left": null,
       "margin": null,
       "max_height": null,
       "max_width": null,
       "min_height": null,
       "min_width": null,
       "object_fit": null,
       "object_position": null,
       "order": null,
       "overflow": null,
       "padding": null,
       "right": null,
       "top": null,
       "visibility": null,
       "width": null
      }
     },
     "ab3d2392b6ad441991d34a3e38af6182": {
      "model_module": "@jupyter-widgets/controls",
      "model_module_version": "2.0.0",
      "model_name": "HTMLStyleModel",
      "state": {
       "_model_module": "@jupyter-widgets/controls",
       "_model_module_version": "2.0.0",
       "_model_name": "HTMLStyleModel",
       "_view_count": null,
       "_view_module": "@jupyter-widgets/base",
       "_view_module_version": "2.0.0",
       "_view_name": "StyleView",
       "background": null,
       "description_width": "",
       "font_size": null,
       "text_color": null
      }
     },
     "ad9170f3d37245279895d921d90b5914": {
      "model_module": "@jupyter-widgets/controls",
      "model_module_version": "2.0.0",
      "model_name": "HTMLModel",
      "state": {
       "_dom_classes": [],
       "_model_module": "@jupyter-widgets/controls",
       "_model_module_version": "2.0.0",
       "_model_name": "HTMLModel",
       "_view_count": null,
       "_view_module": "@jupyter-widgets/controls",
       "_view_module_version": "2.0.0",
       "_view_name": "HTMLView",
       "description": "",
       "description_allow_html": false,
       "layout": "IPY_MODEL_04584be900ca41f1bee0e0076c8b13e6",
       "placeholder": "​",
       "style": "IPY_MODEL_a25d9e4dee6b48ab9078de79e064fdcc",
       "tabbable": null,
       "tooltip": null,
       "value": "train-00001-of-00002.parquet: 100%"
      }
     },
     "b02dd3250f9f45179fdf5dacefcc3cf8": {
      "model_module": "@jupyter-widgets/base",
      "model_module_version": "2.0.0",
      "model_name": "LayoutModel",
      "state": {
       "_model_module": "@jupyter-widgets/base",
       "_model_module_version": "2.0.0",
       "_model_name": "LayoutModel",
       "_view_count": null,
       "_view_module": "@jupyter-widgets/base",
       "_view_module_version": "2.0.0",
       "_view_name": "LayoutView",
       "align_content": null,
       "align_items": null,
       "align_self": null,
       "border_bottom": null,
       "border_left": null,
       "border_right": null,
       "border_top": null,
       "bottom": null,
       "display": null,
       "flex": null,
       "flex_flow": null,
       "grid_area": null,
       "grid_auto_columns": null,
       "grid_auto_flow": null,
       "grid_auto_rows": null,
       "grid_column": null,
       "grid_gap": null,
       "grid_row": null,
       "grid_template_areas": null,
       "grid_template_columns": null,
       "grid_template_rows": null,
       "height": null,
       "justify_content": null,
       "justify_items": null,
       "left": null,
       "margin": null,
       "max_height": null,
       "max_width": null,
       "min_height": null,
       "min_width": null,
       "object_fit": null,
       "object_position": null,
       "order": null,
       "overflow": null,
       "padding": null,
       "right": null,
       "top": null,
       "visibility": null,
       "width": null
      }
     },
     "b0fa456c20a44384a642dd4208abc925": {
      "model_module": "@jupyter-widgets/controls",
      "model_module_version": "2.0.0",
      "model_name": "HBoxModel",
      "state": {
       "_dom_classes": [],
       "_model_module": "@jupyter-widgets/controls",
       "_model_module_version": "2.0.0",
       "_model_name": "HBoxModel",
       "_view_count": null,
       "_view_module": "@jupyter-widgets/controls",
       "_view_module_version": "2.0.0",
       "_view_name": "HBoxView",
       "box_style": "",
       "children": [
        "IPY_MODEL_e32bcb2084784e0ab21b619e0ceb04f4",
        "IPY_MODEL_1312de4571d44fd7b9f9b354d5a56f98",
        "IPY_MODEL_f2752904489e42aaabb81d7d0bc564f4"
       ],
       "layout": "IPY_MODEL_5b67eb5e03de4ff68511d4c2e26c9274",
       "tabbable": null,
       "tooltip": null
      }
     },
     "b12246652c874b66b53dde9c5a276d85": {
      "model_module": "@jupyter-widgets/controls",
      "model_module_version": "2.0.0",
      "model_name": "HTMLModel",
      "state": {
       "_dom_classes": [],
       "_model_module": "@jupyter-widgets/controls",
       "_model_module_version": "2.0.0",
       "_model_name": "HTMLModel",
       "_view_count": null,
       "_view_module": "@jupyter-widgets/controls",
       "_view_module_version": "2.0.0",
       "_view_name": "HTMLView",
       "description": "",
       "description_allow_html": false,
       "layout": "IPY_MODEL_b82dbf2a406442f8ac302236a710dbb8",
       "placeholder": "​",
       "style": "IPY_MODEL_b67e4a58e9d34c2aa6eeb7c50daa9427",
       "tabbable": null,
       "tooltip": null,
       "value": "Generating validation split: 100%"
      }
     },
     "b1d3234dafe84294a2d2ece1294f0ae6": {
      "model_module": "@jupyter-widgets/base",
      "model_module_version": "2.0.0",
      "model_name": "LayoutModel",
      "state": {
       "_model_module": "@jupyter-widgets/base",
       "_model_module_version": "2.0.0",
       "_model_name": "LayoutModel",
       "_view_count": null,
       "_view_module": "@jupyter-widgets/base",
       "_view_module_version": "2.0.0",
       "_view_name": "LayoutView",
       "align_content": null,
       "align_items": null,
       "align_self": null,
       "border_bottom": null,
       "border_left": null,
       "border_right": null,
       "border_top": null,
       "bottom": null,
       "display": null,
       "flex": null,
       "flex_flow": null,
       "grid_area": null,
       "grid_auto_columns": null,
       "grid_auto_flow": null,
       "grid_auto_rows": null,
       "grid_column": null,
       "grid_gap": null,
       "grid_row": null,
       "grid_template_areas": null,
       "grid_template_columns": null,
       "grid_template_rows": null,
       "height": null,
       "justify_content": null,
       "justify_items": null,
       "left": null,
       "margin": null,
       "max_height": null,
       "max_width": null,
       "min_height": null,
       "min_width": null,
       "object_fit": null,
       "object_position": null,
       "order": null,
       "overflow": null,
       "padding": null,
       "right": null,
       "top": null,
       "visibility": null,
       "width": null
      }
     },
     "b1f979ebc2aa4dc085d1874a580f14d0": {
      "model_module": "@jupyter-widgets/controls",
      "model_module_version": "2.0.0",
      "model_name": "HTMLModel",
      "state": {
       "_dom_classes": [],
       "_model_module": "@jupyter-widgets/controls",
       "_model_module_version": "2.0.0",
       "_model_name": "HTMLModel",
       "_view_count": null,
       "_view_module": "@jupyter-widgets/controls",
       "_view_module_version": "2.0.0",
       "_view_name": "HTMLView",
       "description": "",
       "description_allow_html": false,
       "layout": "IPY_MODEL_21dd10f75880482e93f95bd94c981e45",
       "placeholder": "​",
       "style": "IPY_MODEL_73121b8598304351b827dba0f0b7413a",
       "tabbable": null,
       "tooltip": null,
       "value": " 722k/722k [00:00&lt;00:00, 11.8MB/s]"
      }
     },
     "b29555faa76d48f2b0f5affc684c1537": {
      "model_module": "@jupyter-widgets/controls",
      "model_module_version": "2.0.0",
      "model_name": "HTMLModel",
      "state": {
       "_dom_classes": [],
       "_model_module": "@jupyter-widgets/controls",
       "_model_module_version": "2.0.0",
       "_model_name": "HTMLModel",
       "_view_count": null,
       "_view_module": "@jupyter-widgets/controls",
       "_view_module_version": "2.0.0",
       "_view_name": "HTMLView",
       "description": "",
       "description_allow_html": false,
       "layout": "IPY_MODEL_65e4a790d8ed430a880103a9cded2961",
       "placeholder": "​",
       "style": "IPY_MODEL_c895ac5ffa25443eb41ed115e6d9cccb",
       "tabbable": null,
       "tooltip": null,
       "value": "Computing checksums: 100%"
      }
     },
     "b44d2e779e2841d1bc0799aa1e7d3582": {
      "model_module": "@jupyter-widgets/base",
      "model_module_version": "2.0.0",
      "model_name": "LayoutModel",
      "state": {
       "_model_module": "@jupyter-widgets/base",
       "_model_module_version": "2.0.0",
       "_model_name": "LayoutModel",
       "_view_count": null,
       "_view_module": "@jupyter-widgets/base",
       "_view_module_version": "2.0.0",
       "_view_name": "LayoutView",
       "align_content": null,
       "align_items": null,
       "align_self": null,
       "border_bottom": null,
       "border_left": null,
       "border_right": null,
       "border_top": null,
       "bottom": null,
       "display": null,
       "flex": null,
       "flex_flow": null,
       "grid_area": null,
       "grid_auto_columns": null,
       "grid_auto_flow": null,
       "grid_auto_rows": null,
       "grid_column": null,
       "grid_gap": null,
       "grid_row": null,
       "grid_template_areas": null,
       "grid_template_columns": null,
       "grid_template_rows": null,
       "height": null,
       "justify_content": null,
       "justify_items": null,
       "left": null,
       "margin": null,
       "max_height": null,
       "max_width": null,
       "min_height": null,
       "min_width": null,
       "object_fit": null,
       "object_position": null,
       "order": null,
       "overflow": null,
       "padding": null,
       "right": null,
       "top": null,
       "visibility": null,
       "width": null
      }
     },
     "b535602abdb448dfbf3b3c3a71fd2377": {
      "model_module": "@jupyter-widgets/base",
      "model_module_version": "2.0.0",
      "model_name": "LayoutModel",
      "state": {
       "_model_module": "@jupyter-widgets/base",
       "_model_module_version": "2.0.0",
       "_model_name": "LayoutModel",
       "_view_count": null,
       "_view_module": "@jupyter-widgets/base",
       "_view_module_version": "2.0.0",
       "_view_name": "LayoutView",
       "align_content": null,
       "align_items": null,
       "align_self": null,
       "border_bottom": null,
       "border_left": null,
       "border_right": null,
       "border_top": null,
       "bottom": null,
       "display": null,
       "flex": null,
       "flex_flow": null,
       "grid_area": null,
       "grid_auto_columns": null,
       "grid_auto_flow": null,
       "grid_auto_rows": null,
       "grid_column": null,
       "grid_gap": null,
       "grid_row": null,
       "grid_template_areas": null,
       "grid_template_columns": null,
       "grid_template_rows": null,
       "height": null,
       "justify_content": null,
       "justify_items": null,
       "left": null,
       "margin": null,
       "max_height": null,
       "max_width": null,
       "min_height": null,
       "min_width": null,
       "object_fit": null,
       "object_position": null,
       "order": null,
       "overflow": null,
       "padding": null,
       "right": null,
       "top": null,
       "visibility": null,
       "width": null
      }
     },
     "b67e4a58e9d34c2aa6eeb7c50daa9427": {
      "model_module": "@jupyter-widgets/controls",
      "model_module_version": "2.0.0",
      "model_name": "HTMLStyleModel",
      "state": {
       "_model_module": "@jupyter-widgets/controls",
       "_model_module_version": "2.0.0",
       "_model_name": "HTMLStyleModel",
       "_view_count": null,
       "_view_module": "@jupyter-widgets/base",
       "_view_module_version": "2.0.0",
       "_view_name": "StyleView",
       "background": null,
       "description_width": "",
       "font_size": null,
       "text_color": null
      }
     },
     "b7bae056383c46f6b3cc50e850b1588d": {
      "model_module": "@jupyter-widgets/controls",
      "model_module_version": "2.0.0",
      "model_name": "HTMLStyleModel",
      "state": {
       "_model_module": "@jupyter-widgets/controls",
       "_model_module_version": "2.0.0",
       "_model_name": "HTMLStyleModel",
       "_view_count": null,
       "_view_module": "@jupyter-widgets/base",
       "_view_module_version": "2.0.0",
       "_view_name": "StyleView",
       "background": null,
       "description_width": "",
       "font_size": null,
       "text_color": null
      }
     },
     "b82dbf2a406442f8ac302236a710dbb8": {
      "model_module": "@jupyter-widgets/base",
      "model_module_version": "2.0.0",
      "model_name": "LayoutModel",
      "state": {
       "_model_module": "@jupyter-widgets/base",
       "_model_module_version": "2.0.0",
       "_model_name": "LayoutModel",
       "_view_count": null,
       "_view_module": "@jupyter-widgets/base",
       "_view_module_version": "2.0.0",
       "_view_name": "LayoutView",
       "align_content": null,
       "align_items": null,
       "align_self": null,
       "border_bottom": null,
       "border_left": null,
       "border_right": null,
       "border_top": null,
       "bottom": null,
       "display": null,
       "flex": null,
       "flex_flow": null,
       "grid_area": null,
       "grid_auto_columns": null,
       "grid_auto_flow": null,
       "grid_auto_rows": null,
       "grid_column": null,
       "grid_gap": null,
       "grid_row": null,
       "grid_template_areas": null,
       "grid_template_columns": null,
       "grid_template_rows": null,
       "height": null,
       "justify_content": null,
       "justify_items": null,
       "left": null,
       "margin": null,
       "max_height": null,
       "max_width": null,
       "min_height": null,
       "min_width": null,
       "object_fit": null,
       "object_position": null,
       "order": null,
       "overflow": null,
       "padding": null,
       "right": null,
       "top": null,
       "visibility": null,
       "width": null
      }
     },
     "b99cea983c194a67a2a23e0ff4f3346f": {
      "model_module": "@jupyter-widgets/controls",
      "model_module_version": "2.0.0",
      "model_name": "ProgressStyleModel",
      "state": {
       "_model_module": "@jupyter-widgets/controls",
       "_model_module_version": "2.0.0",
       "_model_name": "ProgressStyleModel",
       "_view_count": null,
       "_view_module": "@jupyter-widgets/base",
       "_view_module_version": "2.0.0",
       "_view_name": "StyleView",
       "bar_color": null,
       "description_width": ""
      }
     },
     "bbcad5417ce7414e9dda9213e185f3fb": {
      "model_module": "@jupyter-widgets/controls",
      "model_module_version": "2.0.0",
      "model_name": "FloatProgressModel",
      "state": {
       "_dom_classes": [],
       "_model_module": "@jupyter-widgets/controls",
       "_model_module_version": "2.0.0",
       "_model_name": "FloatProgressModel",
       "_view_count": null,
       "_view_module": "@jupyter-widgets/controls",
       "_view_module_version": "2.0.0",
       "_view_name": "ProgressView",
       "bar_style": "success",
       "description": "",
       "description_allow_html": false,
       "layout": "IPY_MODEL_1463164d9297427ab09b6bc03d4c2aa4",
       "max": 3760,
       "min": 0,
       "orientation": "horizontal",
       "style": "IPY_MODEL_02ff369344a3427589cded57d3995352",
       "tabbable": null,
       "tooltip": null,
       "value": 3760
      }
     },
     "bebccd7108ff43dfb2f41962b6f8e3c3": {
      "model_module": "@jupyter-widgets/controls",
      "model_module_version": "2.0.0",
      "model_name": "HBoxModel",
      "state": {
       "_dom_classes": [],
       "_model_module": "@jupyter-widgets/controls",
       "_model_module_version": "2.0.0",
       "_model_name": "HBoxModel",
       "_view_count": null,
       "_view_module": "@jupyter-widgets/controls",
       "_view_module_version": "2.0.0",
       "_view_name": "HBoxView",
       "box_style": "",
       "children": [
        "IPY_MODEL_b12246652c874b66b53dde9c5a276d85",
        "IPY_MODEL_bbcad5417ce7414e9dda9213e185f3fb",
        "IPY_MODEL_44d926a0e7a14704b8ebc4f01c491340"
       ],
       "layout": "IPY_MODEL_0b0bea6ec6df47fdb9699df3c3df39fa",
       "tabbable": null,
       "tooltip": null
      }
     },
     "bfec2cab2e124e61a2e3348101a10eee": {
      "model_module": "@jupyter-widgets/controls",
      "model_module_version": "2.0.0",
      "model_name": "ProgressStyleModel",
      "state": {
       "_model_module": "@jupyter-widgets/controls",
       "_model_module_version": "2.0.0",
       "_model_name": "ProgressStyleModel",
       "_view_count": null,
       "_view_module": "@jupyter-widgets/base",
       "_view_module_version": "2.0.0",
       "_view_name": "StyleView",
       "bar_color": null,
       "description_width": ""
      }
     },
     "c30f50ae958947ea8695bb48e3b2ffb8": {
      "model_module": "@jupyter-widgets/controls",
      "model_module_version": "2.0.0",
      "model_name": "FloatProgressModel",
      "state": {
       "_dom_classes": [],
       "_model_module": "@jupyter-widgets/controls",
       "_model_module_version": "2.0.0",
       "_model_name": "FloatProgressModel",
       "_view_count": null,
       "_view_module": "@jupyter-widgets/controls",
       "_view_module_version": "2.0.0",
       "_view_name": "ProgressView",
       "bar_style": "success",
       "description": "",
       "description_allow_html": false,
       "layout": "IPY_MODEL_651224fd5f0345e6ba042b65ca0e5e8b",
       "max": 570,
       "min": 0,
       "orientation": "horizontal",
       "style": "IPY_MODEL_5acf4c1bcf9843269afdb30c6bbc2cf0",
       "tabbable": null,
       "tooltip": null,
       "value": 570
      }
     },
     "c4636dcf3fdb4a949fa663e806690a82": {
      "model_module": "@jupyter-widgets/controls",
      "model_module_version": "2.0.0",
      "model_name": "ProgressStyleModel",
      "state": {
       "_model_module": "@jupyter-widgets/controls",
       "_model_module_version": "2.0.0",
       "_model_name": "ProgressStyleModel",
       "_view_count": null,
       "_view_module": "@jupyter-widgets/base",
       "_view_module_version": "2.0.0",
       "_view_name": "StyleView",
       "bar_color": null,
       "description_width": ""
      }
     },
     "c895ac5ffa25443eb41ed115e6d9cccb": {
      "model_module": "@jupyter-widgets/controls",
      "model_module_version": "2.0.0",
      "model_name": "HTMLStyleModel",
      "state": {
       "_model_module": "@jupyter-widgets/controls",
       "_model_module_version": "2.0.0",
       "_model_name": "HTMLStyleModel",
       "_view_count": null,
       "_view_module": "@jupyter-widgets/base",
       "_view_module_version": "2.0.0",
       "_view_name": "StyleView",
       "background": null,
       "description_width": "",
       "font_size": null,
       "text_color": null
      }
     },
     "ca1b0f93b8174d238612af46cc0a0dc3": {
      "model_module": "@jupyter-widgets/base",
      "model_module_version": "2.0.0",
      "model_name": "LayoutModel",
      "state": {
       "_model_module": "@jupyter-widgets/base",
       "_model_module_version": "2.0.0",
       "_model_name": "LayoutModel",
       "_view_count": null,
       "_view_module": "@jupyter-widgets/base",
       "_view_module_version": "2.0.0",
       "_view_name": "LayoutView",
       "align_content": null,
       "align_items": null,
       "align_self": null,
       "border_bottom": null,
       "border_left": null,
       "border_right": null,
       "border_top": null,
       "bottom": null,
       "display": null,
       "flex": null,
       "flex_flow": null,
       "grid_area": null,
       "grid_auto_columns": null,
       "grid_auto_flow": null,
       "grid_auto_rows": null,
       "grid_column": null,
       "grid_gap": null,
       "grid_row": null,
       "grid_template_areas": null,
       "grid_template_columns": null,
       "grid_template_rows": null,
       "height": null,
       "justify_content": null,
       "justify_items": null,
       "left": null,
       "margin": null,
       "max_height": null,
       "max_width": null,
       "min_height": null,
       "min_width": null,
       "object_fit": null,
       "object_position": null,
       "order": null,
       "overflow": null,
       "padding": null,
       "right": null,
       "top": null,
       "visibility": null,
       "width": null
      }
     },
     "cbffd4b2f30b4400a8300afbbd7c391f": {
      "model_module": "@jupyter-widgets/controls",
      "model_module_version": "2.0.0",
      "model_name": "HBoxModel",
      "state": {
       "_dom_classes": [],
       "_model_module": "@jupyter-widgets/controls",
       "_model_module_version": "2.0.0",
       "_model_name": "HBoxModel",
       "_view_count": null,
       "_view_module": "@jupyter-widgets/controls",
       "_view_module_version": "2.0.0",
       "_view_name": "HBoxView",
       "box_style": "",
       "children": [
        "IPY_MODEL_261444c3c5bb48bfa9bcf60c67c426c7",
        "IPY_MODEL_0992dd6a577e46c2b7ea71816d61f942",
        "IPY_MODEL_0af3364fa14047a59f770d131ff28abd"
       ],
       "layout": "IPY_MODEL_d5a2aec6f3ae48dc820bef6693537490",
       "tabbable": null,
       "tooltip": null
      }
     },
     "cc7b63b07bed4d219a83087a91af02b1": {
      "model_module": "@jupyter-widgets/base",
      "model_module_version": "2.0.0",
      "model_name": "LayoutModel",
      "state": {
       "_model_module": "@jupyter-widgets/base",
       "_model_module_version": "2.0.0",
       "_model_name": "LayoutModel",
       "_view_count": null,
       "_view_module": "@jupyter-widgets/base",
       "_view_module_version": "2.0.0",
       "_view_name": "LayoutView",
       "align_content": null,
       "align_items": null,
       "align_self": null,
       "border_bottom": null,
       "border_left": null,
       "border_right": null,
       "border_top": null,
       "bottom": null,
       "display": null,
       "flex": null,
       "flex_flow": null,
       "grid_area": null,
       "grid_auto_columns": null,
       "grid_auto_flow": null,
       "grid_auto_rows": null,
       "grid_column": null,
       "grid_gap": null,
       "grid_row": null,
       "grid_template_areas": null,
       "grid_template_columns": null,
       "grid_template_rows": null,
       "height": null,
       "justify_content": null,
       "justify_items": null,
       "left": null,
       "margin": null,
       "max_height": null,
       "max_width": null,
       "min_height": null,
       "min_width": null,
       "object_fit": null,
       "object_position": null,
       "order": null,
       "overflow": null,
       "padding": null,
       "right": null,
       "top": null,
       "visibility": null,
       "width": null
      }
     },
     "cfba62f146244e2a8fa992693a4aeb1a": {
      "model_module": "@jupyter-widgets/controls",
      "model_module_version": "2.0.0",
      "model_name": "HBoxModel",
      "state": {
       "_dom_classes": [],
       "_model_module": "@jupyter-widgets/controls",
       "_model_module_version": "2.0.0",
       "_model_name": "HBoxModel",
       "_view_count": null,
       "_view_module": "@jupyter-widgets/controls",
       "_view_module_version": "2.0.0",
       "_view_name": "HBoxView",
       "box_style": "",
       "children": [
        "IPY_MODEL_061110392cb7426f954b0f6a9ddb7a47",
        "IPY_MODEL_f3dc32f352ba41bb8b29f01c03ad0b95",
        "IPY_MODEL_11a37416a6d14311b23df41958465116"
       ],
       "layout": "IPY_MODEL_ebc31962fedb46ceb1ec52285b0ee6a5",
       "tabbable": null,
       "tooltip": null
      }
     },
     "d5a2aec6f3ae48dc820bef6693537490": {
      "model_module": "@jupyter-widgets/base",
      "model_module_version": "2.0.0",
      "model_name": "LayoutModel",
      "state": {
       "_model_module": "@jupyter-widgets/base",
       "_model_module_version": "2.0.0",
       "_model_name": "LayoutModel",
       "_view_count": null,
       "_view_module": "@jupyter-widgets/base",
       "_view_module_version": "2.0.0",
       "_view_name": "LayoutView",
       "align_content": null,
       "align_items": null,
       "align_self": null,
       "border_bottom": null,
       "border_left": null,
       "border_right": null,
       "border_top": null,
       "bottom": null,
       "display": null,
       "flex": null,
       "flex_flow": null,
       "grid_area": null,
       "grid_auto_columns": null,
       "grid_auto_flow": null,
       "grid_auto_rows": null,
       "grid_column": null,
       "grid_gap": null,
       "grid_row": null,
       "grid_template_areas": null,
       "grid_template_columns": null,
       "grid_template_rows": null,
       "height": null,
       "justify_content": null,
       "justify_items": null,
       "left": null,
       "margin": null,
       "max_height": null,
       "max_width": null,
       "min_height": null,
       "min_width": null,
       "object_fit": null,
       "object_position": null,
       "order": null,
       "overflow": null,
       "padding": null,
       "right": null,
       "top": null,
       "visibility": null,
       "width": null
      }
     },
     "d8c068014b3b427ca1d0165df54cf137": {
      "model_module": "@jupyter-widgets/base",
      "model_module_version": "2.0.0",
      "model_name": "LayoutModel",
      "state": {
       "_model_module": "@jupyter-widgets/base",
       "_model_module_version": "2.0.0",
       "_model_name": "LayoutModel",
       "_view_count": null,
       "_view_module": "@jupyter-widgets/base",
       "_view_module_version": "2.0.0",
       "_view_name": "LayoutView",
       "align_content": null,
       "align_items": null,
       "align_self": null,
       "border_bottom": null,
       "border_left": null,
       "border_right": null,
       "border_top": null,
       "bottom": null,
       "display": null,
       "flex": null,
       "flex_flow": null,
       "grid_area": null,
       "grid_auto_columns": null,
       "grid_auto_flow": null,
       "grid_auto_rows": null,
       "grid_column": null,
       "grid_gap": null,
       "grid_row": null,
       "grid_template_areas": null,
       "grid_template_columns": null,
       "grid_template_rows": null,
       "height": null,
       "justify_content": null,
       "justify_items": null,
       "left": null,
       "margin": null,
       "max_height": null,
       "max_width": null,
       "min_height": null,
       "min_width": null,
       "object_fit": null,
       "object_position": null,
       "order": null,
       "overflow": null,
       "padding": null,
       "right": null,
       "top": null,
       "visibility": null,
       "width": null
      }
     },
     "de96c8fe91d241cda276874235ee8554": {
      "model_module": "@jupyter-widgets/base",
      "model_module_version": "2.0.0",
      "model_name": "LayoutModel",
      "state": {
       "_model_module": "@jupyter-widgets/base",
       "_model_module_version": "2.0.0",
       "_model_name": "LayoutModel",
       "_view_count": null,
       "_view_module": "@jupyter-widgets/base",
       "_view_module_version": "2.0.0",
       "_view_name": "LayoutView",
       "align_content": null,
       "align_items": null,
       "align_self": null,
       "border_bottom": null,
       "border_left": null,
       "border_right": null,
       "border_top": null,
       "bottom": null,
       "display": null,
       "flex": null,
       "flex_flow": null,
       "grid_area": null,
       "grid_auto_columns": null,
       "grid_auto_flow": null,
       "grid_auto_rows": null,
       "grid_column": null,
       "grid_gap": null,
       "grid_row": null,
       "grid_template_areas": null,
       "grid_template_columns": null,
       "grid_template_rows": null,
       "height": null,
       "justify_content": null,
       "justify_items": null,
       "left": null,
       "margin": null,
       "max_height": null,
       "max_width": null,
       "min_height": null,
       "min_width": null,
       "object_fit": null,
       "object_position": null,
       "order": null,
       "overflow": null,
       "padding": null,
       "right": null,
       "top": null,
       "visibility": null,
       "width": null
      }
     },
     "e32bcb2084784e0ab21b619e0ceb04f4": {
      "model_module": "@jupyter-widgets/controls",
      "model_module_version": "2.0.0",
      "model_name": "HTMLModel",
      "state": {
       "_dom_classes": [],
       "_model_module": "@jupyter-widgets/controls",
       "_model_module_version": "2.0.0",
       "_model_name": "HTMLModel",
       "_view_count": null,
       "_view_module": "@jupyter-widgets/controls",
       "_view_module_version": "2.0.0",
       "_view_name": "HTMLView",
       "description": "",
       "description_allow_html": false,
       "layout": "IPY_MODEL_cc7b63b07bed4d219a83087a91af02b1",
       "placeholder": "​",
       "style": "IPY_MODEL_a46b41451c6c4e81ad48de17a75f91b6",
       "tabbable": null,
       "tooltip": null,
       "value": "train-00000-of-00002.parquet: 100%"
      }
     },
     "e4e27daebc294f8c8a6c88414ac99ef0": {
      "model_module": "@jupyter-widgets/controls",
      "model_module_version": "2.0.0",
      "model_name": "HTMLModel",
      "state": {
       "_dom_classes": [],
       "_model_module": "@jupyter-widgets/controls",
       "_model_module_version": "2.0.0",
       "_model_name": "HTMLModel",
       "_view_count": null,
       "_view_module": "@jupyter-widgets/controls",
       "_view_module_version": "2.0.0",
       "_view_name": "HTMLView",
       "description": "",
       "description_allow_html": false,
       "layout": "IPY_MODEL_e613195ff226462188e7cec8846ddfae",
       "placeholder": "​",
       "style": "IPY_MODEL_9cfb7447f096461cad99ceb34632e9c0",
       "tabbable": null,
       "tooltip": null,
       "value": "config.json: 100%"
      }
     },
     "e613195ff226462188e7cec8846ddfae": {
      "model_module": "@jupyter-widgets/base",
      "model_module_version": "2.0.0",
      "model_name": "LayoutModel",
      "state": {
       "_model_module": "@jupyter-widgets/base",
       "_model_module_version": "2.0.0",
       "_model_name": "LayoutModel",
       "_view_count": null,
       "_view_module": "@jupyter-widgets/base",
       "_view_module_version": "2.0.0",
       "_view_name": "LayoutView",
       "align_content": null,
       "align_items": null,
       "align_self": null,
       "border_bottom": null,
       "border_left": null,
       "border_right": null,
       "border_top": null,
       "bottom": null,
       "display": null,
       "flex": null,
       "flex_flow": null,
       "grid_area": null,
       "grid_auto_columns": null,
       "grid_auto_flow": null,
       "grid_auto_rows": null,
       "grid_column": null,
       "grid_gap": null,
       "grid_row": null,
       "grid_template_areas": null,
       "grid_template_columns": null,
       "grid_template_rows": null,
       "height": null,
       "justify_content": null,
       "justify_items": null,
       "left": null,
       "margin": null,
       "max_height": null,
       "max_width": null,
       "min_height": null,
       "min_width": null,
       "object_fit": null,
       "object_position": null,
       "order": null,
       "overflow": null,
       "padding": null,
       "right": null,
       "top": null,
       "visibility": null,
       "width": null
      }
     },
     "e7231897f95f48b597fbb500ab8d44a4": {
      "model_module": "@jupyter-widgets/base",
      "model_module_version": "2.0.0",
      "model_name": "LayoutModel",
      "state": {
       "_model_module": "@jupyter-widgets/base",
       "_model_module_version": "2.0.0",
       "_model_name": "LayoutModel",
       "_view_count": null,
       "_view_module": "@jupyter-widgets/base",
       "_view_module_version": "2.0.0",
       "_view_name": "LayoutView",
       "align_content": null,
       "align_items": null,
       "align_self": null,
       "border_bottom": null,
       "border_left": null,
       "border_right": null,
       "border_top": null,
       "bottom": null,
       "display": null,
       "flex": null,
       "flex_flow": null,
       "grid_area": null,
       "grid_auto_columns": null,
       "grid_auto_flow": null,
       "grid_auto_rows": null,
       "grid_column": null,
       "grid_gap": null,
       "grid_row": null,
       "grid_template_areas": null,
       "grid_template_columns": null,
       "grid_template_rows": null,
       "height": null,
       "justify_content": null,
       "justify_items": null,
       "left": null,
       "margin": null,
       "max_height": null,
       "max_width": null,
       "min_height": null,
       "min_width": null,
       "object_fit": null,
       "object_position": null,
       "order": null,
       "overflow": null,
       "padding": null,
       "right": null,
       "top": null,
       "visibility": null,
       "width": null
      }
     },
     "e737054584ac4228bc5d9fee7d47a3b8": {
      "model_module": "@jupyter-widgets/controls",
      "model_module_version": "2.0.0",
      "model_name": "ProgressStyleModel",
      "state": {
       "_model_module": "@jupyter-widgets/controls",
       "_model_module_version": "2.0.0",
       "_model_name": "ProgressStyleModel",
       "_view_count": null,
       "_view_module": "@jupyter-widgets/base",
       "_view_module_version": "2.0.0",
       "_view_name": "StyleView",
       "bar_color": null,
       "description_width": ""
      }
     },
     "e9df96deeb214ff68cbe70b4632bbd1a": {
      "model_module": "@jupyter-widgets/controls",
      "model_module_version": "2.0.0",
      "model_name": "HTMLStyleModel",
      "state": {
       "_model_module": "@jupyter-widgets/controls",
       "_model_module_version": "2.0.0",
       "_model_name": "HTMLStyleModel",
       "_view_count": null,
       "_view_module": "@jupyter-widgets/base",
       "_view_module_version": "2.0.0",
       "_view_name": "StyleView",
       "background": null,
       "description_width": "",
       "font_size": null,
       "text_color": null
      }
     },
     "ea95d53996dd4bcba85d4a87b1e19ca3": {
      "model_module": "@jupyter-widgets/controls",
      "model_module_version": "2.0.0",
      "model_name": "HTMLStyleModel",
      "state": {
       "_model_module": "@jupyter-widgets/controls",
       "_model_module_version": "2.0.0",
       "_model_name": "HTMLStyleModel",
       "_view_count": null,
       "_view_module": "@jupyter-widgets/base",
       "_view_module_version": "2.0.0",
       "_view_name": "StyleView",
       "background": null,
       "description_width": "",
       "font_size": null,
       "text_color": null
      }
     },
     "ebc31962fedb46ceb1ec52285b0ee6a5": {
      "model_module": "@jupyter-widgets/base",
      "model_module_version": "2.0.0",
      "model_name": "LayoutModel",
      "state": {
       "_model_module": "@jupyter-widgets/base",
       "_model_module_version": "2.0.0",
       "_model_name": "LayoutModel",
       "_view_count": null,
       "_view_module": "@jupyter-widgets/base",
       "_view_module_version": "2.0.0",
       "_view_name": "LayoutView",
       "align_content": null,
       "align_items": null,
       "align_self": null,
       "border_bottom": null,
       "border_left": null,
       "border_right": null,
       "border_top": null,
       "bottom": null,
       "display": null,
       "flex": null,
       "flex_flow": null,
       "grid_area": null,
       "grid_auto_columns": null,
       "grid_auto_flow": null,
       "grid_auto_rows": null,
       "grid_column": null,
       "grid_gap": null,
       "grid_row": null,
       "grid_template_areas": null,
       "grid_template_columns": null,
       "grid_template_rows": null,
       "height": null,
       "justify_content": null,
       "justify_items": null,
       "left": null,
       "margin": null,
       "max_height": null,
       "max_width": null,
       "min_height": null,
       "min_width": null,
       "object_fit": null,
       "object_position": null,
       "order": null,
       "overflow": null,
       "padding": null,
       "right": null,
       "top": null,
       "visibility": null,
       "width": null
      }
     },
     "ec3579b52e554e34a83d6808117d0381": {
      "model_module": "@jupyter-widgets/controls",
      "model_module_version": "2.0.0",
      "model_name": "HTMLModel",
      "state": {
       "_dom_classes": [],
       "_model_module": "@jupyter-widgets/controls",
       "_model_module_version": "2.0.0",
       "_model_name": "HTMLModel",
       "_view_count": null,
       "_view_module": "@jupyter-widgets/controls",
       "_view_module_version": "2.0.0",
       "_view_name": "HTMLView",
       "description": "",
       "description_allow_html": false,
       "layout": "IPY_MODEL_9633326c27794895989de38e8b852b5c",
       "placeholder": "​",
       "style": "IPY_MODEL_8f82bfc85f334576a560236588fff5fc",
       "tabbable": null,
       "tooltip": null,
       "value": " 156M/156M [00:00&lt;00:00, 245MB/s]"
      }
     },
     "ef43dab6307746fea26f90dd4df4dbc8": {
      "model_module": "@jupyter-widgets/controls",
      "model_module_version": "2.0.0",
      "model_name": "HTMLModel",
      "state": {
       "_dom_classes": [],
       "_model_module": "@jupyter-widgets/controls",
       "_model_module_version": "2.0.0",
       "_model_name": "HTMLModel",
       "_view_count": null,
       "_view_module": "@jupyter-widgets/controls",
       "_view_module_version": "2.0.0",
       "_view_name": "HTMLView",
       "description": "",
       "description_allow_html": false,
       "layout": "IPY_MODEL_4a9cbe80ffc94549994978806338450e",
       "placeholder": "​",
       "style": "IPY_MODEL_13db73b945554653a3bafbb83bdcdd15",
       "tabbable": null,
       "tooltip": null,
       "value": "tokenizer.json: 100%"
      }
     },
     "f2752904489e42aaabb81d7d0bc564f4": {
      "model_module": "@jupyter-widgets/controls",
      "model_module_version": "2.0.0",
      "model_name": "HTMLModel",
      "state": {
       "_dom_classes": [],
       "_model_module": "@jupyter-widgets/controls",
       "_model_module_version": "2.0.0",
       "_model_name": "HTMLModel",
       "_view_count": null,
       "_view_module": "@jupyter-widgets/controls",
       "_view_module_version": "2.0.0",
       "_view_name": "HTMLView",
       "description": "",
       "description_allow_html": false,
       "layout": "IPY_MODEL_201a279d938143859d09efe711b3d340",
       "placeholder": "​",
       "style": "IPY_MODEL_ea95d53996dd4bcba85d4a87b1e19ca3",
       "tabbable": null,
       "tooltip": null,
       "value": " 156M/156M [00:00&lt;00:00, 256MB/s]"
      }
     },
     "f3dc32f352ba41bb8b29f01c03ad0b95": {
      "model_module": "@jupyter-widgets/controls",
      "model_module_version": "2.0.0",
      "model_name": "FloatProgressModel",
      "state": {
       "_dom_classes": [],
       "_model_module": "@jupyter-widgets/controls",
       "_model_module_version": "2.0.0",
       "_model_name": "FloatProgressModel",
       "_view_count": null,
       "_view_module": "@jupyter-widgets/controls",
       "_view_module_version": "2.0.0",
       "_view_name": "ProgressView",
       "bar_style": "success",
       "description": "",
       "description_allow_html": false,
       "layout": "IPY_MODEL_55465087aeca4fa9a433c8ea507ed8fc",
       "max": 655106,
       "min": 0,
       "orientation": "horizontal",
       "style": "IPY_MODEL_e737054584ac4228bc5d9fee7d47a3b8",
       "tabbable": null,
       "tooltip": null,
       "value": 655106
      }
     },
     "f7cb1d6a694a43f5a943abe5e2c22bcb": {
      "model_module": "@jupyter-widgets/base",
      "model_module_version": "2.0.0",
      "model_name": "LayoutModel",
      "state": {
       "_model_module": "@jupyter-widgets/base",
       "_model_module_version": "2.0.0",
       "_model_name": "LayoutModel",
       "_view_count": null,
       "_view_module": "@jupyter-widgets/base",
       "_view_module_version": "2.0.0",
       "_view_name": "LayoutView",
       "align_content": null,
       "align_items": null,
       "align_self": null,
       "border_bottom": null,
       "border_left": null,
       "border_right": null,
       "border_top": null,
       "bottom": null,
       "display": null,
       "flex": null,
       "flex_flow": null,
       "grid_area": null,
       "grid_auto_columns": null,
       "grid_auto_flow": null,
       "grid_auto_rows": null,
       "grid_column": null,
       "grid_gap": null,
       "grid_row": null,
       "grid_template_areas": null,
       "grid_template_columns": null,
       "grid_template_rows": null,
       "height": null,
       "justify_content": null,
       "justify_items": null,
       "left": null,
       "margin": null,
       "max_height": null,
       "max_width": null,
       "min_height": null,
       "min_width": null,
       "object_fit": null,
       "object_position": null,
       "order": null,
       "overflow": null,
       "padding": null,
       "right": null,
       "top": null,
       "visibility": null,
       "width": null
      }
     },
     "f917c571f29048b5a0c1630aab09d745": {
      "model_module": "@jupyter-widgets/base",
      "model_module_version": "2.0.0",
      "model_name": "LayoutModel",
      "state": {
       "_model_module": "@jupyter-widgets/base",
       "_model_module_version": "2.0.0",
       "_model_name": "LayoutModel",
       "_view_count": null,
       "_view_module": "@jupyter-widgets/base",
       "_view_module_version": "2.0.0",
       "_view_name": "LayoutView",
       "align_content": null,
       "align_items": null,
       "align_self": null,
       "border_bottom": null,
       "border_left": null,
       "border_right": null,
       "border_top": null,
       "bottom": null,
       "display": null,
       "flex": null,
       "flex_flow": null,
       "grid_area": null,
       "grid_auto_columns": null,
       "grid_auto_flow": null,
       "grid_auto_rows": null,
       "grid_column": null,
       "grid_gap": null,
       "grid_row": null,
       "grid_template_areas": null,
       "grid_template_columns": null,
       "grid_template_rows": null,
       "height": null,
       "justify_content": null,
       "justify_items": null,
       "left": null,
       "margin": null,
       "max_height": null,
       "max_width": null,
       "min_height": null,
       "min_width": null,
       "object_fit": null,
       "object_position": null,
       "order": null,
       "overflow": null,
       "padding": null,
       "right": null,
       "top": null,
       "visibility": null,
       "width": null
      }
     },
     "fe9cadaf63284e70a4af22d022f67225": {
      "model_module": "@jupyter-widgets/controls",
      "model_module_version": "2.0.0",
      "model_name": "FloatProgressModel",
      "state": {
       "_dom_classes": [],
       "_model_module": "@jupyter-widgets/controls",
       "_model_module_version": "2.0.0",
       "_model_name": "FloatProgressModel",
       "_view_count": null,
       "_view_module": "@jupyter-widgets/controls",
       "_view_module_version": "2.0.0",
       "_view_name": "ProgressView",
       "bar_style": "success",
       "description": "",
       "description_allow_html": false,
       "layout": "IPY_MODEL_e7231897f95f48b597fbb500ab8d44a4",
       "max": 721735,
       "min": 0,
       "orientation": "horizontal",
       "style": "IPY_MODEL_bfec2cab2e124e61a2e3348101a10eee",
       "tabbable": null,
       "tooltip": null,
       "value": 721735
      }
     },
     "fe9f401ce3aa4e438fe70ff9a78e8b59": {
      "model_module": "@jupyter-widgets/controls",
      "model_module_version": "2.0.0",
      "model_name": "HTMLModel",
      "state": {
       "_dom_classes": [],
       "_model_module": "@jupyter-widgets/controls",
       "_model_module_version": "2.0.0",
       "_model_name": "HTMLModel",
       "_view_count": null,
       "_view_module": "@jupyter-widgets/controls",
       "_view_module_version": "2.0.0",
       "_view_name": "HTMLView",
       "description": "",
       "description_allow_html": false,
       "layout": "IPY_MODEL_64973e99d9fe4c56a1ae9ebdbf95a3bf",
       "placeholder": "​",
       "style": "IPY_MODEL_1c6e152788414dd5b7124f82e12c7ec8",
       "tabbable": null,
       "tooltip": null,
       "value": " 466k/466k [00:00&lt;00:00, 23.5MB/s]"
      }
     }
    },
    "version_major": 2,
    "version_minor": 0
   }
  }
 },
 "nbformat": 4,
 "nbformat_minor": 5
}
