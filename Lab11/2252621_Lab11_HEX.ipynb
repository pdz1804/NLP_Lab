{
 "cells": [
  {
   "cell_type": "markdown",
   "metadata": {},
   "source": [
    "# Home Exercise on Language Modeling\n",
    "\n",
    "Implement a **transformer** to solve the **Language Modeling** task.\n",
    "\n",
    "- **Data**: [wikitext-103](https://huggingface.co/datasets/Salesforce/wikitext)\n",
    "- **Loading with Hugging Face Datasets**:\n",
    "  ```python\n",
    "  from datasets import load_dataset\n",
    "  dataset = load_dataset(\"wikitext\", \"wikitext-103-v1\")\n",
    "  ```\n",
    "\n",
    "**Note**: Submit only a **single Jupyter Notebook file** that can handle all tasks, including **data downloading, preprocessing, model training, and model evaluation**. (Submissions that do not follow the guidelines will receive a score of 0.)\n",
    "\n",
    "## Grading Criteria\n",
    "\n",
    "For valid submissions, scores will be assigned based on the **leaderboard ranking** (**strictly greater**):\n",
    "\n",
    "- **Top 25%** → **10 points**\n",
    "- **25% - 50%** → **9.0 points**\n",
    "- **50% - 75%** → **8.0 points**\n",
    "- **75% - 100%** → **7.0 points**\n"
   ]
  },
  {
   "cell_type": "code",
   "execution_count": null,
   "metadata": {
    "vscode": {
     "languageId": "plaintext"
    }
   },
   "outputs": [],
   "source": [
    "%pip install transformers datasets torch numpy pandas"
   ]
  },
  {
   "cell_type": "code",
   "execution_count": null,
   "metadata": {
    "vscode": {
     "languageId": "plaintext"
    }
   },
   "outputs": [],
   "source": [
    "# Import necessary libraries\n",
    "import torch\n",
    "import numpy as np\n",
    "import pandas as pd\n",
    "from datasets import load_dataset\n",
    "from transformers import AutoTokenizer, AutoModelForCausalLM, TrainingArguments, Trainer, DataCollatorForLanguageModeling\n",
    "\n",
    "# Check if GPU is available\n",
    "device = torch.device(\"cuda\" if torch.cuda.is_available() else \"cpu\")\n",
    "print(f\"Using device: {device}\")\n",
    "\n",
    "# =====================================\n",
    "# 📥 STEP 1: Load Wikitext-103 Dataset\n",
    "# =====================================\n",
    "dataset = load_dataset(\"wikitext\", \"wikitext-103-v1\")\n",
    "\n",
    "# Check dataset structure\n",
    "print(dataset)\n",
    "\n",
    "# Extract train, validation, and test sets\n",
    "train_texts = dataset[\"train\"][\"text\"]\n",
    "val_texts = dataset[\"validation\"][\"text\"]\n",
    "test_texts = dataset[\"test\"][\"text\"]\n",
    "\n",
    "# =====================================\n",
    "# 🔢 STEP 2: Tokenization & Preprocessing\n",
    "# =====================================\n",
    "# Load tokenizer\n",
    "MODEL_NAME = \"gpt2\"  # Using GPT-2 tokenizer for LM\n",
    "tokenizer = AutoTokenizer.from_pretrained(MODEL_NAME)\n",
    "\n",
    "# Define tokenization function\n",
    "def tokenize_function(examples):\n",
    "    return tokenizer(examples[\"text\"], truncation=True, padding=\"max_length\", max_length=512)\n",
    "\n",
    "# Tokenize dataset\n",
    "tokenized_datasets = dataset.map(tokenize_function, batched=True)\n",
    "\n",
    "# Remove non-tokenized text columns\n",
    "tokenized_datasets = tokenized_datasets.remove_columns([\"text\"])\n",
    "tokenized_datasets.set_format(\"torch\")\n",
    "\n",
    "# Split dataset\n",
    "train_dataset = tokenized_datasets[\"train\"]\n",
    "val_dataset = tokenized_datasets[\"validation\"]\n",
    "test_dataset = tokenized_datasets[\"test\"]\n",
    "\n",
    "# Define data collator for masked LM\n",
    "data_collator = DataCollatorForLanguageModeling(\n",
    "    tokenizer=tokenizer,\n",
    "    mlm=False  # Setting `mlm=False` for causal language modeling\n",
    ")\n",
    "\n",
    "# =====================================\n",
    "# 🏗️ STEP 3: Load Pretrained Transformer Model\n",
    "# =====================================\n",
    "# Load GPT-2 model\n",
    "model = AutoModelForCausalLM.from_pretrained(MODEL_NAME).to(device)\n",
    "\n",
    "# Define training arguments\n",
    "training_args = TrainingArguments(\n",
    "    output_dir=\"./results\",\n",
    "    evaluation_strategy=\"epoch\",\n",
    "    save_strategy=\"epoch\",\n",
    "    logging_strategy=\"steps\",\n",
    "    logging_steps=500,\n",
    "    per_device_train_batch_size=4,\n",
    "    per_device_eval_batch_size=4,\n",
    "    num_train_epochs=3,\n",
    "    weight_decay=0.01,\n",
    "    save_total_limit=2\n",
    ")\n",
    "\n",
    "# Define trainer\n",
    "trainer = Trainer(\n",
    "    model=model,\n",
    "    args=training_args,\n",
    "    train_dataset=train_dataset,\n",
    "    eval_dataset=val_dataset,\n",
    "    tokenizer=tokenizer,\n",
    "    data_collator=data_collator\n",
    ")\n",
    "\n",
    "# =====================================\n",
    "# 🚀 STEP 4: Train the Model\n",
    "# =====================================\n",
    "trainer.train()\n",
    "\n",
    "# =====================================\n",
    "# 📊 STEP 5: Model Evaluation\n",
    "# =====================================\n",
    "# Evaluate perplexity on validation set\n",
    "eval_results = trainer.evaluate()\n",
    "perplexity = torch.exp(torch.tensor(eval_results[\"eval_loss\"]))\n",
    "print(f\"Perplexity: {perplexity.item()}\")\n",
    "\n",
    "# =====================================\n",
    "# ✍️ STEP 6: Generate New Text\n",
    "# =====================================\n",
    "def generate_text(prompt, max_length=100):\n",
    "    inputs = tokenizer(prompt, return_tensors=\"pt\").to(device)\n",
    "    outputs = model.generate(**inputs, max_length=max_length, num_return_sequences=1, temperature=1.0)\n",
    "    return tokenizer.decode(outputs[0], skip_special_tokens=True)\n",
    "\n",
    "# Generate sample text\n",
    "sample_prompt = \"The future of artificial intelligence is\"\n",
    "generated_text = generate_text(sample_prompt)\n",
    "print(\"\\nGenerated Text:\\n\", generated_text)\n"
   ]
  },
  {
   "cell_type": "code",
   "execution_count": null,
   "metadata": {
    "vscode": {
     "languageId": "plaintext"
    }
   },
   "outputs": [],
   "source": []
  },
  {
   "cell_type": "code",
   "execution_count": null,
   "metadata": {
    "vscode": {
     "languageId": "plaintext"
    }
   },
   "outputs": [],
   "source": []
  },
  {
   "cell_type": "code",
   "execution_count": null,
   "metadata": {
    "vscode": {
     "languageId": "plaintext"
    }
   },
   "outputs": [],
   "source": []
  },
  {
   "cell_type": "code",
   "execution_count": null,
   "metadata": {
    "vscode": {
     "languageId": "plaintext"
    }
   },
   "outputs": [],
   "source": []
  }
 ],
 "metadata": {
  "language_info": {
   "name": "python"
  }
 },
 "nbformat": 4,
 "nbformat_minor": 2
}
