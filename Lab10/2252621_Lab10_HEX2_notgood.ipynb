{
 "cells": [
  {
   "cell_type": "code",
   "execution_count": 1,
   "id": "4517ab83",
   "metadata": {
    "execution": {
     "iopub.execute_input": "2025-03-30T17:48:36.964590Z",
     "iopub.status.busy": "2025-03-30T17:48:36.964284Z",
     "iopub.status.idle": "2025-03-30T17:48:40.335841Z",
     "shell.execute_reply": "2025-03-30T17:48:40.334876Z"
    },
    "id": "TcjgaweoqLlJ",
    "outputId": "5d370dd0-50ed-401d-a571-83bc7db6be24",
    "papermill": {
     "duration": 3.384944,
     "end_time": "2025-03-30T17:48:40.337197",
     "exception": false,
     "start_time": "2025-03-30T17:48:36.952253",
     "status": "completed"
    },
    "tags": []
   },
   "outputs": [
    {
     "name": "stdout",
     "output_type": "stream",
     "text": [
      "[nltk_data] Downloading package stopwords to /usr/share/nltk_data...\n",
      "[nltk_data]   Unzipping corpora/stopwords.zip.\n",
      "[nltk_data] Downloading package punkt to /usr/share/nltk_data...\n",
      "[nltk_data]   Package punkt is already up-to-date!\n"
     ]
    }
   ],
   "source": [
    "import pandas as pd\n",
    "import numpy as np\n",
    "import matplotlib.pyplot as plt\n",
    "import seaborn as sns\n",
    "from sklearn.feature_extraction.text import TfidfVectorizer\n",
    "from sklearn.metrics.pairwise import cosine_similarity\n",
    "import nltk\n",
    "import gdown\n",
    "import re\n",
    "import textwrap\n",
    "from nltk.corpus import stopwords\n",
    "from nltk.tokenize import word_tokenize,sent_tokenize\n",
    "nltk.download(\"stopwords\")\n",
    "nltk.download(\"punkt\")\n",
    "\n",
    "from tqdm import tqdm\n",
    "tqdm.pandas()\n",
    "pd.set_option('display.max_colwidth', None)"
   ]
  },
  {
   "cell_type": "code",
   "execution_count": 2,
   "id": "f6c11eb8",
   "metadata": {
    "execution": {
     "iopub.execute_input": "2025-03-30T17:48:40.357925Z",
     "iopub.status.busy": "2025-03-30T17:48:40.357503Z",
     "iopub.status.idle": "2025-03-30T17:48:44.781346Z",
     "shell.execute_reply": "2025-03-30T17:48:44.780460Z"
    },
    "papermill": {
     "duration": 4.435608,
     "end_time": "2025-03-30T17:48:44.783118",
     "exception": false,
     "start_time": "2025-03-30T17:48:40.347510",
     "status": "completed"
    },
    "tags": []
   },
   "outputs": [
    {
     "name": "stdout",
     "output_type": "stream",
     "text": [
      "Collecting rouge\r\n",
      "  Downloading rouge-1.0.1-py3-none-any.whl.metadata (4.1 kB)\r\n",
      "Requirement already satisfied: six in /usr/local/lib/python3.10/dist-packages (from rouge) (1.17.0)\r\n",
      "Downloading rouge-1.0.1-py3-none-any.whl (13 kB)\r\n",
      "Installing collected packages: rouge\r\n",
      "Successfully installed rouge-1.0.1\r\n"
     ]
    }
   ],
   "source": [
    "!pip install rouge"
   ]
  },
  {
   "cell_type": "code",
   "execution_count": 3,
   "id": "6a7bfd7b",
   "metadata": {
    "execution": {
     "iopub.execute_input": "2025-03-30T17:48:44.804720Z",
     "iopub.status.busy": "2025-03-30T17:48:44.804434Z",
     "iopub.status.idle": "2025-03-30T17:48:58.994984Z",
     "shell.execute_reply": "2025-03-30T17:48:58.994130Z"
    },
    "papermill": {
     "duration": 14.203217,
     "end_time": "2025-03-30T17:48:58.996624",
     "exception": false,
     "start_time": "2025-03-30T17:48:44.793407",
     "status": "completed"
    },
    "tags": []
   },
   "outputs": [],
   "source": [
    "import torch\n",
    "import torch.nn as nn\n",
    "import torch.nn.functional as F\n",
    "import numpy as np\n",
    "from sklearn.model_selection import train_test_split\n",
    "from nltk.translate.bleu_score import sentence_bleu\n",
    "from rouge import Rouge\n",
    "from tensorflow.keras.preprocessing.text import Tokenizer\n",
    "from tensorflow.keras.preprocessing.sequence import pad_sequences\n",
    "from torch.utils.data import DataLoader, Dataset\n",
    "import random\n",
    "import os\n",
    "from torch.optim.lr_scheduler import StepLR"
   ]
  },
  {
   "cell_type": "code",
   "execution_count": 4,
   "id": "12426f11",
   "metadata": {
    "execution": {
     "iopub.execute_input": "2025-03-30T17:48:59.017851Z",
     "iopub.status.busy": "2025-03-30T17:48:59.017309Z",
     "iopub.status.idle": "2025-03-30T17:48:59.025367Z",
     "shell.execute_reply": "2025-03-30T17:48:59.024560Z"
    },
    "papermill": {
     "duration": 0.019692,
     "end_time": "2025-03-30T17:48:59.026595",
     "exception": false,
     "start_time": "2025-03-30T17:48:59.006903",
     "status": "completed"
    },
    "tags": []
   },
   "outputs": [
    {
     "name": "stdout",
     "output_type": "stream",
     "text": [
      "📦 Library Versions\n",
      "----------------------\n",
      "Pandas: 2.2.3\n",
      "NumPy: 1.26.4\n",
      "Seaborn: 0.12.2\n",
      "nltk: 3.2.4\n",
      "PyTorch: 2.5.1+cu121\n",
      "rouge: <class 'rouge.rouge.Rouge'>\n",
      "tqdm: <class 'tqdm.std.tqdm'>\n"
     ]
    }
   ],
   "source": [
    "print(\"📦 Library Versions\")\n",
    "print(\"----------------------\")\n",
    "print(\"Pandas:\", pd.__version__)\n",
    "print(\"NumPy:\", np.__version__)\n",
    "# print(\"Matplotlib:\", matplotlib.__version__)\n",
    "print(\"Seaborn:\", sns.__version__)\n",
    "# print(\"scikit-learn:\", sklearn.__version__)\n",
    "print(\"nltk:\", nltk.__version__)\n",
    "print(\"PyTorch:\", torch.__version__)\n",
    "# print(\"TensorFlow:\", tf.__version__)\n",
    "print(\"rouge:\", Rouge.__version__ if hasattr(Rouge, '__version__') else Rouge)\n",
    "print(\"tqdm:\", tqdm)"
   ]
  },
  {
   "cell_type": "code",
   "execution_count": 5,
   "id": "434b7830",
   "metadata": {
    "execution": {
     "iopub.execute_input": "2025-03-30T17:48:59.047223Z",
     "iopub.status.busy": "2025-03-30T17:48:59.046934Z",
     "iopub.status.idle": "2025-03-30T17:49:28.532634Z",
     "shell.execute_reply": "2025-03-30T17:49:28.531776Z"
    },
    "id": "Ir3zi4aDePvr",
    "outputId": "8f4805db-69ac-49aa-fa0c-2da1384c47c1",
    "papermill": {
     "duration": 29.497521,
     "end_time": "2025-03-30T17:49:28.533830",
     "exception": false,
     "start_time": "2025-03-30T17:48:59.036309",
     "status": "completed"
    },
    "tags": []
   },
   "outputs": [
    {
     "name": "stderr",
     "output_type": "stream",
     "text": [
      "Retrieving folder contents\n"
     ]
    },
    {
     "name": "stdout",
     "output_type": "stream",
     "text": [
      "Processing file 1f1adAObXfjZmX6VlXIikoDZNeukQKsTW test.csv\n",
      "Processing file 1Wy_M9JCJ-eBvA880GpQpJll54TFo6H3Y train.csv\n",
      "Processing file 1H0qexwZ4657VsZhvm2ysYwMb1SEpPJNa validation.csv\n"
     ]
    },
    {
     "name": "stderr",
     "output_type": "stream",
     "text": [
      "Retrieving folder contents completed\n",
      "Building directory structure\n",
      "Building directory structure completed\n",
      "Downloading...\n",
      "From: https://drive.google.com/uc?id=1f1adAObXfjZmX6VlXIikoDZNeukQKsTW\n",
      "To: /kaggle/working/Lab10b/test.csv\n",
      "100%|██████████| 49.9M/49.9M [00:00<00:00, 77.4MB/s]\n",
      "Downloading...\n",
      "From (original): https://drive.google.com/uc?id=1Wy_M9JCJ-eBvA880GpQpJll54TFo6H3Y\n",
      "From (redirected): https://drive.google.com/uc?id=1Wy_M9JCJ-eBvA880GpQpJll54TFo6H3Y&confirm=t&uuid=e11b4ed3-7d90-4b44-a131-0e520df8b9cd\n",
      "To: /kaggle/working/Lab10b/train.csv\n",
      "100%|██████████| 1.26G/1.26G [00:11<00:00, 108MB/s]\n",
      "Downloading...\n",
      "From: https://drive.google.com/uc?id=1H0qexwZ4657VsZhvm2ysYwMb1SEpPJNa\n",
      "To: /kaggle/working/Lab10b/validation.csv\n",
      "100%|██████████| 57.7M/57.7M [00:00<00:00, 117MB/s]\n",
      "Download completed\n"
     ]
    },
    {
     "data": {
      "text/plain": [
       "['Lab10b/test.csv', 'Lab10b/train.csv', 'Lab10b/validation.csv']"
      ]
     },
     "execution_count": 5,
     "metadata": {},
     "output_type": "execute_result"
    }
   ],
   "source": [
    "# https://drive.google.com/drive/folders/1FlqoweTW1g-KY8jWf7x8iavKFB3Jqojk?usp=sharing\n",
    "# URL of the shared folder\n",
    "folder_url = \"https://drive.google.com/drive/folders/1FlqoweTW1g-KY8jWf7x8iavKFB3Jqojk?usp=sharing\"\n",
    "\n",
    "# Output directory where the folder will be saved\n",
    "output_dir = \"Lab10b\"\n",
    "\n",
    "# Download the folder\n",
    "gdown.download_folder(folder_url, output=output_dir, quiet=False, use_cookies=False)"
   ]
  },
  {
   "cell_type": "code",
   "execution_count": 6,
   "id": "d1b1dd0b",
   "metadata": {
    "execution": {
     "iopub.execute_input": "2025-03-30T17:49:28.564970Z",
     "iopub.status.busy": "2025-03-30T17:49:28.564681Z",
     "iopub.status.idle": "2025-03-30T17:49:28.568556Z",
     "shell.execute_reply": "2025-03-30T17:49:28.567939Z"
    },
    "id": "waw1Obkwg_co",
    "papermill": {
     "duration": 0.021154,
     "end_time": "2025-03-30T17:49:28.569621",
     "exception": false,
     "start_time": "2025-03-30T17:49:28.548467",
     "status": "completed"
    },
    "tags": []
   },
   "outputs": [],
   "source": [
    "def load_dataset(dataset_path):\n",
    "    df = pd.read_csv(dataset_path)\n",
    "    # Drop id column\n",
    "    df.drop(columns=['id'],inplace=True)\n",
    "    # Drop null values (if any)\n",
    "    df.dropna(inplace=True)\n",
    "    print(\"Number of records:\",len(df))\n",
    "    return df\n",
    "\n",
    "def wrap(x):\n",
    "    return textwrap.fill(x,replace_whitespace=False,fix_sentence_endings=True)\n",
    "\n"
   ]
  },
  {
   "cell_type": "code",
   "execution_count": 7,
   "id": "ab29b9e2",
   "metadata": {
    "execution": {
     "iopub.execute_input": "2025-03-30T17:49:28.598519Z",
     "iopub.status.busy": "2025-03-30T17:49:28.598307Z",
     "iopub.status.idle": "2025-03-30T17:49:42.860077Z",
     "shell.execute_reply": "2025-03-30T17:49:42.859236Z"
    },
    "id": "dOraKB1mePsn",
    "outputId": "ef3099a9-dc10-4a76-e414-c94033eeed9a",
    "papermill": {
     "duration": 14.277792,
     "end_time": "2025-03-30T17:49:42.861369",
     "exception": false,
     "start_time": "2025-03-30T17:49:28.583577",
     "status": "completed"
    },
    "tags": []
   },
   "outputs": [
    {
     "name": "stdout",
     "output_type": "stream",
     "text": [
      "Number of records: 287113\n"
     ]
    },
    {
     "data": {
      "text/html": [
       "<div>\n",
       "<style scoped>\n",
       "    .dataframe tbody tr th:only-of-type {\n",
       "        vertical-align: middle;\n",
       "    }\n",
       "\n",
       "    .dataframe tbody tr th {\n",
       "        vertical-align: top;\n",
       "    }\n",
       "\n",
       "    .dataframe thead th {\n",
       "        text-align: right;\n",
       "    }\n",
       "</style>\n",
       "<table border=\"1\" class=\"dataframe\">\n",
       "  <thead>\n",
       "    <tr style=\"text-align: right;\">\n",
       "      <th></th>\n",
       "      <th>text</th>\n",
       "      <th>summary</th>\n",
       "    </tr>\n",
       "  </thead>\n",
       "  <tbody>\n",
       "    <tr>\n",
       "      <th>0</th>\n",
       "      <td>By . Associated Press . PUBLISHED: . 14:11 EST, 25 October 2013 . | . UPDATED: . 15:36 EST, 25 October 2013 . The bishop of the Fargo Catholic Diocese in North Dakota has exposed potentially hundreds of church members in Fargo, Grand Forks and Jamestown to the hepatitis A virus in late September and early October. The state Health Department has issued an advisory of exposure for anyone who attended five churches and took communion. Bishop John Folda (pictured) of the Fargo Catholic Diocese in North Dakota has exposed potentially hundreds of church members in Fargo, Grand Forks and Jamestown to the hepatitis A . State Immunization Program Manager Molly Howell says the risk is low, but officials feel it's important to alert people to the possible exposure. The diocese announced on Monday that Bishop John Folda is taking time off after being diagnosed with hepatitis A. The diocese says he contracted the infection through contaminated food while attending a conference for newly ordained bishops in Italy last month. Symptoms of hepatitis A include fever, tiredness, loss of appetite, nausea and abdominal discomfort. Fargo Catholic Diocese in North Dakota (pictured) is where the bishop is located .</td>\n",
       "      <td>Bishop John Folda, of North Dakota, is taking time off after being diagnosed .\\nHe contracted the infection through contaminated food in Italy .\\nChurch members in Fargo, Grand Forks and Jamestown could have been exposed .</td>\n",
       "    </tr>\n",
       "    <tr>\n",
       "      <th>1</th>\n",
       "      <td>(CNN) -- Ralph Mata was an internal affairs lieutenant for the Miami-Dade Police Department, working in the division that investigates allegations of wrongdoing by cops. Outside the office, authorities allege that the 45-year-old longtime officer worked with a drug trafficking organization to help plan a murder plot and get guns. A criminal complaint unsealed in U.S. District Court in New Jersey Tuesday accuses Mata, also known as \"The Milk Man,\" of using his role as a police officer to help the drug trafficking organization in exchange for money and gifts, including a Rolex watch. In one instance, the complaint alleges, Mata arranged to pay two assassins to kill rival drug dealers. The killers would pose as cops, pulling over their targets before shooting them, according to the complaint. \"Ultimately, the (organization) decided not to move forward with the murder plot, but Mata still received a payment for setting up the meetings,\" federal prosecutors said in a statement. The complaint also alleges that Mata used his police badge to purchase weapons for drug traffickers. Mata, according to the complaint, then used contacts at the airport to transport the weapons in his carry-on luggage on trips from Miami to the Dominican Republic. Court documents released by investigators do not specify the name of the drug trafficking organization with which Mata allegedly conspired but says the organization has been importing narcotics from places such as Ecuador and the Dominican Republic by hiding them \"inside shipping containers containing pallets of produce, including bananas.\" The organization \"has been distributing narcotics in New Jersey and elsewhere,\" the complaint says. Authorities arrested Mata on Tuesday in Miami Gardens, Florida. It was not immediately clear whether Mata has an attorney, and police officials could not be immediately reached for comment. Mata has worked for the Miami-Dade Police Department since 1992, including directing investigations in Miami Gardens and working as a lieutenant in the K-9 unit at Miami International Airport, according to the complaint. Since March 2010, he had been working in the internal affairs division. Mata faces charges of aiding and abetting a conspiracy to distribute cocaine, conspiring to distribute cocaine and engaging in monetary transactions in property derived from specified unlawful activity. He is scheduled to appear in federal court in Florida on Wednesday. If convicted, Mata could face life in prison. CNN's Suzanne Presto contributed to this report.</td>\n",
       "      <td>Criminal complaint: Cop used his role to help cocaine traffickers .\\nRalph Mata, an internal affairs lieutenant, allegedly helped group get guns .\\nHe also arranged to pay two assassins in a murder plot, a complaint alleges .</td>\n",
       "    </tr>\n",
       "  </tbody>\n",
       "</table>\n",
       "</div>"
      ],
      "text/plain": [
       "                                                                                                                                                                                                                                                                                                                                                                                                                                                                                                                                                                                                                                                                                                                                                                                                                                                                                                                                                                                                                                                                                                                                                                                                                                                                                                                                                                                                                                                                                                                                                                                                                                                                                                                                                                                                                                                                                                                                                                                                                                                                                                                                                                                                                                                                                                                                                                                                                                                                                                                                                                                                                                               text  \\\n",
       "0                                                                                                                                                                                                                                                                                                                                                                                                                                                                                                                                                                                                                                                                                                                                                                                                                                                                                                                                                                                                                                                                                                                                                                                                                                                                                                                                                                                       By . Associated Press . PUBLISHED: . 14:11 EST, 25 October 2013 . | . UPDATED: . 15:36 EST, 25 October 2013 . The bishop of the Fargo Catholic Diocese in North Dakota has exposed potentially hundreds of church members in Fargo, Grand Forks and Jamestown to the hepatitis A virus in late September and early October. The state Health Department has issued an advisory of exposure for anyone who attended five churches and took communion. Bishop John Folda (pictured) of the Fargo Catholic Diocese in North Dakota has exposed potentially hundreds of church members in Fargo, Grand Forks and Jamestown to the hepatitis A . State Immunization Program Manager Molly Howell says the risk is low, but officials feel it's important to alert people to the possible exposure. The diocese announced on Monday that Bishop John Folda is taking time off after being diagnosed with hepatitis A. The diocese says he contracted the infection through contaminated food while attending a conference for newly ordained bishops in Italy last month. Symptoms of hepatitis A include fever, tiredness, loss of appetite, nausea and abdominal discomfort. Fargo Catholic Diocese in North Dakota (pictured) is where the bishop is located .   \n",
       "1  (CNN) -- Ralph Mata was an internal affairs lieutenant for the Miami-Dade Police Department, working in the division that investigates allegations of wrongdoing by cops. Outside the office, authorities allege that the 45-year-old longtime officer worked with a drug trafficking organization to help plan a murder plot and get guns. A criminal complaint unsealed in U.S. District Court in New Jersey Tuesday accuses Mata, also known as \"The Milk Man,\" of using his role as a police officer to help the drug trafficking organization in exchange for money and gifts, including a Rolex watch. In one instance, the complaint alleges, Mata arranged to pay two assassins to kill rival drug dealers. The killers would pose as cops, pulling over their targets before shooting them, according to the complaint. \"Ultimately, the (organization) decided not to move forward with the murder plot, but Mata still received a payment for setting up the meetings,\" federal prosecutors said in a statement. The complaint also alleges that Mata used his police badge to purchase weapons for drug traffickers. Mata, according to the complaint, then used contacts at the airport to transport the weapons in his carry-on luggage on trips from Miami to the Dominican Republic. Court documents released by investigators do not specify the name of the drug trafficking organization with which Mata allegedly conspired but says the organization has been importing narcotics from places such as Ecuador and the Dominican Republic by hiding them \"inside shipping containers containing pallets of produce, including bananas.\" The organization \"has been distributing narcotics in New Jersey and elsewhere,\" the complaint says. Authorities arrested Mata on Tuesday in Miami Gardens, Florida. It was not immediately clear whether Mata has an attorney, and police officials could not be immediately reached for comment. Mata has worked for the Miami-Dade Police Department since 1992, including directing investigations in Miami Gardens and working as a lieutenant in the K-9 unit at Miami International Airport, according to the complaint. Since March 2010, he had been working in the internal affairs division. Mata faces charges of aiding and abetting a conspiracy to distribute cocaine, conspiring to distribute cocaine and engaging in monetary transactions in property derived from specified unlawful activity. He is scheduled to appear in federal court in Florida on Wednesday. If convicted, Mata could face life in prison. CNN's Suzanne Presto contributed to this report.   \n",
       "\n",
       "                                                                                                                                                                                                                             summary  \n",
       "0     Bishop John Folda, of North Dakota, is taking time off after being diagnosed .\\nHe contracted the infection through contaminated food in Italy .\\nChurch members in Fargo, Grand Forks and Jamestown could have been exposed .  \n",
       "1  Criminal complaint: Cop used his role to help cocaine traffickers .\\nRalph Mata, an internal affairs lieutenant, allegedly helped group get guns .\\nHe also arranged to pay two assassins in a murder plot, a complaint alleges .  "
      ]
     },
     "execution_count": 7,
     "metadata": {},
     "output_type": "execute_result"
    }
   ],
   "source": [
    "df_train = load_dataset(r'Lab10b/train.csv')\n",
    "df_train.columns = ['text', 'summary']\n",
    "df_train.head(2)"
   ]
  },
  {
   "cell_type": "code",
   "execution_count": 8,
   "id": "810ebeb7",
   "metadata": {
    "execution": {
     "iopub.execute_input": "2025-03-30T17:49:42.891835Z",
     "iopub.status.busy": "2025-03-30T17:49:42.891564Z",
     "iopub.status.idle": "2025-03-30T17:49:43.556102Z",
     "shell.execute_reply": "2025-03-30T17:49:43.555131Z"
    },
    "id": "geklZY0eePpe",
    "outputId": "fc9ed654-2bc0-49c5-b9c4-c57f1ba6f2da",
    "papermill": {
     "duration": 0.681054,
     "end_time": "2025-03-30T17:49:43.557420",
     "exception": false,
     "start_time": "2025-03-30T17:49:42.876366",
     "status": "completed"
    },
    "tags": []
   },
   "outputs": [
    {
     "name": "stdout",
     "output_type": "stream",
     "text": [
      "Number of records: 13368\n"
     ]
    },
    {
     "data": {
      "text/html": [
       "<div>\n",
       "<style scoped>\n",
       "    .dataframe tbody tr th:only-of-type {\n",
       "        vertical-align: middle;\n",
       "    }\n",
       "\n",
       "    .dataframe tbody tr th {\n",
       "        vertical-align: top;\n",
       "    }\n",
       "\n",
       "    .dataframe thead th {\n",
       "        text-align: right;\n",
       "    }\n",
       "</style>\n",
       "<table border=\"1\" class=\"dataframe\">\n",
       "  <thead>\n",
       "    <tr style=\"text-align: right;\">\n",
       "      <th></th>\n",
       "      <th>text</th>\n",
       "      <th>summary</th>\n",
       "    </tr>\n",
       "  </thead>\n",
       "  <tbody>\n",
       "    <tr>\n",
       "      <th>0</th>\n",
       "      <td>Sally Forrest, an actress-dancer who graced the silver screen throughout the '40s and '50s in MGM musicals and films such as the 1956 noir While the City Sleeps died on March 15 at her home in Beverly Hills, California. Forrest, whose birth name was Katherine Feeney, was 86 and had long battled cancer. Her publicist, Judith Goffin, announced the news Thursday. Scroll down for video . Actress: Sally Forrest was in the 1951 Ida Lupino-directed film 'Hard, Fast and Beautiful' (left) and the 1956 Fritz Lang movie 'While the City Sleeps' A San Diego native, Forrest became a protege of Hollywood trailblazer Ida Lupino, who cast her in starring roles in films including the critical and commercial success Not Wanted, Never Fear and Hard, Fast and Beautiful. Some of Forrest's other film credits included Bannerline, Son of Sinbad, and Excuse My Dust, according to her iMDB page. The page also indicates Forrest was in multiple Climax! and Rawhide television episodes. Forrest appeared as herself in an episode of The Ed Sullivan Show and three episodes of The Dinah Shore Chevy Show, her iMDB page says. She also starred in a Broadway production of The Seven Year Itch. City News Service reported that other stage credits included As You Like It, No, No, Nanette and Damn Yankees. Forrest married writer-producer Milo Frank in 1951. He died in 2004. She is survived by her niece, Sharon Durham, and nephews, Michael and Mark Feeney. Career: A San Diego native, Forrest became a protege of Hollywood trailblazer Ida Lupino, who cast her in starring roles in films .</td>\n",
       "      <td>Sally Forrest, an actress-dancer who graced the silver screen throughout the '40s and '50s in MGM musicals and films died on March 15 .\\nForrest, whose birth name was Katherine Feeney, had long battled cancer .\\nA San Diego native, Forrest became a protege of Hollywood trailblazer Ida Lupino, who cast her in starring roles in films .</td>\n",
       "    </tr>\n",
       "    <tr>\n",
       "      <th>1</th>\n",
       "      <td>A middle-school teacher in China has inked hundreds of sketches that are beyond be-leaf. Politics teacher Wang Lian, 35,  has created 1000 stunning ink drawings covering subjects as varied as cartoon characters and landscapes to animals, birds according to the People's Daily Online. The intricate scribbles on leaves feature Wang's favourite sites across the city of Nanjing, which include the Presidential Palace, Yangtze River Bridge, the ancient Jiming Temple and the Qinhuai River. Natural canvas: Artist and teacher Wang Lian has done hundreds of drawings, like this temple, on leaves she collects in the park and on the streets . Delicate: She uses an ink pen to gently draw the local scenes and buildings on the dried out leaves . 'Although teaching politics is my job, drawing is my passion and hobby,' said Wang. 'I first tried drawing on leaves about 10 years ago and fell in love with it as an art form immediately. 'It's like drawing on very old parchment paper, you have to be really careful that you don't damage the leaf because it is very fragile and this helps focus your attention and abilities.' Wang started giving the drawings away on Christmas Eve in 2012 when her junior high school son came home saying he wanted to prepare some gifts for his classmates. Being an avid painter, Wang decided to give her son's friends unique presents of gingko leaf paintings. Wang loves gingko leaves and will often pick them up along Gingko Avenue, near to her school, in Nanjing in east China's Jiangsu province. Every autumn she collects about 2,000 leaves from the ground to ensure she has enough to cover spoils too. Intricate: Teacher Wang has drawn hundreds of local scenes on leaves she has collected from the park . Hobby: The artist collects leaves every autumn and dries them out so she can sketch these impressive building scenes . 'The colour and shape of gingko leaves are particularly beautiful,' she said. 'I need to collect around 2000 leaves because this will include losses'. She takes them home where she then presses them between the pages of books. 'Luckily, I have quite a lot of books and I try to use old ones or ones that I've already read so I don't end up with nothing to read.' Once they are dried, she carefully takes each one and using an ink fountain pen creates her masterpieces. She said: 'Some people are into capturing beauty through photography, but for me, a digitalised image just isn't the same. New leaf: Politics teacher Wang Lian has drawn hundreds of doodles on leaves for the last 10 years . 'By drawing what I see I become far more a part of the process and part of the final piece. 'One day I hope to be able to put my collection on display, but for now it's really just for my own pleasure.' Wang's leaf paintings are turned into bookmarks, postcards and sometimes even given as gifts to her her students so she can share the beauty of leaf paintings. But locals who have had the luck of being able to see Wang's art have been gobsmacked. Local art collector On Hao, 58, said: 'These are truly remarkable and beautiful creations. 'She has so much talent she is wasted in teaching.'</td>\n",
       "      <td>Works include pictures of Presidential Palace and Yangtze River Bridge .\\nHas inked 1,000 pieces of art on leaves in last two years .\\nGives work away to students in form of bookmarks and postcards .</td>\n",
       "    </tr>\n",
       "  </tbody>\n",
       "</table>\n",
       "</div>"
      ],
      "text/plain": [
       "                                                                                                                                                                                                                                                                                                                                                                                                                                                                                                                                                                                                                                                                                                                                                                                                                                                                                                                                                                                                                                                                                                                                                                                                                                                                                                                                                                                                                                                                                                                                                                                                                                                                                                                                                                                                                                                                                                                                                                                                                                                                                                                                                                                                                                                                                                                                                                                                                                                                                                                                                                                                                                                                                                                                                                                                                                                                                                                                                                                                                                                                                                                                                                                                                                                                text  \\\n",
       "0                                                                                                                                                                                                                                                                                                                                                                                                                                                                                                                                                                                                                                                                                                                                                                                                                                                                                                                                                                                                                                                                                                                                                                                                                                                                                                                                                                                                                                                                                                                                                                                                                                     Sally Forrest, an actress-dancer who graced the silver screen throughout the '40s and '50s in MGM musicals and films such as the 1956 noir While the City Sleeps died on March 15 at her home in Beverly Hills, California. Forrest, whose birth name was Katherine Feeney, was 86 and had long battled cancer. Her publicist, Judith Goffin, announced the news Thursday. Scroll down for video . Actress: Sally Forrest was in the 1951 Ida Lupino-directed film 'Hard, Fast and Beautiful' (left) and the 1956 Fritz Lang movie 'While the City Sleeps' A San Diego native, Forrest became a protege of Hollywood trailblazer Ida Lupino, who cast her in starring roles in films including the critical and commercial success Not Wanted, Never Fear and Hard, Fast and Beautiful. Some of Forrest's other film credits included Bannerline, Son of Sinbad, and Excuse My Dust, according to her iMDB page. The page also indicates Forrest was in multiple Climax! and Rawhide television episodes. Forrest appeared as herself in an episode of The Ed Sullivan Show and three episodes of The Dinah Shore Chevy Show, her iMDB page says. She also starred in a Broadway production of The Seven Year Itch. City News Service reported that other stage credits included As You Like It, No, No, Nanette and Damn Yankees. Forrest married writer-producer Milo Frank in 1951. He died in 2004. She is survived by her niece, Sharon Durham, and nephews, Michael and Mark Feeney. Career: A San Diego native, Forrest became a protege of Hollywood trailblazer Ida Lupino, who cast her in starring roles in films .   \n",
       "1  A middle-school teacher in China has inked hundreds of sketches that are beyond be-leaf. Politics teacher Wang Lian, 35,  has created 1000 stunning ink drawings covering subjects as varied as cartoon characters and landscapes to animals, birds according to the People's Daily Online. The intricate scribbles on leaves feature Wang's favourite sites across the city of Nanjing, which include the Presidential Palace, Yangtze River Bridge, the ancient Jiming Temple and the Qinhuai River. Natural canvas: Artist and teacher Wang Lian has done hundreds of drawings, like this temple, on leaves she collects in the park and on the streets . Delicate: She uses an ink pen to gently draw the local scenes and buildings on the dried out leaves . 'Although teaching politics is my job, drawing is my passion and hobby,' said Wang. 'I first tried drawing on leaves about 10 years ago and fell in love with it as an art form immediately. 'It's like drawing on very old parchment paper, you have to be really careful that you don't damage the leaf because it is very fragile and this helps focus your attention and abilities.' Wang started giving the drawings away on Christmas Eve in 2012 when her junior high school son came home saying he wanted to prepare some gifts for his classmates. Being an avid painter, Wang decided to give her son's friends unique presents of gingko leaf paintings. Wang loves gingko leaves and will often pick them up along Gingko Avenue, near to her school, in Nanjing in east China's Jiangsu province. Every autumn she collects about 2,000 leaves from the ground to ensure she has enough to cover spoils too. Intricate: Teacher Wang has drawn hundreds of local scenes on leaves she has collected from the park . Hobby: The artist collects leaves every autumn and dries them out so she can sketch these impressive building scenes . 'The colour and shape of gingko leaves are particularly beautiful,' she said. 'I need to collect around 2000 leaves because this will include losses'. She takes them home where she then presses them between the pages of books. 'Luckily, I have quite a lot of books and I try to use old ones or ones that I've already read so I don't end up with nothing to read.' Once they are dried, she carefully takes each one and using an ink fountain pen creates her masterpieces. She said: 'Some people are into capturing beauty through photography, but for me, a digitalised image just isn't the same. New leaf: Politics teacher Wang Lian has drawn hundreds of doodles on leaves for the last 10 years . 'By drawing what I see I become far more a part of the process and part of the final piece. 'One day I hope to be able to put my collection on display, but for now it's really just for my own pleasure.' Wang's leaf paintings are turned into bookmarks, postcards and sometimes even given as gifts to her her students so she can share the beauty of leaf paintings. But locals who have had the luck of being able to see Wang's art have been gobsmacked. Local art collector On Hao, 58, said: 'These are truly remarkable and beautiful creations. 'She has so much talent she is wasted in teaching.'   \n",
       "\n",
       "                                                                                                                                                                                                                                                                                                                                           summary  \n",
       "0  Sally Forrest, an actress-dancer who graced the silver screen throughout the '40s and '50s in MGM musicals and films died on March 15 .\\nForrest, whose birth name was Katherine Feeney, had long battled cancer .\\nA San Diego native, Forrest became a protege of Hollywood trailblazer Ida Lupino, who cast her in starring roles in films .  \n",
       "1                                                                                                                                          Works include pictures of Presidential Palace and Yangtze River Bridge .\\nHas inked 1,000 pieces of art on leaves in last two years .\\nGives work away to students in form of bookmarks and postcards .  "
      ]
     },
     "execution_count": 8,
     "metadata": {},
     "output_type": "execute_result"
    }
   ],
   "source": [
    "df_val = load_dataset(r'Lab10b/validation.csv')\n",
    "df_val.columns = ['text', 'summary']\n",
    "df_val.head(2)"
   ]
  },
  {
   "cell_type": "code",
   "execution_count": 9,
   "id": "f124f171",
   "metadata": {
    "execution": {
     "iopub.execute_input": "2025-03-30T17:49:43.588325Z",
     "iopub.status.busy": "2025-03-30T17:49:43.588092Z",
     "iopub.status.idle": "2025-03-30T17:49:44.124396Z",
     "shell.execute_reply": "2025-03-30T17:49:44.123597Z"
    },
    "id": "36WWapbUePmb",
    "outputId": "68f86cb8-de70-42a9-aa88-d840962e11b6",
    "papermill": {
     "duration": 0.552649,
     "end_time": "2025-03-30T17:49:44.125618",
     "exception": false,
     "start_time": "2025-03-30T17:49:43.572969",
     "status": "completed"
    },
    "tags": []
   },
   "outputs": [
    {
     "name": "stdout",
     "output_type": "stream",
     "text": [
      "Number of records: 11490\n"
     ]
    },
    {
     "data": {
      "text/html": [
       "<div>\n",
       "<style scoped>\n",
       "    .dataframe tbody tr th:only-of-type {\n",
       "        vertical-align: middle;\n",
       "    }\n",
       "\n",
       "    .dataframe tbody tr th {\n",
       "        vertical-align: top;\n",
       "    }\n",
       "\n",
       "    .dataframe thead th {\n",
       "        text-align: right;\n",
       "    }\n",
       "</style>\n",
       "<table border=\"1\" class=\"dataframe\">\n",
       "  <thead>\n",
       "    <tr style=\"text-align: right;\">\n",
       "      <th></th>\n",
       "      <th>text</th>\n",
       "      <th>summary</th>\n",
       "    </tr>\n",
       "  </thead>\n",
       "  <tbody>\n",
       "    <tr>\n",
       "      <th>0</th>\n",
       "      <td>Ever noticed how plane seats appear to be getting smaller and smaller? With increasing numbers of people taking to the skies, some experts are questioning if having such packed out planes is putting passengers at risk. They say that the shrinking space on aeroplanes is not only uncomfortable - it's putting our health and safety in danger. More than squabbling over the arm rest, shrinking space on planes putting our health and safety in danger? This week, a U.S consumer advisory group set up by the Department of Transportation said at a public hearing that while the government is happy to set standards for animals flying on planes, it doesn't stipulate a minimum amount of space for humans. 'In a world where animals have more rights to space and food than humans,' said Charlie Leocha, consumer representative on the committee. 'It is time that the DOT and FAA take a stand for humane treatment of passengers.' But could crowding on planes lead to more serious issues than fighting for space in the overhead lockers, crashing elbows and seat back kicking? Tests conducted by the FAA use planes with a 31 inch pitch, a standard which on some airlines has decreased . Many economy seats on United Airlines have 30 inches of room, while some airlines offer as little as 28 inches . Cynthia Corbertt, a human factors researcher with the Federal Aviation Administration, that it conducts tests on how quickly passengers can leave a plane. But these tests are conducted using planes with 31 inches between each row of seats, a standard which on some airlines has decreased, reported the Detroit News. The distance between two seats from one point on a seat to the same point on the seat behind it is known as the pitch. While most airlines stick to a pitch of 31 inches or above, some fall below this. While United Airlines has 30 inches of space, Gulf Air economy seats have between 29 and 32 inches, Air Asia offers 29 inches and Spirit Airlines offers just 28 inches. British Airways has a seat pitch of 31 inches, while easyJet has 29 inches, Thomson's short haul seat pitch is 28 inches, and Virgin Atlantic's is 30-31.</td>\n",
       "      <td>Experts question if  packed out planes are putting passengers at risk .\\nU.S consumer advisory group says minimum space must be stipulated .\\nSafety tests conducted on planes with more leg room than airlines offer .</td>\n",
       "    </tr>\n",
       "    <tr>\n",
       "      <th>1</th>\n",
       "      <td>A drunk teenage boy had to be rescued by security after jumping into a lions' enclosure at a zoo in western India. Rahul Kumar, 17, clambered over the enclosure fence at the Kamla Nehru Zoological Park in Ahmedabad, and began running towards the animals, shouting he would 'kill them'. Mr Kumar explained afterwards that he was drunk and 'thought I'd stand a good chance' against the predators. Next level drunk: Intoxicated Rahul Kumar, 17, climbed into the lions' enclosure at a zoo in Ahmedabad and began running towards the animals shouting 'Today I kill a lion!' Mr Kumar had been sitting near the enclosure when he suddenly made a dash for the lions, surprising zoo security. The intoxicated teenager ran towards the lions, shouting: 'Today I kill a lion or a lion kills me!' A zoo spokesman said: 'Guards had earlier spotted him close to the enclosure but had no idea he was planing to enter it. 'Fortunately, there are eight moats to cross before getting to where the lions usually are and he fell into the second one, allowing guards to catch up with him and take him out. 'We then handed him over to the police.' Brave fool: Fortunately, Mr Kumar  fell into a moat as he ran towards the lions and could be rescued by zoo security staff before reaching the animals (stock image) Kumar later explained: 'I don't really know why I did it. 'I was drunk and thought I'd stand a good chance.' A police spokesman said: 'He has been cautioned and will be sent for psychiatric evaluation. 'Fortunately for him, the lions were asleep and the zoo guards acted quickly enough to prevent a tragedy similar to that in Delhi.' Last year a 20-year-old man was mauled to death by a tiger in the Indian capital after climbing into its enclosure at the city zoo.</td>\n",
       "      <td>Drunk teenage boy climbed into lion enclosure at zoo in west India .\\nRahul Kumar, 17, ran towards animals shouting 'Today I kill a lion!'\\nFortunately he fell into a moat before reaching lions and was rescued .</td>\n",
       "    </tr>\n",
       "  </tbody>\n",
       "</table>\n",
       "</div>"
      ],
      "text/plain": [
       "                                                                                                                                                                                                                                                                                                                                                                                                                                                                                                                                                                                                                                                                                                                                                                                                                                                                                                                                                                                                                                                                                                                                                                                                                                                                                                                                                                                                                                                                                                                                                                                                                                                                                                                                                                                                                                                                                                                                                                                                                                                                                                                                                                                                             text  \\\n",
       "0  Ever noticed how plane seats appear to be getting smaller and smaller? With increasing numbers of people taking to the skies, some experts are questioning if having such packed out planes is putting passengers at risk. They say that the shrinking space on aeroplanes is not only uncomfortable - it's putting our health and safety in danger. More than squabbling over the arm rest, shrinking space on planes putting our health and safety in danger? This week, a U.S consumer advisory group set up by the Department of Transportation said at a public hearing that while the government is happy to set standards for animals flying on planes, it doesn't stipulate a minimum amount of space for humans. 'In a world where animals have more rights to space and food than humans,' said Charlie Leocha, consumer representative on the committee. 'It is time that the DOT and FAA take a stand for humane treatment of passengers.' But could crowding on planes lead to more serious issues than fighting for space in the overhead lockers, crashing elbows and seat back kicking? Tests conducted by the FAA use planes with a 31 inch pitch, a standard which on some airlines has decreased . Many economy seats on United Airlines have 30 inches of room, while some airlines offer as little as 28 inches . Cynthia Corbertt, a human factors researcher with the Federal Aviation Administration, that it conducts tests on how quickly passengers can leave a plane. But these tests are conducted using planes with 31 inches between each row of seats, a standard which on some airlines has decreased, reported the Detroit News. The distance between two seats from one point on a seat to the same point on the seat behind it is known as the pitch. While most airlines stick to a pitch of 31 inches or above, some fall below this. While United Airlines has 30 inches of space, Gulf Air economy seats have between 29 and 32 inches, Air Asia offers 29 inches and Spirit Airlines offers just 28 inches. British Airways has a seat pitch of 31 inches, while easyJet has 29 inches, Thomson's short haul seat pitch is 28 inches, and Virgin Atlantic's is 30-31.   \n",
       "1                                                                                                                                                                                                                                                                                                                                                                                       A drunk teenage boy had to be rescued by security after jumping into a lions' enclosure at a zoo in western India. Rahul Kumar, 17, clambered over the enclosure fence at the Kamla Nehru Zoological Park in Ahmedabad, and began running towards the animals, shouting he would 'kill them'. Mr Kumar explained afterwards that he was drunk and 'thought I'd stand a good chance' against the predators. Next level drunk: Intoxicated Rahul Kumar, 17, climbed into the lions' enclosure at a zoo in Ahmedabad and began running towards the animals shouting 'Today I kill a lion!' Mr Kumar had been sitting near the enclosure when he suddenly made a dash for the lions, surprising zoo security. The intoxicated teenager ran towards the lions, shouting: 'Today I kill a lion or a lion kills me!' A zoo spokesman said: 'Guards had earlier spotted him close to the enclosure but had no idea he was planing to enter it. 'Fortunately, there are eight moats to cross before getting to where the lions usually are and he fell into the second one, allowing guards to catch up with him and take him out. 'We then handed him over to the police.' Brave fool: Fortunately, Mr Kumar  fell into a moat as he ran towards the lions and could be rescued by zoo security staff before reaching the animals (stock image) Kumar later explained: 'I don't really know why I did it. 'I was drunk and thought I'd stand a good chance.' A police spokesman said: 'He has been cautioned and will be sent for psychiatric evaluation. 'Fortunately for him, the lions were asleep and the zoo guards acted quickly enough to prevent a tragedy similar to that in Delhi.' Last year a 20-year-old man was mauled to death by a tiger in the Indian capital after climbing into its enclosure at the city zoo.   \n",
       "\n",
       "                                                                                                                                                                                                                   summary  \n",
       "0  Experts question if  packed out planes are putting passengers at risk .\\nU.S consumer advisory group says minimum space must be stipulated .\\nSafety tests conducted on planes with more leg room than airlines offer .  \n",
       "1      Drunk teenage boy climbed into lion enclosure at zoo in west India .\\nRahul Kumar, 17, ran towards animals shouting 'Today I kill a lion!'\\nFortunately he fell into a moat before reaching lions and was rescued .  "
      ]
     },
     "execution_count": 9,
     "metadata": {},
     "output_type": "execute_result"
    }
   ],
   "source": [
    "df_test = load_dataset(r'Lab10b/test.csv')\n",
    "df_test.columns = ['text', 'summary']\n",
    "df_test.head(2)"
   ]
  },
  {
   "cell_type": "code",
   "execution_count": 10,
   "id": "65ada1e0",
   "metadata": {
    "execution": {
     "iopub.execute_input": "2025-03-30T17:49:44.157925Z",
     "iopub.status.busy": "2025-03-30T17:49:44.157647Z",
     "iopub.status.idle": "2025-03-30T17:49:44.168348Z",
     "shell.execute_reply": "2025-03-30T17:49:44.167557Z"
    },
    "id": "PYVc7zt1stdW",
    "papermill": {
     "duration": 0.027368,
     "end_time": "2025-03-30T17:49:44.169479",
     "exception": false,
     "start_time": "2025-03-30T17:49:44.142111",
     "status": "completed"
    },
    "tags": []
   },
   "outputs": [],
   "source": [
    "# Contraction mapping\n",
    "contractions = {\n",
    "    \"ain't\": \"is not\", \"aren't\": \"are not\", \"can't\": \"cannot\", \"'cause\": \"because\", \"could've\": \"could have\", \n",
    "    \"couldn't\": \"could not\", \"didn't\": \"did not\", \"doesn't\": \"does not\", \"don't\": \"do not\", \"hadn't\": \"had not\", \n",
    "    \"hasn't\": \"has not\", \"haven't\": \"have not\", \"he'd\": \"he would\", \"he'll\": \"he will\", \"he's\": \"he is\",\n",
    "    \"how'd\": \"how did\", \"how'd'y\": \"how do you\", \"how'll\": \"how will\", \"how's\": \"how is\", \"i'd\": \"i would\", \n",
    "    \"i'd've\": \"i would have\", \"i'll\": \"i will\", \"i'll've\": \"i will have\", \"i'm\": \"i am\", \"i've\": \"i have\", \n",
    "    \"isn't\": \"is not\", \"it'd\": \"it would\", \"it'd've\": \"it would have\", \"it'll\": \"it will\", \"it'll've\": \"it will have\", \n",
    "    \"it's\": \"it is\", \"let's\": \"let us\", \"ma'am\": \"madam\", \"mayn't\": \"may not\", \"might've\": \"might have\", \n",
    "    \"mightn't\": \"might not\", \"mightn't've\": \"might not have\", \"must've\": \"must have\", \"mustn't\": \"must not\", \n",
    "    \"mustn't've\": \"must not have\", \"needn't\": \"need not\", \"needn't've\": \"need not have\", \"o'clock\": \"of the clock\", \n",
    "    \"oughtn't\": \"ought not\", \"shan't\": \"shall not\", \"sha'n't\": \"shall not\", \"shan't've\": \"shall not have\", \n",
    "    \"she'd\": \"she would\", \"she'd've\": \"she would have\", \"she'll\": \"she will\", \"she'll've\": \"she will have\", \n",
    "    \"she's\": \"she is\", \"should've\": \"should have\", \"shouldn't\": \"should not\", \"shouldn't've\": \"should not have\", \n",
    "    \"so've\": \"so have\", \"so's\": \"so as\", \"this's\": \"this is\", \"that'd\": \"that would\", \"that'd've\": \"that would have\", \n",
    "    \"that's\": \"that is\", \"there'd\": \"there would\", \"there'd've\": \"there would have\", \"there's\": \"there is\", \n",
    "    \"here's\": \"here is\", \"they'd\": \"they would\", \"they'd've\": \"they would have\", \"they'll\": \"they will\", \n",
    "    \"they'll've\": \"they will have\", \"they're\": \"they are\", \"they've\": \"they have\", \"to've\": \"to have\", \n",
    "    \"wasn't\": \"was not\", \"we'd\": \"we would\", \"we'd've\": \"we would have\", \"we'll\": \"we will\", \"we'll've\": \"we will have\", \n",
    "    \"we're\": \"we are\", \"we've\": \"we have\", \"weren't\": \"were not\", \"what'll\": \"what will\", \"what'll've\": \"what will have\", \n",
    "    \"what're\": \"what are\", \"what's\": \"what is\", \"what've\": \"what have\", \"when's\": \"when is\", \"when've\": \"when have\", \n",
    "    \"where'd\": \"where did\", \"where's\": \"where is\", \"where've\": \"where have\", \"who'll\": \"who will\", \n",
    "    \"who'll've\": \"who will have\", \"who's\": \"who is\", \"who've\": \"who have\", \"why's\": \"why is\", \"why've\": \"why have\", \n",
    "    \"will've\": \"will have\", \"won't\": \"will not\", \"won't've\": \"will not have\", \"would've\": \"would have\", \n",
    "    \"wouldn't\": \"would not\", \"wouldn't've\": \"would not have\", \"y'all\": \"you all\", \"y'all'd\": \"you all would\", \n",
    "    \"y'all'd've\": \"you all would have\", \"y'all're\": \"you all are\", \"y'all've\": \"you all have\", \"you'd\": \"you would\", \n",
    "    \"you'd've\": \"you would have\", \"you'll\": \"you will\", \"you'll've\": \"you will have\", \"you're\": \"you are\", \n",
    "    \"you've\": \"you have\"\n",
    "}\n",
    "\n",
    "# Compile regex for URLs and punctuation\n",
    "url_pattern = re.compile(r'https?://\\S+|www\\.\\S+')\n",
    "punct_pattern = re.compile(r\"[^\\w\\s]\")\n",
    "\n",
    "# Cleaner version of the text cleaning function\n",
    "# def text_cleaning(text):\n",
    "#     if not isinstance(text, str):\n",
    "#         return \"\"\n",
    "    \n",
    "#     text = text.lower()\n",
    "    \n",
    "#     # Expand contractions\n",
    "#     # for contraction, expanded in contractions.items():\n",
    "#     #     text = re.sub(r\"\\b\" + re.escape(contraction) + r\"\\b\", expanded, text)\n",
    "    \n",
    "#     # Remove URLs\n",
    "#     text = url_pattern.sub('', text)\n",
    "\n",
    "#     # Remove punctuation\n",
    "#     text = punct_pattern.sub('', text)\n",
    "\n",
    "#     # Remove extra whitespace\n",
    "#     text = re.sub(r\"\\s+\", ' ', text).strip()\n",
    "\n",
    "#     return text\n",
    "\n",
    "def text_cleaning(text):\n",
    "    if not isinstance(text, str):\n",
    "        return \"\"\n",
    "\n",
    "    # Lowercase\n",
    "    text = text.lower()\n",
    "\n",
    "    # Remove URLs\n",
    "    text = url_pattern.sub('', text)\n",
    "\n",
    "    # Remove emails (optional)\n",
    "    text = re.sub(r'\\S+@\\S+', '', text)\n",
    "\n",
    "    # Replace INC/CM/CHG numbers with placeholders (optional but from your original function)\n",
    "    text = re.sub(r'\\binc\\d+\\b', 'inc_num', text)\n",
    "    text = re.sub(r'\\b(cm|chg)\\d+\\b', 'cm_num', text)\n",
    "\n",
    "    # Remove special characters/punctuation\n",
    "    text = punct_pattern.sub(' ', text)\n",
    "\n",
    "    # Remove hanging single characters (like \" a b c \")\n",
    "    text = re.sub(r'\\b\\w\\b', '', text)\n",
    "\n",
    "    # Remove extra whitespace\n",
    "    text = re.sub(r'\\s+', ' ', text).strip()\n",
    "\n",
    "    return text"
   ]
  },
  {
   "cell_type": "code",
   "execution_count": 11,
   "id": "2bd75f6b",
   "metadata": {
    "execution": {
     "iopub.execute_input": "2025-03-30T17:49:44.199902Z",
     "iopub.status.busy": "2025-03-30T17:49:44.199640Z",
     "iopub.status.idle": "2025-03-30T17:54:23.576669Z",
     "shell.execute_reply": "2025-03-30T17:54:23.575796Z"
    },
    "id": "1MQ4UG5-s10O",
    "papermill": {
     "duration": 279.393724,
     "end_time": "2025-03-30T17:54:23.577938",
     "exception": false,
     "start_time": "2025-03-30T17:49:44.184214",
     "status": "completed"
    },
    "tags": []
   },
   "outputs": [
    {
     "name": "stderr",
     "output_type": "stream",
     "text": [
      "100%|██████████| 287113/287113 [03:58<00:00, 1205.88it/s]\n",
      "100%|██████████| 13368/13368 [00:10<00:00, 1231.37it/s]\n",
      "100%|██████████| 11490/11490 [00:09<00:00, 1220.60it/s]\n",
      "100%|██████████| 287113/287113 [00:18<00:00, 15329.57it/s]\n",
      "100%|██████████| 13368/13368 [00:00<00:00, 13829.83it/s]\n",
      "100%|██████████| 11490/11490 [00:00<00:00, 14602.86it/s]\n",
      "100%|██████████| 287113/287113 [00:00<00:00, 740528.44it/s]\n",
      "100%|██████████| 13368/13368 [00:00<00:00, 740679.73it/s]\n",
      "100%|██████████| 11490/11490 [00:00<00:00, 715362.68it/s]\n"
     ]
    }
   ],
   "source": [
    "df_train['text_clean'] = df_train['text'].progress_apply(text_cleaning)\n",
    "df_val['text_clean'] = df_val['text'].progress_apply(text_cleaning)\n",
    "df_test['text_clean'] = df_test['text'].progress_apply(text_cleaning)\n",
    "\n",
    "df_train['summary_clean'] = df_train['summary'].progress_apply(text_cleaning)\n",
    "df_val['summary_clean'] = df_val['summary'].progress_apply(text_cleaning)\n",
    "df_test['summary_clean'] = df_test['summary'].progress_apply(text_cleaning)\n",
    "\n",
    "# Add _START_ and _END_ to each row in summary_clean\n",
    "df_train['summary_clean'] = df_train['summary_clean'].progress_apply(lambda x: \"_START_ \" + str(x).strip() + \" _END_\")\n",
    "df_val['summary_clean']   = df_val['summary_clean'].progress_apply(lambda x: \"_START_ \" + str(x).strip() + \" _END_\")\n",
    "df_test['summary_clean']  = df_test['summary_clean'].progress_apply(lambda x: \"_START_ \" + str(x).strip() + \" _END_\")"
   ]
  },
  {
   "cell_type": "code",
   "execution_count": 12,
   "id": "33aa55ea",
   "metadata": {
    "execution": {
     "iopub.execute_input": "2025-03-30T17:54:23.847244Z",
     "iopub.status.busy": "2025-03-30T17:54:23.846942Z",
     "iopub.status.idle": "2025-03-30T17:54:23.850175Z",
     "shell.execute_reply": "2025-03-30T17:54:23.849310Z"
    },
    "papermill": {
     "duration": 0.138987,
     "end_time": "2025-03-30T17:54:23.851437",
     "exception": false,
     "start_time": "2025-03-30T17:54:23.712450",
     "status": "completed"
    },
    "tags": []
   },
   "outputs": [],
   "source": [
    "# df_train.to_csv('train_clean.csv', index=False)\n",
    "# df_val.to_csv('val_clean.csv', index=False)\n",
    "# df_test.to_csv('test_clean.csv', index=False)"
   ]
  },
  {
   "cell_type": "code",
   "execution_count": 13,
   "id": "89731a52",
   "metadata": {
    "execution": {
     "iopub.execute_input": "2025-03-30T17:54:24.119482Z",
     "iopub.status.busy": "2025-03-30T17:54:24.119185Z",
     "iopub.status.idle": "2025-03-30T17:54:24.128055Z",
     "shell.execute_reply": "2025-03-30T17:54:24.127186Z"
    },
    "papermill": {
     "duration": 0.144596,
     "end_time": "2025-03-30T17:54:24.129373",
     "exception": false,
     "start_time": "2025-03-30T17:54:23.984777",
     "status": "completed"
    },
    "tags": []
   },
   "outputs": [
    {
     "data": {
      "text/html": [
       "<div>\n",
       "<style scoped>\n",
       "    .dataframe tbody tr th:only-of-type {\n",
       "        vertical-align: middle;\n",
       "    }\n",
       "\n",
       "    .dataframe tbody tr th {\n",
       "        vertical-align: top;\n",
       "    }\n",
       "\n",
       "    .dataframe thead th {\n",
       "        text-align: right;\n",
       "    }\n",
       "</style>\n",
       "<table border=\"1\" class=\"dataframe\">\n",
       "  <thead>\n",
       "    <tr style=\"text-align: right;\">\n",
       "      <th></th>\n",
       "      <th>text</th>\n",
       "      <th>summary</th>\n",
       "      <th>text_clean</th>\n",
       "      <th>summary_clean</th>\n",
       "    </tr>\n",
       "  </thead>\n",
       "  <tbody>\n",
       "    <tr>\n",
       "      <th>0</th>\n",
       "      <td>By . Associated Press . PUBLISHED: . 14:11 EST, 25 October 2013 . | . UPDATED: . 15:36 EST, 25 October 2013 . The bishop of the Fargo Catholic Diocese in North Dakota has exposed potentially hundreds of church members in Fargo, Grand Forks and Jamestown to the hepatitis A virus in late September and early October. The state Health Department has issued an advisory of exposure for anyone who attended five churches and took communion. Bishop John Folda (pictured) of the Fargo Catholic Diocese in North Dakota has exposed potentially hundreds of church members in Fargo, Grand Forks and Jamestown to the hepatitis A . State Immunization Program Manager Molly Howell says the risk is low, but officials feel it's important to alert people to the possible exposure. The diocese announced on Monday that Bishop John Folda is taking time off after being diagnosed with hepatitis A. The diocese says he contracted the infection through contaminated food while attending a conference for newly ordained bishops in Italy last month. Symptoms of hepatitis A include fever, tiredness, loss of appetite, nausea and abdominal discomfort. Fargo Catholic Diocese in North Dakota (pictured) is where the bishop is located .</td>\n",
       "      <td>Bishop John Folda, of North Dakota, is taking time off after being diagnosed .\\nHe contracted the infection through contaminated food in Italy .\\nChurch members in Fargo, Grand Forks and Jamestown could have been exposed .</td>\n",
       "      <td>by associated press published 14 11 est 25 october 2013 updated 15 36 est 25 october 2013 the bishop of the fargo catholic diocese in north dakota has exposed potentially hundreds of church members in fargo grand forks and jamestown to the hepatitis virus in late september and early october the state health department has issued an advisory of exposure for anyone who attended five churches and took communion bishop john folda pictured of the fargo catholic diocese in north dakota has exposed potentially hundreds of church members in fargo grand forks and jamestown to the hepatitis state immunization program manager molly howell says the risk is low but officials feel it important to alert people to the possible exposure the diocese announced on monday that bishop john folda is taking time off after being diagnosed with hepatitis the diocese says he contracted the infection through contaminated food while attending conference for newly ordained bishops in italy last month symptoms of hepatitis include fever tiredness loss of appetite nausea and abdominal discomfort fargo catholic diocese in north dakota pictured is where the bishop is located</td>\n",
       "      <td>_START_ bishop john folda of north dakota is taking time off after being diagnosed he contracted the infection through contaminated food in italy church members in fargo grand forks and jamestown could have been exposed _END_</td>\n",
       "    </tr>\n",
       "    <tr>\n",
       "      <th>1</th>\n",
       "      <td>(CNN) -- Ralph Mata was an internal affairs lieutenant for the Miami-Dade Police Department, working in the division that investigates allegations of wrongdoing by cops. Outside the office, authorities allege that the 45-year-old longtime officer worked with a drug trafficking organization to help plan a murder plot and get guns. A criminal complaint unsealed in U.S. District Court in New Jersey Tuesday accuses Mata, also known as \"The Milk Man,\" of using his role as a police officer to help the drug trafficking organization in exchange for money and gifts, including a Rolex watch. In one instance, the complaint alleges, Mata arranged to pay two assassins to kill rival drug dealers. The killers would pose as cops, pulling over their targets before shooting them, according to the complaint. \"Ultimately, the (organization) decided not to move forward with the murder plot, but Mata still received a payment for setting up the meetings,\" federal prosecutors said in a statement. The complaint also alleges that Mata used his police badge to purchase weapons for drug traffickers. Mata, according to the complaint, then used contacts at the airport to transport the weapons in his carry-on luggage on trips from Miami to the Dominican Republic. Court documents released by investigators do not specify the name of the drug trafficking organization with which Mata allegedly conspired but says the organization has been importing narcotics from places such as Ecuador and the Dominican Republic by hiding them \"inside shipping containers containing pallets of produce, including bananas.\" The organization \"has been distributing narcotics in New Jersey and elsewhere,\" the complaint says. Authorities arrested Mata on Tuesday in Miami Gardens, Florida. It was not immediately clear whether Mata has an attorney, and police officials could not be immediately reached for comment. Mata has worked for the Miami-Dade Police Department since 1992, including directing investigations in Miami Gardens and working as a lieutenant in the K-9 unit at Miami International Airport, according to the complaint. Since March 2010, he had been working in the internal affairs division. Mata faces charges of aiding and abetting a conspiracy to distribute cocaine, conspiring to distribute cocaine and engaging in monetary transactions in property derived from specified unlawful activity. He is scheduled to appear in federal court in Florida on Wednesday. If convicted, Mata could face life in prison. CNN's Suzanne Presto contributed to this report.</td>\n",
       "      <td>Criminal complaint: Cop used his role to help cocaine traffickers .\\nRalph Mata, an internal affairs lieutenant, allegedly helped group get guns .\\nHe also arranged to pay two assassins in a murder plot, a complaint alleges .</td>\n",
       "      <td>cnn ralph mata was an internal affairs lieutenant for the miami dade police department working in the division that investigates allegations of wrongdoing by cops outside the office authorities allege that the 45 year old longtime officer worked with drug trafficking organization to help plan murder plot and get guns criminal complaint unsealed in district court in new jersey tuesday accuses mata also known as the milk man of using his role as police officer to help the drug trafficking organization in exchange for money and gifts including rolex watch in one instance the complaint alleges mata arranged to pay two assassins to kill rival drug dealers the killers would pose as cops pulling over their targets before shooting them according to the complaint ultimately the organization decided not to move forward with the murder plot but mata still received payment for setting up the meetings federal prosecutors said in statement the complaint also alleges that mata used his police badge to purchase weapons for drug traffickers mata according to the complaint then used contacts at the airport to transport the weapons in his carry on luggage on trips from miami to the dominican republic court documents released by investigators do not specify the name of the drug trafficking organization with which mata allegedly conspired but says the organization has been importing narcotics from places such as ecuador and the dominican republic by hiding them inside shipping containers containing pallets of produce including bananas the organization has been distributing narcotics in new jersey and elsewhere the complaint says authorities arrested mata on tuesday in miami gardens florida it was not immediately clear whether mata has an attorney and police officials could not be immediately reached for comment mata has worked for the miami dade police department since 1992 including directing investigations in miami gardens and working as lieutenant in the unit at miami international airport according to the complaint since march 2010 he had been working in the internal affairs division mata faces charges of aiding and abetting conspiracy to distribute cocaine conspiring to distribute cocaine and engaging in monetary transactions in property derived from specified unlawful activity he is scheduled to appear in federal court in florida on wednesday if convicted mata could face life in prison cnn suzanne presto contributed to this report</td>\n",
       "      <td>_START_ criminal complaint cop used his role to help cocaine traffickers ralph mata an internal affairs lieutenant allegedly helped group get guns he also arranged to pay two assassins in murder plot complaint alleges _END_</td>\n",
       "    </tr>\n",
       "  </tbody>\n",
       "</table>\n",
       "</div>"
      ],
      "text/plain": [
       "                                                                                                                                                                                                                                                                                                                                                                                                                                                                                                                                                                                                                                                                                                                                                                                                                                                                                                                                                                                                                                                                                                                                                                                                                                                                                                                                                                                                                                                                                                                                                                                                                                                                                                                                                                                                                                                                                                                                                                                                                                                                                                                                                                                                                                                                                                                                                                                                                                                                                                                                                                                                                                               text  \\\n",
       "0                                                                                                                                                                                                                                                                                                                                                                                                                                                                                                                                                                                                                                                                                                                                                                                                                                                                                                                                                                                                                                                                                                                                                                                                                                                                                                                                                                                       By . Associated Press . PUBLISHED: . 14:11 EST, 25 October 2013 . | . UPDATED: . 15:36 EST, 25 October 2013 . The bishop of the Fargo Catholic Diocese in North Dakota has exposed potentially hundreds of church members in Fargo, Grand Forks and Jamestown to the hepatitis A virus in late September and early October. The state Health Department has issued an advisory of exposure for anyone who attended five churches and took communion. Bishop John Folda (pictured) of the Fargo Catholic Diocese in North Dakota has exposed potentially hundreds of church members in Fargo, Grand Forks and Jamestown to the hepatitis A . State Immunization Program Manager Molly Howell says the risk is low, but officials feel it's important to alert people to the possible exposure. The diocese announced on Monday that Bishop John Folda is taking time off after being diagnosed with hepatitis A. The diocese says he contracted the infection through contaminated food while attending a conference for newly ordained bishops in Italy last month. Symptoms of hepatitis A include fever, tiredness, loss of appetite, nausea and abdominal discomfort. Fargo Catholic Diocese in North Dakota (pictured) is where the bishop is located .   \n",
       "1  (CNN) -- Ralph Mata was an internal affairs lieutenant for the Miami-Dade Police Department, working in the division that investigates allegations of wrongdoing by cops. Outside the office, authorities allege that the 45-year-old longtime officer worked with a drug trafficking organization to help plan a murder plot and get guns. A criminal complaint unsealed in U.S. District Court in New Jersey Tuesday accuses Mata, also known as \"The Milk Man,\" of using his role as a police officer to help the drug trafficking organization in exchange for money and gifts, including a Rolex watch. In one instance, the complaint alleges, Mata arranged to pay two assassins to kill rival drug dealers. The killers would pose as cops, pulling over their targets before shooting them, according to the complaint. \"Ultimately, the (organization) decided not to move forward with the murder plot, but Mata still received a payment for setting up the meetings,\" federal prosecutors said in a statement. The complaint also alleges that Mata used his police badge to purchase weapons for drug traffickers. Mata, according to the complaint, then used contacts at the airport to transport the weapons in his carry-on luggage on trips from Miami to the Dominican Republic. Court documents released by investigators do not specify the name of the drug trafficking organization with which Mata allegedly conspired but says the organization has been importing narcotics from places such as Ecuador and the Dominican Republic by hiding them \"inside shipping containers containing pallets of produce, including bananas.\" The organization \"has been distributing narcotics in New Jersey and elsewhere,\" the complaint says. Authorities arrested Mata on Tuesday in Miami Gardens, Florida. It was not immediately clear whether Mata has an attorney, and police officials could not be immediately reached for comment. Mata has worked for the Miami-Dade Police Department since 1992, including directing investigations in Miami Gardens and working as a lieutenant in the K-9 unit at Miami International Airport, according to the complaint. Since March 2010, he had been working in the internal affairs division. Mata faces charges of aiding and abetting a conspiracy to distribute cocaine, conspiring to distribute cocaine and engaging in monetary transactions in property derived from specified unlawful activity. He is scheduled to appear in federal court in Florida on Wednesday. If convicted, Mata could face life in prison. CNN's Suzanne Presto contributed to this report.   \n",
       "\n",
       "                                                                                                                                                                                                                             summary  \\\n",
       "0     Bishop John Folda, of North Dakota, is taking time off after being diagnosed .\\nHe contracted the infection through contaminated food in Italy .\\nChurch members in Fargo, Grand Forks and Jamestown could have been exposed .   \n",
       "1  Criminal complaint: Cop used his role to help cocaine traffickers .\\nRalph Mata, an internal affairs lieutenant, allegedly helped group get guns .\\nHe also arranged to pay two assassins in a murder plot, a complaint alleges .   \n",
       "\n",
       "                                                                                                                                                                                                                                                                                                                                                                                                                                                                                                                                                                                                                                                                                                                                                                                                                                                                                                                                                                                                                                                                                                                                                                                                                                                                                                                                                                                                                                                                                                                                                                                                                                                                                                                                                                                                                                                                                                                                                                                                                                                                                                                                                                                                                                                                                                                                                                                                                                                                                                                                                    text_clean  \\\n",
       "0                                                                                                                                                                                                                                                                                                                                                                                                                                                                                                                                                                                                                                                                                                                                                                                                                                                                                                                                                                                                                                                                                                                                                                                                                                                                                                                                                      by associated press published 14 11 est 25 october 2013 updated 15 36 est 25 october 2013 the bishop of the fargo catholic diocese in north dakota has exposed potentially hundreds of church members in fargo grand forks and jamestown to the hepatitis virus in late september and early october the state health department has issued an advisory of exposure for anyone who attended five churches and took communion bishop john folda pictured of the fargo catholic diocese in north dakota has exposed potentially hundreds of church members in fargo grand forks and jamestown to the hepatitis state immunization program manager molly howell says the risk is low but officials feel it important to alert people to the possible exposure the diocese announced on monday that bishop john folda is taking time off after being diagnosed with hepatitis the diocese says he contracted the infection through contaminated food while attending conference for newly ordained bishops in italy last month symptoms of hepatitis include fever tiredness loss of appetite nausea and abdominal discomfort fargo catholic diocese in north dakota pictured is where the bishop is located   \n",
       "1  cnn ralph mata was an internal affairs lieutenant for the miami dade police department working in the division that investigates allegations of wrongdoing by cops outside the office authorities allege that the 45 year old longtime officer worked with drug trafficking organization to help plan murder plot and get guns criminal complaint unsealed in district court in new jersey tuesday accuses mata also known as the milk man of using his role as police officer to help the drug trafficking organization in exchange for money and gifts including rolex watch in one instance the complaint alleges mata arranged to pay two assassins to kill rival drug dealers the killers would pose as cops pulling over their targets before shooting them according to the complaint ultimately the organization decided not to move forward with the murder plot but mata still received payment for setting up the meetings federal prosecutors said in statement the complaint also alleges that mata used his police badge to purchase weapons for drug traffickers mata according to the complaint then used contacts at the airport to transport the weapons in his carry on luggage on trips from miami to the dominican republic court documents released by investigators do not specify the name of the drug trafficking organization with which mata allegedly conspired but says the organization has been importing narcotics from places such as ecuador and the dominican republic by hiding them inside shipping containers containing pallets of produce including bananas the organization has been distributing narcotics in new jersey and elsewhere the complaint says authorities arrested mata on tuesday in miami gardens florida it was not immediately clear whether mata has an attorney and police officials could not be immediately reached for comment mata has worked for the miami dade police department since 1992 including directing investigations in miami gardens and working as lieutenant in the unit at miami international airport according to the complaint since march 2010 he had been working in the internal affairs division mata faces charges of aiding and abetting conspiracy to distribute cocaine conspiring to distribute cocaine and engaging in monetary transactions in property derived from specified unlawful activity he is scheduled to appear in federal court in florida on wednesday if convicted mata could face life in prison cnn suzanne presto contributed to this report   \n",
       "\n",
       "                                                                                                                                                                                                                       summary_clean  \n",
       "0  _START_ bishop john folda of north dakota is taking time off after being diagnosed he contracted the infection through contaminated food in italy church members in fargo grand forks and jamestown could have been exposed _END_  \n",
       "1    _START_ criminal complaint cop used his role to help cocaine traffickers ralph mata an internal affairs lieutenant allegedly helped group get guns he also arranged to pay two assassins in murder plot complaint alleges _END_  "
      ]
     },
     "execution_count": 13,
     "metadata": {},
     "output_type": "execute_result"
    }
   ],
   "source": [
    "df_train.head(2)"
   ]
  },
  {
   "cell_type": "code",
   "execution_count": 14,
   "id": "725929ce",
   "metadata": {
    "execution": {
     "iopub.execute_input": "2025-03-30T17:54:24.402567Z",
     "iopub.status.busy": "2025-03-30T17:54:24.402273Z",
     "iopub.status.idle": "2025-03-30T17:54:36.661708Z",
     "shell.execute_reply": "2025-03-30T17:54:36.660935Z"
    },
    "id": "57qLyWIawBf_",
    "papermill": {
     "duration": 12.398733,
     "end_time": "2025-03-30T17:54:36.663310",
     "exception": false,
     "start_time": "2025-03-30T17:54:24.264577",
     "status": "completed"
    },
    "tags": []
   },
   "outputs": [
    {
     "name": "stderr",
     "output_type": "stream",
     "text": [
      "/usr/local/lib/python3.10/dist-packages/seaborn/_oldcore.py:1119: FutureWarning: use_inf_as_na option is deprecated and will be removed in a future version. Convert inf values to NaN before operating instead.\n",
      "  with pd.option_context('mode.use_inf_as_na', True):\n",
      "/usr/local/lib/python3.10/dist-packages/seaborn/_oldcore.py:1119: FutureWarning: use_inf_as_na option is deprecated and will be removed in a future version. Convert inf values to NaN before operating instead.\n",
      "  with pd.option_context('mode.use_inf_as_na', True):\n"
     ]
    },
    {
     "data": {
      "image/png": "[encoded data removed]",
      "text/plain": [
       "<Figure size 1200x600 with 1 Axes>"
      ]
     },
     "metadata": {},
     "output_type": "display_data"
    }
   ],
   "source": [
    "# Step 1: Count number of words in each row\n",
    "df_train['data_word_count'] = df_train['text_clean'].apply(lambda x: len(str(x).split()))\n",
    "df_train['summary_word_count'] = df_train['summary_clean'].apply(lambda x: len(str(x).split()))\n",
    "\n",
    "# Step 2: Plot the distribution\n",
    "plt.figure(figsize=(12, 6))\n",
    "sns.histplot(df_train['data_word_count'], bins=50, kde=True, color='skyblue', label='Data')\n",
    "sns.histplot(df_train['summary_word_count'], bins=50, kde=True, color='orange', label='Summary')\n",
    "plt.title(\"Word Count Distribution in Data and Summary\")\n",
    "plt.xlabel(\"Number of Words\")\n",
    "plt.ylabel(\"Frequency\")\n",
    "plt.legend()\n",
    "plt.show()"
   ]
  },
  {
   "cell_type": "code",
   "execution_count": 15,
   "id": "987b1dd3",
   "metadata": {
    "execution": {
     "iopub.execute_input": "2025-03-30T17:54:36.980327Z",
     "iopub.status.busy": "2025-03-30T17:54:36.979993Z",
     "iopub.status.idle": "2025-03-30T17:54:37.951946Z",
     "shell.execute_reply": "2025-03-30T17:54:37.951056Z"
    },
    "papermill": {
     "duration": 1.154012,
     "end_time": "2025-03-30T17:54:37.953311",
     "exception": false,
     "start_time": "2025-03-30T17:54:36.799299",
     "status": "completed"
    },
    "tags": []
   },
   "outputs": [
    {
     "name": "stderr",
     "output_type": "stream",
     "text": [
      "/usr/local/lib/python3.10/dist-packages/seaborn/_oldcore.py:1119: FutureWarning: use_inf_as_na option is deprecated and will be removed in a future version. Convert inf values to NaN before operating instead.\n",
      "  with pd.option_context('mode.use_inf_as_na', True):\n",
      "/usr/local/lib/python3.10/dist-packages/seaborn/_oldcore.py:1119: FutureWarning: use_inf_as_na option is deprecated and will be removed in a future version. Convert inf values to NaN before operating instead.\n",
      "  with pd.option_context('mode.use_inf_as_na', True):\n"
     ]
    },
    {
     "data": {
      "image/png": "[encoded data removed]",
      "text/plain": [
       "<Figure size 1200x600 with 1 Axes>"
      ]
     },
     "metadata": {},
     "output_type": "display_data"
    }
   ],
   "source": [
    "# Step 1: Count number of words in each row\n",
    "df_val['data_word_count'] = df_val['text_clean'].apply(lambda x: len(str(x).split()))\n",
    "df_val['summary_word_count'] = df_val['summary_clean'].apply(lambda x: len(str(x).split()))\n",
    "\n",
    "# Step 2: Plot the distribution\n",
    "plt.figure(figsize=(12, 6))\n",
    "sns.histplot(df_val['data_word_count'], bins=50, kde=True, color='skyblue', label='Data')\n",
    "sns.histplot(df_val['summary_word_count'], bins=50, kde=True, color='orange', label='Summary')\n",
    "plt.title(\"Word Count Distribution in Data and Summary\")\n",
    "plt.xlabel(\"Number of Words\")\n",
    "plt.ylabel(\"Frequency\")\n",
    "plt.legend()\n",
    "plt.show()"
   ]
  },
  {
   "cell_type": "code",
   "execution_count": 16,
   "id": "24065f58",
   "metadata": {
    "execution": {
     "iopub.execute_input": "2025-03-30T17:54:38.228182Z",
     "iopub.status.busy": "2025-03-30T17:54:38.227888Z",
     "iopub.status.idle": "2025-03-30T17:54:39.067428Z",
     "shell.execute_reply": "2025-03-30T17:54:39.066629Z"
    },
    "papermill": {
     "duration": 0.978314,
     "end_time": "2025-03-30T17:54:39.068935",
     "exception": false,
     "start_time": "2025-03-30T17:54:38.090621",
     "status": "completed"
    },
    "tags": []
   },
   "outputs": [
    {
     "name": "stderr",
     "output_type": "stream",
     "text": [
      "/usr/local/lib/python3.10/dist-packages/seaborn/_oldcore.py:1119: FutureWarning: use_inf_as_na option is deprecated and will be removed in a future version. Convert inf values to NaN before operating instead.\n",
      "  with pd.option_context('mode.use_inf_as_na', True):\n",
      "/usr/local/lib/python3.10/dist-packages/seaborn/_oldcore.py:1119: FutureWarning: use_inf_as_na option is deprecated and will be removed in a future version. Convert inf values to NaN before operating instead.\n",
      "  with pd.option_context('mode.use_inf_as_na', True):\n"
     ]
    },
    {
     "data": {
      "image/png": "[encoded data removed]",
      "text/plain": [
       "<Figure size 1200x600 with 1 Axes>"
      ]
     },
     "metadata": {},
     "output_type": "display_data"
    }
   ],
   "source": [
    "# Step 1: Count number of words in each row\n",
    "df_test['data_word_count'] = df_test['text_clean'].apply(lambda x: len(str(x).split()))\n",
    "df_test['summary_word_count'] = df_test['summary_clean'].apply(lambda x: len(str(x).split()))\n",
    "\n",
    "# Step 2: Plot the distribution\n",
    "plt.figure(figsize=(12, 6))\n",
    "sns.histplot(df_test['data_word_count'], bins=50, kde=True, color='skyblue', label='Data')\n",
    "sns.histplot(df_test['summary_word_count'], bins=50, kde=True, color='orange', label='Summary')\n",
    "plt.title(\"Word Count Distribution in Data and Summary\")\n",
    "plt.xlabel(\"Number of Words\")\n",
    "plt.ylabel(\"Frequency\")\n",
    "plt.legend()\n",
    "plt.show()"
   ]
  },
  {
   "cell_type": "code",
   "execution_count": 17,
   "id": "27247638",
   "metadata": {
    "execution": {
     "iopub.execute_input": "2025-03-30T17:54:39.347631Z",
     "iopub.status.busy": "2025-03-30T17:54:39.347324Z",
     "iopub.status.idle": "2025-03-30T17:54:39.350643Z",
     "shell.execute_reply": "2025-03-30T17:54:39.349969Z"
    },
    "id": "OeftCDgcwDai",
    "papermill": {
     "duration": 0.144325,
     "end_time": "2025-03-30T17:54:39.351933",
     "exception": false,
     "start_time": "2025-03-30T17:54:39.207608",
     "status": "completed"
    },
    "tags": []
   },
   "outputs": [],
   "source": [
    "text_count = []\n",
    "summary_count = []"
   ]
  },
  {
   "cell_type": "code",
   "execution_count": 18,
   "id": "0f371eab",
   "metadata": {
    "execution": {
     "iopub.execute_input": "2025-03-30T17:54:39.627603Z",
     "iopub.status.busy": "2025-03-30T17:54:39.627273Z",
     "iopub.status.idle": "2025-03-30T17:54:50.293897Z",
     "shell.execute_reply": "2025-03-30T17:54:50.292943Z"
    },
    "id": "JQOY9_DtwGdR",
    "papermill": {
     "duration": 10.805748,
     "end_time": "2025-03-30T17:54:50.295483",
     "exception": false,
     "start_time": "2025-03-30T17:54:39.489735",
     "status": "completed"
    },
    "tags": []
   },
   "outputs": [],
   "source": [
    "for sent in df_train['text_clean']:\n",
    "    text_count.append(len(sent.split()))\n",
    "\n",
    "for sent in df_train['summary_clean']:\n",
    "    summary_count.append(len(sent.split()))\n",
    "\n",
    "for sent in df_val['text_clean']:\n",
    "    text_count.append(len(sent.split()))\n",
    "\n",
    "for sent in df_val['summary_clean']:\n",
    "    summary_count.append(len(sent.split()))\n",
    "\n",
    "for sent in df_test['text_clean']:\n",
    "    text_count.append(len(sent.split()))\n",
    "\n",
    "for sent in df_test['summary_clean']:\n",
    "    summary_count.append(len(sent.split()))\n"
   ]
  },
  {
   "cell_type": "code",
   "execution_count": 19,
   "id": "1dae7792",
   "metadata": {
    "execution": {
     "iopub.execute_input": "2025-03-30T17:54:50.593915Z",
     "iopub.status.busy": "2025-03-30T17:54:50.593489Z",
     "iopub.status.idle": "2025-03-30T17:54:50.820106Z",
     "shell.execute_reply": "2025-03-30T17:54:50.819382Z"
    },
    "id": "6HjeTZLXwJH3",
    "papermill": {
     "duration": 0.381184,
     "end_time": "2025-03-30T17:54:50.821607",
     "exception": false,
     "start_time": "2025-03-30T17:54:50.440423",
     "status": "completed"
    },
    "tags": []
   },
   "outputs": [],
   "source": [
    "merge_data= pd.DataFrame()\n",
    "merge_data['text_clean'] = text_count\n",
    "merge_data['summary_clean'] = summary_count"
   ]
  },
  {
   "cell_type": "code",
   "execution_count": 20,
   "id": "86faec7e",
   "metadata": {
    "execution": {
     "iopub.execute_input": "2025-03-30T17:54:51.098179Z",
     "iopub.status.busy": "2025-03-30T17:54:51.097852Z",
     "iopub.status.idle": "2025-03-30T17:54:51.452943Z",
     "shell.execute_reply": "2025-03-30T17:54:51.451888Z"
    },
    "papermill": {
     "duration": 0.494578,
     "end_time": "2025-03-30T17:54:51.454289",
     "exception": false,
     "start_time": "2025-03-30T17:54:50.959711",
     "status": "completed"
    },
    "tags": []
   },
   "outputs": [
    {
     "data": {
      "image/png": "[encoded data removed]",
      "text/plain": [
       "<Figure size 640x480 with 2 Axes>"
      ]
     },
     "metadata": {},
     "output_type": "display_data"
    }
   ],
   "source": [
    "merge_data.hist(bins = 10)\n",
    "plt.show()"
   ]
  },
  {
   "cell_type": "code",
   "execution_count": 21,
   "id": "1e5484a8",
   "metadata": {
    "execution": {
     "iopub.execute_input": "2025-03-30T17:54:51.805733Z",
     "iopub.status.busy": "2025-03-30T17:54:51.805392Z",
     "iopub.status.idle": "2025-03-30T17:55:01.563141Z",
     "shell.execute_reply": "2025-03-30T17:55:01.562211Z"
    },
    "id": "qYO4MapRwL-Y",
    "outputId": "2b31664d-6940-45c8-a163-064fe1b8b5f5",
    "papermill": {
     "duration": 9.904278,
     "end_time": "2025-03-30T17:55:01.564556",
     "exception": false,
     "start_time": "2025-03-30T17:54:51.660278",
     "status": "completed"
    },
    "tags": []
   },
   "outputs": [
    {
     "name": "stdout",
     "output_type": "stream",
     "text": [
      "0.8836590471347519\n",
      "0.8943377694496591\n"
     ]
    }
   ],
   "source": [
    "# Check how much % of susummary_cleanmmary have 0-70 words\n",
    "cnt = 0\n",
    "for i in df_train['summary_clean']:\n",
    "    if (len(i.split()) <= 70):\n",
    "        cnt = cnt + 1\n",
    "print(cnt / len(df_train['summary_clean']))\n",
    "\n",
    "# Check how much % of text have 0-1100 words\n",
    "cnt = 0\n",
    "for i in df_train['text_clean']:\n",
    "    if(len(i.split())<=1100):\n",
    "        cnt=cnt+1\n",
    "print(cnt/len(df_train['text_clean']))"
   ]
  },
  {
   "cell_type": "code",
   "execution_count": 22,
   "id": "52ec33c1",
   "metadata": {
    "execution": {
     "iopub.execute_input": "2025-03-30T17:55:01.843145Z",
     "iopub.status.busy": "2025-03-30T17:55:01.842821Z",
     "iopub.status.idle": "2025-03-30T17:55:02.302830Z",
     "shell.execute_reply": "2025-03-30T17:55:02.301862Z"
    },
    "papermill": {
     "duration": 0.599886,
     "end_time": "2025-03-30T17:55:02.304241",
     "exception": false,
     "start_time": "2025-03-30T17:55:01.704355",
     "status": "completed"
    },
    "tags": []
   },
   "outputs": [
    {
     "name": "stdout",
     "output_type": "stream",
     "text": [
      "0.8017654099341711\n",
      "0.8913076002393776\n"
     ]
    }
   ],
   "source": [
    "# Check how much % of susummary_cleanmmary have 0-70 words\n",
    "cnt = 0\n",
    "for i in df_val['summary_clean']:\n",
    "    if (len(i.split()) <= 70):\n",
    "        cnt = cnt + 1\n",
    "print(cnt / len(df_val['summary_clean']))\n",
    "\n",
    "# Check how much % of text have 0-1100 words\n",
    "cnt = 0\n",
    "for i in df_val['text_clean']:\n",
    "    if(len(i.split())<=1100):\n",
    "        cnt=cnt+1\n",
    "print(cnt/len(df_val['text_clean']))"
   ]
  },
  {
   "cell_type": "code",
   "execution_count": 23,
   "id": "3db48984",
   "metadata": {
    "execution": {
     "iopub.execute_input": "2025-03-30T17:55:02.602821Z",
     "iopub.status.busy": "2025-03-30T17:55:02.602458Z",
     "iopub.status.idle": "2025-03-30T17:55:03.007831Z",
     "shell.execute_reply": "2025-03-30T17:55:03.007034Z"
    },
    "papermill": {
     "duration": 0.561106,
     "end_time": "2025-03-30T17:55:03.009109",
     "exception": false,
     "start_time": "2025-03-30T17:55:02.448003",
     "status": "completed"
    },
    "tags": []
   },
   "outputs": [
    {
     "name": "stdout",
     "output_type": "stream",
     "text": [
      "0.8496953872932985\n",
      "0.8829416884247171\n"
     ]
    }
   ],
   "source": [
    "# Check how much % of susummary_cleanmmary have 0-70 words\n",
    "cnt = 0\n",
    "for i in df_test['summary_clean']:\n",
    "    if (len(i.split()) <= 70):\n",
    "        cnt = cnt + 1\n",
    "print(cnt / len(df_test['summary_clean']))\n",
    "\n",
    "# Check how much % of text have 0-1100 words\n",
    "cnt = 0\n",
    "for i in df_test['text_clean']:\n",
    "    if(len(i.split())<=1100):\n",
    "        cnt=cnt+1\n",
    "print(cnt/len(df_test['text_clean']))"
   ]
  },
  {
   "cell_type": "markdown",
   "id": "6457d8a6",
   "metadata": {
    "papermill": {
     "duration": 0.139585,
     "end_time": "2025-03-30T17:55:03.289191",
     "exception": false,
     "start_time": "2025-03-30T17:55:03.149606",
     "status": "completed"
    },
    "tags": []
   },
   "source": [
    "so now we would only train and validate on those samples which has the summary_clean <= 70 and text_clean <= 1100"
   ]
  },
  {
   "cell_type": "code",
   "execution_count": 24,
   "id": "f7cd7f3e",
   "metadata": {
    "execution": {
     "iopub.execute_input": "2025-03-30T17:55:03.567692Z",
     "iopub.status.busy": "2025-03-30T17:55:03.567381Z",
     "iopub.status.idle": "2025-03-30T17:55:03.570932Z",
     "shell.execute_reply": "2025-03-30T17:55:03.570103Z"
    },
    "papermill": {
     "duration": 0.14401,
     "end_time": "2025-03-30T17:55:03.572142",
     "exception": false,
     "start_time": "2025-03-30T17:55:03.428132",
     "status": "completed"
    },
    "tags": []
   },
   "outputs": [],
   "source": [
    "# max_text_len=65\n",
    "# max_summary_len=15\n",
    "\n",
    "max_summary_len=70\n",
    "max_text_len=1100"
   ]
  },
  {
   "cell_type": "code",
   "execution_count": 25,
   "id": "27716fe1",
   "metadata": {
    "execution": {
     "iopub.execute_input": "2025-03-30T17:55:03.889361Z",
     "iopub.status.busy": "2025-03-30T17:55:03.889010Z",
     "iopub.status.idle": "2025-03-30T17:55:12.429622Z",
     "shell.execute_reply": "2025-03-30T17:55:12.428865Z"
    },
    "id": "Wuzb7NHZwjYV",
    "papermill": {
     "duration": 8.72007,
     "end_time": "2025-03-30T17:55:12.431189",
     "exception": false,
     "start_time": "2025-03-30T17:55:03.711119",
     "status": "completed"
    },
    "tags": []
   },
   "outputs": [],
   "source": [
    "cleaned_text_train = np.array(df_train['text_clean'])\n",
    "cleaned_summary_train = np.array(df_train['summary_clean'])\n",
    "\n",
    "short_text = []\n",
    "short_summary = []\n",
    "\n",
    "for i in range(len(cleaned_text_train)):\n",
    "    if(len(cleaned_summary_train[i].split()) <= max_summary_len and len(cleaned_text_train[i].split()) <= max_text_len):\n",
    "        short_text.append(cleaned_text_train[i])\n",
    "        short_summary.append(cleaned_summary_train[i])\n",
    "\n",
    "df_train_post = pd.DataFrame({'text':short_text,'summary':short_summary})"
   ]
  },
  {
   "cell_type": "code",
   "execution_count": 26,
   "id": "70087f8e",
   "metadata": {
    "execution": {
     "iopub.execute_input": "2025-03-30T17:55:12.720748Z",
     "iopub.status.busy": "2025-03-30T17:55:12.720433Z",
     "iopub.status.idle": "2025-03-30T17:55:12.814631Z",
     "shell.execute_reply": "2025-03-30T17:55:12.813720Z"
    },
    "papermill": {
     "duration": 0.234966,
     "end_time": "2025-03-30T17:55:12.816040",
     "exception": false,
     "start_time": "2025-03-30T17:55:12.581074",
     "status": "completed"
    },
    "tags": []
   },
   "outputs": [
    {
     "name": "stdout",
     "output_type": "stream",
     "text": [
      "<class 'pandas.core.frame.DataFrame'>\n",
      "RangeIndex: 231545 entries, 0 to 231544\n",
      "Data columns (total 2 columns):\n",
      " #   Column   Non-Null Count   Dtype \n",
      "---  ------   --------------   ----- \n",
      " 0   text     231545 non-null  object\n",
      " 1   summary  231545 non-null  object\n",
      "dtypes: object(2)\n",
      "memory usage: 3.5+ MB\n",
      "None\n"
     ]
    },
    {
     "data": {
      "text/html": [
       "<div>\n",
       "<style scoped>\n",
       "    .dataframe tbody tr th:only-of-type {\n",
       "        vertical-align: middle;\n",
       "    }\n",
       "\n",
       "    .dataframe tbody tr th {\n",
       "        vertical-align: top;\n",
       "    }\n",
       "\n",
       "    .dataframe thead th {\n",
       "        text-align: right;\n",
       "    }\n",
       "</style>\n",
       "<table border=\"1\" class=\"dataframe\">\n",
       "  <thead>\n",
       "    <tr style=\"text-align: right;\">\n",
       "      <th></th>\n",
       "      <th>text</th>\n",
       "      <th>summary</th>\n",
       "    </tr>\n",
       "  </thead>\n",
       "  <tbody>\n",
       "    <tr>\n",
       "      <th>0</th>\n",
       "      <td>by associated press published 14 11 est 25 october 2013 updated 15 36 est 25 october 2013 the bishop of the fargo catholic diocese in north dakota has exposed potentially hundreds of church members in fargo grand forks and jamestown to the hepatitis virus in late september and early october the state health department has issued an advisory of exposure for anyone who attended five churches and took communion bishop john folda pictured of the fargo catholic diocese in north dakota has exposed potentially hundreds of church members in fargo grand forks and jamestown to the hepatitis state immunization program manager molly howell says the risk is low but officials feel it important to alert people to the possible exposure the diocese announced on monday that bishop john folda is taking time off after being diagnosed with hepatitis the diocese says he contracted the infection through contaminated food while attending conference for newly ordained bishops in italy last month symptoms of hepatitis include fever tiredness loss of appetite nausea and abdominal discomfort fargo catholic diocese in north dakota pictured is where the bishop is located</td>\n",
       "      <td>_START_ bishop john folda of north dakota is taking time off after being diagnosed he contracted the infection through contaminated food in italy church members in fargo grand forks and jamestown could have been exposed _END_</td>\n",
       "    </tr>\n",
       "    <tr>\n",
       "      <th>1</th>\n",
       "      <td>cnn ralph mata was an internal affairs lieutenant for the miami dade police department working in the division that investigates allegations of wrongdoing by cops outside the office authorities allege that the 45 year old longtime officer worked with drug trafficking organization to help plan murder plot and get guns criminal complaint unsealed in district court in new jersey tuesday accuses mata also known as the milk man of using his role as police officer to help the drug trafficking organization in exchange for money and gifts including rolex watch in one instance the complaint alleges mata arranged to pay two assassins to kill rival drug dealers the killers would pose as cops pulling over their targets before shooting them according to the complaint ultimately the organization decided not to move forward with the murder plot but mata still received payment for setting up the meetings federal prosecutors said in statement the complaint also alleges that mata used his police badge to purchase weapons for drug traffickers mata according to the complaint then used contacts at the airport to transport the weapons in his carry on luggage on trips from miami to the dominican republic court documents released by investigators do not specify the name of the drug trafficking organization with which mata allegedly conspired but says the organization has been importing narcotics from places such as ecuador and the dominican republic by hiding them inside shipping containers containing pallets of produce including bananas the organization has been distributing narcotics in new jersey and elsewhere the complaint says authorities arrested mata on tuesday in miami gardens florida it was not immediately clear whether mata has an attorney and police officials could not be immediately reached for comment mata has worked for the miami dade police department since 1992 including directing investigations in miami gardens and working as lieutenant in the unit at miami international airport according to the complaint since march 2010 he had been working in the internal affairs division mata faces charges of aiding and abetting conspiracy to distribute cocaine conspiring to distribute cocaine and engaging in monetary transactions in property derived from specified unlawful activity he is scheduled to appear in federal court in florida on wednesday if convicted mata could face life in prison cnn suzanne presto contributed to this report</td>\n",
       "      <td>_START_ criminal complaint cop used his role to help cocaine traffickers ralph mata an internal affairs lieutenant allegedly helped group get guns he also arranged to pay two assassins in murder plot complaint alleges _END_</td>\n",
       "    </tr>\n",
       "  </tbody>\n",
       "</table>\n",
       "</div>"
      ],
      "text/plain": [
       "                                                                                                                                                                                                                                                                                                                                                                                                                                                                                                                                                                                                                                                                                                                                                                                                                                                                                                                                                                                                                                                                                                                                                                                                                                                                                                                                                                                                                                                                                                                                                                                                                                                                                                                                                                                                                                                                                                                                                                                                                                                                                                                                                                                                                                                                                                                                                                                                                                                                                                                                                          text  \\\n",
       "0                                                                                                                                                                                                                                                                                                                                                                                                                                                                                                                                                                                                                                                                                                                                                                                                                                                                                                                                                                                                                                                                                                                                                                                                                                                                                                                                                      by associated press published 14 11 est 25 october 2013 updated 15 36 est 25 october 2013 the bishop of the fargo catholic diocese in north dakota has exposed potentially hundreds of church members in fargo grand forks and jamestown to the hepatitis virus in late september and early october the state health department has issued an advisory of exposure for anyone who attended five churches and took communion bishop john folda pictured of the fargo catholic diocese in north dakota has exposed potentially hundreds of church members in fargo grand forks and jamestown to the hepatitis state immunization program manager molly howell says the risk is low but officials feel it important to alert people to the possible exposure the diocese announced on monday that bishop john folda is taking time off after being diagnosed with hepatitis the diocese says he contracted the infection through contaminated food while attending conference for newly ordained bishops in italy last month symptoms of hepatitis include fever tiredness loss of appetite nausea and abdominal discomfort fargo catholic diocese in north dakota pictured is where the bishop is located   \n",
       "1  cnn ralph mata was an internal affairs lieutenant for the miami dade police department working in the division that investigates allegations of wrongdoing by cops outside the office authorities allege that the 45 year old longtime officer worked with drug trafficking organization to help plan murder plot and get guns criminal complaint unsealed in district court in new jersey tuesday accuses mata also known as the milk man of using his role as police officer to help the drug trafficking organization in exchange for money and gifts including rolex watch in one instance the complaint alleges mata arranged to pay two assassins to kill rival drug dealers the killers would pose as cops pulling over their targets before shooting them according to the complaint ultimately the organization decided not to move forward with the murder plot but mata still received payment for setting up the meetings federal prosecutors said in statement the complaint also alleges that mata used his police badge to purchase weapons for drug traffickers mata according to the complaint then used contacts at the airport to transport the weapons in his carry on luggage on trips from miami to the dominican republic court documents released by investigators do not specify the name of the drug trafficking organization with which mata allegedly conspired but says the organization has been importing narcotics from places such as ecuador and the dominican republic by hiding them inside shipping containers containing pallets of produce including bananas the organization has been distributing narcotics in new jersey and elsewhere the complaint says authorities arrested mata on tuesday in miami gardens florida it was not immediately clear whether mata has an attorney and police officials could not be immediately reached for comment mata has worked for the miami dade police department since 1992 including directing investigations in miami gardens and working as lieutenant in the unit at miami international airport according to the complaint since march 2010 he had been working in the internal affairs division mata faces charges of aiding and abetting conspiracy to distribute cocaine conspiring to distribute cocaine and engaging in monetary transactions in property derived from specified unlawful activity he is scheduled to appear in federal court in florida on wednesday if convicted mata could face life in prison cnn suzanne presto contributed to this report   \n",
       "\n",
       "                                                                                                                                                                                                                             summary  \n",
       "0  _START_ bishop john folda of north dakota is taking time off after being diagnosed he contracted the infection through contaminated food in italy church members in fargo grand forks and jamestown could have been exposed _END_  \n",
       "1    _START_ criminal complaint cop used his role to help cocaine traffickers ralph mata an internal affairs lieutenant allegedly helped group get guns he also arranged to pay two assassins in murder plot complaint alleges _END_  "
      ]
     },
     "execution_count": 26,
     "metadata": {},
     "output_type": "execute_result"
    }
   ],
   "source": [
    "print(df_train_post.info())\n",
    "df_train_post.head(2)"
   ]
  },
  {
   "cell_type": "code",
   "execution_count": 27,
   "id": "9f873c0b",
   "metadata": {
    "execution": {
     "iopub.execute_input": "2025-03-30T17:55:13.096425Z",
     "iopub.status.busy": "2025-03-30T17:55:13.096132Z",
     "iopub.status.idle": "2025-03-30T17:55:13.460462Z",
     "shell.execute_reply": "2025-03-30T17:55:13.459788Z"
    },
    "id": "-xwxwl66wmQ1",
    "outputId": "2443f18b-aabc-4d05-c0e0-44cf6e35de50",
    "papermill": {
     "duration": 0.504401,
     "end_time": "2025-03-30T17:55:13.461979",
     "exception": false,
     "start_time": "2025-03-30T17:55:12.957578",
     "status": "completed"
    },
    "tags": []
   },
   "outputs": [],
   "source": [
    "cleaned_text_val = np.array(df_val['text_clean'])\n",
    "cleaned_summary_val = np.array(df_val['summary_clean'])\n",
    "\n",
    "short_text = []\n",
    "short_summary = []\n",
    "\n",
    "for i in range(len(cleaned_text_val)):\n",
    "    if(len(cleaned_summary_val[i].split()) <= max_summary_len and len(cleaned_text_val[i].split()) <= max_text_len):\n",
    "        short_text.append(cleaned_text_val[i])\n",
    "        short_summary.append(cleaned_summary_val[i])\n",
    "\n",
    "df_val_post = pd.DataFrame({'text':short_text,'summary':short_summary})"
   ]
  },
  {
   "cell_type": "code",
   "execution_count": 28,
   "id": "dfce5ccb",
   "metadata": {
    "execution": {
     "iopub.execute_input": "2025-03-30T17:55:13.742010Z",
     "iopub.status.busy": "2025-03-30T17:55:13.741662Z",
     "iopub.status.idle": "2025-03-30T17:55:13.756062Z",
     "shell.execute_reply": "2025-03-30T17:55:13.755259Z"
    },
    "papermill": {
     "duration": 0.154945,
     "end_time": "2025-03-30T17:55:13.757217",
     "exception": false,
     "start_time": "2025-03-30T17:55:13.602272",
     "status": "completed"
    },
    "tags": []
   },
   "outputs": [
    {
     "name": "stdout",
     "output_type": "stream",
     "text": [
      "<class 'pandas.core.frame.DataFrame'>\n",
      "RangeIndex: 9874 entries, 0 to 9873\n",
      "Data columns (total 2 columns):\n",
      " #   Column   Non-Null Count  Dtype \n",
      "---  ------   --------------  ----- \n",
      " 0   text     9874 non-null   object\n",
      " 1   summary  9874 non-null   object\n",
      "dtypes: object(2)\n",
      "memory usage: 154.4+ KB\n",
      "None\n"
     ]
    },
    {
     "data": {
      "text/html": [
       "<div>\n",
       "<style scoped>\n",
       "    .dataframe tbody tr th:only-of-type {\n",
       "        vertical-align: middle;\n",
       "    }\n",
       "\n",
       "    .dataframe tbody tr th {\n",
       "        vertical-align: top;\n",
       "    }\n",
       "\n",
       "    .dataframe thead th {\n",
       "        text-align: right;\n",
       "    }\n",
       "</style>\n",
       "<table border=\"1\" class=\"dataframe\">\n",
       "  <thead>\n",
       "    <tr style=\"text-align: right;\">\n",
       "      <th></th>\n",
       "      <th>text</th>\n",
       "      <th>summary</th>\n",
       "    </tr>\n",
       "  </thead>\n",
       "  <tbody>\n",
       "    <tr>\n",
       "      <th>0</th>\n",
       "      <td>sally forrest an actress dancer who graced the silver screen throughout the 40s and 50s in mgm musicals and films such as the 1956 noir while the city sleeps died on march 15 at her home in beverly hills california forrest whose birth name was katherine feeney was 86 and had long battled cancer her publicist judith goffin announced the news thursday scroll down for video actress sally forrest was in the 1951 ida lupino directed film hard fast and beautiful left and the 1956 fritz lang movie while the city sleeps san diego native forrest became protege of hollywood trailblazer ida lupino who cast her in starring roles in films including the critical and commercial success not wanted never fear and hard fast and beautiful some of forrest other film credits included bannerline son of sinbad and excuse my dust according to her imdb page the page also indicates forrest was in multiple climax and rawhide television episodes forrest appeared as herself in an episode of the ed sullivan show and three episodes of the dinah shore chevy show her imdb page says she also starred in broadway production of the seven year itch city news service reported that other stage credits included as you like it no no nanette and damn yankees forrest married writer producer milo frank in 1951 he died in 2004 she is survived by her niece sharon durham and nephews michael and mark feeney career san diego native forrest became protege of hollywood trailblazer ida lupino who cast her in starring roles in films</td>\n",
       "      <td>_START_ sally forrest an actress dancer who graced the silver screen throughout the 40s and 50s in mgm musicals and films died on march 15 forrest whose birth name was katherine feeney had long battled cancer san diego native forrest became protege of hollywood trailblazer ida lupino who cast her in starring roles in films _END_</td>\n",
       "    </tr>\n",
       "    <tr>\n",
       "      <th>1</th>\n",
       "      <td>middle school teacher in china has inked hundreds of sketches that are beyond be leaf politics teacher wang lian 35 has created 1000 stunning ink drawings covering subjects as varied as cartoon characters and landscapes to animals birds according to the people daily online the intricate scribbles on leaves feature wang favourite sites across the city of nanjing which include the presidential palace yangtze river bridge the ancient jiming temple and the qinhuai river natural canvas artist and teacher wang lian has done hundreds of drawings like this temple on leaves she collects in the park and on the streets delicate she uses an ink pen to gently draw the local scenes and buildings on the dried out leaves although teaching politics is my job drawing is my passion and hobby said wang first tried drawing on leaves about 10 years ago and fell in love with it as an art form immediately it like drawing on very old parchment paper you have to be really careful that you don damage the leaf because it is very fragile and this helps focus your attention and abilities wang started giving the drawings away on christmas eve in 2012 when her junior high school son came home saying he wanted to prepare some gifts for his classmates being an avid painter wang decided to give her son friends unique presents of gingko leaf paintings wang loves gingko leaves and will often pick them up along gingko avenue near to her school in nanjing in east china jiangsu province every autumn she collects about 000 leaves from the ground to ensure she has enough to cover spoils too intricate teacher wang has drawn hundreds of local scenes on leaves she has collected from the park hobby the artist collects leaves every autumn and dries them out so she can sketch these impressive building scenes the colour and shape of gingko leaves are particularly beautiful she said need to collect around 2000 leaves because this will include losses she takes them home where she then presses them between the pages of books luckily have quite lot of books and try to use old ones or ones that ve already read so don end up with nothing to read once they are dried she carefully takes each one and using an ink fountain pen creates her masterpieces she said some people are into capturing beauty through photography but for me digitalised image just isn the same new leaf politics teacher wang lian has drawn hundreds of doodles on leaves for the last 10 years by drawing what see become far more part of the process and part of the final piece one day hope to be able to put my collection on display but for now it really just for my own pleasure wang leaf paintings are turned into bookmarks postcards and sometimes even given as gifts to her her students so she can share the beauty of leaf paintings but locals who have had the luck of being able to see wang art have been gobsmacked local art collector on hao 58 said these are truly remarkable and beautiful creations she has so much talent she is wasted in teaching</td>\n",
       "      <td>_START_ works include pictures of presidential palace and yangtze river bridge has inked 000 pieces of art on leaves in last two years gives work away to students in form of bookmarks and postcards _END_</td>\n",
       "    </tr>\n",
       "  </tbody>\n",
       "</table>\n",
       "</div>"
      ],
      "text/plain": [
       "                                                                                                                                                                                                                                                                                                                                                                                                                                                                                                                                                                                                                                                                                                                                                                                                                                                                                                                                                                                                                                                                                                                                                                                                                                                                                                                                                                                                                                                                                                                                                                                                                                                                                                                                                                                                                                                                                                                                                                                                                                                                                                                                                                                                                                                                                                                                                                                                                                                                                                                                                                                                                                                                                                                                                                                                                                                                                                                                                                                                                                                                                                                             text  \\\n",
       "0                                                                                                                                                                                                                                                                                                                                                                                                                                                                                                                                                                                                                                                                                                                                                                                                                                                                                                                                                                                                                                                                                                                                                                                                                                                                                                                                                                                                                                                                                                                                                                sally forrest an actress dancer who graced the silver screen throughout the 40s and 50s in mgm musicals and films such as the 1956 noir while the city sleeps died on march 15 at her home in beverly hills california forrest whose birth name was katherine feeney was 86 and had long battled cancer her publicist judith goffin announced the news thursday scroll down for video actress sally forrest was in the 1951 ida lupino directed film hard fast and beautiful left and the 1956 fritz lang movie while the city sleeps san diego native forrest became protege of hollywood trailblazer ida lupino who cast her in starring roles in films including the critical and commercial success not wanted never fear and hard fast and beautiful some of forrest other film credits included bannerline son of sinbad and excuse my dust according to her imdb page the page also indicates forrest was in multiple climax and rawhide television episodes forrest appeared as herself in an episode of the ed sullivan show and three episodes of the dinah shore chevy show her imdb page says she also starred in broadway production of the seven year itch city news service reported that other stage credits included as you like it no no nanette and damn yankees forrest married writer producer milo frank in 1951 he died in 2004 she is survived by her niece sharon durham and nephews michael and mark feeney career san diego native forrest became protege of hollywood trailblazer ida lupino who cast her in starring roles in films   \n",
       "1  middle school teacher in china has inked hundreds of sketches that are beyond be leaf politics teacher wang lian 35 has created 1000 stunning ink drawings covering subjects as varied as cartoon characters and landscapes to animals birds according to the people daily online the intricate scribbles on leaves feature wang favourite sites across the city of nanjing which include the presidential palace yangtze river bridge the ancient jiming temple and the qinhuai river natural canvas artist and teacher wang lian has done hundreds of drawings like this temple on leaves she collects in the park and on the streets delicate she uses an ink pen to gently draw the local scenes and buildings on the dried out leaves although teaching politics is my job drawing is my passion and hobby said wang first tried drawing on leaves about 10 years ago and fell in love with it as an art form immediately it like drawing on very old parchment paper you have to be really careful that you don damage the leaf because it is very fragile and this helps focus your attention and abilities wang started giving the drawings away on christmas eve in 2012 when her junior high school son came home saying he wanted to prepare some gifts for his classmates being an avid painter wang decided to give her son friends unique presents of gingko leaf paintings wang loves gingko leaves and will often pick them up along gingko avenue near to her school in nanjing in east china jiangsu province every autumn she collects about 000 leaves from the ground to ensure she has enough to cover spoils too intricate teacher wang has drawn hundreds of local scenes on leaves she has collected from the park hobby the artist collects leaves every autumn and dries them out so she can sketch these impressive building scenes the colour and shape of gingko leaves are particularly beautiful she said need to collect around 2000 leaves because this will include losses she takes them home where she then presses them between the pages of books luckily have quite lot of books and try to use old ones or ones that ve already read so don end up with nothing to read once they are dried she carefully takes each one and using an ink fountain pen creates her masterpieces she said some people are into capturing beauty through photography but for me digitalised image just isn the same new leaf politics teacher wang lian has drawn hundreds of doodles on leaves for the last 10 years by drawing what see become far more part of the process and part of the final piece one day hope to be able to put my collection on display but for now it really just for my own pleasure wang leaf paintings are turned into bookmarks postcards and sometimes even given as gifts to her her students so she can share the beauty of leaf paintings but locals who have had the luck of being able to see wang art have been gobsmacked local art collector on hao 58 said these are truly remarkable and beautiful creations she has so much talent she is wasted in teaching   \n",
       "\n",
       "                                                                                                                                                                                                                                                                                                                                      summary  \n",
       "0  _START_ sally forrest an actress dancer who graced the silver screen throughout the 40s and 50s in mgm musicals and films died on march 15 forrest whose birth name was katherine feeney had long battled cancer san diego native forrest became protege of hollywood trailblazer ida lupino who cast her in starring roles in films _END_  \n",
       "1                                                                                                                                 _START_ works include pictures of presidential palace and yangtze river bridge has inked 000 pieces of art on leaves in last two years gives work away to students in form of bookmarks and postcards _END_  "
      ]
     },
     "execution_count": 28,
     "metadata": {},
     "output_type": "execute_result"
    }
   ],
   "source": [
    "print(df_val_post.info())\n",
    "df_val_post.head(2)"
   ]
  },
  {
   "cell_type": "code",
   "execution_count": 29,
   "id": "0789046a",
   "metadata": {
    "execution": {
     "iopub.execute_input": "2025-03-30T17:55:14.034310Z",
     "iopub.status.busy": "2025-03-30T17:55:14.033971Z",
     "iopub.status.idle": "2025-03-30T17:55:14.038265Z",
     "shell.execute_reply": "2025-03-30T17:55:14.037419Z"
    },
    "papermill": {
     "duration": 0.144472,
     "end_time": "2025-03-30T17:55:14.039510",
     "exception": false,
     "start_time": "2025-03-30T17:55:13.895038",
     "status": "completed"
    },
    "tags": []
   },
   "outputs": [],
   "source": [
    "x_train = df_train_post['text'].values\n",
    "y_train = df_train_post['summary'].values\n",
    "\n",
    "x_val = df_val_post['text'].values\n",
    "y_val = df_val_post['summary'].values\n",
    "\n",
    "x_test = df_test['text_clean'].values\n",
    "y_test = df_test['summary_clean'].values"
   ]
  },
  {
   "cell_type": "code",
   "execution_count": 30,
   "id": "ad7de214",
   "metadata": {
    "execution": {
     "iopub.execute_input": "2025-03-30T17:55:14.359369Z",
     "iopub.status.busy": "2025-03-30T17:55:14.359046Z",
     "iopub.status.idle": "2025-03-30T17:55:14.707301Z",
     "shell.execute_reply": "2025-03-30T17:55:14.706368Z"
    },
    "papermill": {
     "duration": 0.490933,
     "end_time": "2025-03-30T17:55:14.709349",
     "exception": false,
     "start_time": "2025-03-30T17:55:14.218416",
     "status": "completed"
    },
    "tags": []
   },
   "outputs": [
    {
     "name": "stdout",
     "output_type": "stream",
     "text": [
      "🔍 Checking df_train_post:\n",
      "Total rows: 231545\n",
      "🟡 Rows missing _START_: 0\n",
      "🔴 Rows missing _END_: 0\n",
      "🔍 Checking df_val_post:\n",
      "Total rows: 9874\n",
      "🟡 Rows missing _START_: 0\n",
      "🔴 Rows missing _END_: 0\n",
      "🔍 Checking df_test:\n",
      "Total rows: 11490\n",
      "🟡 Rows missing _START_: 0\n",
      "🔴 Rows missing _END_: 0\n"
     ]
    }
   ],
   "source": [
    "def check_start_end_tokens(df, column='summary'):\n",
    "    missing_start = df[~df[column].str.strip().str.startswith('_START_')]\n",
    "    missing_end = df[~df[column].str.strip().str.endswith('_END_')]\n",
    "\n",
    "    print(f\"Total rows: {len(df)}\")\n",
    "    print(f\"🟡 Rows missing _START_: {len(missing_start)}\")\n",
    "    print(f\"🔴 Rows missing _END_: {len(missing_end)}\")\n",
    "    \n",
    "    if len(missing_start) > 0:\n",
    "        print(\"→ Sample missing _START_:\\n\", missing_start[column].head(), \"\\n\")\n",
    "\n",
    "    if len(missing_end) > 0:\n",
    "        print(\"→ Sample missing _END_:\\n\", missing_end[column].head(), \"\\n\")\n",
    "\n",
    "    return missing_start, missing_end\n",
    "\n",
    "print(\"🔍 Checking df_train_post:\")\n",
    "missing_start_train, missing_end_train = check_start_end_tokens(df_train_post)\n",
    "\n",
    "print(\"🔍 Checking df_val_post:\")\n",
    "missing_start_val, missing_end_val = check_start_end_tokens(df_val_post)\n",
    "\n",
    "print(\"🔍 Checking df_test:\")\n",
    "missing_start_test, missing_end_test = check_start_end_tokens(df_test, 'summary_clean')\n"
   ]
  },
  {
   "cell_type": "code",
   "execution_count": 31,
   "id": "d90f59ee",
   "metadata": {
    "execution": {
     "iopub.execute_input": "2025-03-30T17:55:15.026733Z",
     "iopub.status.busy": "2025-03-30T17:55:15.026345Z",
     "iopub.status.idle": "2025-03-30T17:55:15.031868Z",
     "shell.execute_reply": "2025-03-30T17:55:15.031059Z"
    },
    "papermill": {
     "duration": 0.154523,
     "end_time": "2025-03-30T17:55:15.033169",
     "exception": false,
     "start_time": "2025-03-30T17:55:14.878646",
     "status": "completed"
    },
    "tags": []
   },
   "outputs": [
    {
     "data": {
      "text/plain": [
       "'by associated press published 14 11 est 25 october 2013 updated 15 36 est 25 october 2013 the bishop of the fargo catholic diocese in north dakota has exposed potentially hundreds of church members in fargo grand forks and jamestown to the hepatitis virus in late september and early october the state health department has issued an advisory of exposure for anyone who attended five churches and took communion bishop john folda pictured of the fargo catholic diocese in north dakota has exposed potentially hundreds of church members in fargo grand forks and jamestown to the hepatitis state immunization program manager molly howell says the risk is low but officials feel it important to alert people to the possible exposure the diocese announced on monday that bishop john folda is taking time off after being diagnosed with hepatitis the diocese says he contracted the infection through contaminated food while attending conference for newly ordained bishops in italy last month symptoms of hepatitis include fever tiredness loss of appetite nausea and abdominal discomfort fargo catholic diocese in north dakota pictured is where the bishop is located'"
      ]
     },
     "execution_count": 31,
     "metadata": {},
     "output_type": "execute_result"
    }
   ],
   "source": [
    "x_train[0]"
   ]
  },
  {
   "cell_type": "code",
   "execution_count": 32,
   "id": "9377682d",
   "metadata": {
    "execution": {
     "iopub.execute_input": "2025-03-30T17:55:15.330636Z",
     "iopub.status.busy": "2025-03-30T17:55:15.330310Z",
     "iopub.status.idle": "2025-03-30T17:55:15.335306Z",
     "shell.execute_reply": "2025-03-30T17:55:15.334531Z"
    },
    "papermill": {
     "duration": 0.14761,
     "end_time": "2025-03-30T17:55:15.336638",
     "exception": false,
     "start_time": "2025-03-30T17:55:15.189028",
     "status": "completed"
    },
    "tags": []
   },
   "outputs": [
    {
     "data": {
      "text/plain": [
       "'_START_ bishop john folda of north dakota is taking time off after being diagnosed he contracted the infection through contaminated food in italy church members in fargo grand forks and jamestown could have been exposed _END_'"
      ]
     },
     "execution_count": 32,
     "metadata": {},
     "output_type": "execute_result"
    }
   ],
   "source": [
    "y_train[0]"
   ]
  },
  {
   "cell_type": "code",
   "execution_count": 33,
   "id": "db8a41b5",
   "metadata": {
    "execution": {
     "iopub.execute_input": "2025-03-30T17:55:15.621255Z",
     "iopub.status.busy": "2025-03-30T17:55:15.620860Z",
     "iopub.status.idle": "2025-03-30T17:55:15.625072Z",
     "shell.execute_reply": "2025-03-30T17:55:15.624232Z"
    },
    "papermill": {
     "duration": 0.14717,
     "end_time": "2025-03-30T17:55:15.626410",
     "exception": false,
     "start_time": "2025-03-30T17:55:15.479240",
     "status": "completed"
    },
    "tags": []
   },
   "outputs": [],
   "source": [
    "# # ✅ Modified filters to preserve `_`\n",
    "# custom_filters = '!\"#$%&()*+,-./:;<=>?@[\\\\]^`{|}~\\t\\n'\n",
    "\n",
    "# # Create tokenizer\n",
    "# tokenizer = Tokenizer(filters=custom_filters)\n",
    "\n",
    "# # Example summary-like sentence\n",
    "# texts = [\"_START_ this is a summary _END_\"]\n",
    "\n",
    "# # Fit tokenizer\n",
    "# tokenizer.fit_on_texts(texts)\n",
    "\n",
    "# # Print word index to verify\n",
    "# print(\"Word Index:\", tokenizer.word_index)\n",
    "\n",
    "# # Check specifically for the special tokens\n",
    "# print(\"_start_ in tokenizer:\", \"_start_\" in tokenizer.word_index)\n",
    "# print(\"_end_ in tokenizer:\", \"_end_\" in tokenizer.word_index)\n",
    "\n",
    "# # Tokenized sequence\n",
    "# print(\"Tokenized sequence:\", tokenizer.texts_to_sequences(texts))"
   ]
  },
  {
   "cell_type": "code",
   "execution_count": 34,
   "id": "62e764ff",
   "metadata": {
    "execution": {
     "iopub.execute_input": "2025-03-30T17:55:15.908088Z",
     "iopub.status.busy": "2025-03-30T17:55:15.907715Z",
     "iopub.status.idle": "2025-03-30T17:57:40.428185Z",
     "shell.execute_reply": "2025-03-30T17:57:40.427259Z"
    },
    "papermill": {
     "duration": 144.664576,
     "end_time": "2025-03-30T17:57:40.430001",
     "exception": false,
     "start_time": "2025-03-30T17:55:15.765425",
     "status": "completed"
    },
    "tags": []
   },
   "outputs": [],
   "source": [
    "# Parameters\n",
    "BATCH_SIZE = 64\n",
    "EMBEDDING_DIM = 128\n",
    "HIDDEN_DIM = 256\n",
    "MAX_LEN = 70\n",
    "MAX_VOCAB_SIZE = 30000  # or 10000\n",
    "DEVICE = torch.device('cuda' if torch.cuda.is_available() else 'cpu')\n",
    "\n",
    "# Step 1: Set tokenizer with num_words and oov_token\n",
    "# input_tokenizer = Tokenizer(num_words=MAX_VOCAB_SIZE, oov_token=\"<OOV>\")\n",
    "# output_tokenizer = Tokenizer(num_words=MAX_VOCAB_SIZE, oov_token=\"<OOV>\")\n",
    "\n",
    "# Remove `_` from filters so special tokens like _START_ are preserved\n",
    "filters = '!\"#$%&()*+,-./:;<=>?@[\\\\]^`{|}~\\t\\n'  # Default filters without underscore\n",
    "\n",
    "input_tokenizer = Tokenizer(num_words=MAX_VOCAB_SIZE, oov_token=\"<OOV>\", filters=filters)\n",
    "output_tokenizer = Tokenizer(num_words=MAX_VOCAB_SIZE, oov_token=\"<OOV>\", filters=filters)\n",
    "\n",
    "# Step 2: Fit on your training text\n",
    "input_tokenizer.fit_on_texts(x_train)\n",
    "output_tokenizer.fit_on_texts(y_train)\n",
    "\n",
    "# ⚠️ Step 3: Manually truncate word_index to respect num_words\n",
    "# input_tokenizer.word_index = {word: idx for word, idx in input_tokenizer.word_index.items() if idx < MAX_VOCAB_SIZE}\n",
    "# output_tokenizer.word_index = {word: idx for word, idx in output_tokenizer.word_index.items() if idx < MAX_VOCAB_SIZE}\n",
    "\n",
    "# Step 3: Manually truncate word_index while preserving special tokens\n",
    "SPECIAL_TOKENS = [\"_START_\", \"_END_\"]\n",
    "input_tokenizer.word_index = {\n",
    "    word: idx for word, idx in input_tokenizer.word_index.items()\n",
    "    if idx < MAX_VOCAB_SIZE or word in SPECIAL_TOKENS\n",
    "}\n",
    "output_tokenizer.word_index = {\n",
    "    word: idx for word, idx in output_tokenizer.word_index.items()\n",
    "    if idx < MAX_VOCAB_SIZE or word in SPECIAL_TOKENS\n",
    "}\n",
    "\n",
    "# Step 4: Make sure OOV token is preserved\n",
    "input_tokenizer.word_index[input_tokenizer.oov_token] = MAX_VOCAB_SIZE\n",
    "output_tokenizer.word_index[output_tokenizer.oov_token] = MAX_VOCAB_SIZE\n",
    "\n",
    "# Step 5: Tokenize and pad\n",
    "x_train_seq = pad_sequences(input_tokenizer.texts_to_sequences(x_train), maxlen=MAX_LEN, padding='post')\n",
    "x_val_seq   = pad_sequences(input_tokenizer.texts_to_sequences(x_val),   maxlen=MAX_LEN, padding='post')\n",
    "x_test_seq  = pad_sequences(input_tokenizer.texts_to_sequences(x_test),  maxlen=MAX_LEN, padding='post')\n",
    "\n",
    "y_train_seq = pad_sequences(output_tokenizer.texts_to_sequences(y_train), maxlen=MAX_LEN, padding='post')\n",
    "y_val_seq   = pad_sequences(output_tokenizer.texts_to_sequences(y_val),   maxlen=MAX_LEN, padding='post')\n",
    "y_test_seq  = pad_sequences(output_tokenizer.texts_to_sequences(y_test),  maxlen=MAX_LEN, padding='post')\n",
    "\n",
    "# Step 6: Final vocab sizes (True limit + OOV)\n",
    "input_vocab_size = MAX_VOCAB_SIZE + 1\n",
    "output_vocab_size = MAX_VOCAB_SIZE + 1\n",
    "pad_token_id = output_tokenizer.word_index[\"<OOV>\"]\n"
   ]
  },
  {
   "cell_type": "code",
   "execution_count": 35,
   "id": "42379f8f",
   "metadata": {
    "execution": {
     "iopub.execute_input": "2025-03-30T17:57:40.777318Z",
     "iopub.status.busy": "2025-03-30T17:57:40.777025Z",
     "iopub.status.idle": "2025-03-30T17:57:40.781317Z",
     "shell.execute_reply": "2025-03-30T17:57:40.780620Z"
    },
    "papermill": {
     "duration": 0.14562,
     "end_time": "2025-03-30T17:57:40.782545",
     "exception": false,
     "start_time": "2025-03-30T17:57:40.636925",
     "status": "completed"
    },
    "tags": []
   },
   "outputs": [
    {
     "name": "stdout",
     "output_type": "stream",
     "text": [
      "Input vocab size 30001\n",
      "Output vocab size 30001\n"
     ]
    }
   ],
   "source": [
    "print(\"Input vocab size\", input_vocab_size)\n",
    "print(\"Output vocab size\", output_vocab_size)\n"
   ]
  },
  {
   "cell_type": "code",
   "execution_count": 36,
   "id": "b69f74e0",
   "metadata": {
    "execution": {
     "iopub.execute_input": "2025-03-30T17:57:41.060259Z",
     "iopub.status.busy": "2025-03-30T17:57:41.059986Z",
     "iopub.status.idle": "2025-03-30T17:57:41.070848Z",
     "shell.execute_reply": "2025-03-30T17:57:41.070132Z"
    },
    "papermill": {
     "duration": 0.150997,
     "end_time": "2025-03-30T17:57:41.072002",
     "exception": false,
     "start_time": "2025-03-30T17:57:40.921005",
     "status": "completed"
    },
    "tags": []
   },
   "outputs": [
    {
     "name": "stdout",
     "output_type": "stream",
     "text": [
      "Word Index Sample: [('<OOV>', 30000), ('the', 2), ('to', 3), ('of', 4), ('and', 5), ('in', 6), ('for', 7), ('that', 8), ('was', 9), ('on', 10)]\n",
      "Sequence Sample: [[30, 11, 30000, 110, 30000]]\n"
     ]
    }
   ],
   "source": [
    "print(\"Word Index Sample:\", list(input_tokenizer.word_index.items())[:10])\n",
    "print(\"Sequence Sample:\", input_tokenizer.texts_to_sequences([\"this is a very rareword123\"]))\n"
   ]
  },
  {
   "cell_type": "code",
   "execution_count": 37,
   "id": "2f27b0ee",
   "metadata": {
    "execution": {
     "iopub.execute_input": "2025-03-30T17:57:41.353493Z",
     "iopub.status.busy": "2025-03-30T17:57:41.353175Z",
     "iopub.status.idle": "2025-03-30T17:57:41.358279Z",
     "shell.execute_reply": "2025-03-30T17:57:41.357578Z"
    },
    "papermill": {
     "duration": 0.148258,
     "end_time": "2025-03-30T17:57:41.359646",
     "exception": false,
     "start_time": "2025-03-30T17:57:41.211388",
     "status": "completed"
    },
    "tags": []
   },
   "outputs": [
    {
     "name": "stdout",
     "output_type": "stream",
     "text": [
      "_start_ in output_tokenizer: True\n",
      "_end_ in output_tokenizer: True\n",
      "_start_ in input_tokenizer: False\n",
      "_end_ in input_tokenizer: False\n"
     ]
    }
   ],
   "source": [
    "print(\"_start_ in output_tokenizer:\", \"_start_\" in output_tokenizer.word_index)\n",
    "print(\"_end_ in output_tokenizer:\", \"_end_\" in output_tokenizer.word_index)\n",
    "\n",
    "print(\"_start_ in input_tokenizer:\", \"_start_\" in input_tokenizer.word_index)\n",
    "print(\"_end_ in input_tokenizer:\", \"_end_\" in input_tokenizer.word_index)\n"
   ]
  },
  {
   "cell_type": "code",
   "execution_count": 38,
   "id": "daf9a321",
   "metadata": {
    "execution": {
     "iopub.execute_input": "2025-03-30T17:57:41.651226Z",
     "iopub.status.busy": "2025-03-30T17:57:41.650929Z",
     "iopub.status.idle": "2025-03-30T17:57:41.704819Z",
     "shell.execute_reply": "2025-03-30T17:57:41.704087Z"
    },
    "papermill": {
     "duration": 0.194214,
     "end_time": "2025-03-30T17:57:41.706278",
     "exception": false,
     "start_time": "2025-03-30T17:57:41.512064",
     "status": "completed"
    },
    "tags": []
   },
   "outputs": [],
   "source": [
    "# Dataset and Dataloader\n",
    "class TextSummaryDataset(Dataset):\n",
    "    def __init__(self, x, y):\n",
    "        self.x = torch.tensor(x, dtype=torch.long)\n",
    "        self.y = torch.tensor(y, dtype=torch.long)\n",
    "    \n",
    "    def __len__(self):\n",
    "        return len(self.x)\n",
    "    \n",
    "    def __getitem__(self, index):\n",
    "        return self.x[index], self.y[index]\n",
    "\n",
    "train_dataset = TextSummaryDataset(x_train_seq, y_train_seq)\n",
    "val_dataset = TextSummaryDataset(x_val_seq, y_val_seq)\n",
    "test_dataset = TextSummaryDataset(x_test_seq, y_test_seq)\n",
    "\n",
    "train_loader = DataLoader(train_dataset, batch_size=BATCH_SIZE, shuffle=True)\n",
    "val_loader = DataLoader(val_dataset, batch_size=BATCH_SIZE)\n",
    "test_loader = DataLoader(test_dataset, batch_size=BATCH_SIZE)"
   ]
  },
  {
   "cell_type": "code",
   "execution_count": 39,
   "id": "24fa1f94",
   "metadata": {
    "execution": {
     "iopub.execute_input": "2025-03-30T17:57:41.989538Z",
     "iopub.status.busy": "2025-03-30T17:57:41.989254Z",
     "iopub.status.idle": "2025-03-30T17:57:41.997948Z",
     "shell.execute_reply": "2025-03-30T17:57:41.997242Z"
    },
    "papermill": {
     "duration": 0.151815,
     "end_time": "2025-03-30T17:57:41.999082",
     "exception": false,
     "start_time": "2025-03-30T17:57:41.847267",
     "status": "completed"
    },
    "tags": []
   },
   "outputs": [],
   "source": [
    "class Encoder(nn.Module):\n",
    "    def __init__(self, input_dim, emb_dim, hid_dim):\n",
    "        super().__init__()\n",
    "        self.embedding = nn.Embedding(input_dim, emb_dim)\n",
    "        self.lstm = nn.LSTM(emb_dim, hid_dim, batch_first=True, bidirectional=True)\n",
    "\n",
    "    def forward(self, src):\n",
    "        embedded = self.embedding(src)\n",
    "        outputs, (hidden, cell) = self.lstm(embedded)\n",
    "        return outputs, hidden, cell\n",
    "\n",
    "class BahdanauAttention(nn.Module):\n",
    "    def __init__(self, enc_hid_dim, dec_hid_dim):\n",
    "        super().__init__()\n",
    "        # self.attn = nn.Linear(enc_hid_dim*2 + dec_hid_dim, dec_hid_dim) # old - bad performance \n",
    "        self.attn = nn.Linear(enc_hid_dim*2 + dec_hid_dim + 1, dec_hid_dim)  # +1 for coverage\n",
    "        self.v = nn.Linear(dec_hid_dim, 1, bias=False)\n",
    "\n",
    "    def forward(self, decoder_hidden, encoder_outputs, coverage):\n",
    "        decoder_hidden = decoder_hidden[-1].unsqueeze(1).repeat(1, encoder_outputs.shape[1], 1)\n",
    "        # old - bad performance \n",
    "        # energy = torch.tanh(self.attn(torch.cat((decoder_hidden, encoder_outputs), dim=2)))\n",
    "        # new - add coverage \n",
    "        coverage = coverage.unsqueeze(2)  # [B, src_len, 1]\n",
    "        energy = torch.tanh(self.attn(torch.cat((decoder_hidden, encoder_outputs, coverage), dim=2)))\n",
    "        attention = self.v(energy).squeeze(2)\n",
    "        return F.softmax(attention, dim=1)\n",
    "\n",
    "class Decoder(nn.Module):\n",
    "    def __init__(self, output_dim, emb_dim, enc_hid_dim, dec_hid_dim, attention):\n",
    "        super().__init__()\n",
    "        self.embedding = nn.Embedding(output_dim, emb_dim)\n",
    "        self.attention = attention\n",
    "        self.lstm = nn.LSTM(enc_hid_dim*2 + emb_dim, dec_hid_dim, batch_first=True)\n",
    "        self.fc = nn.Linear(enc_hid_dim*2 + dec_hid_dim + emb_dim, output_dim)\n",
    "\n",
    "    def forward(self, input, hidden, encoder_outputs, coverage):\n",
    "        input = input.unsqueeze(1)\n",
    "        embedded = self.embedding(input)\n",
    "        # a = self.attention(hidden, encoder_outputs).unsqueeze(1)\n",
    "        a = self.attention(hidden, encoder_outputs, coverage).unsqueeze(1)\n",
    "        weighted = torch.bmm(a, encoder_outputs)\n",
    "        rnn_input = torch.cat((embedded, weighted), dim=2)\n",
    "        output, (hidden, _) = self.lstm(rnn_input)\n",
    "        pred = self.fc(torch.cat((output.squeeze(1), weighted.squeeze(1), embedded.squeeze(1)), dim=1))\n",
    "        # add coverage \n",
    "        coverage = coverage + a.squeeze(1)  # update coverage\n",
    "        # return pred, hidden, a.squeeze(1) # old \n",
    "        return pred, hidden, a.squeeze(1), coverage # add coverage \n"
   ]
  },
  {
   "cell_type": "code",
   "execution_count": 40,
   "id": "6e1b054a",
   "metadata": {
    "execution": {
     "iopub.execute_input": "2025-03-30T17:57:42.316157Z",
     "iopub.status.busy": "2025-03-30T17:57:42.315850Z",
     "iopub.status.idle": "2025-03-30T17:57:42.335363Z",
     "shell.execute_reply": "2025-03-30T17:57:42.334706Z"
    },
    "papermill": {
     "duration": 0.159418,
     "end_time": "2025-03-30T17:57:42.336567",
     "exception": false,
     "start_time": "2025-03-30T17:57:42.177149",
     "status": "completed"
    },
    "tags": []
   },
   "outputs": [],
   "source": [
    "# Evaluation Metrics\n",
    "rouge = Rouge()\n",
    "\n",
    "def evaluate_metrics(preds, refs):\n",
    "    bleu_score = np.mean([sentence_bleu([ref.split()], pred.split()) for pred, ref in zip(preds, refs)])\n",
    "    rouge_scores = rouge.get_scores(preds, refs, avg=True)\n",
    "    return bleu_score, rouge_scores\n",
    "\n",
    "# Updated training function with optimizer, scheduler, and model saving\n",
    "def train_model(encoder, decoder, train_loader, val_loader, optimizer, criterion, num_epochs=5, save_path=\"seq2seq_model.pth\", coverage_loss_weight=1.0):\n",
    "    encoder.to(DEVICE)\n",
    "    decoder.to(DEVICE)\n",
    "    scheduler = StepLR(optimizer, step_size=2, gamma=0.5)\n",
    "\n",
    "    best_val_loss = float('inf')\n",
    "    history = {'train_loss': [], 'val_loss': []}\n",
    "\n",
    "    for epoch in range(num_epochs):\n",
    "        encoder.train()\n",
    "        decoder.train()\n",
    "        total_train_loss = 0\n",
    "\n",
    "        for i, (src, trg) in enumerate(train_loader):\n",
    "            src, trg = src.to(DEVICE), trg.to(DEVICE)\n",
    "            optimizer.zero_grad()\n",
    "\n",
    "            enc_outputs, hidden, cell = encoder(src)\n",
    "            input_tok = trg[:, 0]\n",
    "            coverage = torch.zeros(src.size(0), enc_outputs.size(1)).to(DEVICE) # add\n",
    "            \n",
    "            loss = 0\n",
    "\n",
    "            for t in range(1, trg.shape[1]):\n",
    "                # output, hidden, _ = decoder(input_tok, hidden, enc_outputs) # old \n",
    "                \n",
    "                # output, hidden, _, coverage = decoder(input_tok, hidden, enc_outputs, coverage)\n",
    "                # loss += criterion(output, trg[:, t])\n",
    "\n",
    "                output, hidden, attn, coverage = decoder(input_tok, hidden, enc_outputs, coverage)\n",
    "\n",
    "                # Compute step-level coverage loss\n",
    "                step_coverage_loss = torch.min(attn, coverage).sum(dim=1).mean()\n",
    "                \n",
    "                # Total loss = prediction loss + coverage loss\n",
    "                loss += criterion(output, trg[:, t]) + coverage_loss_weight * step_coverage_loss\n",
    "                \n",
    "                input_tok = trg[:, t]\n",
    "\n",
    "            loss.backward()\n",
    "            optimizer.step()\n",
    "            total_train_loss += loss.item() / trg.shape[1]\n",
    "\n",
    "            if i % 100 == 0:\n",
    "                print(f\"Epoch {epoch+1}, Step {i}, Train Loss: {loss.item()/trg.shape[1]:.4f}\")\n",
    "\n",
    "        avg_train_loss = total_train_loss / len(train_loader)\n",
    "        history['train_loss'].append(avg_train_loss)\n",
    "\n",
    "        # Validation loop\n",
    "        encoder.eval()\n",
    "        decoder.eval()\n",
    "        total_val_loss = 0\n",
    "\n",
    "        with torch.no_grad():\n",
    "            for src, trg in val_loader:\n",
    "                src, trg = src.to(DEVICE), trg.to(DEVICE)\n",
    "                enc_outputs, hidden, cell = encoder(src)\n",
    "                input_tok = trg[:, 0]\n",
    "                coverage = torch.zeros(src.size(0), enc_outputs.size(1)).to(DEVICE) # add \n",
    "                loss = 0\n",
    "\n",
    "                for t in range(1, trg.shape[1]):\n",
    "                    # output, hidden, _ = decoder(input_tok, hidden, enc_outputs) # old \n",
    "                    output, hidden, _, coverage = decoder(input_tok, hidden, enc_outputs, coverage) # new \n",
    "                    loss += criterion(output, trg[:, t])\n",
    "                    input_tok = trg[:, t]\n",
    "\n",
    "                total_val_loss += loss.item() / trg.shape[1]\n",
    "\n",
    "        avg_val_loss = total_val_loss / len(val_loader)\n",
    "        history['val_loss'].append(avg_val_loss)\n",
    "\n",
    "        print(f\"📘 Epoch {epoch+1} — Train Loss: {avg_train_loss:.4f} | Val Loss: {avg_val_loss:.4f}\")\n",
    "\n",
    "        scheduler.step()\n",
    "\n",
    "        # Save best model\n",
    "        if avg_val_loss < best_val_loss:\n",
    "            best_val_loss = avg_val_loss\n",
    "            torch.save({\n",
    "                'encoder_state_dict': encoder.state_dict(),\n",
    "                'decoder_state_dict': decoder.state_dict(),\n",
    "                'optimizer_state_dict': optimizer.state_dict(),\n",
    "            }, save_path)\n",
    "            print(f\"✅ Model saved at epoch {epoch+1} with val loss {best_val_loss:.4f}\")\n",
    "\n",
    "    print(\"🏁 Training completed.\")\n",
    "    return encoder, decoder, history\n",
    "\n",
    "# Evaluation on test set\n",
    "def evaluate_model(encoder, decoder, test_loader, output_tokenizer):\n",
    "    encoder.eval()\n",
    "    decoder.eval()\n",
    "\n",
    "    all_preds = []\n",
    "    all_refs = []\n",
    "\n",
    "    with torch.no_grad():\n",
    "        for src, trg in test_loader:\n",
    "            src, trg = src.to(DEVICE), trg.to(DEVICE)\n",
    "\n",
    "            enc_outputs, hidden, cell = encoder(src)\n",
    "            input_tok = trg[:, 0]\n",
    "            preds = []\n",
    "\n",
    "            # add \n",
    "            coverage = torch.zeros(src.size(0), enc_outputs.size(1)).to(DEVICE)\n",
    "\n",
    "            for t in range(1, trg.shape[1]):\n",
    "                # output, hidden, _ = decoder(input_tok, hidden, enc_outputs) # old \n",
    "                output, hidden, _, coverage = decoder(input_tok, hidden, enc_outputs, coverage)\n",
    "                input_tok = output.argmax(1)\n",
    "                preds.append(input_tok.unsqueeze(1))\n",
    "\n",
    "            preds = torch.cat(preds, dim=1)\n",
    "            pred_texts = [\" \".join([output_tokenizer.index_word.get(idx.item(), \"\") for idx in seq]) for seq in preds]\n",
    "            ref_texts = [\" \".join([output_tokenizer.index_word.get(idx.item(), \"\") for idx in seq]) for seq in trg]\n",
    "\n",
    "            all_preds.extend(pred_texts)\n",
    "            all_refs.extend(ref_texts)\n",
    "\n",
    "    # bleu_score, rouge_scores = evaluate_metrics(all_preds, all_refs)\n",
    "    # print(f\"🧪 BLEU Score: {bleu_score:.4f}\")\n",
    "    # print(\"📊 ROUGE Scores:\", rouge_scores)\n",
    "    # return bleu_score, rouge_scores\n",
    "\n",
    "    # Compute metrics\n",
    "    bleu_score, rouge_scores = evaluate_metrics(all_preds, all_refs)\n",
    "\n",
    "    print(f\"\\n🧪 BLEU Score: {bleu_score:.4f}\")\n",
    "\n",
    "    print(\"📊 ROUGE Scores:\")\n",
    "    print(f\" - ROUGE-1: Precision={rouge_scores['rouge-1']['p']:.4f}, Recall={rouge_scores['rouge-1']['r']:.4f}, F1={rouge_scores['rouge-1']['f']:.4f}\")\n",
    "    print(f\" - ROUGE-2: Precision={rouge_scores['rouge-2']['p']:.4f}, Recall={rouge_scores['rouge-2']['r']:.4f}, F1={rouge_scores['rouge-2']['f']:.4f}\")\n",
    "    print(f\" - ROUGE-L: Precision={rouge_scores['rouge-l']['p']:.4f}, Recall={rouge_scores['rouge-l']['r']:.4f}, F1={rouge_scores['rouge-l']['f']:.4f}\")\n",
    "\n",
    "    return bleu_score, rouge_scores\n",
    "\n",
    "# Real-world inference\n",
    "def summarize_text(input_text, encoder, decoder, input_tokenizer, output_tokenizer, max_len=MAX_LEN, plot_flag=False):\n",
    "    encoder.eval()\n",
    "    decoder.eval()\n",
    "\n",
    "    # ✅ Get special token IDs from output tokenizer\n",
    "    start_token_id = output_tokenizer.word_index.get(\"_start_\")\n",
    "    end_token_id = output_tokenizer.word_index.get(\"_end_\")\n",
    "\n",
    "    if start_token_id is None or end_token_id is None:\n",
    "        raise ValueError(\"Make sure '_START_' and '_END_' tokens are included in your summary_clean before fitting the tokenizer.\")\n",
    "\n",
    "    # ✅ Tokenize input text using input tokenizer\n",
    "    input_ids = input_tokenizer.texts_to_sequences([input_text])[0]\n",
    "\n",
    "    # Optionally wrap with _START_ and _END_ if input tokenizer was trained that way (not required)\n",
    "    # input_ids = [input_tokenizer.word_index.get(\"_START_\", MAX_VOCAB_SIZE)] + input_ids + [input_tokenizer.word_index.get(\"_END_\", MAX_VOCAB_SIZE)]\n",
    "\n",
    "    input_tensor = torch.tensor(\n",
    "        pad_sequences([input_ids], maxlen=max_len, padding='post'),\n",
    "        dtype=torch.long\n",
    "    ).to(DEVICE)\n",
    "\n",
    "    input_tok = torch.tensor([start_token_id]).to(DEVICE)\n",
    "    generated_ids = []\n",
    "    attention_weights = []\n",
    "\n",
    "    with torch.no_grad():\n",
    "        enc_outputs, hidden, cell = encoder(input_tensor)\n",
    "        coverage = torch.zeros(1, enc_outputs.size(1)).to(DEVICE) # add \n",
    "\n",
    "        for _ in range(max_len):\n",
    "            # output, hidden, attn = decoder(input_tok, hidden, enc_outputs)  # make sure decoder returns attn # old \n",
    "            output, hidden, attn, coverage = decoder(input_tok, hidden, enc_outputs, coverage)\n",
    "            next_token = output.argmax(1).item()\n",
    "\n",
    "            if next_token == end_token_id:\n",
    "                break\n",
    "\n",
    "            generated_ids.append(next_token)\n",
    "            attention_weights.append(attn.squeeze(0).cpu().numpy())  # shape: [src_len]\n",
    "            input_tok = torch.tensor([next_token]).to(DEVICE)\n",
    "\n",
    "    summary_words = [output_tokenizer.index_word.get(idx, \"\") for idx in generated_ids]\n",
    "    input_words = [input_tokenizer.index_word.get(idx, \"\") for idx in input_ids][:max_len]\n",
    "\n",
    "    # ✅ Visualize attention\n",
    "    if attention_weights and plot_flag:\n",
    "        attn_matrix = np.stack(attention_weights)\n",
    "        plt.figure(figsize=(10, 6))\n",
    "        sns.heatmap(attn_matrix, xticklabels=input_words, yticklabels=summary_words, cmap='viridis')\n",
    "        plt.xlabel(\"Input Tokens\")\n",
    "        plt.ylabel(\"Generated Summary Tokens\")\n",
    "        plt.title(\"Attention Heatmap\")\n",
    "        plt.xticks(rotation=45)\n",
    "        plt.tight_layout()\n",
    "        plt.show()\n",
    "\n",
    "    return \" \".join(summary_words).strip()\n",
    "\n"
   ]
  },
  {
   "cell_type": "code",
   "execution_count": 41,
   "id": "1d243ae0",
   "metadata": {
    "execution": {
     "iopub.execute_input": "2025-03-30T17:57:42.614317Z",
     "iopub.status.busy": "2025-03-30T17:57:42.614044Z",
     "iopub.status.idle": "2025-03-30T17:57:42.618574Z",
     "shell.execute_reply": "2025-03-30T17:57:42.617934Z"
    },
    "papermill": {
     "duration": 0.144271,
     "end_time": "2025-03-30T17:57:42.619881",
     "exception": false,
     "start_time": "2025-03-30T17:57:42.475610",
     "status": "completed"
    },
    "tags": []
   },
   "outputs": [
    {
     "data": {
      "text/plain": [
       "True"
      ]
     },
     "execution_count": 41,
     "metadata": {},
     "output_type": "execute_result"
    }
   ],
   "source": [
    "'_end_' in output_tokenizer.word_index"
   ]
  },
  {
   "cell_type": "code",
   "execution_count": 42,
   "id": "9c7ffc35",
   "metadata": {
    "execution": {
     "iopub.execute_input": "2025-03-30T17:57:42.900638Z",
     "iopub.status.busy": "2025-03-30T17:57:42.900333Z",
     "iopub.status.idle": "2025-03-30T17:57:42.918091Z",
     "shell.execute_reply": "2025-03-30T17:57:42.917370Z"
    },
    "papermill": {
     "duration": 0.160937,
     "end_time": "2025-03-30T17:57:42.919223",
     "exception": false,
     "start_time": "2025-03-30T17:57:42.758286",
     "status": "completed"
    },
    "tags": []
   },
   "outputs": [],
   "source": [
    "def beam_search_decode(\n",
    "    encoder,\n",
    "    decoder,\n",
    "    src,\n",
    "    output_tokenizer,\n",
    "    beam_width=3,\n",
    "    max_len=50,\n",
    "    repetition_penalty=1.0,\n",
    "    normalize_by_length=True,\n",
    "    block_ngram_repeat=True,\n",
    "    ngram_size=3\n",
    "):\n",
    "    encoder.eval()\n",
    "    decoder.eval()\n",
    "    src = src.to(DEVICE)\n",
    "\n",
    "    with torch.no_grad():\n",
    "        enc_outputs, hidden, cell = encoder(src)\n",
    "        coverage = torch.zeros(1, enc_outputs.size(1)).to(DEVICE)\n",
    "\n",
    "        start_token = output_tokenizer.word_index[\"_start_\"]\n",
    "        end_token = output_tokenizer.word_index[\"_end_\"]\n",
    "\n",
    "        beams = [([start_token], 0.0, hidden, coverage)]\n",
    "\n",
    "        for _ in range(max_len):\n",
    "            new_beams = []\n",
    "\n",
    "            for tokens, score, hidden, coverage in beams:\n",
    "                input_tok = torch.tensor([tokens[-1]]).to(DEVICE)\n",
    "                output, hidden, attn_weights, coverage = decoder(input_tok, hidden, enc_outputs, coverage)\n",
    "\n",
    "                probs = F.log_softmax(output, dim=1).squeeze(0)\n",
    "\n",
    "                # Apply repetition penalty\n",
    "                for i, token in enumerate(tokens):\n",
    "                    probs[token] -= repetition_penalty\n",
    "\n",
    "                # Get top-k tokens\n",
    "                topk_probs, topk_idx = probs.topk(beam_width)\n",
    "\n",
    "                for i in range(beam_width):\n",
    "                    next_token = topk_idx[i].item()\n",
    "                    next_score = score + topk_probs[i].item()\n",
    "                    next_tokens = tokens + [next_token]\n",
    "\n",
    "                    # Optional: block repeated n-grams\n",
    "                    if block_ngram_repeat and has_repeat_ngram(next_tokens, n=ngram_size):\n",
    "                        continue\n",
    "\n",
    "                    new_beams.append((next_tokens, next_score, hidden, coverage))\n",
    "\n",
    "            # Keep top-k based on normalized or raw score\n",
    "            if normalize_by_length:\n",
    "                beams = sorted(new_beams, key=lambda x: x[1] / len(x[0]), reverse=True)[:beam_width]\n",
    "            else:\n",
    "                beams = sorted(new_beams, key=lambda x: x[1], reverse=True)[:beam_width]\n",
    "\n",
    "            # Early stop if all beams ended\n",
    "            if all(tokens[-1] == end_token for tokens, _, _, _ in beams):\n",
    "                break\n",
    "\n",
    "        # Final best sequence\n",
    "        best_tokens = beams[0][0]\n",
    "        decoded = [\n",
    "            output_tokenizer.index_word.get(idx, \"\")\n",
    "            for idx in best_tokens[1:]\n",
    "            if idx != end_token\n",
    "        ]\n",
    "        return \" \".join(decoded)\n",
    "\n",
    "# Helper to block repeated n-grams\n",
    "def has_repeat_ngram(tokens, n=3):\n",
    "    ngrams = set()\n",
    "    for i in range(len(tokens) - n + 1):\n",
    "        ngram = tuple(tokens[i:i+n])\n",
    "        if ngram in ngrams:\n",
    "            return True\n",
    "        ngrams.add(ngram)\n",
    "    return False\n",
    "\n",
    "def evaluate_model_with_beam_search(encoder, decoder, test_loader, output_tokenizer, beam_width=3):\n",
    "    all_preds = []\n",
    "    all_refs = []\n",
    "\n",
    "    for src, trg in test_loader:\n",
    "        src = src.to(DEVICE)\n",
    "        for i in range(src.size(0)):\n",
    "            pred_text = beam_search_decode(encoder, decoder, src[i:i+1], output_tokenizer, beam_width)\n",
    "            ref_text = \" \".join([output_tokenizer.index_word.get(idx.item(), \"\") for idx in trg[i] if idx.item() != pad_token_id])\n",
    "            all_preds.append(pred_text)\n",
    "            all_refs.append(ref_text)\n",
    "\n",
    "    bleu_score, rouge_scores = evaluate_metrics(all_preds, all_refs)\n",
    "\n",
    "    print(f\"\\n🧪 BLEU Score: {bleu_score:.4f}\")\n",
    "    print(\"📊 ROUGE Scores:\")\n",
    "    print(f\" - ROUGE-1: Precision={rouge_scores['rouge-1']['p']:.4f}, Recall={rouge_scores['rouge-1']['r']:.4f}, F1={rouge_scores['rouge-1']['f']:.4f}\")\n",
    "    print(f\" - ROUGE-2: Precision={rouge_scores['rouge-2']['p']:.4f}, Recall={rouge_scores['rouge-2']['r']:.4f}, F1={rouge_scores['rouge-2']['f']:.4f}\")\n",
    "    print(f\" - ROUGE-L: Precision={rouge_scores['rouge-l']['p']:.4f}, Recall={rouge_scores['rouge-l']['r']:.4f}, F1={rouge_scores['rouge-l']['f']:.4f}\")\n",
    "    \n",
    "    return bleu_score, rouge_scores\n",
    "\n",
    "def summarize_text_beam_search(\n",
    "    input_text,\n",
    "    encoder,\n",
    "    decoder,\n",
    "    input_tokenizer,\n",
    "    output_tokenizer,\n",
    "    max_len=50,\n",
    "    beam_width=5,\n",
    "    repetition_penalty=1.2,\n",
    "    ngram_block=3\n",
    "):\n",
    "    encoder.eval()\n",
    "    decoder.eval()\n",
    "\n",
    "    # Token IDs\n",
    "    start_token_id = output_tokenizer.word_index.get(\"_start_\")\n",
    "    end_token_id = output_tokenizer.word_index.get(\"_end_\")\n",
    "    if start_token_id is None or end_token_id is None:\n",
    "        raise ValueError(\"Tokenizer must include _start_ and _end_ tokens.\")\n",
    "\n",
    "    # Tokenize input\n",
    "    input_ids = input_tokenizer.texts_to_sequences([input_text])[0]\n",
    "    input_tensor = torch.tensor(\n",
    "        pad_sequences([input_ids], maxlen=max_len, padding='post'),\n",
    "        dtype=torch.long\n",
    "    ).to(DEVICE)\n",
    "\n",
    "    with torch.no_grad():\n",
    "        enc_outputs, hidden, cell = encoder(input_tensor)\n",
    "        coverage = torch.zeros(1, enc_outputs.size(1)).to(DEVICE)\n",
    "\n",
    "        beams = [([start_token_id], 0.0, hidden, coverage)]\n",
    "\n",
    "        for _ in range(max_len):\n",
    "            new_beams = []\n",
    "\n",
    "            for tokens, score, hidden, coverage in beams:\n",
    "                if tokens[-1] == end_token_id:\n",
    "                    new_beams.append((tokens, score, hidden, coverage))\n",
    "                    continue\n",
    "\n",
    "                input_tok = torch.tensor([tokens[-1]]).to(DEVICE)\n",
    "                output, hidden_new, attn, coverage_new = decoder(\n",
    "                    input_tok, hidden, enc_outputs, coverage\n",
    "                )\n",
    "\n",
    "                probs = F.log_softmax(output, dim=1)\n",
    "                topk_probs, topk_ids = probs.topk(beam_width)\n",
    "\n",
    "                # print(\"Top-5 tokens:\", [output_tokenizer.index_word.get(idx.item(), \"\") for idx in topk_ids[0]])\n",
    "\n",
    "                for i in range(beam_width):\n",
    "                    next_token = topk_ids[0][i].item()\n",
    "                    next_score = topk_probs[0][i].item()\n",
    "\n",
    "                    # Apply repetition penalty\n",
    "                    if next_token in tokens:\n",
    "                        next_score -= repetition_penalty\n",
    "\n",
    "                    # N-gram blocking\n",
    "                    if has_repeat_ngram(tokens + [next_token]):\n",
    "                        continue\n",
    "\n",
    "                    new_tokens = tokens + [next_token]\n",
    "                    normalized_score = (score + next_score) / len(new_tokens)\n",
    "\n",
    "                    new_beams.append(\n",
    "                        (new_tokens, normalized_score, hidden_new.clone(), coverage_new.clone())\n",
    "                    )\n",
    "\n",
    "            # beams = sorted(new_beams, key=lambda x: x[1], reverse=True)[:beam_width]\n",
    "            if new_beams:\n",
    "                beams = sorted(new_beams, key=lambda x: x[1], reverse=True)[:beam_width]\n",
    "            else:\n",
    "                break\n",
    "\n",
    "            if all(tokens[-1] == end_token_id for tokens, _, _, _ in beams):\n",
    "                break\n",
    "\n",
    "        best_tokens = beams[0][0]\n",
    "        summary_words = [\n",
    "            output_tokenizer.index_word.get(idx, \"\") \n",
    "            for idx in best_tokens[1:] \n",
    "            if idx != end_token_id\n",
    "        ]\n",
    "        return \" \".join(summary_words).strip()\n",
    "\n"
   ]
  },
  {
   "cell_type": "code",
   "execution_count": 43,
   "id": "a8cf48f8",
   "metadata": {
    "execution": {
     "iopub.execute_input": "2025-03-30T17:57:43.198452Z",
     "iopub.status.busy": "2025-03-30T17:57:43.198165Z",
     "iopub.status.idle": "2025-03-30T17:57:43.423418Z",
     "shell.execute_reply": "2025-03-30T17:57:43.422672Z"
    },
    "papermill": {
     "duration": 0.366114,
     "end_time": "2025-03-30T17:57:43.424899",
     "exception": false,
     "start_time": "2025-03-30T17:57:43.058785",
     "status": "completed"
    },
    "tags": []
   },
   "outputs": [],
   "source": [
    "attention = BahdanauAttention(enc_hid_dim=HIDDEN_DIM, dec_hid_dim=HIDDEN_DIM)\n",
    "encoder = Encoder(input_dim=input_vocab_size, emb_dim=EMBEDDING_DIM, hid_dim=HIDDEN_DIM)\n",
    "decoder = Decoder(output_dim=output_vocab_size, emb_dim=EMBEDDING_DIM, enc_hid_dim=HIDDEN_DIM, dec_hid_dim=HIDDEN_DIM, attention=attention)\n"
   ]
  },
  {
   "cell_type": "code",
   "execution_count": 44,
   "id": "89e77d6b",
   "metadata": {
    "execution": {
     "iopub.execute_input": "2025-03-30T17:57:43.744931Z",
     "iopub.status.busy": "2025-03-30T17:57:43.744582Z",
     "iopub.status.idle": "2025-03-30T17:57:47.261428Z",
     "shell.execute_reply": "2025-03-30T17:57:47.260698Z"
    },
    "papermill": {
     "duration": 3.696871,
     "end_time": "2025-03-30T17:57:47.263057",
     "exception": false,
     "start_time": "2025-03-30T17:57:43.566186",
     "status": "completed"
    },
    "tags": []
   },
   "outputs": [],
   "source": [
    "# optimizer = torch.optim.Adam(\n",
    "#     list(encoder.parameters()) + list(decoder.parameters()),\n",
    "#     lr=1e-3,\n",
    "#     weight_decay=1e-5\n",
    "# )\n",
    "\n",
    "optimizer = torch.optim.Adam(\n",
    "    params=list(encoder.parameters()) + list(decoder.parameters())\n",
    ")\n",
    "\n",
    "# criterion = nn.CrossEntropyLoss(ignore_index=pad_token_id) # bad performance \n",
    "criterion = nn.CrossEntropyLoss(ignore_index=pad_token_id, label_smoothing=0.184)\n"
   ]
  },
  {
   "cell_type": "code",
   "execution_count": 45,
   "id": "0fd360d5",
   "metadata": {
    "execution": {
     "iopub.execute_input": "2025-03-30T17:57:47.542644Z",
     "iopub.status.busy": "2025-03-30T17:57:47.541987Z",
     "iopub.status.idle": "2025-03-30T22:18:22.920062Z",
     "shell.execute_reply": "2025-03-30T22:18:22.919074Z"
    },
    "papermill": {
     "duration": 15635.518123,
     "end_time": "2025-03-30T22:18:22.921505",
     "exception": false,
     "start_time": "2025-03-30T17:57:47.403382",
     "status": "completed"
    },
    "tags": []
   },
   "outputs": [
    {
     "name": "stdout",
     "output_type": "stream",
     "text": [
      "Epoch 1, Step 0, Train Loss: 11.1491\n",
      "Epoch 1, Step 100, Train Loss: 6.6810\n",
      "Epoch 1, Step 200, Train Loss: 6.6488\n",
      "Epoch 1, Step 300, Train Loss: 6.9375\n",
      "Epoch 1, Step 400, Train Loss: 6.5769\n",
      "Epoch 1, Step 500, Train Loss: 6.6307\n",
      "Epoch 1, Step 600, Train Loss: 6.5426\n",
      "Epoch 1, Step 700, Train Loss: 6.5942\n",
      "Epoch 1, Step 800, Train Loss: 6.4523\n",
      "Epoch 1, Step 900, Train Loss: 6.5640\n",
      "Epoch 1, Step 1000, Train Loss: 6.3978\n",
      "Epoch 1, Step 1100, Train Loss: 6.4308\n",
      "Epoch 1, Step 1200, Train Loss: 6.6673\n",
      "Epoch 1, Step 1300, Train Loss: 6.3942\n",
      "Epoch 1, Step 1400, Train Loss: 6.6197\n",
      "Epoch 1, Step 1500, Train Loss: 6.4132\n",
      "Epoch 1, Step 1600, Train Loss: 6.2542\n",
      "Epoch 1, Step 1700, Train Loss: 6.3547\n",
      "Epoch 1, Step 1800, Train Loss: 6.2719\n",
      "Epoch 1, Step 1900, Train Loss: 6.3904\n",
      "Epoch 1, Step 2000, Train Loss: 6.1915\n",
      "Epoch 1, Step 2100, Train Loss: 6.2141\n",
      "Epoch 1, Step 2200, Train Loss: 6.4067\n",
      "Epoch 1, Step 2300, Train Loss: 6.2806\n",
      "Epoch 1, Step 2400, Train Loss: 6.2326\n",
      "Epoch 1, Step 2500, Train Loss: 6.1545\n",
      "Epoch 1, Step 2600, Train Loss: 6.1099\n",
      "Epoch 1, Step 2700, Train Loss: 6.2621\n",
      "Epoch 1, Step 2800, Train Loss: 6.3246\n",
      "Epoch 1, Step 2900, Train Loss: 6.1573\n",
      "Epoch 1, Step 3000, Train Loss: 6.2874\n",
      "Epoch 1, Step 3100, Train Loss: 6.2695\n",
      "Epoch 1, Step 3200, Train Loss: 6.2113\n",
      "Epoch 1, Step 3300, Train Loss: 6.0994\n",
      "Epoch 1, Step 3400, Train Loss: 6.1766\n",
      "Epoch 1, Step 3500, Train Loss: 6.4036\n",
      "Epoch 1, Step 3600, Train Loss: 6.1016\n",
      "📘 Epoch 1 — Train Loss: 6.4104 | Val Loss: 5.3540\n",
      "✅ Model saved at epoch 1 with val loss 5.3540\n",
      "Epoch 2, Step 0, Train Loss: 5.9879\n",
      "Epoch 2, Step 100, Train Loss: 6.0736\n",
      "Epoch 2, Step 200, Train Loss: 6.1846\n",
      "Epoch 2, Step 300, Train Loss: 6.0488\n",
      "Epoch 2, Step 400, Train Loss: 6.3084\n",
      "Epoch 2, Step 500, Train Loss: 6.1762\n",
      "Epoch 2, Step 600, Train Loss: 5.9922\n",
      "Epoch 2, Step 700, Train Loss: 6.3392\n",
      "Epoch 2, Step 800, Train Loss: 6.2827\n",
      "Epoch 2, Step 900, Train Loss: 6.2708\n",
      "Epoch 2, Step 1000, Train Loss: 6.0566\n",
      "Epoch 2, Step 1100, Train Loss: 6.2255\n",
      "Epoch 2, Step 1200, Train Loss: 6.2376\n",
      "Epoch 2, Step 1300, Train Loss: 6.0555\n",
      "Epoch 2, Step 1400, Train Loss: 6.2513\n",
      "Epoch 2, Step 1500, Train Loss: 6.2682\n",
      "Epoch 2, Step 1600, Train Loss: 6.1130\n",
      "Epoch 2, Step 1700, Train Loss: 6.1973\n",
      "Epoch 2, Step 1800, Train Loss: 5.9649\n",
      "Epoch 2, Step 1900, Train Loss: 6.1718\n",
      "Epoch 2, Step 2000, Train Loss: 6.1010\n",
      "Epoch 2, Step 2100, Train Loss: 5.9896\n",
      "Epoch 2, Step 2200, Train Loss: 6.0434\n",
      "Epoch 2, Step 2300, Train Loss: 6.2213\n",
      "Epoch 2, Step 2400, Train Loss: 6.1373\n",
      "Epoch 2, Step 2500, Train Loss: 5.8555\n",
      "Epoch 2, Step 2600, Train Loss: 6.0094\n",
      "Epoch 2, Step 2700, Train Loss: 5.9749\n",
      "Epoch 2, Step 2800, Train Loss: 5.9187\n",
      "Epoch 2, Step 2900, Train Loss: 5.9535\n",
      "Epoch 2, Step 3000, Train Loss: 6.1806\n",
      "Epoch 2, Step 3100, Train Loss: 6.0026\n",
      "Epoch 2, Step 3200, Train Loss: 6.0123\n",
      "Epoch 2, Step 3300, Train Loss: 6.0936\n",
      "Epoch 2, Step 3400, Train Loss: 6.2353\n",
      "Epoch 2, Step 3500, Train Loss: 6.0142\n",
      "Epoch 2, Step 3600, Train Loss: 6.0578\n",
      "📘 Epoch 2 — Train Loss: 6.0973 | Val Loss: 5.2472\n",
      "✅ Model saved at epoch 2 with val loss 5.2472\n",
      "Epoch 3, Step 0, Train Loss: 6.0188\n",
      "Epoch 3, Step 100, Train Loss: 5.9351\n",
      "Epoch 3, Step 200, Train Loss: 5.9443\n",
      "Epoch 3, Step 300, Train Loss: 5.8873\n",
      "Epoch 3, Step 400, Train Loss: 5.7414\n",
      "Epoch 3, Step 500, Train Loss: 5.9374\n",
      "Epoch 3, Step 600, Train Loss: 6.0465\n",
      "Epoch 3, Step 700, Train Loss: 6.1401\n",
      "Epoch 3, Step 800, Train Loss: 6.1004\n",
      "Epoch 3, Step 900, Train Loss: 6.0711\n",
      "Epoch 3, Step 1000, Train Loss: 6.0131\n",
      "Epoch 3, Step 1100, Train Loss: 5.9610\n",
      "Epoch 3, Step 1200, Train Loss: 6.0938\n",
      "Epoch 3, Step 1300, Train Loss: 5.9050\n",
      "Epoch 3, Step 1400, Train Loss: 5.9373\n",
      "Epoch 3, Step 1500, Train Loss: 6.1077\n",
      "Epoch 3, Step 1600, Train Loss: 5.8796\n",
      "Epoch 3, Step 1700, Train Loss: 5.9705\n",
      "Epoch 3, Step 1800, Train Loss: 6.0828\n",
      "Epoch 3, Step 1900, Train Loss: 5.8796\n",
      "Epoch 3, Step 2000, Train Loss: 6.0197\n",
      "Epoch 3, Step 2100, Train Loss: 6.1225\n",
      "Epoch 3, Step 2200, Train Loss: 5.8999\n",
      "Epoch 3, Step 2300, Train Loss: 6.0033\n",
      "Epoch 3, Step 2400, Train Loss: 5.8948\n",
      "Epoch 3, Step 2500, Train Loss: 5.9742\n",
      "Epoch 3, Step 2600, Train Loss: 5.9993\n",
      "Epoch 3, Step 2700, Train Loss: 6.0247\n",
      "Epoch 3, Step 2800, Train Loss: 5.9319\n",
      "Epoch 3, Step 2900, Train Loss: 5.9877\n",
      "Epoch 3, Step 3000, Train Loss: 5.7324\n",
      "Epoch 3, Step 3100, Train Loss: 5.9815\n",
      "Epoch 3, Step 3200, Train Loss: 6.0009\n",
      "Epoch 3, Step 3300, Train Loss: 5.9988\n",
      "Epoch 3, Step 3400, Train Loss: 5.9307\n",
      "Epoch 3, Step 3500, Train Loss: 5.9661\n",
      "Epoch 3, Step 3600, Train Loss: 6.1779\n",
      "📘 Epoch 3 — Train Loss: 5.9436 | Val Loss: 5.2075\n",
      "✅ Model saved at epoch 3 with val loss 5.2075\n",
      "Epoch 4, Step 0, Train Loss: 5.9376\n",
      "Epoch 4, Step 100, Train Loss: 5.9456\n",
      "Epoch 4, Step 200, Train Loss: 5.9763\n",
      "Epoch 4, Step 300, Train Loss: 5.9117\n",
      "Epoch 4, Step 400, Train Loss: 5.7185\n",
      "Epoch 4, Step 500, Train Loss: 5.8212\n",
      "Epoch 4, Step 600, Train Loss: 5.8812\n",
      "Epoch 4, Step 700, Train Loss: 5.8666\n",
      "Epoch 4, Step 800, Train Loss: 6.0032\n",
      "Epoch 4, Step 900, Train Loss: 5.8998\n",
      "Epoch 4, Step 1000, Train Loss: 5.8590\n",
      "Epoch 4, Step 1100, Train Loss: 5.7941\n",
      "Epoch 4, Step 1200, Train Loss: 5.7951\n",
      "Epoch 4, Step 1300, Train Loss: 5.9959\n",
      "Epoch 4, Step 1400, Train Loss: 5.8318\n",
      "Epoch 4, Step 1500, Train Loss: 5.9169\n",
      "Epoch 4, Step 1600, Train Loss: 5.8943\n",
      "Epoch 4, Step 1700, Train Loss: 5.8940\n",
      "Epoch 4, Step 1800, Train Loss: 5.9369\n",
      "Epoch 4, Step 1900, Train Loss: 5.9298\n",
      "Epoch 4, Step 2000, Train Loss: 5.9734\n",
      "Epoch 4, Step 2100, Train Loss: 5.8291\n",
      "Epoch 4, Step 2200, Train Loss: 5.8047\n",
      "Epoch 4, Step 2300, Train Loss: 5.8558\n",
      "Epoch 4, Step 2400, Train Loss: 5.8594\n",
      "Epoch 4, Step 2500, Train Loss: 5.8264\n",
      "Epoch 4, Step 2600, Train Loss: 6.0724\n",
      "Epoch 4, Step 2700, Train Loss: 5.8026\n",
      "Epoch 4, Step 2800, Train Loss: 5.7475\n",
      "Epoch 4, Step 2900, Train Loss: 6.0063\n",
      "Epoch 4, Step 3000, Train Loss: 5.8909\n",
      "Epoch 4, Step 3100, Train Loss: 6.0148\n",
      "Epoch 4, Step 3200, Train Loss: 5.9511\n",
      "Epoch 4, Step 3300, Train Loss: 5.7549\n",
      "Epoch 4, Step 3400, Train Loss: 5.8660\n",
      "Epoch 4, Step 3500, Train Loss: 5.9648\n",
      "Epoch 4, Step 3600, Train Loss: 5.8612\n",
      "📘 Epoch 4 — Train Loss: 5.8829 | Val Loss: 5.2000\n",
      "✅ Model saved at epoch 4 with val loss 5.2000\n",
      "Epoch 5, Step 0, Train Loss: 5.8164\n",
      "Epoch 5, Step 100, Train Loss: 5.7749\n",
      "Epoch 5, Step 200, Train Loss: 5.7989\n",
      "Epoch 5, Step 300, Train Loss: 5.8685\n",
      "Epoch 5, Step 400, Train Loss: 5.9273\n",
      "Epoch 5, Step 500, Train Loss: 5.6608\n",
      "Epoch 5, Step 600, Train Loss: 5.9196\n",
      "Epoch 5, Step 700, Train Loss: 5.9069\n",
      "Epoch 5, Step 800, Train Loss: 5.6288\n",
      "Epoch 5, Step 900, Train Loss: 5.8096\n",
      "Epoch 5, Step 1000, Train Loss: 5.7317\n",
      "Epoch 5, Step 1100, Train Loss: 5.8242\n",
      "Epoch 5, Step 1200, Train Loss: 5.7835\n",
      "Epoch 5, Step 1300, Train Loss: 5.7789\n",
      "Epoch 5, Step 1400, Train Loss: 5.7186\n",
      "Epoch 5, Step 1500, Train Loss: 5.6168\n",
      "Epoch 5, Step 1600, Train Loss: 5.9426\n",
      "Epoch 5, Step 1700, Train Loss: 5.6827\n",
      "Epoch 5, Step 1800, Train Loss: 5.9020\n",
      "Epoch 5, Step 1900, Train Loss: 5.7213\n",
      "Epoch 5, Step 2000, Train Loss: 5.8163\n",
      "Epoch 5, Step 2100, Train Loss: 5.6816\n",
      "Epoch 5, Step 2200, Train Loss: 5.7538\n",
      "Epoch 5, Step 2300, Train Loss: 5.8108\n",
      "Epoch 5, Step 2400, Train Loss: 5.8003\n",
      "Epoch 5, Step 2500, Train Loss: 5.7587\n",
      "Epoch 5, Step 2600, Train Loss: 5.8718\n",
      "Epoch 5, Step 2700, Train Loss: 5.7647\n",
      "Epoch 5, Step 2800, Train Loss: 5.7990\n",
      "Epoch 5, Step 2900, Train Loss: 5.9040\n",
      "Epoch 5, Step 3000, Train Loss: 5.8001\n",
      "Epoch 5, Step 3100, Train Loss: 5.8798\n",
      "Epoch 5, Step 3200, Train Loss: 5.8627\n",
      "Epoch 5, Step 3300, Train Loss: 5.8274\n",
      "Epoch 5, Step 3400, Train Loss: 5.8052\n",
      "Epoch 5, Step 3500, Train Loss: 5.7393\n",
      "Epoch 5, Step 3600, Train Loss: 5.9630\n",
      "📘 Epoch 5 — Train Loss: 5.8095 | Val Loss: 5.1947\n",
      "✅ Model saved at epoch 5 with val loss 5.1947\n",
      "Epoch 6, Step 0, Train Loss: 5.8189\n",
      "Epoch 6, Step 100, Train Loss: 5.8433\n",
      "Epoch 6, Step 200, Train Loss: 5.5731\n",
      "Epoch 6, Step 300, Train Loss: 5.7537\n",
      "Epoch 6, Step 400, Train Loss: 5.6879\n",
      "Epoch 6, Step 500, Train Loss: 5.7656\n",
      "Epoch 6, Step 600, Train Loss: 5.8943\n",
      "Epoch 6, Step 700, Train Loss: 5.8438\n",
      "Epoch 6, Step 800, Train Loss: 5.8611\n",
      "Epoch 6, Step 900, Train Loss: 5.8312\n",
      "Epoch 6, Step 1000, Train Loss: 5.8461\n",
      "Epoch 6, Step 1100, Train Loss: 5.7708\n",
      "Epoch 6, Step 1200, Train Loss: 5.7742\n",
      "Epoch 6, Step 1300, Train Loss: 5.8431\n",
      "Epoch 6, Step 1400, Train Loss: 6.0165\n",
      "Epoch 6, Step 1500, Train Loss: 5.7722\n",
      "Epoch 6, Step 1600, Train Loss: 5.9475\n",
      "Epoch 6, Step 1700, Train Loss: 5.7456\n",
      "Epoch 6, Step 1800, Train Loss: 5.8604\n",
      "Epoch 6, Step 1900, Train Loss: 5.7818\n",
      "Epoch 6, Step 2000, Train Loss: 5.7894\n",
      "Epoch 6, Step 2100, Train Loss: 5.7797\n",
      "Epoch 6, Step 2200, Train Loss: 5.9303\n",
      "Epoch 6, Step 2300, Train Loss: 5.7632\n",
      "Epoch 6, Step 2400, Train Loss: 5.8289\n",
      "Epoch 6, Step 2500, Train Loss: 5.7405\n",
      "Epoch 6, Step 2600, Train Loss: 5.8273\n",
      "Epoch 6, Step 2700, Train Loss: 5.7054\n",
      "Epoch 6, Step 2800, Train Loss: 5.8265\n",
      "Epoch 6, Step 2900, Train Loss: 5.8434\n",
      "Epoch 6, Step 3000, Train Loss: 5.7504\n",
      "Epoch 6, Step 3100, Train Loss: 5.5960\n",
      "Epoch 6, Step 3200, Train Loss: 5.7903\n",
      "Epoch 6, Step 3300, Train Loss: 5.8077\n",
      "Epoch 6, Step 3400, Train Loss: 5.9408\n",
      "Epoch 6, Step 3500, Train Loss: 5.7052\n",
      "Epoch 6, Step 3600, Train Loss: 5.8009\n",
      "📘 Epoch 6 — Train Loss: 5.7828 | Val Loss: 5.1980\n",
      "Epoch 7, Step 0, Train Loss: 5.7171\n",
      "Epoch 7, Step 100, Train Loss: 5.7034\n",
      "Epoch 7, Step 200, Train Loss: 5.8359\n",
      "Epoch 7, Step 300, Train Loss: 5.7202\n",
      "Epoch 7, Step 400, Train Loss: 5.7359\n",
      "Epoch 7, Step 500, Train Loss: 5.6528\n",
      "Epoch 7, Step 600, Train Loss: 5.7092\n",
      "Epoch 7, Step 700, Train Loss: 5.8132\n",
      "Epoch 7, Step 800, Train Loss: 5.7993\n",
      "Epoch 7, Step 900, Train Loss: 5.7414\n",
      "Epoch 7, Step 1000, Train Loss: 5.6432\n",
      "Epoch 7, Step 1100, Train Loss: 5.7169\n",
      "Epoch 7, Step 1200, Train Loss: 5.8336\n",
      "Epoch 7, Step 1300, Train Loss: 5.6805\n",
      "Epoch 7, Step 1400, Train Loss: 5.6921\n",
      "Epoch 7, Step 1500, Train Loss: 5.6816\n",
      "Epoch 7, Step 1600, Train Loss: 5.7537\n",
      "Epoch 7, Step 1700, Train Loss: 5.6966\n",
      "Epoch 7, Step 1800, Train Loss: 5.7466\n",
      "Epoch 7, Step 1900, Train Loss: 5.7033\n",
      "Epoch 7, Step 2000, Train Loss: 5.6653\n",
      "Epoch 7, Step 2100, Train Loss: 5.7932\n",
      "Epoch 7, Step 2200, Train Loss: 5.6971\n",
      "Epoch 7, Step 2300, Train Loss: 5.6557\n",
      "Epoch 7, Step 2400, Train Loss: 5.7142\n",
      "Epoch 7, Step 2500, Train Loss: 5.8835\n",
      "Epoch 7, Step 2600, Train Loss: 5.6071\n",
      "Epoch 7, Step 2700, Train Loss: 5.7984\n",
      "Epoch 7, Step 2800, Train Loss: 5.7595\n",
      "Epoch 7, Step 2900, Train Loss: 5.8330\n",
      "Epoch 7, Step 3000, Train Loss: 5.8032\n",
      "Epoch 7, Step 3100, Train Loss: 5.7592\n",
      "Epoch 7, Step 3200, Train Loss: 5.7068\n",
      "Epoch 7, Step 3300, Train Loss: 5.9051\n",
      "Epoch 7, Step 3400, Train Loss: 5.6730\n",
      "Epoch 7, Step 3500, Train Loss: 5.7253\n",
      "Epoch 7, Step 3600, Train Loss: 5.9240\n",
      "📘 Epoch 7 — Train Loss: 5.7441 | Val Loss: 5.2014\n",
      "Epoch 8, Step 0, Train Loss: 5.7019\n",
      "Epoch 8, Step 100, Train Loss: 5.6405\n",
      "Epoch 8, Step 200, Train Loss: 5.7251\n",
      "Epoch 8, Step 300, Train Loss: 5.6696\n",
      "Epoch 8, Step 400, Train Loss: 5.8065\n",
      "Epoch 8, Step 500, Train Loss: 5.7750\n",
      "Epoch 8, Step 600, Train Loss: 5.6851\n",
      "Epoch 8, Step 700, Train Loss: 5.5462\n",
      "Epoch 8, Step 800, Train Loss: 5.7135\n",
      "Epoch 8, Step 900, Train Loss: 5.6825\n",
      "Epoch 8, Step 1000, Train Loss: 5.6977\n",
      "Epoch 8, Step 1100, Train Loss: 5.6978\n",
      "Epoch 8, Step 1200, Train Loss: 5.5959\n",
      "Epoch 8, Step 1300, Train Loss: 5.6984\n",
      "Epoch 8, Step 1400, Train Loss: 5.7104\n",
      "Epoch 8, Step 1500, Train Loss: 5.6080\n",
      "Epoch 8, Step 1600, Train Loss: 5.6447\n",
      "Epoch 8, Step 1700, Train Loss: 5.8245\n",
      "Epoch 8, Step 1800, Train Loss: 5.6326\n",
      "Epoch 8, Step 1900, Train Loss: 5.6872\n",
      "Epoch 8, Step 2000, Train Loss: 5.7017\n",
      "Epoch 8, Step 2100, Train Loss: 5.9015\n",
      "Epoch 8, Step 2200, Train Loss: 5.6343\n",
      "Epoch 8, Step 2300, Train Loss: 5.6835\n",
      "Epoch 8, Step 2400, Train Loss: 5.7740\n",
      "Epoch 8, Step 2500, Train Loss: 5.6444\n",
      "Epoch 8, Step 2600, Train Loss: 5.7350\n",
      "Epoch 8, Step 2700, Train Loss: 5.7234\n",
      "Epoch 8, Step 2800, Train Loss: 5.8207\n",
      "Epoch 8, Step 2900, Train Loss: 5.7844\n",
      "Epoch 8, Step 3000, Train Loss: 5.7394\n",
      "Epoch 8, Step 3100, Train Loss: 5.7868\n",
      "Epoch 8, Step 3200, Train Loss: 5.8438\n",
      "Epoch 8, Step 3300, Train Loss: 5.8175\n",
      "Epoch 8, Step 3400, Train Loss: 5.6306\n",
      "Epoch 8, Step 3500, Train Loss: 5.6228\n",
      "Epoch 8, Step 3600, Train Loss: 5.6566\n",
      "📘 Epoch 8 — Train Loss: 5.7317 | Val Loss: 5.2033\n",
      "Epoch 9, Step 0, Train Loss: 5.6086\n",
      "Epoch 9, Step 100, Train Loss: 5.6259\n",
      "Epoch 9, Step 200, Train Loss: 5.6489\n",
      "Epoch 9, Step 300, Train Loss: 5.8061\n",
      "Epoch 9, Step 400, Train Loss: 5.8895\n",
      "Epoch 9, Step 500, Train Loss: 5.5814\n",
      "Epoch 9, Step 600, Train Loss: 5.6570\n",
      "Epoch 9, Step 700, Train Loss: 5.7100\n",
      "Epoch 9, Step 800, Train Loss: 5.7268\n",
      "Epoch 9, Step 900, Train Loss: 5.6788\n",
      "Epoch 9, Step 1000, Train Loss: 5.7391\n",
      "Epoch 9, Step 1100, Train Loss: 5.8117\n",
      "Epoch 9, Step 1200, Train Loss: 5.8282\n",
      "Epoch 9, Step 1300, Train Loss: 5.7382\n",
      "Epoch 9, Step 1400, Train Loss: 5.8009\n",
      "Epoch 9, Step 1500, Train Loss: 5.7929\n",
      "Epoch 9, Step 1600, Train Loss: 5.8929\n",
      "Epoch 9, Step 1700, Train Loss: 5.6453\n",
      "Epoch 9, Step 1800, Train Loss: 5.6961\n",
      "Epoch 9, Step 1900, Train Loss: 5.7159\n",
      "Epoch 9, Step 2000, Train Loss: 5.5967\n",
      "Epoch 9, Step 2100, Train Loss: 5.7329\n",
      "Epoch 9, Step 2200, Train Loss: 5.7799\n",
      "Epoch 9, Step 2300, Train Loss: 5.5948\n",
      "Epoch 9, Step 2400, Train Loss: 5.6667\n",
      "Epoch 9, Step 2500, Train Loss: 5.5460\n",
      "Epoch 9, Step 2600, Train Loss: 5.7192\n",
      "Epoch 9, Step 2700, Train Loss: 5.6582\n",
      "Epoch 9, Step 2800, Train Loss: 5.6009\n",
      "Epoch 9, Step 2900, Train Loss: 5.7464\n",
      "Epoch 9, Step 3000, Train Loss: 5.7059\n",
      "Epoch 9, Step 3100, Train Loss: 5.7674\n",
      "Epoch 9, Step 3200, Train Loss: 5.7638\n",
      "Epoch 9, Step 3300, Train Loss: 5.8835\n",
      "Epoch 9, Step 3400, Train Loss: 5.7412\n",
      "Epoch 9, Step 3500, Train Loss: 5.6907\n",
      "Epoch 9, Step 3600, Train Loss: 5.7041\n",
      "📘 Epoch 9 — Train Loss: 5.7112 | Val Loss: 5.2075\n",
      "Epoch 10, Step 0, Train Loss: 5.8799\n",
      "Epoch 10, Step 100, Train Loss: 5.8088\n",
      "Epoch 10, Step 200, Train Loss: 5.8532\n",
      "Epoch 10, Step 300, Train Loss: 5.6043\n",
      "Epoch 10, Step 400, Train Loss: 5.9128\n",
      "Epoch 10, Step 500, Train Loss: 5.6834\n",
      "Epoch 10, Step 600, Train Loss: 5.6343\n",
      "Epoch 10, Step 700, Train Loss: 5.7216\n",
      "Epoch 10, Step 800, Train Loss: 5.6505\n",
      "Epoch 10, Step 900, Train Loss: 5.6144\n",
      "Epoch 10, Step 1000, Train Loss: 5.7331\n",
      "Epoch 10, Step 1100, Train Loss: 5.7415\n",
      "Epoch 10, Step 1200, Train Loss: 5.6769\n",
      "Epoch 10, Step 1300, Train Loss: 5.6388\n",
      "Epoch 10, Step 1400, Train Loss: 5.7775\n",
      "Epoch 10, Step 1500, Train Loss: 5.9348\n",
      "Epoch 10, Step 1600, Train Loss: 5.6277\n",
      "Epoch 10, Step 1700, Train Loss: 5.7088\n",
      "Epoch 10, Step 1800, Train Loss: 5.7113\n",
      "Epoch 10, Step 1900, Train Loss: 5.6424\n",
      "Epoch 10, Step 2000, Train Loss: 5.7607\n",
      "Epoch 10, Step 2100, Train Loss: 5.7977\n",
      "Epoch 10, Step 2200, Train Loss: 5.6075\n",
      "Epoch 10, Step 2300, Train Loss: 5.7473\n",
      "Epoch 10, Step 2400, Train Loss: 5.6405\n",
      "Epoch 10, Step 2500, Train Loss: 5.8013\n",
      "Epoch 10, Step 2600, Train Loss: 5.7271\n",
      "Epoch 10, Step 2700, Train Loss: 5.7677\n",
      "Epoch 10, Step 2800, Train Loss: 5.7908\n",
      "Epoch 10, Step 2900, Train Loss: 5.7770\n",
      "Epoch 10, Step 3000, Train Loss: 5.4869\n",
      "Epoch 10, Step 3100, Train Loss: 5.8056\n",
      "Epoch 10, Step 3200, Train Loss: 5.7092\n",
      "Epoch 10, Step 3300, Train Loss: 5.7246\n",
      "Epoch 10, Step 3400, Train Loss: 5.7361\n",
      "Epoch 10, Step 3500, Train Loss: 5.7028\n",
      "Epoch 10, Step 3600, Train Loss: 5.7888\n",
      "📘 Epoch 10 — Train Loss: 5.7052 | Val Loss: 5.2098\n",
      "🏁 Training completed.\n"
     ]
    }
   ],
   "source": [
    "encoder, decoder, history = train_model(\n",
    "    encoder,\n",
    "    decoder,\n",
    "    train_loader,\n",
    "    val_loader,\n",
    "    optimizer,\n",
    "    criterion,\n",
    "    num_epochs=10,  \n",
    "    save_path='best_seq2seq_model.pth',\n",
    "    coverage_loss_weight=1.0\n",
    ")\n"
   ]
  },
  {
   "cell_type": "code",
   "execution_count": 46,
   "id": "73429cc8",
   "metadata": {
    "execution": {
     "iopub.execute_input": "2025-03-30T22:18:23.248588Z",
     "iopub.status.busy": "2025-03-30T22:18:23.248275Z",
     "iopub.status.idle": "2025-03-30T22:18:23.252494Z",
     "shell.execute_reply": "2025-03-30T22:18:23.251828Z"
    },
    "papermill": {
     "duration": 0.169445,
     "end_time": "2025-03-30T22:18:23.253652",
     "exception": false,
     "start_time": "2025-03-30T22:18:23.084207",
     "status": "completed"
    },
    "tags": []
   },
   "outputs": [],
   "source": [
    "def plot_loss(history):\n",
    "    plt.plot(history['train_loss'], label='Train Loss')\n",
    "    plt.plot(history['val_loss'], label='Val Loss')\n",
    "    plt.xlabel('Epoch')\n",
    "    plt.ylabel('Loss')\n",
    "    plt.title('Training & Validation Loss')\n",
    "    plt.legend()\n",
    "    plt.grid(True)\n",
    "    plt.show()\n"
   ]
  },
  {
   "cell_type": "code",
   "execution_count": 47,
   "id": "32286290",
   "metadata": {
    "execution": {
     "iopub.execute_input": "2025-03-30T22:18:23.582587Z",
     "iopub.status.busy": "2025-03-30T22:18:23.582290Z",
     "iopub.status.idle": "2025-03-30T22:18:23.587471Z",
     "shell.execute_reply": "2025-03-30T22:18:23.586649Z"
    },
    "papermill": {
     "duration": 0.172718,
     "end_time": "2025-03-30T22:18:23.588810",
     "exception": false,
     "start_time": "2025-03-30T22:18:23.416092",
     "status": "completed"
    },
    "tags": []
   },
   "outputs": [
    {
     "data": {
      "text/plain": [
       "{'train_loss': [6.41035104821025,\n",
       "  6.097260965182962,\n",
       "  5.943560858133569,\n",
       "  5.882906551763239,\n",
       "  5.8094644070085755,\n",
       "  5.782796619677076,\n",
       "  5.744137240785411,\n",
       "  5.731658298950605,\n",
       "  5.711198105488616,\n",
       "  5.7051777565901896],\n",
       " 'val_loss': [5.353986782654084,\n",
       "  5.247244448332191,\n",
       "  5.207510553175409,\n",
       "  5.199989123366397,\n",
       "  5.1946796638734885,\n",
       "  5.197971618933613,\n",
       "  5.201410649031539,\n",
       "  5.203327957364273,\n",
       "  5.207467221027146,\n",
       "  5.209844678184405]}"
      ]
     },
     "execution_count": 47,
     "metadata": {},
     "output_type": "execute_result"
    }
   ],
   "source": [
    "history"
   ]
  },
  {
   "cell_type": "code",
   "execution_count": 48,
   "id": "72d15653",
   "metadata": {
    "execution": {
     "iopub.execute_input": "2025-03-30T22:18:23.916109Z",
     "iopub.status.busy": "2025-03-30T22:18:23.915701Z",
     "iopub.status.idle": "2025-03-30T22:18:24.105445Z",
     "shell.execute_reply": "2025-03-30T22:18:24.104448Z"
    },
    "papermill": {
     "duration": 0.354543,
     "end_time": "2025-03-30T22:18:24.106919",
     "exception": false,
     "start_time": "2025-03-30T22:18:23.752376",
     "status": "completed"
    },
    "tags": []
   },
   "outputs": [
    {
     "data": {
      "image/png": "[encoded data removed]",
      "text/plain": [
       "<Figure size 640x480 with 1 Axes>"
      ]
     },
     "metadata": {},
     "output_type": "display_data"
    }
   ],
   "source": [
    "plot_loss(history)"
   ]
  },
  {
   "cell_type": "code",
   "execution_count": 49,
   "id": "4b083c24",
   "metadata": {
    "execution": {
     "iopub.execute_input": "2025-03-30T22:18:24.506437Z",
     "iopub.status.busy": "2025-03-30T22:18:24.506149Z",
     "iopub.status.idle": "2025-03-30T23:51:46.922466Z",
     "shell.execute_reply": "2025-03-30T23:51:46.921586Z"
    },
    "papermill": {
     "duration": 5602.80671,
     "end_time": "2025-03-30T23:51:47.083648",
     "exception": false,
     "start_time": "2025-03-30T22:18:24.276938",
     "status": "completed"
    },
    "tags": []
   },
   "outputs": [
    {
     "name": "stderr",
     "output_type": "stream",
     "text": [
      "/usr/local/lib/python3.10/dist-packages/nltk/translate/bleu_score.py:490: UserWarning: \n",
      "Corpus/Sentence contains 0 counts of 2-gram overlaps.\n",
      "BLEU scores might be undesirable; use SmoothingFunction().\n",
      "  warnings.warn(_msg)\n",
      "/usr/local/lib/python3.10/dist-packages/nltk/translate/bleu_score.py:490: UserWarning: \n",
      "Corpus/Sentence contains 0 counts of 3-gram overlaps.\n",
      "BLEU scores might be undesirable; use SmoothingFunction().\n",
      "  warnings.warn(_msg)\n",
      "/usr/local/lib/python3.10/dist-packages/nltk/translate/bleu_score.py:490: UserWarning: \n",
      "Corpus/Sentence contains 0 counts of 4-gram overlaps.\n",
      "BLEU scores might be undesirable; use SmoothingFunction().\n",
      "  warnings.warn(_msg)\n"
     ]
    },
    {
     "name": "stdout",
     "output_type": "stream",
     "text": [
      "\n",
      "🧪 BLEU Score: 0.2724\n",
      "📊 ROUGE Scores:\n",
      " - ROUGE-1: Precision=0.4023, Recall=0.1192, F1=0.1744\n",
      " - ROUGE-2: Precision=0.0498, Recall=0.0171, F1=0.0244\n",
      " - ROUGE-L: Precision=0.3519, Recall=0.1017, F1=0.1491\n",
      "\n",
      "🧪 BLEU Score: 0.3327\n",
      "📊 ROUGE Scores:\n",
      " - ROUGE-1: Precision=0.2288, Recall=0.2156, F1=0.2177\n",
      " - ROUGE-2: Precision=0.0337, Recall=0.0307, F1=0.0313\n",
      " - ROUGE-L: Precision=0.1397, Recall=0.1325, F1=0.1331\n",
      "\n",
      "🧪 BLEU Score: 0.3382\n",
      "📊 ROUGE Scores:\n",
      " - ROUGE-1: Precision=0.2249, Recall=0.2185, F1=0.2178\n",
      " - ROUGE-2: Precision=0.0329, Recall=0.0309, F1=0.0312\n",
      " - ROUGE-L: Precision=0.1365, Recall=0.1339, F1=0.1327\n"
     ]
    }
   ],
   "source": [
    "bleu_score1, rouge_scores1 = evaluate_model(\n",
    "    encoder,\n",
    "    decoder,\n",
    "    test_loader,\n",
    "    output_tokenizer\n",
    ")\n",
    "\n",
    "bleu_score2, rouge_scores2 = evaluate_model_with_beam_search(\n",
    "    encoder,\n",
    "    decoder,\n",
    "    test_loader,\n",
    "    output_tokenizer\n",
    ")\n",
    "\n",
    "bleu_score3, rouge_scores3 = evaluate_model_with_beam_search(\n",
    "    encoder,\n",
    "    decoder,\n",
    "    test_loader,\n",
    "    output_tokenizer,\n",
    "    beam_width=4\n",
    ")"
   ]
  },
  {
   "cell_type": "code",
   "execution_count": 50,
   "id": "90016da0",
   "metadata": {
    "execution": {
     "iopub.execute_input": "2025-03-30T23:51:47.398946Z",
     "iopub.status.busy": "2025-03-30T23:51:47.398582Z",
     "iopub.status.idle": "2025-03-30T23:51:47.527825Z",
     "shell.execute_reply": "2025-03-30T23:51:47.526972Z"
    },
    "papermill": {
     "duration": 0.288785,
     "end_time": "2025-03-30T23:51:47.529158",
     "exception": false,
     "start_time": "2025-03-30T23:51:47.240373",
     "status": "completed"
    },
    "tags": []
   },
   "outputs": [
    {
     "data": {
      "image/png": "[encoded data removed]",
      "text/plain": [
       "<Figure size 800x500 with 1 Axes>"
      ]
     },
     "metadata": {},
     "output_type": "display_data"
    }
   ],
   "source": [
    "# Example — replace with your actual scores\n",
    "rouge_1_f1 = rouge_scores1['rouge-1']['f']\n",
    "rouge_2_f1 = rouge_scores1['rouge-2']['f']\n",
    "rouge_l_f1 = rouge_scores1['rouge-l']['f']\n",
    "\n",
    "# Labels and scores\n",
    "labels = ['ROUGE-1 F1', 'ROUGE-2 F1', 'ROUGE-L F1']\n",
    "scores = [rouge_1_f1, rouge_2_f1, rouge_l_f1]\n",
    "\n",
    "# Plotting\n",
    "plt.figure(figsize=(8, 5))\n",
    "plt.bar(labels, scores)\n",
    "plt.ylim(0, 1)\n",
    "plt.ylabel(\"F1 Score\")\n",
    "plt.title(\"Model ROUGE F1 Scores on Test Set\")\n",
    "plt.grid(True, axis='y', linestyle='--', alpha=0.5)\n",
    "plt.show()"
   ]
  },
  {
   "cell_type": "code",
   "execution_count": 51,
   "id": "7d74b52a",
   "metadata": {
    "execution": {
     "iopub.execute_input": "2025-03-30T23:51:47.918066Z",
     "iopub.status.busy": "2025-03-30T23:51:47.917709Z",
     "iopub.status.idle": "2025-03-30T23:51:48.091032Z",
     "shell.execute_reply": "2025-03-30T23:51:48.090188Z"
    },
    "papermill": {
     "duration": 0.332306,
     "end_time": "2025-03-30T23:51:48.092380",
     "exception": false,
     "start_time": "2025-03-30T23:51:47.760074",
     "status": "completed"
    },
    "tags": []
   },
   "outputs": [
    {
     "data": {
      "image/png": "[encoded data removed]",
      "text/plain": [
       "<Figure size 1000x600 with 1 Axes>"
      ]
     },
     "metadata": {},
     "output_type": "display_data"
    }
   ],
   "source": [
    "baseline_scores = {\n",
    "    \"YourModel\": [rouge_1_f1, rouge_2_f1, rouge_l_f1],\n",
    "    \"BART\": [0.44, 0.21, 0.41],\n",
    "    \"PEGASUS\": [0.47, 0.24, 0.44]\n",
    "}\n",
    "\n",
    "x = np.arange(len(labels))\n",
    "width = 0.25\n",
    "\n",
    "plt.figure(figsize=(10, 6))\n",
    "for i, (model, vals) in enumerate(baseline_scores.items()):\n",
    "    plt.bar(x + i*width, vals, width=width, label=model)\n",
    "\n",
    "plt.xticks(x + width, labels)\n",
    "plt.ylim(0, 0.6)\n",
    "plt.ylabel(\"F1 Score\")\n",
    "plt.title(\"Comparison of ROUGE F1 Scores\")\n",
    "plt.legend()\n",
    "plt.grid(True, axis='y', linestyle='--', alpha=0.5)\n",
    "plt.show()"
   ]
  },
  {
   "cell_type": "code",
   "execution_count": 52,
   "id": "3830180d",
   "metadata": {
    "execution": {
     "iopub.execute_input": "2025-03-30T23:51:48.410116Z",
     "iopub.status.busy": "2025-03-30T23:51:48.409823Z",
     "iopub.status.idle": "2025-03-30T23:51:48.531950Z",
     "shell.execute_reply": "2025-03-30T23:51:48.531205Z"
    },
    "papermill": {
     "duration": 0.281105,
     "end_time": "2025-03-30T23:51:48.533206",
     "exception": false,
     "start_time": "2025-03-30T23:51:48.252101",
     "status": "completed"
    },
    "tags": []
   },
   "outputs": [
    {
     "data": {
      "image/png": "[encoded data removed]",
      "text/plain": [
       "<Figure size 800x500 with 1 Axes>"
      ]
     },
     "metadata": {},
     "output_type": "display_data"
    }
   ],
   "source": [
    "# Example — replace with your actual scores\n",
    "rouge_1_f1 = rouge_scores2['rouge-1']['f']\n",
    "rouge_2_f1 = rouge_scores2['rouge-2']['f']\n",
    "rouge_l_f1 = rouge_scores2['rouge-l']['f']\n",
    "\n",
    "# Labels and scores\n",
    "labels = ['ROUGE-1 F1', 'ROUGE-2 F1', 'ROUGE-L F1']\n",
    "scores = [rouge_1_f1, rouge_2_f1, rouge_l_f1]\n",
    "\n",
    "# Plotting\n",
    "plt.figure(figsize=(8, 5))\n",
    "plt.bar(labels, scores)\n",
    "plt.ylim(0, 1)\n",
    "plt.ylabel(\"F1 Score\")\n",
    "plt.title(\"Model ROUGE F1 Scores on Test Set\")\n",
    "plt.grid(True, axis='y', linestyle='--', alpha=0.5)\n",
    "plt.show()"
   ]
  },
  {
   "cell_type": "code",
   "execution_count": 53,
   "id": "3af0b4df",
   "metadata": {
    "execution": {
     "iopub.execute_input": "2025-03-30T23:51:48.853593Z",
     "iopub.status.busy": "2025-03-30T23:51:48.853311Z",
     "iopub.status.idle": "2025-03-30T23:51:49.023115Z",
     "shell.execute_reply": "2025-03-30T23:51:49.022269Z"
    },
    "papermill": {
     "duration": 0.328783,
     "end_time": "2025-03-30T23:51:49.024331",
     "exception": false,
     "start_time": "2025-03-30T23:51:48.695548",
     "status": "completed"
    },
    "tags": []
   },
   "outputs": [
    {
     "data": {
      "image/png": "[encoded data removed]",
      "text/plain": [
       "<Figure size 1000x600 with 1 Axes>"
      ]
     },
     "metadata": {},
     "output_type": "display_data"
    }
   ],
   "source": [
    "baseline_scores = {\n",
    "    \"YourModel\": [rouge_1_f1, rouge_2_f1, rouge_l_f1],\n",
    "    \"BART\": [0.44, 0.21, 0.41],\n",
    "    \"PEGASUS\": [0.47, 0.24, 0.44]\n",
    "}\n",
    "\n",
    "x = np.arange(len(labels))\n",
    "width = 0.25\n",
    "\n",
    "plt.figure(figsize=(10, 6))\n",
    "for i, (model, vals) in enumerate(baseline_scores.items()):\n",
    "    plt.bar(x + i*width, vals, width=width, label=model)\n",
    "\n",
    "plt.xticks(x + width, labels)\n",
    "plt.ylim(0, 0.6)\n",
    "plt.ylabel(\"F1 Score\")\n",
    "plt.title(\"Comparison of ROUGE F1 Scores\")\n",
    "plt.legend()\n",
    "plt.grid(True, axis='y', linestyle='--', alpha=0.5)\n",
    "plt.show()"
   ]
  },
  {
   "cell_type": "code",
   "execution_count": 54,
   "id": "65f86f77",
   "metadata": {
    "execution": {
     "iopub.execute_input": "2025-03-30T23:51:49.344172Z",
     "iopub.status.busy": "2025-03-30T23:51:49.343875Z",
     "iopub.status.idle": "2025-03-30T23:51:49.468527Z",
     "shell.execute_reply": "2025-03-30T23:51:49.467650Z"
    },
    "papermill": {
     "duration": 0.285525,
     "end_time": "2025-03-30T23:51:49.469740",
     "exception": false,
     "start_time": "2025-03-30T23:51:49.184215",
     "status": "completed"
    },
    "tags": []
   },
   "outputs": [
    {
     "data": {
      "image/png": "[encoded data removed]",
      "text/plain": [
       "<Figure size 800x500 with 1 Axes>"
      ]
     },
     "metadata": {},
     "output_type": "display_data"
    }
   ],
   "source": [
    "# Example — replace with your actual scores\n",
    "rouge_1_f1 = rouge_scores3['rouge-1']['f']\n",
    "rouge_2_f1 = rouge_scores3['rouge-2']['f']\n",
    "rouge_l_f1 = rouge_scores3['rouge-l']['f']\n",
    "\n",
    "# Labels and scores\n",
    "labels = ['ROUGE-1 F1', 'ROUGE-2 F1', 'ROUGE-L F1']\n",
    "scores = [rouge_1_f1, rouge_2_f1, rouge_l_f1]\n",
    "\n",
    "# Plotting\n",
    "plt.figure(figsize=(8, 5))\n",
    "plt.bar(labels, scores)\n",
    "plt.ylim(0, 1)\n",
    "plt.ylabel(\"F1 Score\")\n",
    "plt.title(\"Model ROUGE F1 Scores on Test Set\")\n",
    "plt.grid(True, axis='y', linestyle='--', alpha=0.5)\n",
    "plt.show()"
   ]
  },
  {
   "cell_type": "code",
   "execution_count": 55,
   "id": "4713cf81",
   "metadata": {
    "execution": {
     "iopub.execute_input": "2025-03-30T23:51:49.793855Z",
     "iopub.status.busy": "2025-03-30T23:51:49.793522Z",
     "iopub.status.idle": "2025-03-30T23:51:49.969277Z",
     "shell.execute_reply": "2025-03-30T23:51:49.968454Z"
    },
    "papermill": {
     "duration": 0.337103,
     "end_time": "2025-03-30T23:51:49.970487",
     "exception": false,
     "start_time": "2025-03-30T23:51:49.633384",
     "status": "completed"
    },
    "tags": []
   },
   "outputs": [
    {
     "data": {
      "image/png": "[encoded data removed]",
      "text/plain": [
       "<Figure size 1000x600 with 1 Axes>"
      ]
     },
     "metadata": {},
     "output_type": "display_data"
    }
   ],
   "source": [
    "baseline_scores = {\n",
    "    \"YourModel\": [rouge_1_f1, rouge_2_f1, rouge_l_f1],\n",
    "    \"BART\": [0.44, 0.21, 0.41],\n",
    "    \"PEGASUS\": [0.47, 0.24, 0.44]\n",
    "}\n",
    "\n",
    "x = np.arange(len(labels))\n",
    "width = 0.25\n",
    "\n",
    "plt.figure(figsize=(10, 6))\n",
    "for i, (model, vals) in enumerate(baseline_scores.items()):\n",
    "    plt.bar(x + i*width, vals, width=width, label=model)\n",
    "\n",
    "plt.xticks(x + width, labels)\n",
    "plt.ylim(0, 0.6)\n",
    "plt.ylabel(\"F1 Score\")\n",
    "plt.title(\"Comparison of ROUGE F1 Scores\")\n",
    "plt.legend()\n",
    "plt.grid(True, axis='y', linestyle='--', alpha=0.5)\n",
    "plt.show()"
   ]
  },
  {
   "cell_type": "code",
   "execution_count": 56,
   "id": "76855ec0",
   "metadata": {
    "execution": {
     "iopub.execute_input": "2025-03-30T23:51:50.293681Z",
     "iopub.status.busy": "2025-03-30T23:51:50.293395Z",
     "iopub.status.idle": "2025-03-30T23:51:51.562483Z",
     "shell.execute_reply": "2025-03-30T23:51:51.561532Z"
    },
    "papermill": {
     "duration": 1.431045,
     "end_time": "2025-03-30T23:51:51.563817",
     "exception": false,
     "start_time": "2025-03-30T23:51:50.132772",
     "status": "completed"
    },
    "tags": []
   },
   "outputs": [
    {
     "name": "stdout",
     "output_type": "stream",
     "text": [
      "\n",
      "🔍 Summarization on 10 Sample Test Inputs\n",
      "\n",
      "\n",
      "Example 1\n",
      "Input Text:\n",
      "ever noticed how plane seats appear to be getting smaller and smaller with increasing numbers of people taking to the skies some experts are questioning if having such packed out planes is putting passengers at risk they say that the shrinking space on aeroplanes is not only uncomfortable it putting our health and safety in danger more than squabbling over the arm rest shrinking space on planes putting our health and safety in danger this week consumer advisory group set up by the department of transportation said at public hearing that while the government is happy to set standards for animals flying on planes it doesn stipulate minimum amount of space for humans in world where animals have more rights to space and food than humans said charlie leocha consumer representative on the committee it is time that the dot and faa take stand for humane treatment of passengers but could crowding on planes lead to more serious issues than fighting for space in the overhead lockers crashing elbows and seat back kicking tests conducted by the faa use planes with 31 inch pitch standard which on some airlines has decreased many economy seats on united airlines have 30 inches of room while some airlines offer as little as 28 inches cynthia corbertt human factors researcher with the federal aviation administration that it conducts tests on how quickly passengers can leave plane but these tests are conducted using planes with 31 inches between each row of seats standard which on some airlines has decreased reported the detroit news the distance between two seats from one point on seat to the same point on the seat behind it is known as the pitch while most airlines stick to pitch of 31 inches or above some fall below this while united airlines has 30 inches of space gulf air economy seats have between 29 and 32 inches air asia offers 29 inches and spirit airlines offers just 28 inches british airways has seat pitch of 31 inches while easyjet has 29 inches thomson short haul seat pitch is 28 inches and virgin atlantic is 30 31\n",
      "\n",
      "Ground Truth Summary:\n",
      "_START_ experts question if packed out planes are putting passengers at risk consumer advisory group says minimum space must be stipulated safety tests conducted on planes with more leg room than airlines offer _END_\n",
      "\n",
      "Predicted Summary:\n",
      "new york city of the united airlines flight from the air travel to the air travel to the air travel to the air travel to the air travel to the air travel to the air travel to the air travel to the air travel to the air travel to the air travel to the air travel to the air travel to the air travel to the air travel to the air and the airline says\n",
      "--------------------------------------------------------------------------------\n",
      "\n",
      "Example 2\n",
      "Input Text:\n",
      "drunk teenage boy had to be rescued by security after jumping into lions enclosure at zoo in western india rahul kumar 17 clambered over the enclosure fence at the kamla nehru zoological park in ahmedabad and began running towards the animals shouting he would kill them mr kumar explained afterwards that he was drunk and thought stand good chance against the predators next level drunk intoxicated rahul kumar 17 climbed into the lions enclosure at zoo in ahmedabad and began running towards the animals shouting today kill lion mr kumar had been sitting near the enclosure when he suddenly made dash for the lions surprising zoo security the intoxicated teenager ran towards the lions shouting today kill lion or lion kills me zoo spokesman said guards had earlier spotted him close to the enclosure but had no idea he was planing to enter it fortunately there are eight moats to cross before getting to where the lions usually are and he fell into the second one allowing guards to catch up with him and take him out we then handed him over to the police brave fool fortunately mr kumar fell into moat as he ran towards the lions and could be rescued by zoo security staff before reaching the animals stock image kumar later explained don really know why did it was drunk and thought stand good chance police spokesman said he has been cautioned and will be sent for psychiatric evaluation fortunately for him the lions were asleep and the zoo guards acted quickly enough to prevent tragedy similar to that in delhi last year 20 year old man was mauled to death by tiger in the indian capital after climbing into its enclosure at the city zoo\n",
      "\n",
      "Ground Truth Summary:\n",
      "_START_ drunk teenage boy climbed into lion enclosure at zoo in west india rahul kumar 17 ran towards animals shouting today kill lion fortunately he fell into moat before reaching lions and was rescued _END_\n",
      "\n",
      "Predicted Summary:\n",
      "the man was attacked by the lions in the enclosure at the zoo in the enclosure at the zoo in the enclosure at the zoo in the enclosure at the zoo in the enclosure at the zoo in the enclosure at the zoo in the enclosure at the zoo in the enclosure at the zoo in the enclosure at the zoo in the zoo in the zoo in the zoo in the zoo in the zoo in the zoo in the zoo\n",
      "--------------------------------------------------------------------------------\n",
      "\n",
      "Example 3\n",
      "Input Text:\n",
      "dougie freedman is on the verge of agreeing new two year deal to remain at nottingham forest freedman has stabilised forest since he replaced cult hero stuart pearce and the club owners are pleased with the job he has done at the city ground dougie freedman is set to sign new deal at nottingham forest freedman has impressed at the city ground since replacing stuart pearce in february they made an audacious attempt on the play off places when freedman replaced pearce but have tailed off in recent weeks that has not prevented forest ownership making moves to secure freedman on contract for the next two seasons\n",
      "\n",
      "Ground Truth Summary:\n",
      "_START_ nottingham forest are close to extending dougie freedman contract the forest boss took over from former manager stuart pearce in february freedman has since lead the club to ninth in the championship _END_\n",
      "\n",
      "Predicted Summary:\n",
      "nottingham forest manager has been named as manager of the club for the championship side nottingham forest have been offered for the club to nottingham forest in the summer\n",
      "--------------------------------------------------------------------------------\n",
      "\n",
      "Example 4\n",
      "Input Text:\n",
      "liverpool target neto is also wanted by psg and clubs in spain as brendan rodgers faces stiff competition to land the fiorentina goalkeeper according to the brazilian agent stefano castagna the reds were linked with move for the 25 year old whose contract expires in june earlier in the season when simon mignolet was dropped from the side january move for neto never materialised but the former atletico paranaense keeper looks certain to leave the florence based club in the summer neto rushes from his goal as juan iturbe bears down on him during fiorentina clash with roma in march neto is wanted by number of top european clubs including liverpool and psg according to his agent it had been reported that neto had verbal agreement to join serie champions juventus at the end of the season but his agent has revealed no decision about his future has been made yet and castagna claims neto will have his pick of top european clubs when the transfer window re opens in the summer including brendan rodgers side there are many european clubs interested in neto such as for example liverpool and paris saint germain stefano castagna is quoted as saying by gazzetta tv firoentina goalkeeper neto saves at the feet of tottenham midfielder nacer chadli in the europa league in spain too there are clubs at the very top level who are tracking him real madrid we ll see we have not made definitive decision but in any case he will not accept another loan move elsewhere neto who represented brazil at the london 2012 olympics but has not featured for the senior side was warned against joining club as no by national coach dunga neto joined fiorentina from atletico paranaense in 2011 and established himself as no1 in the last two seasons\n",
      "\n",
      "Ground Truth Summary:\n",
      "_START_ fiorentina goalkeeper neto has been linked with liverpool and arsenal neto joined firoentina from brazilian outfit atletico paranaense in 2011 he is also wanted by psg and spanish clubs according to his agent click here for the latest liverpool news _END_\n",
      "\n",
      "Predicted Summary:\n",
      "liverpool striker has been linked with move to the club the italian has been linked with move to the club the italian has been linked with move to the summer the italian has been linked with move to the summer the italian has been linked with move to the summer the italian has been linked with move to the summer the italian has been linked with move to the summer the italian has been linked with move to the summer the italian has been linked with move to the summer the italian has been linked with move to the summer the italian has been linked with move to the summer the italian has been linked with move to the summer\n",
      "--------------------------------------------------------------------------------\n",
      "\n",
      "Example 5\n",
      "Input Text:\n",
      "bruce jenner will break his silence in two hour interview with diane sawyer later this month the former olympian and reality tv star 65 will speak in far ranging interview with sawyer for special edition of 20 20 on friday april 24 abc news announced on monday the interview comes amid growing speculation about the father of six transition to woman and follows closely behind his involvement in deadly car crash in california in february and while the kardashian women are known for enjoying center stage they will not be stealing bruce spotlight because they will be in armenia when the interview airs according to tmz scroll down for video speaking out bruce jenner pictured on keeping up with the kardashians will speak out in far ranging interview with diane sawyer later this month abc news announced on monday return diane sawyer who recently mourned the loss of her husband will return to abc for the interview rumors started swirling around jenner gender identity last year when he emerged from beverly hills clinic with his adam apple shaved down his behavior over the past year also fueled speculation as he began embracing an increasingly female appearance including growing out his hair shaving his legs and painting his nails while reportedly undergoing hormone therapy he also split from with his wife of more than two decades kris jenner with whom he has two daughters kyle and kendall she filed for divorce in september 2014 citing irreconcilable differences reports also emerged over the past week that he has received breast enhancement bruce had silicone breast implants put in few weeks ago source told radaronline he went with smaller implant because he didn want to look ridiculous on sunday he was seen walking to his car in malibu but hid his body beneath bulky sweatshirt out and about jenner was pictured walking back to his car in malibu on the weekend and hiding beneath large sweatshirt on sunday days after reports that he had undergone breast enhancement hiding he also apparently had painted his nails red when he was seen walking on sunday according to radar jenner wants to have all surgeries completed in time to make his on screen debut as woman on the fall season of dancing with the stars jenner is also rumored to be filming spin off docu series about the transition on although his reps have refused to confirm the claims while jenner himself has remained silent about his reported transition some of his relatives including step daughter kim kardashian have spoken about about his journey guess ll kind of let everyone be curious and feel like that his journey to talk about kim recently told entertainment tonight will say that think bruce should tell his story his way think everyone goes through things in life and think that story and what bruce is going through think he ll share whenever the time is right jenner who won gold in the decathlon at the 1976 olympics also made headlines earlier this year for his involvement in deadly car crash in malibu deadly in february jenner vehicle which was pulling trailer and an atv seen right rear ended woman car left and pushed it into the lane of an oncoming hummer she died at the scene by his side bruce pictured with his ex wife kris jenner and four of his step children from left rob kim kourtney and khloe has received support from his family kris filed for divorce from him last year his cadillac escalade which was pulling trailer and off road vehicle plowed into the back of lexus and pushed it into the path of an oncoming hummer on february the lexus was carrying 69 year old kim howe who died from chest trauma at the scene police sources say jenner is unlikely to be prosecuted because he wasn drinking speeding or texting at the time of the fatal crash his tell all interview will also be one of sawyer first forays back to tv news following the death of her husband acclaimed director mike nichols following heart attack last november last september she left the anchor chair of abc world news and announced that she planned to focus on specials in february she presented nation of women behind bars in which she went to prisons across the country to speak with female inmates\n",
      "\n",
      "Ground Truth Summary:\n",
      "_START_ tell all interview with the reality tv star 69 will air on friday april 24 it comes amid continuing speculation about his transition to woman and following his involvement in deadly car crash in february the interview will also be one of diane sawyer first appearances on television following the sudden death of her husband last year _END_\n",
      "\n",
      "Predicted Summary:\n",
      "the actor was reportedly in the head on the head on the head on the head on the head on the head on the head on the head on the head on the head on the head on the head on the head on the head on the head on the head on the show in the head on the head on the head on the show in the head on the head on the head on the show in the head on the head on the head on the show in the last year the actor was reportedly in the scene of the car crash in the head on the head on the head on the head on the head on the head on the head on the head on the head on the head on the head on the head on the head on the head on the head on the head on the head on the head on the head on the head on the head on the head on the head on the head on the head on the head on the head on the head on the head on the head on the head on the car accident\n",
      "--------------------------------------------------------------------------------\n",
      "\n",
      "Example 6\n",
      "Input Text:\n",
      "this is the moment that crew of firefighters struggled to haul giant pig out of garden swimming pool the prize porker known as pigwig had fallen into the pool in an upmarket neighbourhood in ringwood hampshire his owners had been taking him for walk around the garden when the animal plunged into the water and was unable to get out team from dorset fire and rescue struggled to haul the huge black pig out of swimming pool water the prize porker known as pigwig had fallen into the water and had then been unable to get out again two fire crews and specialist animal rescue team had to use slide boards and strops to haul the huge black pig from the small pool spokesman for dorset fire and rescue service said at 50pm yesterday the service received call to pig stuck in swimming pool one crew of firefighters from ferndown and specialist animal rescue unit from poole were mobilised to this incident once in attendance the crew secured the pig with strops and requested the attendance of another appliance which was mobilised from ringwood by our colleagues in hampshire fire and rescue service firefighters were also called out to horse which had fallen into swimming pool in heyshott west sussex the exhausted animal had to be winched to using an all terrain crane but appeared no worse for wear after its tumble the crew rescued the pig from the swimming pool using specialist animal rescue slide boards strops and lines to haul the pig from the swimming pool but pigwig wasn the only animal who needed rescuing after taking an unexpected swim crews in west sussex were called out to swimming pool where this time horse had fallen in wet and very bedraggled the exhausted animal put up no opposition when firefighters arrived to hoist her out of the small garden pool in heyshott the two hour rescue operation ended with the wayward horse being fitted with straps under her belly and lifted up into the air with an all terrain crane before being swung around and deposited back on dry land fire brigade spokesman said that she appeared none the worse for her impromptu swim after stepping over the edge of the domestic pool\n",
      "\n",
      "Ground Truth Summary:\n",
      "_START_ giant pig fell into the swimming pool at his home in ringwood hampshire it took the efforts of team of firefighters to winch him out of the water wayward horse also had to be rescued from swimming pool in sussex _END_\n",
      "\n",
      "Predicted Summary:\n",
      "the animal was rescued by the animal rescue crews arrived at the scene in the water at the scene in the air the animal was rescued by the animal rescue crews arrived at the scene and rescue crews arrived at the scene and rescue crews arrived at the scene and rescue crews arrived at the scene and rescue crews arrived at the scene\n",
      "--------------------------------------------------------------------------------\n",
      "\n",
      "Example 7\n",
      "Input Text:\n",
      "the amount of time people spend listening to bbc radio has dropped to its lowest level ever the corporation boss has admitted figures show that while millions still tune in they listen for much shorter bursts the average listener spent just ten hours week tuning in to bbc radio in the last three months of 2014 according to official figures the length of time people spend listening to bbc radio has dropped to its lowest level ever figures show this was 14 per cent down on decade earlier when listeners clocked up an average of 11 hours week the minutes of the bbc trust february meeting published yesterday revealed that director general tony hall highlighted the fall he noted that time spent listening to bbc radio had dropped to its lowest ever level the documents said sources blamed the downward trend on people leading faster paced lives than in the past and change in habits amongst young people lord tony hall bbc director general highlighted the decline to the bbc trust according to minutes of its february meeting many people who used to listen to radio as daily habit now turn to online streaming services such as spotify for their music fix that problem is likely to grow as apple develops its long rumoured streaming service bbc spokesman said the number of people listening to bbc radio stations and audience appreciation levels are as high as ever but time spent listening has inevitably been affected by digital competition and as people tune in in new digital ways those ways aren reflected in the traditional listening figures quoted here like watching videos from radio shows or listening to podcasts bbc radio is still reaching 65 per cent of the population each week according to the last set of figures available from rajar the organisation which measures radio audiences but although that figure feels relatively healthy by today standards it has none the less fallen by more over the last decade in the final three months of 2004 66 per cent of people in britain listened to bbc network radio every week lord hall also used the bbc trust meeting to note the strong performance of bbc radio the digital music station which the corporation had at one point been planning to scrap he reported that the recent rajar figures showed that 6music had become the first digital only station to reach two million listeners the minutes said earlier this month matthew postgate the bbc chief technology officer said the corporation would adopt new digital first strategy to help it target new generation of users he said the organisation needed to learn lessons if they want to compete with organisations that were born in the digital age\n",
      "\n",
      "Ground Truth Summary:\n",
      "_START_ figures show that while millions still tune in they listen for shorter bursts average listener spent ten hours week tuning in last three months of 2014 this was 14 down on decade earlier when people tuned in for 11 hours the bbc trust has cleared the way for firms to buy their way into lifestyle programmes on the world news channel in product placement experiment for example publishers could pay to have their books reviewed on talking books the bbc trust will review the scheme in year _END_\n",
      "\n",
      "Predicted Summary:\n",
      "the bbc radio show is the most popular with the word of the bbc radio show is the most popular with the bbc radio show the bbc radio show is the most popular with the bbc radio show the bbc radio show is the most popular with the bbc radio show the bbc radio show is the first time to be broadcast on the bbc radio show is the first time to be broadcast on the bbc radio show is the first time to be broadcast on the bbc radio show is the first time to be broadcast on the bbc radio show the bbc has been criticised for the bbc radio show\n",
      "--------------------------------------------------------------------------------\n",
      "\n",
      "Example 8\n",
      "Input Text:\n",
      "cnn so you like full house reunion and spinoff you got it dude co star john stamos announced monday night on jimmy kimmel live that netflix has ordered up reunion special followed by spinoff series called fuller house the show will feature candace cameron bure who played eldest daughter tanner in the original series which aired from 1987 to 1995 as the recently widowed mother of three boys it sort of role reversal and we turn the house over to her stamos told kimmel jodie sweetin who played stephanie tanner in the original series and andrea barber who portrayed best friend kimmy gibbler will both return for the new series netflix said stamos will produce and guest star talks with co starsbob saget mary kate and ashley olsen dave coulier and lori loughlin are ongoing netflix said the show will be available next year netflix said as big fans of the original full house we are thrilled to be able to introduce fuller house new narrative to existing fans worldwide who grew up on the original as well as new generation of global viewers that have grown up with the tanners in syndication netflix vice president of original content cindy holland said in statement the show starts with tanner now named tanner fuller get it fuller pregnant recently widowed and living in san francisco her younger sister stephanie now an aspiring musician and her lifelong best friend and fellow single mom kimmy move in to help her care for her two boys and the new baby on monday barber tweeted cameron bure to ask whether she was ready to resume their onscreen friendship we never stopped cameron bure tweeted back fans were over the moon at the news\n",
      "\n",
      "Ground Truth Summary:\n",
      "_START_ show will return with one hour special followed by spinoff star john stamos says he announced the show monday night on jimmy kimmel live _END_\n",
      "\n",
      "Predicted Summary:\n",
      "the show is the first time to be the first time to be the first time to be the first time to be the first time to be the first time to be the first time to be the first time to be the first time to be the first time to be the first time to be the first time to be the first time to be the first time to be the first time to be the first to be the first to the show the show on the show at the show to the show\n",
      "--------------------------------------------------------------------------------\n",
      "\n",
      "Example 9\n",
      "Input Text:\n",
      "at 11 20pm former world champion ken doherty potted final black and extinguished for now the dream of reanne evans to become the first women player to play the hallowed baize of sheffield crucible theatre in the world snooker championship in every other respect however 29 year old evans single mum from dudley was winner on thursday night she advanced the cause of women in sport no end and gave doherty the fright of his life in an enthralling and attritional match that won be bettered in this year qualifying tournament snooker governing body had been criticised in some quarters for allowing evans wild card to compete alongside 127 male players for the right to play in the sport blue chip event on april 18 something no female had achieved reanne evans shakes hands with ken doherty following his 10 victory at ponds forge evans plays shot during her world championship qualifying match against doherty doherty who won the world championship title back in 1997 took out the first frame 71 15 evans had doherty in all sorts of trouble before the former champion closed out the game 10 those critics and the bookies who made doherty ridiculously short priced 20 on favourite were made to look foolish as evans had her illustrious opponent on the ropes before finally bowing out 10 gracious doherty admitted afterwards she played out of her skin it was good match play snooker and tough all the way through there was lot of pressure on this match different kind of pressure to what ve ever experienced don usually feel sympathy for my opponents but felt sorry at the end she played better than me and lost don know how won that final frame if it had gone to have been million to one to win it evans cheered on by her eight year old daughter lauren at the ponds forge sports centre in sheffield admitted she was exhausted after match of unfamiliar intensity for her 10 time ladies champion evans had led twice during the opening session before doherty went in front the 10 time ladies world champion collected just 400 as prize money for winning the title in 2013 and this was completely different environment against player who beat stephen hendry to be crowned the best player in the world in 1997 it was struggle with the experience ken had just had to dig in she said ken had little runs when he needed it but could tell he was under pressure some of the balls were wobbling in from the first frame just couldn take advantage in the end can play better than did so there is no reason can return and beat ken or even players above him have the women game on my shoulders just hope get some help and am allowed to play in more big tournaments to give me experience next week will playing the ladies in the club again it lovely club don get me wrong but don think many ladies could give ken game think would have won if taken it to the presence of television crews and snooker star ronnie sullivan underlined what big story evans participation was evans eyes up her move during an enthralling game with doherty in sheffield she lost the first frame convincingly but the nerves didn show after that she reeled off three frames in row led and once doherty went in front pegged him back to and the irishman now ranked no 46 in the world started to look his 45 years he sat down at every opportunity while evans often stood while he played she had the confidence to play right handed or left handed as sullivan sometimes does the key frame was the sixteenth it lasted 45 minutes with evans rattling off the first 59 points and doherty the next 74 it took doherty to lead but evans came roaring back in the next frame he needed snooker to avoid the match going into final frame and he got it doherty now ranked no 46 in the world showed his experience to close out the contest he has two more qualifying rounds before he makes the crucible but it doubtful he will face tougher opponent they should let her play in more competitions he added evans should certainly use this match to become leading ambassador for women sport her purple and silver waistcoats drew admiring glances from the swimmers and trampolinists who turned up at the leisure centre as normal as she walked through reception to the basketball hall where 10 snooker tables had been set up next time they will know exactly who she is and what she can do\n",
      "\n",
      "Ground Truth Summary:\n",
      "_START_ reanne evans faced ken doherty in world championship qualifier doherty won the world championship in 1997 evans lost the first frame 71 15 against doherty but the dudley native fought back to lead ken doherty however managed to close out an enthralling contest 10 _END_\n",
      "\n",
      "Predicted Summary:\n",
      "the world no will be the first time to win the first round of the first round of the world cup final in the final of the world cup final in the final of the world cup final in the final of the world cup final in the final of the world cup final in the final of the world cup final in the final of the world cup final in the final of the world cup final in the final of the final of the final of the final of the final of the final of the final of the final of the final of the final of the final of the final of the final of the final of the final of the final of the final of the final of the final of the final of the final of the final of the final of the final of the final of the final of the final of the final of the final of the final of the final of the final of the final of the final of the final of the final of the final of the final of the final of the final of the final of the final of the final of the final of the final of the final of the final of the final of the final of the final of the final of the final of the final of the final of the final of the final of the final of the world cup\n",
      "--------------------------------------------------------------------------------\n",
      "\n",
      "Example 10\n",
      "Input Text:\n",
      "gang of six men have been jailed for total of 31 years after being convicted of string of sexual offences against teenager girls the offences which ranged from inciting sexual activity with child to rape happened in cars woods or at the defendants homes in banbury oxfordshire oxford crown court heard how they lured victims to parties organised on social media and then began sexually abusing them the men were found guilty in march and have now been handed sentences of between three and nine years in jail jailed ahmed hassan sule 21 left was sentenced to nine years imprisonment mohamed saleh 22 right was imprisoned for four years and nine months the girls aged between 13 and 16 were targeted by the gang at under 18s parties organised by ahmed hassan sule 21 known as fiddy one child described the parties as place where girls would go and the boys would choose their targets the victims who were described in court as emotionally immature were abused from 2009 to 2014 sentencing hassan sule and the others in court packed with friends and relatives of the defendants and victims yesterday judge zoe smith said you put on charity events to raise money for your football club this raised your profile among young people in banbury and you saw yourself as celebrity your friends helped put on these events and you became sexually promiscuous group not with your own girlfriends but with girls who were young vulnerable and lacking in maturity the judge rejected the argument put forward by the defence who accused the girls of coming forward because it better to be victim than slag behind bars kagiso manase 26 left was jailed for four years and said saleh 20 right was sentenced to four years detention in young offenders institute one of the victims told the oxford mail when used to go missing would swear at my mum and didn realise was being really nasty to her the men put me against my family it was really clever when started hanging around with them felt important had no friends and they were the only people left to talk to it was big part of my life and was scared felt like all my friends were making new memories and wasn part of them calling people slags as the defence did in this case stops other girls from coming forward would say to other girls to think about the future never wanted to do it never wanted to have sex with them but thought that what friends did thames valley police launched operation reportage after receiving tip off about the men activities and eventually tracked down numerous teenager girls who had been molested detective inspector steve raffield from banbury force cid said this result would not have been possible without the bravery of the victims would like to thank them for coming forward and giving evidence in this case as in all trials without their testimony we would not be where we are today as result young people will be safeguarded while these men will have time to reflect upon their actions in prison convicted takudzwa hova 21 left was sentenced to six years imprisonment while zsolt szalontai 18 right was sentenced to three years detention in young offenders institute after being found guilty of rape justice the judge rejected the argument put forward by the defence at oxford crown court pictured who accused the girls of coming forward because it better to be victim than slag those jailed on friday afternoon at oxford crown court were ahmed hassan sule 21 of banbury who was found guilty of 13 counts of sexual activity with child and one count of assault by penetration he was sentenced to nine years imprisonment mohamed saleh 22 of banbury was found guilty of two counts of sexual activity with child he was sentenced to four years and nine months imprisonment said saleh 20 from banbury was found guilty of one count of sexual activity with child he was sentenced to four years detention in young offenders institute takudzwa hova 21 of banbury was found guilty of one count of sexual activity with child two counts of causing or inciting child to engage in sexual activity and one count of rape he was sentenced to six years imprisonment kagiso manase 26 of banbury was found guilty of two counts of sexual activity with child two counts of causing or inciting child to engage in sexual activity and one count of sexual assault he was sentenced to four years imprisonment manase had also pleaded guilty to possession of identity documents with intent the offence related to being found in possession or control of false south african passport and uk residence permit he was sentenced to one year imprisonment to run consecutively zsolt szalontai 18 of banbury was found guilty of one count of rape he was sentenced to three years detention in young offenders institute\n",
      "\n",
      "Ground Truth Summary:\n",
      "_START_ gang have been jailed for total of 31 years for sexually abusing children offences happened in cars woods or at the defendants homes in banbury lured victims to parties organised on social media and then abused them girls aged between 13 and 16 were exploited by the gang from 2009 to 2014 _END_\n",
      "\n",
      "Predicted Summary:\n",
      "judge sentenced to three years in prison for three years in prison for three years in prison for three years in prison for three years in prison for three years in prison for three years in prison for three years in prison for three years in prison for three years in prison for three years in prison for three years in prison for three years in prison for three years in prison for three years in prison for three years in prison for three years in prison for three years in prison for three years in prison for three years in prison for three years in prison for three years in prison for three years in prison for three years in prison for three years in prison for three years in prison for three years in prison for three years in prison for three years in prison for three years in prison for three years in prison for three years\n",
      "--------------------------------------------------------------------------------\n"
     ]
    }
   ],
   "source": [
    "print(\"\\n🔍 Summarization on 10 Sample Test Inputs\\n\")\n",
    "\n",
    "for i in range(10):\n",
    "    # Raw input and reference\n",
    "    raw_text = x_test[i]\n",
    "    reference_summary = y_test[i]\n",
    "\n",
    "    # Generate predicted summary\n",
    "    predicted_summary = summarize_text(\n",
    "        raw_text,\n",
    "        encoder,\n",
    "        decoder,\n",
    "        input_tokenizer,\n",
    "        output_tokenizer,\n",
    "        max_len=int(1.2*len(reference_summary)), # old: MAX_LEN\n",
    "        # beam_width=3\n",
    "    )\n",
    "\n",
    "    print(f\"\\nExample {i+1}\")\n",
    "    print(f\"Input Text:\\n{raw_text}\\n\")\n",
    "    print(f\"Ground Truth Summary:\\n{reference_summary}\\n\")\n",
    "    print(f\"Predicted Summary:\\n{predicted_summary}\")\n",
    "    print(\"-\" * 80)"
   ]
  },
  {
   "cell_type": "code",
   "execution_count": 57,
   "id": "ccee6141",
   "metadata": {
    "execution": {
     "iopub.execute_input": "2025-03-30T23:51:51.890050Z",
     "iopub.status.busy": "2025-03-30T23:51:51.889712Z",
     "iopub.status.idle": "2025-03-30T23:51:51.932773Z",
     "shell.execute_reply": "2025-03-30T23:51:51.931854Z"
    },
    "papermill": {
     "duration": 0.205218,
     "end_time": "2025-03-30T23:51:51.933945",
     "exception": false,
     "start_time": "2025-03-30T23:51:51.728727",
     "status": "completed"
    },
    "tags": []
   },
   "outputs": [
    {
     "name": "stdout",
     "output_type": "stream",
     "text": [
      "\n",
      "Input: After attending the international conference on climate change, the prime minister emphasized the importance of transitioning to clean energy, urging other nations to commit to reducing greenhouse gas emissions and to invest in sustainable technologies that can secure the future of the planet for generations to come.\n",
      "Predicted Summary: the world leaders are in the world largest economy in the world largest economy is the first time to help reduce greenhouse gas emissions in the world to climate change in the world to climate change\n"
     ]
    }
   ],
   "source": [
    "example_input = \"After attending the international conference on climate change, the prime minister emphasized the importance of transitioning to clean energy, urging other nations to commit to reducing greenhouse gas emissions and to invest in sustainable technologies that can secure the future of the planet for generations to come.\"\n",
    "\n",
    "summary = summarize_text(\n",
    "    example_input,\n",
    "    encoder,\n",
    "    decoder,\n",
    "    input_tokenizer,\n",
    "    output_tokenizer,\n",
    "    max_len=int(0.2*len(example_input)), # old: MAX_LEN\n",
    "    # beam_width=3\n",
    ")\n",
    "\n",
    "print(\"\\nInput:\", example_input)\n",
    "print(\"Predicted Summary:\", summary)\n"
   ]
  },
  {
   "cell_type": "code",
   "execution_count": 58,
   "id": "1cb82c0b",
   "metadata": {
    "execution": {
     "iopub.execute_input": "2025-03-30T23:51:52.262915Z",
     "iopub.status.busy": "2025-03-30T23:51:52.262552Z",
     "iopub.status.idle": "2025-03-30T23:51:55.109789Z",
     "shell.execute_reply": "2025-03-30T23:51:55.108982Z"
    },
    "papermill": {
     "duration": 3.015104,
     "end_time": "2025-03-30T23:51:55.111156",
     "exception": false,
     "start_time": "2025-03-30T23:51:52.096052",
     "status": "completed"
    },
    "tags": []
   },
   "outputs": [
    {
     "name": "stdout",
     "output_type": "stream",
     "text": [
      "\n",
      "🔍 Summarization on 10 Sample Test Inputs\n",
      "\n",
      "\n",
      "Example 1\n",
      "Input Text:\n",
      "ever noticed how plane seats appear to be getting smaller and smaller with increasing numbers of people taking to the skies some experts are questioning if having such packed out planes is putting passengers at risk they say that the shrinking space on aeroplanes is not only uncomfortable it putting our health and safety in danger more than squabbling over the arm rest shrinking space on planes putting our health and safety in danger this week consumer advisory group set up by the department of transportation said at public hearing that while the government is happy to set standards for animals flying on planes it doesn stipulate minimum amount of space for humans in world where animals have more rights to space and food than humans said charlie leocha consumer representative on the committee it is time that the dot and faa take stand for humane treatment of passengers but could crowding on planes lead to more serious issues than fighting for space in the overhead lockers crashing elbows and seat back kicking tests conducted by the faa use planes with 31 inch pitch standard which on some airlines has decreased many economy seats on united airlines have 30 inches of room while some airlines offer as little as 28 inches cynthia corbertt human factors researcher with the federal aviation administration that it conducts tests on how quickly passengers can leave plane but these tests are conducted using planes with 31 inches between each row of seats standard which on some airlines has decreased reported the detroit news the distance between two seats from one point on seat to the same point on the seat behind it is known as the pitch while most airlines stick to pitch of 31 inches or above some fall below this while united airlines has 30 inches of space gulf air economy seats have between 29 and 32 inches air asia offers 29 inches and spirit airlines offers just 28 inches british airways has seat pitch of 31 inches while easyjet has 29 inches thomson short haul seat pitch is 28 inches and virgin atlantic is 30 31\n",
      "\n",
      "Ground Truth Summary:\n",
      "_START_ experts question if packed out planes are putting passengers at risk consumer advisory group says minimum space must be stipulated safety tests conducted on planes with more leg room than airlines offer _END_\n",
      "\n",
      "Predicted Summary:\n",
      "the airline says it is no longer than 100 000 flights in the united airlines flight cancellations on the air traffic controllers and other airlines are among those who have been reported to be the first time to take place at least one passenger was found in chicago hare international airlines flight from the world most popular with more than two hours day after takeoff from all over the air france and new york city of the faa says the airline has been reported in the air travel to the united states and the airline is not yet to make emergency landing in the world\n",
      "--------------------------------------------------------------------------------\n",
      "\n",
      "Example 2\n",
      "Input Text:\n",
      "drunk teenage boy had to be rescued by security after jumping into lions enclosure at zoo in western india rahul kumar 17 clambered over the enclosure fence at the kamla nehru zoological park in ahmedabad and began running towards the animals shouting he would kill them mr kumar explained afterwards that he was drunk and thought stand good chance against the predators next level drunk intoxicated rahul kumar 17 climbed into the lions enclosure at zoo in ahmedabad and began running towards the animals shouting today kill lion mr kumar had been sitting near the enclosure when he suddenly made dash for the lions surprising zoo security the intoxicated teenager ran towards the lions shouting today kill lion or lion kills me zoo spokesman said guards had earlier spotted him close to the enclosure but had no idea he was planing to enter it fortunately there are eight moats to cross before getting to where the lions usually are and he fell into the second one allowing guards to catch up with him and take him out we then handed him over to the police brave fool fortunately mr kumar fell into moat as he ran towards the lions and could be rescued by zoo security staff before reaching the animals stock image kumar later explained don really know why did it was drunk and thought stand good chance police spokesman said he has been cautioned and will be sent for psychiatric evaluation fortunately for him the lions were asleep and the zoo guards acted quickly enough to prevent tragedy similar to that in delhi last year 20 year old man was mauled to death by tiger in the indian capital after climbing into its enclosure at the city zoo\n",
      "\n",
      "Ground Truth Summary:\n",
      "_START_ drunk teenage boy climbed into lion enclosure at zoo in west india rahul kumar 17 ran towards animals shouting today kill lion fortunately he fell into moat before reaching lions and was rescued _END_\n",
      "\n",
      "Predicted Summary:\n",
      "the incident happened at the scene of the attack on sunday morning he had to be in critical condition after being bitten by his mother and two year old man in the enclosure at zoo in west sussex zoo staff member of the lions were taken to hospital after being attacked by the animal rescue workers are investigating the animals\n",
      "--------------------------------------------------------------------------------\n",
      "\n",
      "Example 3\n",
      "Input Text:\n",
      "dougie freedman is on the verge of agreeing new two year deal to remain at nottingham forest freedman has stabilised forest since he replaced cult hero stuart pearce and the club owners are pleased with the job he has done at the city ground dougie freedman is set to sign new deal at nottingham forest freedman has impressed at the city ground since replacing stuart pearce in february they made an audacious attempt on the play off places when freedman replaced pearce but have tailed off in recent weeks that has not prevented forest ownership making moves to secure freedman on contract for the next two seasons\n",
      "\n",
      "Ground Truth Summary:\n",
      "_START_ nottingham forest are close to extending dougie freedman contract the forest boss took over from former manager stuart pearce in february freedman has since lead the club to ninth in the championship _END_\n",
      "\n",
      "Predicted Summary:\n",
      "the nottingham forest will be sacked as he is expected to sign new contract at nottingham forest park on saturday\n",
      "--------------------------------------------------------------------------------\n",
      "\n",
      "Example 4\n",
      "Input Text:\n",
      "liverpool target neto is also wanted by psg and clubs in spain as brendan rodgers faces stiff competition to land the fiorentina goalkeeper according to the brazilian agent stefano castagna the reds were linked with move for the 25 year old whose contract expires in june earlier in the season when simon mignolet was dropped from the side january move for neto never materialised but the former atletico paranaense keeper looks certain to leave the florence based club in the summer neto rushes from his goal as juan iturbe bears down on him during fiorentina clash with roma in march neto is wanted by number of top european clubs including liverpool and psg according to his agent it had been reported that neto had verbal agreement to join serie champions juventus at the end of the season but his agent has revealed no decision about his future has been made yet and castagna claims neto will have his pick of top european clubs when the transfer window re opens in the summer including brendan rodgers side there are many european clubs interested in neto such as for example liverpool and paris saint germain stefano castagna is quoted as saying by gazzetta tv firoentina goalkeeper neto saves at the feet of tottenham midfielder nacer chadli in the europa league in spain too there are clubs at the very top level who are tracking him real madrid we ll see we have not made definitive decision but in any case he will not accept another loan move elsewhere neto who represented brazil at the london 2012 olympics but has not featured for the senior side was warned against joining club as no by national coach dunga neto joined fiorentina from atletico paranaense in 2011 and established himself as no1 in the last two seasons\n",
      "\n",
      "Ground Truth Summary:\n",
      "_START_ fiorentina goalkeeper neto has been linked with liverpool and arsenal neto joined firoentina from brazilian outfit atletico paranaense in 2011 he is also wanted by psg and spanish clubs according to his agent click here for the latest liverpool news _END_\n",
      "\n",
      "Predicted Summary:\n",
      "real madrid midfielder has been linked with move to the club on loan at the end of the summer he is keen on loan from ac milan in brazil the italian striker has been offered for liverpool in the premier league last season the former manchester united defender has signed new contract at old trafford on loan spell at the nou camp in january transfer news comes after his side to sign for the club\n",
      "--------------------------------------------------------------------------------\n",
      "\n",
      "Example 5\n",
      "Input Text:\n",
      "bruce jenner will break his silence in two hour interview with diane sawyer later this month the former olympian and reality tv star 65 will speak in far ranging interview with sawyer for special edition of 20 20 on friday april 24 abc news announced on monday the interview comes amid growing speculation about the father of six transition to woman and follows closely behind his involvement in deadly car crash in california in february and while the kardashian women are known for enjoying center stage they will not be stealing bruce spotlight because they will be in armenia when the interview airs according to tmz scroll down for video speaking out bruce jenner pictured on keeping up with the kardashians will speak out in far ranging interview with diane sawyer later this month abc news announced on monday return diane sawyer who recently mourned the loss of her husband will return to abc for the interview rumors started swirling around jenner gender identity last year when he emerged from beverly hills clinic with his adam apple shaved down his behavior over the past year also fueled speculation as he began embracing an increasingly female appearance including growing out his hair shaving his legs and painting his nails while reportedly undergoing hormone therapy he also split from with his wife of more than two decades kris jenner with whom he has two daughters kyle and kendall she filed for divorce in september 2014 citing irreconcilable differences reports also emerged over the past week that he has received breast enhancement bruce had silicone breast implants put in few weeks ago source told radaronline he went with smaller implant because he didn want to look ridiculous on sunday he was seen walking to his car in malibu but hid his body beneath bulky sweatshirt out and about jenner was pictured walking back to his car in malibu on the weekend and hiding beneath large sweatshirt on sunday days after reports that he had undergone breast enhancement hiding he also apparently had painted his nails red when he was seen walking on sunday according to radar jenner wants to have all surgeries completed in time to make his on screen debut as woman on the fall season of dancing with the stars jenner is also rumored to be filming spin off docu series about the transition on although his reps have refused to confirm the claims while jenner himself has remained silent about his reported transition some of his relatives including step daughter kim kardashian have spoken about about his journey guess ll kind of let everyone be curious and feel like that his journey to talk about kim recently told entertainment tonight will say that think bruce should tell his story his way think everyone goes through things in life and think that story and what bruce is going through think he ll share whenever the time is right jenner who won gold in the decathlon at the 1976 olympics also made headlines earlier this year for his involvement in deadly car crash in malibu deadly in february jenner vehicle which was pulling trailer and an atv seen right rear ended woman car left and pushed it into the lane of an oncoming hummer she died at the scene by his side bruce pictured with his ex wife kris jenner and four of his step children from left rob kim kourtney and khloe has received support from his family kris filed for divorce from him last year his cadillac escalade which was pulling trailer and off road vehicle plowed into the back of lexus and pushed it into the path of an oncoming hummer on february the lexus was carrying 69 year old kim howe who died from chest trauma at the scene police sources say jenner is unlikely to be prosecuted because he wasn drinking speeding or texting at the time of the fatal crash his tell all interview will also be one of sawyer first forays back to tv news following the death of her husband acclaimed director mike nichols following heart attack last november last september she left the anchor chair of abc world news and announced that she planned to focus on specials in february she presented nation of women behind bars in which she went to prisons across the country to speak with female inmates\n",
      "\n",
      "Ground Truth Summary:\n",
      "_START_ tell all interview with the reality tv star 69 will air on friday april 24 it comes amid continuing speculation about his transition to woman and following his involvement in deadly car crash in february the interview will also be one of diane sawyer first appearances on television following the sudden death of her husband last year _END_\n",
      "\n",
      "Predicted Summary:\n",
      "new york based on monday morning the actor has been in the head by his wife and his girlfriend in the early hours of the former first lady gaga was arrested after being hit by car accident in july 2012 he is the only person to be released on friday in the last few days after he died of his own version of her son in his car crash at the scene in september the couple had been married to death by police officer who died from the head on the car accident on monday night before he was the first woman to be in the same day of the late night the couple were killed by the man who was in the end of the last week he is in the scene of the car was found dead in his last year\n",
      "--------------------------------------------------------------------------------\n",
      "\n",
      "Example 6\n",
      "Input Text:\n",
      "this is the moment that crew of firefighters struggled to haul giant pig out of garden swimming pool the prize porker known as pigwig had fallen into the pool in an upmarket neighbourhood in ringwood hampshire his owners had been taking him for walk around the garden when the animal plunged into the water and was unable to get out team from dorset fire and rescue struggled to haul the huge black pig out of swimming pool water the prize porker known as pigwig had fallen into the water and had then been unable to get out again two fire crews and specialist animal rescue team had to use slide boards and strops to haul the huge black pig from the small pool spokesman for dorset fire and rescue service said at 50pm yesterday the service received call to pig stuck in swimming pool one crew of firefighters from ferndown and specialist animal rescue unit from poole were mobilised to this incident once in attendance the crew secured the pig with strops and requested the attendance of another appliance which was mobilised from ringwood by our colleagues in hampshire fire and rescue service firefighters were also called out to horse which had fallen into swimming pool in heyshott west sussex the exhausted animal had to be winched to using an all terrain crane but appeared no worse for wear after its tumble the crew rescued the pig from the swimming pool using specialist animal rescue slide boards strops and lines to haul the pig from the swimming pool but pigwig wasn the only animal who needed rescuing after taking an unexpected swim crews in west sussex were called out to swimming pool where this time horse had fallen in wet and very bedraggled the exhausted animal put up no opposition when firefighters arrived to hoist her out of the small garden pool in heyshott the two hour rescue operation ended with the wayward horse being fitted with straps under her belly and lifted up into the air with an all terrain crane before being swung around and deposited back on dry land fire brigade spokesman said that she appeared none the worse for her impromptu swim after stepping over the edge of the domestic pool\n",
      "\n",
      "Ground Truth Summary:\n",
      "_START_ giant pig fell into the swimming pool at his home in ringwood hampshire it took the efforts of team of firefighters to winch him out of the water wayward horse also had to be rescued from swimming pool in sussex _END_\n",
      "\n",
      "Predicted Summary:\n",
      "man was rescued by the animal rescue crews arrived to be rescued after being spotted in the water at the scene of the dog owner said it was not known for the ground on saturday morning the animal was trapped inside and half mile from the air after being rescued by animal rescue workers were called to hospital with its owner of the incident\n",
      "--------------------------------------------------------------------------------\n",
      "\n",
      "Example 7\n",
      "Input Text:\n",
      "the amount of time people spend listening to bbc radio has dropped to its lowest level ever the corporation boss has admitted figures show that while millions still tune in they listen for much shorter bursts the average listener spent just ten hours week tuning in to bbc radio in the last three months of 2014 according to official figures the length of time people spend listening to bbc radio has dropped to its lowest level ever figures show this was 14 per cent down on decade earlier when listeners clocked up an average of 11 hours week the minutes of the bbc trust february meeting published yesterday revealed that director general tony hall highlighted the fall he noted that time spent listening to bbc radio had dropped to its lowest ever level the documents said sources blamed the downward trend on people leading faster paced lives than in the past and change in habits amongst young people lord tony hall bbc director general highlighted the decline to the bbc trust according to minutes of its february meeting many people who used to listen to radio as daily habit now turn to online streaming services such as spotify for their music fix that problem is likely to grow as apple develops its long rumoured streaming service bbc spokesman said the number of people listening to bbc radio stations and audience appreciation levels are as high as ever but time spent listening has inevitably been affected by digital competition and as people tune in in new digital ways those ways aren reflected in the traditional listening figures quoted here like watching videos from radio shows or listening to podcasts bbc radio is still reaching 65 per cent of the population each week according to the last set of figures available from rajar the organisation which measures radio audiences but although that figure feels relatively healthy by today standards it has none the less fallen by more over the last decade in the final three months of 2004 66 per cent of people in britain listened to bbc network radio every week lord hall also used the bbc trust meeting to note the strong performance of bbc radio the digital music station which the corporation had at one point been planning to scrap he reported that the recent rajar figures showed that 6music had become the first digital only station to reach two million listeners the minutes said earlier this month matthew postgate the bbc chief technology officer said the corporation would adopt new digital first strategy to help it target new generation of users he said the organisation needed to learn lessons if they want to compete with organisations that were born in the digital age\n",
      "\n",
      "Ground Truth Summary:\n",
      "_START_ figures show that while millions still tune in they listen for shorter bursts average listener spent ten hours week tuning in last three months of 2014 this was 14 down on decade earlier when people tuned in for 11 hours the bbc trust has cleared the way for firms to buy their way into lifestyle programmes on the world news channel in product placement experiment for example publishers could pay to have their books reviewed on talking books the bbc trust will review the scheme in year _END_\n",
      "\n",
      "Predicted Summary:\n",
      "the bbc radio show will be used as many as much of the word in the past two hours of the new york times more than 200 000 people who have been criticised for the internet users in the world are more likely to use their own version of its first day of the bbc iplayer service is one of the first time to be the second most popular tv shows that the move will be available in the uk\n",
      "--------------------------------------------------------------------------------\n",
      "\n",
      "Example 8\n",
      "Input Text:\n",
      "cnn so you like full house reunion and spinoff you got it dude co star john stamos announced monday night on jimmy kimmel live that netflix has ordered up reunion special followed by spinoff series called fuller house the show will feature candace cameron bure who played eldest daughter tanner in the original series which aired from 1987 to 1995 as the recently widowed mother of three boys it sort of role reversal and we turn the house over to her stamos told kimmel jodie sweetin who played stephanie tanner in the original series and andrea barber who portrayed best friend kimmy gibbler will both return for the new series netflix said stamos will produce and guest star talks with co starsbob saget mary kate and ashley olsen dave coulier and lori loughlin are ongoing netflix said the show will be available next year netflix said as big fans of the original full house we are thrilled to be able to introduce fuller house new narrative to existing fans worldwide who grew up on the original as well as new generation of global viewers that have grown up with the tanners in syndication netflix vice president of original content cindy holland said in statement the show starts with tanner now named tanner fuller get it fuller pregnant recently widowed and living in san francisco her younger sister stephanie now an aspiring musician and her lifelong best friend and fellow single mom kimmy move in to help her care for her two boys and the new baby on monday barber tweeted cameron bure to ask whether she was ready to resume their onscreen friendship we never stopped cameron bure tweeted back fans were over the moon at the news\n",
      "\n",
      "Ground Truth Summary:\n",
      "_START_ show will return with one hour special followed by spinoff star john stamos says he announced the show monday night on jimmy kimmel live _END_\n",
      "\n",
      "Predicted Summary:\n",
      "new york based company is the first woman to be released on monday night live in the last year\n",
      "--------------------------------------------------------------------------------\n",
      "\n",
      "Example 9\n",
      "Input Text:\n",
      "at 11 20pm former world champion ken doherty potted final black and extinguished for now the dream of reanne evans to become the first women player to play the hallowed baize of sheffield crucible theatre in the world snooker championship in every other respect however 29 year old evans single mum from dudley was winner on thursday night she advanced the cause of women in sport no end and gave doherty the fright of his life in an enthralling and attritional match that won be bettered in this year qualifying tournament snooker governing body had been criticised in some quarters for allowing evans wild card to compete alongside 127 male players for the right to play in the sport blue chip event on april 18 something no female had achieved reanne evans shakes hands with ken doherty following his 10 victory at ponds forge evans plays shot during her world championship qualifying match against doherty doherty who won the world championship title back in 1997 took out the first frame 71 15 evans had doherty in all sorts of trouble before the former champion closed out the game 10 those critics and the bookies who made doherty ridiculously short priced 20 on favourite were made to look foolish as evans had her illustrious opponent on the ropes before finally bowing out 10 gracious doherty admitted afterwards she played out of her skin it was good match play snooker and tough all the way through there was lot of pressure on this match different kind of pressure to what ve ever experienced don usually feel sympathy for my opponents but felt sorry at the end she played better than me and lost don know how won that final frame if it had gone to have been million to one to win it evans cheered on by her eight year old daughter lauren at the ponds forge sports centre in sheffield admitted she was exhausted after match of unfamiliar intensity for her 10 time ladies champion evans had led twice during the opening session before doherty went in front the 10 time ladies world champion collected just 400 as prize money for winning the title in 2013 and this was completely different environment against player who beat stephen hendry to be crowned the best player in the world in 1997 it was struggle with the experience ken had just had to dig in she said ken had little runs when he needed it but could tell he was under pressure some of the balls were wobbling in from the first frame just couldn take advantage in the end can play better than did so there is no reason can return and beat ken or even players above him have the women game on my shoulders just hope get some help and am allowed to play in more big tournaments to give me experience next week will playing the ladies in the club again it lovely club don get me wrong but don think many ladies could give ken game think would have won if taken it to the presence of television crews and snooker star ronnie sullivan underlined what big story evans participation was evans eyes up her move during an enthralling game with doherty in sheffield she lost the first frame convincingly but the nerves didn show after that she reeled off three frames in row led and once doherty went in front pegged him back to and the irishman now ranked no 46 in the world started to look his 45 years he sat down at every opportunity while evans often stood while he played she had the confidence to play right handed or left handed as sullivan sometimes does the key frame was the sixteenth it lasted 45 minutes with evans rattling off the first 59 points and doherty the next 74 it took doherty to lead but evans came roaring back in the next frame he needed snooker to avoid the match going into final frame and he got it doherty now ranked no 46 in the world showed his experience to close out the contest he has two more qualifying rounds before he makes the crucible but it doubtful he will face tougher opponent they should let her play in more competitions he added evans should certainly use this match to become leading ambassador for women sport her purple and silver waistcoats drew admiring glances from the swimmers and trampolinists who turned up at the leisure centre as normal as she walked through reception to the basketball hall where 10 snooker tables had been set up next time they will know exactly who she is and what she can do\n",
      "\n",
      "Ground Truth Summary:\n",
      "_START_ reanne evans faced ken doherty in world championship qualifier doherty won the world championship in 1997 evans lost the first frame 71 15 against doherty but the dudley native fought back to lead ken doherty however managed to close out an enthralling contest 10 _END_\n",
      "\n",
      "Predicted Summary:\n",
      "andy murray has won the first time in the final of the world tour de france beat roger federer in the second round at flushing meadows to win the season on saturday night the former world number three time grand slam winner will play for the first half time champion was beaten by the match of the first round of the season ending tournament the pair have lost his first game in row with victory in melbourne cup semi final against novak djokovic in the world rankings\n",
      "--------------------------------------------------------------------------------\n",
      "\n",
      "Example 10\n",
      "Input Text:\n",
      "gang of six men have been jailed for total of 31 years after being convicted of string of sexual offences against teenager girls the offences which ranged from inciting sexual activity with child to rape happened in cars woods or at the defendants homes in banbury oxfordshire oxford crown court heard how they lured victims to parties organised on social media and then began sexually abusing them the men were found guilty in march and have now been handed sentences of between three and nine years in jail jailed ahmed hassan sule 21 left was sentenced to nine years imprisonment mohamed saleh 22 right was imprisoned for four years and nine months the girls aged between 13 and 16 were targeted by the gang at under 18s parties organised by ahmed hassan sule 21 known as fiddy one child described the parties as place where girls would go and the boys would choose their targets the victims who were described in court as emotionally immature were abused from 2009 to 2014 sentencing hassan sule and the others in court packed with friends and relatives of the defendants and victims yesterday judge zoe smith said you put on charity events to raise money for your football club this raised your profile among young people in banbury and you saw yourself as celebrity your friends helped put on these events and you became sexually promiscuous group not with your own girlfriends but with girls who were young vulnerable and lacking in maturity the judge rejected the argument put forward by the defence who accused the girls of coming forward because it better to be victim than slag behind bars kagiso manase 26 left was jailed for four years and said saleh 20 right was sentenced to four years detention in young offenders institute one of the victims told the oxford mail when used to go missing would swear at my mum and didn realise was being really nasty to her the men put me against my family it was really clever when started hanging around with them felt important had no friends and they were the only people left to talk to it was big part of my life and was scared felt like all my friends were making new memories and wasn part of them calling people slags as the defence did in this case stops other girls from coming forward would say to other girls to think about the future never wanted to do it never wanted to have sex with them but thought that what friends did thames valley police launched operation reportage after receiving tip off about the men activities and eventually tracked down numerous teenager girls who had been molested detective inspector steve raffield from banbury force cid said this result would not have been possible without the bravery of the victims would like to thank them for coming forward and giving evidence in this case as in all trials without their testimony we would not be where we are today as result young people will be safeguarded while these men will have time to reflect upon their actions in prison convicted takudzwa hova 21 left was sentenced to six years imprisonment while zsolt szalontai 18 right was sentenced to three years detention in young offenders institute after being found guilty of rape justice the judge rejected the argument put forward by the defence at oxford crown court pictured who accused the girls of coming forward because it better to be victim than slag those jailed on friday afternoon at oxford crown court were ahmed hassan sule 21 of banbury who was found guilty of 13 counts of sexual activity with child and one count of assault by penetration he was sentenced to nine years imprisonment mohamed saleh 22 of banbury was found guilty of two counts of sexual activity with child he was sentenced to four years and nine months imprisonment said saleh 20 from banbury was found guilty of one count of sexual activity with child he was sentenced to four years detention in young offenders institute takudzwa hova 21 of banbury was found guilty of one count of sexual activity with child two counts of causing or inciting child to engage in sexual activity and one count of rape he was sentenced to six years imprisonment kagiso manase 26 of banbury was found guilty of two counts of sexual activity with child two counts of causing or inciting child to engage in sexual activity and one count of sexual assault he was sentenced to four years imprisonment manase had also pleaded guilty to possession of identity documents with intent the offence related to being found in possession or control of false south african passport and uk residence permit he was sentenced to one year imprisonment to run consecutively zsolt szalontai 18 of banbury was found guilty of one count of rape he was sentenced to three years detention in young offenders institute\n",
      "\n",
      "Ground Truth Summary:\n",
      "_START_ gang have been jailed for total of 31 years for sexually abusing children offences happened in cars woods or at the defendants homes in banbury lured victims to parties organised on social media and then abused them girls aged between 13 and 16 were exploited by the gang from 2009 to 2014 _END_\n",
      "\n",
      "Predicted Summary:\n",
      "the victim was jailed for six months in prison for eight years after being convicted of rape and sentenced to 15 year old girl who had sex with her mother of three men were found guilty of raping 14 year old boy at his home in 2012 he was jailed in the time of the victims of sexual assault on friday night before he was sentenced to five years in jail after being caught by police in the back to life in the attack in 2011 he was found dead at the age of two counts of sexual activity with his mother of four years ago\n",
      "--------------------------------------------------------------------------------\n"
     ]
    }
   ],
   "source": [
    "print(\"\\n🔍 Summarization on 10 Sample Test Inputs\\n\")\n",
    "\n",
    "for i in range(10):\n",
    "    # Raw input and reference\n",
    "    raw_text = x_test[i]\n",
    "    reference_summary = y_test[i]\n",
    "\n",
    "    # Generate predicted summary\n",
    "    predicted_summary = summarize_text_beam_search(\n",
    "        raw_text,\n",
    "        encoder,\n",
    "        decoder,\n",
    "        input_tokenizer,\n",
    "        output_tokenizer,\n",
    "        max_len=int(1.2*len(reference_summary)), # old: MAX_LEN\n",
    "        beam_width=3\n",
    "    )\n",
    "\n",
    "    print(f\"\\nExample {i+1}\")\n",
    "    print(f\"Input Text:\\n{raw_text}\\n\")\n",
    "    print(f\"Ground Truth Summary:\\n{reference_summary}\\n\")\n",
    "    print(f\"Predicted Summary:\\n{predicted_summary}\")\n",
    "    print(\"-\" * 80)"
   ]
  },
  {
   "cell_type": "code",
   "execution_count": 59,
   "id": "6f160972",
   "metadata": {
    "execution": {
     "iopub.execute_input": "2025-03-30T23:51:55.435078Z",
     "iopub.status.busy": "2025-03-30T23:51:55.434739Z",
     "iopub.status.idle": "2025-03-30T23:51:55.559295Z",
     "shell.execute_reply": "2025-03-30T23:51:55.558417Z"
    },
    "id": "GDtf2y2BwEP2",
    "papermill": {
     "duration": 0.286605,
     "end_time": "2025-03-30T23:51:55.560659",
     "exception": false,
     "start_time": "2025-03-30T23:51:55.274054",
     "status": "completed"
    },
    "tags": []
   },
   "outputs": [
    {
     "name": "stdout",
     "output_type": "stream",
     "text": [
      "\n",
      "Input: After attending the international conference on climate change, the prime minister emphasized the importance of transitioning to clean energy, urging other nations to commit to reducing greenhouse gas emissions and to invest in sustainable technologies that can secure the future of the planet for generations to come.\n",
      "Predicted Summary: the climate change will help clean energy and climate change in the region of the world largest solar energy secretary general says climate change is not enough evidence to build green energy\n"
     ]
    }
   ],
   "source": [
    "example_input = \"After attending the international conference on climate change, the prime minister emphasized the importance of transitioning to clean energy, urging other nations to commit to reducing greenhouse gas emissions and to invest in sustainable technologies that can secure the future of the planet for generations to come.\"\n",
    "\n",
    "summary = summarize_text_beam_search(\n",
    "    example_input,\n",
    "    encoder,\n",
    "    decoder,\n",
    "    input_tokenizer,\n",
    "    output_tokenizer,\n",
    "    max_len=int(0.2*len(example_input)), # old: MAX_LEN\n",
    "    beam_width=3\n",
    ")\n",
    "\n",
    "print(\"\\nInput:\", example_input)\n",
    "print(\"Predicted Summary:\", summary)\n"
   ]
  },
  {
   "cell_type": "code",
   "execution_count": 60,
   "id": "124abec5",
   "metadata": {
    "execution": {
     "iopub.execute_input": "2025-03-30T23:51:55.962567Z",
     "iopub.status.busy": "2025-03-30T23:51:55.962257Z",
     "iopub.status.idle": "2025-03-30T23:51:59.616041Z",
     "shell.execute_reply": "2025-03-30T23:51:59.615133Z"
    },
    "papermill": {
     "duration": 3.890155,
     "end_time": "2025-03-30T23:51:59.617382",
     "exception": false,
     "start_time": "2025-03-30T23:51:55.727227",
     "status": "completed"
    },
    "tags": []
   },
   "outputs": [
    {
     "name": "stdout",
     "output_type": "stream",
     "text": [
      "\n",
      "🔍 Summarization on 10 Sample Test Inputs\n",
      "\n",
      "\n",
      "Example 1\n",
      "Input Text:\n",
      "ever noticed how plane seats appear to be getting smaller and smaller with increasing numbers of people taking to the skies some experts are questioning if having such packed out planes is putting passengers at risk they say that the shrinking space on aeroplanes is not only uncomfortable it putting our health and safety in danger more than squabbling over the arm rest shrinking space on planes putting our health and safety in danger this week consumer advisory group set up by the department of transportation said at public hearing that while the government is happy to set standards for animals flying on planes it doesn stipulate minimum amount of space for humans in world where animals have more rights to space and food than humans said charlie leocha consumer representative on the committee it is time that the dot and faa take stand for humane treatment of passengers but could crowding on planes lead to more serious issues than fighting for space in the overhead lockers crashing elbows and seat back kicking tests conducted by the faa use planes with 31 inch pitch standard which on some airlines has decreased many economy seats on united airlines have 30 inches of room while some airlines offer as little as 28 inches cynthia corbertt human factors researcher with the federal aviation administration that it conducts tests on how quickly passengers can leave plane but these tests are conducted using planes with 31 inches between each row of seats standard which on some airlines has decreased reported the detroit news the distance between two seats from one point on seat to the same point on the seat behind it is known as the pitch while most airlines stick to pitch of 31 inches or above some fall below this while united airlines has 30 inches of space gulf air economy seats have between 29 and 32 inches air asia offers 29 inches and spirit airlines offers just 28 inches british airways has seat pitch of 31 inches while easyjet has 29 inches thomson short haul seat pitch is 28 inches and virgin atlantic is 30 31\n",
      "\n",
      "Ground Truth Summary:\n",
      "_START_ experts question if packed out planes are putting passengers at risk consumer advisory group says minimum space must be stipulated safety tests conducted on planes with more leg room than airlines offer _END_\n",
      "\n",
      "Predicted Summary:\n",
      "airlines flight from the united airlines are in effect on friday to air traffic control of flights at least one passenger says there is no more than 100 seats in the world cup of the airline has been reported in the middle east and chicago hare international airports are not yet to take place on board flight attendants are among those who had to wait until monday morning the faa says it was an aviation administration officials say they were no fly for the ground zero gravity is expected to make emergency landing in the united states\n",
      "--------------------------------------------------------------------------------\n",
      "\n",
      "Example 2\n",
      "Input Text:\n",
      "drunk teenage boy had to be rescued by security after jumping into lions enclosure at zoo in western india rahul kumar 17 clambered over the enclosure fence at the kamla nehru zoological park in ahmedabad and began running towards the animals shouting he would kill them mr kumar explained afterwards that he was drunk and thought stand good chance against the predators next level drunk intoxicated rahul kumar 17 climbed into the lions enclosure at zoo in ahmedabad and began running towards the animals shouting today kill lion mr kumar had been sitting near the enclosure when he suddenly made dash for the lions surprising zoo security the intoxicated teenager ran towards the lions shouting today kill lion or lion kills me zoo spokesman said guards had earlier spotted him close to the enclosure but had no idea he was planing to enter it fortunately there are eight moats to cross before getting to where the lions usually are and he fell into the second one allowing guards to catch up with him and take him out we then handed him over to the police brave fool fortunately mr kumar fell into moat as he ran towards the lions and could be rescued by zoo security staff before reaching the animals stock image kumar later explained don really know why did it was drunk and thought stand good chance police spokesman said he has been cautioned and will be sent for psychiatric evaluation fortunately for him the lions were asleep and the zoo guards acted quickly enough to prevent tragedy similar to that in delhi last year 20 year old man was mauled to death by tiger in the indian capital after climbing into its enclosure at the city zoo\n",
      "\n",
      "Ground Truth Summary:\n",
      "_START_ drunk teenage boy climbed into lion enclosure at zoo in west india rahul kumar 17 ran towards animals shouting today kill lion fortunately he fell into moat before reaching lions and was rescued _END_\n",
      "\n",
      "Predicted Summary:\n",
      "the man was attacked by police after being bitten on sunday night at the zoo in west bengal tiger enclosure at the scene of the attack in china sea lion cubs were called to hospital with his mother and two year old boy in the wild animals at the enclosure\n",
      "--------------------------------------------------------------------------------\n",
      "\n",
      "Example 3\n",
      "Input Text:\n",
      "dougie freedman is on the verge of agreeing new two year deal to remain at nottingham forest freedman has stabilised forest since he replaced cult hero stuart pearce and the club owners are pleased with the job he has done at the city ground dougie freedman is set to sign new deal at nottingham forest freedman has impressed at the city ground since replacing stuart pearce in february they made an audacious attempt on the play off places when freedman replaced pearce but have tailed off in recent weeks that has not prevented forest ownership making moves to secure freedman on contract for the next two seasons\n",
      "\n",
      "Ground Truth Summary:\n",
      "_START_ nottingham forest are close to extending dougie freedman contract the forest boss took over from former manager stuart pearce in february freedman has since lead the club to ninth in the championship _END_\n",
      "\n",
      "Predicted Summary:\n",
      "neil warnock is set to sign new deal for nottingham forest in the summer he has been offered for the club on monday\n",
      "--------------------------------------------------------------------------------\n",
      "\n",
      "Example 4\n",
      "Input Text:\n",
      "liverpool target neto is also wanted by psg and clubs in spain as brendan rodgers faces stiff competition to land the fiorentina goalkeeper according to the brazilian agent stefano castagna the reds were linked with move for the 25 year old whose contract expires in june earlier in the season when simon mignolet was dropped from the side january move for neto never materialised but the former atletico paranaense keeper looks certain to leave the florence based club in the summer neto rushes from his goal as juan iturbe bears down on him during fiorentina clash with roma in march neto is wanted by number of top european clubs including liverpool and psg according to his agent it had been reported that neto had verbal agreement to join serie champions juventus at the end of the season but his agent has revealed no decision about his future has been made yet and castagna claims neto will have his pick of top european clubs when the transfer window re opens in the summer including brendan rodgers side there are many european clubs interested in neto such as for example liverpool and paris saint germain stefano castagna is quoted as saying by gazzetta tv firoentina goalkeeper neto saves at the feet of tottenham midfielder nacer chadli in the europa league in spain too there are clubs at the very top level who are tracking him real madrid we ll see we have not made definitive decision but in any case he will not accept another loan move elsewhere neto who represented brazil at the london 2012 olympics but has not featured for the senior side was warned against joining club as no by national coach dunga neto joined fiorentina from atletico paranaense in 2011 and established himself as no1 in the last two seasons\n",
      "\n",
      "Ground Truth Summary:\n",
      "_START_ fiorentina goalkeeper neto has been linked with liverpool and arsenal neto joined firoentina from brazilian outfit atletico paranaense in 2011 he is also wanted by psg and spanish clubs according to his agent click here for the latest liverpool news _END_\n",
      "\n",
      "Predicted Summary:\n",
      "real madrid midfielder has been linked with move to the club on loan at the end of the summer he is keen to sign new contract at the bernabeu on loan spell at the nou camp this season the italian giants have agreed deal for the club for the world cup final in 2012 but he will not be interested in signing of his transfer news\n",
      "--------------------------------------------------------------------------------\n",
      "\n",
      "Example 5\n",
      "Input Text:\n",
      "bruce jenner will break his silence in two hour interview with diane sawyer later this month the former olympian and reality tv star 65 will speak in far ranging interview with sawyer for special edition of 20 20 on friday april 24 abc news announced on monday the interview comes amid growing speculation about the father of six transition to woman and follows closely behind his involvement in deadly car crash in california in february and while the kardashian women are known for enjoying center stage they will not be stealing bruce spotlight because they will be in armenia when the interview airs according to tmz scroll down for video speaking out bruce jenner pictured on keeping up with the kardashians will speak out in far ranging interview with diane sawyer later this month abc news announced on monday return diane sawyer who recently mourned the loss of her husband will return to abc for the interview rumors started swirling around jenner gender identity last year when he emerged from beverly hills clinic with his adam apple shaved down his behavior over the past year also fueled speculation as he began embracing an increasingly female appearance including growing out his hair shaving his legs and painting his nails while reportedly undergoing hormone therapy he also split from with his wife of more than two decades kris jenner with whom he has two daughters kyle and kendall she filed for divorce in september 2014 citing irreconcilable differences reports also emerged over the past week that he has received breast enhancement bruce had silicone breast implants put in few weeks ago source told radaronline he went with smaller implant because he didn want to look ridiculous on sunday he was seen walking to his car in malibu but hid his body beneath bulky sweatshirt out and about jenner was pictured walking back to his car in malibu on the weekend and hiding beneath large sweatshirt on sunday days after reports that he had undergone breast enhancement hiding he also apparently had painted his nails red when he was seen walking on sunday according to radar jenner wants to have all surgeries completed in time to make his on screen debut as woman on the fall season of dancing with the stars jenner is also rumored to be filming spin off docu series about the transition on although his reps have refused to confirm the claims while jenner himself has remained silent about his reported transition some of his relatives including step daughter kim kardashian have spoken about about his journey guess ll kind of let everyone be curious and feel like that his journey to talk about kim recently told entertainment tonight will say that think bruce should tell his story his way think everyone goes through things in life and think that story and what bruce is going through think he ll share whenever the time is right jenner who won gold in the decathlon at the 1976 olympics also made headlines earlier this year for his involvement in deadly car crash in malibu deadly in february jenner vehicle which was pulling trailer and an atv seen right rear ended woman car left and pushed it into the lane of an oncoming hummer she died at the scene by his side bruce pictured with his ex wife kris jenner and four of his step children from left rob kim kourtney and khloe has received support from his family kris filed for divorce from him last year his cadillac escalade which was pulling trailer and off road vehicle plowed into the back of lexus and pushed it into the path of an oncoming hummer on february the lexus was carrying 69 year old kim howe who died from chest trauma at the scene police sources say jenner is unlikely to be prosecuted because he wasn drinking speeding or texting at the time of the fatal crash his tell all interview will also be one of sawyer first forays back to tv news following the death of her husband acclaimed director mike nichols following heart attack last november last september she left the anchor chair of abc world news and announced that she planned to focus on specials in february she presented nation of women behind bars in which she went to prisons across the country to speak with female inmates\n",
      "\n",
      "Ground Truth Summary:\n",
      "_START_ tell all interview with the reality tv star 69 will air on friday april 24 it comes amid continuing speculation about his transition to woman and following his involvement in deadly car crash in february the interview will also be one of diane sawyer first appearances on television following the sudden death of her husband last year _END_\n",
      "\n",
      "Predicted Summary:\n",
      "new york based company is the first woman in his car accident on monday morning after he had to be released by the death of the actor who died in the last few weeks after being hit by the man in the head with his wife and was found dead at the age of two years ago\n",
      "--------------------------------------------------------------------------------\n",
      "\n",
      "Example 6\n",
      "Input Text:\n",
      "this is the moment that crew of firefighters struggled to haul giant pig out of garden swimming pool the prize porker known as pigwig had fallen into the pool in an upmarket neighbourhood in ringwood hampshire his owners had been taking him for walk around the garden when the animal plunged into the water and was unable to get out team from dorset fire and rescue struggled to haul the huge black pig out of swimming pool water the prize porker known as pigwig had fallen into the water and had then been unable to get out again two fire crews and specialist animal rescue team had to use slide boards and strops to haul the huge black pig from the small pool spokesman for dorset fire and rescue service said at 50pm yesterday the service received call to pig stuck in swimming pool one crew of firefighters from ferndown and specialist animal rescue unit from poole were mobilised to this incident once in attendance the crew secured the pig with strops and requested the attendance of another appliance which was mobilised from ringwood by our colleagues in hampshire fire and rescue service firefighters were also called out to horse which had fallen into swimming pool in heyshott west sussex the exhausted animal had to be winched to using an all terrain crane but appeared no worse for wear after its tumble the crew rescued the pig from the swimming pool using specialist animal rescue slide boards strops and lines to haul the pig from the swimming pool but pigwig wasn the only animal who needed rescuing after taking an unexpected swim crews in west sussex were called out to swimming pool where this time horse had fallen in wet and very bedraggled the exhausted animal put up no opposition when firefighters arrived to hoist her out of the small garden pool in heyshott the two hour rescue operation ended with the wayward horse being fitted with straps under her belly and lifted up into the air with an all terrain crane before being swung around and deposited back on dry land fire brigade spokesman said that she appeared none the worse for her impromptu swim after stepping over the edge of the domestic pool\n",
      "\n",
      "Ground Truth Summary:\n",
      "_START_ giant pig fell into the swimming pool at his home in ringwood hampshire it took the efforts of team of firefighters to winch him out of the water wayward horse also had to be rescued from swimming pool in sussex _END_\n",
      "\n",
      "Predicted Summary:\n",
      "firefighters rescued the animal rescue crews arrived at the time of the animal had to be in the scene after being trapped inside and half tonne carcass on sunday morning it is now recovering well as they were called to hospital for two hours before the dog was spotted by the animal control the animal was rescued from the water at the scene\n",
      "--------------------------------------------------------------------------------\n",
      "\n",
      "Example 7\n",
      "Input Text:\n",
      "the amount of time people spend listening to bbc radio has dropped to its lowest level ever the corporation boss has admitted figures show that while millions still tune in they listen for much shorter bursts the average listener spent just ten hours week tuning in to bbc radio in the last three months of 2014 according to official figures the length of time people spend listening to bbc radio has dropped to its lowest level ever figures show this was 14 per cent down on decade earlier when listeners clocked up an average of 11 hours week the minutes of the bbc trust february meeting published yesterday revealed that director general tony hall highlighted the fall he noted that time spent listening to bbc radio had dropped to its lowest ever level the documents said sources blamed the downward trend on people leading faster paced lives than in the past and change in habits amongst young people lord tony hall bbc director general highlighted the decline to the bbc trust according to minutes of its february meeting many people who used to listen to radio as daily habit now turn to online streaming services such as spotify for their music fix that problem is likely to grow as apple develops its long rumoured streaming service bbc spokesman said the number of people listening to bbc radio stations and audience appreciation levels are as high as ever but time spent listening has inevitably been affected by digital competition and as people tune in in new digital ways those ways aren reflected in the traditional listening figures quoted here like watching videos from radio shows or listening to podcasts bbc radio is still reaching 65 per cent of the population each week according to the last set of figures available from rajar the organisation which measures radio audiences but although that figure feels relatively healthy by today standards it has none the less fallen by more over the last decade in the final three months of 2004 66 per cent of people in britain listened to bbc network radio every week lord hall also used the bbc trust meeting to note the strong performance of bbc radio the digital music station which the corporation had at one point been planning to scrap he reported that the recent rajar figures showed that 6music had become the first digital only station to reach two million listeners the minutes said earlier this month matthew postgate the bbc chief technology officer said the corporation would adopt new digital first strategy to help it target new generation of users he said the organisation needed to learn lessons if they want to compete with organisations that were born in the digital age\n",
      "\n",
      "Ground Truth Summary:\n",
      "_START_ figures show that while millions still tune in they listen for shorter bursts average listener spent ten hours week tuning in last three months of 2014 this was 14 down on decade earlier when people tuned in for 11 hours the bbc trust has cleared the way for firms to buy their way into lifestyle programmes on the world news channel in product placement experiment for example publishers could pay to have their books reviewed on talking books the bbc trust will review the scheme in year _END_\n",
      "\n",
      "Predicted Summary:\n",
      "bbc radio show is the most common in the world to be more likely to be broadcast at least three quarters of the new york based company says it would be used as many as much as an end of the internet users will have to use their own way for the first quarter of the corporation tax breaks out of the bbc radio listeners said they were not available in the past two hours of the year\n",
      "--------------------------------------------------------------------------------\n",
      "\n",
      "Example 8\n",
      "Input Text:\n",
      "cnn so you like full house reunion and spinoff you got it dude co star john stamos announced monday night on jimmy kimmel live that netflix has ordered up reunion special followed by spinoff series called fuller house the show will feature candace cameron bure who played eldest daughter tanner in the original series which aired from 1987 to 1995 as the recently widowed mother of three boys it sort of role reversal and we turn the house over to her stamos told kimmel jodie sweetin who played stephanie tanner in the original series and andrea barber who portrayed best friend kimmy gibbler will both return for the new series netflix said stamos will produce and guest star talks with co starsbob saget mary kate and ashley olsen dave coulier and lori loughlin are ongoing netflix said the show will be available next year netflix said as big fans of the original full house we are thrilled to be able to introduce fuller house new narrative to existing fans worldwide who grew up on the original as well as new generation of global viewers that have grown up with the tanners in syndication netflix vice president of original content cindy holland said in statement the show starts with tanner now named tanner fuller get it fuller pregnant recently widowed and living in san francisco her younger sister stephanie now an aspiring musician and her lifelong best friend and fellow single mom kimmy move in to help her care for her two boys and the new baby on monday barber tweeted cameron bure to ask whether she was ready to resume their onscreen friendship we never stopped cameron bure tweeted back fans were over the moon at the news\n",
      "\n",
      "Ground Truth Summary:\n",
      "_START_ show will return with one hour special followed by spinoff star john stamos says he announced the show monday night on jimmy kimmel live _END_\n",
      "\n",
      "Predicted Summary:\n",
      "the first lady gaga was born on saturday night live in new york city and has been announced as well known for the show of the show is the first time to be released from the show at the end of the world\n",
      "--------------------------------------------------------------------------------\n",
      "\n",
      "Example 9\n",
      "Input Text:\n",
      "at 11 20pm former world champion ken doherty potted final black and extinguished for now the dream of reanne evans to become the first women player to play the hallowed baize of sheffield crucible theatre in the world snooker championship in every other respect however 29 year old evans single mum from dudley was winner on thursday night she advanced the cause of women in sport no end and gave doherty the fright of his life in an enthralling and attritional match that won be bettered in this year qualifying tournament snooker governing body had been criticised in some quarters for allowing evans wild card to compete alongside 127 male players for the right to play in the sport blue chip event on april 18 something no female had achieved reanne evans shakes hands with ken doherty following his 10 victory at ponds forge evans plays shot during her world championship qualifying match against doherty doherty who won the world championship title back in 1997 took out the first frame 71 15 evans had doherty in all sorts of trouble before the former champion closed out the game 10 those critics and the bookies who made doherty ridiculously short priced 20 on favourite were made to look foolish as evans had her illustrious opponent on the ropes before finally bowing out 10 gracious doherty admitted afterwards she played out of her skin it was good match play snooker and tough all the way through there was lot of pressure on this match different kind of pressure to what ve ever experienced don usually feel sympathy for my opponents but felt sorry at the end she played better than me and lost don know how won that final frame if it had gone to have been million to one to win it evans cheered on by her eight year old daughter lauren at the ponds forge sports centre in sheffield admitted she was exhausted after match of unfamiliar intensity for her 10 time ladies champion evans had led twice during the opening session before doherty went in front the 10 time ladies world champion collected just 400 as prize money for winning the title in 2013 and this was completely different environment against player who beat stephen hendry to be crowned the best player in the world in 1997 it was struggle with the experience ken had just had to dig in she said ken had little runs when he needed it but could tell he was under pressure some of the balls were wobbling in from the first frame just couldn take advantage in the end can play better than did so there is no reason can return and beat ken or even players above him have the women game on my shoulders just hope get some help and am allowed to play in more big tournaments to give me experience next week will playing the ladies in the club again it lovely club don get me wrong but don think many ladies could give ken game think would have won if taken it to the presence of television crews and snooker star ronnie sullivan underlined what big story evans participation was evans eyes up her move during an enthralling game with doherty in sheffield she lost the first frame convincingly but the nerves didn show after that she reeled off three frames in row led and once doherty went in front pegged him back to and the irishman now ranked no 46 in the world started to look his 45 years he sat down at every opportunity while evans often stood while he played she had the confidence to play right handed or left handed as sullivan sometimes does the key frame was the sixteenth it lasted 45 minutes with evans rattling off the first 59 points and doherty the next 74 it took doherty to lead but evans came roaring back in the next frame he needed snooker to avoid the match going into final frame and he got it doherty now ranked no 46 in the world showed his experience to close out the contest he has two more qualifying rounds before he makes the crucible but it doubtful he will face tougher opponent they should let her play in more competitions he added evans should certainly use this match to become leading ambassador for women sport her purple and silver waistcoats drew admiring glances from the swimmers and trampolinists who turned up at the leisure centre as normal as she walked through reception to the basketball hall where 10 snooker tables had been set up next time they will know exactly who she is and what she can do\n",
      "\n",
      "Ground Truth Summary:\n",
      "_START_ reanne evans faced ken doherty in world championship qualifier doherty won the world championship in 1997 evans lost the first frame 71 15 against doherty but the dudley native fought back to lead ken doherty however managed to close out an enthralling contest 10 _END_\n",
      "\n",
      "Predicted Summary:\n",
      "former world number one was the first time to play in the second half of his career at the o2 arena on sunday night the dane lost to the final of the last 16 match against sheffield united states will now be playing for the first set of the season ending the open in the final round of nations title in the world tour de france international has won three sets up to win the year old is the youngest ever player to reach the first round at flushing meadows\n",
      "--------------------------------------------------------------------------------\n",
      "\n",
      "Example 10\n",
      "Input Text:\n",
      "gang of six men have been jailed for total of 31 years after being convicted of string of sexual offences against teenager girls the offences which ranged from inciting sexual activity with child to rape happened in cars woods or at the defendants homes in banbury oxfordshire oxford crown court heard how they lured victims to parties organised on social media and then began sexually abusing them the men were found guilty in march and have now been handed sentences of between three and nine years in jail jailed ahmed hassan sule 21 left was sentenced to nine years imprisonment mohamed saleh 22 right was imprisoned for four years and nine months the girls aged between 13 and 16 were targeted by the gang at under 18s parties organised by ahmed hassan sule 21 known as fiddy one child described the parties as place where girls would go and the boys would choose their targets the victims who were described in court as emotionally immature were abused from 2009 to 2014 sentencing hassan sule and the others in court packed with friends and relatives of the defendants and victims yesterday judge zoe smith said you put on charity events to raise money for your football club this raised your profile among young people in banbury and you saw yourself as celebrity your friends helped put on these events and you became sexually promiscuous group not with your own girlfriends but with girls who were young vulnerable and lacking in maturity the judge rejected the argument put forward by the defence who accused the girls of coming forward because it better to be victim than slag behind bars kagiso manase 26 left was jailed for four years and said saleh 20 right was sentenced to four years detention in young offenders institute one of the victims told the oxford mail when used to go missing would swear at my mum and didn realise was being really nasty to her the men put me against my family it was really clever when started hanging around with them felt important had no friends and they were the only people left to talk to it was big part of my life and was scared felt like all my friends were making new memories and wasn part of them calling people slags as the defence did in this case stops other girls from coming forward would say to other girls to think about the future never wanted to do it never wanted to have sex with them but thought that what friends did thames valley police launched operation reportage after receiving tip off about the men activities and eventually tracked down numerous teenager girls who had been molested detective inspector steve raffield from banbury force cid said this result would not have been possible without the bravery of the victims would like to thank them for coming forward and giving evidence in this case as in all trials without their testimony we would not be where we are today as result young people will be safeguarded while these men will have time to reflect upon their actions in prison convicted takudzwa hova 21 left was sentenced to six years imprisonment while zsolt szalontai 18 right was sentenced to three years detention in young offenders institute after being found guilty of rape justice the judge rejected the argument put forward by the defence at oxford crown court pictured who accused the girls of coming forward because it better to be victim than slag those jailed on friday afternoon at oxford crown court were ahmed hassan sule 21 of banbury who was found guilty of 13 counts of sexual activity with child and one count of assault by penetration he was sentenced to nine years imprisonment mohamed saleh 22 of banbury was found guilty of two counts of sexual activity with child he was sentenced to four years and nine months imprisonment said saleh 20 from banbury was found guilty of one count of sexual activity with child he was sentenced to four years detention in young offenders institute takudzwa hova 21 of banbury was found guilty of one count of sexual activity with child two counts of causing or inciting child to engage in sexual activity and one count of rape he was sentenced to six years imprisonment kagiso manase 26 of banbury was found guilty of two counts of sexual activity with child two counts of causing or inciting child to engage in sexual activity and one count of sexual assault he was sentenced to four years imprisonment manase had also pleaded guilty to possession of identity documents with intent the offence related to being found in possession or control of false south african passport and uk residence permit he was sentenced to one year imprisonment to run consecutively zsolt szalontai 18 of banbury was found guilty of one count of rape he was sentenced to three years detention in young offenders institute\n",
      "\n",
      "Ground Truth Summary:\n",
      "_START_ gang have been jailed for total of 31 years for sexually abusing children offences happened in cars woods or at the defendants homes in banbury lured victims to parties organised on social media and then abused them girls aged between 13 and 16 were exploited by the gang from 2009 to 2014 _END_\n",
      "\n",
      "Predicted Summary:\n",
      "the victim was jailed for six years in prison for three months after he was sentenced to 15 year old girl who had sex with his mother of four women were found guilty of raping her son and two counts of sexual activity at the age of 13 years in jail for eight months in 2012 he is accused of having sex offender register as he was convicted of raping 14 years after being caught on suspicion of attempted murder rape victim father of one of two boys aged between 18 when he was jailed in 2011 he was found dead at the time of the victims of child sex offenders register\n",
      "--------------------------------------------------------------------------------\n"
     ]
    }
   ],
   "source": [
    "print(\"\\n🔍 Summarization on 10 Sample Test Inputs\\n\")\n",
    "\n",
    "for i in range(10):\n",
    "    # Raw input and reference\n",
    "    raw_text = x_test[i]\n",
    "    reference_summary = y_test[i]\n",
    "\n",
    "    # Generate predicted summary\n",
    "    predicted_summary = summarize_text_beam_search(\n",
    "        raw_text,\n",
    "        encoder,\n",
    "        decoder,\n",
    "        input_tokenizer,\n",
    "        output_tokenizer,\n",
    "        max_len=int(1.2*len(reference_summary)), # old: MAX_LEN\n",
    "        beam_width=4\n",
    "    )\n",
    "\n",
    "    print(f\"\\nExample {i+1}\")\n",
    "    print(f\"Input Text:\\n{raw_text}\\n\")\n",
    "    print(f\"Ground Truth Summary:\\n{reference_summary}\\n\")\n",
    "    print(f\"Predicted Summary:\\n{predicted_summary}\")\n",
    "    print(\"-\" * 80)"
   ]
  },
  {
   "cell_type": "code",
   "execution_count": 61,
   "id": "87a29d8e",
   "metadata": {
    "execution": {
     "iopub.execute_input": "2025-03-30T23:51:59.951158Z",
     "iopub.status.busy": "2025-03-30T23:51:59.950853Z",
     "iopub.status.idle": "2025-03-30T23:52:00.149097Z",
     "shell.execute_reply": "2025-03-30T23:52:00.148203Z"
    },
    "papermill": {
     "duration": 0.365289,
     "end_time": "2025-03-30T23:52:00.150289",
     "exception": false,
     "start_time": "2025-03-30T23:51:59.785000",
     "status": "completed"
    },
    "tags": []
   },
   "outputs": [
    {
     "name": "stdout",
     "output_type": "stream",
     "text": [
      "\n",
      "Input: After attending the international conference on climate change, the prime minister emphasized the importance of transitioning to clean energy, urging other nations to commit to reducing greenhouse gas emissions and to invest in sustainable technologies that can secure the future of the planet for generations to come.\n",
      "Predicted Summary: the climate change will help reduce greenhouse gas emissions in the world largest energy secretary general eric green energy secretary of climate summit is to be held at the world trade center climate change in the region\n"
     ]
    }
   ],
   "source": [
    "example_input = \"After attending the international conference on climate change, the prime minister emphasized the importance of transitioning to clean energy, urging other nations to commit to reducing greenhouse gas emissions and to invest in sustainable technologies that can secure the future of the planet for generations to come.\"\n",
    "\n",
    "summary = summarize_text_beam_search(\n",
    "    example_input,\n",
    "    encoder,\n",
    "    decoder,\n",
    "    input_tokenizer,\n",
    "    output_tokenizer,\n",
    "    max_len=int(0.2*len(example_input)), # old: MAX_LEN\n",
    "    beam_width=4\n",
    ")\n",
    "\n",
    "print(\"\\nInput:\", example_input)\n",
    "print(\"Predicted Summary:\", summary)\n"
   ]
  }
 ],
 "metadata": {
  "accelerator": "GPU",
  "colab": {
   "machine_shape": "hm",
   "provenance": []
  },
  "kaggle": {
   "accelerator": "gpu",
   "dataSources": [],
   "dockerImageVersionId": 30919,
   "isGpuEnabled": true,
   "isInternetEnabled": true,
   "language": "python",
   "sourceType": "notebook"
  },
  "kernelspec": {
   "display_name": "Python 3",
   "language": "python",
   "name": "python3"
  },
  "language_info": {
   "codemirror_mode": {
    "name": "ipython",
    "version": 3
   },
   "file_extension": ".py",
   "mimetype": "text/x-python",
   "name": "python",
   "nbconvert_exporter": "python",
   "pygments_lexer": "ipython3",
   "version": "3.10.12"
  },
  "papermill": {
   "default_parameters": {},
   "duration": 21809.338005,
   "end_time": "2025-03-30T23:52:03.735356",
   "environment_variables": {},
   "exception": null,
   "input_path": "__notebook__.ipynb",
   "output_path": "__notebook__.ipynb",
   "parameters": {},
   "start_time": "2025-03-30T17:48:34.397351",
   "version": "2.6.0"
  }
 },
 "nbformat": 4,
 "nbformat_minor": 5
}
