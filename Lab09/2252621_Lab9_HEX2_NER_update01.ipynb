{
  "cells": [
    {
      "cell_type": "markdown",
      "source": [
        "# 2252621\n",
        "\n",
        "# Home Exercise on Named Entity Recognition\n",
        "\n",
        "Implement a **Recurrent Neural Network model** (**[Bidirectional LSTM-CRF Models for Sequence Tagging](https://arxiv.org/pdf/1508.01991)**) to extract named entities from text. Entity labels are encoded using the **BIO notation**, where each entity label is assigned a **B** (Beginning) or **I** (Inside) tag. The **B-** tag indicates the beginning of an entity, while the **I-** tag marks words inside the same entity.\n",
        "\n",
        "These tags help identify multi-word entities. For example, in the phrase **\"World War II\"**, the labels would be: **(B-eve, I-eve, I-eve)**. Words that do not belong to any entity are labeled as **O** (Outside).\n",
        "\n",
        "- **Data**: [Annotated GMB Corpus](https://www.kaggle.com/datasets/shoumikgoswami/annotated-gmb-corpus?select=GMB_dataset.txt) *(the last 10% of rows serve as the test set).*\n",
        "\n",
        "**Note**: Submit only a **single Jupyter Notebook file** that can handle all tasks, including data downloading, preprocessing, model training, and model evaluation. *(Submissions that do not follow the guidelines will receive a score of 0.)*\n",
        "\n",
        "## Grading Criteria\n",
        "\n",
        "For valid submissions, scores will be assigned based on the **leaderboard ranking** (**strictly greater**):\n",
        "\n",
        "- **Top 25%** → **10 points**\n",
        "- **25% - 50%** → **9.0 points**\n",
        "- **50% - 75%** → **8.0 points**\n",
        "- **75% - 100%** → **7.0 points**\n"
      ],
      "metadata": {
        "id": "9uMy639TowIi"
      }
    },
    {
      "cell_type": "markdown",
      "source": [
        "# Install Packages"
      ],
      "metadata": {
        "id": "fXGT_970ncFS"
      }
    },
    {
      "cell_type": "code",
      "execution_count": 44,
      "metadata": {
        "collapsed": true,
        "execution": {
          "iopub.execute_input": "2025-03-20T13:12:37.933103Z",
          "iopub.status.busy": "2025-03-20T13:12:37.932808Z",
          "iopub.status.idle": "2025-03-20T13:13:22.180344Z",
          "shell.execute_reply": "2025-03-20T13:13:22.179457Z",
          "shell.execute_reply.started": "2025-03-20T13:12:37.933060Z"
        },
        "jupyter": {
          "outputs_hidden": true
        },
        "colab": {
          "base_uri": "https://localhost:8080/"
        },
        "id": "FMIq_zbtGKAw",
        "outputId": "b114e2b6-ea41-4616-a291-59afa77635cf"
      },
      "outputs": [
        {
          "output_type": "stream",
          "name": "stdout",
          "text": [
            "Requirement already satisfied: deep_translator in /usr/local/lib/python3.11/dist-packages (1.11.4)\n",
            "Requirement already satisfied: beautifulsoup4<5.0.0,>=4.9.1 in /usr/local/lib/python3.11/dist-packages (from deep_translator) (4.13.3)\n",
            "Requirement already satisfied: requests<3.0.0,>=2.23.0 in /usr/local/lib/python3.11/dist-packages (from deep_translator) (2.32.3)\n",
            "Requirement already satisfied: soupsieve>1.2 in /usr/local/lib/python3.11/dist-packages (from beautifulsoup4<5.0.0,>=4.9.1->deep_translator) (2.6)\n",
            "Requirement already satisfied: typing-extensions>=4.0.0 in /usr/local/lib/python3.11/dist-packages (from beautifulsoup4<5.0.0,>=4.9.1->deep_translator) (4.12.2)\n",
            "Requirement already satisfied: charset-normalizer<4,>=2 in /usr/local/lib/python3.11/dist-packages (from requests<3.0.0,>=2.23.0->deep_translator) (3.4.1)\n",
            "Requirement already satisfied: idna<4,>=2.5 in /usr/local/lib/python3.11/dist-packages (from requests<3.0.0,>=2.23.0->deep_translator) (3.10)\n",
            "Requirement already satisfied: urllib3<3,>=1.21.1 in /usr/local/lib/python3.11/dist-packages (from requests<3.0.0,>=2.23.0->deep_translator) (2.3.0)\n",
            "Requirement already satisfied: certifi>=2017.4.17 in /usr/local/lib/python3.11/dist-packages (from requests<3.0.0,>=2.23.0->deep_translator) (2025.1.31)\n",
            "Requirement already satisfied: pandas in /usr/local/lib/python3.11/dist-packages (2.2.2)\n",
            "Requirement already satisfied: numpy in /usr/local/lib/python3.11/dist-packages (1.26.4)\n",
            "Requirement already satisfied: gdown in /usr/local/lib/python3.11/dist-packages (5.2.0)\n",
            "Requirement already satisfied: nltk in /usr/local/lib/python3.11/dist-packages (3.9.1)\n",
            "Requirement already satisfied: matplotlib in /usr/local/lib/python3.11/dist-packages (3.10.0)\n",
            "Requirement already satisfied: deep-translator in /usr/local/lib/python3.11/dist-packages (1.11.4)\n",
            "Requirement already satisfied: python-dateutil>=2.8.2 in /usr/local/lib/python3.11/dist-packages (from pandas) (2.8.2)\n",
            "Requirement already satisfied: pytz>=2020.1 in /usr/local/lib/python3.11/dist-packages (from pandas) (2025.1)\n",
            "Requirement already satisfied: tzdata>=2022.7 in /usr/local/lib/python3.11/dist-packages (from pandas) (2025.1)\n",
            "Requirement already satisfied: beautifulsoup4 in /usr/local/lib/python3.11/dist-packages (from gdown) (4.13.3)\n",
            "Requirement already satisfied: filelock in /usr/local/lib/python3.11/dist-packages (from gdown) (3.18.0)\n",
            "Requirement already satisfied: requests[socks] in /usr/local/lib/python3.11/dist-packages (from gdown) (2.32.3)\n",
            "Requirement already satisfied: tqdm in /usr/local/lib/python3.11/dist-packages (from gdown) (4.67.1)\n",
            "Requirement already satisfied: click in /usr/local/lib/python3.11/dist-packages (from nltk) (8.1.8)\n",
            "Requirement already satisfied: joblib in /usr/local/lib/python3.11/dist-packages (from nltk) (1.4.2)\n",
            "Requirement already satisfied: regex>=2021.8.3 in /usr/local/lib/python3.11/dist-packages (from nltk) (2024.11.6)\n",
            "Requirement already satisfied: contourpy>=1.0.1 in /usr/local/lib/python3.11/dist-packages (from matplotlib) (1.3.1)\n",
            "Requirement already satisfied: cycler>=0.10 in /usr/local/lib/python3.11/dist-packages (from matplotlib) (0.12.1)\n",
            "Requirement already satisfied: fonttools>=4.22.0 in /usr/local/lib/python3.11/dist-packages (from matplotlib) (4.56.0)\n",
            "Requirement already satisfied: kiwisolver>=1.3.1 in /usr/local/lib/python3.11/dist-packages (from matplotlib) (1.4.8)\n",
            "Requirement already satisfied: packaging>=20.0 in /usr/local/lib/python3.11/dist-packages (from matplotlib) (24.2)\n",
            "Requirement already satisfied: pillow>=8 in /usr/local/lib/python3.11/dist-packages (from matplotlib) (11.1.0)\n",
            "Requirement already satisfied: pyparsing>=2.3.1 in /usr/local/lib/python3.11/dist-packages (from matplotlib) (3.2.1)\n",
            "Requirement already satisfied: soupsieve>1.2 in /usr/local/lib/python3.11/dist-packages (from beautifulsoup4->gdown) (2.6)\n",
            "Requirement already satisfied: typing-extensions>=4.0.0 in /usr/local/lib/python3.11/dist-packages (from beautifulsoup4->gdown) (4.12.2)\n",
            "Requirement already satisfied: six>=1.5 in /usr/local/lib/python3.11/dist-packages (from python-dateutil>=2.8.2->pandas) (1.17.0)\n",
            "Requirement already satisfied: charset-normalizer<4,>=2 in /usr/local/lib/python3.11/dist-packages (from requests[socks]->gdown) (3.4.1)\n",
            "Requirement already satisfied: idna<4,>=2.5 in /usr/local/lib/python3.11/dist-packages (from requests[socks]->gdown) (3.10)\n",
            "Requirement already satisfied: urllib3<3,>=1.21.1 in /usr/local/lib/python3.11/dist-packages (from requests[socks]->gdown) (2.3.0)\n",
            "Requirement already satisfied: certifi>=2017.4.17 in /usr/local/lib/python3.11/dist-packages (from requests[socks]->gdown) (2025.1.31)\n",
            "Requirement already satisfied: PySocks!=1.5.7,>=1.5.6 in /usr/local/lib/python3.11/dist-packages (from requests[socks]->gdown) (1.7.1)\n",
            "Requirement already satisfied: seqeval in /usr/local/lib/python3.11/dist-packages (1.2.2)\n",
            "Requirement already satisfied: numpy>=1.14.0 in /usr/local/lib/python3.11/dist-packages (from seqeval) (1.26.4)\n",
            "Requirement already satisfied: scikit-learn>=0.21.3 in /usr/local/lib/python3.11/dist-packages (from seqeval) (1.6.1)\n",
            "Requirement already satisfied: scipy>=1.6.0 in /usr/local/lib/python3.11/dist-packages (from scikit-learn>=0.21.3->seqeval) (1.14.1)\n",
            "Requirement already satisfied: joblib>=1.2.0 in /usr/local/lib/python3.11/dist-packages (from scikit-learn>=0.21.3->seqeval) (1.4.2)\n",
            "Requirement already satisfied: threadpoolctl>=3.1.0 in /usr/local/lib/python3.11/dist-packages (from scikit-learn>=0.21.3->seqeval) (3.6.0)\n",
            "Requirement already satisfied: tensorflow in /usr/local/lib/python3.11/dist-packages (2.15.0)\n",
            "Collecting tensorflow-addons\n",
            "  Downloading tensorflow_addons-0.23.0-cp311-cp311-manylinux_2_17_x86_64.manylinux2014_x86_64.whl.metadata (1.8 kB)\n",
            "Requirement already satisfied: keras in /usr/local/lib/python3.11/dist-packages (2.15.0)\n",
            "Requirement already satisfied: absl-py>=1.0.0 in /usr/local/lib/python3.11/dist-packages (from tensorflow) (1.4.0)\n",
            "Requirement already satisfied: astunparse>=1.6.0 in /usr/local/lib/python3.11/dist-packages (from tensorflow) (1.6.3)\n",
            "Requirement already satisfied: flatbuffers>=23.5.26 in /usr/local/lib/python3.11/dist-packages (from tensorflow) (25.2.10)\n",
            "Requirement already satisfied: gast!=0.5.0,!=0.5.1,!=0.5.2,>=0.2.1 in /usr/local/lib/python3.11/dist-packages (from tensorflow) (0.6.0)\n",
            "Requirement already satisfied: google-pasta>=0.1.1 in /usr/local/lib/python3.11/dist-packages (from tensorflow) (0.2.0)\n",
            "Requirement already satisfied: h5py>=2.9.0 in /usr/local/lib/python3.11/dist-packages (from tensorflow) (3.13.0)\n",
            "Requirement already satisfied: libclang>=13.0.0 in /usr/local/lib/python3.11/dist-packages (from tensorflow) (18.1.1)\n",
            "Requirement already satisfied: ml-dtypes~=0.2.0 in /usr/local/lib/python3.11/dist-packages (from tensorflow) (0.2.0)\n",
            "Requirement already satisfied: numpy<2.0.0,>=1.23.5 in /usr/local/lib/python3.11/dist-packages (from tensorflow) (1.26.4)\n",
            "Requirement already satisfied: opt-einsum>=2.3.2 in /usr/local/lib/python3.11/dist-packages (from tensorflow) (3.4.0)\n",
            "Requirement already satisfied: packaging in /usr/local/lib/python3.11/dist-packages (from tensorflow) (24.2)\n",
            "Requirement already satisfied: protobuf!=4.21.0,!=4.21.1,!=4.21.2,!=4.21.3,!=4.21.4,!=4.21.5,<5.0.0dev,>=3.20.3 in /usr/local/lib/python3.11/dist-packages (from tensorflow) (4.25.6)\n",
            "Requirement already satisfied: setuptools in /usr/local/lib/python3.11/dist-packages (from tensorflow) (75.1.0)\n",
            "Requirement already satisfied: six>=1.12.0 in /usr/local/lib/python3.11/dist-packages (from tensorflow) (1.17.0)\n",
            "Requirement already satisfied: termcolor>=1.1.0 in /usr/local/lib/python3.11/dist-packages (from tensorflow) (2.5.0)\n",
            "Requirement already satisfied: typing-extensions>=3.6.6 in /usr/local/lib/python3.11/dist-packages (from tensorflow) (4.12.2)\n",
            "Requirement already satisfied: wrapt<1.15,>=1.11.0 in /usr/local/lib/python3.11/dist-packages (from tensorflow) (1.14.1)\n",
            "Requirement already satisfied: tensorflow-io-gcs-filesystem>=0.23.1 in /usr/local/lib/python3.11/dist-packages (from tensorflow) (0.37.1)\n",
            "Requirement already satisfied: grpcio<2.0,>=1.24.3 in /usr/local/lib/python3.11/dist-packages (from tensorflow) (1.71.0)\n",
            "Requirement already satisfied: tensorboard<2.16,>=2.15 in /usr/local/lib/python3.11/dist-packages (from tensorflow) (2.15.2)\n",
            "Requirement already satisfied: tensorflow-estimator<2.16,>=2.15.0 in /usr/local/lib/python3.11/dist-packages (from tensorflow) (2.15.0)\n",
            "Collecting typeguard<3.0.0,>=2.7 (from tensorflow-addons)\n",
            "  Downloading typeguard-2.13.3-py3-none-any.whl.metadata (3.6 kB)\n",
            "Requirement already satisfied: wheel<1.0,>=0.23.0 in /usr/local/lib/python3.11/dist-packages (from astunparse>=1.6.0->tensorflow) (0.45.1)\n",
            "Requirement already satisfied: google-auth<3,>=1.6.3 in /usr/local/lib/python3.11/dist-packages (from tensorboard<2.16,>=2.15->tensorflow) (2.38.0)\n",
            "Requirement already satisfied: google-auth-oauthlib<2,>=0.5 in /usr/local/lib/python3.11/dist-packages (from tensorboard<2.16,>=2.15->tensorflow) (1.2.1)\n",
            "Requirement already satisfied: markdown>=2.6.8 in /usr/local/lib/python3.11/dist-packages (from tensorboard<2.16,>=2.15->tensorflow) (3.7)\n",
            "Requirement already satisfied: requests<3,>=2.21.0 in /usr/local/lib/python3.11/dist-packages (from tensorboard<2.16,>=2.15->tensorflow) (2.32.3)\n",
            "Requirement already satisfied: tensorboard-data-server<0.8.0,>=0.7.0 in /usr/local/lib/python3.11/dist-packages (from tensorboard<2.16,>=2.15->tensorflow) (0.7.2)\n",
            "Requirement already satisfied: werkzeug>=1.0.1 in /usr/local/lib/python3.11/dist-packages (from tensorboard<2.16,>=2.15->tensorflow) (3.1.3)\n",
            "Requirement already satisfied: cachetools<6.0,>=2.0.0 in /usr/local/lib/python3.11/dist-packages (from google-auth<3,>=1.6.3->tensorboard<2.16,>=2.15->tensorflow) (5.5.2)\n",
            "Requirement already satisfied: pyasn1-modules>=0.2.1 in /usr/local/lib/python3.11/dist-packages (from google-auth<3,>=1.6.3->tensorboard<2.16,>=2.15->tensorflow) (0.4.1)\n",
            "Requirement already satisfied: rsa<5,>=3.1.4 in /usr/local/lib/python3.11/dist-packages (from google-auth<3,>=1.6.3->tensorboard<2.16,>=2.15->tensorflow) (4.9)\n",
            "Requirement already satisfied: requests-oauthlib>=0.7.0 in /usr/local/lib/python3.11/dist-packages (from google-auth-oauthlib<2,>=0.5->tensorboard<2.16,>=2.15->tensorflow) (2.0.0)\n",
            "Requirement already satisfied: charset-normalizer<4,>=2 in /usr/local/lib/python3.11/dist-packages (from requests<3,>=2.21.0->tensorboard<2.16,>=2.15->tensorflow) (3.4.1)\n",
            "Requirement already satisfied: idna<4,>=2.5 in /usr/local/lib/python3.11/dist-packages (from requests<3,>=2.21.0->tensorboard<2.16,>=2.15->tensorflow) (3.10)\n",
            "Requirement already satisfied: urllib3<3,>=1.21.1 in /usr/local/lib/python3.11/dist-packages (from requests<3,>=2.21.0->tensorboard<2.16,>=2.15->tensorflow) (2.3.0)\n",
            "Requirement already satisfied: certifi>=2017.4.17 in /usr/local/lib/python3.11/dist-packages (from requests<3,>=2.21.0->tensorboard<2.16,>=2.15->tensorflow) (2025.1.31)\n",
            "Requirement already satisfied: MarkupSafe>=2.1.1 in /usr/local/lib/python3.11/dist-packages (from werkzeug>=1.0.1->tensorboard<2.16,>=2.15->tensorflow) (3.0.2)\n",
            "Requirement already satisfied: pyasn1<0.7.0,>=0.4.6 in /usr/local/lib/python3.11/dist-packages (from pyasn1-modules>=0.2.1->google-auth<3,>=1.6.3->tensorboard<2.16,>=2.15->tensorflow) (0.6.1)\n",
            "Requirement already satisfied: oauthlib>=3.0.0 in /usr/local/lib/python3.11/dist-packages (from requests-oauthlib>=0.7.0->google-auth-oauthlib<2,>=0.5->tensorboard<2.16,>=2.15->tensorflow) (3.2.2)\n",
            "Downloading tensorflow_addons-0.23.0-cp311-cp311-manylinux_2_17_x86_64.manylinux2014_x86_64.whl (611 kB)\n",
            "\u001b[2K   \u001b[90m━━━━━━━━━━━━━━━━━━━━━━━━━━━━━━━━━━━━━━━━\u001b[0m \u001b[32m611.8/611.8 kB\u001b[0m \u001b[31m26.4 MB/s\u001b[0m eta \u001b[36m0:00:00\u001b[0m\n",
            "\u001b[?25hDownloading typeguard-2.13.3-py3-none-any.whl (17 kB)\n",
            "Installing collected packages: typeguard, tensorflow-addons\n",
            "  Attempting uninstall: typeguard\n",
            "    Found existing installation: typeguard 4.4.2\n",
            "    Uninstalling typeguard-4.4.2:\n",
            "      Successfully uninstalled typeguard-4.4.2\n",
            "\u001b[31mERROR: pip's dependency resolver does not currently take into account all the packages that are installed. This behaviour is the source of the following dependency conflicts.\n",
            "inflect 7.5.0 requires typeguard>=4.0.1, but you have typeguard 2.13.3 which is incompatible.\u001b[0m\u001b[31m\n",
            "\u001b[0mSuccessfully installed tensorflow-addons-0.23.0 typeguard-2.13.3\n"
          ]
        }
      ],
      "source": [
        "%pip install deep_translator\n",
        "%pip install pandas numpy gdown nltk matplotlib deep-translator\n",
        "%pip install seqeval\n",
        "%pip install tensorflow tensorflow-addons keras\n"
      ]
    },
    {
      "cell_type": "code",
      "execution_count": null,
      "metadata": {
        "collapsed": true,
        "execution": {
          "iopub.execute_input": "2025-03-20T13:13:22.182392Z",
          "iopub.status.busy": "2025-03-20T13:13:22.182194Z",
          "iopub.status.idle": "2025-03-20T13:13:29.736255Z",
          "shell.execute_reply": "2025-03-20T13:13:29.735409Z",
          "shell.execute_reply.started": "2025-03-20T13:13:22.182357Z"
        },
        "jupyter": {
          "outputs_hidden": true
        },
        "id": "J1FPCbItGKA3"
      },
      "outputs": [],
      "source": [
        "# %pip install git+https://www.github.com/keras-team/keras-contrib.git"
      ]
    },
    {
      "cell_type": "markdown",
      "source": [
        "# Import Libraries"
      ],
      "metadata": {
        "id": "yOeu5QG0o2Cq"
      }
    },
    {
      "cell_type": "code",
      "execution_count": 45,
      "metadata": {
        "_cell_guid": "79c7e3d0-c299-4dcb-8224-4455121ee9b0",
        "_uuid": "d629ff2d2480ee46fbb7e2d37f6b5fab8052498a",
        "execution": {
          "iopub.execute_input": "2025-03-20T13:35:35.855140Z",
          "iopub.status.busy": "2025-03-20T13:35:35.854850Z",
          "iopub.status.idle": "2025-03-20T13:35:35.864395Z",
          "shell.execute_reply": "2025-03-20T13:35:35.863653Z",
          "shell.execute_reply.started": "2025-03-20T13:35:35.855098Z"
        },
        "colab": {
          "base_uri": "https://localhost:8080/"
        },
        "collapsed": true,
        "id": "VniEEa6CGKA4",
        "outputId": "4395d5b1-74b0-49c1-d860-1b0f0e20890d"
      },
      "outputs": [
        {
          "output_type": "stream",
          "name": "stderr",
          "text": [
            "/usr/local/lib/python3.11/dist-packages/tensorflow_addons/utils/tfa_eol_msg.py:23: UserWarning: \n",
            "\n",
            "TensorFlow Addons (TFA) has ended development and introduction of new features.\n",
            "TFA has entered a minimal maintenance and release mode until a planned end of life in May 2024.\n",
            "Please modify downstream libraries to take dependencies from other repositories in our TensorFlow community (e.g. Keras, Keras-CV, and Keras-NLP). \n",
            "\n",
            "For more information see: https://github.com/tensorflow/addons/issues/2807 \n",
            "\n",
            "  warnings.warn(\n",
            "[nltk_data] Downloading package wordnet to /root/nltk_data...\n",
            "[nltk_data]   Package wordnet is already up-to-date!\n"
          ]
        },
        {
          "output_type": "execute_result",
          "data": {
            "text/plain": [
              "True"
            ]
          },
          "metadata": {},
          "execution_count": 45
        }
      ],
      "source": [
        "import pandas as pd\n",
        "import numpy as np\n",
        "import re\n",
        "import os\n",
        "import gdown\n",
        "import string\n",
        "import random\n",
        "import nltk\n",
        "import tensorflow as tf\n",
        "from nltk.corpus import wordnet\n",
        "import matplotlib.pyplot as plt\n",
        "from deep_translator import GoogleTranslator\n",
        "\n",
        "from keras.models import Model, Sequential, load_model\n",
        "from keras.layers import Input\n",
        "from keras.optimizers import Adam\n",
        "from keras.regularizers import l2\n",
        "from keras.layers import LSTM, Embedding, Dense, TimeDistributed, Dropout, Bidirectional\n",
        "# from keras_contrib.layers import CRF\n",
        "\n",
        "import tensorflow_addons as tfa\n",
        "from tensorflow_addons.text import crf_log_likelihood\n",
        "from tensorflow_addons.layers import CRF\n",
        "\n",
        "import keras as k\n",
        "\n",
        "from keras.preprocessing.sequence import pad_sequences\n",
        "from keras.utils import to_categorical\n",
        "\n",
        "from seqeval.metrics import accuracy_score, precision_score, recall_score, f1_score, classification_report\n",
        "\n",
        "# Ensure NLTK data is available\n",
        "nltk.download('wordnet')\n"
      ]
    },
    {
      "cell_type": "markdown",
      "source": [
        "# Download data of the kaggle dataset from the pre-downloaded gdrive link"
      ],
      "metadata": {
        "id": "0P5ZK8C8o4qS"
      }
    },
    {
      "cell_type": "code",
      "execution_count": 46,
      "metadata": {
        "execution": {
          "iopub.execute_input": "2025-03-20T13:13:36.507226Z",
          "iopub.status.busy": "2025-03-20T13:13:36.506995Z",
          "iopub.status.idle": "2025-03-20T13:13:45.057442Z",
          "shell.execute_reply": "2025-03-20T13:13:45.056765Z",
          "shell.execute_reply.started": "2025-03-20T13:13:36.507178Z"
        },
        "colab": {
          "base_uri": "https://localhost:8080/"
        },
        "id": "W_aPKGrWGKA6",
        "outputId": "dbd08831-f8a5-4d8f-f03e-35390051c512"
      },
      "outputs": [
        {
          "output_type": "stream",
          "name": "stderr",
          "text": [
            "Retrieving folder contents\n"
          ]
        },
        {
          "output_type": "stream",
          "name": "stdout",
          "text": [
            "Processing file 125vSHeQajcbRTMJiq4Hc5WPH-GcCxkVr annotated-gmb-corpus.zip\n",
            "Processing file 1gTWviZN3RcBUzm--_ife7qCUuTb1H8lr GMB_dataset.txt\n"
          ]
        },
        {
          "output_type": "stream",
          "name": "stderr",
          "text": [
            "Retrieving folder contents completed\n",
            "Building directory structure\n",
            "Building directory structure completed\n",
            "Downloading...\n",
            "From: https://drive.google.com/uc?id=125vSHeQajcbRTMJiq4Hc5WPH-GcCxkVr\n",
            "To: /content/NLP_Data_GDrive/annotated-gmb-corpus.zip\n",
            "100%|██████████| 473k/473k [00:00<00:00, 99.4MB/s]\n",
            "Downloading...\n",
            "From: https://drive.google.com/uc?id=1gTWviZN3RcBUzm--_ife7qCUuTb1H8lr\n",
            "To: /content/NLP_Data_GDrive/GMB_dataset.txt\n",
            "100%|██████████| 1.60M/1.60M [00:00<00:00, 102MB/s]\n",
            "Download completed\n"
          ]
        },
        {
          "output_type": "execute_result",
          "data": {
            "text/plain": [
              "['./NLP_Data_GDrive/annotated-gmb-corpus.zip',\n",
              " './NLP_Data_GDrive/GMB_dataset.txt']"
            ]
          },
          "metadata": {},
          "execution_count": 46
        }
      ],
      "source": [
        "# https://drive.google.com/drive/folders/1GbEc7KGjuiByArwjt3CS69Lrk-ttJ4Ly?usp=sharing\n",
        "\n",
        "# URL of the shared folder\n",
        "folder_url = \"https://drive.google.com/drive/folders/1GbEc7KGjuiByArwjt3CS69Lrk-ttJ4Ly?usp=sharing\"\n",
        "\n",
        "# Output directory where the folder will be saved\n",
        "output_dir = \"./NLP_Data_GDrive\"\n",
        "\n",
        "# Download the folder\n",
        "gdown.download_folder(folder_url, output=output_dir, quiet=False, use_cookies=False)\n"
      ]
    },
    {
      "cell_type": "code",
      "execution_count": 85,
      "metadata": {
        "execution": {
          "iopub.execute_input": "2025-03-20T13:13:45.066694Z",
          "iopub.status.busy": "2025-03-20T13:13:45.066287Z",
          "iopub.status.idle": "2025-03-20T13:13:45.118880Z",
          "shell.execute_reply": "2025-03-20T13:13:45.118329Z",
          "shell.execute_reply.started": "2025-03-20T13:13:45.066528Z"
        },
        "colab": {
          "base_uri": "https://localhost:8080/"
        },
        "id": "OxlJUW1MGKA8",
        "outputId": "3f5d114a-11b8-44f0-9d98-072201a1ab83"
      },
      "outputs": [
        {
          "output_type": "stream",
          "name": "stderr",
          "text": [
            "<ipython-input-85-74466524684d>:12: FutureWarning: Series.fillna with 'method' is deprecated and will raise in a future version. Use obj.ffill() or obj.bfill() instead.\n",
            "  df[\"Sentence#\"] = df[\"Sentence#\"].fillna(method=\"ffill\")\n"
          ]
        }
      ],
      "source": [
        "# Load dataset (Ensure file path is correct)\n",
        "file_path = os.path.join(output_dir, \"GMB_dataset.txt\")  # Adjust file path if needed\n",
        "\n",
        "# Check if files exist\n",
        "if not os.path.exists(file_path):\n",
        "    raise FileNotFoundError(\"File not found. Check the download process and file paths.\")\n",
        "\n",
        "# df = pd.read_csv(file_path, delimiter=\"\\t\", names=[\"Sentence#\", \"Word\", \"POS\", \"Tag\"], skiprows=1)\n",
        "df = pd.read_csv(file_path, delimiter=\"\\t\", names=[\"Sentence#\", \"Word\", \"POS\", \"Tag\"], skiprows=1, encoding=\"latin1\")\n",
        "\n",
        "# Fill missing Sentence# values\n",
        "df[\"Sentence#\"] = df[\"Sentence#\"].fillna(method=\"ffill\")\n",
        "data = df"
      ]
    },
    {
      "cell_type": "code",
      "execution_count": 86,
      "metadata": {
        "execution": {
          "iopub.execute_input": "2025-03-20T13:13:45.120275Z",
          "iopub.status.busy": "2025-03-20T13:13:45.119997Z",
          "iopub.status.idle": "2025-03-20T13:13:45.138059Z",
          "shell.execute_reply": "2025-03-20T13:13:45.137257Z",
          "shell.execute_reply.started": "2025-03-20T13:13:45.120219Z"
        },
        "colab": {
          "base_uri": "https://localhost:8080/",
          "height": 363
        },
        "id": "KMVLmLjqGKA8",
        "outputId": "3f9fbecd-2f6f-4d21-84e9-a42f16c55dfc"
      },
      "outputs": [
        {
          "output_type": "execute_result",
          "data": {
            "text/plain": [
              "       Sentence#       Word  POS    Tag\n",
              "66151     2999.0  reporters  NNS      O\n",
              "66152     2999.0          a   DT      O\n",
              "66153     2999.0      trial   NN      O\n",
              "66154     2999.0       date   NN      O\n",
              "66155     2999.0      could   MD      O\n",
              "66156     2999.0         be   VB      O\n",
              "66157     2999.0  announced  VBN      O\n",
              "66158     2999.0     within   IN  B-tim\n",
              "66159     2999.0       days  NNS      O\n",
              "66160     2999.0          .    .      O"
            ],
            "text/html": [
              "\n",
              "  <div id=\"df-8404a781-3a98-41f9-add3-b9625d9a2959\" class=\"colab-df-container\">\n",
              "    <div>\n",
              "<style scoped>\n",
              "    .dataframe tbody tr th:only-of-type {\n",
              "        vertical-align: middle;\n",
              "    }\n",
              "\n",
              "    .dataframe tbody tr th {\n",
              "        vertical-align: top;\n",
              "    }\n",
              "\n",
              "    .dataframe thead th {\n",
              "        text-align: right;\n",
              "    }\n",
              "</style>\n",
              "<table border=\"1\" class=\"dataframe\">\n",
              "  <thead>\n",
              "    <tr style=\"text-align: right;\">\n",
              "      <th></th>\n",
              "      <th>Sentence#</th>\n",
              "      <th>Word</th>\n",
              "      <th>POS</th>\n",
              "      <th>Tag</th>\n",
              "    </tr>\n",
              "  </thead>\n",
              "  <tbody>\n",
              "    <tr>\n",
              "      <th>66151</th>\n",
              "      <td>2999.0</td>\n",
              "      <td>reporters</td>\n",
              "      <td>NNS</td>\n",
              "      <td>O</td>\n",
              "    </tr>\n",
              "    <tr>\n",
              "      <th>66152</th>\n",
              "      <td>2999.0</td>\n",
              "      <td>a</td>\n",
              "      <td>DT</td>\n",
              "      <td>O</td>\n",
              "    </tr>\n",
              "    <tr>\n",
              "      <th>66153</th>\n",
              "      <td>2999.0</td>\n",
              "      <td>trial</td>\n",
              "      <td>NN</td>\n",
              "      <td>O</td>\n",
              "    </tr>\n",
              "    <tr>\n",
              "      <th>66154</th>\n",
              "      <td>2999.0</td>\n",
              "      <td>date</td>\n",
              "      <td>NN</td>\n",
              "      <td>O</td>\n",
              "    </tr>\n",
              "    <tr>\n",
              "      <th>66155</th>\n",
              "      <td>2999.0</td>\n",
              "      <td>could</td>\n",
              "      <td>MD</td>\n",
              "      <td>O</td>\n",
              "    </tr>\n",
              "    <tr>\n",
              "      <th>66156</th>\n",
              "      <td>2999.0</td>\n",
              "      <td>be</td>\n",
              "      <td>VB</td>\n",
              "      <td>O</td>\n",
              "    </tr>\n",
              "    <tr>\n",
              "      <th>66157</th>\n",
              "      <td>2999.0</td>\n",
              "      <td>announced</td>\n",
              "      <td>VBN</td>\n",
              "      <td>O</td>\n",
              "    </tr>\n",
              "    <tr>\n",
              "      <th>66158</th>\n",
              "      <td>2999.0</td>\n",
              "      <td>within</td>\n",
              "      <td>IN</td>\n",
              "      <td>B-tim</td>\n",
              "    </tr>\n",
              "    <tr>\n",
              "      <th>66159</th>\n",
              "      <td>2999.0</td>\n",
              "      <td>days</td>\n",
              "      <td>NNS</td>\n",
              "      <td>O</td>\n",
              "    </tr>\n",
              "    <tr>\n",
              "      <th>66160</th>\n",
              "      <td>2999.0</td>\n",
              "      <td>.</td>\n",
              "      <td>.</td>\n",
              "      <td>O</td>\n",
              "    </tr>\n",
              "  </tbody>\n",
              "</table>\n",
              "</div>\n",
              "    <div class=\"colab-df-buttons\">\n",
              "      \n",
              "  <div class=\"colab-df-container\">\n",
              "    <button class=\"colab-df-convert\" onclick=\"convertToInteractive('df-8404a781-3a98-41f9-add3-b9625d9a2959')\"\n",
              "            title=\"Convert this dataframe to an interactive table.\"\n",
              "            style=\"display:none;\">\n",
              "      \n",
              "  <svg xmlns=\"http://www.w3.org/2000/svg\" height=\"24px\" viewBox=\"0 -960 960 960\">\n",
              "    <path d=\"M120-120v-720h720v720H120Zm60-500h600v-160H180v160Zm220 220h160v-160H400v160Zm0 220h160v-160H400v160ZM180-400h160v-160H180v160Zm440 0h160v-160H620v160ZM180-180h160v-160H180v160Zm440 0h160v-160H620v160Z\"/>\n",
              "  </svg>\n",
              "    </button>\n",
              "    \n",
              "  <style>\n",
              "    .colab-df-container {\n",
              "      display:flex;\n",
              "      gap: 12px;\n",
              "    }\n",
              "\n",
              "    .colab-df-convert {\n",
              "      background-color: #E8F0FE;\n",
              "      border: none;\n",
              "      border-radius: 50%;\n",
              "      cursor: pointer;\n",
              "      display: none;\n",
              "      fill: #1967D2;\n",
              "      height: 32px;\n",
              "      padding: 0 0 0 0;\n",
              "      width: 32px;\n",
              "    }\n",
              "\n",
              "    .colab-df-convert:hover {\n",
              "      background-color: #E2EBFA;\n",
              "      box-shadow: 0px 1px 2px rgba(60, 64, 67, 0.3), 0px 1px 3px 1px rgba(60, 64, 67, 0.15);\n",
              "      fill: #174EA6;\n",
              "    }\n",
              "\n",
              "    .colab-df-buttons div {\n",
              "      margin-bottom: 4px;\n",
              "    }\n",
              "\n",
              "    [theme=dark] .colab-df-convert {\n",
              "      background-color: #3B4455;\n",
              "      fill: #D2E3FC;\n",
              "    }\n",
              "\n",
              "    [theme=dark] .colab-df-convert:hover {\n",
              "      background-color: #434B5C;\n",
              "      box-shadow: 0px 1px 3px 1px rgba(0, 0, 0, 0.15);\n",
              "      filter: drop-shadow(0px 1px 2px rgba(0, 0, 0, 0.3));\n",
              "      fill: #FFFFFF;\n",
              "    }\n",
              "  </style>\n",
              "\n",
              "    <script>\n",
              "      const buttonEl =\n",
              "        document.querySelector('#df-8404a781-3a98-41f9-add3-b9625d9a2959 button.colab-df-convert');\n",
              "      buttonEl.style.display =\n",
              "        google.colab.kernel.accessAllowed ? 'block' : 'none';\n",
              "\n",
              "      async function convertToInteractive(key) {\n",
              "        const element = document.querySelector('#df-8404a781-3a98-41f9-add3-b9625d9a2959');\n",
              "        const dataTable =\n",
              "          await google.colab.kernel.invokeFunction('convertToInteractive',\n",
              "                                                    [key], {});\n",
              "        if (!dataTable) return;\n",
              "\n",
              "        const docLinkHtml = 'Like what you see? Visit the ' +\n",
              "          '<a target=\"_blank\" href=https://colab.research.google.com/notebooks/data_table.ipynb>data table notebook</a>'\n",
              "          + ' to learn more about interactive tables.';\n",
              "        element.innerHTML = '';\n",
              "        dataTable['output_type'] = 'display_data';\n",
              "        await google.colab.output.renderOutput(dataTable, element);\n",
              "        const docLink = document.createElement('div');\n",
              "        docLink.innerHTML = docLinkHtml;\n",
              "        element.appendChild(docLink);\n",
              "      }\n",
              "    </script>\n",
              "  </div>\n",
              "  \n",
              "    </div>\n",
              "  </div>\n",
              "  "
            ]
          },
          "metadata": {},
          "execution_count": 86
        }
      ],
      "source": [
        "data.tail(10)"
      ]
    },
    {
      "cell_type": "code",
      "execution_count": 84,
      "metadata": {
        "execution": {
          "iopub.execute_input": "2025-03-20T13:13:45.139468Z",
          "iopub.status.busy": "2025-03-20T13:13:45.139272Z",
          "iopub.status.idle": "2025-03-20T13:13:45.151185Z",
          "shell.execute_reply": "2025-03-20T13:13:45.150317Z",
          "shell.execute_reply.started": "2025-03-20T13:13:45.139433Z"
        },
        "id": "lvDtyNijGKA9"
      },
      "outputs": [],
      "source": [
        "# data.head(30)"
      ]
    },
    {
      "cell_type": "code",
      "execution_count": 87,
      "metadata": {
        "execution": {
          "iopub.execute_input": "2025-03-20T13:13:45.152748Z",
          "iopub.status.busy": "2025-03-20T13:13:45.152419Z",
          "iopub.status.idle": "2025-03-20T13:13:45.175272Z",
          "shell.execute_reply": "2025-03-20T13:13:45.174490Z",
          "shell.execute_reply.started": "2025-03-20T13:13:45.152683Z"
        },
        "colab": {
          "base_uri": "https://localhost:8080/"
        },
        "id": "ieAQViWQGKA-",
        "outputId": "06fbc5ea-331a-4d44-a5ed-e16b78ec1b8f"
      },
      "outputs": [
        {
          "output_type": "stream",
          "name": "stdout",
          "text": [
            "<class 'pandas.core.frame.DataFrame'>\n",
            "Index: 66161 entries, 0 to 66160\n",
            "Data columns (total 4 columns):\n",
            " #   Column     Non-Null Count  Dtype  \n",
            "---  ------     --------------  -----  \n",
            " 0   Sentence#  66161 non-null  float64\n",
            " 1   Word       66161 non-null  object \n",
            " 2   POS        66161 non-null  object \n",
            " 3   Tag        66161 non-null  object \n",
            "dtypes: float64(1), object(3)\n",
            "memory usage: 2.5+ MB\n"
          ]
        }
      ],
      "source": [
        "data.info()"
      ]
    },
    {
      "cell_type": "markdown",
      "source": [
        "# Data Processing and Augmentation"
      ],
      "metadata": {
        "id": "b4nzvLRBpCeA"
      }
    },
    {
      "cell_type": "code",
      "execution_count": 113,
      "metadata": {
        "execution": {
          "iopub.execute_input": "2025-03-20T13:13:45.183722Z",
          "iopub.status.busy": "2025-03-20T13:13:45.183250Z",
          "iopub.status.idle": "2025-03-20T13:14:41.296077Z",
          "shell.execute_reply": "2025-03-20T13:14:41.295351Z",
          "shell.execute_reply.started": "2025-03-20T13:13:45.183495Z"
        },
        "colab": {
          "base_uri": "https://localhost:8080/"
        },
        "id": "eARIXitrGKA-",
        "outputId": "0a65d6d6-12d2-4a22-9f5f-eca50e4035eb"
      },
      "outputs": [
        {
          "output_type": "stream",
          "name": "stderr",
          "text": [
            "<ipython-input-113-642e6dcff116>:64: DeprecationWarning: DataFrameGroupBy.apply operated on the grouping columns. This behavior is deprecated, and in a future version of pandas the grouping columns will be excluded from the operation. Either pass `include_groups=False` to exclude the groupings or explicitly select the grouping columns after groupby to silence this warning.\n",
            "  augmented_df = df.groupby(\"Sentence#\").apply(lambda group: augment_sentence_group(group)).reset_index(drop=True)\n",
            "<ipython-input-113-642e6dcff116>:64: DeprecationWarning: DataFrameGroupBy.apply operated on the grouping columns. This behavior is deprecated, and in a future version of pandas the grouping columns will be excluded from the operation. Either pass `include_groups=False` to exclude the groupings or explicitly select the grouping columns after groupby to silence this warning.\n",
            "  augmented_df = df.groupby(\"Sentence#\").apply(lambda group: augment_sentence_group(group)).reset_index(drop=True)\n"
          ]
        },
        {
          "output_type": "stream",
          "name": "stdout",
          "text": [
            "<class 'pandas.core.frame.DataFrame'>\n",
            "RangeIndex: 232914 entries, 0 to 232913\n",
            "Data columns (total 4 columns):\n",
            " #   Column     Non-Null Count   Dtype  \n",
            "---  ------     --------------   -----  \n",
            " 0   Sentence#  232914 non-null  float64\n",
            " 1   Word       232914 non-null  object \n",
            " 2   POS        232914 non-null  object \n",
            " 3   Tag        232914 non-null  object \n",
            "dtypes: float64(1), object(3)\n",
            "memory usage: 7.1+ MB\n",
            "None\n",
            "<class 'pandas.core.frame.DataFrame'>\n",
            "Index: 6409 entries, 59752 to 66160\n",
            "Data columns (total 4 columns):\n",
            " #   Column     Non-Null Count  Dtype  \n",
            "---  ------     --------------  -----  \n",
            " 0   Sentence#  6409 non-null   float64\n",
            " 1   Word       6409 non-null   object \n",
            " 2   POS        6409 non-null   object \n",
            " 3   Tag        6409 non-null   object \n",
            "dtypes: float64(1), object(3)\n",
            "memory usage: 250.4+ KB\n",
            "None\n"
          ]
        }
      ],
      "source": [
        "def get_synonyms(word):\n",
        "    \"\"\" Get synonyms for a word using WordNet. \"\"\"\n",
        "    synonyms = set()\n",
        "    for syn in wordnet.synsets(word):\n",
        "        for lemma in syn.lemmas():\n",
        "            synonyms.add(lemma.name())\n",
        "    synonyms.discard(word)\n",
        "    return list(synonyms)\n",
        "\n",
        "def introduce_typos(word, prob=0.2):\n",
        "    \"\"\" Introduce typos by swapping adjacent characters. \"\"\"\n",
        "    if random.random() > prob or len(word) < 3:\n",
        "        return word\n",
        "    idx = random.randint(0, len(word) - 2)\n",
        "    return word[:idx] + word[idx + 1] + word[idx] + word[idx + 2:]\n",
        "\n",
        "def split_data(data):\n",
        "    \"\"\" Split dataset into 90% training and 10% test based on Sentence#. \"\"\"\n",
        "    # Note that here we split them only and later we do data augmentation on the train_data and keep the test_data unchanged\n",
        "    unique_sentences = sorted(data['Sentence#'].unique())\n",
        "    split_index = int(len(unique_sentences) * 0.9)\n",
        "    train_sentences = unique_sentences[:split_index]\n",
        "    test_sentences = unique_sentences[split_index:]\n",
        "\n",
        "    train_data = data[data['Sentence#'].isin(train_sentences)].copy()\n",
        "    test_data = data[data['Sentence#'].isin(test_sentences)].copy()\n",
        "\n",
        "    return train_data, test_data\n",
        "\n",
        "def augment_sentence_group(df_group, prob=0.3):\n",
        "    \"\"\" Apply augmentation to each sentence group (identified by Sentence#). \"\"\"\n",
        "    augmented_sentences = []\n",
        "    sentence_id = df_group['Sentence#'].iloc[0]  # Keep the same sentence number for now\n",
        "\n",
        "    for _, row in df_group.iterrows():\n",
        "        word = row['Word']\n",
        "\n",
        "        # Synonym Replacement (30% chance)\n",
        "        if random.random() < prob:\n",
        "            synonyms = get_synonyms(word)\n",
        "            if synonyms:\n",
        "                word = random.choice(synonyms)\n",
        "\n",
        "        # Typos (10% chance)\n",
        "        if random.random() < 0.1:\n",
        "            word = introduce_typos(word)\n",
        "\n",
        "        augmented_sentences.append([sentence_id, word, row['POS'], row['Tag']])\n",
        "\n",
        "    # Shuffle Words (5% chance)\n",
        "    if random.random() < 0.05:\n",
        "        random.shuffle(augmented_sentences)\n",
        "\n",
        "    return pd.DataFrame(augmented_sentences, columns=df_group.columns)\n",
        "\n",
        "def augment_data(df, num_augmented_copies=2):\n",
        "    \"\"\"\n",
        "    Apply augmentation to the dataset.\n",
        "    - `num_augmented_copies`: Number of augmented copies to generate for each sentence.\n",
        "    \"\"\"\n",
        "    augmented_data = []\n",
        "    max_sentence_id = df['Sentence#'].max()  # Start new sentence IDs from the last one\n",
        "\n",
        "    for _ in range(num_augmented_copies):\n",
        "        augmented_df = df.groupby(\"Sentence#\").apply(lambda group: augment_sentence_group(group)).reset_index(drop=True)\n",
        "        # Assign new sentence numbers to augmented sentences\n",
        "        augmented_df['Sentence#'] = augmented_df['Sentence#'].apply(lambda x: x + max_sentence_id)\n",
        "        max_sentence_id += df['Sentence#'].nunique()  # Increment to avoid duplication\n",
        "\n",
        "        augmented_data.append(augmented_df)\n",
        "\n",
        "    # Combine original with augmented data\n",
        "    final_df = pd.concat([df] + augmented_data, ignore_index=True)\n",
        "    return final_df\n",
        "\n",
        "def duplicate_ner_rows_with_synonyms(df, num_duplicates=3):\n",
        "    # Filter NER rows\n",
        "    ner_rows = df[df['Tag'] != 'O']\n",
        "\n",
        "    augmented_rows = []\n",
        "\n",
        "    for _ in range(num_duplicates):\n",
        "        for _, row in ner_rows.iterrows():\n",
        "            word = row['Word']\n",
        "            pos = row['POS']\n",
        "            tag = row['Tag']\n",
        "            sentence_id = row['Sentence#']\n",
        "\n",
        "            # Try to find a synonym for the word\n",
        "            synonyms = get_synonyms(word)\n",
        "            new_word = random.choice(synonyms) if synonyms else word  # use synonym if available\n",
        "\n",
        "            # Create a new row with possibly replaced word\n",
        "            augmented_rows.append({\n",
        "                'Sentence#': sentence_id,\n",
        "                'Word': new_word,\n",
        "                'POS': pos,\n",
        "                'Tag': tag\n",
        "            })\n",
        "\n",
        "    # Convert list to DataFrame\n",
        "    augmented_df = pd.DataFrame(augmented_rows)\n",
        "\n",
        "    # Combine original with new duplicated rows\n",
        "    final_df = pd.concat([df, augmented_df], ignore_index=True)\n",
        "\n",
        "    return final_df\n",
        "\n",
        "\n",
        "def process_data(data, num_augmented_copies=2, num_ner_duplicates=3):\n",
        "    \"\"\"\n",
        "    Complete data processing pipeline:\n",
        "    1. Split into train & test (last 10% of sentences reserved for testing).\n",
        "    2. Apply augmentation to the training set only.\n",
        "    3. Duplicate NER-tagged rows for balance at the very end.\n",
        "    \"\"\"\n",
        "    # Step 1: Split into training and test set\n",
        "    train_data, test_data = split_data(data)\n",
        "\n",
        "    # Step 2: Apply augmentation only to training data and keep the test data unchanged\n",
        "    train_data_augmented = augment_data(train_data, num_augmented_copies=num_augmented_copies)\n",
        "\n",
        "    # Step 3: Duplicate Named Entity rows in training data and keep the test data unchanged\n",
        "    train_data_final = duplicate_ner_rows_with_synonyms(train_data_augmented, num_duplicates=num_ner_duplicates)\n",
        "\n",
        "    # Finally, return the preprocessed train data and unchanged-from-original test data\n",
        "    return train_data_final, test_data\n",
        "\n",
        "# Example Usage\n",
        "# Assuming `data` is your original DataFrame\n",
        "train_data, test_data = process_data(data, num_augmented_copies=2, num_ner_duplicates=2)\n",
        "\n",
        "print(train_data.info())\n",
        "print(test_data.info())"
      ]
    },
    {
      "cell_type": "code",
      "execution_count": 114,
      "metadata": {
        "execution": {
          "iopub.execute_input": "2025-03-20T13:14:41.298095Z",
          "iopub.status.busy": "2025-03-20T13:14:41.297774Z",
          "iopub.status.idle": "2025-03-20T13:14:41.309989Z",
          "shell.execute_reply": "2025-03-20T13:14:41.309104Z",
          "shell.execute_reply.started": "2025-03-20T13:14:41.298030Z"
        },
        "colab": {
          "base_uri": "https://localhost:8080/",
          "height": 677
        },
        "id": "rMU5yUbiGKA_",
        "outputId": "a6a4b141-c07f-49c3-fb0c-6e56ecf0720c"
      },
      "outputs": [
        {
          "output_type": "execute_result",
          "data": {
            "text/plain": [
              "        Sentence#                           Word  POS    Tag\n",
              "232894     8094.0                            ANC  NNP  B-org\n",
              "232895     8095.0                           2012   CD  B-tim\n",
              "232896     8096.0                            ANC  NNP  B-org\n",
              "232897     8096.0  Confederate_States_of_America  NNP  B-geo\n",
              "232898     8096.0                         Africa  NNP  I-geo\n",
              "232899     8096.0                           goal   NN  B-tim\n",
              "232900     8096.0                             of   IN  I-tim\n",
              "232901     8096.0                      apartheid   NN  I-tim\n",
              "232902     8096.0                        Indiana   IN  I-tim\n",
              "232903     8096.0                           1994   CD  I-tim\n",
              "232904     8096.0                             Mr  NNP  B-per\n",
              "232905     8096.0                          Mbeik  NNP  B-org\n",
              "232906     8096.0                    chairperson  NNP  B-per\n",
              "232907     8096.0                 Francois_Jacob  NNP  I-per\n",
              "232908     8096.0                           Zuma  NNP  I-per\n",
              "232909     8097.0                            ANC  NNP  B-org\n",
              "232910     8097.0                            Mr.  NNP  B-per\n",
              "232911     8097.0                           Zuma  NNP  I-per\n",
              "232912     8097.0                           butt  NNP  B-tim\n",
              "232913     8097.0                              I   CD  I-tim"
            ],
            "text/html": [
              "\n",
              "  <div id=\"df-810e6e58-bf43-4359-9729-ff822806ee5c\" class=\"colab-df-container\">\n",
              "    <div>\n",
              "<style scoped>\n",
              "    .dataframe tbody tr th:only-of-type {\n",
              "        vertical-align: middle;\n",
              "    }\n",
              "\n",
              "    .dataframe tbody tr th {\n",
              "        vertical-align: top;\n",
              "    }\n",
              "\n",
              "    .dataframe thead th {\n",
              "        text-align: right;\n",
              "    }\n",
              "</style>\n",
              "<table border=\"1\" class=\"dataframe\">\n",
              "  <thead>\n",
              "    <tr style=\"text-align: right;\">\n",
              "      <th></th>\n",
              "      <th>Sentence#</th>\n",
              "      <th>Word</th>\n",
              "      <th>POS</th>\n",
              "      <th>Tag</th>\n",
              "    </tr>\n",
              "  </thead>\n",
              "  <tbody>\n",
              "    <tr>\n",
              "      <th>232894</th>\n",
              "      <td>8094.0</td>\n",
              "      <td>ANC</td>\n",
              "      <td>NNP</td>\n",
              "      <td>B-org</td>\n",
              "    </tr>\n",
              "    <tr>\n",
              "      <th>232895</th>\n",
              "      <td>8095.0</td>\n",
              "      <td>2012</td>\n",
              "      <td>CD</td>\n",
              "      <td>B-tim</td>\n",
              "    </tr>\n",
              "    <tr>\n",
              "      <th>232896</th>\n",
              "      <td>8096.0</td>\n",
              "      <td>ANC</td>\n",
              "      <td>NNP</td>\n",
              "      <td>B-org</td>\n",
              "    </tr>\n",
              "    <tr>\n",
              "      <th>232897</th>\n",
              "      <td>8096.0</td>\n",
              "      <td>Confederate_States_of_America</td>\n",
              "      <td>NNP</td>\n",
              "      <td>B-geo</td>\n",
              "    </tr>\n",
              "    <tr>\n",
              "      <th>232898</th>\n",
              "      <td>8096.0</td>\n",
              "      <td>Africa</td>\n",
              "      <td>NNP</td>\n",
              "      <td>I-geo</td>\n",
              "    </tr>\n",
              "    <tr>\n",
              "      <th>232899</th>\n",
              "      <td>8096.0</td>\n",
              "      <td>goal</td>\n",
              "      <td>NN</td>\n",
              "      <td>B-tim</td>\n",
              "    </tr>\n",
              "    <tr>\n",
              "      <th>232900</th>\n",
              "      <td>8096.0</td>\n",
              "      <td>of</td>\n",
              "      <td>IN</td>\n",
              "      <td>I-tim</td>\n",
              "    </tr>\n",
              "    <tr>\n",
              "      <th>232901</th>\n",
              "      <td>8096.0</td>\n",
              "      <td>apartheid</td>\n",
              "      <td>NN</td>\n",
              "      <td>I-tim</td>\n",
              "    </tr>\n",
              "    <tr>\n",
              "      <th>232902</th>\n",
              "      <td>8096.0</td>\n",
              "      <td>Indiana</td>\n",
              "      <td>IN</td>\n",
              "      <td>I-tim</td>\n",
              "    </tr>\n",
              "    <tr>\n",
              "      <th>232903</th>\n",
              "      <td>8096.0</td>\n",
              "      <td>1994</td>\n",
              "      <td>CD</td>\n",
              "      <td>I-tim</td>\n",
              "    </tr>\n",
              "    <tr>\n",
              "      <th>232904</th>\n",
              "      <td>8096.0</td>\n",
              "      <td>Mr</td>\n",
              "      <td>NNP</td>\n",
              "      <td>B-per</td>\n",
              "    </tr>\n",
              "    <tr>\n",
              "      <th>232905</th>\n",
              "      <td>8096.0</td>\n",
              "      <td>Mbeik</td>\n",
              "      <td>NNP</td>\n",
              "      <td>B-org</td>\n",
              "    </tr>\n",
              "    <tr>\n",
              "      <th>232906</th>\n",
              "      <td>8096.0</td>\n",
              "      <td>chairperson</td>\n",
              "      <td>NNP</td>\n",
              "      <td>B-per</td>\n",
              "    </tr>\n",
              "    <tr>\n",
              "      <th>232907</th>\n",
              "      <td>8096.0</td>\n",
              "      <td>Francois_Jacob</td>\n",
              "      <td>NNP</td>\n",
              "      <td>I-per</td>\n",
              "    </tr>\n",
              "    <tr>\n",
              "      <th>232908</th>\n",
              "      <td>8096.0</td>\n",
              "      <td>Zuma</td>\n",
              "      <td>NNP</td>\n",
              "      <td>I-per</td>\n",
              "    </tr>\n",
              "    <tr>\n",
              "      <th>232909</th>\n",
              "      <td>8097.0</td>\n",
              "      <td>ANC</td>\n",
              "      <td>NNP</td>\n",
              "      <td>B-org</td>\n",
              "    </tr>\n",
              "    <tr>\n",
              "      <th>232910</th>\n",
              "      <td>8097.0</td>\n",
              "      <td>Mr.</td>\n",
              "      <td>NNP</td>\n",
              "      <td>B-per</td>\n",
              "    </tr>\n",
              "    <tr>\n",
              "      <th>232911</th>\n",
              "      <td>8097.0</td>\n",
              "      <td>Zuma</td>\n",
              "      <td>NNP</td>\n",
              "      <td>I-per</td>\n",
              "    </tr>\n",
              "    <tr>\n",
              "      <th>232912</th>\n",
              "      <td>8097.0</td>\n",
              "      <td>butt</td>\n",
              "      <td>NNP</td>\n",
              "      <td>B-tim</td>\n",
              "    </tr>\n",
              "    <tr>\n",
              "      <th>232913</th>\n",
              "      <td>8097.0</td>\n",
              "      <td>I</td>\n",
              "      <td>CD</td>\n",
              "      <td>I-tim</td>\n",
              "    </tr>\n",
              "  </tbody>\n",
              "</table>\n",
              "</div>\n",
              "    <div class=\"colab-df-buttons\">\n",
              "      \n",
              "  <div class=\"colab-df-container\">\n",
              "    <button class=\"colab-df-convert\" onclick=\"convertToInteractive('df-810e6e58-bf43-4359-9729-ff822806ee5c')\"\n",
              "            title=\"Convert this dataframe to an interactive table.\"\n",
              "            style=\"display:none;\">\n",
              "      \n",
              "  <svg xmlns=\"http://www.w3.org/2000/svg\" height=\"24px\" viewBox=\"0 -960 960 960\">\n",
              "    <path d=\"M120-120v-720h720v720H120Zm60-500h600v-160H180v160Zm220 220h160v-160H400v160Zm0 220h160v-160H400v160ZM180-400h160v-160H180v160Zm440 0h160v-160H620v160ZM180-180h160v-160H180v160Zm440 0h160v-160H620v160Z\"/>\n",
              "  </svg>\n",
              "    </button>\n",
              "    \n",
              "  <style>\n",
              "    .colab-df-container {\n",
              "      display:flex;\n",
              "      gap: 12px;\n",
              "    }\n",
              "\n",
              "    .colab-df-convert {\n",
              "      background-color: #E8F0FE;\n",
              "      border: none;\n",
              "      border-radius: 50%;\n",
              "      cursor: pointer;\n",
              "      display: none;\n",
              "      fill: #1967D2;\n",
              "      height: 32px;\n",
              "      padding: 0 0 0 0;\n",
              "      width: 32px;\n",
              "    }\n",
              "\n",
              "    .colab-df-convert:hover {\n",
              "      background-color: #E2EBFA;\n",
              "      box-shadow: 0px 1px 2px rgba(60, 64, 67, 0.3), 0px 1px 3px 1px rgba(60, 64, 67, 0.15);\n",
              "      fill: #174EA6;\n",
              "    }\n",
              "\n",
              "    .colab-df-buttons div {\n",
              "      margin-bottom: 4px;\n",
              "    }\n",
              "\n",
              "    [theme=dark] .colab-df-convert {\n",
              "      background-color: #3B4455;\n",
              "      fill: #D2E3FC;\n",
              "    }\n",
              "\n",
              "    [theme=dark] .colab-df-convert:hover {\n",
              "      background-color: #434B5C;\n",
              "      box-shadow: 0px 1px 3px 1px rgba(0, 0, 0, 0.15);\n",
              "      filter: drop-shadow(0px 1px 2px rgba(0, 0, 0, 0.3));\n",
              "      fill: #FFFFFF;\n",
              "    }\n",
              "  </style>\n",
              "\n",
              "    <script>\n",
              "      const buttonEl =\n",
              "        document.querySelector('#df-810e6e58-bf43-4359-9729-ff822806ee5c button.colab-df-convert');\n",
              "      buttonEl.style.display =\n",
              "        google.colab.kernel.accessAllowed ? 'block' : 'none';\n",
              "\n",
              "      async function convertToInteractive(key) {\n",
              "        const element = document.querySelector('#df-810e6e58-bf43-4359-9729-ff822806ee5c');\n",
              "        const dataTable =\n",
              "          await google.colab.kernel.invokeFunction('convertToInteractive',\n",
              "                                                    [key], {});\n",
              "        if (!dataTable) return;\n",
              "\n",
              "        const docLinkHtml = 'Like what you see? Visit the ' +\n",
              "          '<a target=\"_blank\" href=https://colab.research.google.com/notebooks/data_table.ipynb>data table notebook</a>'\n",
              "          + ' to learn more about interactive tables.';\n",
              "        element.innerHTML = '';\n",
              "        dataTable['output_type'] = 'display_data';\n",
              "        await google.colab.output.renderOutput(dataTable, element);\n",
              "        const docLink = document.createElement('div');\n",
              "        docLink.innerHTML = docLinkHtml;\n",
              "        element.appendChild(docLink);\n",
              "      }\n",
              "    </script>\n",
              "  </div>\n",
              "  \n",
              "    </div>\n",
              "  </div>\n",
              "  "
            ]
          },
          "metadata": {},
          "execution_count": 114
        }
      ],
      "source": [
        "train_data.tail(20)"
      ]
    },
    {
      "cell_type": "code",
      "execution_count": 115,
      "metadata": {
        "execution": {
          "iopub.execute_input": "2025-03-20T13:14:41.311518Z",
          "iopub.status.busy": "2025-03-20T13:14:41.311213Z",
          "iopub.status.idle": "2025-03-20T13:14:41.328262Z",
          "shell.execute_reply": "2025-03-20T13:14:41.327424Z",
          "shell.execute_reply.started": "2025-03-20T13:14:41.311461Z"
        },
        "colab": {
          "base_uri": "https://localhost:8080/",
          "height": 677
        },
        "id": "DQ03tgfXGKBA",
        "outputId": "0eaac6c6-0476-4459-f9c8-f0ac44d7c5d3"
      },
      "outputs": [
        {
          "output_type": "execute_result",
          "data": {
            "text/plain": [
              "       Sentence#           Word  POS    Tag\n",
              "66141     2998.0            for   IN      O\n",
              "66142     2998.0             an   DT      O\n",
              "66143     2998.0      attempted   JJ      O\n",
              "66144     2998.0  assassination   NN      O\n",
              "66145     2998.0             of   IN      O\n",
              "66146     2998.0         Saddam  NNP  B-per\n",
              "66147     2998.0              .    .      O\n",
              "66148     2999.0            The   DT      O\n",
              "66149     2999.0          judge   NN      O\n",
              "66150     2999.0           told  VBD      O\n",
              "66151     2999.0      reporters  NNS      O\n",
              "66152     2999.0              a   DT      O\n",
              "66153     2999.0          trial   NN      O\n",
              "66154     2999.0           date   NN      O\n",
              "66155     2999.0          could   MD      O\n",
              "66156     2999.0             be   VB      O\n",
              "66157     2999.0      announced  VBN      O\n",
              "66158     2999.0         within   IN  B-tim\n",
              "66159     2999.0           days  NNS      O\n",
              "66160     2999.0              .    .      O"
            ],
            "text/html": [
              "\n",
              "  <div id=\"df-2a82e825-412a-4f58-a5b8-1803faa7c0eb\" class=\"colab-df-container\">\n",
              "    <div>\n",
              "<style scoped>\n",
              "    .dataframe tbody tr th:only-of-type {\n",
              "        vertical-align: middle;\n",
              "    }\n",
              "\n",
              "    .dataframe tbody tr th {\n",
              "        vertical-align: top;\n",
              "    }\n",
              "\n",
              "    .dataframe thead th {\n",
              "        text-align: right;\n",
              "    }\n",
              "</style>\n",
              "<table border=\"1\" class=\"dataframe\">\n",
              "  <thead>\n",
              "    <tr style=\"text-align: right;\">\n",
              "      <th></th>\n",
              "      <th>Sentence#</th>\n",
              "      <th>Word</th>\n",
              "      <th>POS</th>\n",
              "      <th>Tag</th>\n",
              "    </tr>\n",
              "  </thead>\n",
              "  <tbody>\n",
              "    <tr>\n",
              "      <th>66141</th>\n",
              "      <td>2998.0</td>\n",
              "      <td>for</td>\n",
              "      <td>IN</td>\n",
              "      <td>O</td>\n",
              "    </tr>\n",
              "    <tr>\n",
              "      <th>66142</th>\n",
              "      <td>2998.0</td>\n",
              "      <td>an</td>\n",
              "      <td>DT</td>\n",
              "      <td>O</td>\n",
              "    </tr>\n",
              "    <tr>\n",
              "      <th>66143</th>\n",
              "      <td>2998.0</td>\n",
              "      <td>attempted</td>\n",
              "      <td>JJ</td>\n",
              "      <td>O</td>\n",
              "    </tr>\n",
              "    <tr>\n",
              "      <th>66144</th>\n",
              "      <td>2998.0</td>\n",
              "      <td>assassination</td>\n",
              "      <td>NN</td>\n",
              "      <td>O</td>\n",
              "    </tr>\n",
              "    <tr>\n",
              "      <th>66145</th>\n",
              "      <td>2998.0</td>\n",
              "      <td>of</td>\n",
              "      <td>IN</td>\n",
              "      <td>O</td>\n",
              "    </tr>\n",
              "    <tr>\n",
              "      <th>66146</th>\n",
              "      <td>2998.0</td>\n",
              "      <td>Saddam</td>\n",
              "      <td>NNP</td>\n",
              "      <td>B-per</td>\n",
              "    </tr>\n",
              "    <tr>\n",
              "      <th>66147</th>\n",
              "      <td>2998.0</td>\n",
              "      <td>.</td>\n",
              "      <td>.</td>\n",
              "      <td>O</td>\n",
              "    </tr>\n",
              "    <tr>\n",
              "      <th>66148</th>\n",
              "      <td>2999.0</td>\n",
              "      <td>The</td>\n",
              "      <td>DT</td>\n",
              "      <td>O</td>\n",
              "    </tr>\n",
              "    <tr>\n",
              "      <th>66149</th>\n",
              "      <td>2999.0</td>\n",
              "      <td>judge</td>\n",
              "      <td>NN</td>\n",
              "      <td>O</td>\n",
              "    </tr>\n",
              "    <tr>\n",
              "      <th>66150</th>\n",
              "      <td>2999.0</td>\n",
              "      <td>told</td>\n",
              "      <td>VBD</td>\n",
              "      <td>O</td>\n",
              "    </tr>\n",
              "    <tr>\n",
              "      <th>66151</th>\n",
              "      <td>2999.0</td>\n",
              "      <td>reporters</td>\n",
              "      <td>NNS</td>\n",
              "      <td>O</td>\n",
              "    </tr>\n",
              "    <tr>\n",
              "      <th>66152</th>\n",
              "      <td>2999.0</td>\n",
              "      <td>a</td>\n",
              "      <td>DT</td>\n",
              "      <td>O</td>\n",
              "    </tr>\n",
              "    <tr>\n",
              "      <th>66153</th>\n",
              "      <td>2999.0</td>\n",
              "      <td>trial</td>\n",
              "      <td>NN</td>\n",
              "      <td>O</td>\n",
              "    </tr>\n",
              "    <tr>\n",
              "      <th>66154</th>\n",
              "      <td>2999.0</td>\n",
              "      <td>date</td>\n",
              "      <td>NN</td>\n",
              "      <td>O</td>\n",
              "    </tr>\n",
              "    <tr>\n",
              "      <th>66155</th>\n",
              "      <td>2999.0</td>\n",
              "      <td>could</td>\n",
              "      <td>MD</td>\n",
              "      <td>O</td>\n",
              "    </tr>\n",
              "    <tr>\n",
              "      <th>66156</th>\n",
              "      <td>2999.0</td>\n",
              "      <td>be</td>\n",
              "      <td>VB</td>\n",
              "      <td>O</td>\n",
              "    </tr>\n",
              "    <tr>\n",
              "      <th>66157</th>\n",
              "      <td>2999.0</td>\n",
              "      <td>announced</td>\n",
              "      <td>VBN</td>\n",
              "      <td>O</td>\n",
              "    </tr>\n",
              "    <tr>\n",
              "      <th>66158</th>\n",
              "      <td>2999.0</td>\n",
              "      <td>within</td>\n",
              "      <td>IN</td>\n",
              "      <td>B-tim</td>\n",
              "    </tr>\n",
              "    <tr>\n",
              "      <th>66159</th>\n",
              "      <td>2999.0</td>\n",
              "      <td>days</td>\n",
              "      <td>NNS</td>\n",
              "      <td>O</td>\n",
              "    </tr>\n",
              "    <tr>\n",
              "      <th>66160</th>\n",
              "      <td>2999.0</td>\n",
              "      <td>.</td>\n",
              "      <td>.</td>\n",
              "      <td>O</td>\n",
              "    </tr>\n",
              "  </tbody>\n",
              "</table>\n",
              "</div>\n",
              "    <div class=\"colab-df-buttons\">\n",
              "      \n",
              "  <div class=\"colab-df-container\">\n",
              "    <button class=\"colab-df-convert\" onclick=\"convertToInteractive('df-2a82e825-412a-4f58-a5b8-1803faa7c0eb')\"\n",
              "            title=\"Convert this dataframe to an interactive table.\"\n",
              "            style=\"display:none;\">\n",
              "      \n",
              "  <svg xmlns=\"http://www.w3.org/2000/svg\" height=\"24px\" viewBox=\"0 -960 960 960\">\n",
              "    <path d=\"M120-120v-720h720v720H120Zm60-500h600v-160H180v160Zm220 220h160v-160H400v160Zm0 220h160v-160H400v160ZM180-400h160v-160H180v160Zm440 0h160v-160H620v160ZM180-180h160v-160H180v160Zm440 0h160v-160H620v160Z\"/>\n",
              "  </svg>\n",
              "    </button>\n",
              "    \n",
              "  <style>\n",
              "    .colab-df-container {\n",
              "      display:flex;\n",
              "      gap: 12px;\n",
              "    }\n",
              "\n",
              "    .colab-df-convert {\n",
              "      background-color: #E8F0FE;\n",
              "      border: none;\n",
              "      border-radius: 50%;\n",
              "      cursor: pointer;\n",
              "      display: none;\n",
              "      fill: #1967D2;\n",
              "      height: 32px;\n",
              "      padding: 0 0 0 0;\n",
              "      width: 32px;\n",
              "    }\n",
              "\n",
              "    .colab-df-convert:hover {\n",
              "      background-color: #E2EBFA;\n",
              "      box-shadow: 0px 1px 2px rgba(60, 64, 67, 0.3), 0px 1px 3px 1px rgba(60, 64, 67, 0.15);\n",
              "      fill: #174EA6;\n",
              "    }\n",
              "\n",
              "    .colab-df-buttons div {\n",
              "      margin-bottom: 4px;\n",
              "    }\n",
              "\n",
              "    [theme=dark] .colab-df-convert {\n",
              "      background-color: #3B4455;\n",
              "      fill: #D2E3FC;\n",
              "    }\n",
              "\n",
              "    [theme=dark] .colab-df-convert:hover {\n",
              "      background-color: #434B5C;\n",
              "      box-shadow: 0px 1px 3px 1px rgba(0, 0, 0, 0.15);\n",
              "      filter: drop-shadow(0px 1px 2px rgba(0, 0, 0, 0.3));\n",
              "      fill: #FFFFFF;\n",
              "    }\n",
              "  </style>\n",
              "\n",
              "    <script>\n",
              "      const buttonEl =\n",
              "        document.querySelector('#df-2a82e825-412a-4f58-a5b8-1803faa7c0eb button.colab-df-convert');\n",
              "      buttonEl.style.display =\n",
              "        google.colab.kernel.accessAllowed ? 'block' : 'none';\n",
              "\n",
              "      async function convertToInteractive(key) {\n",
              "        const element = document.querySelector('#df-2a82e825-412a-4f58-a5b8-1803faa7c0eb');\n",
              "        const dataTable =\n",
              "          await google.colab.kernel.invokeFunction('convertToInteractive',\n",
              "                                                    [key], {});\n",
              "        if (!dataTable) return;\n",
              "\n",
              "        const docLinkHtml = 'Like what you see? Visit the ' +\n",
              "          '<a target=\"_blank\" href=https://colab.research.google.com/notebooks/data_table.ipynb>data table notebook</a>'\n",
              "          + ' to learn more about interactive tables.';\n",
              "        element.innerHTML = '';\n",
              "        dataTable['output_type'] = 'display_data';\n",
              "        await google.colab.output.renderOutput(dataTable, element);\n",
              "        const docLink = document.createElement('div');\n",
              "        docLink.innerHTML = docLinkHtml;\n",
              "        element.appendChild(docLink);\n",
              "      }\n",
              "    </script>\n",
              "  </div>\n",
              "  \n",
              "    </div>\n",
              "  </div>\n",
              "  "
            ]
          },
          "metadata": {},
          "execution_count": 115
        }
      ],
      "source": [
        "test_data.tail(20)"
      ]
    },
    {
      "cell_type": "code",
      "execution_count": 14,
      "metadata": {
        "execution": {
          "iopub.execute_input": "2025-03-20T13:14:41.329704Z",
          "iopub.status.busy": "2025-03-20T13:14:41.329425Z",
          "iopub.status.idle": "2025-03-20T13:14:41.338400Z",
          "shell.execute_reply": "2025-03-20T13:14:41.337814Z",
          "shell.execute_reply.started": "2025-03-20T13:14:41.329662Z"
        },
        "id": "hKdxSu0kGKBA"
      },
      "outputs": [],
      "source": [
        "# df_concat = pd.concat([data, data_other], ignore_index=True)\n",
        "# print(df_concat.head())\n",
        "# print(df_concat.info())"
      ]
    },
    {
      "cell_type": "code",
      "execution_count": 15,
      "metadata": {
        "execution": {
          "iopub.execute_input": "2025-03-20T13:14:41.339809Z",
          "iopub.status.busy": "2025-03-20T13:14:41.339470Z",
          "iopub.status.idle": "2025-03-20T13:14:41.347114Z",
          "shell.execute_reply": "2025-03-20T13:14:41.346633Z",
          "shell.execute_reply.started": "2025-03-20T13:14:41.339713Z"
        },
        "id": "IkKp7rSoGKBA"
      },
      "outputs": [],
      "source": [
        "# df_concat = df_concat[df_concat['Sentence#'].notnull()]\n",
        "# df_concat = df_concat.drop_duplicates()"
      ]
    },
    {
      "cell_type": "code",
      "execution_count": 116,
      "metadata": {
        "execution": {
          "iopub.execute_input": "2025-03-20T13:14:41.348645Z",
          "iopub.status.busy": "2025-03-20T13:14:41.348291Z",
          "iopub.status.idle": "2025-03-20T13:14:41.409392Z",
          "shell.execute_reply": "2025-03-20T13:14:41.408698Z",
          "shell.execute_reply.started": "2025-03-20T13:14:41.348562Z"
        },
        "colab": {
          "base_uri": "https://localhost:8080/"
        },
        "id": "Ivm6GsUyGKBB",
        "outputId": "15f61272-3a5d-485d-9df3-ed5706c7f411"
      },
      "outputs": [
        {
          "output_type": "stream",
          "name": "stdout",
          "text": [
            "Tag\n",
            "O        152427\n",
            "B-geo     16380\n",
            "B-gpe     10233\n",
            "B-org     10224\n",
            "I-per      9963\n",
            "B-tim      9423\n",
            "B-per      8667\n",
            "I-org      7470\n",
            "I-geo      3420\n",
            "I-tim      2718\n",
            "B-art       477\n",
            "B-eve       369\n",
            "I-art       306\n",
            "I-eve       297\n",
            "I-gpe       288\n",
            "B-nat       171\n",
            "I-nat        81\n",
            "Name: count, dtype: int64\n"
          ]
        }
      ],
      "source": [
        "# Count occurrences of each tag in the dataset\n",
        "tag_counts = train_data[\"Tag\"].value_counts()\n",
        "\n",
        "# Print tag counts\n",
        "print(tag_counts)"
      ]
    },
    {
      "cell_type": "code",
      "execution_count": 117,
      "metadata": {
        "execution": {
          "iopub.execute_input": "2025-03-20T13:14:41.411260Z",
          "iopub.status.busy": "2025-03-20T13:14:41.410866Z",
          "iopub.status.idle": "2025-03-20T13:14:41.732583Z",
          "shell.execute_reply": "2025-03-20T13:14:41.731570Z",
          "shell.execute_reply.started": "2025-03-20T13:14:41.411089Z"
        },
        "colab": {
          "base_uri": "https://localhost:8080/",
          "height": 517
        },
        "id": "IMSPg349GKBB",
        "outputId": "89b4e6b0-1550-48ec-d103-349d1d483dba"
      },
      "outputs": [
        {
          "output_type": "display_data",
          "data": {
            "text/plain": [
              "<Figure size 1000x500 with 1 Axes>"
            ],
            "image/png": "[encoded data removed]"
          },
          "metadata": {}
        }
      ],
      "source": [
        "# Sort tags by frequency for better visualization\n",
        "tag_counts_sorted = tag_counts.sort_values(ascending=False)\n",
        "\n",
        "# Plot bar chart\n",
        "plt.figure(figsize=(10, 5))\n",
        "plt.bar(tag_counts_sorted.index, tag_counts_sorted.values, color='royalblue')\n",
        "plt.xlabel(\"Named Entity Tags\")\n",
        "plt.ylabel(\"Count\")\n",
        "plt.xticks(rotation=45)\n",
        "plt.title(\"Named Entity Tag Distribution\")\n",
        "plt.show()\n"
      ]
    },
    {
      "cell_type": "code",
      "execution_count": 118,
      "metadata": {
        "execution": {
          "iopub.execute_input": "2025-03-20T13:14:41.734820Z",
          "iopub.status.busy": "2025-03-20T13:14:41.734232Z",
          "iopub.status.idle": "2025-03-20T13:14:42.056913Z",
          "shell.execute_reply": "2025-03-20T13:14:42.055991Z",
          "shell.execute_reply.started": "2025-03-20T13:14:41.734758Z"
        },
        "colab": {
          "base_uri": "https://localhost:8080/",
          "height": 517
        },
        "id": "-O_dOwlOGKBB",
        "outputId": "9976460c-69e4-4952-b1a0-79ff3e12f6c6"
      },
      "outputs": [
        {
          "output_type": "display_data",
          "data": {
            "text/plain": [
              "<Figure size 1000x500 with 1 Axes>"
            ],
            "image/png": "[encoded data removed]"
          },
          "metadata": {}
        }
      ],
      "source": [
        "tag_counts_filtered = tag_counts.drop(\"O\")\n",
        "\n",
        "tag_counts_sorted = tag_counts_filtered.sort_values(ascending=False)\n",
        "plt.figure(figsize=(10, 5))\n",
        "plt.bar(tag_counts_sorted.index, tag_counts_sorted.values, color='royalblue')\n",
        "plt.xlabel(\"Named Entity Tags\")\n",
        "plt.ylabel(\"Count\")\n",
        "plt.xticks(rotation=45)\n",
        "plt.title(\"Named Entity Tag Distribution (Without 'O')\")\n",
        "plt.show()\n"
      ]
    },
    {
      "cell_type": "code",
      "execution_count": 119,
      "metadata": {
        "execution": {
          "iopub.execute_input": "2025-03-20T13:14:42.058715Z",
          "iopub.status.busy": "2025-03-20T13:14:42.058338Z",
          "iopub.status.idle": "2025-03-20T13:14:42.194908Z",
          "shell.execute_reply": "2025-03-20T13:14:42.194158Z",
          "shell.execute_reply.started": "2025-03-20T13:14:42.058655Z"
        },
        "colab": {
          "base_uri": "https://localhost:8080/"
        },
        "id": "Odxn3G10GKBB",
        "outputId": "e28c7969-e5d0-478e-c1bc-255bbd7c87d5"
      },
      "outputs": [
        {
          "output_type": "stream",
          "name": "stdout",
          "text": [
            "<class 'pandas.core.frame.DataFrame'>\n",
            "RangeIndex: 239323 entries, 0 to 239322\n",
            "Data columns (total 4 columns):\n",
            " #   Column     Non-Null Count   Dtype  \n",
            "---  ------     --------------   -----  \n",
            " 0   Sentence#  239323 non-null  float64\n",
            " 1   Word       239323 non-null  object \n",
            " 2   POS        239323 non-null  object \n",
            " 3   Tag        239323 non-null  object \n",
            "dtypes: float64(1), object(3)\n",
            "memory usage: 7.3+ MB\n"
          ]
        }
      ],
      "source": [
        "data_all = pd.concat([train_data, test_data], ignore_index=True)\n",
        "data_all.info()\n"
      ]
    },
    {
      "cell_type": "code",
      "execution_count": 120,
      "metadata": {
        "execution": {
          "iopub.execute_input": "2025-03-20T13:14:42.196658Z",
          "iopub.status.busy": "2025-03-20T13:14:42.196300Z",
          "iopub.status.idle": "2025-03-20T13:14:42.221147Z",
          "shell.execute_reply": "2025-03-20T13:14:42.220428Z",
          "shell.execute_reply.started": "2025-03-20T13:14:42.196564Z"
        },
        "colab": {
          "base_uri": "https://localhost:8080/"
        },
        "id": "Y7mOuiGjGKBC",
        "outputId": "d569863a-29be-4904-8a9c-8e350eace4bc"
      },
      "outputs": [
        {
          "output_type": "execute_result",
          "data": {
            "text/plain": [
              "17454"
            ]
          },
          "metadata": {},
          "execution_count": 120
        }
      ],
      "source": [
        "words = list(set(data_all[\"Word\"].values))\n",
        "words.append(\"ENDPAD\")\n",
        "n_words = len(words);\n",
        "n_words\n"
      ]
    },
    {
      "cell_type": "code",
      "execution_count": 121,
      "metadata": {
        "execution": {
          "iopub.execute_input": "2025-03-20T13:14:42.222767Z",
          "iopub.status.busy": "2025-03-20T13:14:42.222453Z",
          "iopub.status.idle": "2025-03-20T13:14:42.244441Z",
          "shell.execute_reply": "2025-03-20T13:14:42.243650Z",
          "shell.execute_reply.started": "2025-03-20T13:14:42.222706Z"
        },
        "colab": {
          "base_uri": "https://localhost:8080/"
        },
        "id": "VfgNACWNGKBC",
        "outputId": "ec2cb562-ba43-44dd-b218-3425bd03c60c"
      },
      "outputs": [
        {
          "output_type": "execute_result",
          "data": {
            "text/plain": [
              "17"
            ]
          },
          "metadata": {},
          "execution_count": 121
        }
      ],
      "source": [
        "tags = list(set(data_all[\"Tag\"].values))\n",
        "n_tags = len(tags); n_tags"
      ]
    },
    {
      "cell_type": "code",
      "execution_count": 122,
      "metadata": {
        "execution": {
          "iopub.execute_input": "2025-03-20T13:14:42.246035Z",
          "iopub.status.busy": "2025-03-20T13:14:42.245748Z",
          "iopub.status.idle": "2025-03-20T13:14:42.255697Z",
          "shell.execute_reply": "2025-03-20T13:14:42.255044Z",
          "shell.execute_reply.started": "2025-03-20T13:14:42.245979Z"
        },
        "id": "qRSzIV1TGKBC"
      },
      "outputs": [],
      "source": [
        "class SentenceGetter(object):\n",
        "\n",
        "    def __init__(self, data):\n",
        "        self.n_sent = 1\n",
        "        self.data = data\n",
        "        self.empty = False\n",
        "        agg_func = lambda s: [(w, p, t) for w, p, t in zip(s[\"Word\"].values.tolist(),\n",
        "                                                           s[\"POS\"].values.tolist(),\n",
        "                                                           s[\"Tag\"].values.tolist())]\n",
        "        self.grouped = self.data.groupby(\"Sentence#\").apply(agg_func)\n",
        "        self.sentences = [s for s in self.grouped]\n",
        "\n",
        "    def get_next(self):\n",
        "        try:\n",
        "            s = self.grouped[\"Sentence: {}\".format(self.n_sent)]\n",
        "            self.n_sent += 1\n",
        "            return s\n",
        "        except:\n",
        "            return None\n",
        ""
      ]
    },
    {
      "cell_type": "code",
      "execution_count": 123,
      "metadata": {
        "execution": {
          "iopub.execute_input": "2025-03-20T13:14:42.257076Z",
          "iopub.status.busy": "2025-03-20T13:14:42.256756Z",
          "iopub.status.idle": "2025-03-20T13:14:43.280114Z",
          "shell.execute_reply": "2025-03-20T13:14:43.279248Z",
          "shell.execute_reply.started": "2025-03-20T13:14:42.256905Z"
        },
        "colab": {
          "base_uri": "https://localhost:8080/"
        },
        "id": "zBqHG-xFGKBC",
        "outputId": "d64ae8ad-422f-4984-c24d-a2d6494c3427"
      },
      "outputs": [
        {
          "output_type": "stream",
          "name": "stderr",
          "text": [
            "<ipython-input-122-c9a46b593c0f>:10: DeprecationWarning: DataFrameGroupBy.apply operated on the grouping columns. This behavior is deprecated, and in a future version of pandas the grouping columns will be excluded from the operation. Either pass `include_groups=False` to exclude the groupings or explicitly select the grouping columns after groupby to silence this warning.\n",
            "  self.grouped = self.data.groupby(\"Sentence#\").apply(agg_func)\n",
            "<ipython-input-122-c9a46b593c0f>:10: DeprecationWarning: DataFrameGroupBy.apply operated on the grouping columns. This behavior is deprecated, and in a future version of pandas the grouping columns will be excluded from the operation. Either pass `include_groups=False` to exclude the groupings or explicitly select the grouping columns after groupby to silence this warning.\n",
            "  self.grouped = self.data.groupby(\"Sentence#\").apply(agg_func)\n",
            "<ipython-input-122-c9a46b593c0f>:10: DeprecationWarning: DataFrameGroupBy.apply operated on the grouping columns. This behavior is deprecated, and in a future version of pandas the grouping columns will be excluded from the operation. Either pass `include_groups=False` to exclude the groupings or explicitly select the grouping columns after groupby to silence this warning.\n",
            "  self.grouped = self.data.groupby(\"Sentence#\").apply(agg_func)\n"
          ]
        }
      ],
      "source": [
        "getter = SentenceGetter(data_all)\n",
        "getter_train = SentenceGetter(train_data)\n",
        "getter_test = SentenceGetter(test_data)\n"
      ]
    },
    {
      "cell_type": "code",
      "execution_count": 124,
      "metadata": {
        "execution": {
          "iopub.execute_input": "2025-03-20T13:14:43.281780Z",
          "iopub.status.busy": "2025-03-20T13:14:43.281463Z",
          "iopub.status.idle": "2025-03-20T13:14:43.286383Z",
          "shell.execute_reply": "2025-03-20T13:14:43.285761Z",
          "shell.execute_reply.started": "2025-03-20T13:14:43.281723Z"
        },
        "colab": {
          "base_uri": "https://localhost:8080/"
        },
        "id": "pzDvZdLnGKBC",
        "outputId": "c0356239-ea71-483f-b081-937dd41d1982"
      },
      "outputs": [
        {
          "output_type": "stream",
          "name": "stdout",
          "text": [
            "None\n"
          ]
        }
      ],
      "source": [
        "sent = getter_test.get_next()\n",
        "print(sent)"
      ]
    },
    {
      "cell_type": "code",
      "execution_count": 125,
      "metadata": {
        "execution": {
          "iopub.execute_input": "2025-03-20T13:14:43.287646Z",
          "iopub.status.busy": "2025-03-20T13:14:43.287427Z",
          "iopub.status.idle": "2025-03-20T13:14:43.305658Z",
          "shell.execute_reply": "2025-03-20T13:14:43.305039Z",
          "shell.execute_reply.started": "2025-03-20T13:14:43.287608Z"
        },
        "id": "2VYz9bZTGKBD"
      },
      "outputs": [],
      "source": [
        "sentences = getter.sentences\n",
        "sentences_train = getter_train.sentences\n",
        "sentences_test = getter_test.sentences\n",
        "\n",
        "# sentences_train[10]"
      ]
    },
    {
      "cell_type": "markdown",
      "metadata": {
        "id": "J89YiE5lGKBD"
      },
      "source": [
        "# Prepare the data for training"
      ]
    },
    {
      "cell_type": "code",
      "execution_count": 126,
      "metadata": {
        "execution": {
          "iopub.execute_input": "2025-03-20T13:14:43.307183Z",
          "iopub.status.busy": "2025-03-20T13:14:43.306965Z",
          "iopub.status.idle": "2025-03-20T13:14:43.321346Z",
          "shell.execute_reply": "2025-03-20T13:14:43.320734Z",
          "shell.execute_reply.started": "2025-03-20T13:14:43.307138Z"
        },
        "id": "vdW16CQLGKBF"
      },
      "outputs": [],
      "source": [
        "max_len = 75\n",
        "word2idx = {w: i + 1 for i, w in enumerate(words)}\n",
        "tag2idx = {t: i for i, t in enumerate(tags)}"
      ]
    },
    {
      "cell_type": "code",
      "execution_count": 127,
      "metadata": {
        "execution": {
          "iopub.execute_input": "2025-03-20T13:14:43.322536Z",
          "iopub.status.busy": "2025-03-20T13:14:43.322307Z",
          "iopub.status.idle": "2025-03-20T13:14:43.334972Z",
          "shell.execute_reply": "2025-03-20T13:14:43.334196Z",
          "shell.execute_reply.started": "2025-03-20T13:14:43.322487Z"
        },
        "colab": {
          "base_uri": "https://localhost:8080/"
        },
        "id": "1CuWypKEGKBF",
        "outputId": "8a6d03fa-e0f9-458e-b8eb-fba818a86717"
      },
      "outputs": [
        {
          "output_type": "execute_result",
          "data": {
            "text/plain": [
              "16188"
            ]
          },
          "metadata": {},
          "execution_count": 127
        }
      ],
      "source": [
        "word2idx[\"Obama\"]"
      ]
    },
    {
      "cell_type": "code",
      "execution_count": 128,
      "metadata": {
        "execution": {
          "iopub.execute_input": "2025-03-20T13:14:43.336419Z",
          "iopub.status.busy": "2025-03-20T13:14:43.336141Z",
          "iopub.status.idle": "2025-03-20T13:14:43.348699Z",
          "shell.execute_reply": "2025-03-20T13:14:43.347957Z",
          "shell.execute_reply.started": "2025-03-20T13:14:43.336362Z"
        },
        "colab": {
          "base_uri": "https://localhost:8080/"
        },
        "id": "8JX_iiJvGKBF",
        "outputId": "07cff96f-e5e0-4864-f645-8aea0f68a51a"
      },
      "outputs": [
        {
          "output_type": "execute_result",
          "data": {
            "text/plain": [
              "16"
            ]
          },
          "metadata": {},
          "execution_count": 128
        }
      ],
      "source": [
        "tag2idx[\"B-geo\"]"
      ]
    },
    {
      "cell_type": "code",
      "execution_count": 129,
      "metadata": {
        "execution": {
          "iopub.execute_input": "2025-03-20T13:14:43.349955Z",
          "iopub.status.busy": "2025-03-20T13:14:43.349722Z",
          "iopub.status.idle": "2025-03-20T13:14:43.454995Z",
          "shell.execute_reply": "2025-03-20T13:14:43.454335Z",
          "shell.execute_reply.started": "2025-03-20T13:14:43.349908Z"
        },
        "id": "SK10gtKLGKBG"
      },
      "outputs": [],
      "source": [
        "# pad the sequence\n",
        "X_train = [[word2idx[w[0]] for w in s] for s in sentences_train]\n",
        "X_train = pad_sequences(maxlen=max_len, sequences=X_train, padding=\"post\", value=word2idx[\"ENDPAD\"])\n",
        "\n",
        "X_test = [[word2idx[w[0]] for w in s] for s in sentences_test]\n",
        "X_test = pad_sequences(maxlen=max_len, sequences=X_test, padding=\"post\", value=word2idx[\"ENDPAD\"])"
      ]
    },
    {
      "cell_type": "code",
      "execution_count": 130,
      "metadata": {
        "execution": {
          "iopub.execute_input": "2025-03-20T13:14:43.456373Z",
          "iopub.status.busy": "2025-03-20T13:14:43.456144Z",
          "iopub.status.idle": "2025-03-20T13:14:43.459345Z",
          "shell.execute_reply": "2025-03-20T13:14:43.458694Z",
          "shell.execute_reply.started": "2025-03-20T13:14:43.456327Z"
        },
        "id": "9fZiprmqGKBG"
      },
      "outputs": [],
      "source": [
        "# # pad the target\n",
        "# y_train = [[tag2idx[w[2]] for w in s] for s in sentences_train]\n",
        "# y_train = pad_sequences(maxlen=max_len, sequences=y_train, padding=\"post\", value=tag2idx[\"O\"])\n",
        "# y_train = [to_categorical(i, num_classes=n_tags) for i in y_train]\n",
        "\n",
        "# y_test = [[tag2idx[w[2]] for w in s] for s in sentences_test]\n",
        "# y_test = pad_sequences(maxlen=max_len, sequences=y_test, padding=\"post\", value=tag2idx[\"O\"])\n",
        "# y_test = [to_categorical(i, num_classes=n_tags) for i in y_test]"
      ]
    },
    {
      "cell_type": "code",
      "execution_count": 131,
      "metadata": {
        "execution": {
          "iopub.execute_input": "2025-03-20T13:14:43.461075Z",
          "iopub.status.busy": "2025-03-20T13:14:43.460801Z",
          "iopub.status.idle": "2025-03-20T13:14:43.583294Z",
          "shell.execute_reply": "2025-03-20T13:14:43.582496Z",
          "shell.execute_reply.started": "2025-03-20T13:14:43.461024Z"
        },
        "colab": {
          "base_uri": "https://localhost:8080/"
        },
        "id": "jtQJk-JoGKBH",
        "outputId": "2826bfd0-c22e-42ac-851e-38f1f8d3d3ed"
      },
      "outputs": [
        {
          "output_type": "stream",
          "name": "stdout",
          "text": [
            "Shape of y_train after padding: (8097, 75)\n",
            "Shape of y_test after padding: (300, 75)\n",
            "Shape of y_train after one-hot encoding: (8097, 75, 17)\n",
            "Shape of y_test after one-hot encoding: (300, 75, 17)\n"
          ]
        }
      ],
      "source": [
        "# Check shape after converting tags to indices\n",
        "y_train = [[tag2idx[w[2]] for w in s] for s in sentences_train]\n",
        "y_test = [[tag2idx[w[2]] for w in s] for s in sentences_test]\n",
        "\n",
        "# print(\"Shape of y_train before padding:\", y_train)\n",
        "# print(\"Shape of y_test before padding:\", y_test)\n",
        "\n",
        "# Check shape after padding\n",
        "y_train = pad_sequences(maxlen=max_len, sequences=y_train, padding=\"post\", value=tag2idx[\"O\"])\n",
        "y_test = pad_sequences(maxlen=max_len, sequences=y_test, padding=\"post\", value=tag2idx[\"O\"])\n",
        "\n",
        "print(\"Shape of y_train after padding:\", y_train.shape)\n",
        "print(\"Shape of y_test after padding:\", y_test.shape)\n",
        "\n",
        "# Check shape after one-hot encoding\n",
        "y_train = np.array([to_categorical(i, num_classes=n_tags) for i in y_train])\n",
        "y_test = np.array([to_categorical(i, num_classes=n_tags) for i in y_test])\n",
        "\n",
        "print(\"Shape of y_train after one-hot encoding:\", y_train.shape)\n",
        "print(\"Shape of y_test after one-hot encoding:\", y_test.shape)"
      ]
    },
    {
      "cell_type": "code",
      "execution_count": 132,
      "metadata": {
        "execution": {
          "iopub.execute_input": "2025-03-20T13:14:43.587007Z",
          "iopub.status.busy": "2025-03-20T13:14:43.586815Z",
          "iopub.status.idle": "2025-03-20T13:14:43.589991Z",
          "shell.execute_reply": "2025-03-20T13:14:43.589354Z",
          "shell.execute_reply.started": "2025-03-20T13:14:43.586973Z"
        },
        "id": "8K7u4EosGKBH"
      },
      "outputs": [],
      "source": [
        "# X = [[word2idx[w[0]] for w in s] for s in sentences]\n",
        "# X = pad_sequences(maxlen=max_len, sequences=X, padding=\"post\", value=n_words-1)"
      ]
    },
    {
      "cell_type": "code",
      "execution_count": 133,
      "metadata": {
        "execution": {
          "iopub.execute_input": "2025-03-20T13:14:43.591917Z",
          "iopub.status.busy": "2025-03-20T13:14:43.591596Z",
          "iopub.status.idle": "2025-03-20T13:14:43.601226Z",
          "shell.execute_reply": "2025-03-20T13:14:43.600742Z",
          "shell.execute_reply.started": "2025-03-20T13:14:43.591865Z"
        },
        "id": "v2EohS-7GKBH"
      },
      "outputs": [],
      "source": [
        "# from keras.utils import to_categorical\n",
        "# y = [to_categorical(i, num_classes=n_tags) for i in y]\n",
        "# from sklearn.model_selection import train_test_split\n",
        "# X_tr, X_te, y_tr, y_te = train_test_split(X, y, test_size=0.1)"
      ]
    },
    {
      "cell_type": "markdown",
      "source": [
        "# Defining BiLSTM-CRF Model: Basic"
      ],
      "metadata": {
        "id": "Qg6xBBp5qNsE"
      }
    },
    {
      "cell_type": "markdown",
      "metadata": {
        "id": "BO9cOrWsGKBI"
      },
      "source": [
        "## Setup the BiLSTM-CRF 1: Basic\n",
        "\n",
        "This model gets the performance on the test set like this:\n",
        "\n",
        "```\n",
        "Accuracy-score: 97.9%\n",
        "Precision-score: 61.6%\n",
        "Recall-score: 57.8%\n",
        "F1-score: 59.6%\n",
        "              precision    recall  f1-score   support\n",
        "\n",
        "         eve       0.00      0.00      0.00         4\n",
        "         geo       0.73      0.56      0.64       250\n",
        "         gpe       0.85      0.85      0.85        93\n",
        "         nat       0.00      0.00      0.00         1\n",
        "         org       0.32      0.47      0.38       101\n",
        "         per       0.53      0.41      0.46       144\n",
        "         tim       0.71      0.73      0.72       113\n",
        "\n",
        "   micro avg       0.62      0.58      0.60       706\n",
        "   macro avg       0.45      0.43      0.43       706\n",
        "weighted avg       0.64      0.58      0.60       706\n",
        "```\n"
      ]
    },
    {
      "cell_type": "code",
      "source": [
        "class BiLSTMCRF(tf.keras.Model):\n",
        "    def __init__(self, max_len, n_words, n_tags):\n",
        "        super(BiLSTMCRF, self).__init__()\n",
        "        self.embedding = Embedding(input_dim=n_words+1, output_dim=200, input_length=max_len)\n",
        "        self.dropout = Dropout(0.5)\n",
        "        self.bilstm = Bidirectional(LSTM(units=128, return_sequences=True, recurrent_dropout=0.1))\n",
        "        self.dense = TimeDistributed(Dense(n_tags))\n",
        "        # self.dense = TimeDistributed(Dense(n_tags, activation=\"relu\"))\n",
        "        self.crf = CRF(n_tags)\n",
        "\n",
        "    def call(self, inputs, training=False):\n",
        "        x = self.embedding(inputs)\n",
        "        x = self.dropout(x, training=training)\n",
        "        x = self.bilstm(x)\n",
        "        logits = self.dense(x)\n",
        "        self.decode_tags, self.potentials, self.sequence_lengths, self.transition_params = self.crf(logits)\n",
        "        return self.potentials  # return logits for loss calculation\n",
        "\n",
        "    def train_step(self, data):\n",
        "        x, y = data\n",
        "        with tf.GradientTape() as tape:\n",
        "            potentials = self(x, training=True)\n",
        "            log_likelihood, _ = tfa.text.crf_log_likelihood(\n",
        "                potentials,\n",
        "                tag_indices=tf.argmax(y, axis=-1),\n",
        "                sequence_lengths=self.sequence_lengths,\n",
        "                transition_params=self.transition_params\n",
        "            )\n",
        "            loss = -tf.reduce_mean(log_likelihood)\n",
        "\n",
        "        gradients = tape.gradient(loss, self.trainable_variables)\n",
        "        self.optimizer.apply_gradients(zip(gradients, self.trainable_variables))\n",
        "\n",
        "        y_pred = tf.argmax(potentials, axis=-1)\n",
        "        y_true = tf.argmax(y, axis=-1)\n",
        "        acc = tf.reduce_mean(tf.cast(tf.equal(y_true, y_pred), tf.float32))\n",
        "\n",
        "        return {\"loss\": loss, \"crf_accuracy\": acc}\n",
        "\n",
        "    def test_step(self, data):\n",
        "        x, y = data\n",
        "        potentials = self(x, training=False)\n",
        "        log_likelihood, _ = tfa.text.crf_log_likelihood(\n",
        "            potentials,\n",
        "            tag_indices=tf.argmax(y, axis=-1),\n",
        "            sequence_lengths=self.sequence_lengths,\n",
        "            transition_params=self.transition_params\n",
        "        )\n",
        "        loss = -tf.reduce_mean(log_likelihood)\n",
        "\n",
        "        y_pred = tf.argmax(potentials, axis=-1)\n",
        "        y_true = tf.argmax(y, axis=-1)\n",
        "        acc = tf.reduce_mean(tf.cast(tf.equal(y_true, y_pred), tf.float32))\n",
        "\n",
        "        return {\"loss\": loss, \"crf_accuracy\": acc}\n"
      ],
      "metadata": {
        "id": "FCuV30EYSBVh"
      },
      "execution_count": 134,
      "outputs": []
    },
    {
      "cell_type": "code",
      "execution_count": 135,
      "metadata": {
        "execution": {
          "iopub.execute_input": "2025-03-20T13:14:43.602330Z",
          "iopub.status.busy": "2025-03-20T13:14:43.602148Z",
          "iopub.status.idle": "2025-03-20T13:14:47.167585Z",
          "shell.execute_reply": "2025-03-20T13:14:47.166944Z",
          "shell.execute_reply.started": "2025-03-20T13:14:43.602292Z"
        },
        "colab": {
          "base_uri": "https://localhost:8080/"
        },
        "id": "Ib9WZQqgGKBI",
        "outputId": "9762078d-ee64-425d-cb6f-72390f9b8e93"
      },
      "outputs": [
        {
          "output_type": "stream",
          "name": "stdout",
          "text": [
            "Model: \"bi_lstmcrf_4\"\n",
            "_________________________________________________________________\n",
            " Layer (type)                Output Shape              Param #   \n",
            "=================================================================\n",
            " embedding_12 (Embedding)    multiple                  3491000   \n",
            "                                                                 \n",
            " dropout_12 (Dropout)        multiple                  0         \n",
            "                                                                 \n",
            " bidirectional_12 (Bidirect  multiple                  336896    \n",
            " ional)                                                          \n",
            "                                                                 \n",
            " time_distributed_12 (TimeD  multiple                  4369      \n",
            " istributed)                                                     \n",
            "                                                                 \n",
            " crf_12 (CRF)                multiple                  629       \n",
            "                                                                 \n",
            "=================================================================\n",
            "Total params: 3832894 (14.62 MB)\n",
            "Trainable params: 3832894 (14.62 MB)\n",
            "Non-trainable params: 0 (0.00 Byte)\n",
            "_________________________________________________________________\n"
          ]
        }
      ],
      "source": [
        "model = BiLSTMCRF(max_len=max_len, n_words=n_words, n_tags=n_tags)\n",
        "model.compile(optimizer='adam')\n",
        "\n",
        "# Build it with dummy input shape so we can see summary\n",
        "model.build(input_shape=(None, max_len))\n",
        "model.summary()\n"
      ]
    },
    {
      "cell_type": "markdown",
      "source": [
        "## Train and Test with 1st Model"
      ],
      "metadata": {
        "id": "3YB6e6JbqtpF"
      }
    },
    {
      "cell_type": "code",
      "source": [
        "history = model.fit(X_train, y_train, batch_size=64, epochs=5, validation_split=0.1, verbose=1)"
      ],
      "metadata": {
        "colab": {
          "base_uri": "https://localhost:8080/"
        },
        "id": "XsVyzE1oS2vB",
        "outputId": "a17b0a86-4bcf-4a95-973c-b2ffd1d6d3cd"
      },
      "execution_count": 137,
      "outputs": [
        {
          "output_type": "stream",
          "name": "stdout",
          "text": [
            "Epoch 1/5\n",
            "114/114 [==============================] - 105s 914ms/step - loss: 37.6517 - crf_accuracy: 0.8720 - val_loss: 41.8606 - val_crf_accuracy: 0.8308\n",
            "Epoch 2/5\n",
            "114/114 [==============================] - 92s 808ms/step - loss: 23.2681 - crf_accuracy: 0.9053 - val_loss: 26.6206 - val_crf_accuracy: 0.8962\n",
            "Epoch 3/5\n",
            "114/114 [==============================] - 98s 859ms/step - loss: 14.0224 - crf_accuracy: 0.9483 - val_loss: 15.1572 - val_crf_accuracy: 0.9460\n",
            "Epoch 4/5\n",
            "114/114 [==============================] - 92s 805ms/step - loss: 8.9997 - crf_accuracy: 0.9652 - val_loss: 10.4944 - val_crf_accuracy: 0.9603\n",
            "Epoch 5/5\n",
            "114/114 [==============================] - 93s 817ms/step - loss: 6.2983 - crf_accuracy: 0.9740 - val_loss: 8.4401 - val_crf_accuracy: 0.9663\n"
          ]
        }
      ]
    },
    {
      "cell_type": "code",
      "source": [
        "hist = pd.DataFrame(history.history)\n",
        "# model.save(\"crf_model1.h5\")\n",
        "model.save(\"crf_model1.keras\")\n",
        "loaded_model = tf.keras.models.load_model(\"crf_model1.keras\", custom_objects={\"BiLSTMCRF\": BiLSTMCRF})"
      ],
      "metadata": {
        "id": "AgdSC1w9ULfG"
      },
      "execution_count": 138,
      "outputs": []
    },
    {
      "cell_type": "code",
      "source": [
        "# Use \"ggplot\" style for better aesthetics\n",
        "plt.style.use(\"ggplot\")\n",
        "\n",
        "# Create the figure\n",
        "plt.figure(figsize=(15, 9))  # Adjust size for better visualization\n",
        "\n",
        "# Plot training and validation accuracy\n",
        "plt.plot(hist[\"crf_accuracy\"], label=\"Train Accuracy\", marker='o', linestyle='-', linewidth=2)\n",
        "plt.plot(hist[\"val_crf_accuracy\"], label=\"Validation Accuracy\", marker='s', linestyle='--', linewidth=2)\n",
        "\n",
        "# Add title and labels\n",
        "plt.title(\"CRF Viterbi Accuracy Over Epochs\", fontsize=14, fontweight=\"bold\")\n",
        "plt.xlabel(\"Epochs\", fontsize=12)\n",
        "plt.ylabel(\"Accuracy\", fontsize=12)\n",
        "\n",
        "# Add legend\n",
        "plt.legend(loc=\"lower right\", fontsize=12)\n",
        "\n",
        "# Add grid for better readability\n",
        "plt.grid(True, linestyle='--', linewidth=0.6, alpha=0.7)\n",
        "\n",
        "# Show the plot\n",
        "plt.show()\n"
      ],
      "metadata": {
        "colab": {
          "base_uri": "https://localhost:8080/",
          "height": 800
        },
        "collapsed": true,
        "id": "SpCbSS3NUqls",
        "outputId": "d94efe96-6440-41b9-aea8-520c9e019274"
      },
      "execution_count": 139,
      "outputs": [
        {
          "output_type": "display_data",
          "data": {
            "text/plain": [
              "<Figure size 1500x900 with 1 Axes>"
            ],
            "image/png": "[encoded data removed]"
          },
          "metadata": {}
        }
      ]
    },
    {
      "cell_type": "code",
      "source": [
        "# Use \"ggplot\" style for better aesthetics\n",
        "plt.style.use(\"ggplot\")\n",
        "\n",
        "# Create the figure\n",
        "plt.figure(figsize=(15, 12))  # Adjust size for better visualization\n",
        "\n",
        "# Plot training and validation loss\n",
        "plt.plot(hist[\"loss\"], label=\"Train Loss\", marker='o', linestyle='-', linewidth=2, color='red')\n",
        "plt.plot(hist[\"val_loss\"], label=\"Validation Loss\", marker='s', linestyle='--', linewidth=2, color='blue')\n",
        "\n",
        "# Add title and labels\n",
        "plt.title(\"Training and Validation Loss Over Epochs\", fontsize=14, fontweight=\"bold\")\n",
        "plt.xlabel(\"Epochs\", fontsize=12)\n",
        "plt.ylabel(\"Loss\", fontsize=12)\n",
        "\n",
        "# Add legend\n",
        "plt.legend(loc=\"upper right\", fontsize=12)\n",
        "\n",
        "# Add grid for better readability\n",
        "plt.grid(True, linestyle='--', linewidth=0.6, alpha=0.7)\n",
        "\n",
        "# Show the plot\n",
        "plt.show()\n"
      ],
      "metadata": {
        "colab": {
          "base_uri": "https://localhost:8080/",
          "height": 1000
        },
        "collapsed": true,
        "id": "WU3ttxjcULcW",
        "outputId": "6d335fe4-499e-4615-ad75-d7d17eaecd06"
      },
      "execution_count": 140,
      "outputs": [
        {
          "output_type": "display_data",
          "data": {
            "text/plain": [
              "<Figure size 1500x1200 with 1 Axes>"
            ],
            "image/png": "[encoded data removed]"
          },
          "metadata": {}
        }
      ]
    },
    {
      "cell_type": "code",
      "source": [
        "logits = model.predict(X_test)"
      ],
      "metadata": {
        "colab": {
          "base_uri": "https://localhost:8080/"
        },
        "id": "fqxnhBl5Vr9g",
        "outputId": "096237d2-baa6-4c93-9d29-3889d62cad85"
      },
      "execution_count": 141,
      "outputs": [
        {
          "output_type": "stream",
          "name": "stdout",
          "text": [
            "10/10 [==============================] - 1s 55ms/step\n"
          ]
        }
      ]
    },
    {
      "cell_type": "code",
      "source": [
        "viterbi_sequences = []\n",
        "for logit in logits:\n",
        "    viterbi_seq, _ = tfa.text.viterbi_decode(logit, model.transition_params.numpy())\n",
        "    viterbi_sequences.append(viterbi_seq)"
      ],
      "metadata": {
        "id": "-ow-diR7Vrz_"
      },
      "execution_count": 142,
      "outputs": []
    },
    {
      "cell_type": "code",
      "source": [
        "idx2tag = {i: w for w, i in tag2idx.items()}\n",
        "\n",
        "def pred2label(preds):\n",
        "    out = []\n",
        "    for pred in preds:\n",
        "        out.append([idx2tag[i] for i in pred])\n",
        "    return out\n",
        "\n",
        "def true2label(y_true):\n",
        "    out = []\n",
        "    for true_seq in y_true:\n",
        "        out.append([idx2tag[np.argmax(tag_vec)] for tag_vec in true_seq])\n",
        "    return out\n",
        "\n",
        "pred_labels = pred2label(viterbi_sequences)\n",
        "true_labels = true2label(y_test)\n",
        "\n",
        "print(\"Accuracy-score: {:.1%}\".format(accuracy_score(true_labels, pred_labels)))\n",
        "print(\"Precision-score: {:.1%}\".format(precision_score(true_labels, pred_labels)))\n",
        "print(\"Recall-score: {:.1%}\".format(recall_score(true_labels, pred_labels)))\n",
        "print(\"F1-score: {:.1%}\".format(f1_score(true_labels, pred_labels)))\n",
        "print(classification_report(true_labels, pred_labels))"
      ],
      "metadata": {
        "colab": {
          "base_uri": "https://localhost:8080/"
        },
        "id": "e8etpZg-VvBO",
        "outputId": "d3596c75-34ef-4a99-d639-a4683f7415bc"
      },
      "execution_count": 143,
      "outputs": [
        {
          "output_type": "stream",
          "name": "stdout",
          "text": [
            "Accuracy-score: 97.9%\n",
            "Precision-score: 61.6%\n",
            "Recall-score: 57.8%\n",
            "F1-score: 59.6%\n",
            "              precision    recall  f1-score   support\n",
            "\n",
            "         eve       0.00      0.00      0.00         4\n",
            "         geo       0.73      0.56      0.64       250\n",
            "         gpe       0.85      0.85      0.85        93\n",
            "         nat       0.00      0.00      0.00         1\n",
            "         org       0.32      0.47      0.38       101\n",
            "         per       0.53      0.41      0.46       144\n",
            "         tim       0.71      0.73      0.72       113\n",
            "\n",
            "   micro avg       0.62      0.58      0.60       706\n",
            "   macro avg       0.45      0.43      0.43       706\n",
            "weighted avg       0.64      0.58      0.60       706\n",
            "\n"
          ]
        },
        {
          "output_type": "stream",
          "name": "stderr",
          "text": [
            "/usr/local/lib/python3.11/dist-packages/seqeval/metrics/v1.py:57: UndefinedMetricWarning: Precision and F-score are ill-defined and being set to 0.0 in labels with no predicted samples. Use `zero_division` parameter to control this behavior.\n",
            "  _warn_prf(average, modifier, msg_start, len(result))\n"
          ]
        }
      ]
    },
    {
      "cell_type": "code",
      "source": [
        "i = 1\n",
        "p = model.predict(np.array([X_test[i]]))\n",
        "p = np.argmax(p, axis=-1)\n",
        "true = np.argmax(y_test[i], -1)\n",
        "print(\"{:15}||{:5}||{}\".format(\"Word\", \"True\", \"Pred\"))\n",
        "print(30 * \"=\")\n",
        "for w, t, pred in zip(X_test[i], true, p[0]):\n",
        "    if w != 0:\n",
        "        print(\"{:15}: {:5} {}\".format(words[w-1], tags[t], tags[pred]))"
      ],
      "metadata": {
        "colab": {
          "base_uri": "https://localhost:8080/"
        },
        "collapsed": true,
        "id": "_5alGCQSb-dF",
        "outputId": "67a90d39-f3a7-4ce1-d9a6-102655cf6067"
      },
      "execution_count": 154,
      "outputs": [
        {
          "output_type": "stream",
          "name": "stdout",
          "text": [
            "1/1 [==============================] - 0s 85ms/step\n",
            "Word           ||True ||Pred\n",
            "==============================\n",
            "Both           : O     O\n",
            "sides          : O     O\n",
            "hope           : O     O\n",
            "to             : O     O\n",
            "gain           : O     O\n",
            "an             : O     O\n",
            "edge           : O     O\n",
            "in             : O     O\n",
            "talks          : O     O\n",
            "on             : O     O\n",
            "a              : O     O\n",
            "new            : O     O\n",
            "government     : O     O\n",
            "after          : O     O\n",
            "the            : O     O\n",
            "inconclusive   : O     O\n",
            "September      : B-tim B-tim\n",
            "18             : I-tim I-tim\n",
            "balloting      : O     I-tim\n",
            "left           : O     O\n",
            "Ms.            : B-per B-per\n",
            "Merkel         : B-geo B-org\n",
            "'s             : O     I-org\n",
            "Christian      : B-geo B-tim\n",
            "Democrats      : I-geo I-org\n",
            "just           : O     O\n",
            "three          : O     I-org\n",
            "seats          : O     O\n",
            "ahead          : O     O\n",
            "of             : O     O\n",
            "the            : O     O\n",
            "Chancellor     : B-per B-per\n",
            "'s             : O     O\n",
            "Social         : O     B-org\n",
            "Democrats      : O     I-org\n",
            ".              : O     O\n",
            "ENDPAD         : O     O\n",
            "ENDPAD         : O     O\n",
            "ENDPAD         : O     O\n",
            "ENDPAD         : O     O\n",
            "ENDPAD         : O     O\n",
            "ENDPAD         : O     O\n",
            "ENDPAD         : O     O\n",
            "ENDPAD         : O     O\n",
            "ENDPAD         : O     O\n",
            "ENDPAD         : O     O\n",
            "ENDPAD         : O     O\n",
            "ENDPAD         : O     O\n",
            "ENDPAD         : O     O\n",
            "ENDPAD         : O     O\n",
            "ENDPAD         : O     O\n",
            "ENDPAD         : O     O\n",
            "ENDPAD         : O     O\n",
            "ENDPAD         : O     O\n",
            "ENDPAD         : O     O\n",
            "ENDPAD         : O     O\n",
            "ENDPAD         : O     O\n",
            "ENDPAD         : O     O\n",
            "ENDPAD         : O     O\n",
            "ENDPAD         : O     O\n",
            "ENDPAD         : O     O\n",
            "ENDPAD         : O     O\n",
            "ENDPAD         : O     O\n",
            "ENDPAD         : O     O\n",
            "ENDPAD         : O     O\n",
            "ENDPAD         : O     O\n",
            "ENDPAD         : O     O\n",
            "ENDPAD         : O     O\n",
            "ENDPAD         : O     O\n",
            "ENDPAD         : O     O\n",
            "ENDPAD         : O     O\n",
            "ENDPAD         : O     O\n",
            "ENDPAD         : O     O\n",
            "ENDPAD         : O     O\n",
            "ENDPAD         : O     O\n"
          ]
        }
      ]
    },
    {
      "cell_type": "code",
      "source": [
        "re_tok = re.compile(f'([{string.punctuation}“”¨«»®´·º½¾¿¡§£₤‘’])')\n",
        "\n",
        "def tokenize(s):\n",
        "    return re_tok.sub(r' \\1 ', s).split()"
      ],
      "metadata": {
        "id": "W7qf_8dYbavD"
      },
      "execution_count": 147,
      "outputs": []
    },
    {
      "cell_type": "code",
      "source": [
        "# test_sentence=\"On 18/04/2004, Barack Obama said that he loved his country which is Vietnam very much. You know, Apple is such an amazing tech company.\"\n",
        "test_sentence = \"On January 1st, 2023, Elon Musk announced that Tesla would open a new factory in Jakarta, Indonesia, partnering with Samsung and MIT.\"\n",
        "x_test_sent = pad_sequences(sequences=[[word2idx.get(w, 0) for w in tokenize(test_sentence)]],\n",
        "                            padding=\"post\", value=0, maxlen=max_len)"
      ],
      "metadata": {
        "id": "YeicWOVabdd9"
      },
      "execution_count": 152,
      "outputs": []
    },
    {
      "cell_type": "code",
      "source": [
        "p = model.predict(np.array([x_test_sent[0]]))\n",
        "p = np.argmax(p, axis=-1)\n",
        "print(\"{:15}||{}\".format(\"Word\", \"Prediction\"))\n",
        "print(30 * \"=\")\n",
        "for w, pred in zip(tokenize(test_sentence), p[0]):\n",
        "    print(\"{:15}: {:5}\".format(w, tags[pred]))"
      ],
      "metadata": {
        "colab": {
          "base_uri": "https://localhost:8080/"
        },
        "id": "ZqMEKvQOVu6T",
        "outputId": "816e55a8-0903-4c40-f676-8f157bbc7373"
      },
      "execution_count": 153,
      "outputs": [
        {
          "output_type": "stream",
          "name": "stdout",
          "text": [
            "1/1 [==============================] - 0s 43ms/step\n",
            "Word           ||Prediction\n",
            "==============================\n",
            "On             : O    \n",
            "January        : B-tim\n",
            "1st            : I-tim\n",
            ",              : O    \n",
            "2023           : O    \n",
            ",              : O    \n",
            "Elon           : O    \n",
            "Musk           : O    \n",
            "announced      : O    \n",
            "that           : O    \n",
            "Tesla          : O    \n",
            "would          : O    \n",
            "open           : O    \n",
            "a              : O    \n",
            "new            : O    \n",
            "factory        : O    \n",
            "in             : O    \n",
            "Jakarta        : B-geo\n",
            ",              : O    \n",
            "Indonesia      : B-geo\n",
            ",              : O    \n",
            "partnering     : O    \n",
            "with           : O    \n",
            "Samsung        : O    \n",
            "and            : O    \n",
            "MIT            : O    \n",
            ".              : O    \n"
          ]
        }
      ]
    },
    {
      "cell_type": "code",
      "source": [],
      "metadata": {
        "id": "cf8XigG-dAsh"
      },
      "execution_count": null,
      "outputs": []
    },
    {
      "cell_type": "code",
      "source": [],
      "metadata": {
        "id": "QoyTXBViVuqL"
      },
      "execution_count": null,
      "outputs": []
    },
    {
      "cell_type": "markdown",
      "source": [
        "# Defining BiLSTM-CRF Model: more advanced\n",
        "\n",
        "This model gets the performance on the test set like this:\n",
        "\n",
        "```\n",
        "Accuracy-score: 98.1%\n",
        "Precision-score: 69.8%\n",
        "Recall-score: 61.3%\n",
        "F1-score: 65.3%\n",
        "              precision    recall  f1-score   support\n",
        "\n",
        "         art       0.00      0.00      0.00         0\n",
        "         eve       0.00      0.00      0.00         4\n",
        "         geo       0.80      0.64      0.71       250\n",
        "         gpe       0.86      0.81      0.83        93\n",
        "         nat       0.00      0.00      0.00         1\n",
        "         org       0.44      0.47      0.45       101\n",
        "         per       0.63      0.47      0.54       144\n",
        "         tim       0.75      0.75      0.75       113\n",
        "\n",
        "   micro avg       0.70      0.61      0.65       706\n",
        "   macro avg       0.44      0.39      0.41       706\n",
        "weighted avg       0.71      0.61      0.66       706\n",
        "```\n"
      ],
      "metadata": {
        "id": "q8PzCgWXryc7"
      }
    },
    {
      "cell_type": "markdown",
      "metadata": {
        "id": "QOwenMASGKBS"
      },
      "source": [
        "## Setup the BiLSTM-CRF 2: little bit better\n",
        "\n"
      ]
    },
    {
      "cell_type": "code",
      "source": [
        "class BiLSTMCRF_Advanced(tf.keras.Model):\n",
        "    def __init__(self, max_len, n_words, n_tags,\n",
        "                 embedding_dim=200,\n",
        "                 lstm_units=128,\n",
        "                 dropout_rate=0.4,\n",
        "                 recurrent_dropout=0.25,\n",
        "                 l2_reg=0.01):\n",
        "        super(BiLSTMCRF_Advanced, self).__init__()\n",
        "\n",
        "        self.embedding = Embedding(input_dim=n_words + 1, output_dim=embedding_dim, input_length=max_len)\n",
        "        self.dropout = Dropout(dropout_rate)\n",
        "\n",
        "        self.bilstm = Bidirectional(LSTM(\n",
        "            units=lstm_units,\n",
        "            return_sequences=True,\n",
        "            recurrent_dropout=recurrent_dropout,\n",
        "            kernel_regularizer=l2(l2_reg),\n",
        "            recurrent_regularizer=l2(l2_reg)\n",
        "        ))\n",
        "\n",
        "        # this good with\n",
        "        # Accuracy-score: 98.1%\n",
        "        # Precision-score: 67.3%\n",
        "        # Recall-score: 61.6%\n",
        "        # F1-score: 64.3%\n",
        "        # self.dense = TimeDistributed(Dense(n_tags, activation=\"relu\"))\n",
        "\n",
        "        # now test for no relu - this seems to be better with no relu as activation\n",
        "        self.dense = TimeDistributed(Dense(n_tags))\n",
        "        self.crf = CRF(n_tags)\n",
        "\n",
        "    def call(self, inputs, training=False):\n",
        "        x = self.embedding(inputs)\n",
        "        x = self.dropout(x, training=training)\n",
        "        x = self.bilstm(x)\n",
        "        logits = self.dense(x)\n",
        "        self.decode_tags, self.potentials, self.sequence_lengths, self.transition_params = self.crf(logits)\n",
        "        return self.potentials\n",
        "\n",
        "    def train_step(self, data):\n",
        "        x, y = data\n",
        "        with tf.GradientTape() as tape:\n",
        "            potentials = self(x, training=True)\n",
        "            log_likelihood, _ = tfa.text.crf_log_likelihood(\n",
        "                potentials,\n",
        "                tag_indices=tf.argmax(y, axis=-1),\n",
        "                sequence_lengths=self.sequence_lengths,\n",
        "                transition_params=self.transition_params\n",
        "            )\n",
        "            loss = -tf.reduce_mean(log_likelihood)\n",
        "\n",
        "        gradients = tape.gradient(loss, self.trainable_variables)\n",
        "        self.optimizer.apply_gradients(zip(gradients, self.trainable_variables))\n",
        "\n",
        "        y_pred = tf.argmax(potentials, axis=-1)\n",
        "        y_true = tf.argmax(y, axis=-1)\n",
        "        acc = tf.reduce_mean(tf.cast(tf.equal(y_true, y_pred), tf.float32))\n",
        "\n",
        "        return {\"loss\": loss, \"crf_accuracy\": acc}\n",
        "\n",
        "    def test_step(self, data):\n",
        "        x, y = data\n",
        "        potentials = self(x, training=False)\n",
        "        log_likelihood, _ = tfa.text.crf_log_likelihood(\n",
        "            potentials,\n",
        "            tag_indices=tf.argmax(y, axis=-1),\n",
        "            sequence_lengths=self.sequence_lengths,\n",
        "            transition_params=self.transition_params\n",
        "        )\n",
        "        loss = -tf.reduce_mean(log_likelihood)\n",
        "\n",
        "        y_pred = tf.argmax(potentials, axis=-1)\n",
        "        y_true = tf.argmax(y, axis=-1)\n",
        "        acc = tf.reduce_mean(tf.cast(tf.equal(y_true, y_pred), tf.float32))\n",
        "\n",
        "        return {\"loss\": loss, \"crf_accuracy\": acc}\n",
        "\n"
      ],
      "metadata": {
        "id": "zVkQ_0uzdNb6"
      },
      "execution_count": 175,
      "outputs": []
    },
    {
      "cell_type": "code",
      "source": [
        "optimizer = tf.keras.optimizers.legacy.Adam(\n",
        "    learning_rate=0.0025, beta_1=0.9, beta_2=0.999, decay=1e-4, clipnorm=1.0\n",
        ")\n",
        "\n",
        "model = BiLSTMCRF_Advanced(max_len=max_len, n_words=n_words, n_tags=n_tags)\n",
        "model.compile(optimizer=optimizer)\n",
        "model.build(input_shape=(None, max_len))  # For model.summary()\n",
        "model.summary()"
      ],
      "metadata": {
        "colab": {
          "base_uri": "https://localhost:8080/"
        },
        "id": "H_UXPgAxdNZI",
        "outputId": "7dbd088a-ce22-40ea-bdb9-adcc412c6d0b"
      },
      "execution_count": 176,
      "outputs": [
        {
          "output_type": "stream",
          "name": "stdout",
          "text": [
            "Model: \"bi_lstmcrf__advanced_3\"\n",
            "_________________________________________________________________\n",
            " Layer (type)                Output Shape              Param #   \n",
            "=================================================================\n",
            " embedding_17 (Embedding)    multiple                  3491000   \n",
            "                                                                 \n",
            " dropout_17 (Dropout)        multiple                  0         \n",
            "                                                                 \n",
            " bidirectional_17 (Bidirect  multiple                  336896    \n",
            " ional)                                                          \n",
            "                                                                 \n",
            " time_distributed_17 (TimeD  multiple                  4369      \n",
            " istributed)                                                     \n",
            "                                                                 \n",
            " crf_17 (CRF)                multiple                  629       \n",
            "                                                                 \n",
            "=================================================================\n",
            "Total params: 3832894 (14.62 MB)\n",
            "Trainable params: 3832894 (14.62 MB)\n",
            "Non-trainable params: 0 (0.00 Byte)\n",
            "_________________________________________________________________\n"
          ]
        }
      ]
    },
    {
      "cell_type": "markdown",
      "source": [
        "## Train and Test with 2nd Model"
      ],
      "metadata": {
        "id": "NLJQV2NsrIPv"
      }
    },
    {
      "cell_type": "code",
      "source": [
        "lr_scheduler = tf.keras.callbacks.ReduceLROnPlateau(\n",
        "    monitor=\"val_crf_accuracy\",  # from test_step\n",
        "    factor=0.5,\n",
        "    patience=3,\n",
        "    min_lr=1e-6,\n",
        "    verbose=1\n",
        ")"
      ],
      "metadata": {
        "id": "K-aoucjsdNWA"
      },
      "execution_count": 177,
      "outputs": []
    },
    {
      "cell_type": "code",
      "source": [
        "history = model.fit(\n",
        "    X_train, y_train,\n",
        "    batch_size=64,\n",
        "    epochs=5,\n",
        "    validation_split=0.1,\n",
        "    verbose=1,\n",
        "    callbacks=[lr_scheduler]\n",
        ")"
      ],
      "metadata": {
        "colab": {
          "base_uri": "https://localhost:8080/"
        },
        "id": "jNZ8nrmgdNRW",
        "outputId": "d59457ef-d2be-4fe7-a0f3-c29e08157a93"
      },
      "execution_count": 178,
      "outputs": [
        {
          "output_type": "stream",
          "name": "stdout",
          "text": [
            "Epoch 1/5\n",
            "114/114 [==============================] - 99s 805ms/step - loss: 31.4326 - crf_accuracy: 0.8937 - val_loss: 18.5762 - val_crf_accuracy: 0.9286 - lr: 0.0025\n",
            "Epoch 2/5\n",
            "114/114 [==============================] - 89s 777ms/step - loss: 8.7672 - crf_accuracy: 0.9618 - val_loss: 8.2082 - val_crf_accuracy: 0.9657 - lr: 0.0025\n",
            "Epoch 3/5\n",
            "114/114 [==============================] - 90s 787ms/step - loss: 4.4375 - crf_accuracy: 0.9776 - val_loss: 5.8581 - val_crf_accuracy: 0.9759 - lr: 0.0025\n",
            "Epoch 4/5\n",
            "114/114 [==============================] - 90s 793ms/step - loss: 2.6718 - crf_accuracy: 0.9856 - val_loss: 4.9491 - val_crf_accuracy: 0.9787 - lr: 0.0025\n",
            "Epoch 5/5\n",
            "114/114 [==============================] - 89s 784ms/step - loss: 1.7682 - crf_accuracy: 0.9902 - val_loss: 4.9294 - val_crf_accuracy: 0.9806 - lr: 0.0025\n"
          ]
        }
      ]
    },
    {
      "cell_type": "code",
      "source": [
        "hist = pd.DataFrame(history.history)\n",
        "# model.save(\"crf_model1.h5\")\n",
        "model.save(\"crf_model2.keras\")\n",
        "loaded_model = tf.keras.models.load_model(\"crf_model2.keras\", custom_objects={\"BiLSTMCRF_Advanced\": BiLSTMCRF_Advanced})"
      ],
      "metadata": {
        "id": "Sl77yJ4ZegAD"
      },
      "execution_count": 179,
      "outputs": []
    },
    {
      "cell_type": "code",
      "source": [
        "# Use \"ggplot\" style for better aesthetics\n",
        "plt.style.use(\"ggplot\")\n",
        "\n",
        "# Create the figure\n",
        "plt.figure(figsize=(15, 9))  # Adjust size for better visualization\n",
        "\n",
        "# Plot training and validation accuracy\n",
        "plt.plot(hist[\"crf_accuracy\"], label=\"Train Accuracy\", marker='o', linestyle='-', linewidth=2)\n",
        "plt.plot(hist[\"val_crf_accuracy\"], label=\"Validation Accuracy\", marker='s', linestyle='--', linewidth=2)\n",
        "\n",
        "# Add title and labels\n",
        "plt.title(\"CRF Viterbi Accuracy Over Epochs\", fontsize=14, fontweight=\"bold\")\n",
        "plt.xlabel(\"Epochs\", fontsize=12)\n",
        "plt.ylabel(\"Accuracy\", fontsize=12)\n",
        "\n",
        "# Add legend\n",
        "plt.legend(loc=\"lower right\", fontsize=12)\n",
        "\n",
        "# Add grid for better readability\n",
        "plt.grid(True, linestyle='--', linewidth=0.6, alpha=0.7)\n",
        "\n",
        "# Show the plot\n",
        "plt.show()"
      ],
      "metadata": {
        "colab": {
          "base_uri": "https://localhost:8080/",
          "height": 800
        },
        "collapsed": true,
        "id": "_pjWfbLFfB0d",
        "outputId": "a769fe69-1a34-4c84-888b-9683471881c3"
      },
      "execution_count": 180,
      "outputs": [
        {
          "output_type": "display_data",
          "data": {
            "text/plain": [
              "<Figure size 1500x900 with 1 Axes>"
            ],
            "image/png": "[encoded data removed]"
          },
          "metadata": {}
        }
      ]
    },
    {
      "cell_type": "code",
      "source": [
        "# Use \"ggplot\" style for better aesthetics\n",
        "plt.style.use(\"ggplot\")\n",
        "\n",
        "# Create the figure\n",
        "plt.figure(figsize=(15, 12))  # Adjust size for better visualization\n",
        "\n",
        "# Plot training and validation loss\n",
        "plt.plot(hist[\"loss\"], label=\"Train Loss\", marker='o', linestyle='-', linewidth=2, color='red')\n",
        "plt.plot(hist[\"val_loss\"], label=\"Validation Loss\", marker='s', linestyle='--', linewidth=2, color='blue')\n",
        "\n",
        "# Add title and labels\n",
        "plt.title(\"Training and Validation Loss Over Epochs\", fontsize=14, fontweight=\"bold\")\n",
        "plt.xlabel(\"Epochs\", fontsize=12)\n",
        "plt.ylabel(\"Loss\", fontsize=12)\n",
        "\n",
        "# Add legend\n",
        "plt.legend(loc=\"upper right\", fontsize=12)\n",
        "\n",
        "# Add grid for better readability\n",
        "plt.grid(True, linestyle='--', linewidth=0.6, alpha=0.7)\n",
        "\n",
        "# Show the plot\n",
        "plt.show()"
      ],
      "metadata": {
        "colab": {
          "base_uri": "https://localhost:8080/",
          "height": 1000
        },
        "collapsed": true,
        "id": "kXYh-qimfDgX",
        "outputId": "4aa3e01a-1d48-40c2-fc5b-5bf71268f15d"
      },
      "execution_count": 181,
      "outputs": [
        {
          "output_type": "display_data",
          "data": {
            "text/plain": [
              "<Figure size 1500x1200 with 1 Axes>"
            ],
            "image/png": "[encoded data removed]"
          },
          "metadata": {}
        }
      ]
    },
    {
      "cell_type": "code",
      "source": [
        "model = loaded_model\n",
        "logits = model.predict(X_test)"
      ],
      "metadata": {
        "colab": {
          "base_uri": "https://localhost:8080/"
        },
        "id": "ODIj88KMhUVj",
        "outputId": "86a76c4d-2830-4b54-ade0-0ea84ef77755"
      },
      "execution_count": 182,
      "outputs": [
        {
          "output_type": "stream",
          "name": "stdout",
          "text": [
            "10/10 [==============================] - 1s 57ms/step\n"
          ]
        }
      ]
    },
    {
      "cell_type": "code",
      "source": [
        "viterbi_sequences = []\n",
        "for logit in logits:\n",
        "    viterbi_seq, _ = tfa.text.viterbi_decode(logit, model.transition_params.numpy())\n",
        "    viterbi_sequences.append(viterbi_seq)\n",
        "\n",
        "pred_labels = pred2label(viterbi_sequences)\n",
        "true_labels = true2label(y_test)\n",
        "\n",
        "print(\"Accuracy-score: {:.1%}\".format(accuracy_score(true_labels, pred_labels)))\n",
        "print(\"Precision-score: {:.1%}\".format(precision_score(true_labels, pred_labels)))\n",
        "print(\"Recall-score: {:.1%}\".format(recall_score(true_labels, pred_labels)))\n",
        "print(\"F1-score: {:.1%}\".format(f1_score(true_labels, pred_labels)))\n",
        "print(classification_report(true_labels, pred_labels))\n"
      ],
      "metadata": {
        "colab": {
          "base_uri": "https://localhost:8080/"
        },
        "id": "1NijR8Uqef0k",
        "outputId": "ebe80b3a-c436-4505-8d45-56b56eb4e663"
      },
      "execution_count": 183,
      "outputs": [
        {
          "output_type": "stream",
          "name": "stdout",
          "text": [
            "Accuracy-score: 98.1%\n",
            "Precision-score: 69.8%\n",
            "Recall-score: 61.3%\n",
            "F1-score: 65.3%\n",
            "              precision    recall  f1-score   support\n",
            "\n",
            "         art       0.00      0.00      0.00         0\n",
            "         eve       0.00      0.00      0.00         4\n",
            "         geo       0.80      0.64      0.71       250\n",
            "         gpe       0.86      0.81      0.83        93\n",
            "         nat       0.00      0.00      0.00         1\n",
            "         org       0.44      0.47      0.45       101\n",
            "         per       0.63      0.47      0.54       144\n",
            "         tim       0.75      0.75      0.75       113\n",
            "\n",
            "   micro avg       0.70      0.61      0.65       706\n",
            "   macro avg       0.44      0.39      0.41       706\n",
            "weighted avg       0.71      0.61      0.66       706\n",
            "\n"
          ]
        },
        {
          "output_type": "stream",
          "name": "stderr",
          "text": [
            "/usr/local/lib/python3.11/dist-packages/seqeval/metrics/v1.py:57: UndefinedMetricWarning: Recall and F-score are ill-defined and being set to 0.0 in labels with no true samples. Use `zero_division` parameter to control this behavior.\n",
            "  _warn_prf(average, modifier, msg_start, len(result))\n"
          ]
        }
      ]
    },
    {
      "cell_type": "code",
      "source": [
        "i = 0\n",
        "p = model.predict(np.array([X_test[i]]))\n",
        "p = np.argmax(p, axis=-1)\n",
        "true = np.argmax(y_test[i], -1)\n",
        "print(\"{:15}||{:5}||{}\".format(\"Word\", \"True\", \"Pred\"))\n",
        "print(30 * \"=\")\n",
        "for w, t, pred in zip(X_test[i], true, p[0]):\n",
        "    if w != 0:\n",
        "        print(\"{:15}: {:5} {}\".format(words[w-1], tags[t], tags[pred]))"
      ],
      "metadata": {
        "colab": {
          "base_uri": "https://localhost:8080/"
        },
        "collapsed": true,
        "id": "ZLTw7m-Mefsv",
        "outputId": "9ef6cde2-1024-4d84-9c72-44605f320c3b"
      },
      "execution_count": 190,
      "outputs": [
        {
          "output_type": "stream",
          "name": "stdout",
          "text": [
            "1/1 [==============================] - 0s 73ms/step\n",
            "Word           ||True ||Pred\n",
            "==============================\n",
            "German         : B-gpe B-gpe\n",
            "Chancellor     : B-per B-per\n",
            "Gerhard        : I-per I-per\n",
            "Schroeder      : I-per I-per\n",
            "and            : O     O\n",
            "his            : O     O\n",
            "challenger     : O     O\n",
            ",              : O     O\n",
            "Angela         : B-per B-per\n",
            "Merkel         : I-per B-org\n",
            ",              : O     O\n",
            "are            : O     O\n",
            "campaigning    : O     O\n",
            "in             : O     O\n",
            "the            : O     O\n",
            "eastern        : O     O\n",
            "city           : O     O\n",
            "of             : O     O\n",
            "Dresden        : B-geo O\n",
            "ahead          : O     O\n",
            "of             : O     O\n",
            "Sunday         : B-tim B-tim\n",
            "'s             : O     O\n",
            "vote           : O     O\n",
            "for            : O     O\n",
            "the            : O     O\n",
            "only           : O     O\n",
            "seat           : O     O\n",
            "left           : O     O\n",
            "undecided      : O     O\n",
            "in             : O     O\n",
            "this           : O     O\n",
            "month          : O     O\n",
            "'s             : O     O\n",
            "parliamentary  : O     O\n",
            "elections      : O     O\n",
            ".              : O     O\n",
            "ENDPAD         : O     O\n",
            "ENDPAD         : O     O\n",
            "ENDPAD         : O     O\n",
            "ENDPAD         : O     O\n",
            "ENDPAD         : O     O\n",
            "ENDPAD         : O     O\n",
            "ENDPAD         : O     O\n",
            "ENDPAD         : O     O\n",
            "ENDPAD         : O     O\n",
            "ENDPAD         : O     O\n",
            "ENDPAD         : O     O\n",
            "ENDPAD         : O     O\n",
            "ENDPAD         : O     O\n",
            "ENDPAD         : O     O\n",
            "ENDPAD         : O     O\n",
            "ENDPAD         : O     O\n",
            "ENDPAD         : O     O\n",
            "ENDPAD         : O     O\n",
            "ENDPAD         : O     O\n",
            "ENDPAD         : O     O\n",
            "ENDPAD         : O     O\n",
            "ENDPAD         : O     O\n",
            "ENDPAD         : O     O\n",
            "ENDPAD         : O     O\n",
            "ENDPAD         : O     O\n",
            "ENDPAD         : O     O\n",
            "ENDPAD         : O     O\n",
            "ENDPAD         : O     O\n",
            "ENDPAD         : O     O\n",
            "ENDPAD         : O     O\n",
            "ENDPAD         : O     O\n",
            "ENDPAD         : O     O\n",
            "ENDPAD         : O     O\n",
            "ENDPAD         : O     O\n",
            "ENDPAD         : O     O\n",
            "ENDPAD         : O     O\n",
            "ENDPAD         : O     O\n",
            "ENDPAD         : O     O\n"
          ]
        }
      ]
    },
    {
      "cell_type": "code",
      "source": [
        "# test_sentence=\"On 18/04/2004, Barack Obama said that he loved his country which is Vietnam very much. You know, Apple is such an amazing tech company.\"\n",
        "test_sentence = \"On January 1st, 2023, Elon Musk announced that Tesla would open a new factory in Jakarta, Indonesia, partnering with Samsung and MIT.\"\n",
        "x_test_sent = pad_sequences(sequences=[[word2idx.get(w, 0) for w in tokenize(test_sentence)]],\n",
        "                            padding=\"post\", value=0, maxlen=max_len)\n",
        "\n",
        "p = model.predict(np.array([x_test_sent[0]]))\n",
        "p = np.argmax(p, axis=-1)\n",
        "print(\"{:15}||{}\".format(\"Word\", \"Prediction\"))\n",
        "print(30 * \"=\")\n",
        "for w, pred in zip(tokenize(test_sentence), p[0]):\n",
        "    print(\"{:15}: {:5}\".format(w, tags[pred]))"
      ],
      "metadata": {
        "colab": {
          "base_uri": "https://localhost:8080/"
        },
        "id": "CCZh9-cqdNNN",
        "outputId": "c2abd614-90a2-4e56-daac-400d8864b761"
      },
      "execution_count": 191,
      "outputs": [
        {
          "output_type": "stream",
          "name": "stdout",
          "text": [
            "1/1 [==============================] - 0s 56ms/step\n",
            "Word           ||Prediction\n",
            "==============================\n",
            "On             : O    \n",
            "January        : B-tim\n",
            "1st            : B-tim\n",
            ",              : O    \n",
            "2023           : O    \n",
            ",              : O    \n",
            "Elon           : O    \n",
            "Musk           : O    \n",
            "announced      : O    \n",
            "that           : O    \n",
            "Tesla          : O    \n",
            "would          : O    \n",
            "open           : O    \n",
            "a              : O    \n",
            "new            : O    \n",
            "factory        : O    \n",
            "in             : O    \n",
            "Jakarta        : B-geo\n",
            ",              : O    \n",
            "Indonesia      : B-geo\n",
            ",              : O    \n",
            "partnering     : O    \n",
            "with           : O    \n",
            "Samsung        : O    \n",
            "and            : O    \n",
            "MIT            : O    \n",
            ".              : O    \n"
          ]
        }
      ]
    },
    {
      "cell_type": "code",
      "execution_count": null,
      "metadata": {
        "id": "1JAAIzfHGKBa"
      },
      "outputs": [],
      "source": []
    },
    {
      "cell_type": "code",
      "execution_count": null,
      "metadata": {
        "id": "GQHzP9cHGKBa"
      },
      "outputs": [],
      "source": []
    }
  ],
  "metadata": {
    "kaggle": {
      "accelerator": "gpu",
      "dataSources": [
        {
          "datasetId": 1014,
          "sourceId": 4361,
          "sourceType": "datasetVersion"
        }
      ],
      "dockerImageVersionId": 29845,
      "isGpuEnabled": true,
      "isInternetEnabled": true,
      "language": "python",
      "sourceType": "notebook"
    },
    "kernelspec": {
      "display_name": "Python 3",
      "name": "python3"
    },
    "language_info": {
      "codemirror_mode": {
        "name": "ipython",
        "version": 3
      },
      "file_extension": ".py",
      "mimetype": "text/x-python",
      "name": "python",
      "nbconvert_exporter": "python",
      "pygments_lexer": "ipython3",
      "version": "3.6.6"
    },
    "colab": {
      "provenance": [],
      "toc_visible": true,
      "gpuType": "T4"
    },
    "accelerator": "GPU"
  },
  "nbformat": 4,
  "nbformat_minor": 0
}