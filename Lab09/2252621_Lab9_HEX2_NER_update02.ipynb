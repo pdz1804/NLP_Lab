{
 "cells": [
  {
   "cell_type": "markdown",
   "id": "1a2c173d",
   "metadata": {
    "id": "9uMy639TowIi",
    "papermill": {
     "duration": 0.011358,
     "end_time": "2025-03-21T06:11:12.469501",
     "exception": false,
     "start_time": "2025-03-21T06:11:12.458143",
     "status": "completed"
    },
    "tags": []
   },
   "source": [
    "# 2252621\n",
    "\n",
    "# Home Exercise on Named Entity Recognition\n",
    "\n",
    "Implement a **Recurrent Neural Network model** (**[Bidirectional LSTM-CRF Models for Sequence Tagging](https://arxiv.org/pdf/1508.01991)**) to extract named entities from text. Entity labels are encoded using the **BIO notation**, where each entity label is assigned a **B** (Beginning) or **I** (Inside) tag. The **B-** tag indicates the beginning of an entity, while the **I-** tag marks words inside the same entity.\n",
    "\n",
    "These tags help identify multi-word entities. For example, in the phrase **\"World War II\"**, the labels would be: **(B-eve, I-eve, I-eve)**. Words that do not belong to any entity are labeled as **O** (Outside).\n",
    "\n",
    "- **Data**: [Annotated GMB Corpus](https://www.kaggle.com/datasets/shoumikgoswami/annotated-gmb-corpus?select=GMB_dataset.txt) *(the last 10% of rows serve as the test set).*\n",
    "\n",
    "**Note**: Submit only a **single Jupyter Notebook file** that can handle all tasks, including data downloading, preprocessing, model training, and model evaluation. *(Submissions that do not follow the guidelines will receive a score of 0.)*\n",
    "\n",
    "## Grading Criteria\n",
    "\n",
    "For valid submissions, scores will be assigned based on the **leaderboard ranking** (**strictly greater**):\n",
    "\n",
    "- **Top 25%** → **10 points**\n",
    "- **25% - 50%** → **9.0 points**\n",
    "- **50% - 75%** → **8.0 points**\n",
    "- **75% - 100%** → **7.0 points**\n"
   ]
  },
  {
   "cell_type": "markdown",
   "id": "c4907641",
   "metadata": {
    "id": "fXGT_970ncFS",
    "papermill": {
     "duration": 0.010006,
     "end_time": "2025-03-21T06:11:12.489869",
     "exception": false,
     "start_time": "2025-03-21T06:11:12.479863",
     "status": "completed"
    },
    "tags": []
   },
   "source": [
    "# Install Packages"
   ]
  },
  {
   "cell_type": "code",
   "execution_count": 1,
   "id": "ccc2129b",
   "metadata": {
    "collapsed": true,
    "execution": {
     "iopub.execute_input": "2025-03-21T06:11:12.510887Z",
     "iopub.status.busy": "2025-03-21T06:11:12.510642Z",
     "iopub.status.idle": "2025-03-21T06:12:45.659949Z",
     "shell.execute_reply": "2025-03-21T06:12:45.658955Z"
    },
    "id": "FMIq_zbtGKAw",
    "jupyter": {
     "outputs_hidden": true
    },
    "outputId": "b114e2b6-ea41-4616-a291-59afa77635cf",
    "papermill": {
     "duration": 93.161413,
     "end_time": "2025-03-21T06:12:45.661370",
     "exception": false,
     "start_time": "2025-03-21T06:11:12.499957",
     "status": "completed"
    },
    "tags": []
   },
   "outputs": [
    {
     "name": "stdout",
     "output_type": "stream",
     "text": [
      "Collecting deep_translator==1.9.1\r\n",
      "  Downloading deep_translator-1.9.1-py3-none-any.whl.metadata (25 kB)\r\n",
      "Requirement already satisfied: beautifulsoup4<5.0.0,>=4.9.1 in /usr/local/lib/python3.10/dist-packages (from deep_translator==1.9.1) (4.12.3)\r\n",
      "Requirement already satisfied: requests<3.0.0,>=2.23.0 in /usr/local/lib/python3.10/dist-packages (from deep_translator==1.9.1) (2.32.3)\r\n",
      "Requirement already satisfied: soupsieve>1.2 in /usr/local/lib/python3.10/dist-packages (from beautifulsoup4<5.0.0,>=4.9.1->deep_translator==1.9.1) (2.6)\r\n",
      "Requirement already satisfied: charset-normalizer<4,>=2 in /usr/local/lib/python3.10/dist-packages (from requests<3.0.0,>=2.23.0->deep_translator==1.9.1) (3.4.1)\r\n",
      "Requirement already satisfied: idna<4,>=2.5 in /usr/local/lib/python3.10/dist-packages (from requests<3.0.0,>=2.23.0->deep_translator==1.9.1) (3.10)\r\n",
      "Requirement already satisfied: urllib3<3,>=1.21.1 in /usr/local/lib/python3.10/dist-packages (from requests<3.0.0,>=2.23.0->deep_translator==1.9.1) (2.3.0)\r\n",
      "Requirement already satisfied: certifi>=2017.4.17 in /usr/local/lib/python3.10/dist-packages (from requests<3.0.0,>=2.23.0->deep_translator==1.9.1) (2025.1.31)\r\n",
      "Downloading deep_translator-1.9.1-py3-none-any.whl (30 kB)\r\n",
      "Installing collected packages: deep_translator\r\n",
      "Successfully installed deep_translator-1.9.1\r\n",
      "Note: you may need to restart the kernel to use updated packages.\n",
      "Collecting pandas==2.2.2\r\n",
      "  Downloading pandas-2.2.2-cp310-cp310-manylinux_2_17_x86_64.manylinux2014_x86_64.whl.metadata (19 kB)\r\n",
      "Requirement already satisfied: numpy==1.26.4 in /usr/local/lib/python3.10/dist-packages (1.26.4)\r\n",
      "Requirement already satisfied: gdown==5.2.0 in /usr/local/lib/python3.10/dist-packages (5.2.0)\r\n",
      "Collecting nltk==3.9.1\r\n",
      "  Downloading nltk-3.9.1-py3-none-any.whl.metadata (2.9 kB)\r\n",
      "Collecting matplotlib==3.10.0\r\n",
      "  Downloading matplotlib-3.10.0-cp310-cp310-manylinux_2_17_x86_64.manylinux2014_x86_64.whl.metadata (11 kB)\r\n",
      "Requirement already satisfied: python-dateutil>=2.8.2 in /usr/local/lib/python3.10/dist-packages (from pandas==2.2.2) (2.9.0.post0)\r\n",
      "Requirement already satisfied: pytz>=2020.1 in /usr/local/lib/python3.10/dist-packages (from pandas==2.2.2) (2025.1)\r\n",
      "Requirement already satisfied: tzdata>=2022.7 in /usr/local/lib/python3.10/dist-packages (from pandas==2.2.2) (2025.1)\r\n",
      "Requirement already satisfied: mkl_fft in /usr/local/lib/python3.10/dist-packages (from numpy==1.26.4) (1.3.8)\r\n",
      "Requirement already satisfied: mkl_random in /usr/local/lib/python3.10/dist-packages (from numpy==1.26.4) (1.2.4)\r\n",
      "Requirement already satisfied: mkl_umath in /usr/local/lib/python3.10/dist-packages (from numpy==1.26.4) (0.1.1)\r\n",
      "Requirement already satisfied: mkl in /usr/local/lib/python3.10/dist-packages (from numpy==1.26.4) (2025.0.1)\r\n",
      "Requirement already satisfied: tbb4py in /usr/local/lib/python3.10/dist-packages (from numpy==1.26.4) (2022.0.0)\r\n",
      "Requirement already satisfied: mkl-service in /usr/local/lib/python3.10/dist-packages (from numpy==1.26.4) (2.4.1)\r\n",
      "Requirement already satisfied: beautifulsoup4 in /usr/local/lib/python3.10/dist-packages (from gdown==5.2.0) (4.12.3)\r\n",
      "Requirement already satisfied: filelock in /usr/local/lib/python3.10/dist-packages (from gdown==5.2.0) (3.17.0)\r\n",
      "Requirement already satisfied: requests[socks] in /usr/local/lib/python3.10/dist-packages (from gdown==5.2.0) (2.32.3)\r\n",
      "Requirement already satisfied: tqdm in /usr/local/lib/python3.10/dist-packages (from gdown==5.2.0) (4.67.1)\r\n",
      "Requirement already satisfied: click in /usr/local/lib/python3.10/dist-packages (from nltk==3.9.1) (8.1.7)\r\n",
      "Requirement already satisfied: joblib in /usr/local/lib/python3.10/dist-packages (from nltk==3.9.1) (1.4.2)\r\n",
      "Requirement already satisfied: regex>=2021.8.3 in /usr/local/lib/python3.10/dist-packages (from nltk==3.9.1) (2024.11.6)\r\n",
      "Requirement already satisfied: contourpy>=1.0.1 in /usr/local/lib/python3.10/dist-packages (from matplotlib==3.10.0) (1.3.1)\r\n",
      "Requirement already satisfied: cycler>=0.10 in /usr/local/lib/python3.10/dist-packages (from matplotlib==3.10.0) (0.12.1)\r\n",
      "Requirement already satisfied: fonttools>=4.22.0 in /usr/local/lib/python3.10/dist-packages (from matplotlib==3.10.0) (4.55.3)\r\n",
      "Requirement already satisfied: kiwisolver>=1.3.1 in /usr/local/lib/python3.10/dist-packages (from matplotlib==3.10.0) (1.4.7)\r\n",
      "Requirement already satisfied: packaging>=20.0 in /usr/local/lib/python3.10/dist-packages (from matplotlib==3.10.0) (24.2)\r\n",
      "Requirement already satisfied: pillow>=8 in /usr/local/lib/python3.10/dist-packages (from matplotlib==3.10.0) (11.0.0)\r\n",
      "Requirement already satisfied: pyparsing>=2.3.1 in /usr/local/lib/python3.10/dist-packages (from matplotlib==3.10.0) (3.2.0)\r\n",
      "Requirement already satisfied: six>=1.5 in /usr/local/lib/python3.10/dist-packages (from python-dateutil>=2.8.2->pandas==2.2.2) (1.17.0)\r\n",
      "Requirement already satisfied: soupsieve>1.2 in /usr/local/lib/python3.10/dist-packages (from beautifulsoup4->gdown==5.2.0) (2.6)\r\n",
      "Requirement already satisfied: intel-openmp>=2024 in /usr/local/lib/python3.10/dist-packages (from mkl->numpy==1.26.4) (2024.2.0)\r\n",
      "Requirement already satisfied: tbb==2022.* in /usr/local/lib/python3.10/dist-packages (from mkl->numpy==1.26.4) (2022.0.0)\r\n",
      "Requirement already satisfied: tcmlib==1.* in /usr/local/lib/python3.10/dist-packages (from tbb==2022.*->mkl->numpy==1.26.4) (1.2.0)\r\n",
      "Requirement already satisfied: intel-cmplr-lib-rt in /usr/local/lib/python3.10/dist-packages (from mkl_umath->numpy==1.26.4) (2024.2.0)\r\n",
      "Requirement already satisfied: charset-normalizer<4,>=2 in /usr/local/lib/python3.10/dist-packages (from requests[socks]->gdown==5.2.0) (3.4.1)\r\n",
      "Requirement already satisfied: idna<4,>=2.5 in /usr/local/lib/python3.10/dist-packages (from requests[socks]->gdown==5.2.0) (3.10)\r\n",
      "Requirement already satisfied: urllib3<3,>=1.21.1 in /usr/local/lib/python3.10/dist-packages (from requests[socks]->gdown==5.2.0) (2.3.0)\r\n",
      "Requirement already satisfied: certifi>=2017.4.17 in /usr/local/lib/python3.10/dist-packages (from requests[socks]->gdown==5.2.0) (2025.1.31)\r\n",
      "Requirement already satisfied: PySocks!=1.5.7,>=1.5.6 in /usr/local/lib/python3.10/dist-packages (from requests[socks]->gdown==5.2.0) (1.7.1)\r\n",
      "Requirement already satisfied: intel-cmplr-lib-ur==2024.2.0 in /usr/local/lib/python3.10/dist-packages (from intel-openmp>=2024->mkl->numpy==1.26.4) (2024.2.0)\r\n",
      "Downloading pandas-2.2.2-cp310-cp310-manylinux_2_17_x86_64.manylinux2014_x86_64.whl (13.0 MB)\r\n",
      "\u001b[2K   \u001b[90m━━━━━━━━━━━━━━━━━━━━━━━━━━━━━━━━━━━━━━━━\u001b[0m \u001b[32m13.0/13.0 MB\u001b[0m \u001b[31m101.1 MB/s\u001b[0m eta \u001b[36m0:00:00\u001b[0m\r\n",
      "\u001b[?25hDownloading nltk-3.9.1-py3-none-any.whl (1.5 MB)\r\n",
      "\u001b[2K   \u001b[90m━━━━━━━━━━━━━━━━━━━━━━━━━━━━━━━━━━━━━━━━\u001b[0m \u001b[32m1.5/1.5 MB\u001b[0m \u001b[31m70.1 MB/s\u001b[0m eta \u001b[36m0:00:00\u001b[0m\r\n",
      "\u001b[?25hDownloading matplotlib-3.10.0-cp310-cp310-manylinux_2_17_x86_64.manylinux2014_x86_64.whl (8.6 MB)\r\n",
      "\u001b[2K   \u001b[90m━━━━━━━━━━━━━━━━━━━━━━━━━━━━━━━━━━━━━━━━\u001b[0m \u001b[32m8.6/8.6 MB\u001b[0m \u001b[31m107.8 MB/s\u001b[0m eta \u001b[36m0:00:00\u001b[0m\r\n",
      "\u001b[?25hInstalling collected packages: nltk, pandas, matplotlib\r\n",
      "  Attempting uninstall: nltk\r\n",
      "    Found existing installation: nltk 3.2.4\r\n",
      "    Uninstalling nltk-3.2.4:\r\n",
      "      Successfully uninstalled nltk-3.2.4\r\n",
      "  Attempting uninstall: pandas\r\n",
      "    Found existing installation: pandas 2.2.3\r\n",
      "    Uninstalling pandas-2.2.3:\r\n",
      "      Successfully uninstalled pandas-2.2.3\r\n",
      "  Attempting uninstall: matplotlib\r\n",
      "    Found existing installation: matplotlib 3.7.5\r\n",
      "    Uninstalling matplotlib-3.7.5:\r\n",
      "      Successfully uninstalled matplotlib-3.7.5\r\n",
      "\u001b[31mERROR: pip's dependency resolver does not currently take into account all the packages that are installed. This behaviour is the source of the following dependency conflicts.\r\n",
      "google-colab 1.0.0 requires notebook==6.5.5, but you have notebook 6.5.4 which is incompatible.\r\n",
      "mlxtend 0.23.3 requires scikit-learn>=1.3.1, but you have scikit-learn 1.2.2 which is incompatible.\r\n",
      "pandas-gbq 0.25.0 requires google-api-core<3.0.0dev,>=2.10.2, but you have google-api-core 1.34.1 which is incompatible.\r\n",
      "preprocessing 0.1.13 requires nltk==3.2.4, but you have nltk 3.9.1 which is incompatible.\r\n",
      "tensorflow-decision-forests 1.10.0 requires tensorflow==2.17.0, but you have tensorflow 2.17.1 which is incompatible.\u001b[0m\u001b[31m\r\n",
      "\u001b[0mSuccessfully installed matplotlib-3.10.0 nltk-3.9.1 pandas-2.2.2\r\n",
      "Note: you may need to restart the kernel to use updated packages.\n",
      "Collecting seqeval\r\n",
      "  Downloading seqeval-1.2.2.tar.gz (43 kB)\r\n",
      "\u001b[2K     \u001b[90m━━━━━━━━━━━━━━━━━━━━━━━━━━━━━━━━━━━━━━━━\u001b[0m \u001b[32m43.6/43.6 kB\u001b[0m \u001b[31m2.8 MB/s\u001b[0m eta \u001b[36m0:00:00\u001b[0m\r\n",
      "\u001b[?25h  Preparing metadata (setup.py) ... \u001b[?25l\u001b[?25hdone\r\n",
      "Requirement already satisfied: numpy>=1.14.0 in /usr/local/lib/python3.10/dist-packages (from seqeval) (1.26.4)\r\n",
      "Requirement already satisfied: scikit-learn>=0.21.3 in /usr/local/lib/python3.10/dist-packages (from seqeval) (1.2.2)\r\n",
      "Requirement already satisfied: mkl_fft in /usr/local/lib/python3.10/dist-packages (from numpy>=1.14.0->seqeval) (1.3.8)\r\n",
      "Requirement already satisfied: mkl_random in /usr/local/lib/python3.10/dist-packages (from numpy>=1.14.0->seqeval) (1.2.4)\r\n",
      "Requirement already satisfied: mkl_umath in /usr/local/lib/python3.10/dist-packages (from numpy>=1.14.0->seqeval) (0.1.1)\r\n",
      "Requirement already satisfied: mkl in /usr/local/lib/python3.10/dist-packages (from numpy>=1.14.0->seqeval) (2025.0.1)\r\n",
      "Requirement already satisfied: tbb4py in /usr/local/lib/python3.10/dist-packages (from numpy>=1.14.0->seqeval) (2022.0.0)\r\n",
      "Requirement already satisfied: mkl-service in /usr/local/lib/python3.10/dist-packages (from numpy>=1.14.0->seqeval) (2.4.1)\r\n",
      "Requirement already satisfied: scipy>=1.3.2 in /usr/local/lib/python3.10/dist-packages (from scikit-learn>=0.21.3->seqeval) (1.13.1)\r\n",
      "Requirement already satisfied: joblib>=1.1.1 in /usr/local/lib/python3.10/dist-packages (from scikit-learn>=0.21.3->seqeval) (1.4.2)\r\n",
      "Requirement already satisfied: threadpoolctl>=2.0.0 in /usr/local/lib/python3.10/dist-packages (from scikit-learn>=0.21.3->seqeval) (3.5.0)\r\n",
      "Requirement already satisfied: intel-openmp>=2024 in /usr/local/lib/python3.10/dist-packages (from mkl->numpy>=1.14.0->seqeval) (2024.2.0)\r\n",
      "Requirement already satisfied: tbb==2022.* in /usr/local/lib/python3.10/dist-packages (from mkl->numpy>=1.14.0->seqeval) (2022.0.0)\r\n",
      "Requirement already satisfied: tcmlib==1.* in /usr/local/lib/python3.10/dist-packages (from tbb==2022.*->mkl->numpy>=1.14.0->seqeval) (1.2.0)\r\n",
      "Requirement already satisfied: intel-cmplr-lib-rt in /usr/local/lib/python3.10/dist-packages (from mkl_umath->numpy>=1.14.0->seqeval) (2024.2.0)\r\n",
      "Requirement already satisfied: intel-cmplr-lib-ur==2024.2.0 in /usr/local/lib/python3.10/dist-packages (from intel-openmp>=2024->mkl->numpy>=1.14.0->seqeval) (2024.2.0)\r\n",
      "Building wheels for collected packages: seqeval\r\n",
      "  Building wheel for seqeval (setup.py) ... \u001b[?25l\u001b[?25hdone\r\n",
      "  Created wheel for seqeval: filename=seqeval-1.2.2-py3-none-any.whl size=16161 sha256=e0b03489f7d7888d1d3d33a8055ab670f04cc59f74c2ca0c0dbc58ab8eacddc7\r\n",
      "  Stored in directory: /root/.cache/pip/wheels/1a/67/4a/ad4082dd7dfc30f2abfe4d80a2ed5926a506eb8a972b4767fa\r\n",
      "Successfully built seqeval\r\n",
      "Installing collected packages: seqeval\r\n",
      "Successfully installed seqeval-1.2.2\r\n",
      "Note: you may need to restart the kernel to use updated packages.\n",
      "Collecting tensorflow==2.15.0\r\n",
      "  Downloading tensorflow-2.15.0-cp310-cp310-manylinux_2_17_x86_64.manylinux2014_x86_64.whl.metadata (4.4 kB)\r\n",
      "Collecting keras==2.15.0\r\n",
      "  Downloading keras-2.15.0-py3-none-any.whl.metadata (2.4 kB)\r\n",
      "Collecting tensorflow-addons==0.23.0\r\n",
      "  Downloading tensorflow_addons-0.23.0-cp310-cp310-manylinux_2_17_x86_64.manylinux2014_x86_64.whl.metadata (1.8 kB)\r\n",
      "Requirement already satisfied: absl-py>=1.0.0 in /usr/local/lib/python3.10/dist-packages (from tensorflow==2.15.0) (1.4.0)\r\n",
      "Requirement already satisfied: astunparse>=1.6.0 in /usr/local/lib/python3.10/dist-packages (from tensorflow==2.15.0) (1.6.3)\r\n",
      "Requirement already satisfied: flatbuffers>=23.5.26 in /usr/local/lib/python3.10/dist-packages (from tensorflow==2.15.0) (24.3.25)\r\n",
      "Requirement already satisfied: gast!=0.5.0,!=0.5.1,!=0.5.2,>=0.2.1 in /usr/local/lib/python3.10/dist-packages (from tensorflow==2.15.0) (0.6.0)\r\n",
      "Requirement already satisfied: google-pasta>=0.1.1 in /usr/local/lib/python3.10/dist-packages (from tensorflow==2.15.0) (0.2.0)\r\n",
      "Requirement already satisfied: h5py>=2.9.0 in /usr/local/lib/python3.10/dist-packages (from tensorflow==2.15.0) (3.12.1)\r\n",
      "Requirement already satisfied: libclang>=13.0.0 in /usr/local/lib/python3.10/dist-packages (from tensorflow==2.15.0) (18.1.1)\r\n",
      "Collecting ml-dtypes~=0.2.0 (from tensorflow==2.15.0)\r\n",
      "  Downloading ml_dtypes-0.2.0-cp310-cp310-manylinux_2_17_x86_64.manylinux2014_x86_64.whl.metadata (20 kB)\r\n",
      "Requirement already satisfied: numpy<2.0.0,>=1.23.5 in /usr/local/lib/python3.10/dist-packages (from tensorflow==2.15.0) (1.26.4)\r\n",
      "Requirement already satisfied: opt-einsum>=2.3.2 in /usr/local/lib/python3.10/dist-packages (from tensorflow==2.15.0) (3.4.0)\r\n",
      "Requirement already satisfied: packaging in /usr/local/lib/python3.10/dist-packages (from tensorflow==2.15.0) (24.2)\r\n",
      "Requirement already satisfied: protobuf!=4.21.0,!=4.21.1,!=4.21.2,!=4.21.3,!=4.21.4,!=4.21.5,<5.0.0dev,>=3.20.3 in /usr/local/lib/python3.10/dist-packages (from tensorflow==2.15.0) (3.20.3)\r\n",
      "Requirement already satisfied: setuptools in /usr/local/lib/python3.10/dist-packages (from tensorflow==2.15.0) (75.1.0)\r\n",
      "Requirement already satisfied: six>=1.12.0 in /usr/local/lib/python3.10/dist-packages (from tensorflow==2.15.0) (1.17.0)\r\n",
      "Requirement already satisfied: termcolor>=1.1.0 in /usr/local/lib/python3.10/dist-packages (from tensorflow==2.15.0) (2.5.0)\r\n",
      "Requirement already satisfied: typing-extensions>=3.6.6 in /usr/local/lib/python3.10/dist-packages (from tensorflow==2.15.0) (4.12.2)\r\n",
      "Collecting wrapt<1.15,>=1.11.0 (from tensorflow==2.15.0)\r\n",
      "  Downloading wrapt-1.14.1-cp310-cp310-manylinux_2_5_x86_64.manylinux1_x86_64.manylinux_2_17_x86_64.manylinux2014_x86_64.whl.metadata (6.7 kB)\r\n",
      "Requirement already satisfied: tensorflow-io-gcs-filesystem>=0.23.1 in /usr/local/lib/python3.10/dist-packages (from tensorflow==2.15.0) (0.37.1)\r\n",
      "Requirement already satisfied: grpcio<2.0,>=1.24.3 in /usr/local/lib/python3.10/dist-packages (from tensorflow==2.15.0) (1.68.1)\r\n",
      "Collecting tensorboard<2.16,>=2.15 (from tensorflow==2.15.0)\r\n",
      "  Downloading tensorboard-2.15.2-py3-none-any.whl.metadata (1.7 kB)\r\n",
      "Collecting tensorflow-estimator<2.16,>=2.15.0 (from tensorflow==2.15.0)\r\n",
      "  Downloading tensorflow_estimator-2.15.0-py2.py3-none-any.whl.metadata (1.3 kB)\r\n",
      "Collecting typeguard<3.0.0,>=2.7 (from tensorflow-addons==0.23.0)\r\n",
      "  Downloading typeguard-2.13.3-py3-none-any.whl.metadata (3.6 kB)\r\n",
      "Requirement already satisfied: wheel<1.0,>=0.23.0 in /usr/local/lib/python3.10/dist-packages (from astunparse>=1.6.0->tensorflow==2.15.0) (0.45.1)\r\n",
      "Requirement already satisfied: mkl_fft in /usr/local/lib/python3.10/dist-packages (from numpy<2.0.0,>=1.23.5->tensorflow==2.15.0) (1.3.8)\r\n",
      "Requirement already satisfied: mkl_random in /usr/local/lib/python3.10/dist-packages (from numpy<2.0.0,>=1.23.5->tensorflow==2.15.0) (1.2.4)\r\n",
      "Requirement already satisfied: mkl_umath in /usr/local/lib/python3.10/dist-packages (from numpy<2.0.0,>=1.23.5->tensorflow==2.15.0) (0.1.1)\r\n",
      "Requirement already satisfied: mkl in /usr/local/lib/python3.10/dist-packages (from numpy<2.0.0,>=1.23.5->tensorflow==2.15.0) (2025.0.1)\r\n",
      "Requirement already satisfied: tbb4py in /usr/local/lib/python3.10/dist-packages (from numpy<2.0.0,>=1.23.5->tensorflow==2.15.0) (2022.0.0)\r\n",
      "Requirement already satisfied: mkl-service in /usr/local/lib/python3.10/dist-packages (from numpy<2.0.0,>=1.23.5->tensorflow==2.15.0) (2.4.1)\r\n",
      "Requirement already satisfied: google-auth<3,>=1.6.3 in /usr/local/lib/python3.10/dist-packages (from tensorboard<2.16,>=2.15->tensorflow==2.15.0) (2.27.0)\r\n",
      "Requirement already satisfied: google-auth-oauthlib<2,>=0.5 in /usr/local/lib/python3.10/dist-packages (from tensorboard<2.16,>=2.15->tensorflow==2.15.0) (1.2.1)\r\n",
      "Requirement already satisfied: markdown>=2.6.8 in /usr/local/lib/python3.10/dist-packages (from tensorboard<2.16,>=2.15->tensorflow==2.15.0) (3.7)\r\n",
      "Requirement already satisfied: requests<3,>=2.21.0 in /usr/local/lib/python3.10/dist-packages (from tensorboard<2.16,>=2.15->tensorflow==2.15.0) (2.32.3)\r\n",
      "Requirement already satisfied: tensorboard-data-server<0.8.0,>=0.7.0 in /usr/local/lib/python3.10/dist-packages (from tensorboard<2.16,>=2.15->tensorflow==2.15.0) (0.7.2)\r\n",
      "Requirement already satisfied: werkzeug>=1.0.1 in /usr/local/lib/python3.10/dist-packages (from tensorboard<2.16,>=2.15->tensorflow==2.15.0) (3.1.3)\r\n",
      "Requirement already satisfied: cachetools<6.0,>=2.0.0 in /usr/local/lib/python3.10/dist-packages (from google-auth<3,>=1.6.3->tensorboard<2.16,>=2.15->tensorflow==2.15.0) (5.5.0)\r\n",
      "Requirement already satisfied: pyasn1-modules>=0.2.1 in /usr/local/lib/python3.10/dist-packages (from google-auth<3,>=1.6.3->tensorboard<2.16,>=2.15->tensorflow==2.15.0) (0.4.1)\r\n",
      "Requirement already satisfied: rsa<5,>=3.1.4 in /usr/local/lib/python3.10/dist-packages (from google-auth<3,>=1.6.3->tensorboard<2.16,>=2.15->tensorflow==2.15.0) (4.9)\r\n",
      "Requirement already satisfied: requests-oauthlib>=0.7.0 in /usr/local/lib/python3.10/dist-packages (from google-auth-oauthlib<2,>=0.5->tensorboard<2.16,>=2.15->tensorflow==2.15.0) (1.3.1)\r\n",
      "Requirement already satisfied: charset-normalizer<4,>=2 in /usr/local/lib/python3.10/dist-packages (from requests<3,>=2.21.0->tensorboard<2.16,>=2.15->tensorflow==2.15.0) (3.4.1)\r\n",
      "Requirement already satisfied: idna<4,>=2.5 in /usr/local/lib/python3.10/dist-packages (from requests<3,>=2.21.0->tensorboard<2.16,>=2.15->tensorflow==2.15.0) (3.10)\r\n",
      "Requirement already satisfied: urllib3<3,>=1.21.1 in /usr/local/lib/python3.10/dist-packages (from requests<3,>=2.21.0->tensorboard<2.16,>=2.15->tensorflow==2.15.0) (2.3.0)\r\n",
      "Requirement already satisfied: certifi>=2017.4.17 in /usr/local/lib/python3.10/dist-packages (from requests<3,>=2.21.0->tensorboard<2.16,>=2.15->tensorflow==2.15.0) (2025.1.31)\r\n",
      "Requirement already satisfied: MarkupSafe>=2.1.1 in /usr/local/lib/python3.10/dist-packages (from werkzeug>=1.0.1->tensorboard<2.16,>=2.15->tensorflow==2.15.0) (3.0.2)\r\n",
      "Requirement already satisfied: intel-openmp>=2024 in /usr/local/lib/python3.10/dist-packages (from mkl->numpy<2.0.0,>=1.23.5->tensorflow==2.15.0) (2024.2.0)\r\n",
      "Requirement already satisfied: tbb==2022.* in /usr/local/lib/python3.10/dist-packages (from mkl->numpy<2.0.0,>=1.23.5->tensorflow==2.15.0) (2022.0.0)\r\n",
      "Requirement already satisfied: tcmlib==1.* in /usr/local/lib/python3.10/dist-packages (from tbb==2022.*->mkl->numpy<2.0.0,>=1.23.5->tensorflow==2.15.0) (1.2.0)\r\n",
      "Requirement already satisfied: intel-cmplr-lib-rt in /usr/local/lib/python3.10/dist-packages (from mkl_umath->numpy<2.0.0,>=1.23.5->tensorflow==2.15.0) (2024.2.0)\r\n",
      "Requirement already satisfied: intel-cmplr-lib-ur==2024.2.0 in /usr/local/lib/python3.10/dist-packages (from intel-openmp>=2024->mkl->numpy<2.0.0,>=1.23.5->tensorflow==2.15.0) (2024.2.0)\r\n",
      "Requirement already satisfied: pyasn1<0.7.0,>=0.4.6 in /usr/local/lib/python3.10/dist-packages (from pyasn1-modules>=0.2.1->google-auth<3,>=1.6.3->tensorboard<2.16,>=2.15->tensorflow==2.15.0) (0.6.1)\r\n",
      "Requirement already satisfied: oauthlib>=3.0.0 in /usr/local/lib/python3.10/dist-packages (from requests-oauthlib>=0.7.0->google-auth-oauthlib<2,>=0.5->tensorboard<2.16,>=2.15->tensorflow==2.15.0) (3.2.2)\r\n",
      "Downloading tensorflow-2.15.0-cp310-cp310-manylinux_2_17_x86_64.manylinux2014_x86_64.whl (475.2 MB)\r\n",
      "\u001b[2K   \u001b[90m━━━━━━━━━━━━━━━━━━━━━━━━━━━━━━━━━━━━━━━━\u001b[0m \u001b[32m475.2/475.2 MB\u001b[0m \u001b[31m3.6 MB/s\u001b[0m eta \u001b[36m0:00:00\u001b[0m\r\n",
      "\u001b[?25hDownloading keras-2.15.0-py3-none-any.whl (1.7 MB)\r\n",
      "\u001b[2K   \u001b[90m━━━━━━━━━━━━━━━━━━━━━━━━━━━━━━━━━━━━━━━━\u001b[0m \u001b[32m1.7/1.7 MB\u001b[0m \u001b[31m65.2 MB/s\u001b[0m eta \u001b[36m0:00:00\u001b[0m\r\n",
      "\u001b[?25hDownloading tensorflow_addons-0.23.0-cp310-cp310-manylinux_2_17_x86_64.manylinux2014_x86_64.whl (611 kB)\r\n",
      "\u001b[2K   \u001b[90m━━━━━━━━━━━━━━━━━━━━━━━━━━━━━━━━━━━━━━━━\u001b[0m \u001b[32m611.8/611.8 kB\u001b[0m \u001b[31m38.7 MB/s\u001b[0m eta \u001b[36m0:00:00\u001b[0m\r\n",
      "\u001b[?25hDownloading ml_dtypes-0.2.0-cp310-cp310-manylinux_2_17_x86_64.manylinux2014_x86_64.whl (1.0 MB)\r\n",
      "\u001b[2K   \u001b[90m━━━━━━━━━━━━━━━━━━━━━━━━━━━━━━━━━━━━━━━━\u001b[0m \u001b[32m1.0/1.0 MB\u001b[0m \u001b[31m47.0 MB/s\u001b[0m eta \u001b[36m0:00:00\u001b[0m\r\n",
      "\u001b[?25hDownloading tensorboard-2.15.2-py3-none-any.whl (5.5 MB)\r\n",
      "\u001b[2K   \u001b[90m━━━━━━━━━━━━━━━━━━━━━━━━━━━━━━━━━━━━━━━━\u001b[0m \u001b[32m5.5/5.5 MB\u001b[0m \u001b[31m103.5 MB/s\u001b[0m eta \u001b[36m0:00:00\u001b[0m\r\n",
      "\u001b[?25hDownloading tensorflow_estimator-2.15.0-py2.py3-none-any.whl (441 kB)\r\n",
      "\u001b[2K   \u001b[90m━━━━━━━━━━━━━━━━━━━━━━━━━━━━━━━━━━━━━━━━\u001b[0m \u001b[32m442.0/442.0 kB\u001b[0m \u001b[31m28.9 MB/s\u001b[0m eta \u001b[36m0:00:00\u001b[0m\r\n",
      "\u001b[?25hDownloading typeguard-2.13.3-py3-none-any.whl (17 kB)\r\n",
      "Downloading wrapt-1.14.1-cp310-cp310-manylinux_2_5_x86_64.manylinux1_x86_64.manylinux_2_17_x86_64.manylinux2014_x86_64.whl (77 kB)\r\n",
      "\u001b[2K   \u001b[90m━━━━━━━━━━━━━━━━━━━━━━━━━━━━━━━━━━━━━━━━\u001b[0m \u001b[32m77.9/77.9 kB\u001b[0m \u001b[31m5.4 MB/s\u001b[0m eta \u001b[36m0:00:00\u001b[0m\r\n",
      "\u001b[?25hInstalling collected packages: wrapt, typeguard, tensorflow-estimator, keras, tensorflow-addons, tensorboard, ml-dtypes, tensorflow\r\n",
      "  Attempting uninstall: wrapt\r\n",
      "    Found existing installation: wrapt 1.17.0\r\n",
      "    Uninstalling wrapt-1.17.0:\r\n",
      "      Successfully uninstalled wrapt-1.17.0\r\n",
      "  Attempting uninstall: typeguard\r\n",
      "    Found existing installation: typeguard 4.4.1\r\n",
      "    Uninstalling typeguard-4.4.1:\r\n",
      "      Successfully uninstalled typeguard-4.4.1\r\n",
      "  Attempting uninstall: keras\r\n",
      "    Found existing installation: keras 3.5.0\r\n",
      "    Uninstalling keras-3.5.0:\r\n",
      "      Successfully uninstalled keras-3.5.0\r\n",
      "  Attempting uninstall: tensorboard\r\n",
      "    Found existing installation: tensorboard 2.17.1\r\n",
      "    Uninstalling tensorboard-2.17.1:\r\n",
      "      Successfully uninstalled tensorboard-2.17.1\r\n",
      "  Attempting uninstall: ml-dtypes\r\n",
      "    Found existing installation: ml-dtypes 0.4.1\r\n",
      "    Uninstalling ml-dtypes-0.4.1:\r\n",
      "      Successfully uninstalled ml-dtypes-0.4.1\r\n",
      "  Attempting uninstall: tensorflow\r\n",
      "    Found existing installation: tensorflow 2.17.1\r\n",
      "    Uninstalling tensorflow-2.17.1:\r\n",
      "      Successfully uninstalled tensorflow-2.17.1\r\n",
      "\u001b[31mERROR: pip's dependency resolver does not currently take into account all the packages that are installed. This behaviour is the source of the following dependency conflicts.\r\n",
      "inflect 7.4.0 requires typeguard>=4.0.1, but you have typeguard 2.13.3 which is incompatible.\r\n",
      "tensorflow-decision-forests 1.10.0 requires tensorflow==2.17.0, but you have tensorflow 2.15.0 which is incompatible.\r\n",
      "tensorflow-text 2.17.0 requires tensorflow<2.18,>=2.17.0, but you have tensorflow 2.15.0 which is incompatible.\r\n",
      "tensorstore 0.1.71 requires ml_dtypes>=0.3.1, but you have ml-dtypes 0.2.0 which is incompatible.\r\n",
      "tf-keras 2.17.0 requires tensorflow<2.18,>=2.17, but you have tensorflow 2.15.0 which is incompatible.\r\n",
      "ydata-profiling 4.12.2 requires typeguard<5,>=3, but you have typeguard 2.13.3 which is incompatible.\u001b[0m\u001b[31m\r\n",
      "\u001b[0mSuccessfully installed keras-2.15.0 ml-dtypes-0.2.0 tensorboard-2.15.2 tensorflow-2.15.0 tensorflow-addons-0.23.0 tensorflow-estimator-2.15.0 typeguard-2.13.3 wrapt-1.14.1\r\n",
      "Note: you may need to restart the kernel to use updated packages.\n"
     ]
    }
   ],
   "source": [
    "%pip install deep_translator==1.9.1\n",
    "%pip install pandas==2.2.2 numpy==1.26.4 gdown==5.2.0 nltk==3.9.1 matplotlib==3.10.0\n",
    "%pip install seqeval\n",
    "%pip install tensorflow==2.15.0 keras==2.15.0 tensorflow-addons==0.23.0\n"
   ]
  },
  {
   "cell_type": "code",
   "execution_count": 2,
   "id": "9dcd87a9",
   "metadata": {
    "execution": {
     "iopub.execute_input": "2025-03-21T06:12:45.705377Z",
     "iopub.status.busy": "2025-03-21T06:12:45.705110Z",
     "iopub.status.idle": "2025-03-21T06:12:52.364667Z",
     "shell.execute_reply": "2025-03-21T06:12:52.363727Z"
    },
    "papermill": {
     "duration": 6.683861,
     "end_time": "2025-03-21T06:12:52.366894",
     "exception": false,
     "start_time": "2025-03-21T06:12:45.683033",
     "status": "completed"
    },
    "tags": []
   },
   "outputs": [
    {
     "name": "stdout",
     "output_type": "stream",
     "text": [
      "deep_translator version: 1.9.1\n",
      "pandas version: 2.2.2\n",
      "numpy version: 1.26.4\n",
      "gdown version: 5.2.0\n",
      "nltk version: 3.9.1\n",
      "matplotlib version: 3.7.5\n",
      "seqeval version: [version info not found]\n",
      "tensorflow version: 2.15.0\n",
      "tensorflow_addons version: 0.23.0\n",
      "keras version: 2.15.0\n"
     ]
    },
    {
     "name": "stderr",
     "output_type": "stream",
     "text": [
      "/usr/local/lib/python3.10/dist-packages/tensorflow_addons/utils/tfa_eol_msg.py:23: UserWarning: \n",
      "\n",
      "TensorFlow Addons (TFA) has ended development and introduction of new features.\n",
      "TFA has entered a minimal maintenance and release mode until a planned end of life in May 2024.\n",
      "Please modify downstream libraries to take dependencies from other repositories in our TensorFlow community (e.g. Keras, Keras-CV, and Keras-NLP). \n",
      "\n",
      "For more information see: https://github.com/tensorflow/addons/issues/2807 \n",
      "\n",
      "  warnings.warn(\n"
     ]
    }
   ],
   "source": [
    "import importlib\n",
    "\n",
    "packages = [\n",
    "    \"deep_translator\",\n",
    "    \"pandas\",\n",
    "    \"numpy\",\n",
    "    \"gdown\",\n",
    "    \"nltk\",\n",
    "    \"matplotlib\",\n",
    "    \"seqeval\",\n",
    "    \"tensorflow\",\n",
    "    \"tensorflow_addons\",\n",
    "    \"keras\"\n",
    "]\n",
    "\n",
    "for pkg in packages:\n",
    "    try:\n",
    "        module = importlib.import_module(pkg)\n",
    "        print(f\"{pkg} version: {module.__version__}\")\n",
    "    except ModuleNotFoundError:\n",
    "        print(f\"{pkg} is not installed.\")\n",
    "    except AttributeError:\n",
    "        print(f\"{pkg} version: [version info not found]\")"
   ]
  },
  {
   "cell_type": "code",
   "execution_count": 3,
   "id": "a367a38d",
   "metadata": {
    "execution": {
     "iopub.execute_input": "2025-03-21T06:12:52.424675Z",
     "iopub.status.busy": "2025-03-21T06:12:52.423929Z",
     "iopub.status.idle": "2025-03-21T06:12:52.427809Z",
     "shell.execute_reply": "2025-03-21T06:12:52.426992Z"
    },
    "id": "J1FPCbItGKA3",
    "papermill": {
     "duration": 0.030533,
     "end_time": "2025-03-21T06:12:52.429145",
     "exception": false,
     "start_time": "2025-03-21T06:12:52.398612",
     "status": "completed"
    },
    "tags": []
   },
   "outputs": [],
   "source": [
    "# %pip install git+https://www.github.com/keras-team/keras-contrib.git"
   ]
  },
  {
   "cell_type": "markdown",
   "id": "3fe5aa4e",
   "metadata": {
    "id": "yOeu5QG0o2Cq",
    "papermill": {
     "duration": 0.022264,
     "end_time": "2025-03-21T06:12:52.476489",
     "exception": false,
     "start_time": "2025-03-21T06:12:52.454225",
     "status": "completed"
    },
    "tags": []
   },
   "source": [
    "# Import Libraries"
   ]
  },
  {
   "cell_type": "code",
   "execution_count": 4,
   "id": "0fbecbf0",
   "metadata": {
    "_cell_guid": "79c7e3d0-c299-4dcb-8224-4455121ee9b0",
    "_uuid": "d629ff2d2480ee46fbb7e2d37f6b5fab8052498a",
    "execution": {
     "iopub.execute_input": "2025-03-21T06:12:52.521677Z",
     "iopub.status.busy": "2025-03-21T06:12:52.521262Z",
     "iopub.status.idle": "2025-03-21T06:12:52.620158Z",
     "shell.execute_reply": "2025-03-21T06:12:52.619203Z"
    },
    "id": "VniEEa6CGKA4",
    "outputId": "4395d5b1-74b0-49c1-d860-1b0f0e20890d",
    "papermill": {
     "duration": 0.122587,
     "end_time": "2025-03-21T06:12:52.621441",
     "exception": false,
     "start_time": "2025-03-21T06:12:52.498854",
     "status": "completed"
    },
    "tags": []
   },
   "outputs": [
    {
     "name": "stderr",
     "output_type": "stream",
     "text": [
      "[nltk_data] Downloading package wordnet to /usr/share/nltk_data...\n",
      "[nltk_data]   Package wordnet is already up-to-date!\n"
     ]
    },
    {
     "data": {
      "text/plain": [
       "True"
      ]
     },
     "execution_count": 4,
     "metadata": {},
     "output_type": "execute_result"
    }
   ],
   "source": [
    "import pandas as pd\n",
    "import numpy as np\n",
    "import re\n",
    "import os\n",
    "import gdown\n",
    "import string\n",
    "import random\n",
    "import nltk\n",
    "import tensorflow as tf\n",
    "from nltk.corpus import wordnet\n",
    "import matplotlib.pyplot as plt\n",
    "from deep_translator import GoogleTranslator\n",
    "\n",
    "from keras.models import Model, Sequential, load_model\n",
    "from keras.layers import Input\n",
    "from keras.optimizers import Adam\n",
    "from keras.regularizers import l2\n",
    "from keras.layers import LSTM, Embedding, Dense, TimeDistributed, Dropout, Bidirectional\n",
    "# from keras_contrib.layers import CRF\n",
    "\n",
    "import tensorflow_addons as tfa\n",
    "from tensorflow_addons.text import crf_log_likelihood\n",
    "from tensorflow_addons.layers import CRF\n",
    "\n",
    "import keras as k\n",
    "\n",
    "from keras.preprocessing.sequence import pad_sequences\n",
    "from keras.utils import to_categorical\n",
    "\n",
    "from seqeval.metrics import accuracy_score, precision_score, recall_score, f1_score, classification_report\n",
    "\n",
    "# Ensure NLTK data is available\n",
    "nltk.download('wordnet')\n"
   ]
  },
  {
   "cell_type": "markdown",
   "id": "23377f21",
   "metadata": {
    "id": "0P5ZK8C8o4qS",
    "papermill": {
     "duration": 0.021471,
     "end_time": "2025-03-21T06:12:52.666161",
     "exception": false,
     "start_time": "2025-03-21T06:12:52.644690",
     "status": "completed"
    },
    "tags": []
   },
   "source": [
    "# Download data of the kaggle dataset from the pre-downloaded gdrive link"
   ]
  },
  {
   "cell_type": "code",
   "execution_count": 5,
   "id": "da561b0a",
   "metadata": {
    "collapsed": true,
    "execution": {
     "iopub.execute_input": "2025-03-21T06:12:52.710309Z",
     "iopub.status.busy": "2025-03-21T06:12:52.710057Z",
     "iopub.status.idle": "2025-03-21T06:13:05.464125Z",
     "shell.execute_reply": "2025-03-21T06:13:05.463282Z"
    },
    "id": "W_aPKGrWGKA6",
    "jupyter": {
     "outputs_hidden": true
    },
    "outputId": "dbd08831-f8a5-4d8f-f03e-35390051c512",
    "papermill": {
     "duration": 12.777679,
     "end_time": "2025-03-21T06:13:05.465399",
     "exception": false,
     "start_time": "2025-03-21T06:12:52.687720",
     "status": "completed"
    },
    "tags": []
   },
   "outputs": [
    {
     "name": "stderr",
     "output_type": "stream",
     "text": [
      "Retrieving folder contents\n"
     ]
    },
    {
     "name": "stdout",
     "output_type": "stream",
     "text": [
      "Processing file 125vSHeQajcbRTMJiq4Hc5WPH-GcCxkVr annotated-gmb-corpus.zip\n",
      "Processing file 1gTWviZN3RcBUzm--_ife7qCUuTb1H8lr GMB_dataset.txt\n"
     ]
    },
    {
     "name": "stderr",
     "output_type": "stream",
     "text": [
      "Retrieving folder contents completed\n",
      "Building directory structure\n",
      "Building directory structure completed\n",
      "Downloading...\n",
      "From: https://drive.google.com/uc?id=125vSHeQajcbRTMJiq4Hc5WPH-GcCxkVr\n",
      "To: /kaggle/working/NLP_Data_GDrive/annotated-gmb-corpus.zip\n",
      "100%|██████████| 473k/473k [00:00<00:00, 1.49MB/s]\n",
      "Downloading...\n",
      "From: https://drive.google.com/uc?id=1gTWviZN3RcBUzm--_ife7qCUuTb1H8lr\n",
      "To: /kaggle/working/NLP_Data_GDrive/GMB_dataset.txt\n",
      "100%|██████████| 1.60M/1.60M [00:00<00:00, 3.31MB/s]\n",
      "Download completed\n"
     ]
    },
    {
     "data": {
      "text/plain": [
       "['./NLP_Data_GDrive/annotated-gmb-corpus.zip',\n",
       " './NLP_Data_GDrive/GMB_dataset.txt']"
      ]
     },
     "execution_count": 5,
     "metadata": {},
     "output_type": "execute_result"
    }
   ],
   "source": [
    "# https://drive.google.com/drive/folders/1GbEc7KGjuiByArwjt3CS69Lrk-ttJ4Ly?usp=sharing\n",
    "\n",
    "# URL of the shared folder\n",
    "folder_url = \"https://drive.google.com/drive/folders/1GbEc7KGjuiByArwjt3CS69Lrk-ttJ4Ly?usp=sharing\"\n",
    "\n",
    "# Output directory where the folder will be saved\n",
    "output_dir = \"./NLP_Data_GDrive\"\n",
    "\n",
    "# Download the folder\n",
    "gdown.download_folder(folder_url, output=output_dir, quiet=False, use_cookies=False)\n"
   ]
  },
  {
   "cell_type": "code",
   "execution_count": 6,
   "id": "6c6de03a",
   "metadata": {
    "execution": {
     "iopub.execute_input": "2025-03-21T06:13:05.511052Z",
     "iopub.status.busy": "2025-03-21T06:13:05.510823Z",
     "iopub.status.idle": "2025-03-21T06:13:05.557124Z",
     "shell.execute_reply": "2025-03-21T06:13:05.556295Z"
    },
    "id": "OxlJUW1MGKA8",
    "outputId": "3f5d114a-11b8-44f0-9d98-072201a1ab83",
    "papermill": {
     "duration": 0.070135,
     "end_time": "2025-03-21T06:13:05.558277",
     "exception": false,
     "start_time": "2025-03-21T06:13:05.488142",
     "status": "completed"
    },
    "tags": []
   },
   "outputs": [
    {
     "name": "stderr",
     "output_type": "stream",
     "text": [
      "<ipython-input-6-74466524684d>:12: FutureWarning: Series.fillna with 'method' is deprecated and will raise in a future version. Use obj.ffill() or obj.bfill() instead.\n",
      "  df[\"Sentence#\"] = df[\"Sentence#\"].fillna(method=\"ffill\")\n"
     ]
    }
   ],
   "source": [
    "# Load dataset (Ensure file path is correct)\n",
    "file_path = os.path.join(output_dir, \"GMB_dataset.txt\")  # Adjust file path if needed\n",
    "\n",
    "# Check if files exist\n",
    "if not os.path.exists(file_path):\n",
    "    raise FileNotFoundError(\"File not found. Check the download process and file paths.\")\n",
    "\n",
    "# df = pd.read_csv(file_path, delimiter=\"\\t\", names=[\"Sentence#\", \"Word\", \"POS\", \"Tag\"], skiprows=1)\n",
    "df = pd.read_csv(file_path, delimiter=\"\\t\", names=[\"Sentence#\", \"Word\", \"POS\", \"Tag\"], skiprows=1, encoding=\"latin1\")\n",
    "\n",
    "# Fill missing Sentence# values\n",
    "df[\"Sentence#\"] = df[\"Sentence#\"].fillna(method=\"ffill\")\n",
    "data = df"
   ]
  },
  {
   "cell_type": "code",
   "execution_count": 7,
   "id": "c39884d4",
   "metadata": {
    "execution": {
     "iopub.execute_input": "2025-03-21T06:13:05.603572Z",
     "iopub.status.busy": "2025-03-21T06:13:05.603301Z",
     "iopub.status.idle": "2025-03-21T06:13:05.613439Z",
     "shell.execute_reply": "2025-03-21T06:13:05.612756Z"
    },
    "id": "KMVLmLjqGKA8",
    "outputId": "3f9fbecd-2f6f-4d21-84e9-a42f16c55dfc",
    "papermill": {
     "duration": 0.034137,
     "end_time": "2025-03-21T06:13:05.614698",
     "exception": false,
     "start_time": "2025-03-21T06:13:05.580561",
     "status": "completed"
    },
    "tags": []
   },
   "outputs": [
    {
     "data": {
      "text/html": [
       "<div>\n",
       "<style scoped>\n",
       "    .dataframe tbody tr th:only-of-type {\n",
       "        vertical-align: middle;\n",
       "    }\n",
       "\n",
       "    .dataframe tbody tr th {\n",
       "        vertical-align: top;\n",
       "    }\n",
       "\n",
       "    .dataframe thead th {\n",
       "        text-align: right;\n",
       "    }\n",
       "</style>\n",
       "<table border=\"1\" class=\"dataframe\">\n",
       "  <thead>\n",
       "    <tr style=\"text-align: right;\">\n",
       "      <th></th>\n",
       "      <th>Sentence#</th>\n",
       "      <th>Word</th>\n",
       "      <th>POS</th>\n",
       "      <th>Tag</th>\n",
       "    </tr>\n",
       "  </thead>\n",
       "  <tbody>\n",
       "    <tr>\n",
       "      <th>66151</th>\n",
       "      <td>2999.0</td>\n",
       "      <td>reporters</td>\n",
       "      <td>NNS</td>\n",
       "      <td>O</td>\n",
       "    </tr>\n",
       "    <tr>\n",
       "      <th>66152</th>\n",
       "      <td>2999.0</td>\n",
       "      <td>a</td>\n",
       "      <td>DT</td>\n",
       "      <td>O</td>\n",
       "    </tr>\n",
       "    <tr>\n",
       "      <th>66153</th>\n",
       "      <td>2999.0</td>\n",
       "      <td>trial</td>\n",
       "      <td>NN</td>\n",
       "      <td>O</td>\n",
       "    </tr>\n",
       "    <tr>\n",
       "      <th>66154</th>\n",
       "      <td>2999.0</td>\n",
       "      <td>date</td>\n",
       "      <td>NN</td>\n",
       "      <td>O</td>\n",
       "    </tr>\n",
       "    <tr>\n",
       "      <th>66155</th>\n",
       "      <td>2999.0</td>\n",
       "      <td>could</td>\n",
       "      <td>MD</td>\n",
       "      <td>O</td>\n",
       "    </tr>\n",
       "    <tr>\n",
       "      <th>66156</th>\n",
       "      <td>2999.0</td>\n",
       "      <td>be</td>\n",
       "      <td>VB</td>\n",
       "      <td>O</td>\n",
       "    </tr>\n",
       "    <tr>\n",
       "      <th>66157</th>\n",
       "      <td>2999.0</td>\n",
       "      <td>announced</td>\n",
       "      <td>VBN</td>\n",
       "      <td>O</td>\n",
       "    </tr>\n",
       "    <tr>\n",
       "      <th>66158</th>\n",
       "      <td>2999.0</td>\n",
       "      <td>within</td>\n",
       "      <td>IN</td>\n",
       "      <td>B-tim</td>\n",
       "    </tr>\n",
       "    <tr>\n",
       "      <th>66159</th>\n",
       "      <td>2999.0</td>\n",
       "      <td>days</td>\n",
       "      <td>NNS</td>\n",
       "      <td>O</td>\n",
       "    </tr>\n",
       "    <tr>\n",
       "      <th>66160</th>\n",
       "      <td>2999.0</td>\n",
       "      <td>.</td>\n",
       "      <td>.</td>\n",
       "      <td>O</td>\n",
       "    </tr>\n",
       "  </tbody>\n",
       "</table>\n",
       "</div>"
      ],
      "text/plain": [
       "       Sentence#       Word  POS    Tag\n",
       "66151     2999.0  reporters  NNS      O\n",
       "66152     2999.0          a   DT      O\n",
       "66153     2999.0      trial   NN      O\n",
       "66154     2999.0       date   NN      O\n",
       "66155     2999.0      could   MD      O\n",
       "66156     2999.0         be   VB      O\n",
       "66157     2999.0  announced  VBN      O\n",
       "66158     2999.0     within   IN  B-tim\n",
       "66159     2999.0       days  NNS      O\n",
       "66160     2999.0          .    .      O"
      ]
     },
     "execution_count": 7,
     "metadata": {},
     "output_type": "execute_result"
    }
   ],
   "source": [
    "data.tail(10)"
   ]
  },
  {
   "cell_type": "code",
   "execution_count": 8,
   "id": "144fccf0",
   "metadata": {
    "execution": {
     "iopub.execute_input": "2025-03-21T06:13:05.659671Z",
     "iopub.status.busy": "2025-03-21T06:13:05.659415Z",
     "iopub.status.idle": "2025-03-21T06:13:05.662622Z",
     "shell.execute_reply": "2025-03-21T06:13:05.661695Z"
    },
    "id": "lvDtyNijGKA9",
    "papermill": {
     "duration": 0.027281,
     "end_time": "2025-03-21T06:13:05.664246",
     "exception": false,
     "start_time": "2025-03-21T06:13:05.636965",
     "status": "completed"
    },
    "tags": []
   },
   "outputs": [],
   "source": [
    "# data.head(30)"
   ]
  },
  {
   "cell_type": "code",
   "execution_count": 9,
   "id": "f7d2428a",
   "metadata": {
    "execution": {
     "iopub.execute_input": "2025-03-21T06:13:05.709584Z",
     "iopub.status.busy": "2025-03-21T06:13:05.709310Z",
     "iopub.status.idle": "2025-03-21T06:13:05.733594Z",
     "shell.execute_reply": "2025-03-21T06:13:05.732754Z"
    },
    "id": "ieAQViWQGKA-",
    "outputId": "06fbc5ea-331a-4d44-a5ed-e16b78ec1b8f",
    "papermill": {
     "duration": 0.048361,
     "end_time": "2025-03-21T06:13:05.734880",
     "exception": false,
     "start_time": "2025-03-21T06:13:05.686519",
     "status": "completed"
    },
    "tags": []
   },
   "outputs": [
    {
     "name": "stdout",
     "output_type": "stream",
     "text": [
      "<class 'pandas.core.frame.DataFrame'>\n",
      "Index: 66161 entries, 0 to 66160\n",
      "Data columns (total 4 columns):\n",
      " #   Column     Non-Null Count  Dtype  \n",
      "---  ------     --------------  -----  \n",
      " 0   Sentence#  66161 non-null  float64\n",
      " 1   Word       66161 non-null  object \n",
      " 2   POS        66161 non-null  object \n",
      " 3   Tag        66161 non-null  object \n",
      "dtypes: float64(1), object(3)\n",
      "memory usage: 2.5+ MB\n"
     ]
    }
   ],
   "source": [
    "data.info()"
   ]
  },
  {
   "cell_type": "markdown",
   "id": "d09f8567",
   "metadata": {
    "id": "b4nzvLRBpCeA",
    "papermill": {
     "duration": 0.022093,
     "end_time": "2025-03-21T06:13:05.779692",
     "exception": false,
     "start_time": "2025-03-21T06:13:05.757599",
     "status": "completed"
    },
    "tags": []
   },
   "source": [
    "# Data Processing and Augmentation"
   ]
  },
  {
   "cell_type": "code",
   "execution_count": 10,
   "id": "03953c97",
   "metadata": {
    "execution": {
     "iopub.execute_input": "2025-03-21T06:13:05.829967Z",
     "iopub.status.busy": "2025-03-21T06:13:05.829714Z",
     "iopub.status.idle": "2025-03-21T06:13:31.069352Z",
     "shell.execute_reply": "2025-03-21T06:13:31.068442Z"
    },
    "id": "eARIXitrGKA-",
    "outputId": "0a65d6d6-12d2-4a22-9f5f-eca50e4035eb",
    "papermill": {
     "duration": 25.263987,
     "end_time": "2025-03-21T06:13:31.070786",
     "exception": false,
     "start_time": "2025-03-21T06:13:05.806799",
     "status": "completed"
    },
    "tags": []
   },
   "outputs": [
    {
     "name": "stderr",
     "output_type": "stream",
     "text": [
      "<ipython-input-10-69b56ffc3f8e>:65: DeprecationWarning: DataFrameGroupBy.apply operated on the grouping columns. This behavior is deprecated, and in a future version of pandas the grouping columns will be excluded from the operation. Either pass `include_groups=False` to exclude the groupings or explicitly select the grouping columns after groupby to silence this warning.\n",
      "  augmented_df = df.groupby(\"Sentence#\").apply(lambda group: augment_sentence_group(group)).reset_index(drop=True)\n",
      "<ipython-input-10-69b56ffc3f8e>:65: DeprecationWarning: DataFrameGroupBy.apply operated on the grouping columns. This behavior is deprecated, and in a future version of pandas the grouping columns will be excluded from the operation. Either pass `include_groups=False` to exclude the groupings or explicitly select the grouping columns after groupby to silence this warning.\n",
      "  augmented_df = df.groupby(\"Sentence#\").apply(lambda group: augment_sentence_group(group)).reset_index(drop=True)\n",
      "<ipython-input-10-69b56ffc3f8e>:65: DeprecationWarning: DataFrameGroupBy.apply operated on the grouping columns. This behavior is deprecated, and in a future version of pandas the grouping columns will be excluded from the operation. Either pass `include_groups=False` to exclude the groupings or explicitly select the grouping columns after groupby to silence this warning.\n",
      "  augmented_df = df.groupby(\"Sentence#\").apply(lambda group: augment_sentence_group(group)).reset_index(drop=True)\n"
     ]
    },
    {
     "name": "stdout",
     "output_type": "stream",
     "text": [
      "<class 'pandas.core.frame.DataFrame'>\n",
      "RangeIndex: 346324 entries, 0 to 346323\n",
      "Data columns (total 4 columns):\n",
      " #   Column     Non-Null Count   Dtype  \n",
      "---  ------     --------------   -----  \n",
      " 0   Sentence#  346324 non-null  float64\n",
      " 1   Word       346324 non-null  object \n",
      " 2   POS        346324 non-null  object \n",
      " 3   Tag        346324 non-null  object \n",
      "dtypes: float64(1), object(3)\n",
      "memory usage: 10.6+ MB\n",
      "None\n",
      "<class 'pandas.core.frame.DataFrame'>\n",
      "Index: 6409 entries, 59752 to 66160\n",
      "Data columns (total 4 columns):\n",
      " #   Column     Non-Null Count  Dtype  \n",
      "---  ------     --------------  -----  \n",
      " 0   Sentence#  6409 non-null   float64\n",
      " 1   Word       6409 non-null   object \n",
      " 2   POS        6409 non-null   object \n",
      " 3   Tag        6409 non-null   object \n",
      "dtypes: float64(1), object(3)\n",
      "memory usage: 250.4+ KB\n",
      "None\n"
     ]
    }
   ],
   "source": [
    "def get_synonyms(word):\n",
    "    \"\"\" Get synonyms for a word using WordNet. \"\"\"\n",
    "    synonyms = set()\n",
    "    for syn in wordnet.synsets(word):\n",
    "        for lemma in syn.lemmas():\n",
    "            synonyms.add(lemma.name())\n",
    "    synonyms.discard(word)\n",
    "    return list(synonyms)\n",
    "\n",
    "def introduce_typos(word, prob=0.2):\n",
    "    \"\"\" Introduce typos by swapping adjacent characters. \"\"\"\n",
    "    if random.random() > prob or len(word) < 3:\n",
    "        return word\n",
    "    idx = random.randint(0, len(word) - 2)\n",
    "    return word[:idx] + word[idx + 1] + word[idx] + word[idx + 2:]\n",
    "\n",
    "def split_data(data):\n",
    "    \"\"\" Split dataset into 90% training and 10% test based on Sentence#. \"\"\"\n",
    "    # Note that here we split them only and later we do data augmentation on the train_data and keep the test_data unchanged\n",
    "    unique_sentences = sorted(data['Sentence#'].unique())\n",
    "    split_index = int(len(unique_sentences) * 0.9)\n",
    "    train_sentences = unique_sentences[:split_index]\n",
    "    test_sentences = unique_sentences[split_index:]\n",
    "\n",
    "    train_data = data[data['Sentence#'].isin(train_sentences)].copy()\n",
    "    test_data = data[data['Sentence#'].isin(test_sentences)].copy()\n",
    "\n",
    "    return train_data, test_data\n",
    "\n",
    "def augment_sentence_group(df_group, prob=0.3):\n",
    "    \"\"\" Apply augmentation to each sentence group (identified by Sentence#). \"\"\"\n",
    "    augmented_sentences = []\n",
    "    sentence_id = df_group['Sentence#'].iloc[0]  # Keep the same sentence number for now\n",
    "\n",
    "    for _, row in df_group.iterrows():\n",
    "        word = row['Word']\n",
    "\n",
    "        # Synonym Replacement (30% chance)\n",
    "        if random.random() < prob:\n",
    "            synonyms = get_synonyms(word)\n",
    "            if synonyms:\n",
    "                word = random.choice(synonyms)\n",
    "\n",
    "        # Typos (10% chance)\n",
    "        if random.random() < 0.1:\n",
    "            word = introduce_typos(word)\n",
    "\n",
    "        augmented_sentences.append([sentence_id, word, row['POS'], row['Tag']])\n",
    "\n",
    "    # Shuffle Words (5% chance)\n",
    "    if random.random() < 0.05:\n",
    "        random.shuffle(augmented_sentences)\n",
    "\n",
    "    return pd.DataFrame(augmented_sentences, columns=df_group.columns)\n",
    "\n",
    "def augment_data(df, num_augmented_copies=2):\n",
    "    \"\"\"\n",
    "    Apply augmentation to the dataset.\n",
    "    - `num_augmented_copies`: Number of augmented copies to generate for each sentence.\n",
    "    \"\"\"\n",
    "    augmented_data = []\n",
    "    max_sentence_id = df['Sentence#'].max()  # Start new sentence IDs from the last one\n",
    "\n",
    "    for _ in range(num_augmented_copies):\n",
    "        augmented_df = df.groupby(\"Sentence#\").apply(lambda group: augment_sentence_group(group)).reset_index(drop=True)\n",
    "        # Assign new sentence numbers to augmented sentences\n",
    "        augmented_df['Sentence#'] = augmented_df['Sentence#'].apply(lambda x: x + max_sentence_id)\n",
    "        max_sentence_id += df['Sentence#'].nunique()  # Increment to avoid duplication\n",
    "\n",
    "        augmented_data.append(augmented_df)\n",
    "\n",
    "    # Combine original with augmented data\n",
    "    final_df = pd.concat([df] + augmented_data, ignore_index=True)\n",
    "    return final_df\n",
    "\n",
    "def duplicate_ner_rows_with_synonyms(df, num_duplicates=3):\n",
    "    # Filter NER rows\n",
    "    ner_rows = df[df['Tag'] != 'O']\n",
    "\n",
    "    augmented_rows = []\n",
    "\n",
    "    for _ in range(num_duplicates):\n",
    "        for _, row in ner_rows.iterrows():\n",
    "            word = row['Word']\n",
    "            pos = row['POS']\n",
    "            tag = row['Tag']\n",
    "            sentence_id = row['Sentence#']\n",
    "\n",
    "            # Try to find a synonym for the word\n",
    "            synonyms = get_synonyms(word)\n",
    "            new_word = random.choice(synonyms) if synonyms else word  # use synonym if available\n",
    "\n",
    "            # Create a new row with possibly replaced word\n",
    "            augmented_rows.append({\n",
    "                'Sentence#': sentence_id,\n",
    "                'Word': new_word,\n",
    "                'POS': pos,\n",
    "                'Tag': tag\n",
    "            })\n",
    "\n",
    "    # Convert list to DataFrame\n",
    "    augmented_df = pd.DataFrame(augmented_rows)\n",
    "\n",
    "    # Combine original with new duplicated rows\n",
    "    final_df = pd.concat([df, augmented_df], ignore_index=True)\n",
    "\n",
    "    return final_df\n",
    "\n",
    "\n",
    "def process_data(data, num_augmented_copies=2, num_ner_duplicates=3):\n",
    "    \"\"\"\n",
    "    Complete data processing pipeline:\n",
    "    1. Split into train & test (last 10% of sentences reserved for testing).\n",
    "    2. Apply augmentation to the training set only.\n",
    "    3. Duplicate NER-tagged rows for balance at the very end.\n",
    "    \"\"\"\n",
    "    # Step 1: Split into training and test set\n",
    "    train_data, test_data = split_data(data)\n",
    "\n",
    "    # Step 2: Apply augmentation only to training data and keep the test data unchanged\n",
    "    train_data_augmented = augment_data(train_data, num_augmented_copies=num_augmented_copies)\n",
    "\n",
    "    # Step 3: Duplicate Named Entity rows in training data and keep the test data unchanged\n",
    "    train_data_final = duplicate_ner_rows_with_synonyms(train_data_augmented, num_duplicates=num_ner_duplicates)\n",
    "\n",
    "    # Finally, return the preprocessed train data and unchanged-from-original test data\n",
    "    return train_data_final, test_data\n",
    "\n",
    "# Example Usage\n",
    "# Assuming `data` is your original DataFrame\n",
    "train_data, test_data = process_data(data, num_augmented_copies=3, num_ner_duplicates=3)\n",
    "\n",
    "print(train_data.info())\n",
    "print(test_data.info())"
   ]
  },
  {
   "cell_type": "code",
   "execution_count": 11,
   "id": "583efbd5",
   "metadata": {
    "execution": {
     "iopub.execute_input": "2025-03-21T06:13:31.117139Z",
     "iopub.status.busy": "2025-03-21T06:13:31.116906Z",
     "iopub.status.idle": "2025-03-21T06:13:31.126831Z",
     "shell.execute_reply": "2025-03-21T06:13:31.126185Z"
    },
    "id": "rMU5yUbiGKA_",
    "outputId": "a6a4b141-c07f-49c3-fb0c-6e56ecf0720c",
    "papermill": {
     "duration": 0.03413,
     "end_time": "2025-03-21T06:13:31.128011",
     "exception": false,
     "start_time": "2025-03-21T06:13:31.093881",
     "status": "completed"
    },
    "tags": []
   },
   "outputs": [
    {
     "data": {
      "text/html": [
       "<div>\n",
       "<style scoped>\n",
       "    .dataframe tbody tr th:only-of-type {\n",
       "        vertical-align: middle;\n",
       "    }\n",
       "\n",
       "    .dataframe tbody tr th {\n",
       "        vertical-align: top;\n",
       "    }\n",
       "\n",
       "    .dataframe thead th {\n",
       "        text-align: right;\n",
       "    }\n",
       "</style>\n",
       "<table border=\"1\" class=\"dataframe\">\n",
       "  <thead>\n",
       "    <tr style=\"text-align: right;\">\n",
       "      <th></th>\n",
       "      <th>Sentence#</th>\n",
       "      <th>Word</th>\n",
       "      <th>POS</th>\n",
       "      <th>Tag</th>\n",
       "    </tr>\n",
       "  </thead>\n",
       "  <tbody>\n",
       "    <tr>\n",
       "      <th>346304</th>\n",
       "      <td>10793.0</td>\n",
       "      <td>ANC</td>\n",
       "      <td>NNP</td>\n",
       "      <td>B-org</td>\n",
       "    </tr>\n",
       "    <tr>\n",
       "      <th>346305</th>\n",
       "      <td>10794.0</td>\n",
       "      <td>2012</td>\n",
       "      <td>CD</td>\n",
       "      <td>B-tim</td>\n",
       "    </tr>\n",
       "    <tr>\n",
       "      <th>346306</th>\n",
       "      <td>10795.0</td>\n",
       "      <td>ANC</td>\n",
       "      <td>NNP</td>\n",
       "      <td>B-org</td>\n",
       "    </tr>\n",
       "    <tr>\n",
       "      <th>346307</th>\n",
       "      <td>10795.0</td>\n",
       "      <td>Dixie</td>\n",
       "      <td>NNP</td>\n",
       "      <td>B-geo</td>\n",
       "    </tr>\n",
       "    <tr>\n",
       "      <th>346308</th>\n",
       "      <td>10795.0</td>\n",
       "      <td>Africa</td>\n",
       "      <td>NNP</td>\n",
       "      <td>I-geo</td>\n",
       "    </tr>\n",
       "    <tr>\n",
       "      <th>346309</th>\n",
       "      <td>10795.0</td>\n",
       "      <td>close</td>\n",
       "      <td>NN</td>\n",
       "      <td>B-tim</td>\n",
       "    </tr>\n",
       "    <tr>\n",
       "      <th>346310</th>\n",
       "      <td>10795.0</td>\n",
       "      <td>of</td>\n",
       "      <td>IN</td>\n",
       "      <td>I-tim</td>\n",
       "    </tr>\n",
       "    <tr>\n",
       "      <th>346311</th>\n",
       "      <td>10795.0</td>\n",
       "      <td>apartheid</td>\n",
       "      <td>NN</td>\n",
       "      <td>I-tim</td>\n",
       "    </tr>\n",
       "    <tr>\n",
       "      <th>346312</th>\n",
       "      <td>10795.0</td>\n",
       "      <td>in</td>\n",
       "      <td>IN</td>\n",
       "      <td>I-tim</td>\n",
       "    </tr>\n",
       "    <tr>\n",
       "      <th>346313</th>\n",
       "      <td>10795.0</td>\n",
       "      <td>1994</td>\n",
       "      <td>CD</td>\n",
       "      <td>I-tim</td>\n",
       "    </tr>\n",
       "    <tr>\n",
       "      <th>346314</th>\n",
       "      <td>10795.0</td>\n",
       "      <td>Mr</td>\n",
       "      <td>NNP</td>\n",
       "      <td>B-per</td>\n",
       "    </tr>\n",
       "    <tr>\n",
       "      <th>346315</th>\n",
       "      <td>10795.0</td>\n",
       "      <td>Mbeki</td>\n",
       "      <td>NNP</td>\n",
       "      <td>B-org</td>\n",
       "    </tr>\n",
       "    <tr>\n",
       "      <th>346316</th>\n",
       "      <td>10795.0</td>\n",
       "      <td>United_States_President</td>\n",
       "      <td>NNP</td>\n",
       "      <td>B-per</td>\n",
       "    </tr>\n",
       "    <tr>\n",
       "      <th>346317</th>\n",
       "      <td>10795.0</td>\n",
       "      <td>Francois_Jacob</td>\n",
       "      <td>NNP</td>\n",
       "      <td>I-per</td>\n",
       "    </tr>\n",
       "    <tr>\n",
       "      <th>346318</th>\n",
       "      <td>10795.0</td>\n",
       "      <td>Zuma</td>\n",
       "      <td>NNP</td>\n",
       "      <td>I-per</td>\n",
       "    </tr>\n",
       "    <tr>\n",
       "      <th>346319</th>\n",
       "      <td>10796.0</td>\n",
       "      <td>ANC</td>\n",
       "      <td>NNP</td>\n",
       "      <td>B-org</td>\n",
       "    </tr>\n",
       "    <tr>\n",
       "      <th>346320</th>\n",
       "      <td>10796.0</td>\n",
       "      <td>Mister</td>\n",
       "      <td>NNP</td>\n",
       "      <td>B-per</td>\n",
       "    </tr>\n",
       "    <tr>\n",
       "      <th>346321</th>\n",
       "      <td>10796.0</td>\n",
       "      <td>Zuma</td>\n",
       "      <td>NNP</td>\n",
       "      <td>I-per</td>\n",
       "    </tr>\n",
       "    <tr>\n",
       "      <th>346322</th>\n",
       "      <td>10796.0</td>\n",
       "      <td>exhibit</td>\n",
       "      <td>NNP</td>\n",
       "      <td>B-tim</td>\n",
       "    </tr>\n",
       "    <tr>\n",
       "      <th>346323</th>\n",
       "      <td>10796.0</td>\n",
       "      <td>wizard</td>\n",
       "      <td>CD</td>\n",
       "      <td>I-tim</td>\n",
       "    </tr>\n",
       "  </tbody>\n",
       "</table>\n",
       "</div>"
      ],
      "text/plain": [
       "        Sentence#                     Word  POS    Tag\n",
       "346304    10793.0                      ANC  NNP  B-org\n",
       "346305    10794.0                     2012   CD  B-tim\n",
       "346306    10795.0                      ANC  NNP  B-org\n",
       "346307    10795.0                    Dixie  NNP  B-geo\n",
       "346308    10795.0                   Africa  NNP  I-geo\n",
       "346309    10795.0                    close   NN  B-tim\n",
       "346310    10795.0                       of   IN  I-tim\n",
       "346311    10795.0                apartheid   NN  I-tim\n",
       "346312    10795.0                       in   IN  I-tim\n",
       "346313    10795.0                     1994   CD  I-tim\n",
       "346314    10795.0                       Mr  NNP  B-per\n",
       "346315    10795.0                    Mbeki  NNP  B-org\n",
       "346316    10795.0  United_States_President  NNP  B-per\n",
       "346317    10795.0           Francois_Jacob  NNP  I-per\n",
       "346318    10795.0                     Zuma  NNP  I-per\n",
       "346319    10796.0                      ANC  NNP  B-org\n",
       "346320    10796.0                   Mister  NNP  B-per\n",
       "346321    10796.0                     Zuma  NNP  I-per\n",
       "346322    10796.0                  exhibit  NNP  B-tim\n",
       "346323    10796.0                   wizard   CD  I-tim"
      ]
     },
     "execution_count": 11,
     "metadata": {},
     "output_type": "execute_result"
    }
   ],
   "source": [
    "train_data.tail(20)"
   ]
  },
  {
   "cell_type": "code",
   "execution_count": 12,
   "id": "ce873dc4",
   "metadata": {
    "execution": {
     "iopub.execute_input": "2025-03-21T06:13:31.173762Z",
     "iopub.status.busy": "2025-03-21T06:13:31.173549Z",
     "iopub.status.idle": "2025-03-21T06:13:31.182944Z",
     "shell.execute_reply": "2025-03-21T06:13:31.182309Z"
    },
    "id": "DQ03tgfXGKBA",
    "outputId": "0eaac6c6-0476-4459-f9c8-f0ac44d7c5d3",
    "papermill": {
     "duration": 0.033502,
     "end_time": "2025-03-21T06:13:31.184087",
     "exception": false,
     "start_time": "2025-03-21T06:13:31.150585",
     "status": "completed"
    },
    "tags": []
   },
   "outputs": [
    {
     "data": {
      "text/html": [
       "<div>\n",
       "<style scoped>\n",
       "    .dataframe tbody tr th:only-of-type {\n",
       "        vertical-align: middle;\n",
       "    }\n",
       "\n",
       "    .dataframe tbody tr th {\n",
       "        vertical-align: top;\n",
       "    }\n",
       "\n",
       "    .dataframe thead th {\n",
       "        text-align: right;\n",
       "    }\n",
       "</style>\n",
       "<table border=\"1\" class=\"dataframe\">\n",
       "  <thead>\n",
       "    <tr style=\"text-align: right;\">\n",
       "      <th></th>\n",
       "      <th>Sentence#</th>\n",
       "      <th>Word</th>\n",
       "      <th>POS</th>\n",
       "      <th>Tag</th>\n",
       "    </tr>\n",
       "  </thead>\n",
       "  <tbody>\n",
       "    <tr>\n",
       "      <th>66141</th>\n",
       "      <td>2998.0</td>\n",
       "      <td>for</td>\n",
       "      <td>IN</td>\n",
       "      <td>O</td>\n",
       "    </tr>\n",
       "    <tr>\n",
       "      <th>66142</th>\n",
       "      <td>2998.0</td>\n",
       "      <td>an</td>\n",
       "      <td>DT</td>\n",
       "      <td>O</td>\n",
       "    </tr>\n",
       "    <tr>\n",
       "      <th>66143</th>\n",
       "      <td>2998.0</td>\n",
       "      <td>attempted</td>\n",
       "      <td>JJ</td>\n",
       "      <td>O</td>\n",
       "    </tr>\n",
       "    <tr>\n",
       "      <th>66144</th>\n",
       "      <td>2998.0</td>\n",
       "      <td>assassination</td>\n",
       "      <td>NN</td>\n",
       "      <td>O</td>\n",
       "    </tr>\n",
       "    <tr>\n",
       "      <th>66145</th>\n",
       "      <td>2998.0</td>\n",
       "      <td>of</td>\n",
       "      <td>IN</td>\n",
       "      <td>O</td>\n",
       "    </tr>\n",
       "    <tr>\n",
       "      <th>66146</th>\n",
       "      <td>2998.0</td>\n",
       "      <td>Saddam</td>\n",
       "      <td>NNP</td>\n",
       "      <td>B-per</td>\n",
       "    </tr>\n",
       "    <tr>\n",
       "      <th>66147</th>\n",
       "      <td>2998.0</td>\n",
       "      <td>.</td>\n",
       "      <td>.</td>\n",
       "      <td>O</td>\n",
       "    </tr>\n",
       "    <tr>\n",
       "      <th>66148</th>\n",
       "      <td>2999.0</td>\n",
       "      <td>The</td>\n",
       "      <td>DT</td>\n",
       "      <td>O</td>\n",
       "    </tr>\n",
       "    <tr>\n",
       "      <th>66149</th>\n",
       "      <td>2999.0</td>\n",
       "      <td>judge</td>\n",
       "      <td>NN</td>\n",
       "      <td>O</td>\n",
       "    </tr>\n",
       "    <tr>\n",
       "      <th>66150</th>\n",
       "      <td>2999.0</td>\n",
       "      <td>told</td>\n",
       "      <td>VBD</td>\n",
       "      <td>O</td>\n",
       "    </tr>\n",
       "    <tr>\n",
       "      <th>66151</th>\n",
       "      <td>2999.0</td>\n",
       "      <td>reporters</td>\n",
       "      <td>NNS</td>\n",
       "      <td>O</td>\n",
       "    </tr>\n",
       "    <tr>\n",
       "      <th>66152</th>\n",
       "      <td>2999.0</td>\n",
       "      <td>a</td>\n",
       "      <td>DT</td>\n",
       "      <td>O</td>\n",
       "    </tr>\n",
       "    <tr>\n",
       "      <th>66153</th>\n",
       "      <td>2999.0</td>\n",
       "      <td>trial</td>\n",
       "      <td>NN</td>\n",
       "      <td>O</td>\n",
       "    </tr>\n",
       "    <tr>\n",
       "      <th>66154</th>\n",
       "      <td>2999.0</td>\n",
       "      <td>date</td>\n",
       "      <td>NN</td>\n",
       "      <td>O</td>\n",
       "    </tr>\n",
       "    <tr>\n",
       "      <th>66155</th>\n",
       "      <td>2999.0</td>\n",
       "      <td>could</td>\n",
       "      <td>MD</td>\n",
       "      <td>O</td>\n",
       "    </tr>\n",
       "    <tr>\n",
       "      <th>66156</th>\n",
       "      <td>2999.0</td>\n",
       "      <td>be</td>\n",
       "      <td>VB</td>\n",
       "      <td>O</td>\n",
       "    </tr>\n",
       "    <tr>\n",
       "      <th>66157</th>\n",
       "      <td>2999.0</td>\n",
       "      <td>announced</td>\n",
       "      <td>VBN</td>\n",
       "      <td>O</td>\n",
       "    </tr>\n",
       "    <tr>\n",
       "      <th>66158</th>\n",
       "      <td>2999.0</td>\n",
       "      <td>within</td>\n",
       "      <td>IN</td>\n",
       "      <td>B-tim</td>\n",
       "    </tr>\n",
       "    <tr>\n",
       "      <th>66159</th>\n",
       "      <td>2999.0</td>\n",
       "      <td>days</td>\n",
       "      <td>NNS</td>\n",
       "      <td>O</td>\n",
       "    </tr>\n",
       "    <tr>\n",
       "      <th>66160</th>\n",
       "      <td>2999.0</td>\n",
       "      <td>.</td>\n",
       "      <td>.</td>\n",
       "      <td>O</td>\n",
       "    </tr>\n",
       "  </tbody>\n",
       "</table>\n",
       "</div>"
      ],
      "text/plain": [
       "       Sentence#           Word  POS    Tag\n",
       "66141     2998.0            for   IN      O\n",
       "66142     2998.0             an   DT      O\n",
       "66143     2998.0      attempted   JJ      O\n",
       "66144     2998.0  assassination   NN      O\n",
       "66145     2998.0             of   IN      O\n",
       "66146     2998.0         Saddam  NNP  B-per\n",
       "66147     2998.0              .    .      O\n",
       "66148     2999.0            The   DT      O\n",
       "66149     2999.0          judge   NN      O\n",
       "66150     2999.0           told  VBD      O\n",
       "66151     2999.0      reporters  NNS      O\n",
       "66152     2999.0              a   DT      O\n",
       "66153     2999.0          trial   NN      O\n",
       "66154     2999.0           date   NN      O\n",
       "66155     2999.0          could   MD      O\n",
       "66156     2999.0             be   VB      O\n",
       "66157     2999.0      announced  VBN      O\n",
       "66158     2999.0         within   IN  B-tim\n",
       "66159     2999.0           days  NNS      O\n",
       "66160     2999.0              .    .      O"
      ]
     },
     "execution_count": 12,
     "metadata": {},
     "output_type": "execute_result"
    }
   ],
   "source": [
    "test_data.tail(20)"
   ]
  },
  {
   "cell_type": "code",
   "execution_count": 13,
   "id": "a1dae30b",
   "metadata": {
    "execution": {
     "iopub.execute_input": "2025-03-21T06:13:31.268170Z",
     "iopub.status.busy": "2025-03-21T06:13:31.267910Z",
     "iopub.status.idle": "2025-03-21T06:13:31.270786Z",
     "shell.execute_reply": "2025-03-21T06:13:31.270135Z"
    },
    "id": "hKdxSu0kGKBA",
    "papermill": {
     "duration": 0.065176,
     "end_time": "2025-03-21T06:13:31.272047",
     "exception": false,
     "start_time": "2025-03-21T06:13:31.206871",
     "status": "completed"
    },
    "tags": []
   },
   "outputs": [],
   "source": [
    "# df_concat = pd.concat([data, data_other], ignore_index=True)\n",
    "# print(df_concat.head())\n",
    "# print(df_concat.info())"
   ]
  },
  {
   "cell_type": "code",
   "execution_count": 14,
   "id": "51de3ce8",
   "metadata": {
    "execution": {
     "iopub.execute_input": "2025-03-21T06:13:31.318396Z",
     "iopub.status.busy": "2025-03-21T06:13:31.318146Z",
     "iopub.status.idle": "2025-03-21T06:13:31.321021Z",
     "shell.execute_reply": "2025-03-21T06:13:31.320392Z"
    },
    "id": "IkKp7rSoGKBA",
    "papermill": {
     "duration": 0.027288,
     "end_time": "2025-03-21T06:13:31.322162",
     "exception": false,
     "start_time": "2025-03-21T06:13:31.294874",
     "status": "completed"
    },
    "tags": []
   },
   "outputs": [],
   "source": [
    "# df_concat = df_concat[df_concat['Sentence#'].notnull()]\n",
    "# df_concat = df_concat.drop_duplicates()"
   ]
  },
  {
   "cell_type": "code",
   "execution_count": 15,
   "id": "4466dfa3",
   "metadata": {
    "execution": {
     "iopub.execute_input": "2025-03-21T06:13:31.368728Z",
     "iopub.status.busy": "2025-03-21T06:13:31.368527Z",
     "iopub.status.idle": "2025-03-21T06:13:31.388726Z",
     "shell.execute_reply": "2025-03-21T06:13:31.387856Z"
    },
    "id": "Ivm6GsUyGKBB",
    "outputId": "15f61272-3a5d-485d-9df3-ed5706c7f411",
    "papermill": {
     "duration": 0.044906,
     "end_time": "2025-03-21T06:13:31.389910",
     "exception": false,
     "start_time": "2025-03-21T06:13:31.345004",
     "status": "completed"
    },
    "tags": []
   },
   "outputs": [
    {
     "name": "stdout",
     "output_type": "stream",
     "text": [
      "Tag\n",
      "O        203236\n",
      "B-geo     29120\n",
      "B-gpe     18192\n",
      "B-org     18176\n",
      "I-per     17712\n",
      "B-tim     16752\n",
      "B-per     15408\n",
      "I-org     13280\n",
      "I-geo      6080\n",
      "I-tim      4832\n",
      "B-art       848\n",
      "B-eve       656\n",
      "I-art       544\n",
      "I-eve       528\n",
      "I-gpe       512\n",
      "B-nat       304\n",
      "I-nat       144\n",
      "Name: count, dtype: int64\n"
     ]
    }
   ],
   "source": [
    "# Count occurrences of each tag in the dataset\n",
    "tag_counts = train_data[\"Tag\"].value_counts()\n",
    "\n",
    "# Print tag counts\n",
    "print(tag_counts)"
   ]
  },
  {
   "cell_type": "code",
   "execution_count": 16,
   "id": "00a0c3a1",
   "metadata": {
    "execution": {
     "iopub.execute_input": "2025-03-21T06:13:31.436133Z",
     "iopub.status.busy": "2025-03-21T06:13:31.435932Z",
     "iopub.status.idle": "2025-03-21T06:13:31.714458Z",
     "shell.execute_reply": "2025-03-21T06:13:31.713673Z"
    },
    "id": "IMSPg349GKBB",
    "outputId": "89b4e6b0-1550-48ec-d103-349d1d483dba",
    "papermill": {
     "duration": 0.303303,
     "end_time": "2025-03-21T06:13:31.715856",
     "exception": false,
     "start_time": "2025-03-21T06:13:31.412553",
     "status": "completed"
    },
    "tags": []
   },
   "outputs": [
    {
     "data": {
      "image/png": "[encoded data removed]",
      "text/plain": [
       "<Figure size 1000x500 with 1 Axes>"
      ]
     },
     "metadata": {},
     "output_type": "display_data"
    }
   ],
   "source": [
    "# Sort tags by frequency for better visualization\n",
    "tag_counts_sorted = tag_counts.sort_values(ascending=False)\n",
    "\n",
    "# Plot bar chart\n",
    "plt.figure(figsize=(10, 5))\n",
    "plt.bar(tag_counts_sorted.index, tag_counts_sorted.values, color='royalblue')\n",
    "plt.xlabel(\"Named Entity Tags\")\n",
    "plt.ylabel(\"Count\")\n",
    "plt.xticks(rotation=45)\n",
    "plt.title(\"Named Entity Tag Distribution\")\n",
    "plt.show()\n"
   ]
  },
  {
   "cell_type": "code",
   "execution_count": 17,
   "id": "90f22b67",
   "metadata": {
    "execution": {
     "iopub.execute_input": "2025-03-21T06:13:31.765952Z",
     "iopub.status.busy": "2025-03-21T06:13:31.765691Z",
     "iopub.status.idle": "2025-03-21T06:13:31.968252Z",
     "shell.execute_reply": "2025-03-21T06:13:31.967457Z"
    },
    "id": "-O_dOwlOGKBB",
    "outputId": "9976460c-69e4-4952-b1a0-79ff3e12f6c6",
    "papermill": {
     "duration": 0.227816,
     "end_time": "2025-03-21T06:13:31.969352",
     "exception": false,
     "start_time": "2025-03-21T06:13:31.741536",
     "status": "completed"
    },
    "tags": []
   },
   "outputs": [
    {
     "data": {
      "image/png": "[encoded data removed]",
      "text/plain": [
       "<Figure size 1000x500 with 1 Axes>"
      ]
     },
     "metadata": {},
     "output_type": "display_data"
    }
   ],
   "source": [
    "tag_counts_filtered = tag_counts.drop(\"O\")\n",
    "\n",
    "tag_counts_sorted = tag_counts_filtered.sort_values(ascending=False)\n",
    "plt.figure(figsize=(10, 5))\n",
    "plt.bar(tag_counts_sorted.index, tag_counts_sorted.values, color='royalblue')\n",
    "plt.xlabel(\"Named Entity Tags\")\n",
    "plt.ylabel(\"Count\")\n",
    "plt.xticks(rotation=45)\n",
    "plt.title(\"Named Entity Tag Distribution (Without 'O')\")\n",
    "plt.show()\n"
   ]
  },
  {
   "cell_type": "code",
   "execution_count": 18,
   "id": "4fe368d5",
   "metadata": {
    "execution": {
     "iopub.execute_input": "2025-03-21T06:13:32.018719Z",
     "iopub.status.busy": "2025-03-21T06:13:32.018490Z",
     "iopub.status.idle": "2025-03-21T06:13:32.084224Z",
     "shell.execute_reply": "2025-03-21T06:13:32.083459Z"
    },
    "id": "Odxn3G10GKBB",
    "outputId": "e28c7969-e5d0-478e-c1bc-255bbd7c87d5",
    "papermill": {
     "duration": 0.091754,
     "end_time": "2025-03-21T06:13:32.085487",
     "exception": false,
     "start_time": "2025-03-21T06:13:31.993733",
     "status": "completed"
    },
    "tags": []
   },
   "outputs": [
    {
     "name": "stdout",
     "output_type": "stream",
     "text": [
      "<class 'pandas.core.frame.DataFrame'>\n",
      "RangeIndex: 352733 entries, 0 to 352732\n",
      "Data columns (total 4 columns):\n",
      " #   Column     Non-Null Count   Dtype  \n",
      "---  ------     --------------   -----  \n",
      " 0   Sentence#  352733 non-null  float64\n",
      " 1   Word       352733 non-null  object \n",
      " 2   POS        352733 non-null  object \n",
      " 3   Tag        352733 non-null  object \n",
      "dtypes: float64(1), object(3)\n",
      "memory usage: 10.8+ MB\n"
     ]
    }
   ],
   "source": [
    "data_all = pd.concat([train_data, test_data], ignore_index=True)\n",
    "data_all.info()\n"
   ]
  },
  {
   "cell_type": "code",
   "execution_count": null,
   "id": "888bd51c",
   "metadata": {
    "execution": {
     "iopub.execute_input": "2025-03-21T06:13:32.135474Z",
     "iopub.status.busy": "2025-03-21T06:13:32.135211Z",
     "iopub.status.idle": "2025-03-21T06:13:32.155238Z",
     "shell.execute_reply": "2025-03-21T06:13:32.154574Z"
    },
    "id": "Y7mOuiGjGKBC",
    "outputId": "d569863a-29be-4904-8a9c-8e350eace4bc",
    "papermill": {
     "duration": 0.046122,
     "end_time": "2025-03-21T06:13:32.156463",
     "exception": false,
     "start_time": "2025-03-21T06:13:32.110341",
     "status": "completed"
    },
    "tags": []
   },
   "outputs": [
    {
     "data": {
      "text/plain": [
       "19559"
      ]
     },
     "execution_count": 19,
     "metadata": {},
     "output_type": "execute_result"
    }
   ],
   "source": [
    "words = list(set(data_all[\"Word\"].values))\n",
    "words.append(\"ENDPAD\")\n",
    "n_words = len(words)\n",
    "n_words\n"
   ]
  },
  {
   "cell_type": "code",
   "execution_count": 20,
   "id": "c8d3e093",
   "metadata": {
    "execution": {
     "iopub.execute_input": "2025-03-21T06:13:32.206104Z",
     "iopub.status.busy": "2025-03-21T06:13:32.205864Z",
     "iopub.status.idle": "2025-03-21T06:13:32.218029Z",
     "shell.execute_reply": "2025-03-21T06:13:32.217413Z"
    },
    "id": "VfgNACWNGKBC",
    "outputId": "ec2cb562-ba43-44dd-b218-3425bd03c60c",
    "papermill": {
     "duration": 0.038432,
     "end_time": "2025-03-21T06:13:32.219383",
     "exception": false,
     "start_time": "2025-03-21T06:13:32.180951",
     "status": "completed"
    },
    "tags": []
   },
   "outputs": [
    {
     "data": {
      "text/plain": [
       "17"
      ]
     },
     "execution_count": 20,
     "metadata": {},
     "output_type": "execute_result"
    }
   ],
   "source": [
    "tags = list(set(data_all[\"Tag\"].values))\n",
    "n_tags = len(tags); n_tags"
   ]
  },
  {
   "cell_type": "code",
   "execution_count": 21,
   "id": "4eda17af",
   "metadata": {
    "execution": {
     "iopub.execute_input": "2025-03-21T06:13:32.269133Z",
     "iopub.status.busy": "2025-03-21T06:13:32.268896Z",
     "iopub.status.idle": "2025-03-21T06:13:32.274573Z",
     "shell.execute_reply": "2025-03-21T06:13:32.273770Z"
    },
    "id": "qRSzIV1TGKBC",
    "papermill": {
     "duration": 0.031742,
     "end_time": "2025-03-21T06:13:32.275766",
     "exception": false,
     "start_time": "2025-03-21T06:13:32.244024",
     "status": "completed"
    },
    "tags": []
   },
   "outputs": [],
   "source": [
    "class SentenceGetter(object):\n",
    "\n",
    "    def __init__(self, data):\n",
    "        self.n_sent = 1\n",
    "        self.data = data\n",
    "        self.empty = False\n",
    "        agg_func = lambda s: [(w, p, t) for w, p, t in zip(s[\"Word\"].values.tolist(),\n",
    "                                                           s[\"POS\"].values.tolist(),\n",
    "                                                           s[\"Tag\"].values.tolist())]\n",
    "        self.grouped = self.data.groupby(\"Sentence#\").apply(agg_func)\n",
    "        self.sentences = [s for s in self.grouped]\n",
    "\n",
    "    def get_next(self):\n",
    "        try:\n",
    "            s = self.grouped[\"Sentence: {}\".format(self.n_sent)]\n",
    "            self.n_sent += 1\n",
    "            return s\n",
    "        except:\n",
    "            return None\n"
   ]
  },
  {
   "cell_type": "code",
   "execution_count": 22,
   "id": "67bdbd28",
   "metadata": {
    "execution": {
     "iopub.execute_input": "2025-03-21T06:13:32.325392Z",
     "iopub.status.busy": "2025-03-21T06:13:32.325139Z",
     "iopub.status.idle": "2025-03-21T06:13:34.663331Z",
     "shell.execute_reply": "2025-03-21T06:13:34.662401Z"
    },
    "id": "zBqHG-xFGKBC",
    "outputId": "d64ae8ad-422f-4984-c24d-a2d6494c3427",
    "papermill": {
     "duration": 2.364676,
     "end_time": "2025-03-21T06:13:34.664832",
     "exception": false,
     "start_time": "2025-03-21T06:13:32.300156",
     "status": "completed"
    },
    "tags": []
   },
   "outputs": [
    {
     "name": "stderr",
     "output_type": "stream",
     "text": [
      "<ipython-input-21-92a449d593f1>:10: DeprecationWarning: DataFrameGroupBy.apply operated on the grouping columns. This behavior is deprecated, and in a future version of pandas the grouping columns will be excluded from the operation. Either pass `include_groups=False` to exclude the groupings or explicitly select the grouping columns after groupby to silence this warning.\n",
      "  self.grouped = self.data.groupby(\"Sentence#\").apply(agg_func)\n",
      "<ipython-input-21-92a449d593f1>:10: DeprecationWarning: DataFrameGroupBy.apply operated on the grouping columns. This behavior is deprecated, and in a future version of pandas the grouping columns will be excluded from the operation. Either pass `include_groups=False` to exclude the groupings or explicitly select the grouping columns after groupby to silence this warning.\n",
      "  self.grouped = self.data.groupby(\"Sentence#\").apply(agg_func)\n",
      "<ipython-input-21-92a449d593f1>:10: DeprecationWarning: DataFrameGroupBy.apply operated on the grouping columns. This behavior is deprecated, and in a future version of pandas the grouping columns will be excluded from the operation. Either pass `include_groups=False` to exclude the groupings or explicitly select the grouping columns after groupby to silence this warning.\n",
      "  self.grouped = self.data.groupby(\"Sentence#\").apply(agg_func)\n"
     ]
    }
   ],
   "source": [
    "getter = SentenceGetter(data_all)\n",
    "getter_train = SentenceGetter(train_data)\n",
    "getter_test = SentenceGetter(test_data)\n"
   ]
  },
  {
   "cell_type": "code",
   "execution_count": 23,
   "id": "a60b6d79",
   "metadata": {
    "execution": {
     "iopub.execute_input": "2025-03-21T06:13:34.715880Z",
     "iopub.status.busy": "2025-03-21T06:13:34.715625Z",
     "iopub.status.idle": "2025-03-21T06:13:34.719972Z",
     "shell.execute_reply": "2025-03-21T06:13:34.719178Z"
    },
    "id": "pzDvZdLnGKBC",
    "outputId": "c0356239-ea71-483f-b081-937dd41d1982",
    "papermill": {
     "duration": 0.030942,
     "end_time": "2025-03-21T06:13:34.721192",
     "exception": false,
     "start_time": "2025-03-21T06:13:34.690250",
     "status": "completed"
    },
    "tags": []
   },
   "outputs": [
    {
     "name": "stdout",
     "output_type": "stream",
     "text": [
      "None\n"
     ]
    }
   ],
   "source": [
    "sent = getter_test.get_next()\n",
    "print(sent)"
   ]
  },
  {
   "cell_type": "code",
   "execution_count": 24,
   "id": "16e84a3d",
   "metadata": {
    "execution": {
     "iopub.execute_input": "2025-03-21T06:13:34.772945Z",
     "iopub.status.busy": "2025-03-21T06:13:34.772718Z",
     "iopub.status.idle": "2025-03-21T06:13:34.775811Z",
     "shell.execute_reply": "2025-03-21T06:13:34.775176Z"
    },
    "id": "2VYz9bZTGKBD",
    "papermill": {
     "duration": 0.029551,
     "end_time": "2025-03-21T06:13:34.777065",
     "exception": false,
     "start_time": "2025-03-21T06:13:34.747514",
     "status": "completed"
    },
    "tags": []
   },
   "outputs": [],
   "source": [
    "sentences = getter.sentences\n",
    "sentences_train = getter_train.sentences\n",
    "sentences_test = getter_test.sentences\n",
    "\n",
    "# sentences_train[10]"
   ]
  },
  {
   "cell_type": "markdown",
   "id": "4119ea5c",
   "metadata": {
    "id": "J89YiE5lGKBD",
    "papermill": {
     "duration": 0.024581,
     "end_time": "2025-03-21T06:13:34.826700",
     "exception": false,
     "start_time": "2025-03-21T06:13:34.802119",
     "status": "completed"
    },
    "tags": []
   },
   "source": [
    "# Prepare the data for training"
   ]
  },
  {
   "cell_type": "code",
   "execution_count": 25,
   "id": "b779a63f",
   "metadata": {
    "execution": {
     "iopub.execute_input": "2025-03-21T06:13:34.877144Z",
     "iopub.status.busy": "2025-03-21T06:13:34.876880Z",
     "iopub.status.idle": "2025-03-21T06:13:34.887143Z",
     "shell.execute_reply": "2025-03-21T06:13:34.886265Z"
    },
    "id": "vdW16CQLGKBF",
    "papermill": {
     "duration": 0.036785,
     "end_time": "2025-03-21T06:13:34.888453",
     "exception": false,
     "start_time": "2025-03-21T06:13:34.851668",
     "status": "completed"
    },
    "tags": []
   },
   "outputs": [],
   "source": [
    "max_len = 75\n",
    "word2idx = {w: i + 1 for i, w in enumerate(words)}\n",
    "tag2idx = {t: i for i, t in enumerate(tags)}"
   ]
  },
  {
   "cell_type": "code",
   "execution_count": 26,
   "id": "39a2f088",
   "metadata": {
    "execution": {
     "iopub.execute_input": "2025-03-21T06:13:34.939087Z",
     "iopub.status.busy": "2025-03-21T06:13:34.938859Z",
     "iopub.status.idle": "2025-03-21T06:13:34.943214Z",
     "shell.execute_reply": "2025-03-21T06:13:34.942568Z"
    },
    "id": "1CuWypKEGKBF",
    "outputId": "8a6d03fa-e0f9-458e-b8eb-fba818a86717",
    "papermill": {
     "duration": 0.03134,
     "end_time": "2025-03-21T06:13:34.944439",
     "exception": false,
     "start_time": "2025-03-21T06:13:34.913099",
     "status": "completed"
    },
    "tags": []
   },
   "outputs": [
    {
     "data": {
      "text/plain": [
       "18185"
      ]
     },
     "execution_count": 26,
     "metadata": {},
     "output_type": "execute_result"
    }
   ],
   "source": [
    "word2idx[\"Obama\"]"
   ]
  },
  {
   "cell_type": "code",
   "execution_count": 27,
   "id": "db0d70c8",
   "metadata": {
    "execution": {
     "iopub.execute_input": "2025-03-21T06:13:34.995044Z",
     "iopub.status.busy": "2025-03-21T06:13:34.994822Z",
     "iopub.status.idle": "2025-03-21T06:13:34.999173Z",
     "shell.execute_reply": "2025-03-21T06:13:34.998390Z"
    },
    "id": "8JX_iiJvGKBF",
    "outputId": "07cff96f-e5e0-4864-f645-8aea0f68a51a",
    "papermill": {
     "duration": 0.030988,
     "end_time": "2025-03-21T06:13:35.000367",
     "exception": false,
     "start_time": "2025-03-21T06:13:34.969379",
     "status": "completed"
    },
    "tags": []
   },
   "outputs": [
    {
     "data": {
      "text/plain": [
       "8"
      ]
     },
     "execution_count": 27,
     "metadata": {},
     "output_type": "execute_result"
    }
   ],
   "source": [
    "tag2idx[\"B-geo\"]"
   ]
  },
  {
   "cell_type": "code",
   "execution_count": 28,
   "id": "de3fdaf3",
   "metadata": {
    "execution": {
     "iopub.execute_input": "2025-03-21T06:13:35.050623Z",
     "iopub.status.busy": "2025-03-21T06:13:35.050376Z",
     "iopub.status.idle": "2025-03-21T06:13:35.146754Z",
     "shell.execute_reply": "2025-03-21T06:13:35.146058Z"
    },
    "id": "SK10gtKLGKBG",
    "papermill": {
     "duration": 0.122914,
     "end_time": "2025-03-21T06:13:35.147991",
     "exception": false,
     "start_time": "2025-03-21T06:13:35.025077",
     "status": "completed"
    },
    "tags": []
   },
   "outputs": [],
   "source": [
    "# pad the sequence\n",
    "X_train = [[word2idx[w[0]] for w in s] for s in sentences_train]\n",
    "X_train = pad_sequences(maxlen=max_len, sequences=X_train, padding=\"post\", value=word2idx[\"ENDPAD\"])\n",
    "\n",
    "X_test = [[word2idx[w[0]] for w in s] for s in sentences_test]\n",
    "X_test = pad_sequences(maxlen=max_len, sequences=X_test, padding=\"post\", value=word2idx[\"ENDPAD\"])"
   ]
  },
  {
   "cell_type": "code",
   "execution_count": 29,
   "id": "6c7fd231",
   "metadata": {
    "execution": {
     "iopub.execute_input": "2025-03-21T06:13:35.198298Z",
     "iopub.status.busy": "2025-03-21T06:13:35.198056Z",
     "iopub.status.idle": "2025-03-21T06:13:35.201134Z",
     "shell.execute_reply": "2025-03-21T06:13:35.200312Z"
    },
    "id": "9fZiprmqGKBG",
    "papermill": {
     "duration": 0.029461,
     "end_time": "2025-03-21T06:13:35.202479",
     "exception": false,
     "start_time": "2025-03-21T06:13:35.173018",
     "status": "completed"
    },
    "tags": []
   },
   "outputs": [],
   "source": [
    "# # pad the target\n",
    "# y_train = [[tag2idx[w[2]] for w in s] for s in sentences_train]\n",
    "# y_train = pad_sequences(maxlen=max_len, sequences=y_train, padding=\"post\", value=tag2idx[\"O\"])\n",
    "# y_train = [to_categorical(i, num_classes=n_tags) for i in y_train]\n",
    "\n",
    "# y_test = [[tag2idx[w[2]] for w in s] for s in sentences_test]\n",
    "# y_test = pad_sequences(maxlen=max_len, sequences=y_test, padding=\"post\", value=tag2idx[\"O\"])\n",
    "# y_test = [to_categorical(i, num_classes=n_tags) for i in y_test]"
   ]
  },
  {
   "cell_type": "code",
   "execution_count": 30,
   "id": "7be7032f",
   "metadata": {
    "execution": {
     "iopub.execute_input": "2025-03-21T06:13:35.252951Z",
     "iopub.status.busy": "2025-03-21T06:13:35.252700Z",
     "iopub.status.idle": "2025-03-21T06:13:35.457803Z",
     "shell.execute_reply": "2025-03-21T06:13:35.456831Z"
    },
    "id": "jtQJk-JoGKBH",
    "outputId": "2826bfd0-c22e-42ac-851e-38f1f8d3d3ed",
    "papermill": {
     "duration": 0.231554,
     "end_time": "2025-03-21T06:13:35.459130",
     "exception": false,
     "start_time": "2025-03-21T06:13:35.227576",
     "status": "completed"
    },
    "tags": []
   },
   "outputs": [
    {
     "name": "stdout",
     "output_type": "stream",
     "text": [
      "Shape of y_train after padding: (10796, 75)\n",
      "Shape of y_test after padding: (300, 75)\n",
      "Shape of y_train after one-hot encoding: (10796, 75, 17)\n",
      "Shape of y_test after one-hot encoding: (300, 75, 17)\n"
     ]
    }
   ],
   "source": [
    "# Check shape after converting tags to indices\n",
    "y_train = [[tag2idx[w[2]] for w in s] for s in sentences_train]\n",
    "y_test = [[tag2idx[w[2]] for w in s] for s in sentences_test]\n",
    "\n",
    "# print(\"Shape of y_train before padding:\", y_train)\n",
    "# print(\"Shape of y_test before padding:\", y_test)\n",
    "\n",
    "# Check shape after padding\n",
    "y_train = pad_sequences(maxlen=max_len, sequences=y_train, padding=\"post\", value=tag2idx[\"O\"])\n",
    "y_test = pad_sequences(maxlen=max_len, sequences=y_test, padding=\"post\", value=tag2idx[\"O\"])\n",
    "\n",
    "print(\"Shape of y_train after padding:\", y_train.shape)\n",
    "print(\"Shape of y_test after padding:\", y_test.shape)\n",
    "\n",
    "# Check shape after one-hot encoding\n",
    "y_train = np.array([to_categorical(i, num_classes=n_tags) for i in y_train])\n",
    "y_test = np.array([to_categorical(i, num_classes=n_tags) for i in y_test])\n",
    "\n",
    "print(\"Shape of y_train after one-hot encoding:\", y_train.shape)\n",
    "print(\"Shape of y_test after one-hot encoding:\", y_test.shape)"
   ]
  },
  {
   "cell_type": "code",
   "execution_count": 31,
   "id": "6c1f1e0a",
   "metadata": {
    "execution": {
     "iopub.execute_input": "2025-03-21T06:13:35.510451Z",
     "iopub.status.busy": "2025-03-21T06:13:35.510147Z",
     "iopub.status.idle": "2025-03-21T06:13:35.513199Z",
     "shell.execute_reply": "2025-03-21T06:13:35.512389Z"
    },
    "id": "8K7u4EosGKBH",
    "papermill": {
     "duration": 0.029735,
     "end_time": "2025-03-21T06:13:35.514536",
     "exception": false,
     "start_time": "2025-03-21T06:13:35.484801",
     "status": "completed"
    },
    "tags": []
   },
   "outputs": [],
   "source": [
    "# X = [[word2idx[w[0]] for w in s] for s in sentences]\n",
    "# X = pad_sequences(maxlen=max_len, sequences=X, padding=\"post\", value=n_words-1)"
   ]
  },
  {
   "cell_type": "code",
   "execution_count": 32,
   "id": "ca109d94",
   "metadata": {
    "execution": {
     "iopub.execute_input": "2025-03-21T06:13:35.565701Z",
     "iopub.status.busy": "2025-03-21T06:13:35.565494Z",
     "iopub.status.idle": "2025-03-21T06:13:35.568434Z",
     "shell.execute_reply": "2025-03-21T06:13:35.567668Z"
    },
    "id": "v2EohS-7GKBH",
    "papermill": {
     "duration": 0.029551,
     "end_time": "2025-03-21T06:13:35.569618",
     "exception": false,
     "start_time": "2025-03-21T06:13:35.540067",
     "status": "completed"
    },
    "tags": []
   },
   "outputs": [],
   "source": [
    "# from keras.utils import to_categorical\n",
    "# y = [to_categorical(i, num_classes=n_tags) for i in y]\n",
    "# from sklearn.model_selection import train_test_split\n",
    "# X_tr, X_te, y_tr, y_te = train_test_split(X, y, test_size=0.1)"
   ]
  },
  {
   "cell_type": "markdown",
   "id": "bb8340f9",
   "metadata": {
    "id": "Qg6xBBp5qNsE",
    "papermill": {
     "duration": 0.024532,
     "end_time": "2025-03-21T06:13:35.618903",
     "exception": false,
     "start_time": "2025-03-21T06:13:35.594371",
     "status": "completed"
    },
    "tags": []
   },
   "source": [
    "# Defining BiLSTM-CRF Model: Basic"
   ]
  },
  {
   "cell_type": "markdown",
   "id": "b8623e78",
   "metadata": {
    "id": "BO9cOrWsGKBI",
    "papermill": {
     "duration": 0.024475,
     "end_time": "2025-03-21T06:13:35.667862",
     "exception": false,
     "start_time": "2025-03-21T06:13:35.643387",
     "status": "completed"
    },
    "tags": []
   },
   "source": [
    "## Setup the BiLSTM-CRF 1: Basic\n",
    "\n",
    "This model gets the performance on the test set like this:\n",
    "\n",
    "```\n",
    "Accuracy-score: 97.9%\n",
    "Precision-score: 61.6%\n",
    "Recall-score: 57.8%\n",
    "F1-score: 59.6%\n",
    "              precision    recall  f1-score   support\n",
    "\n",
    "         eve       0.00      0.00      0.00         4\n",
    "         geo       0.73      0.56      0.64       250\n",
    "         gpe       0.85      0.85      0.85        93\n",
    "         nat       0.00      0.00      0.00         1\n",
    "         org       0.32      0.47      0.38       101\n",
    "         per       0.53      0.41      0.46       144\n",
    "         tim       0.71      0.73      0.72       113\n",
    "\n",
    "   micro avg       0.62      0.58      0.60       706\n",
    "   macro avg       0.45      0.43      0.43       706\n",
    "weighted avg       0.64      0.58      0.60       706\n",
    "```\n"
   ]
  },
  {
   "cell_type": "code",
   "execution_count": 33,
   "id": "4ae138f0",
   "metadata": {
    "execution": {
     "iopub.execute_input": "2025-03-21T06:13:35.717753Z",
     "iopub.status.busy": "2025-03-21T06:13:35.717522Z",
     "iopub.status.idle": "2025-03-21T06:13:35.725798Z",
     "shell.execute_reply": "2025-03-21T06:13:35.725185Z"
    },
    "id": "FCuV30EYSBVh",
    "papermill": {
     "duration": 0.034491,
     "end_time": "2025-03-21T06:13:35.726884",
     "exception": false,
     "start_time": "2025-03-21T06:13:35.692393",
     "status": "completed"
    },
    "tags": []
   },
   "outputs": [],
   "source": [
    "class BiLSTMCRF(tf.keras.Model):\n",
    "    def __init__(self, max_len, n_words, n_tags):\n",
    "        super(BiLSTMCRF, self).__init__()\n",
    "        self.embedding = Embedding(input_dim=n_words+1, output_dim=200, input_length=max_len)\n",
    "        self.dropout = Dropout(0.5)\n",
    "        self.bilstm = Bidirectional(LSTM(units=128, return_sequences=True, recurrent_dropout=0.1))\n",
    "        self.dense = TimeDistributed(Dense(n_tags))\n",
    "        # self.dense = TimeDistributed(Dense(n_tags, activation=\"relu\"))\n",
    "        self.crf = CRF(n_tags)\n",
    "\n",
    "    def call(self, inputs, training=False):\n",
    "        x = self.embedding(inputs)\n",
    "        x = self.dropout(x, training=training)\n",
    "        x = self.bilstm(x)\n",
    "        logits = self.dense(x)\n",
    "        self.decode_tags, self.potentials, self.sequence_lengths, self.transition_params = self.crf(logits)\n",
    "        return self.potentials  # return logits for loss calculation\n",
    "\n",
    "    def train_step(self, data):\n",
    "        x, y = data\n",
    "        with tf.GradientTape() as tape:\n",
    "            potentials = self(x, training=True)\n",
    "            log_likelihood, _ = tfa.text.crf_log_likelihood(\n",
    "                potentials,\n",
    "                tag_indices=tf.argmax(y, axis=-1),\n",
    "                sequence_lengths=self.sequence_lengths,\n",
    "                transition_params=self.transition_params\n",
    "            )\n",
    "            loss = -tf.reduce_mean(log_likelihood)\n",
    "\n",
    "        gradients = tape.gradient(loss, self.trainable_variables)\n",
    "        self.optimizer.apply_gradients(zip(gradients, self.trainable_variables))\n",
    "\n",
    "        y_pred = tf.argmax(potentials, axis=-1)\n",
    "        y_true = tf.argmax(y, axis=-1)\n",
    "        acc = tf.reduce_mean(tf.cast(tf.equal(y_true, y_pred), tf.float32))\n",
    "\n",
    "        return {\"loss\": loss, \"crf_accuracy\": acc}\n",
    "\n",
    "    def test_step(self, data):\n",
    "        x, y = data\n",
    "        potentials = self(x, training=False)\n",
    "        log_likelihood, _ = tfa.text.crf_log_likelihood(\n",
    "            potentials,\n",
    "            tag_indices=tf.argmax(y, axis=-1),\n",
    "            sequence_lengths=self.sequence_lengths,\n",
    "            transition_params=self.transition_params\n",
    "        )\n",
    "        loss = -tf.reduce_mean(log_likelihood)\n",
    "\n",
    "        y_pred = tf.argmax(potentials, axis=-1)\n",
    "        y_true = tf.argmax(y, axis=-1)\n",
    "        acc = tf.reduce_mean(tf.cast(tf.equal(y_true, y_pred), tf.float32))\n",
    "\n",
    "        return {\"loss\": loss, \"crf_accuracy\": acc}\n"
   ]
  },
  {
   "cell_type": "code",
   "execution_count": 34,
   "id": "a0d6399f",
   "metadata": {
    "execution": {
     "iopub.execute_input": "2025-03-21T06:13:35.778713Z",
     "iopub.status.busy": "2025-03-21T06:13:35.778472Z",
     "iopub.status.idle": "2025-03-21T06:13:37.855020Z",
     "shell.execute_reply": "2025-03-21T06:13:37.854357Z"
    },
    "id": "Ib9WZQqgGKBI",
    "outputId": "9762078d-ee64-425d-cb6f-72390f9b8e93",
    "papermill": {
     "duration": 2.103092,
     "end_time": "2025-03-21T06:13:37.856258",
     "exception": false,
     "start_time": "2025-03-21T06:13:35.753166",
     "status": "completed"
    },
    "tags": []
   },
   "outputs": [
    {
     "name": "stdout",
     "output_type": "stream",
     "text": [
      "Model: \"bi_lstmcrf\"\n",
      "_________________________________________________________________\n",
      " Layer (type)                Output Shape              Param #   \n",
      "=================================================================\n",
      " embedding (Embedding)       multiple                  3912000   \n",
      "                                                                 \n",
      " dropout (Dropout)           multiple                  0         \n",
      "                                                                 \n",
      " bidirectional (Bidirection  multiple                  336896    \n",
      " al)                                                             \n",
      "                                                                 \n",
      " time_distributed (TimeDist  multiple                  4369      \n",
      " ributed)                                                        \n",
      "                                                                 \n",
      " crf (CRF)                   multiple                  629       \n",
      "                                                                 \n",
      "=================================================================\n",
      "Total params: 4253894 (16.23 MB)\n",
      "Trainable params: 4253894 (16.23 MB)\n",
      "Non-trainable params: 0 (0.00 Byte)\n",
      "_________________________________________________________________\n"
     ]
    }
   ],
   "source": [
    "model = BiLSTMCRF(max_len=max_len, n_words=n_words, n_tags=n_tags)\n",
    "model.compile(optimizer='adam')\n",
    "\n",
    "# Build it with dummy input shape so we can see summary\n",
    "model.build(input_shape=(None, max_len))\n",
    "model.summary()\n"
   ]
  },
  {
   "cell_type": "markdown",
   "id": "ff6995f9",
   "metadata": {
    "id": "3YB6e6JbqtpF",
    "papermill": {
     "duration": 0.025674,
     "end_time": "2025-03-21T06:13:37.908688",
     "exception": false,
     "start_time": "2025-03-21T06:13:37.883014",
     "status": "completed"
    },
    "tags": []
   },
   "source": [
    "## Train and Test with 1st Model"
   ]
  },
  {
   "cell_type": "code",
   "execution_count": 35,
   "id": "abc4cbf1",
   "metadata": {
    "execution": {
     "iopub.execute_input": "2025-03-21T06:13:37.961295Z",
     "iopub.status.busy": "2025-03-21T06:13:37.961063Z",
     "iopub.status.idle": "2025-03-21T06:34:43.387444Z",
     "shell.execute_reply": "2025-03-21T06:34:43.386649Z"
    },
    "id": "XsVyzE1oS2vB",
    "outputId": "a17b0a86-4bcf-4a95-973c-b2ffd1d6d3cd",
    "papermill": {
     "duration": 1265.453891,
     "end_time": "2025-03-21T06:34:43.388837",
     "exception": false,
     "start_time": "2025-03-21T06:13:37.934946",
     "status": "completed"
    },
    "tags": []
   },
   "outputs": [
    {
     "name": "stdout",
     "output_type": "stream",
     "text": [
      "Epoch 1/20\n",
      "152/152 [==============================] - 84s 492ms/step - loss: 48.8580 - crf_accuracy: 0.8332 - val_loss: 39.5686 - val_crf_accuracy: 0.8276\n",
      "Epoch 2/20\n",
      "152/152 [==============================] - 68s 446ms/step - loss: 21.9929 - crf_accuracy: 0.9118 - val_loss: 18.3761 - val_crf_accuracy: 0.9295\n",
      "Epoch 3/20\n",
      "152/152 [==============================] - 64s 424ms/step - loss: 11.4578 - crf_accuracy: 0.9534 - val_loss: 10.7569 - val_crf_accuracy: 0.9540\n",
      "Epoch 4/20\n",
      "152/152 [==============================] - 63s 414ms/step - loss: 7.4705 - crf_accuracy: 0.9662 - val_loss: 8.1620 - val_crf_accuracy: 0.9636\n",
      "Epoch 5/20\n",
      "152/152 [==============================] - 63s 415ms/step - loss: 5.2779 - crf_accuracy: 0.9743 - val_loss: 6.8607 - val_crf_accuracy: 0.9717\n",
      "Epoch 6/20\n",
      "152/152 [==============================] - 61s 405ms/step - loss: 3.8985 - crf_accuracy: 0.9803 - val_loss: 6.0916 - val_crf_accuracy: 0.9729\n",
      "Epoch 7/20\n",
      "152/152 [==============================] - 62s 407ms/step - loss: 2.9101 - crf_accuracy: 0.9846 - val_loss: 5.3532 - val_crf_accuracy: 0.9762\n",
      "Epoch 8/20\n",
      "152/152 [==============================] - 62s 410ms/step - loss: 2.2562 - crf_accuracy: 0.9879 - val_loss: 5.0969 - val_crf_accuracy: 0.9793\n",
      "Epoch 9/20\n",
      "152/152 [==============================] - 62s 407ms/step - loss: 1.7927 - crf_accuracy: 0.9903 - val_loss: 4.5425 - val_crf_accuracy: 0.9819\n",
      "Epoch 10/20\n",
      "152/152 [==============================] - 62s 408ms/step - loss: 1.4553 - crf_accuracy: 0.9920 - val_loss: 4.7460 - val_crf_accuracy: 0.9810\n",
      "Epoch 11/20\n",
      "152/152 [==============================] - 62s 406ms/step - loss: 1.1784 - crf_accuracy: 0.9934 - val_loss: 4.2182 - val_crf_accuracy: 0.9840\n",
      "Epoch 12/20\n",
      "152/152 [==============================] - 61s 404ms/step - loss: 0.9711 - crf_accuracy: 0.9944 - val_loss: 4.2095 - val_crf_accuracy: 0.9845\n",
      "Epoch 13/20\n",
      "152/152 [==============================] - 62s 405ms/step - loss: 0.8563 - crf_accuracy: 0.9951 - val_loss: 4.5084 - val_crf_accuracy: 0.9838\n",
      "Epoch 14/20\n",
      "152/152 [==============================] - 61s 403ms/step - loss: 0.7164 - crf_accuracy: 0.9957 - val_loss: 4.2032 - val_crf_accuracy: 0.9845\n",
      "Epoch 15/20\n",
      "152/152 [==============================] - 61s 403ms/step - loss: 0.6032 - crf_accuracy: 0.9963 - val_loss: 3.7583 - val_crf_accuracy: 0.9852\n",
      "Epoch 16/20\n",
      "152/152 [==============================] - 61s 401ms/step - loss: 0.5275 - crf_accuracy: 0.9967 - val_loss: 4.1515 - val_crf_accuracy: 0.9867\n",
      "Epoch 17/20\n",
      "152/152 [==============================] - 61s 402ms/step - loss: 0.4674 - crf_accuracy: 0.9971 - val_loss: 4.1863 - val_crf_accuracy: 0.9843\n",
      "Epoch 18/20\n",
      "152/152 [==============================] - 61s 404ms/step - loss: 0.4004 - crf_accuracy: 0.9975 - val_loss: 4.0703 - val_crf_accuracy: 0.9855\n",
      "Epoch 19/20\n",
      "152/152 [==============================] - 62s 406ms/step - loss: 0.3600 - crf_accuracy: 0.9976 - val_loss: 4.7990 - val_crf_accuracy: 0.9840\n",
      "Epoch 20/20\n",
      "152/152 [==============================] - 61s 402ms/step - loss: 0.3191 - crf_accuracy: 0.9979 - val_loss: 3.9349 - val_crf_accuracy: 0.9850\n"
     ]
    }
   ],
   "source": [
    "history = model.fit(X_train, y_train, batch_size=64, epochs=20, validation_split=0.1, verbose=1)"
   ]
  },
  {
   "cell_type": "code",
   "execution_count": 36,
   "id": "a7f59f07",
   "metadata": {
    "execution": {
     "iopub.execute_input": "2025-03-21T06:34:43.768376Z",
     "iopub.status.busy": "2025-03-21T06:34:43.768026Z",
     "iopub.status.idle": "2025-03-21T06:34:47.886738Z",
     "shell.execute_reply": "2025-03-21T06:34:47.886005Z"
    },
    "id": "AgdSC1w9ULfG",
    "papermill": {
     "duration": 4.331632,
     "end_time": "2025-03-21T06:34:47.888243",
     "exception": false,
     "start_time": "2025-03-21T06:34:43.556611",
     "status": "completed"
    },
    "tags": []
   },
   "outputs": [],
   "source": [
    "hist = pd.DataFrame(history.history)\n",
    "# model.save(\"crf_model1.h5\")\n",
    "model.save(\"crf_model1.keras\")\n",
    "loaded_model = tf.keras.models.load_model(\"crf_model1.keras\", custom_objects={\"BiLSTMCRF\": BiLSTMCRF})"
   ]
  },
  {
   "cell_type": "code",
   "execution_count": 37,
   "id": "7c734d46",
   "metadata": {
    "execution": {
     "iopub.execute_input": "2025-03-21T06:34:48.222812Z",
     "iopub.status.busy": "2025-03-21T06:34:48.222484Z",
     "iopub.status.idle": "2025-03-21T06:34:48.474123Z",
     "shell.execute_reply": "2025-03-21T06:34:48.473284Z"
    },
    "id": "SpCbSS3NUqls",
    "outputId": "d94efe96-6440-41b9-aea8-520c9e019274",
    "papermill": {
     "duration": 0.422276,
     "end_time": "2025-03-21T06:34:48.475928",
     "exception": false,
     "start_time": "2025-03-21T06:34:48.053652",
     "status": "completed"
    },
    "tags": []
   },
   "outputs": [
    {
     "data": {
      "image/png": "[encoded data removed]",
      "text/plain": [
       "<Figure size 1500x900 with 1 Axes>"
      ]
     },
     "metadata": {},
     "output_type": "display_data"
    }
   ],
   "source": [
    "# Use \"ggplot\" style for better aesthetics\n",
    "plt.style.use(\"ggplot\")\n",
    "\n",
    "# Create the figure\n",
    "plt.figure(figsize=(15, 9))  # Adjust size for better visualization\n",
    "\n",
    "# Plot training and validation accuracy\n",
    "plt.plot(hist[\"crf_accuracy\"], label=\"Train Accuracy\", marker='o', linestyle='-', linewidth=2)\n",
    "plt.plot(hist[\"val_crf_accuracy\"], label=\"Validation Accuracy\", marker='s', linestyle='--', linewidth=2)\n",
    "\n",
    "# Add title and labels\n",
    "plt.title(\"CRF Viterbi Accuracy Over Epochs\", fontsize=14, fontweight=\"bold\")\n",
    "plt.xlabel(\"Epochs\", fontsize=12)\n",
    "plt.ylabel(\"Accuracy\", fontsize=12)\n",
    "\n",
    "# Add legend\n",
    "plt.legend(loc=\"lower right\", fontsize=12)\n",
    "\n",
    "# Add grid for better readability\n",
    "plt.grid(True, linestyle='--', linewidth=0.6, alpha=0.7)\n",
    "\n",
    "# Show the plot\n",
    "plt.show()\n"
   ]
  },
  {
   "cell_type": "code",
   "execution_count": 38,
   "id": "b80de5d6",
   "metadata": {
    "execution": {
     "iopub.execute_input": "2025-03-21T06:34:48.819845Z",
     "iopub.status.busy": "2025-03-21T06:34:48.819528Z",
     "iopub.status.idle": "2025-03-21T06:34:49.562922Z",
     "shell.execute_reply": "2025-03-21T06:34:49.562019Z"
    },
    "id": "WU3ttxjcULcW",
    "outputId": "6d335fe4-499e-4615-ad75-d7d17eaecd06",
    "papermill": {
     "duration": 0.919987,
     "end_time": "2025-03-21T06:34:49.564878",
     "exception": false,
     "start_time": "2025-03-21T06:34:48.644891",
     "status": "completed"
    },
    "tags": []
   },
   "outputs": [
    {
     "data": {
      "image/png": "[encoded data removed]",
      "text/plain": [
       "<Figure size 1500x1200 with 1 Axes>"
      ]
     },
     "metadata": {},
     "output_type": "display_data"
    }
   ],
   "source": [
    "# Use \"ggplot\" style for better aesthetics\n",
    "plt.style.use(\"ggplot\")\n",
    "\n",
    "# Create the figure\n",
    "plt.figure(figsize=(15, 12))  # Adjust size for better visualization\n",
    "\n",
    "# Plot training and validation loss\n",
    "plt.plot(hist[\"loss\"], label=\"Train Loss\", marker='o', linestyle='-', linewidth=2, color='red')\n",
    "plt.plot(hist[\"val_loss\"], label=\"Validation Loss\", marker='s', linestyle='--', linewidth=2, color='blue')\n",
    "\n",
    "# Add title and labels\n",
    "plt.title(\"Training and Validation Loss Over Epochs\", fontsize=14, fontweight=\"bold\")\n",
    "plt.xlabel(\"Epochs\", fontsize=12)\n",
    "plt.ylabel(\"Loss\", fontsize=12)\n",
    "\n",
    "# Add legend\n",
    "plt.legend(loc=\"upper right\", fontsize=12)\n",
    "\n",
    "# Add grid for better readability\n",
    "plt.grid(True, linestyle='--', linewidth=0.6, alpha=0.7)\n",
    "\n",
    "# Show the plot\n",
    "plt.show()\n"
   ]
  },
  {
   "cell_type": "code",
   "execution_count": 39,
   "id": "1e34ef4b",
   "metadata": {
    "execution": {
     "iopub.execute_input": "2025-03-21T06:34:49.905866Z",
     "iopub.status.busy": "2025-03-21T06:34:49.905481Z",
     "iopub.status.idle": "2025-03-21T06:34:50.841767Z",
     "shell.execute_reply": "2025-03-21T06:34:50.841028Z"
    },
    "id": "fqxnhBl5Vr9g",
    "outputId": "096237d2-baa6-4c93-9d29-3889d62cad85",
    "papermill": {
     "duration": 1.107851,
     "end_time": "2025-03-21T06:34:50.843105",
     "exception": false,
     "start_time": "2025-03-21T06:34:49.735254",
     "status": "completed"
    },
    "tags": []
   },
   "outputs": [
    {
     "name": "stdout",
     "output_type": "stream",
     "text": [
      "10/10 [==============================] - 1s 32ms/step\n"
     ]
    }
   ],
   "source": [
    "logits = model.predict(X_test)"
   ]
  },
  {
   "cell_type": "code",
   "execution_count": 40,
   "id": "edcae214",
   "metadata": {
    "execution": {
     "iopub.execute_input": "2025-03-21T06:34:51.224245Z",
     "iopub.status.busy": "2025-03-21T06:34:51.223940Z",
     "iopub.status.idle": "2025-03-21T06:34:51.716217Z",
     "shell.execute_reply": "2025-03-21T06:34:51.715525Z"
    },
    "id": "-ow-diR7Vrz_",
    "papermill": {
     "duration": 0.705502,
     "end_time": "2025-03-21T06:34:51.717768",
     "exception": false,
     "start_time": "2025-03-21T06:34:51.012266",
     "status": "completed"
    },
    "tags": []
   },
   "outputs": [],
   "source": [
    "viterbi_sequences = []\n",
    "for logit in logits:\n",
    "    viterbi_seq, _ = tfa.text.viterbi_decode(logit, model.transition_params.numpy())\n",
    "    viterbi_sequences.append(viterbi_seq)"
   ]
  },
  {
   "cell_type": "code",
   "execution_count": 41,
   "id": "aaf93e1d",
   "metadata": {
    "execution": {
     "iopub.execute_input": "2025-03-21T06:34:52.056040Z",
     "iopub.status.busy": "2025-03-21T06:34:52.055741Z",
     "iopub.status.idle": "2025-03-21T06:34:52.559708Z",
     "shell.execute_reply": "2025-03-21T06:34:52.558853Z"
    },
    "id": "e8etpZg-VvBO",
    "outputId": "d3596c75-34ef-4a99-d639-a4683f7415bc",
    "papermill": {
     "duration": 0.673745,
     "end_time": "2025-03-21T06:34:52.560968",
     "exception": false,
     "start_time": "2025-03-21T06:34:51.887223",
     "status": "completed"
    },
    "tags": []
   },
   "outputs": [
    {
     "name": "stdout",
     "output_type": "stream",
     "text": [
      "Accuracy-score: 98.0%\n",
      "Precision-score: 68.3%\n",
      "Recall-score: 60.8%\n",
      "F1-score: 64.3%\n",
      "              precision    recall  f1-score   support\n",
      "\n",
      "         eve       0.00      0.00      0.00         4\n",
      "         geo       0.77      0.63      0.70       250\n",
      "         gpe       0.83      0.81      0.82        93\n",
      "         nat       0.00      0.00      0.00         1\n",
      "         org       0.44      0.48      0.46       101\n",
      "         per       0.57      0.45      0.50       144\n",
      "         tim       0.78      0.73      0.76       113\n",
      "\n",
      "   micro avg       0.68      0.61      0.64       706\n",
      "   macro avg       0.49      0.44      0.46       706\n",
      "weighted avg       0.69      0.61      0.64       706\n",
      "\n"
     ]
    }
   ],
   "source": [
    "idx2tag = {i: w for w, i in tag2idx.items()}\n",
    "\n",
    "def pred2label(preds):\n",
    "    out = []\n",
    "    for pred in preds:\n",
    "        out.append([idx2tag[i] for i in pred])\n",
    "    return out\n",
    "\n",
    "def true2label(y_true):\n",
    "    out = []\n",
    "    for true_seq in y_true:\n",
    "        out.append([idx2tag[np.argmax(tag_vec)] for tag_vec in true_seq])\n",
    "    return out\n",
    "\n",
    "pred_labels = pred2label(viterbi_sequences)\n",
    "true_labels = true2label(y_test)\n",
    "\n",
    "print(\"Accuracy-score: {:.1%}\".format(accuracy_score(true_labels, pred_labels)))\n",
    "print(\"Precision-score: {:.1%}\".format(precision_score(true_labels, pred_labels)))\n",
    "print(\"Recall-score: {:.1%}\".format(recall_score(true_labels, pred_labels)))\n",
    "print(\"F1-score: {:.1%}\".format(f1_score(true_labels, pred_labels)))\n",
    "print(classification_report(true_labels, pred_labels))"
   ]
  },
  {
   "cell_type": "code",
   "execution_count": 42,
   "id": "76a78e58",
   "metadata": {
    "execution": {
     "iopub.execute_input": "2025-03-21T06:34:52.903160Z",
     "iopub.status.busy": "2025-03-21T06:34:52.902831Z",
     "iopub.status.idle": "2025-03-21T06:34:53.031951Z",
     "shell.execute_reply": "2025-03-21T06:34:53.031112Z"
    },
    "id": "_5alGCQSb-dF",
    "outputId": "67a90d39-f3a7-4ce1-d9a6-102655cf6067",
    "papermill": {
     "duration": 0.299431,
     "end_time": "2025-03-21T06:34:53.033111",
     "exception": false,
     "start_time": "2025-03-21T06:34:52.733680",
     "status": "completed"
    },
    "tags": []
   },
   "outputs": [
    {
     "name": "stdout",
     "output_type": "stream",
     "text": [
      "1/1 [==============================] - 0s 77ms/step\n",
      "Word           ||True ||Pred\n",
      "==============================\n",
      "Both           : O     O\n",
      "sides          : O     O\n",
      "hope           : O     O\n",
      "to             : O     O\n",
      "gain           : O     O\n",
      "an             : O     O\n",
      "edge           : O     O\n",
      "in             : O     O\n",
      "talks          : O     O\n",
      "on             : O     O\n",
      "a              : O     O\n",
      "new            : O     O\n",
      "government     : O     O\n",
      "after          : O     O\n",
      "the            : O     O\n",
      "inconclusive   : O     O\n",
      "September      : B-tim B-tim\n",
      "18             : I-tim I-tim\n",
      "balloting      : O     I-tim\n",
      "left           : O     O\n",
      "Ms.            : B-per B-per\n",
      "Merkel         : B-geo B-org\n",
      "'s             : O     O\n",
      "Christian      : B-geo I-org\n",
      "Democrats      : I-geo I-org\n",
      "just           : O     O\n",
      "three          : O     O\n",
      "seats          : O     O\n",
      "ahead          : O     O\n",
      "of             : O     O\n",
      "the            : O     O\n",
      "Chancellor     : B-per B-per\n",
      "'s             : O     O\n",
      "Social         : O     B-geo\n",
      "Democrats      : O     I-org\n",
      ".              : O     O\n",
      "ENDPAD         : O     O\n",
      "ENDPAD         : O     O\n",
      "ENDPAD         : O     O\n",
      "ENDPAD         : O     O\n",
      "ENDPAD         : O     O\n",
      "ENDPAD         : O     O\n",
      "ENDPAD         : O     O\n",
      "ENDPAD         : O     O\n",
      "ENDPAD         : O     O\n",
      "ENDPAD         : O     O\n",
      "ENDPAD         : O     O\n",
      "ENDPAD         : O     O\n",
      "ENDPAD         : O     O\n",
      "ENDPAD         : O     O\n",
      "ENDPAD         : O     O\n",
      "ENDPAD         : O     O\n",
      "ENDPAD         : O     O\n",
      "ENDPAD         : O     O\n",
      "ENDPAD         : O     O\n",
      "ENDPAD         : O     O\n",
      "ENDPAD         : O     O\n",
      "ENDPAD         : O     O\n",
      "ENDPAD         : O     O\n",
      "ENDPAD         : O     O\n",
      "ENDPAD         : O     O\n",
      "ENDPAD         : O     O\n",
      "ENDPAD         : O     O\n",
      "ENDPAD         : O     O\n",
      "ENDPAD         : O     O\n",
      "ENDPAD         : O     O\n",
      "ENDPAD         : O     O\n",
      "ENDPAD         : O     O\n",
      "ENDPAD         : O     O\n",
      "ENDPAD         : O     O\n",
      "ENDPAD         : O     O\n",
      "ENDPAD         : O     O\n",
      "ENDPAD         : O     O\n",
      "ENDPAD         : O     O\n",
      "ENDPAD         : O     O\n"
     ]
    }
   ],
   "source": [
    "i = 1\n",
    "p = model.predict(np.array([X_test[i]]))\n",
    "p = np.argmax(p, axis=-1)\n",
    "true = np.argmax(y_test[i], -1)\n",
    "print(\"{:15}||{:5}||{}\".format(\"Word\", \"True\", \"Pred\"))\n",
    "print(30 * \"=\")\n",
    "for w, t, pred in zip(X_test[i], true, p[0]):\n",
    "    if w != 0:\n",
    "        print(\"{:15}: {:5} {}\".format(words[w-1], tags[t], tags[pred]))"
   ]
  },
  {
   "cell_type": "code",
   "execution_count": 43,
   "id": "758754a8",
   "metadata": {
    "execution": {
     "iopub.execute_input": "2025-03-21T06:34:53.392673Z",
     "iopub.status.busy": "2025-03-21T06:34:53.392194Z",
     "iopub.status.idle": "2025-03-21T06:34:53.398448Z",
     "shell.execute_reply": "2025-03-21T06:34:53.397497Z"
    },
    "id": "W7qf_8dYbavD",
    "papermill": {
     "duration": 0.189054,
     "end_time": "2025-03-21T06:34:53.399785",
     "exception": false,
     "start_time": "2025-03-21T06:34:53.210731",
     "status": "completed"
    },
    "tags": []
   },
   "outputs": [],
   "source": [
    "re_tok = re.compile(f'([{string.punctuation}“”¨«»®´·º½¾¿¡§£₤‘’])')\n",
    "\n",
    "def tokenize(s):\n",
    "    return re_tok.sub(r' \\1 ', s).split()"
   ]
  },
  {
   "cell_type": "code",
   "execution_count": 44,
   "id": "f65a72f8",
   "metadata": {
    "execution": {
     "iopub.execute_input": "2025-03-21T06:34:53.775087Z",
     "iopub.status.busy": "2025-03-21T06:34:53.774717Z",
     "iopub.status.idle": "2025-03-21T06:34:53.779808Z",
     "shell.execute_reply": "2025-03-21T06:34:53.778788Z"
    },
    "id": "YeicWOVabdd9",
    "papermill": {
     "duration": 0.189598,
     "end_time": "2025-03-21T06:34:53.781676",
     "exception": false,
     "start_time": "2025-03-21T06:34:53.592078",
     "status": "completed"
    },
    "tags": []
   },
   "outputs": [],
   "source": [
    "# test_sentence=\"On 18/04/2004, Barack Obama said that he loved his country which is Vietnam very much. You know, Apple is such an amazing tech company.\"\n",
    "test_sentence = \"On January 1st, 2023, Elon Musk announced that Tesla would open a new factory in Jakarta, Indonesia, partnering with Samsung and MIT.\"\n",
    "x_test_sent = pad_sequences(sequences=[[word2idx.get(w, 0) for w in tokenize(test_sentence)]],\n",
    "                            padding=\"post\", value=0, maxlen=max_len)"
   ]
  },
  {
   "cell_type": "code",
   "execution_count": 45,
   "id": "259fde74",
   "metadata": {
    "execution": {
     "iopub.execute_input": "2025-03-21T06:34:54.169258Z",
     "iopub.status.busy": "2025-03-21T06:34:54.168931Z",
     "iopub.status.idle": "2025-03-21T06:34:54.272020Z",
     "shell.execute_reply": "2025-03-21T06:34:54.271114Z"
    },
    "id": "ZqMEKvQOVu6T",
    "outputId": "816e55a8-0903-4c40-f676-8f157bbc7373",
    "papermill": {
     "duration": 0.273895,
     "end_time": "2025-03-21T06:34:54.273519",
     "exception": false,
     "start_time": "2025-03-21T06:34:53.999624",
     "status": "completed"
    },
    "tags": []
   },
   "outputs": [
    {
     "name": "stdout",
     "output_type": "stream",
     "text": [
      "1/1 [==============================] - 0s 54ms/step\n",
      "Word           ||Prediction\n",
      "==============================\n",
      "On             : O    \n",
      "January        : B-tim\n",
      "1st            : O    \n",
      ",              : O    \n",
      "2023           : O    \n",
      ",              : O    \n",
      "Elon           : O    \n",
      "Musk           : O    \n",
      "announced      : O    \n",
      "that           : O    \n",
      "Tesla          : O    \n",
      "would          : O    \n",
      "open           : O    \n",
      "a              : O    \n",
      "new            : O    \n",
      "factory        : O    \n",
      "in             : O    \n",
      "Jakarta        : B-geo\n",
      ",              : O    \n",
      "Indonesia      : B-geo\n",
      ",              : O    \n",
      "partnering     : O    \n",
      "with           : O    \n",
      "Samsung        : O    \n",
      "and            : O    \n",
      "MIT            : O    \n",
      ".              : O    \n"
     ]
    }
   ],
   "source": [
    "p = model.predict(np.array([x_test_sent[0]]))\n",
    "p = np.argmax(p, axis=-1)\n",
    "print(\"{:15}||{}\".format(\"Word\", \"Prediction\"))\n",
    "print(30 * \"=\")\n",
    "for w, pred in zip(tokenize(test_sentence), p[0]):\n",
    "    print(\"{:15}: {:5}\".format(w, tags[pred]))"
   ]
  },
  {
   "cell_type": "code",
   "execution_count": null,
   "id": "ba47976e",
   "metadata": {
    "id": "cf8XigG-dAsh",
    "papermill": {
     "duration": 0.166972,
     "end_time": "2025-03-21T06:34:54.619095",
     "exception": false,
     "start_time": "2025-03-21T06:34:54.452123",
     "status": "completed"
    },
    "tags": []
   },
   "outputs": [],
   "source": []
  },
  {
   "cell_type": "code",
   "execution_count": null,
   "id": "68ebb922",
   "metadata": {
    "id": "QoyTXBViVuqL",
    "papermill": {
     "duration": 0.166649,
     "end_time": "2025-03-21T06:34:54.954069",
     "exception": false,
     "start_time": "2025-03-21T06:34:54.787420",
     "status": "completed"
    },
    "tags": []
   },
   "outputs": [],
   "source": []
  },
  {
   "cell_type": "markdown",
   "id": "011695c4",
   "metadata": {
    "id": "q8PzCgWXryc7",
    "papermill": {
     "duration": 0.16863,
     "end_time": "2025-03-21T06:34:55.290926",
     "exception": false,
     "start_time": "2025-03-21T06:34:55.122296",
     "status": "completed"
    },
    "tags": []
   },
   "source": [
    "# Defining BiLSTM-CRF Model: more advanced\n",
    "\n",
    "This model gets the performance on the test set like this:\n",
    "\n",
    "```\n",
    "Accuracy-score: 98.1%\n",
    "Precision-score: 69.8%\n",
    "Recall-score: 61.3%\n",
    "F1-score: 65.3%\n",
    "              precision    recall  f1-score   support\n",
    "\n",
    "         art       0.00      0.00      0.00         0\n",
    "         eve       0.00      0.00      0.00         4\n",
    "         geo       0.80      0.64      0.71       250\n",
    "         gpe       0.86      0.81      0.83        93\n",
    "         nat       0.00      0.00      0.00         1\n",
    "         org       0.44      0.47      0.45       101\n",
    "         per       0.63      0.47      0.54       144\n",
    "         tim       0.75      0.75      0.75       113\n",
    "\n",
    "   micro avg       0.70      0.61      0.65       706\n",
    "   macro avg       0.44      0.39      0.41       706\n",
    "weighted avg       0.71      0.61      0.66       706\n",
    "```\n"
   ]
  },
  {
   "cell_type": "markdown",
   "id": "af468526",
   "metadata": {
    "id": "QOwenMASGKBS",
    "papermill": {
     "duration": 0.166529,
     "end_time": "2025-03-21T06:34:55.666277",
     "exception": false,
     "start_time": "2025-03-21T06:34:55.499748",
     "status": "completed"
    },
    "tags": []
   },
   "source": [
    "## Setup the BiLSTM-CRF 2: little bit better\n",
    "\n"
   ]
  },
  {
   "cell_type": "code",
   "execution_count": 46,
   "id": "e3420a6b",
   "metadata": {
    "execution": {
     "iopub.execute_input": "2025-03-21T06:34:56.004200Z",
     "iopub.status.busy": "2025-03-21T06:34:56.003909Z",
     "iopub.status.idle": "2025-03-21T06:34:56.013369Z",
     "shell.execute_reply": "2025-03-21T06:34:56.012717Z"
    },
    "id": "zVkQ_0uzdNb6",
    "papermill": {
     "duration": 0.180112,
     "end_time": "2025-03-21T06:34:56.014671",
     "exception": false,
     "start_time": "2025-03-21T06:34:55.834559",
     "status": "completed"
    },
    "tags": []
   },
   "outputs": [],
   "source": [
    "class BiLSTMCRF_Advanced(tf.keras.Model):\n",
    "    def __init__(self, max_len, n_words, n_tags,\n",
    "                 embedding_dim=200,\n",
    "                 lstm_units=128,\n",
    "                 dropout_rate=0.4,\n",
    "                 recurrent_dropout=0.25,\n",
    "                 l2_reg=0.01):\n",
    "        super(BiLSTMCRF_Advanced, self).__init__()\n",
    "\n",
    "        self.embedding = Embedding(input_dim=n_words + 1, output_dim=embedding_dim, input_length=max_len)\n",
    "        self.dropout = Dropout(dropout_rate)\n",
    "\n",
    "        self.bilstm = Bidirectional(LSTM(\n",
    "            units=lstm_units,\n",
    "            return_sequences=True,\n",
    "            recurrent_dropout=recurrent_dropout,\n",
    "            kernel_regularizer=l2(l2_reg),\n",
    "            recurrent_regularizer=l2(l2_reg)\n",
    "        ))\n",
    "\n",
    "        # this good with\n",
    "        # Accuracy-score: 98.1%\n",
    "        # Precision-score: 67.3%\n",
    "        # Recall-score: 61.6%\n",
    "        # F1-score: 64.3%\n",
    "        # self.dense = TimeDistributed(Dense(n_tags, activation=\"relu\"))\n",
    "\n",
    "        # now test for no relu - this seems to be better with no relu as activation\n",
    "        self.dense = TimeDistributed(Dense(n_tags))\n",
    "        self.crf = CRF(n_tags)\n",
    "\n",
    "    def call(self, inputs, training=False):\n",
    "        x = self.embedding(inputs)\n",
    "        x = self.dropout(x, training=training)\n",
    "        x = self.bilstm(x)\n",
    "        logits = self.dense(x)\n",
    "        self.decode_tags, self.potentials, self.sequence_lengths, self.transition_params = self.crf(logits)\n",
    "        return self.potentials\n",
    "\n",
    "    def train_step(self, data):\n",
    "        x, y = data\n",
    "        with tf.GradientTape() as tape:\n",
    "            potentials = self(x, training=True)\n",
    "            log_likelihood, _ = tfa.text.crf_log_likelihood(\n",
    "                potentials,\n",
    "                tag_indices=tf.argmax(y, axis=-1),\n",
    "                sequence_lengths=self.sequence_lengths,\n",
    "                transition_params=self.transition_params\n",
    "            )\n",
    "            loss = -tf.reduce_mean(log_likelihood)\n",
    "\n",
    "        gradients = tape.gradient(loss, self.trainable_variables)\n",
    "        self.optimizer.apply_gradients(zip(gradients, self.trainable_variables))\n",
    "\n",
    "        y_pred = tf.argmax(potentials, axis=-1)\n",
    "        y_true = tf.argmax(y, axis=-1)\n",
    "        acc = tf.reduce_mean(tf.cast(tf.equal(y_true, y_pred), tf.float32))\n",
    "\n",
    "        return {\"loss\": loss, \"crf_accuracy\": acc}\n",
    "\n",
    "    def test_step(self, data):\n",
    "        x, y = data\n",
    "        potentials = self(x, training=False)\n",
    "        log_likelihood, _ = tfa.text.crf_log_likelihood(\n",
    "            potentials,\n",
    "            tag_indices=tf.argmax(y, axis=-1),\n",
    "            sequence_lengths=self.sequence_lengths,\n",
    "            transition_params=self.transition_params\n",
    "        )\n",
    "        loss = -tf.reduce_mean(log_likelihood)\n",
    "\n",
    "        y_pred = tf.argmax(potentials, axis=-1)\n",
    "        y_true = tf.argmax(y, axis=-1)\n",
    "        acc = tf.reduce_mean(tf.cast(tf.equal(y_true, y_pred), tf.float32))\n",
    "\n",
    "        return {\"loss\": loss, \"crf_accuracy\": acc}\n",
    "\n"
   ]
  },
  {
   "cell_type": "code",
   "execution_count": 47,
   "id": "1dd0cc82",
   "metadata": {
    "execution": {
     "iopub.execute_input": "2025-03-21T06:34:56.356141Z",
     "iopub.status.busy": "2025-03-21T06:34:56.355845Z",
     "iopub.status.idle": "2025-03-21T06:34:56.758625Z",
     "shell.execute_reply": "2025-03-21T06:34:56.757782Z"
    },
    "id": "H_UXPgAxdNZI",
    "outputId": "7dbd088a-ce22-40ea-bdb9-adcc412c6d0b",
    "papermill": {
     "duration": 0.575516,
     "end_time": "2025-03-21T06:34:56.759890",
     "exception": false,
     "start_time": "2025-03-21T06:34:56.184374",
     "status": "completed"
    },
    "tags": []
   },
   "outputs": [
    {
     "name": "stdout",
     "output_type": "stream",
     "text": [
      "Model: \"bi_lstmcrf__advanced\"\n",
      "_________________________________________________________________\n",
      " Layer (type)                Output Shape              Param #   \n",
      "=================================================================\n",
      " embedding_2 (Embedding)     multiple                  3912000   \n",
      "                                                                 \n",
      " dropout_2 (Dropout)         multiple                  0         \n",
      "                                                                 \n",
      " bidirectional_2 (Bidirecti  multiple                  336896    \n",
      " onal)                                                           \n",
      "                                                                 \n",
      " time_distributed_2 (TimeDi  multiple                  4369      \n",
      " stributed)                                                      \n",
      "                                                                 \n",
      " crf_2 (CRF)                 multiple                  629       \n",
      "                                                                 \n",
      "=================================================================\n",
      "Total params: 4253894 (16.23 MB)\n",
      "Trainable params: 4253894 (16.23 MB)\n",
      "Non-trainable params: 0 (0.00 Byte)\n",
      "_________________________________________________________________\n"
     ]
    }
   ],
   "source": [
    "optimizer = tf.keras.optimizers.legacy.Adam(\n",
    "    learning_rate=0.0025, beta_1=0.9, beta_2=0.999, decay=1e-4, clipnorm=1.0\n",
    ")\n",
    "\n",
    "model = BiLSTMCRF_Advanced(max_len=max_len, n_words=n_words, n_tags=n_tags)\n",
    "model.compile(optimizer=optimizer)\n",
    "model.build(input_shape=(None, max_len))  # For model.summary()\n",
    "model.summary()"
   ]
  },
  {
   "cell_type": "markdown",
   "id": "3f3c682e",
   "metadata": {
    "id": "NLJQV2NsrIPv",
    "papermill": {
     "duration": 0.2103,
     "end_time": "2025-03-21T06:34:57.141593",
     "exception": false,
     "start_time": "2025-03-21T06:34:56.931293",
     "status": "completed"
    },
    "tags": []
   },
   "source": [
    "## Train and Test with 2nd Model"
   ]
  },
  {
   "cell_type": "code",
   "execution_count": 48,
   "id": "eae8c4f5",
   "metadata": {
    "execution": {
     "iopub.execute_input": "2025-03-21T06:34:57.492639Z",
     "iopub.status.busy": "2025-03-21T06:34:57.492211Z",
     "iopub.status.idle": "2025-03-21T06:34:57.497283Z",
     "shell.execute_reply": "2025-03-21T06:34:57.496303Z"
    },
    "id": "K-aoucjsdNWA",
    "papermill": {
     "duration": 0.185534,
     "end_time": "2025-03-21T06:34:57.498621",
     "exception": false,
     "start_time": "2025-03-21T06:34:57.313087",
     "status": "completed"
    },
    "tags": []
   },
   "outputs": [],
   "source": [
    "lr_scheduler = tf.keras.callbacks.ReduceLROnPlateau(\n",
    "    monitor=\"val_crf_accuracy\",  # from test_step\n",
    "    factor=0.5,\n",
    "    patience=3,\n",
    "    min_lr=1e-6,\n",
    "    verbose=1\n",
    ")"
   ]
  },
  {
   "cell_type": "code",
   "execution_count": 49,
   "id": "6a4040c8",
   "metadata": {
    "execution": {
     "iopub.execute_input": "2025-03-21T06:34:57.855538Z",
     "iopub.status.busy": "2025-03-21T06:34:57.855211Z",
     "iopub.status.idle": "2025-03-21T06:55:26.814877Z",
     "shell.execute_reply": "2025-03-21T06:55:26.814119Z"
    },
    "id": "jNZ8nrmgdNRW",
    "outputId": "d59457ef-d2be-4fe7-a0f3-c29e08157a93",
    "papermill": {
     "duration": 1229.131373,
     "end_time": "2025-03-21T06:55:26.816265",
     "exception": false,
     "start_time": "2025-03-21T06:34:57.684892",
     "status": "completed"
    },
    "tags": []
   },
   "outputs": [
    {
     "name": "stdout",
     "output_type": "stream",
     "text": [
      "Epoch 1/20\n",
      "152/152 [==============================] - 69s 407ms/step - loss: 33.9684 - crf_accuracy: 0.8815 - val_loss: 13.2419 - val_crf_accuracy: 0.9488 - lr: 0.0025\n",
      "Epoch 2/20\n",
      "152/152 [==============================] - 61s 402ms/step - loss: 8.1056 - crf_accuracy: 0.9621 - val_loss: 8.2538 - val_crf_accuracy: 0.9612 - lr: 0.0025\n",
      "Epoch 3/20\n",
      "152/152 [==============================] - 61s 403ms/step - loss: 4.1352 - crf_accuracy: 0.9782 - val_loss: 6.3590 - val_crf_accuracy: 0.9705 - lr: 0.0025\n",
      "Epoch 4/20\n",
      "152/152 [==============================] - 61s 401ms/step - loss: 2.3946 - crf_accuracy: 0.9866 - val_loss: 4.4838 - val_crf_accuracy: 0.9817 - lr: 0.0025\n",
      "Epoch 5/20\n",
      "152/152 [==============================] - 61s 402ms/step - loss: 1.6188 - crf_accuracy: 0.9903 - val_loss: 3.9082 - val_crf_accuracy: 0.9836 - lr: 0.0025\n",
      "Epoch 6/20\n",
      "152/152 [==============================] - 61s 401ms/step - loss: 1.1576 - crf_accuracy: 0.9930 - val_loss: 3.6705 - val_crf_accuracy: 0.9848 - lr: 0.0025\n",
      "Epoch 7/20\n",
      "152/152 [==============================] - 61s 402ms/step - loss: 0.8247 - crf_accuracy: 0.9949 - val_loss: 3.6801 - val_crf_accuracy: 0.9848 - lr: 0.0025\n",
      "Epoch 8/20\n",
      "152/152 [==============================] - 61s 402ms/step - loss: 0.6209 - crf_accuracy: 0.9960 - val_loss: 3.3816 - val_crf_accuracy: 0.9857 - lr: 0.0025\n",
      "Epoch 9/20\n",
      "152/152 [==============================] - 61s 401ms/step - loss: 0.4734 - crf_accuracy: 0.9969 - val_loss: 3.7364 - val_crf_accuracy: 0.9874 - lr: 0.0025\n",
      "Epoch 10/20\n",
      "152/152 [==============================] - 61s 401ms/step - loss: 0.3874 - crf_accuracy: 0.9973 - val_loss: 3.8372 - val_crf_accuracy: 0.9850 - lr: 0.0025\n",
      "Epoch 11/20\n",
      "152/152 [==============================] - 61s 401ms/step - loss: 0.2893 - crf_accuracy: 0.9979 - val_loss: 3.7429 - val_crf_accuracy: 0.9855 - lr: 0.0025\n",
      "Epoch 12/20\n",
      "152/152 [==============================] - ETA: 0s - loss: 0.2443 - crf_accuracy: 0.9982\n",
      "Epoch 12: ReduceLROnPlateau reducing learning rate to 0.0012499999720603228.\n",
      "152/152 [==============================] - 61s 403ms/step - loss: 0.2450 - crf_accuracy: 0.9982 - val_loss: 4.0916 - val_crf_accuracy: 0.9869 - lr: 0.0025\n",
      "Epoch 13/20\n",
      "152/152 [==============================] - 61s 401ms/step - loss: 0.1566 - crf_accuracy: 0.9989 - val_loss: 4.1607 - val_crf_accuracy: 0.9852 - lr: 0.0012\n",
      "Epoch 14/20\n",
      "152/152 [==============================] - 61s 400ms/step - loss: 0.0931 - crf_accuracy: 0.9993 - val_loss: 4.2846 - val_crf_accuracy: 0.9867 - lr: 0.0012\n",
      "Epoch 15/20\n",
      "152/152 [==============================] - ETA: 0s - loss: 0.0719 - crf_accuracy: 0.9994\n",
      "Epoch 15: ReduceLROnPlateau reducing learning rate to 0.0006249999860301614.\n",
      "152/152 [==============================] - 61s 401ms/step - loss: 0.0721 - crf_accuracy: 0.9994 - val_loss: 4.4054 - val_crf_accuracy: 0.9867 - lr: 0.0012\n",
      "Epoch 16/20\n",
      "152/152 [==============================] - 61s 401ms/step - loss: 0.0557 - crf_accuracy: 0.9996 - val_loss: 4.1204 - val_crf_accuracy: 0.9871 - lr: 6.2500e-04\n",
      "Epoch 17/20\n",
      "152/152 [==============================] - 61s 402ms/step - loss: 0.0455 - crf_accuracy: 0.9997 - val_loss: 4.1190 - val_crf_accuracy: 0.9881 - lr: 6.2500e-04\n",
      "Epoch 18/20\n",
      "152/152 [==============================] - 61s 400ms/step - loss: 0.0450 - crf_accuracy: 0.9997 - val_loss: 4.1560 - val_crf_accuracy: 0.9881 - lr: 6.2500e-04\n",
      "Epoch 19/20\n",
      "152/152 [==============================] - 61s 400ms/step - loss: 0.0372 - crf_accuracy: 0.9997 - val_loss: 4.1643 - val_crf_accuracy: 0.9890 - lr: 6.2500e-04\n",
      "Epoch 20/20\n",
      "152/152 [==============================] - 62s 408ms/step - loss: 0.0350 - crf_accuracy: 0.9997 - val_loss: 4.1468 - val_crf_accuracy: 0.9888 - lr: 6.2500e-04\n"
     ]
    }
   ],
   "source": [
    "history = model.fit(\n",
    "    X_train, y_train,\n",
    "    batch_size=64,\n",
    "    epochs=20,\n",
    "    validation_split=0.1,\n",
    "    verbose=1,\n",
    "    callbacks=[lr_scheduler]\n",
    ")"
   ]
  },
  {
   "cell_type": "code",
   "execution_count": 50,
   "id": "16943da0",
   "metadata": {
    "execution": {
     "iopub.execute_input": "2025-03-21T06:55:27.456733Z",
     "iopub.status.busy": "2025-03-21T06:55:27.456199Z",
     "iopub.status.idle": "2025-03-21T06:55:28.916636Z",
     "shell.execute_reply": "2025-03-21T06:55:28.915941Z"
    },
    "id": "Sl77yJ4ZegAD",
    "papermill": {
     "duration": 1.78507,
     "end_time": "2025-03-21T06:55:28.918078",
     "exception": false,
     "start_time": "2025-03-21T06:55:27.133008",
     "status": "completed"
    },
    "tags": []
   },
   "outputs": [],
   "source": [
    "hist = pd.DataFrame(history.history)\n",
    "# model.save(\"crf_model1.h5\")\n",
    "model.save(\"crf_model2.keras\")\n",
    "loaded_model = tf.keras.models.load_model(\"crf_model2.keras\", custom_objects={\"BiLSTMCRF_Advanced\": BiLSTMCRF_Advanced})"
   ]
  },
  {
   "cell_type": "code",
   "execution_count": 51,
   "id": "b6f793da",
   "metadata": {
    "execution": {
     "iopub.execute_input": "2025-03-21T06:55:29.594577Z",
     "iopub.status.busy": "2025-03-21T06:55:29.594229Z",
     "iopub.status.idle": "2025-03-21T06:55:29.839166Z",
     "shell.execute_reply": "2025-03-21T06:55:29.838266Z"
    },
    "id": "_pjWfbLFfB0d",
    "outputId": "a769fe69-1a34-4c84-888b-9683471881c3",
    "papermill": {
     "duration": 0.609876,
     "end_time": "2025-03-21T06:55:29.840465",
     "exception": false,
     "start_time": "2025-03-21T06:55:29.230589",
     "status": "completed"
    },
    "tags": []
   },
   "outputs": [
    {
     "data": {
      "image/png": "[encoded data removed]",
      "text/plain": [
       "<Figure size 1500x900 with 1 Axes>"
      ]
     },
     "metadata": {},
     "output_type": "display_data"
    }
   ],
   "source": [
    "# Use \"ggplot\" style for better aesthetics\n",
    "plt.style.use(\"ggplot\")\n",
    "\n",
    "# Create the figure\n",
    "plt.figure(figsize=(15, 9))  # Adjust size for better visualization\n",
    "\n",
    "# Plot training and validation accuracy\n",
    "plt.plot(hist[\"crf_accuracy\"], label=\"Train Accuracy\", marker='o', linestyle='-', linewidth=2)\n",
    "plt.plot(hist[\"val_crf_accuracy\"], label=\"Validation Accuracy\", marker='s', linestyle='--', linewidth=2)\n",
    "\n",
    "# Add title and labels\n",
    "plt.title(\"CRF Viterbi Accuracy Over Epochs\", fontsize=14, fontweight=\"bold\")\n",
    "plt.xlabel(\"Epochs\", fontsize=12)\n",
    "plt.ylabel(\"Accuracy\", fontsize=12)\n",
    "\n",
    "# Add legend\n",
    "plt.legend(loc=\"lower right\", fontsize=12)\n",
    "\n",
    "# Add grid for better readability\n",
    "plt.grid(True, linestyle='--', linewidth=0.6, alpha=0.7)\n",
    "\n",
    "# Show the plot\n",
    "plt.show()"
   ]
  },
  {
   "cell_type": "code",
   "execution_count": 52,
   "id": "cab07455",
   "metadata": {
    "execution": {
     "iopub.execute_input": "2025-03-21T06:55:30.474935Z",
     "iopub.status.busy": "2025-03-21T06:55:30.474429Z",
     "iopub.status.idle": "2025-03-21T06:55:30.739632Z",
     "shell.execute_reply": "2025-03-21T06:55:30.738746Z"
    },
    "id": "kXYh-qimfDgX",
    "outputId": "4aa3e01a-1d48-40c2-fc5b-5bf71268f15d",
    "papermill": {
     "duration": 0.582279,
     "end_time": "2025-03-21T06:55:30.741448",
     "exception": false,
     "start_time": "2025-03-21T06:55:30.159169",
     "status": "completed"
    },
    "tags": []
   },
   "outputs": [
    {
     "data": {
      "image/png": "[encoded data removed]",
      "text/plain": [
       "<Figure size 1500x1200 with 1 Axes>"
      ]
     },
     "metadata": {},
     "output_type": "display_data"
    }
   ],
   "source": [
    "# Use \"ggplot\" style for better aesthetics\n",
    "plt.style.use(\"ggplot\")\n",
    "\n",
    "# Create the figure\n",
    "plt.figure(figsize=(15, 12))  # Adjust size for better visualization\n",
    "\n",
    "# Plot training and validation loss\n",
    "plt.plot(hist[\"loss\"], label=\"Train Loss\", marker='o', linestyle='-', linewidth=2, color='red')\n",
    "plt.plot(hist[\"val_loss\"], label=\"Validation Loss\", marker='s', linestyle='--', linewidth=2, color='blue')\n",
    "\n",
    "# Add title and labels\n",
    "plt.title(\"Training and Validation Loss Over Epochs\", fontsize=14, fontweight=\"bold\")\n",
    "plt.xlabel(\"Epochs\", fontsize=12)\n",
    "plt.ylabel(\"Loss\", fontsize=12)\n",
    "\n",
    "# Add legend\n",
    "plt.legend(loc=\"upper right\", fontsize=12)\n",
    "\n",
    "# Add grid for better readability\n",
    "plt.grid(True, linestyle='--', linewidth=0.6, alpha=0.7)\n",
    "\n",
    "# Show the plot\n",
    "plt.show()"
   ]
  },
  {
   "cell_type": "code",
   "execution_count": 53,
   "id": "5f74dbc1",
   "metadata": {
    "execution": {
     "iopub.execute_input": "2025-03-21T06:55:31.412292Z",
     "iopub.status.busy": "2025-03-21T06:55:31.411957Z",
     "iopub.status.idle": "2025-03-21T06:55:32.312306Z",
     "shell.execute_reply": "2025-03-21T06:55:32.311404Z"
    },
    "id": "ODIj88KMhUVj",
    "outputId": "86a76c4d-2830-4b54-ade0-0ea84ef77755",
    "papermill": {
     "duration": 1.258195,
     "end_time": "2025-03-21T06:55:32.313692",
     "exception": false,
     "start_time": "2025-03-21T06:55:31.055497",
     "status": "completed"
    },
    "tags": []
   },
   "outputs": [
    {
     "name": "stdout",
     "output_type": "stream",
     "text": [
      "10/10 [==============================] - 1s 32ms/step\n"
     ]
    }
   ],
   "source": [
    "model = loaded_model\n",
    "logits = model.predict(X_test)"
   ]
  },
  {
   "cell_type": "code",
   "execution_count": 54,
   "id": "610645bb",
   "metadata": {
    "execution": {
     "iopub.execute_input": "2025-03-21T06:55:32.949746Z",
     "iopub.status.busy": "2025-03-21T06:55:32.949403Z",
     "iopub.status.idle": "2025-03-21T06:55:33.964548Z",
     "shell.execute_reply": "2025-03-21T06:55:33.963563Z"
    },
    "id": "1NijR8Uqef0k",
    "outputId": "ebe80b3a-c436-4505-8d45-56b56eb4e663",
    "papermill": {
     "duration": 1.333119,
     "end_time": "2025-03-21T06:55:33.965803",
     "exception": false,
     "start_time": "2025-03-21T06:55:32.632684",
     "status": "completed"
    },
    "tags": []
   },
   "outputs": [
    {
     "name": "stdout",
     "output_type": "stream",
     "text": [
      "Accuracy-score: 98.0%\n",
      "Precision-score: 68.4%\n",
      "Recall-score: 58.4%\n",
      "F1-score: 63.0%\n",
      "              precision    recall  f1-score   support\n",
      "\n",
      "         art       0.00      0.00      0.00         0\n",
      "         eve       0.00      0.00      0.00         4\n",
      "         geo       0.79      0.58      0.67       250\n",
      "         gpe       0.72      0.83      0.77        93\n",
      "         nat       0.00      0.00      0.00         1\n",
      "         org       0.49      0.45      0.47       101\n",
      "         per       0.61      0.44      0.51       144\n",
      "         tim       0.74      0.72      0.73       113\n",
      "\n",
      "   micro avg       0.68      0.58      0.63       706\n",
      "   macro avg       0.42      0.38      0.39       706\n",
      "weighted avg       0.69      0.58      0.63       706\n",
      "\n"
     ]
    },
    {
     "name": "stderr",
     "output_type": "stream",
     "text": [
      "/usr/local/lib/python3.10/dist-packages/seqeval/metrics/v1.py:57: UndefinedMetricWarning: Recall and F-score are ill-defined and being set to 0.0 in labels with no true samples. Use `zero_division` parameter to control this behavior.\n",
      "  _warn_prf(average, modifier, msg_start, len(result))\n"
     ]
    }
   ],
   "source": [
    "viterbi_sequences = []\n",
    "for logit in logits:\n",
    "    viterbi_seq, _ = tfa.text.viterbi_decode(logit, model.transition_params.numpy())\n",
    "    viterbi_sequences.append(viterbi_seq)\n",
    "\n",
    "pred_labels = pred2label(viterbi_sequences)\n",
    "true_labels = true2label(y_test)\n",
    "\n",
    "print(\"Accuracy-score: {:.1%}\".format(accuracy_score(true_labels, pred_labels)))\n",
    "print(\"Precision-score: {:.1%}\".format(precision_score(true_labels, pred_labels)))\n",
    "print(\"Recall-score: {:.1%}\".format(recall_score(true_labels, pred_labels)))\n",
    "print(\"F1-score: {:.1%}\".format(f1_score(true_labels, pred_labels)))\n",
    "print(classification_report(true_labels, pred_labels))\n"
   ]
  },
  {
   "cell_type": "code",
   "execution_count": 55,
   "id": "08d7b792",
   "metadata": {
    "execution": {
     "iopub.execute_input": "2025-03-21T06:55:34.688813Z",
     "iopub.status.busy": "2025-03-21T06:55:34.688463Z",
     "iopub.status.idle": "2025-03-21T06:55:34.797040Z",
     "shell.execute_reply": "2025-03-21T06:55:34.796376Z"
    },
    "id": "ZLTw7m-Mefsv",
    "outputId": "9ef6cde2-1024-4d84-9c72-44605f320c3b",
    "papermill": {
     "duration": 0.455433,
     "end_time": "2025-03-21T06:55:34.798267",
     "exception": false,
     "start_time": "2025-03-21T06:55:34.342834",
     "status": "completed"
    },
    "tags": []
   },
   "outputs": [
    {
     "name": "stdout",
     "output_type": "stream",
     "text": [
      "1/1 [==============================] - 0s 52ms/step\n",
      "Word           ||True ||Pred\n",
      "==============================\n",
      "German         : B-gpe B-gpe\n",
      "Chancellor     : B-per B-per\n",
      "Gerhard        : I-per I-per\n",
      "Schroeder      : I-per I-per\n",
      "and            : O     O\n",
      "his            : O     O\n",
      "challenger     : O     O\n",
      ",              : O     O\n",
      "Angela         : B-per B-per\n",
      "Merkel         : I-per O\n",
      ",              : O     O\n",
      "are            : O     O\n",
      "campaigning    : O     O\n",
      "in             : O     O\n",
      "the            : O     O\n",
      "eastern        : O     O\n",
      "city           : O     O\n",
      "of             : O     O\n",
      "Dresden        : B-geo O\n",
      "ahead          : O     O\n",
      "of             : O     O\n",
      "Sunday         : B-tim B-tim\n",
      "'s             : O     O\n",
      "vote           : O     O\n",
      "for            : O     O\n",
      "the            : O     O\n",
      "only           : O     O\n",
      "seat           : O     O\n",
      "left           : O     O\n",
      "undecided      : O     O\n",
      "in             : O     O\n",
      "this           : O     O\n",
      "month          : O     O\n",
      "'s             : O     O\n",
      "parliamentary  : O     O\n",
      "elections      : O     O\n",
      ".              : O     O\n",
      "ENDPAD         : O     O\n",
      "ENDPAD         : O     O\n",
      "ENDPAD         : O     O\n",
      "ENDPAD         : O     O\n",
      "ENDPAD         : O     O\n",
      "ENDPAD         : O     O\n",
      "ENDPAD         : O     O\n",
      "ENDPAD         : O     O\n",
      "ENDPAD         : O     O\n",
      "ENDPAD         : O     O\n",
      "ENDPAD         : O     O\n",
      "ENDPAD         : O     O\n",
      "ENDPAD         : O     O\n",
      "ENDPAD         : O     O\n",
      "ENDPAD         : O     O\n",
      "ENDPAD         : O     O\n",
      "ENDPAD         : O     O\n",
      "ENDPAD         : O     O\n",
      "ENDPAD         : O     O\n",
      "ENDPAD         : O     O\n",
      "ENDPAD         : O     O\n",
      "ENDPAD         : O     O\n",
      "ENDPAD         : O     O\n",
      "ENDPAD         : O     O\n",
      "ENDPAD         : O     O\n",
      "ENDPAD         : O     O\n",
      "ENDPAD         : O     O\n",
      "ENDPAD         : O     O\n",
      "ENDPAD         : O     O\n",
      "ENDPAD         : O     O\n",
      "ENDPAD         : O     O\n",
      "ENDPAD         : O     O\n",
      "ENDPAD         : O     O\n",
      "ENDPAD         : O     O\n",
      "ENDPAD         : O     O\n",
      "ENDPAD         : O     O\n",
      "ENDPAD         : O     O\n",
      "ENDPAD         : O     O\n"
     ]
    }
   ],
   "source": [
    "i = 0\n",
    "p = model.predict(np.array([X_test[i]]))\n",
    "p = np.argmax(p, axis=-1)\n",
    "true = np.argmax(y_test[i], -1)\n",
    "print(\"{:15}||{:5}||{}\".format(\"Word\", \"True\", \"Pred\"))\n",
    "print(30 * \"=\")\n",
    "for w, t, pred in zip(X_test[i], true, p[0]):\n",
    "    if w != 0:\n",
    "        print(\"{:15}: {:5} {}\".format(words[w-1], tags[t], tags[pred]))"
   ]
  },
  {
   "cell_type": "code",
   "execution_count": 56,
   "id": "846f18e3",
   "metadata": {
    "execution": {
     "iopub.execute_input": "2025-03-21T06:55:35.457846Z",
     "iopub.status.busy": "2025-03-21T06:55:35.457498Z",
     "iopub.status.idle": "2025-03-21T06:55:35.563137Z",
     "shell.execute_reply": "2025-03-21T06:55:35.562256Z"
    },
    "id": "CCZh9-cqdNNN",
    "outputId": "c2abd614-90a2-4e56-daac-400d8864b761",
    "papermill": {
     "duration": 0.443002,
     "end_time": "2025-03-21T06:55:35.564677",
     "exception": false,
     "start_time": "2025-03-21T06:55:35.121675",
     "status": "completed"
    },
    "tags": []
   },
   "outputs": [
    {
     "name": "stdout",
     "output_type": "stream",
     "text": [
      "1/1 [==============================] - 0s 56ms/step\n",
      "Word           ||Prediction\n",
      "==============================\n",
      "On             : O    \n",
      "January        : B-tim\n",
      "1st            : O    \n",
      ",              : O    \n",
      "2023           : O    \n",
      ",              : O    \n",
      "Elon           : O    \n",
      "Musk           : O    \n",
      "announced      : O    \n",
      "that           : O    \n",
      "Tesla          : O    \n",
      "would          : O    \n",
      "open           : O    \n",
      "a              : O    \n",
      "new            : O    \n",
      "factory        : O    \n",
      "in             : O    \n",
      "Jakarta        : B-geo\n",
      ",              : O    \n",
      "Indonesia      : B-geo\n",
      ",              : O    \n",
      "partnering     : O    \n",
      "with           : O    \n",
      "Samsung        : O    \n",
      "and            : O    \n",
      "MIT            : O    \n",
      ".              : O    \n"
     ]
    }
   ],
   "source": [
    "# test_sentence=\"On 18/04/2004, Barack Obama said that he loved his country which is Vietnam very much. You know, Apple is such an amazing tech company.\"\n",
    "test_sentence = \"On January 1st, 2023, Elon Musk announced that Tesla would open a new factory in Jakarta, Indonesia, partnering with Samsung and MIT.\"\n",
    "x_test_sent = pad_sequences(sequences=[[word2idx.get(w, 0) for w in tokenize(test_sentence)]],\n",
    "                            padding=\"post\", value=0, maxlen=max_len)\n",
    "\n",
    "p = model.predict(np.array([x_test_sent[0]]))\n",
    "p = np.argmax(p, axis=-1)\n",
    "print(\"{:15}||{}\".format(\"Word\", \"Prediction\"))\n",
    "print(30 * \"=\")\n",
    "for w, pred in zip(tokenize(test_sentence), p[0]):\n",
    "    print(\"{:15}: {:5}\".format(w, tags[pred]))"
   ]
  },
  {
   "cell_type": "code",
   "execution_count": null,
   "id": "266a9931",
   "metadata": {
    "id": "1JAAIzfHGKBa",
    "papermill": {
     "duration": 0.338796,
     "end_time": "2025-03-21T06:55:36.280200",
     "exception": false,
     "start_time": "2025-03-21T06:55:35.941404",
     "status": "completed"
    },
    "tags": []
   },
   "outputs": [],
   "source": []
  },
  {
   "cell_type": "code",
   "execution_count": null,
   "id": "4eed665b",
   "metadata": {
    "id": "GQHzP9cHGKBa",
    "papermill": {
     "duration": 0.326889,
     "end_time": "2025-03-21T06:55:36.932461",
     "exception": false,
     "start_time": "2025-03-21T06:55:36.605572",
     "status": "completed"
    },
    "tags": []
   },
   "outputs": [],
   "source": []
  }
 ],
 "metadata": {
  "accelerator": "GPU",
  "colab": {
   "gpuType": "T4",
   "provenance": [],
   "toc_visible": true
  },
  "kaggle": {
   "accelerator": "gpu",
   "dataSources": [
    {
     "datasetId": 1014,
     "sourceId": 4361,
     "sourceType": "datasetVersion"
    }
   ],
   "dockerImageVersionId": 30919,
   "isGpuEnabled": true,
   "isInternetEnabled": true,
   "language": "python",
   "sourceType": "notebook"
  },
  "kernelspec": {
   "display_name": "Python 3",
   "language": "python",
   "name": "python3"
  },
  "language_info": {
   "codemirror_mode": {
    "name": "ipython",
    "version": 3
   },
   "file_extension": ".py",
   "mimetype": "text/x-python",
   "name": "python",
   "nbconvert_exporter": "python",
   "pygments_lexer": "ipython3",
   "version": "3.10.12"
  },
  "papermill": {
   "default_parameters": {},
   "duration": 2670.337537,
   "end_time": "2025-03-21T06:55:40.289105",
   "environment_variables": {},
   "exception": null,
   "input_path": "__notebook__.ipynb",
   "output_path": "__notebook__.ipynb",
   "parameters": {},
   "start_time": "2025-03-21T06:11:09.951568",
   "version": "2.6.0"
  }
 },
 "nbformat": 4,
 "nbformat_minor": 5
}
