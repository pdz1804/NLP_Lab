{
  "cells": [
    {
      "cell_type": "markdown",
      "metadata": {
        "id": "SzzRxONB9nIs"
      },
      "source": [
        "# Home Exercise on Named Entity Recognition\n",
        "\n",
        "Implement a **Recurrent Neural Network model** (**[Bidirectional LSTM-CRF Models for Sequence Tagging](https://arxiv.org/pdf/1508.01991)**) to extract named entities from text. Entity labels are encoded using the **BIO notation**, where each entity label is assigned a **B** (Beginning) or **I** (Inside) tag. The **B-** tag indicates the beginning of an entity, while the **I-** tag marks words inside the same entity.\n",
        "\n",
        "These tags help identify multi-word entities. For example, in the phrase **\"World War II\"**, the labels would be: **(B-eve, I-eve, I-eve)**. Words that do not belong to any entity are labeled as **O** (Outside).\n",
        "\n",
        "- **Data**: [Annotated GMB Corpus](https://www.kaggle.com/datasets/shoumikgoswami/annotated-gmb-corpus?select=GMB_dataset.txt) *(the last 10% of rows serve as the test set).*\n",
        "\n",
        "**Note**: Submit only a **single Jupyter Notebook file** that can handle all tasks, including data downloading, preprocessing, model training, and model evaluation. *(Submissions that do not follow the guidelines will receive a score of 0.)*\n",
        "\n",
        "## Grading Criteria\n",
        "\n",
        "For valid submissions, scores will be assigned based on the **leaderboard ranking** (**strictly greater**):\n",
        "\n",
        "- **Top 25%** → **10 points**\n",
        "- **25% - 50%** → **9.0 points**\n",
        "- **50% - 75%** → **8.0 points**\n",
        "- **75% - 100%** → **7.0 points**\n"
      ]
    },
    {
      "cell_type": "markdown",
      "metadata": {
        "id": "3lk8pV6dgTyf"
      },
      "source": [
        "link to the datasets that we would use\n",
        "\n",
        "https://www.kaggle.com/datasets/shoumikgoswami/annotated-gmb-corpus\n",
        "\n",
        "https://www.kaggle.com/datasets/abhinavwalia95/entity-annotated-corpus/data\n"
      ]
    },
    {
      "cell_type": "code",
      "execution_count": null,
      "metadata": {
        "id": "VjSSXEPxDAR6"
      },
      "outputs": [],
      "source": [
        "# %pip install git+https://www.github.com/keras-team/keras-contrib.git"
      ]
    },
    {
      "cell_type": "code",
      "execution_count": null,
      "metadata": {
        "colab": {
          "base_uri": "https://localhost:8080/"
        },
        "id": "kRUnaDos9nJB",
        "outputId": "0b800755-ff11-4eb8-e81b-2988e8e025e7"
      },
      "outputs": [
        {
          "name": "stdout",
          "output_type": "stream",
          "text": [
            "Requirement already satisfied: numpy in /usr/local/lib/python3.11/dist-packages (1.26.4)\n",
            "Requirement already satisfied: pandas in /usr/local/lib/python3.11/dist-packages (2.2.2)\n",
            "Requirement already satisfied: tensorflow==2.15.0 in /usr/local/lib/python3.11/dist-packages (2.15.0)\n",
            "Requirement already satisfied: matplotlib in /usr/local/lib/python3.11/dist-packages (3.10.0)\n",
            "Requirement already satisfied: scikit-learn in /usr/local/lib/python3.11/dist-packages (1.6.1)\n",
            "Requirement already satisfied: tensorflow_addons in /usr/local/lib/python3.11/dist-packages (0.23.0)\n",
            "Requirement already satisfied: kagglehub in /usr/local/lib/python3.11/dist-packages (0.3.10)\n",
            "Requirement already satisfied: absl-py>=1.0.0 in /usr/local/lib/python3.11/dist-packages (from tensorflow==2.15.0) (1.4.0)\n",
            "Requirement already satisfied: astunparse>=1.6.0 in /usr/local/lib/python3.11/dist-packages (from tensorflow==2.15.0) (1.6.3)\n",
            "Requirement already satisfied: flatbuffers>=23.5.26 in /usr/local/lib/python3.11/dist-packages (from tensorflow==2.15.0) (25.2.10)\n",
            "Requirement already satisfied: gast!=0.5.0,!=0.5.1,!=0.5.2,>=0.2.1 in /usr/local/lib/python3.11/dist-packages (from tensorflow==2.15.0) (0.6.0)\n",
            "Requirement already satisfied: google-pasta>=0.1.1 in /usr/local/lib/python3.11/dist-packages (from tensorflow==2.15.0) (0.2.0)\n",
            "Requirement already satisfied: h5py>=2.9.0 in /usr/local/lib/python3.11/dist-packages (from tensorflow==2.15.0) (3.12.1)\n",
            "Requirement already satisfied: libclang>=13.0.0 in /usr/local/lib/python3.11/dist-packages (from tensorflow==2.15.0) (18.1.1)\n",
            "Requirement already satisfied: ml-dtypes~=0.2.0 in /usr/local/lib/python3.11/dist-packages (from tensorflow==2.15.0) (0.2.0)\n",
            "Requirement already satisfied: opt-einsum>=2.3.2 in /usr/local/lib/python3.11/dist-packages (from tensorflow==2.15.0) (3.4.0)\n",
            "Requirement already satisfied: packaging in /usr/local/lib/python3.11/dist-packages (from tensorflow==2.15.0) (24.2)\n",
            "Requirement already satisfied: protobuf!=4.21.0,!=4.21.1,!=4.21.2,!=4.21.3,!=4.21.4,!=4.21.5,<5.0.0dev,>=3.20.3 in /usr/local/lib/python3.11/dist-packages (from tensorflow==2.15.0) (4.25.6)\n",
            "Requirement already satisfied: setuptools in /usr/local/lib/python3.11/dist-packages (from tensorflow==2.15.0) (75.1.0)\n",
            "Requirement already satisfied: six>=1.12.0 in /usr/local/lib/python3.11/dist-packages (from tensorflow==2.15.0) (1.17.0)\n",
            "Requirement already satisfied: termcolor>=1.1.0 in /usr/local/lib/python3.11/dist-packages (from tensorflow==2.15.0) (2.5.0)\n",
            "Requirement already satisfied: typing-extensions>=3.6.6 in /usr/local/lib/python3.11/dist-packages (from tensorflow==2.15.0) (4.12.2)\n",
            "Requirement already satisfied: wrapt<1.15,>=1.11.0 in /usr/local/lib/python3.11/dist-packages (from tensorflow==2.15.0) (1.14.1)\n",
            "Requirement already satisfied: tensorflow-io-gcs-filesystem>=0.23.1 in /usr/local/lib/python3.11/dist-packages (from tensorflow==2.15.0) (0.37.1)\n",
            "Requirement already satisfied: grpcio<2.0,>=1.24.3 in /usr/local/lib/python3.11/dist-packages (from tensorflow==2.15.0) (1.71.0)\n",
            "Requirement already satisfied: tensorboard<2.16,>=2.15 in /usr/local/lib/python3.11/dist-packages (from tensorflow==2.15.0) (2.15.2)\n",
            "Requirement already satisfied: tensorflow-estimator<2.16,>=2.15.0 in /usr/local/lib/python3.11/dist-packages (from tensorflow==2.15.0) (2.15.0)\n",
            "Requirement already satisfied: keras<2.16,>=2.15.0 in /usr/local/lib/python3.11/dist-packages (from tensorflow==2.15.0) (2.15.0)\n",
            "Requirement already satisfied: python-dateutil>=2.8.2 in /usr/local/lib/python3.11/dist-packages (from pandas) (2.8.2)\n",
            "Requirement already satisfied: pytz>=2020.1 in /usr/local/lib/python3.11/dist-packages (from pandas) (2025.1)\n",
            "Requirement already satisfied: tzdata>=2022.7 in /usr/local/lib/python3.11/dist-packages (from pandas) (2025.1)\n",
            "Requirement already satisfied: contourpy>=1.0.1 in /usr/local/lib/python3.11/dist-packages (from matplotlib) (1.3.1)\n",
            "Requirement already satisfied: cycler>=0.10 in /usr/local/lib/python3.11/dist-packages (from matplotlib) (0.12.1)\n",
            "Requirement already satisfied: fonttools>=4.22.0 in /usr/local/lib/python3.11/dist-packages (from matplotlib) (4.56.0)\n",
            "Requirement already satisfied: kiwisolver>=1.3.1 in /usr/local/lib/python3.11/dist-packages (from matplotlib) (1.4.8)\n",
            "Requirement already satisfied: pillow>=8 in /usr/local/lib/python3.11/dist-packages (from matplotlib) (11.1.0)\n",
            "Requirement already satisfied: pyparsing>=2.3.1 in /usr/local/lib/python3.11/dist-packages (from matplotlib) (3.2.1)\n",
            "Requirement already satisfied: scipy>=1.6.0 in /usr/local/lib/python3.11/dist-packages (from scikit-learn) (1.14.1)\n",
            "Requirement already satisfied: joblib>=1.2.0 in /usr/local/lib/python3.11/dist-packages (from scikit-learn) (1.4.2)\n",
            "Requirement already satisfied: threadpoolctl>=3.1.0 in /usr/local/lib/python3.11/dist-packages (from scikit-learn) (3.6.0)\n",
            "Requirement already satisfied: typeguard<3.0.0,>=2.7 in /usr/local/lib/python3.11/dist-packages (from tensorflow_addons) (2.13.3)\n",
            "Requirement already satisfied: pyyaml in /usr/local/lib/python3.11/dist-packages (from kagglehub) (6.0.2)\n",
            "Requirement already satisfied: requests in /usr/local/lib/python3.11/dist-packages (from kagglehub) (2.32.3)\n",
            "Requirement already satisfied: tqdm in /usr/local/lib/python3.11/dist-packages (from kagglehub) (4.67.1)\n",
            "Requirement already satisfied: wheel<1.0,>=0.23.0 in /usr/local/lib/python3.11/dist-packages (from astunparse>=1.6.0->tensorflow==2.15.0) (0.45.1)\n",
            "Requirement already satisfied: google-auth<3,>=1.6.3 in /usr/local/lib/python3.11/dist-packages (from tensorboard<2.16,>=2.15->tensorflow==2.15.0) (2.38.0)\n",
            "Requirement already satisfied: google-auth-oauthlib<2,>=0.5 in /usr/local/lib/python3.11/dist-packages (from tensorboard<2.16,>=2.15->tensorflow==2.15.0) (1.2.1)\n",
            "Requirement already satisfied: markdown>=2.6.8 in /usr/local/lib/python3.11/dist-packages (from tensorboard<2.16,>=2.15->tensorflow==2.15.0) (3.7)\n",
            "Requirement already satisfied: tensorboard-data-server<0.8.0,>=0.7.0 in /usr/local/lib/python3.11/dist-packages (from tensorboard<2.16,>=2.15->tensorflow==2.15.0) (0.7.2)\n",
            "Requirement already satisfied: werkzeug>=1.0.1 in /usr/local/lib/python3.11/dist-packages (from tensorboard<2.16,>=2.15->tensorflow==2.15.0) (3.1.3)\n",
            "Requirement already satisfied: charset-normalizer<4,>=2 in /usr/local/lib/python3.11/dist-packages (from requests->kagglehub) (3.4.1)\n",
            "Requirement already satisfied: idna<4,>=2.5 in /usr/local/lib/python3.11/dist-packages (from requests->kagglehub) (3.10)\n",
            "Requirement already satisfied: urllib3<3,>=1.21.1 in /usr/local/lib/python3.11/dist-packages (from requests->kagglehub) (2.3.0)\n",
            "Requirement already satisfied: certifi>=2017.4.17 in /usr/local/lib/python3.11/dist-packages (from requests->kagglehub) (2025.1.31)\n",
            "Requirement already satisfied: cachetools<6.0,>=2.0.0 in /usr/local/lib/python3.11/dist-packages (from google-auth<3,>=1.6.3->tensorboard<2.16,>=2.15->tensorflow==2.15.0) (5.5.2)\n",
            "Requirement already satisfied: pyasn1-modules>=0.2.1 in /usr/local/lib/python3.11/dist-packages (from google-auth<3,>=1.6.3->tensorboard<2.16,>=2.15->tensorflow==2.15.0) (0.4.1)\n",
            "Requirement already satisfied: rsa<5,>=3.1.4 in /usr/local/lib/python3.11/dist-packages (from google-auth<3,>=1.6.3->tensorboard<2.16,>=2.15->tensorflow==2.15.0) (4.9)\n",
            "Requirement already satisfied: requests-oauthlib>=0.7.0 in /usr/local/lib/python3.11/dist-packages (from google-auth-oauthlib<2,>=0.5->tensorboard<2.16,>=2.15->tensorflow==2.15.0) (2.0.0)\n",
            "Requirement already satisfied: MarkupSafe>=2.1.1 in /usr/local/lib/python3.11/dist-packages (from werkzeug>=1.0.1->tensorboard<2.16,>=2.15->tensorflow==2.15.0) (3.0.2)\n",
            "Requirement already satisfied: pyasn1<0.7.0,>=0.4.6 in /usr/local/lib/python3.11/dist-packages (from pyasn1-modules>=0.2.1->google-auth<3,>=1.6.3->tensorboard<2.16,>=2.15->tensorflow==2.15.0) (0.6.1)\n",
            "Requirement already satisfied: oauthlib>=3.0.0 in /usr/local/lib/python3.11/dist-packages (from requests-oauthlib>=0.7.0->google-auth-oauthlib<2,>=0.5->tensorboard<2.16,>=2.15->tensorflow==2.15.0) (3.2.2)\n"
          ]
        }
      ],
      "source": [
        "%pip install numpy pandas tensorflow==2.15.0 matplotlib scikit-learn tensorflow_addons kagglehub\n"
      ]
    },
    {
      "cell_type": "code",
      "execution_count": null,
      "metadata": {
        "colab": {
          "base_uri": "https://localhost:8080/"
        },
        "id": "BFzc32EbOota",
        "outputId": "40e20c34-19fd-49ac-f111-561c7e1743fd"
      },
      "outputs": [],
      "source": [
        "# !pip install --upgrade tensorflow tensorflow-addons"
      ]
    },
    {
      "cell_type": "code",
      "execution_count": null,
      "metadata": {
        "id": "oIbslPxF9nJE"
      },
      "outputs": [],
      "source": [
        "import pandas as pd\n",
        "import numpy as np\n",
        "import gdown\n",
        "import os\n",
        "import tensorflow as tf\n",
        "import matplotlib.pyplot as plt\n",
        "from sklearn.model_selection import train_test_split\n",
        "from tensorflow.keras.preprocessing.text import Tokenizer\n",
        "from tensorflow.keras.preprocessing.sequence import pad_sequences\n",
        "from tensorflow.keras.utils import to_categorical\n",
        "from tensorflow.keras.layers import Embedding, LSTM, Bidirectional, Dense, TimeDistributed, Dropout, Input\n",
        "from tensorflow.keras.models import Model\n",
        "# from keras_crf import CRF\n",
        "# from keras_contrib.layers import CRF\n",
        "from tensorflow_addons.layers import CRF\n",
        "import keras as k\n"
      ]
    },
    {
      "cell_type": "code",
      "execution_count": null,
      "metadata": {
        "colab": {
          "base_uri": "https://localhost:8080/"
        },
        "id": "qZwPlVsR9nJF",
        "outputId": "40473dfd-f0d9-4e4f-9517-07aa18f3c2eb"
      },
      "outputs": [
        {
          "name": "stderr",
          "output_type": "stream",
          "text": [
            "Retrieving folder contents\n"
          ]
        },
        {
          "name": "stdout",
          "output_type": "stream",
          "text": [
            "Processing file 125vSHeQajcbRTMJiq4Hc5WPH-GcCxkVr annotated-gmb-corpus.zip\n",
            "Processing file 1gTWviZN3RcBUzm--_ife7qCUuTb1H8lr GMB_dataset.txt\n"
          ]
        },
        {
          "name": "stderr",
          "output_type": "stream",
          "text": [
            "Retrieving folder contents completed\n",
            "Building directory structure\n",
            "Building directory structure completed\n",
            "Downloading...\n",
            "From: https://drive.google.com/uc?id=125vSHeQajcbRTMJiq4Hc5WPH-GcCxkVr\n",
            "To: /content/NLP_Data_GDrive/annotated-gmb-corpus.zip\n",
            "100%|██████████| 473k/473k [00:00<00:00, 6.26MB/s]\n",
            "Downloading...\n",
            "From: https://drive.google.com/uc?id=1gTWviZN3RcBUzm--_ife7qCUuTb1H8lr\n",
            "To: /content/NLP_Data_GDrive/GMB_dataset.txt\n",
            "100%|██████████| 1.60M/1.60M [00:00<00:00, 14.1MB/s]\n",
            "Download completed\n"
          ]
        },
        {
          "data": {
            "text/plain": [
              "['./NLP_Data_GDrive/annotated-gmb-corpus.zip',\n",
              " './NLP_Data_GDrive/GMB_dataset.txt']"
            ]
          },
          "execution_count": 3,
          "metadata": {},
          "output_type": "execute_result"
        }
      ],
      "source": [
        "# https://drive.google.com/drive/folders/1GbEc7KGjuiByArwjt3CS69Lrk-ttJ4Ly?usp=sharing\n",
        "\n",
        "# URL of the shared folder\n",
        "folder_url = \"https://drive.google.com/drive/folders/1GbEc7KGjuiByArwjt3CS69Lrk-ttJ4Ly?usp=sharing\"\n",
        "\n",
        "# Output directory where the folder will be saved\n",
        "output_dir = \"./NLP_Data_GDrive\"\n",
        "\n",
        "# Download the folder\n",
        "gdown.download_folder(folder_url, output=output_dir, quiet=False, use_cookies=False)"
      ]
    },
    {
      "cell_type": "code",
      "execution_count": null,
      "metadata": {
        "colab": {
          "base_uri": "https://localhost:8080/",
          "height": 711
        },
        "id": "JU0-xpTI9nJG",
        "outputId": "fd5e9e52-7435-4a0f-ddb6-fa448eb0149c"
      },
      "outputs": [
        {
          "name": "stderr",
          "output_type": "stream",
          "text": [
            "<ipython-input-12-144d2205f476>:12: FutureWarning: Series.fillna with 'method' is deprecated and will raise in a future version. Use obj.ffill() or obj.bfill() instead.\n",
            "  df[\"Sentence#\"] = df[\"Sentence#\"].fillna(method=\"ffill\")\n"
          ]
        },
        {
          "data": {
            "application/vnd.google.colaboratory.intrinsic+json": {
              "summary": "{\n  \"name\": \"df\",\n  \"rows\": 20,\n  \"fields\": [\n    {\n      \"column\": \"Sentence#\",\n      \"properties\": {\n        \"dtype\": \"number\",\n        \"std\": 0.4893604849295931,\n        \"min\": 2998.0,\n        \"max\": 2999.0,\n        \"num_unique_values\": 2,\n        \"samples\": [\n          2999.0,\n          2998.0\n        ],\n        \"semantic_type\": \"\",\n        \"description\": \"\"\n      }\n    },\n    {\n      \"column\": \"Word\",\n      \"properties\": {\n        \"dtype\": \"string\",\n        \"num_unique_values\": 19,\n        \"samples\": [\n          \"for\",\n          \"Saddam\"\n        ],\n        \"semantic_type\": \"\",\n        \"description\": \"\"\n      }\n    },\n    {\n      \"column\": \"POS\",\n      \"properties\": {\n        \"dtype\": \"string\",\n        \"num_unique_values\": 11,\n        \"samples\": [\n          \".\",\n          \"IN\"\n        ],\n        \"semantic_type\": \"\",\n        \"description\": \"\"\n      }\n    },\n    {\n      \"column\": \"Tag\",\n      \"properties\": {\n        \"dtype\": \"category\",\n        \"num_unique_values\": 3,\n        \"samples\": [\n          \"O\",\n          \"B-per\"\n        ],\n        \"semantic_type\": \"\",\n        \"description\": \"\"\n      }\n    }\n  ]\n}",
              "type": "dataframe"
            },
            "text/html": [
              "\n",
              "  <div id=\"df-8964e494-a829-4a77-9a3a-a9f15eea0cdf\" class=\"colab-df-container\">\n",
              "    <div>\n",
              "<style scoped>\n",
              "    .dataframe tbody tr th:only-of-type {\n",
              "        vertical-align: middle;\n",
              "    }\n",
              "\n",
              "    .dataframe tbody tr th {\n",
              "        vertical-align: top;\n",
              "    }\n",
              "\n",
              "    .dataframe thead th {\n",
              "        text-align: right;\n",
              "    }\n",
              "</style>\n",
              "<table border=\"1\" class=\"dataframe\">\n",
              "  <thead>\n",
              "    <tr style=\"text-align: right;\">\n",
              "      <th></th>\n",
              "      <th>Sentence#</th>\n",
              "      <th>Word</th>\n",
              "      <th>POS</th>\n",
              "      <th>Tag</th>\n",
              "    </tr>\n",
              "  </thead>\n",
              "  <tbody>\n",
              "    <tr>\n",
              "      <th>66141</th>\n",
              "      <td>2998.0</td>\n",
              "      <td>for</td>\n",
              "      <td>IN</td>\n",
              "      <td>O</td>\n",
              "    </tr>\n",
              "    <tr>\n",
              "      <th>66142</th>\n",
              "      <td>2998.0</td>\n",
              "      <td>an</td>\n",
              "      <td>DT</td>\n",
              "      <td>O</td>\n",
              "    </tr>\n",
              "    <tr>\n",
              "      <th>66143</th>\n",
              "      <td>2998.0</td>\n",
              "      <td>attempted</td>\n",
              "      <td>JJ</td>\n",
              "      <td>O</td>\n",
              "    </tr>\n",
              "    <tr>\n",
              "      <th>66144</th>\n",
              "      <td>2998.0</td>\n",
              "      <td>assassination</td>\n",
              "      <td>NN</td>\n",
              "      <td>O</td>\n",
              "    </tr>\n",
              "    <tr>\n",
              "      <th>66145</th>\n",
              "      <td>2998.0</td>\n",
              "      <td>of</td>\n",
              "      <td>IN</td>\n",
              "      <td>O</td>\n",
              "    </tr>\n",
              "    <tr>\n",
              "      <th>66146</th>\n",
              "      <td>2998.0</td>\n",
              "      <td>Saddam</td>\n",
              "      <td>NNP</td>\n",
              "      <td>B-per</td>\n",
              "    </tr>\n",
              "    <tr>\n",
              "      <th>66147</th>\n",
              "      <td>2998.0</td>\n",
              "      <td>.</td>\n",
              "      <td>.</td>\n",
              "      <td>O</td>\n",
              "    </tr>\n",
              "    <tr>\n",
              "      <th>66148</th>\n",
              "      <td>2999.0</td>\n",
              "      <td>The</td>\n",
              "      <td>DT</td>\n",
              "      <td>O</td>\n",
              "    </tr>\n",
              "    <tr>\n",
              "      <th>66149</th>\n",
              "      <td>2999.0</td>\n",
              "      <td>judge</td>\n",
              "      <td>NN</td>\n",
              "      <td>O</td>\n",
              "    </tr>\n",
              "    <tr>\n",
              "      <th>66150</th>\n",
              "      <td>2999.0</td>\n",
              "      <td>told</td>\n",
              "      <td>VBD</td>\n",
              "      <td>O</td>\n",
              "    </tr>\n",
              "    <tr>\n",
              "      <th>66151</th>\n",
              "      <td>2999.0</td>\n",
              "      <td>reporters</td>\n",
              "      <td>NNS</td>\n",
              "      <td>O</td>\n",
              "    </tr>\n",
              "    <tr>\n",
              "      <th>66152</th>\n",
              "      <td>2999.0</td>\n",
              "      <td>a</td>\n",
              "      <td>DT</td>\n",
              "      <td>O</td>\n",
              "    </tr>\n",
              "    <tr>\n",
              "      <th>66153</th>\n",
              "      <td>2999.0</td>\n",
              "      <td>trial</td>\n",
              "      <td>NN</td>\n",
              "      <td>O</td>\n",
              "    </tr>\n",
              "    <tr>\n",
              "      <th>66154</th>\n",
              "      <td>2999.0</td>\n",
              "      <td>date</td>\n",
              "      <td>NN</td>\n",
              "      <td>O</td>\n",
              "    </tr>\n",
              "    <tr>\n",
              "      <th>66155</th>\n",
              "      <td>2999.0</td>\n",
              "      <td>could</td>\n",
              "      <td>MD</td>\n",
              "      <td>O</td>\n",
              "    </tr>\n",
              "    <tr>\n",
              "      <th>66156</th>\n",
              "      <td>2999.0</td>\n",
              "      <td>be</td>\n",
              "      <td>VB</td>\n",
              "      <td>O</td>\n",
              "    </tr>\n",
              "    <tr>\n",
              "      <th>66157</th>\n",
              "      <td>2999.0</td>\n",
              "      <td>announced</td>\n",
              "      <td>VBN</td>\n",
              "      <td>O</td>\n",
              "    </tr>\n",
              "    <tr>\n",
              "      <th>66158</th>\n",
              "      <td>2999.0</td>\n",
              "      <td>within</td>\n",
              "      <td>IN</td>\n",
              "      <td>B-tim</td>\n",
              "    </tr>\n",
              "    <tr>\n",
              "      <th>66159</th>\n",
              "      <td>2999.0</td>\n",
              "      <td>days</td>\n",
              "      <td>NNS</td>\n",
              "      <td>O</td>\n",
              "    </tr>\n",
              "    <tr>\n",
              "      <th>66160</th>\n",
              "      <td>2999.0</td>\n",
              "      <td>.</td>\n",
              "      <td>.</td>\n",
              "      <td>O</td>\n",
              "    </tr>\n",
              "  </tbody>\n",
              "</table>\n",
              "</div>\n",
              "    <div class=\"colab-df-buttons\">\n",
              "\n",
              "  <div class=\"colab-df-container\">\n",
              "    <button class=\"colab-df-convert\" onclick=\"convertToInteractive('df-8964e494-a829-4a77-9a3a-a9f15eea0cdf')\"\n",
              "            title=\"Convert this dataframe to an interactive table.\"\n",
              "            style=\"display:none;\">\n",
              "\n",
              "  <svg xmlns=\"http://www.w3.org/2000/svg\" height=\"24px\" viewBox=\"0 -960 960 960\">\n",
              "    <path d=\"M120-120v-720h720v720H120Zm60-500h600v-160H180v160Zm220 220h160v-160H400v160Zm0 220h160v-160H400v160ZM180-400h160v-160H180v160Zm440 0h160v-160H620v160ZM180-180h160v-160H180v160Zm440 0h160v-160H620v160Z\"/>\n",
              "  </svg>\n",
              "    </button>\n",
              "\n",
              "  <style>\n",
              "    .colab-df-container {\n",
              "      display:flex;\n",
              "      gap: 12px;\n",
              "    }\n",
              "\n",
              "    .colab-df-convert {\n",
              "      background-color: #E8F0FE;\n",
              "      border: none;\n",
              "      border-radius: 50%;\n",
              "      cursor: pointer;\n",
              "      display: none;\n",
              "      fill: #1967D2;\n",
              "      height: 32px;\n",
              "      padding: 0 0 0 0;\n",
              "      width: 32px;\n",
              "    }\n",
              "\n",
              "    .colab-df-convert:hover {\n",
              "      background-color: #E2EBFA;\n",
              "      box-shadow: 0px 1px 2px rgba(60, 64, 67, 0.3), 0px 1px 3px 1px rgba(60, 64, 67, 0.15);\n",
              "      fill: #174EA6;\n",
              "    }\n",
              "\n",
              "    .colab-df-buttons div {\n",
              "      margin-bottom: 4px;\n",
              "    }\n",
              "\n",
              "    [theme=dark] .colab-df-convert {\n",
              "      background-color: #3B4455;\n",
              "      fill: #D2E3FC;\n",
              "    }\n",
              "\n",
              "    [theme=dark] .colab-df-convert:hover {\n",
              "      background-color: #434B5C;\n",
              "      box-shadow: 0px 1px 3px 1px rgba(0, 0, 0, 0.15);\n",
              "      filter: drop-shadow(0px 1px 2px rgba(0, 0, 0, 0.3));\n",
              "      fill: #FFFFFF;\n",
              "    }\n",
              "  </style>\n",
              "\n",
              "    <script>\n",
              "      const buttonEl =\n",
              "        document.querySelector('#df-8964e494-a829-4a77-9a3a-a9f15eea0cdf button.colab-df-convert');\n",
              "      buttonEl.style.display =\n",
              "        google.colab.kernel.accessAllowed ? 'block' : 'none';\n",
              "\n",
              "      async function convertToInteractive(key) {\n",
              "        const element = document.querySelector('#df-8964e494-a829-4a77-9a3a-a9f15eea0cdf');\n",
              "        const dataTable =\n",
              "          await google.colab.kernel.invokeFunction('convertToInteractive',\n",
              "                                                    [key], {});\n",
              "        if (!dataTable) return;\n",
              "\n",
              "        const docLinkHtml = 'Like what you see? Visit the ' +\n",
              "          '<a target=\"_blank\" href=https://colab.research.google.com/notebooks/data_table.ipynb>data table notebook</a>'\n",
              "          + ' to learn more about interactive tables.';\n",
              "        element.innerHTML = '';\n",
              "        dataTable['output_type'] = 'display_data';\n",
              "        await google.colab.output.renderOutput(dataTable, element);\n",
              "        const docLink = document.createElement('div');\n",
              "        docLink.innerHTML = docLinkHtml;\n",
              "        element.appendChild(docLink);\n",
              "      }\n",
              "    </script>\n",
              "  </div>\n",
              "\n",
              "\n",
              "<div id=\"df-4ed52404-af28-4027-9f5a-f13344564cd0\">\n",
              "  <button class=\"colab-df-quickchart\" onclick=\"quickchart('df-4ed52404-af28-4027-9f5a-f13344564cd0')\"\n",
              "            title=\"Suggest charts\"\n",
              "            style=\"display:none;\">\n",
              "\n",
              "<svg xmlns=\"http://www.w3.org/2000/svg\" height=\"24px\"viewBox=\"0 0 24 24\"\n",
              "     width=\"24px\">\n",
              "    <g>\n",
              "        <path d=\"M19 3H5c-1.1 0-2 .9-2 2v14c0 1.1.9 2 2 2h14c1.1 0 2-.9 2-2V5c0-1.1-.9-2-2-2zM9 17H7v-7h2v7zm4 0h-2V7h2v10zm4 0h-2v-4h2v4z\"/>\n",
              "    </g>\n",
              "</svg>\n",
              "  </button>\n",
              "\n",
              "<style>\n",
              "  .colab-df-quickchart {\n",
              "      --bg-color: #E8F0FE;\n",
              "      --fill-color: #1967D2;\n",
              "      --hover-bg-color: #E2EBFA;\n",
              "      --hover-fill-color: #174EA6;\n",
              "      --disabled-fill-color: #AAA;\n",
              "      --disabled-bg-color: #DDD;\n",
              "  }\n",
              "\n",
              "  [theme=dark] .colab-df-quickchart {\n",
              "      --bg-color: #3B4455;\n",
              "      --fill-color: #D2E3FC;\n",
              "      --hover-bg-color: #434B5C;\n",
              "      --hover-fill-color: #FFFFFF;\n",
              "      --disabled-bg-color: #3B4455;\n",
              "      --disabled-fill-color: #666;\n",
              "  }\n",
              "\n",
              "  .colab-df-quickchart {\n",
              "    background-color: var(--bg-color);\n",
              "    border: none;\n",
              "    border-radius: 50%;\n",
              "    cursor: pointer;\n",
              "    display: none;\n",
              "    fill: var(--fill-color);\n",
              "    height: 32px;\n",
              "    padding: 0;\n",
              "    width: 32px;\n",
              "  }\n",
              "\n",
              "  .colab-df-quickchart:hover {\n",
              "    background-color: var(--hover-bg-color);\n",
              "    box-shadow: 0 1px 2px rgba(60, 64, 67, 0.3), 0 1px 3px 1px rgba(60, 64, 67, 0.15);\n",
              "    fill: var(--button-hover-fill-color);\n",
              "  }\n",
              "\n",
              "  .colab-df-quickchart-complete:disabled,\n",
              "  .colab-df-quickchart-complete:disabled:hover {\n",
              "    background-color: var(--disabled-bg-color);\n",
              "    fill: var(--disabled-fill-color);\n",
              "    box-shadow: none;\n",
              "  }\n",
              "\n",
              "  .colab-df-spinner {\n",
              "    border: 2px solid var(--fill-color);\n",
              "    border-color: transparent;\n",
              "    border-bottom-color: var(--fill-color);\n",
              "    animation:\n",
              "      spin 1s steps(1) infinite;\n",
              "  }\n",
              "\n",
              "  @keyframes spin {\n",
              "    0% {\n",
              "      border-color: transparent;\n",
              "      border-bottom-color: var(--fill-color);\n",
              "      border-left-color: var(--fill-color);\n",
              "    }\n",
              "    20% {\n",
              "      border-color: transparent;\n",
              "      border-left-color: var(--fill-color);\n",
              "      border-top-color: var(--fill-color);\n",
              "    }\n",
              "    30% {\n",
              "      border-color: transparent;\n",
              "      border-left-color: var(--fill-color);\n",
              "      border-top-color: var(--fill-color);\n",
              "      border-right-color: var(--fill-color);\n",
              "    }\n",
              "    40% {\n",
              "      border-color: transparent;\n",
              "      border-right-color: var(--fill-color);\n",
              "      border-top-color: var(--fill-color);\n",
              "    }\n",
              "    60% {\n",
              "      border-color: transparent;\n",
              "      border-right-color: var(--fill-color);\n",
              "    }\n",
              "    80% {\n",
              "      border-color: transparent;\n",
              "      border-right-color: var(--fill-color);\n",
              "      border-bottom-color: var(--fill-color);\n",
              "    }\n",
              "    90% {\n",
              "      border-color: transparent;\n",
              "      border-bottom-color: var(--fill-color);\n",
              "    }\n",
              "  }\n",
              "</style>\n",
              "\n",
              "  <script>\n",
              "    async function quickchart(key) {\n",
              "      const quickchartButtonEl =\n",
              "        document.querySelector('#' + key + ' button');\n",
              "      quickchartButtonEl.disabled = true;  // To prevent multiple clicks.\n",
              "      quickchartButtonEl.classList.add('colab-df-spinner');\n",
              "      try {\n",
              "        const charts = await google.colab.kernel.invokeFunction(\n",
              "            'suggestCharts', [key], {});\n",
              "      } catch (error) {\n",
              "        console.error('Error during call to suggestCharts:', error);\n",
              "      }\n",
              "      quickchartButtonEl.classList.remove('colab-df-spinner');\n",
              "      quickchartButtonEl.classList.add('colab-df-quickchart-complete');\n",
              "    }\n",
              "    (() => {\n",
              "      let quickchartButtonEl =\n",
              "        document.querySelector('#df-4ed52404-af28-4027-9f5a-f13344564cd0 button');\n",
              "      quickchartButtonEl.style.display =\n",
              "        google.colab.kernel.accessAllowed ? 'block' : 'none';\n",
              "    })();\n",
              "  </script>\n",
              "</div>\n",
              "\n",
              "    </div>\n",
              "  </div>\n"
            ],
            "text/plain": [
              "       Sentence#           Word  POS    Tag\n",
              "66141     2998.0            for   IN      O\n",
              "66142     2998.0             an   DT      O\n",
              "66143     2998.0      attempted   JJ      O\n",
              "66144     2998.0  assassination   NN      O\n",
              "66145     2998.0             of   IN      O\n",
              "66146     2998.0         Saddam  NNP  B-per\n",
              "66147     2998.0              .    .      O\n",
              "66148     2999.0            The   DT      O\n",
              "66149     2999.0          judge   NN      O\n",
              "66150     2999.0           told  VBD      O\n",
              "66151     2999.0      reporters  NNS      O\n",
              "66152     2999.0              a   DT      O\n",
              "66153     2999.0          trial   NN      O\n",
              "66154     2999.0           date   NN      O\n",
              "66155     2999.0          could   MD      O\n",
              "66156     2999.0             be   VB      O\n",
              "66157     2999.0      announced  VBN      O\n",
              "66158     2999.0         within   IN  B-tim\n",
              "66159     2999.0           days  NNS      O\n",
              "66160     2999.0              .    .      O"
            ]
          },
          "execution_count": 12,
          "metadata": {},
          "output_type": "execute_result"
        }
      ],
      "source": [
        "# Load dataset (Ensure file path is correct)\n",
        "file_path = os.path.join(output_dir, \"GMB_dataset.txt\")  # Adjust file path if needed\n",
        "\n",
        "# Check if files exist\n",
        "if not os.path.exists(file_path):\n",
        "    raise FileNotFoundError(\"File not found. Check the download process and file paths.\")\n",
        "\n",
        "# df = pd.read_csv(file_path, delimiter=\"\\t\", names=[\"Sentence#\", \"Word\", \"POS\", \"Tag\"], skiprows=1)\n",
        "df = pd.read_csv(file_path, delimiter=\"\\t\", names=[\"Sentence#\", \"Word\", \"POS\", \"Tag\"], skiprows=1, encoding=\"latin1\")\n",
        "\n",
        "# Fill missing Sentence# values\n",
        "df[\"Sentence#\"] = df[\"Sentence#\"].fillna(method=\"ffill\")\n",
        "\n",
        "# Display first few rows\n",
        "df.head(20)\n",
        "df.tail(20)"
      ]
    },
    {
      "cell_type": "code",
      "execution_count": null,
      "metadata": {
        "colab": {
          "base_uri": "https://localhost:8080/"
        },
        "id": "nyiMJ2nkZ5Ho",
        "outputId": "4f617367-bc35-4e36-901b-0be6bc287af5"
      },
      "outputs": [
        {
          "name": "stdout",
          "output_type": "stream",
          "text": [
            "<class 'pandas.core.frame.DataFrame'>\n",
            "Index: 66161 entries, 0 to 66160\n",
            "Data columns (total 4 columns):\n",
            " #   Column     Non-Null Count  Dtype  \n",
            "---  ------     --------------  -----  \n",
            " 0   Sentence#  66161 non-null  float64\n",
            " 1   Word       66161 non-null  object \n",
            " 2   POS        66161 non-null  object \n",
            " 3   Tag        66161 non-null  object \n",
            "dtypes: float64(1), object(3)\n",
            "memory usage: 2.5+ MB\n"
          ]
        }
      ],
      "source": [
        "df.info()"
      ]
    },
    {
      "cell_type": "code",
      "execution_count": null,
      "metadata": {
        "colab": {
          "base_uri": "https://localhost:8080/"
        },
        "id": "dS7UzsT4aKna",
        "outputId": "ce0543ab-2d1a-43f6-a8c3-4f24909f4ef4"
      },
      "outputs": [
        {
          "name": "stdout",
          "output_type": "stream",
          "text": [
            "Tag\n",
            "O        56217\n",
            "B-geo     2070\n",
            "B-org     1237\n",
            "I-per     1234\n",
            "B-gpe     1230\n",
            "B-tim     1160\n",
            "B-per     1107\n",
            "I-org      926\n",
            "I-geo      414\n",
            "I-tim      334\n",
            "B-art       53\n",
            "B-eve       45\n",
            "I-eve       37\n",
            "I-gpe       34\n",
            "I-art       34\n",
            "B-nat       20\n",
            "I-nat        9\n",
            "Name: count, dtype: int64\n"
          ]
        }
      ],
      "source": [
        "# Count occurrences of each tag in the dataset\n",
        "tag_counts = df[\"Tag\"].value_counts()\n",
        "\n",
        "# Print tag counts\n",
        "print(tag_counts)"
      ]
    },
    {
      "cell_type": "code",
      "execution_count": null,
      "metadata": {
        "colab": {
          "base_uri": "https://localhost:8080/",
          "height": 512
        },
        "id": "Qvlv-3mWacVr",
        "outputId": "2478a232-6fe4-4e77-9507-860d97cd3c42"
      },
      "outputs": [
        {
          "data": {
            "image/png": "[encoded data removed]",
            "text/plain": [
              "<Figure size 1000x500 with 1 Axes>"
            ]
          },
          "metadata": {},
          "output_type": "display_data"
        }
      ],
      "source": [
        "# Sort tags by frequency for better visualization\n",
        "tag_counts_sorted = tag_counts.sort_values(ascending=False)\n",
        "\n",
        "# Plot bar chart\n",
        "plt.figure(figsize=(10, 5))\n",
        "plt.bar(tag_counts_sorted.index, tag_counts_sorted.values, color='royalblue')\n",
        "plt.xlabel(\"Named Entity Tags\")\n",
        "plt.ylabel(\"Count\")\n",
        "plt.xticks(rotation=45)\n",
        "plt.title(\"Named Entity Tag Distribution\")\n",
        "plt.show()\n",
        "\n"
      ]
    },
    {
      "cell_type": "code",
      "execution_count": null,
      "metadata": {
        "colab": {
          "base_uri": "https://localhost:8080/",
          "height": 512
        },
        "id": "jL7V5RgGavY-",
        "outputId": "152937b3-3e2d-45a2-c321-01d6811b9753"
      },
      "outputs": [
        {
          "data": {
            "image/png": "[encoded data removed]",
            "text/plain": [
              "<Figure size 1000x500 with 1 Axes>"
            ]
          },
          "metadata": {},
          "output_type": "display_data"
        }
      ],
      "source": [
        "tag_counts_filtered = tag_counts.drop(\"O\")\n",
        "\n",
        "tag_counts_sorted = tag_counts_filtered.sort_values(ascending=False)\n",
        "plt.figure(figsize=(10, 5))\n",
        "plt.bar(tag_counts_sorted.index, tag_counts_sorted.values, color='royalblue')\n",
        "plt.xlabel(\"Named Entity Tags\")\n",
        "plt.ylabel(\"Count\")\n",
        "plt.xticks(rotation=45)\n",
        "plt.title(\"Named Entity Tag Distribution (Without 'O')\")\n",
        "plt.show()"
      ]
    },
    {
      "cell_type": "code",
      "execution_count": null,
      "metadata": {
        "colab": {
          "base_uri": "https://localhost:8080/"
        },
        "id": "OIkpEYk-9nJH",
        "outputId": "e46f3c8d-b28e-4875-8aad-a6146939312b"
      },
      "outputs": [
        {
          "name": "stdout",
          "output_type": "stream",
          "text": [
            "Vocabulary size: 8767, Number of Tags: 17\n"
          ]
        }
      ],
      "source": [
        "# Group words by sentences\n",
        "sentences = df.groupby(\"Sentence#\")[\"Word\"].apply(list).values\n",
        "tags = df.groupby(\"Sentence#\")[\"Tag\"].apply(list).values\n",
        "\n",
        "# Create a vocabulary and tag index\n",
        "words = list(set(df[\"Word\"].values))\n",
        "words.append(\"PAD\")  # Add padding token\n",
        "n_words = len(words)\n",
        "\n",
        "tags_set = list(set(df[\"Tag\"].values))\n",
        "n_tags = len(tags_set)\n",
        "\n",
        "# Word-to-index and index-to-word mappings\n",
        "word2idx = {w: i for i, w in enumerate(words)}\n",
        "idx2word = {i: w for w, i in word2idx.items()}\n",
        "\n",
        "# Tag-to-index and index-to-tag mappings\n",
        "tag2idx = {t: i for i, t in enumerate(tags_set)}\n",
        "idx2tag = {i: t for t, i in tag2idx.items()}\n",
        "\n",
        "print(f\"Vocabulary size: {n_words}, Number of Tags: {n_tags}\")\n"
      ]
    },
    {
      "cell_type": "code",
      "execution_count": null,
      "metadata": {
        "colab": {
          "base_uri": "https://localhost:8080/"
        },
        "id": "yLEjX1U59nJI",
        "outputId": "9d70297b-05e5-4427-c3d6-bdf3fb2af17f"
      },
      "outputs": [
        {
          "name": "stdout",
          "output_type": "stream",
          "text": [
            "X_train shape: (2699, 75)\n",
            "y_train shape: (2699, 75)\n",
            "X_test shape: (300, 75)\n",
            "y_test shape: (300, 75)\n",
            "Training Samples: 2699, Testing Samples: 300\n"
          ]
        }
      ],
      "source": [
        "MAX_LEN = 75  # Adjust as needed\n",
        "\n",
        "# Convert words to indices and pad sequences\n",
        "X = [[word2idx[w] for w in s] for s in sentences]\n",
        "X = pad_sequences(maxlen=MAX_LEN, sequences=X, padding=\"post\", value=word2idx[\"PAD\"])\n",
        "\n",
        "# Convert tags to indices and pad sequences\n",
        "y = [[tag2idx[t] for t in s] for s in tags]\n",
        "y = pad_sequences(maxlen=MAX_LEN, sequences=y, padding=\"post\", value=tag2idx[\"O\"])\n",
        "\n",
        "# Convert labels to categorical (one-hot encoding)\n",
        "y = [to_categorical(i, num_classes=n_tags) for i in y]\n",
        "\n",
        "# Train-test split (90% train, 10% test)\n",
        "# X_train, X_test, y_train, y_test = train_test_split(X, y, test_size=0.1, random_state=42)\n",
        "\n",
        "# Convert to NumPy arrays\n",
        "X = np.array(X)\n",
        "y = np.array(y, dtype=np.float32)\n",
        "\n",
        "# Keep the last 10% of rows for testing (instead of random splitting)\n",
        "split_index = int(len(X) * 0.9)\n",
        "X_train, X_test = X[:split_index], X[split_index:]\n",
        "y_train, y_test = y[:split_index], y[split_index:]\n",
        "\n",
        "# Convert y_train and y_test to float32\n",
        "# y_train = np.array(y_train).astype(np.float32)\n",
        "# y_test = np.array(y_test).astype(np.float32)\n",
        "\n",
        "# Convert y_train from one-hot encoding (num_samples, MAX_LEN, n_tags) to (num_samples, MAX_LEN)\n",
        "y_train = np.argmax(y_train, axis=-1)  # Convert one-hot to integer labels\n",
        "y_test = np.argmax(y_test, axis=-1)\n",
        "\n",
        "# Print shapes again\n",
        "print(f\"X_train shape: {X_train.shape}\")  # Should be (num_samples, MAX_LEN)\n",
        "print(f\"y_train shape: {y_train.shape}\")  # Should be (num_samples, MAX_LEN)\n",
        "print(f\"X_test shape: {X_test.shape}\")  # Should be (num_samples, MAX_LEN)\n",
        "print(f\"y_test shape: {y_test.shape}\")  # Should be (num_samples, MAX_LEN)\n",
        "\n",
        "print(f\"Training Samples: {len(X_train)}, Testing Samples: {len(X_test)}\")\n"
      ]
    },
    {
      "cell_type": "code",
      "execution_count": null,
      "metadata": {
        "colab": {
          "base_uri": "https://localhost:8080/"
        },
        "id": "A7_t6lRXddtu",
        "outputId": "41087539-7d76-4c56-95c6-902c38f9daaa"
      },
      "outputs": [
        {
          "name": "stdout",
          "output_type": "stream",
          "text": [
            "Unique Labels in y_train: [ 0  1  2  3  4  5  6  7  8  9 10 11 12 13 14 15 16]\n"
          ]
        }
      ],
      "source": [
        "# Check unique values in y_train\n",
        "unique_labels = np.unique(y_train)\n",
        "print(\"Unique Labels in y_train:\", unique_labels)"
      ]
    },
    {
      "cell_type": "code",
      "execution_count": null,
      "metadata": {
        "colab": {
          "base_uri": "https://localhost:8080/"
        },
        "id": "chFKiwiXKm1A",
        "outputId": "4711759e-6cd2-40af-ac9e-957178c93b1c"
      },
      "outputs": [
        {
          "data": {
            "text/plain": [
              "array([[7203, 6262, 7171, ..., 8766, 8766, 8766],\n",
              "       [1429, 6262, 8303, ..., 8766, 8766, 8766],\n",
              "       [ 708, 7095, 6719, ..., 8766, 8766, 8766],\n",
              "       ...,\n",
              "       [  66, 6029, 3310, ..., 8766, 8766, 8766],\n",
              "       [1547, 1792,   19, ..., 8766, 8766, 8766],\n",
              "       [1547, 1792, 6029, ..., 8766, 8766, 8766]], dtype=int32)"
            ]
          },
          "execution_count": 16,
          "metadata": {},
          "output_type": "execute_result"
        }
      ],
      "source": [
        "X_train"
      ]
    },
    {
      "cell_type": "code",
      "execution_count": null,
      "metadata": {
        "colab": {
          "base_uri": "https://localhost:8080/"
        },
        "id": "UloaYpz5H3s8",
        "outputId": "56d4a141-f796-4263-c551-157eb9425c6f"
      },
      "outputs": [
        {
          "name": "stdout",
          "output_type": "stream",
          "text": [
            "Requirement already satisfied: tensorflow-addons in /usr/local/lib/python3.11/dist-packages (0.21.0)\n",
            "Requirement already satisfied: packaging in /usr/local/lib/python3.11/dist-packages (from tensorflow-addons) (24.2)\n",
            "Requirement already satisfied: typeguard<3.0.0,>=2.7 in /usr/local/lib/python3.11/dist-packages (from tensorflow-addons) (2.13.3)\n"
          ]
        }
      ],
      "source": [
        "%pip install tensorflow-addons\n"
      ]
    },
    {
      "cell_type": "code",
      "execution_count": null,
      "metadata": {
        "id": "-R154XyFILP8"
      },
      "outputs": [],
      "source": [
        "import tensorflow_addons as tfa\n",
        "from tensorflow_addons.text import crf_log_likelihood"
      ]
    },
    {
      "cell_type": "code",
      "execution_count": null,
      "metadata": {
        "id": "7Y8Kd-ldSmEr"
      },
      "outputs": [],
      "source": [
        "import tensorflow.keras.backend as K\n",
        "\n",
        "def focal_loss(alpha=0.25, gamma=2.0):\n",
        "    def loss(y_true, y_pred):\n",
        "        # One-hot encode y_true to match the shape of y_pred\n",
        "        y_true = tf.one_hot(tf.cast(y_true, tf.int32), depth=tf.shape(y_pred)[-1])\n",
        "        y_pred = K.clip(y_pred, 1e-9, 1.0)  # Avoid log(0)\n",
        "\n",
        "        ce_loss = -y_true * K.log(y_pred)  # Standard Crossentropy\n",
        "        weight = K.pow(1 - y_pred, gamma)  # Apply focal weight\n",
        "        return alpha * weight * ce_loss\n",
        "\n",
        "    return loss"
      ]
    },
    {
      "cell_type": "code",
      "execution_count": null,
      "metadata": {
        "colab": {
          "base_uri": "https://localhost:8080/"
        },
        "id": "8KMmt43i9nJJ",
        "outputId": "c739aee3-ccb1-4fc3-b051-57132020da6c"
      },
      "outputs": [
        {
          "name": "stdout",
          "output_type": "stream",
          "text": [
            "Model: \"model_4\"\n",
            "_________________________________________________________________\n",
            " Layer (type)                Output Shape              Param #   \n",
            "=================================================================\n",
            " input_5 (InputLayer)        [(None, 75)]              0         \n",
            "                                                                 \n",
            " embedding_4 (Embedding)     (None, 75, 200)           1753400   \n",
            "                                                                 \n",
            " bidirectional_4 (Bidirecti  (None, 75, 128)           135680    \n",
            " onal)                                                           \n",
            "                                                                 \n",
            " time_distributed_4 (TimeDi  (None, 75, 17)            2193      \n",
            " stributed)                                                      \n",
            "                                                                 \n",
            " crf_4 (CRF)                 [(None, 75),              629       \n",
            "                              (None, 75, 17),                    \n",
            "                              (None,),                           \n",
            "                              (17, 17)]                          \n",
            "                                                                 \n",
            "=================================================================\n",
            "Total params: 1891902 (7.22 MB)\n",
            "Trainable params: 1891902 (7.22 MB)\n",
            "Non-trainable params: 0 (0.00 Byte)\n",
            "_________________________________________________________________\n"
          ]
        }
      ],
      "source": [
        "EMBEDDING_DIM = 200  # Embedding size\n",
        "\n",
        "# Define Model\n",
        "input_layer = Input(shape=(MAX_LEN,))\n",
        "\n",
        "# Embedding Layer\n",
        "embedding = Embedding(input_dim=n_words, output_dim=EMBEDDING_DIM, input_length=MAX_LEN)(input_layer)\n",
        "\n",
        "# BiLSTM Layer\n",
        "bi_lstm = Bidirectional(LSTM(units=64, return_sequences=True, dropout=0.5, recurrent_dropout=0.25))(embedding)\n",
        "\n",
        "# TimeDistributed Dense Layer\n",
        "dense = TimeDistributed(Dense(n_tags, activation=\"relu\"))(bi_lstm)\n",
        "\n",
        "# CRF Layer\n",
        "crf_layer = tfa.layers.CRF(n_tags)\n",
        "\n",
        "# ----------\n",
        "# Extract the correct output from CRF (we only need (None, 70, 17))\n",
        "crf_output = crf_layer(dense)[1]  # Select (None, 50, 17) -> Full logits\n",
        "\n",
        "# Compile Model with Correct Output\n",
        "model = Model(input_layer, crf_output)\n",
        "\n",
        "adam = k.optimizers.Adam(learning_rate=0.0005, beta_1=0.9, beta_2=0.999)\n",
        "\n",
        "# model.compile(optimizer=\"adam\", loss=tf.keras.losses.SparseCategoricalCrossentropy(from_logits=True), metrics=[\"accuracy\"], run_eagerly=True)\n",
        "model.compile(optimizer=adam, loss=focal_loss(alpha=0.25, gamma=2.0), metrics=[\"accuracy\"], run_eagerly=True)\n",
        "\n",
        "# --------\n",
        "\n",
        "model.summary()"
      ]
    },
    {
      "cell_type": "code",
      "execution_count": null,
      "metadata": {
        "colab": {
          "base_uri": "https://localhost:8080/"
        },
        "id": "PLy0gwafI9nG",
        "outputId": "f7be9cc1-d2cf-4961-d850-3395c57e2704"
      },
      "outputs": [
        {
          "name": "stdout",
          "output_type": "stream",
          "text": [
            "X_train shape: (2699, 75)\n",
            "y_train shape: (2699, 75)\n"
          ]
        }
      ],
      "source": [
        "print(f\"X_train shape: {X_train.shape}\")  # Should be (num_samples, MAX_LEN)\n",
        "print(f\"y_train shape: {y_train.shape}\")  # Should be (num_samples, MAX_LEN)\n"
      ]
    },
    {
      "cell_type": "code",
      "execution_count": null,
      "metadata": {
        "id": "MabqO73gSjb-"
      },
      "outputs": [],
      "source": [
        "import os\n",
        "import warnings\n",
        "import tensorflow as tf\n",
        "\n",
        "# Suppress TensorFlow and other warnings\n",
        "os.environ['TF_CPP_MIN_LOG_LEVEL'] = '3'  # Suppress TF logs (1=INFO, 2=WARNING, 3=ERROR)\n",
        "warnings.filterwarnings(\"ignore\")  # Ignore all Python warnings\n",
        "\n",
        "# Disable TensorFlow eager execution warnings (if needed)\n",
        "tf.get_logger().setLevel('ERROR')"
      ]
    },
    {
      "cell_type": "code",
      "execution_count": null,
      "metadata": {
        "colab": {
          "base_uri": "https://localhost:8080/"
        },
        "id": "QyIH1FFD9nJM",
        "outputId": "0486c7d1-8b65-484d-ba4a-cf4792bd3cf0"
      },
      "outputs": [
        {
          "name": "stdout",
          "output_type": "stream",
          "text": [
            "Epoch 1/2\n",
            "19/19 [==============================] - 77s 4s/step - loss: 0.0316 - accuracy: 0.8118 - val_loss: 0.0126 - val_accuracy: 0.9532\n",
            "Epoch 2/2\n",
            "19/19 [==============================] - 71s 4s/step - loss: 0.0073 - accuracy: 0.9555 - val_loss: 0.0033 - val_accuracy: 0.9534\n"
          ]
        }
      ],
      "source": [
        "from tensorflow.keras.callbacks import ModelCheckpoint\n",
        "\n",
        "# Define checkpoint to save the best model\n",
        "checkpoint = ModelCheckpoint(\"best_crf_model.h5\", monitor=\"val_accuracy\", save_best_only=True, mode=\"max\")\n",
        "\n",
        "# Train Model\n",
        "EPOCHS = 2\n",
        "BATCH_SIZE = 128\n",
        "\n",
        "history = model.fit(\n",
        "    X_train, y_train,\n",
        "    batch_size=BATCH_SIZE,\n",
        "    epochs=EPOCHS,\n",
        "    validation_split=0.1,\n",
        "    verbose=1,\n",
        "    callbacks=[checkpoint]\n",
        ")\n"
      ]
    },
    {
      "cell_type": "code",
      "execution_count": null,
      "metadata": {
        "id": "fynTOGNVUlYH"
      },
      "outputs": [],
      "source": [
        "hist = pd.DataFrame(history.history)"
      ]
    },
    {
      "cell_type": "code",
      "execution_count": null,
      "metadata": {
        "colab": {
          "base_uri": "https://localhost:8080/",
          "height": 984
        },
        "id": "6FCOvH1yUqoz",
        "outputId": "facebcac-5cab-40d8-d2a7-0a088be9d72e"
      },
      "outputs": [
        {
          "data": {
            "image/png": "[encoded data removed]",
            "text/plain": [
              "<Figure size 1200x1200 with 1 Axes>"
            ]
          },
          "metadata": {},
          "output_type": "display_data"
        }
      ],
      "source": [
        "plt.style.use(\"ggplot\")\n",
        "plt.figure(figsize=(12,12))\n",
        "plt.plot(hist[\"accuracy\"])\n",
        "plt.plot(hist[\"val_accuracy\"])\n",
        "plt.show()"
      ]
    },
    {
      "cell_type": "code",
      "execution_count": null,
      "metadata": {
        "id": "TGsJuTx0XliK"
      },
      "outputs": [],
      "source": [
        "from sklearn.metrics import classification_report"
      ]
    },
    {
      "cell_type": "code",
      "execution_count": null,
      "metadata": {
        "id": "ri8_u1NIWe7N"
      },
      "outputs": [],
      "source": [
        "def pred2label(pred):\n",
        "    out = []\n",
        "    for pred_i in pred:\n",
        "        out_i = []\n",
        "        for p in pred_i:\n",
        "            p_i = np.argmax(p)\n",
        "            out_i.append(idx2tag[p_i].replace(\"PAD\", \"O\"))\n",
        "        out.append(out_i)\n",
        "    return out"
      ]
    },
    {
      "cell_type": "code",
      "execution_count": null,
      "metadata": {
        "colab": {
          "base_uri": "https://localhost:8080/"
        },
        "id": "tGcMFNSFVLv2",
        "outputId": "29d6dd24-a827-4c7a-e9b8-48bf473616a4"
      },
      "outputs": [
        {
          "name": "stdout",
          "output_type": "stream",
          "text": [
            "10/10 [==============================] - 18s 2s/step\n"
          ]
        }
      ],
      "source": [
        "# Evaluate on Test Set\n",
        "test_pred = model.predict(X_test, verbose=1)\n"
      ]
    },
    {
      "cell_type": "code",
      "execution_count": null,
      "metadata": {
        "id": "7Zqbym3kWzZ0"
      },
      "outputs": [],
      "source": [
        "pred_labels = pred2label(test_pred)\n",
        "test_labels = pred2label(y_test)"
      ]
    },
    {
      "cell_type": "code",
      "execution_count": null,
      "metadata": {
        "colab": {
          "base_uri": "https://localhost:8080/"
        },
        "id": "TOWDGCg9W4lu",
        "outputId": "7abab9ab-b785-474e-ee76-3df2c338737f"
      },
      "outputs": [
        {
          "name": "stdout",
          "output_type": "stream",
          "text": [
            "              precision    recall  f1-score   support\n",
            "\n",
            "       I-eve       0.00      0.00      0.00   22500.0\n",
            "           O       0.00      0.00      0.00       0.0\n",
            "\n",
            "    accuracy                           0.00   22500.0\n",
            "   macro avg       0.00      0.00      0.00   22500.0\n",
            "weighted avg       0.00      0.00      0.00   22500.0\n",
            "\n"
          ]
        }
      ],
      "source": [
        "# classification_report(test_labels, pred_labels)\n",
        "\n",
        "# Flatten the lists\n",
        "test_labels_flat = [item for sublist in test_labels for item in sublist]\n",
        "pred_labels_flat = [item for sublist in pred_labels for item in sublist]\n",
        "\n",
        "# Generate the classification report using the flattened lists\n",
        "print(classification_report(test_labels_flat, pred_labels_flat))"
      ]
    },
    {
      "cell_type": "code",
      "execution_count": null,
      "metadata": {
        "id": "6H82mOecWbae"
      },
      "outputs": [],
      "source": [
        "# Convert predictions to tag labels (apply argmax)\n",
        "test_pred = np.argmax(test_pred, axis=-1)  # Convert logits to integer labels\n",
        "\n",
        "# Convert predicted indices to tags\n",
        "pred_tags = [[idx2tag[tag] for tag in sentence] for sentence in test_pred]\n",
        "\n",
        "# Convert true indices to tags (no need for argmax, y_test is already integer)\n",
        "true_tags = [[idx2tag[tag] for tag in sentence] for sentence in y_test]\n",
        "\n",
        "# Calculate accuracy\n",
        "accuracy = np.mean([1 if pred == true else 0 for p, t in zip(pred_tags, true_tags) for pred, true in zip(p, t)])\n",
        "print(f\"Test Accuracy: {accuracy:.4f}\")"
      ]
    },
    {
      "cell_type": "code",
      "execution_count": null,
      "metadata": {
        "colab": {
          "base_uri": "https://localhost:8080/"
        },
        "id": "wQ9senEKYwS3",
        "outputId": "102c829d-3e93-4e27-e495-34548a4573b8"
      },
      "outputs": [
        {
          "name": "stdout",
          "output_type": "stream",
          "text": [
            "10/10 [==============================] - 8s 808ms/step\n",
            "Named Entity Recognition - Classification Report:\n",
            "\n",
            "              precision    recall  f1-score   support\n",
            "\n",
            "       B-per       0.00      0.00      0.00       144\n",
            "       B-org       0.00      0.00      0.00       101\n",
            "           O       0.93      1.00      0.97     13999\n",
            "       I-geo       0.00      0.00      0.00        34\n",
            "       B-eve       0.00      0.00      0.00         4\n",
            "       B-nat       0.00      0.00      0.00         1\n",
            "       I-art       0.00      0.00      0.00         0\n",
            "       I-gpe       0.00      0.00      0.00         2\n",
            "       I-nat       0.00      0.00      0.00         0\n",
            "       B-tim       0.00      0.00      0.00       113\n",
            "       B-gpe       0.00      0.00      0.00        93\n",
            "       I-org       0.00      0.00      0.00        96\n",
            "       I-per       0.00      0.00      0.00       127\n",
            "       I-eve       0.00      0.00      0.00         4\n",
            "       B-art       0.00      0.00      0.00         0\n",
            "       B-geo       0.00      0.00      0.00       250\n",
            "       I-tim       0.00      0.00      0.00        32\n",
            "\n",
            "    accuracy                           0.93     15000\n",
            "   macro avg       0.05      0.06      0.06     15000\n",
            "weighted avg       0.87      0.93      0.90     15000\n",
            "\n",
            "\n",
            "🔹 **Final Model Performance Metrics:**\n",
            "⚡ Test Accuracy: 0.9333\n",
            "📌 Macro Precision: 0.0667\n",
            "📌 Macro Recall: 0.0714\n",
            "📌 Macro F1-Score: 0.0690\n"
          ]
        }
      ],
      "source": [
        "from sklearn.metrics import classification_report, accuracy_score, precision_score, recall_score, f1_score\n",
        "\n",
        "# Run inference on test dataset\n",
        "test_pred = model.predict(X_test)\n",
        "\n",
        "# Convert logits to predicted class indices\n",
        "test_pred = np.argmax(test_pred, axis=-1)  # Shape: (num_samples, MAX_LEN)\n",
        "\n",
        "# Convert true labels from test set (already in integer format)\n",
        "y_test_flat = y_test.flatten()  # Flatten from (num_samples, MAX_LEN) -> (total tokens)\n",
        "y_pred_flat = test_pred.flatten()  # Flatten predictions similarly\n",
        "\n",
        "# ✅ Remove \"O\" tokens from both `y_test` and `y_pred`\n",
        "# mask = (y_test_flat != tag2idx[\"O\"])  # Ignore \"O\" tokens if needed\n",
        "# y_test_flat = y_test_flat[mask]  # Apply mask\n",
        "# y_pred_flat = y_pred_flat[mask]  # Apply same mask to predictions\n",
        "\n",
        "# ✅ Ensure `y_pred_flat` is an integer type\n",
        "y_pred_flat = y_pred_flat.astype(int)\n",
        "\n",
        "# ✅ Compute Classification Report (Precision, Recall, F1-Score)\n",
        "print(\"Named Entity Recognition - Classification Report:\\n\")\n",
        "print(classification_report(\n",
        "    y_test_flat, y_pred_flat,\n",
        "    labels=list(range(n_tags)),  # Include all class indices\n",
        "    target_names=list(tag2idx.keys()),  # Map indices to class names\n",
        "    zero_division=0  # Handle missing classes gracefully\n",
        "))\n",
        "\n",
        "# ✅ Compute Overall Accuracy\n",
        "accuracy = accuracy_score(y_test_flat, y_pred_flat)\n",
        "\n",
        "# ✅ Compute Macro & Weighted Precision, Recall, and F1-score\n",
        "precision = precision_score(y_test_flat, y_pred_flat, average=\"macro\", zero_division=0)\n",
        "recall = recall_score(y_test_flat, y_pred_flat, average=\"macro\", zero_division=0)\n",
        "f1 = f1_score(y_test_flat, y_pred_flat, average=\"macro\", zero_division=0)\n",
        "\n",
        "# ✅ Print All Metrics\n",
        "print(\"\\n🔹 **Final Model Performance Metrics:**\")\n",
        "print(f\"⚡ Test Accuracy: {accuracy:.4f}\")\n",
        "print(f\"📌 Macro Precision: {precision:.4f}\")\n",
        "print(f\"📌 Macro Recall: {recall:.4f}\")\n",
        "print(f\"📌 Macro F1-Score: {f1:.4f}\")\n"
      ]
    },
    {
      "cell_type": "code",
      "execution_count": null,
      "metadata": {
        "id": "VFz9t7-aXtNy"
      },
      "outputs": [],
      "source": [
        "# # Convert true labels from test set\n",
        "# y_test_flat = y_test.flatten()  # Flatten from (num_samples, MAX_LEN) -> (total tokens)\n",
        "# y_pred_flat = test_pred.flatten()  # Flatten predictions similarly\n",
        "\n",
        "# # ✅ Remove \"O\" tokens from both y_test and y_pred\n",
        "# mask = (y_test_flat != tag2idx[\"O\"])  # Mask for valid NER labels\n",
        "# y_test_flat = y_test_flat[mask]  # Apply mask\n",
        "# y_pred_flat = y_pred_flat[mask]  # Apply same mask to predictions\n",
        "\n",
        "# # ✅ Ensure `y_pred_flat` is an integer type\n",
        "# y_pred_flat = y_pred_flat.astype(int)\n",
        "\n",
        "# # Generate classification report with all classes included\n",
        "# print(\"Named Entity Recognition - Classification Report:\\n\")\n",
        "# print(classification_report(\n",
        "#     y_test_flat, y_pred_flat,\n",
        "#     labels=list(range(n_tags)),  # Include all class indices\n",
        "#     target_names=list(tag2idx.keys()),  # Map indices to class names\n",
        "#     zero_division=0  # Handle missing classes gracefully\n",
        "# ))"
      ]
    },
    {
      "cell_type": "code",
      "execution_count": null,
      "metadata": {
        "id": "3ubjAMRn9nJX"
      },
      "outputs": [],
      "source": [
        "from tensorflow.keras.models import load_model\n",
        "\n",
        "# Load the best saved model\n",
        "model = load_model(\"best_crf_model.h5\", custom_objects={\"CRF\": tfa.layers.CRF})"
      ]
    },
    {
      "cell_type": "code",
      "execution_count": null,
      "metadata": {
        "id": "bwsSDiYKXXcR"
      },
      "outputs": [],
      "source": [
        "# Tokenize and pad example sentence\n",
        "def preprocess_sentence(sentence, word2idx, max_len=MAX_LEN):\n",
        "    tokens = sentence.split()  # Tokenize sentence\n",
        "    token_ids = [word2idx.get(w, word2idx[\"PAD\"]) for w in tokens]  # Convert words to indices\n",
        "    padded_seq = pad_sequences([token_ids], maxlen=max_len, padding=\"post\", value=word2idx[\"PAD\"])\n",
        "    return padded_seq"
      ]
    },
    {
      "cell_type": "code",
      "execution_count": null,
      "metadata": {
        "id": "MWVcnRcO9nJY"
      },
      "outputs": [],
      "source": [
        "example = \"Vietnam is a beautiful country\"\n",
        "\n",
        "# Convert example sentence to model input\n",
        "example_sequence = preprocess_sentence(example, word2idx)\n"
      ]
    },
    {
      "cell_type": "code",
      "execution_count": null,
      "metadata": {
        "colab": {
          "base_uri": "https://localhost:8080/"
        },
        "id": "IUPMocvf9nJY",
        "outputId": "29c72fc7-779e-4d06-f2ff-14a1710bb401"
      },
      "outputs": [
        {
          "name": "stdout",
          "output_type": "stream",
          "text": [
            "1/1 [==============================] - 1s 698ms/step\n",
            "Vietnam: O\n",
            "is: O\n",
            "a: O\n",
            "beautiful: O\n",
            "country: O\n"
          ]
        }
      ],
      "source": [
        "# Run model inference\n",
        "pred = model.predict(example_sequence)\n",
        "\n",
        "# Convert predictions to tag indices\n",
        "pred_indices = np.argmax(pred, axis=-1)[0]  # Extract first (and only) sentence\n",
        "\n",
        "# Convert indices to tag labels\n",
        "pred_tags = [idx2tag[idx] for idx in pred_indices]\n",
        "\n",
        "# Print result\n",
        "for word, tag in zip(example.split(), pred_tags[:len(example.split())]):\n",
        "    print(f\"{word}: {tag}\")\n"
      ]
    },
    {
      "cell_type": "code",
      "execution_count": null,
      "metadata": {
        "id": "Za3FW-7e9nJZ"
      },
      "outputs": [],
      "source": []
    }
  ],
  "metadata": {
    "accelerator": "GPU",
    "colab": {
      "gpuType": "T4",
      "provenance": []
    },
    "kernelspec": {
      "display_name": "Python 3",
      "name": "python3"
    },
    "language_info": {
      "codemirror_mode": {
        "name": "ipython",
        "version": 3
      },
      "file_extension": ".py",
      "mimetype": "text/x-python",
      "name": "python",
      "nbconvert_exporter": "python",
      "pygments_lexer": "ipython3",
      "version": "3.12.8"
    }
  },
  "nbformat": 4,
  "nbformat_minor": 0
}
